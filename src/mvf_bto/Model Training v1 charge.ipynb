{
 "cells": [
  {
   "cell_type": "code",
   "execution_count": null,
   "id": "2d2f7bac",
   "metadata": {},
   "outputs": [],
   "source": [
    "%load_ext autoreload\n",
    "%autoreload 2"
   ]
  },
  {
   "cell_type": "code",
   "execution_count": null,
   "id": "9821c3a9",
   "metadata": {},
   "outputs": [],
   "source": [
    "from mvf_bto.data_loading import load_data\n",
    "from mvf_bto.constants import * \n",
    "from mvf_bto.models.baseline_lstm import BaselineLSTM\n",
    "from mvf_bto.preprocessing import create_discharge_inputs, create_charge_inputs\n",
    "\n",
    "from tensorflow.keras.callbacks import EarlyStopping\n",
    "from tensorflow.keras.metrics import MeanSquaredError\n",
    "\n",
    "import numpy as np\n",
    "import pandas as pd\n",
    "import plotly\n",
    "import plotly.graph_objects as go"
   ]
  },
  {
   "cell_type": "markdown",
   "id": "39585647",
   "metadata": {},
   "source": [
    "## Loading Data"
   ]
  },
  {
   "cell_type": "code",
   "execution_count": null,
   "id": "25011aae",
   "metadata": {},
   "outputs": [],
   "source": [
    "data_path = \"/Users/anoushkabhutani/PycharmProjects/10701-mvf-bto/data/2017-05-12_batchdata_updated_struct_errorcorrect.mat\"\n",
    "# data_path = \"/Users/mac/Desktop/CMU/10701MachineLearning/project/10701-mvf-bto-backup/data/2017-05-12_batchdata_updated_struct_errorcorrect.mat\""
   ]
  },
  {
   "cell_type": "code",
   "execution_count": null,
   "id": "cdb39ad4",
   "metadata": {},
   "outputs": [],
   "source": [
    "data = load_data(file_path=data_path, num_cells=4)"
   ]
  },
  {
   "cell_type": "markdown",
   "id": "60797a1a",
   "metadata": {},
   "source": [
    "## Preprocessing to create model inputs and targets"
   ]
  },
  {
   "cell_type": "code",
   "execution_count": null,
   "id": "2d000582",
   "metadata": {},
   "outputs": [],
   "source": [
    "train_split = 0.7\n",
    "test_split = 0.2\n",
    "# by default uses validation_split = 1 - (train_split + test_split)"
   ]
  },
  {
   "cell_type": "code",
   "execution_count": null,
   "id": "a8889426",
   "metadata": {},
   "outputs": [],
   "source": [
    "datasets = create_charge_inputs(data, train_split, test_split)"
   ]
  },
  {
   "cell_type": "markdown",
   "id": "bf6d54f1",
   "metadata": {},
   "source": [
    "## Train Model"
   ]
  },
  {
   "cell_type": "code",
   "execution_count": null,
   "id": "5cc470da",
   "metadata": {},
   "outputs": [],
   "source": [
    "window_length = datasets[\"X_train\"].shape[1]\n",
    "n_features = datasets[\"X_train\"].shape[2]\n",
    "batch_size=datasets[\"batch_size\"]\n",
    "batch_input_shape = (datasets[\"batch_size\"], window_length, n_features)\n",
    "n_outputs = datasets[\"y_train\"].shape[-1]\n",
    "print(window_length, n_features, batch_input_shape, batch_size, n_outputs,datasets[\"X_train\"].shape[0]//batch_size)"
   ]
  },
  {
   "cell_type": "code",
   "execution_count": null,
   "id": "67f3fadb",
   "metadata": {},
   "outputs": [],
   "source": [
    "model = BaselineLSTM(batch_input_shape=batch_input_shape, n_outputs=n_outputs)"
   ]
  },
  {
   "cell_type": "code",
   "execution_count": null,
   "id": "992a729d",
   "metadata": {},
   "outputs": [],
   "source": [
    "model.compile(optimizer=\"adam\", loss=\"mse\", metrics=[MeanSquaredError()])"
   ]
  },
  {
   "cell_type": "code",
   "execution_count": null,
   "id": "e4ecdcd0",
   "metadata": {},
   "outputs": [],
   "source": [
    "skip=100\n",
    "fig = go.Figure()\n",
    "pallete = plotly.colors.qualitative.Dark24*(len(datasets[\"X_train\"])//skip)\n",
    "\n",
    "for i in range(0, len(datasets[\"X_train\"]), batch_size * skip):\n",
    "\n",
    "    df_true = pd.DataFrame(datasets[\"y_train\"][i : i + batch_size, 0])\n",
    "    \n",
    "    fig.add_trace(\n",
    "        go.Scatter(\n",
    "            x=REFERENCE_CHARGE_CAPACITIES[-batch_size:],\n",
    "            y=df_true[0].values*(VOLTAGE_MAX - VOLTAGE_MIN) + VOLTAGE_MIN,\n",
    "            showlegend=True,\n",
    "            mode=\"lines+markers\",\n",
    "            name = f\"Curve {i//batch_size+1}\",\n",
    "            line_color=pallete[i//skip]\n",
    "        )\n",
    "    )\n",
    "\n",
    "fig.update_yaxes(title=\"Voltage [V]\")\n",
    "fig.update_xaxes(title=\"State of Charge (Normalized Capacity)\")"
   ]
  },
  {
   "cell_type": "code",
   "execution_count": null,
   "id": "bbeabde3",
   "metadata": {},
   "outputs": [],
   "source": [
    "model = BaselineLSTM(batch_input_shape=batch_input_shape, n_outputs=n_outputs)\n",
    "model.compile(optimizer=\"adam\", loss=\"mse\", metrics=[MeanSquaredError()])\n",
    "\n",
    "es = EarlyStopping(\n",
    "    monitor=\"val_mean_squared_error\",\n",
    "    min_delta=0,\n",
    "    patience=30,\n",
    "    verbose=1,\n",
    "    mode=\"auto\",\n",
    "    restore_best_weights=True,\n",
    ")\n",
    "\n",
    "history = model.fit(\n",
    "    datasets[\"X_train\"],\n",
    "    datasets[\"y_train\"],\n",
    "    validation_data=(datasets[\"X_val\"], datasets[\"y_val\"]),\n",
    "    epochs=150,\n",
    "    batch_size=datasets[\"batch_size\"],\n",
    "    shuffle=False,\n",
    "    callbacks=[es],\n",
    "    verbose=1,\n",
    ")"
   ]
  },
  {
   "cell_type": "code",
   "execution_count": null,
   "id": "d14c1f0b",
   "metadata": {},
   "outputs": [],
   "source": [
    "fig = go.Figure()\n",
    "fig.add_trace(\n",
    "    go.Scatter(\n",
    "        x=np.linspace(1, 50),\n",
    "        y=history.history[\"loss\"],\n",
    "        showlegend=False,\n",
    "        mode=\"markers+lines\",\n",
    "    )\n",
    ")\n",
    "fig.update_xaxes(title=\"Epochs\")\n",
    "fig.update_yaxes(title=\"Loss (MSE)\")"
   ]
  },
  {
   "cell_type": "markdown",
   "id": "feec5843",
   "metadata": {},
   "source": [
    "## Parity Plot of Training Error"
   ]
  },
  {
   "cell_type": "code",
   "execution_count": null,
   "id": "f23d7401",
   "metadata": {},
   "outputs": [],
   "source": [
    "pd.DataFrame(datasets[\"y_train\"][:,0,:])"
   ]
  },
  {
   "cell_type": "code",
   "execution_count": null,
   "id": "87148d63",
   "metadata": {},
   "outputs": [],
   "source": [
    "# random plotting traing error at some interval = skip to not make the plot rendering too slow\n",
    "batch_size = datasets[\"batch_size\"]\n",
    "skip = 600\n",
    "\n",
    "fig = go.Figure()\n",
    "fig.add_trace(go.Scatter(x=[0, 1.5], y=[0, 1.5], showlegend=False, mode=\"markers+lines\"))\n",
    "for i in range(0, len(datasets[\"X_train\"]), batch_size * skip):\n",
    "    df_pred = pd.DataFrame(model.predict(datasets[\"X_train\"][i : i + batch_size], verbose=0, batch_size=batch_size)[:,0,:])\n",
    "    df_train = pd.DataFrame(datasets[\"y_train\"][:,0,:])\n",
    "    fig.add_trace(\n",
    "        go.Scatter(\n",
    "            x=df_pred[0].values,\n",
    "            y=df_train[0].values,\n",
    "            showlegend=False,\n",
    "            mode=\"markers+lines\",\n",
    "        )\n",
    "    )\n",
    "\n",
    "fig.update_yaxes(title=\"Normalized Voltage Target\")\n",
    "fig.update_xaxes(title=\"Normalized Voltage Prediction\")"
   ]
  },
  {
   "cell_type": "code",
   "execution_count": null,
   "id": "32217966",
   "metadata": {},
   "outputs": [],
   "source": [
    "fig = go.Figure()\n",
    "fig.add_trace(go.Scatter(x=[0, 1.5], y=[0, 1.5], showlegend=False, mode=\"markers+lines\"))\n",
    "for i in range(0, len(datasets[\"X_train\"]), batch_size * skip):\n",
    "    df_pred = pd.DataFrame(model.predict(datasets[\"X_train\"][i : i + batch_size], verbose=0, batch_size=batch_size)[:,0,:])\n",
    "    df_train = pd.DataFrame(datasets[\"y_train\"][:,0,:])\n",
    "    fig.add_trace(\n",
    "        go.Scatter(\n",
    "            x=df_pred[1].values,\n",
    "            y=df_train[1].values,\n",
    "            showlegend=False,\n",
    "            mode=\"markers+lines\",\n",
    "        )\n",
    "    )\n",
    "\n",
    "fig.update_yaxes(title=\"Normalized Temperature Target\")\n",
    "fig.update_xaxes(title=\"Normalized Temperature Prediction\")"
   ]
  },
  {
   "cell_type": "markdown",
   "id": "ad2d8e25",
   "metadata": {},
   "source": [
    "## Parity Plot of Test Error"
   ]
  },
  {
   "cell_type": "code",
   "execution_count": null,
   "id": "c8d98a13",
   "metadata": {},
   "outputs": [],
   "source": [
    "skip = 50\n",
    "\n",
    "fig = go.Figure()\n",
    "fig.add_trace(go.Scatter(x=[0, 1.5], y=[0, 1.5], showlegend=False, mode=\"markers+lines\"))\n",
    "for i in range(0, len(datasets[\"X_test\"]), batch_size * skip):\n",
    "    df_pred = pd.DataFrame(model.predict(datasets[\"X_test\"][i : i + batch_size], verbose=0, batch_size=batch_size)[:,0,:])\n",
    "    df_train = pd.DataFrame(datasets[\"y_test\"][:,0,:])\n",
    "    fig.add_trace(\n",
    "        go.Scatter(\n",
    "            x=df_pred[0].values,\n",
    "            y=df_train[0].values,\n",
    "            showlegend=False,\n",
    "            mode=\"markers+lines\",\n",
    "        )\n",
    "    )\n",
    "\n",
    "fig.update_yaxes(title=\"Normalized Voltage Target\")\n",
    "fig.update_xaxes(title=\"Normalized Voltage Prediction\")"
   ]
  },
  {
   "cell_type": "code",
   "execution_count": null,
   "id": "38f2bba0",
   "metadata": {},
   "outputs": [],
   "source": [
    "fig = go.Figure()\n",
    "fig.add_trace(go.Scatter(x=[0, 1.5], y=[0, 1.5], showlegend=False, mode=\"markers+lines\"))\n",
    "for i in range(0, len(datasets[\"X_test\"]), batch_size * skip):\n",
    "    df_pred = pd.DataFrame(model.predict(datasets[\"X_test\"][i : i + batch_size], verbose=0, batch_size=batch_size)[:,0,:])\n",
    "    df_train = pd.DataFrame(datasets[\"y_test\"][:,0,:])\n",
    "    fig.add_trace(\n",
    "        go.Scatter(\n",
    "            x=df_pred[1].values,\n",
    "            y=df_train[1].values,\n",
    "            showlegend=False,\n",
    "            mode=\"markers+lines\",\n",
    "        ))\n",
    "fig.update_yaxes(title=\"Normalized Voltage Target\")\n",
    "fig.update_xaxes(title=\"Normalized Voltage Prediction\")"
   ]
  },
  {
   "cell_type": "markdown",
   "id": "de10e402",
   "metadata": {},
   "source": [
    "## True vs Predicted Traces (Test Set)"
   ]
  },
  {
   "cell_type": "code",
   "execution_count": null,
   "id": "7001f271",
   "metadata": {},
   "outputs": [],
   "source": [
    "skip = 20\n",
    "\n",
    "pallete = plotly.colors.qualitative.Dark24*(len(datasets[\"X_test\"])//skip)\n",
    "\n",
    "fig = go.Figure()\n",
    "for i in range(0, len(datasets[\"X_test\"]), batch_size * skip):\n",
    "    df_pred = pd.DataFrame(model.predict(datasets[\"X_test\"][i : i + batch_size], verbose=0, batch_size=batch_size)[:,0,:])\n",
    "    df_true = pd.DataFrame(datasets[\"y_test\"][i : i + batch_size][:,0,:])\n",
    "    fig.add_trace(\n",
    "        go.Scatter(\n",
    "            x=REFERENCE_CHARGE_CAPACITIES[-batch_size:],\n",
    "            y=df_pred[0].values*(VOLTAGE_MAX - VOLTAGE_MIN) + VOLTAGE_MIN,\n",
    "            showlegend=True,\n",
    "            mode=\"markers\",\n",
    "            name = f\"Predicted Curve {i+1}\",\n",
    "            marker_color=pallete[i//skip]\n",
    "        )\n",
    "    )\n",
    "    \n",
    "    fig.add_trace(\n",
    "        go.Scatter(\n",
    "            x=REFERENCE_CHARGE_CAPACITIES[-batch_size:],\n",
    "            y=df_true[0].values*(VOLTAGE_MAX - VOLTAGE_MIN) + VOLTAGE_MIN,\n",
    "            showlegend=True,\n",
    "            mode=\"lines\",\n",
    "            name = f\"True Curve {i+1}\",\n",
    "            line_color=pallete[i//skip]\n",
    "        )\n",
    "    )\n",
    "\n",
    "fig.update_yaxes(title=\"Voltage [V]\")\n",
    "fig.update_xaxes(title=\"State of Charge (Normalized Capacity)\")"
   ]
  },
  {
   "cell_type": "code",
   "execution_count": null,
   "id": "066fe774",
   "metadata": {},
   "outputs": [],
   "source": [
    "fig = go.Figure()\n",
    "for i in range(0, len(datasets[\"X_test\"]), batch_size * skip):\n",
    "    df_pred = pd.DataFrame(model.predict(datasets[\"X_test\"][i : i + batch_size], batch_size=batch_size, verbose=0)[:,0,:])\n",
    "    df_true = pd.DataFrame(datasets[\"y_test\"][i : i + batch_size][:,0,:])\n",
    "    fig.add_trace(\n",
    "        go.Scatter(\n",
    "            x=REFERENCE_CHARGE_CAPACITIES[-batch_size:],\n",
    "            y=df_pred[1].values*(TEMPERATURE_MAX - TEMPERATURE_MIN) + TEMPERATURE_MIN,\n",
    "            showlegend=True,\n",
    "            mode=\"markers\",\n",
    "            name = f\"Predicted Curve {i+1}\",\n",
    "            marker_color=pallete[i//skip]\n",
    "        )\n",
    "    )\n",
    "    \n",
    "    fig.add_trace(\n",
    "        go.Scatter(\n",
    "            x=REFERENCE_CHARGE_CAPACITIES[-batch_size:],\n",
    "            y=df_true[1].values*(TEMPERATURE_MAX - TEMPERATURE_MIN) + TEMPERATURE_MIN,\n",
    "            showlegend=True,\n",
    "            mode=\"lines\",\n",
    "            name = f\"True Curve {i+1}\",\n",
    "            line_color=pallete[i//skip]\n",
    "        )\n",
    "    )\n",
    "\n",
    "fig.update_yaxes(title=\"Temperature [°C]\")\n",
    "fig.update_xaxes(title=\"State of Charge (Normalized Capacity)\")"
   ]
  },
  {
   "cell_type": "code",
   "execution_count": null,
   "id": "a6eb5178",
   "metadata": {},
   "outputs": [],
   "source": []
  }
 ],
 "metadata": {
  "kernelspec": {
   "display_name": "Python 3 (ipykernel)",
   "language": "python",
   "name": "python3"
  },
  "language_info": {
   "codemirror_mode": {
    "name": "ipython",
    "version": 3
   },
   "file_extension": ".py",
   "mimetype": "text/x-python",
   "name": "python",
   "nbconvert_exporter": "python",
   "pygments_lexer": "ipython3",
   "version": "3.10.6"
  },
  "vscode": {
   "interpreter": {
    "hash": "63dcb1742ad588d72fa93718ba23fdbf2e75f9bb2496cf77f8dc8d00f14cc3b8"
   }
  }
 },
 "nbformat": 4,
 "nbformat_minor": 5
}
