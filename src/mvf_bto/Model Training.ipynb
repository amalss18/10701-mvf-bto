{
 "cells": [
  {
   "cell_type": "code",
   "execution_count": 28,
   "id": "153bf8fa",
   "metadata": {},
   "outputs": [],
   "source": [
    "from tensorflow.keras.models import Sequential\n",
    "from tensorflow.keras.layers import Dense, LSTM\n",
    "from sklearn.metrics import mean_squared_error\n",
    "from scipy.interpolate import interp1d\n",
    "\n",
    "import plotly.graph_objects as go\n",
    "import plotly.express as px\n",
    "import plotly.colors\n",
    "\n",
    "import tqdm\n",
    "\n",
    "import numpy as np\n",
    "import pandas as pd\n",
    "\n",
    "from mvf_bto.data_loading import load_data"
   ]
  },
  {
   "cell_type": "markdown",
   "id": "399af5af",
   "metadata": {},
   "source": [
    "## Loading Data"
   ]
  },
  {
   "cell_type": "code",
   "execution_count": 29,
   "id": "da1525d3",
   "metadata": {},
   "outputs": [],
   "source": [
    "data_path = \"/Users/mac/Desktop/CMU/10701MachineLearning/project/10701-mvf-bto/data/2017-05-12_batchdata_updated_struct_errorcorrect.mat\""
   ]
  },
  {
   "cell_type": "code",
   "execution_count": 30,
   "id": "a26f9c62",
   "metadata": {},
   "outputs": [
    {
     "name": "stderr",
     "output_type": "stream",
     "text": [
      "100%|██████████| 3/3 [00:54<00:00, 18.26s/it]\n"
     ]
    }
   ],
   "source": [
    "data = load_data(file_path= data_path, num_cells= 3)"
   ]
  },
  {
   "cell_type": "code",
   "execution_count": 31,
   "id": "daa30d37",
   "metadata": {},
   "outputs": [],
   "source": [
    "single_cell_data = data['b1c2']['cycles']"
   ]
  },
  {
   "cell_type": "markdown",
   "id": "43e44118",
   "metadata": {},
   "source": [
    "## Preprocessing Data"
   ]
  },
  {
   "cell_type": "code",
   "execution_count": 32,
   "id": "aca8e318",
   "metadata": {},
   "outputs": [
    {
     "name": "stderr",
     "output_type": "stream",
     "text": [
      "100%|██████████| 1176/1176 [00:12<00:00, 92.27it/s] \n"
     ]
    }
   ],
   "source": [
    "df_list = []\n",
    "max_cycle = 1175\n",
    "for cycle_key, time_series in tqdm.tqdm(single_cell_data.items()):\n",
    "    cycle_num = int(cycle_key)\n",
    "    if cycle_num<1:\n",
    "        continue\n",
    "    df = pd.DataFrame({'t': time_series['t'], \n",
    "                       'V': time_series['V'],\n",
    "                       'temp': time_series['T'],\n",
    "                       'I': time_series['I'],\n",
    "                       'Qd': time_series['Qd'],\n",
    "                      }\n",
    "                       )\n",
    "    # drop duplicates to be able to interpolate over capacity\n",
    "    df = df.drop_duplicates(subset='Qd')\n",
    "    \n",
    "    \n",
    "    # get discharge part of curve only (current is negative during discharge)\n",
    "    df = df[df.I<-3.85]\n",
    "    \n",
    "    # normalize voltage and temperature using fixed thershold's to avoid data leakage\n",
    "    df['V_norm'] = (df.V-1.9)/(3.5-1.9)\n",
    "    df['T_norm'] = (df.temp-24)/(38-24)\n",
    "    \n",
    "    interp_df = pd.DataFrame()\n",
    "    # use capacity as reference to interpolate over\n",
    "    Q_eval = [0, 0.0125, 0.025, 0.075, 0.1, 0.2, 0.3, 0.4, 0.5, 0.6, 0.8, 0.85, 0.9, 0.95, 0.975, 0.98, 0.99, 1.0, 1.005, 1.01, 1.015, 1.02]\n",
    "    interp_df['Q_eval'] = Q_eval\n",
    "    fV = interp1d(x=df.Qd, y =df.V_norm, kind='quadratic', fill_value='extrapolate')\n",
    "    interp_df['V_norm'] = fV(Q_eval)\n",
    "    ft = interp1d(x=df.Qd, y =df.t, kind='quadratic', fill_value='extrapolate')\n",
    "    interp_df['t'] = ft(Q_eval)\n",
    "    fT = interp1d(x=df.Qd, y =df['T_norm'], kind='quadratic', fill_value='extrapolate')\n",
    "    interp_df['T_norm'] = fT(Q_eval)\n",
    "    \n",
    "    interp_df['Cycle'] = [cycle_num/max_cycle for i in range(len(interp_df))]\n",
    "    \n",
    "    df_list.append(interp_df)"
   ]
  },
  {
   "cell_type": "markdown",
   "id": "dbf38f7d",
   "metadata": {},
   "source": [
    "## What does raw versus interpolated data look like?"
   ]
  },
  {
   "cell_type": "code",
   "execution_count": 14,
   "id": "be06bb8d",
   "metadata": {},
   "outputs": [
    {
     "data": {
      "application/vnd.plotly.v1+json": {
       "config": {
        "plotlyServerURL": "https://plot.ly"
       },
       "data": [
        {
         "mode": "markers",
         "name": "Raw",
         "showlegend": true,
         "type": "scatter",
         "x": [
          0.00091625028,
          0.0023163944,
          0.0032979618,
          0.004484117,
          0.0059406562,
          0.0076965028,
          0.008706959,
          0.009807975,
          0.01100067,
          0.012342228,
          0.013790276,
          0.015394746,
          0.017181085,
          0.019191645,
          0.021451212,
          0.024054023,
          0.027133366,
          0.030817451,
          0.035543568,
          0.041656069,
          0.04777934,
          0.053893764,
          0.0600155,
          0.066117987,
          0.072247826,
          0.078342423,
          0.084479429,
          0.090587877,
          0.096697927,
          0.10283069,
          0.1089486,
          0.11506512,
          0.12116255,
          0.12726505,
          0.13338719,
          0.13950421,
          0.14563322,
          0.151749,
          0.15786326,
          0.16396095,
          0.17006139,
          0.17619011,
          0.18231404,
          0.18843417,
          0.19454449,
          0.20065869,
          0.20677081,
          0.21288399,
          0.21900299,
          0.22511244,
          0.23123468,
          0.23732799,
          0.24345903,
          0.24958281,
          0.25568044,
          0.26181629,
          0.26792955,
          0.274037,
          0.28014812,
          0.28625929,
          0.29236987,
          0.29850113,
          0.30460086,
          0.31072581,
          0.31683517,
          0.3229534,
          0.32906193,
          0.33515999,
          0.34130242,
          0.34738421,
          0.35351589,
          0.3596535,
          0.36576962,
          0.37186292,
          0.37797251,
          0.38410461,
          0.39021429,
          0.39633653,
          0.40242743,
          0.40856311,
          0.41467899,
          0.42079857,
          0.42690554,
          0.43303704,
          0.43914995,
          0.44527075,
          0.45138472,
          0.45749864,
          0.4636094,
          0.46972764,
          0.47584677,
          0.48197502,
          0.48806801,
          0.4941932,
          0.5003143,
          0.50642729,
          0.51253653,
          0.51866168,
          0.52477062,
          0.53088009,
          0.53698069,
          0.54312634,
          0.54924285,
          0.55533624,
          0.56146973,
          0.56759083,
          0.57371151,
          0.5798322,
          0.58593273,
          0.5920431,
          0.59817934,
          0.60430062,
          0.61041951,
          0.6165396,
          0.6226384,
          0.62874633,
          0.63488621,
          0.64099365,
          0.64710206,
          0.65322793,
          0.6593402,
          0.66544956,
          0.67156881,
          0.67769837,
          0.68381101,
          0.68992138,
          0.69604057,
          0.70214486,
          0.70826179,
          0.71436733,
          0.72048825,
          0.7266323,
          0.73272341,
          0.73886108,
          0.74496824,
          0.75108546,
          0.75720853,
          0.76331574,
          0.76943499,
          0.77554238,
          0.78166318,
          0.78777462,
          0.79389751,
          0.80000687,
          0.80611783,
          0.81224096,
          0.81836677,
          0.82446921,
          0.83060211,
          0.83670944,
          0.84280604,
          0.84894788,
          0.85504645,
          0.86115581,
          0.86729449,
          0.87339419,
          0.87952411,
          0.88563937,
          0.89176315,
          0.89775789,
          0.90348101,
          0.90886462,
          0.91380835,
          0.91846073,
          0.92277151,
          0.92689425,
          0.93070984,
          0.93440497,
          0.93785363,
          0.94113046,
          0.94421524,
          0.94723952,
          0.95008993,
          0.95280129,
          0.95542789,
          0.95788324,
          0.96029252,
          0.96257257,
          0.9647699,
          0.96685356,
          0.96883947,
          0.97076482,
          0.97262537,
          0.97445077,
          0.97616005,
          0.97778618,
          0.97938299,
          0.98088694,
          0.98234338,
          0.98375452,
          0.98508543,
          0.98635948,
          0.98761636,
          0.98879015,
          0.98995966,
          0.99105954,
          0.99211657,
          0.99316305,
          0.99507862,
          0.9959653,
          0.99684328,
          0.99847043,
          0.99924982,
          1.0006893,
          1.0020589,
          1.0033096,
          1.0045378,
          1.0056612,
          1.0067244,
          1.0082905,
          1.0092833,
          1.0103116,
          1.0118606,
          1.012893,
          1.0138985,
          1.0153582,
          1.0166724,
          1.0178223,
          1.0188326,
          1.0202786
         ],
         "y": [
          0.9779725,
          0.9523150625000001,
          0.9396139375000001,
          0.9270051875000002,
          0.9143463125000001,
          0.9017405624999999,
          0.8954284375000001,
          0.8891293750000001,
          0.88286375,
          0.8765480625,
          0.87022875,
          0.8639303749999999,
          0.8576218125000001,
          0.8513680625,
          0.8451179375000001,
          0.838817125,
          0.8325389375,
          0.8262721250000001,
          0.81999275,
          0.8138934375000001,
          0.80932475,
          0.8059356249999999,
          0.8032563750000001,
          0.8010921249999999,
          0.7994047500000001,
          0.7979771874999999,
          0.7965395625000001,
          0.7954446249999999,
          0.794417,
          0.7933888124999999,
          0.7925370625,
          0.7917085625,
          0.79089975,
          0.7901135625,
          0.7894441874999999,
          0.7886729375000001,
          0.7879606250000001,
          0.7872698124999999,
          0.78665175,
          0.7859436250000001,
          0.78537025,
          0.7846889375000001,
          0.7840577500000001,
          0.783462875,
          0.7828060625,
          0.7821950625000001,
          0.7815418125000001,
          0.7809099999999999,
          0.780293125,
          0.7797632500000001,
          0.7791397499999999,
          0.7785574375000001,
          0.7779094999999999,
          0.7773152499999999,
          0.7766429375,
          0.7761505625,
          0.7753786875000002,
          0.7747951875,
          0.774180625,
          0.7736233750000001,
          0.7729152499999999,
          0.7722726874999999,
          0.7715663750000001,
          0.770886875,
          0.7702747500000001,
          0.76961375,
          0.7689735624999999,
          0.7682220000000001,
          0.7675448749999999,
          0.7668826875000001,
          0.7662359375,
          0.7655368125,
          0.7647201875,
          0.7640490625000002,
          0.7632819375,
          0.76263525,
          0.7618627499999999,
          0.7610450000000002,
          0.7603595000000002,
          0.7596055000000002,
          0.7587615,
          0.7580313750000001,
          0.7572404374999999,
          0.7563803125000002,
          0.7556054375000001,
          0.7548252499999999,
          0.7539746875,
          0.7532725625,
          0.7524046875000001,
          0.7515863125,
          0.7506761250000001,
          0.749915625,
          0.7490256875000001,
          0.7482269999999999,
          0.74739375,
          0.7465425625,
          0.7455471874999999,
          0.7447538125,
          0.743869875,
          0.7429585625000001,
          0.7420239375000001,
          0.741235375,
          0.7403603750000001,
          0.7393417500000001,
          0.7384637499999999,
          0.737476125,
          0.7365564375,
          0.7355711249999999,
          0.7347009374999999,
          0.7336834375000001,
          0.7326338125,
          0.7317123124999999,
          0.730702625,
          0.7296911250000001,
          0.7285729375,
          0.7275453749999999,
          0.7264510625,
          0.725353125,
          0.7242295625,
          0.7230619374999999,
          0.72192225,
          0.7207146875,
          0.71953275,
          0.7182416875,
          0.7169423125000002,
          0.7156703750000001,
          0.7142904999999999,
          0.7129577500000001,
          0.7115820624999999,
          0.7100651250000001,
          0.7085893125,
          0.7071015625000001,
          0.7055030000000001,
          0.7038549374999999,
          0.7022372500000001,
          0.7006106249999999,
          0.6988290625000001,
          0.6969378125,
          0.69506325,
          0.69300625,
          0.6910298125,
          0.6889430000000002,
          0.6867889374999999,
          0.6843176875000001,
          0.6819269375,
          0.679399125,
          0.6767515000000002,
          0.6738701874999999,
          0.6708839999999999,
          0.6677488125,
          0.6644604375000002,
          0.6609610625000001,
          0.657135,
          0.6531724999999999,
          0.648815375,
          0.6443265625,
          0.6393424375000001,
          0.6340483125000002,
          0.6283996250000001,
          0.622145875,
          0.6158516250000001,
          0.6095413125000001,
          0.6032720625000001,
          0.5969963125,
          0.5907437500000001,
          0.5844739374999999,
          0.5782143125,
          0.5719349375000001,
          0.56564725,
          0.5593821875000001,
          0.5531081875000001,
          0.5468348125,
          0.540531625,
          0.5342791250000001,
          0.527977125,
          0.5216876249999999,
          0.5153755000000001,
          0.5090770625000002,
          0.5028245625,
          0.4965708125000001,
          0.4903105625000001,
          0.48398468750000007,
          0.4777345625000001,
          0.47142718750000007,
          0.4651133125000001,
          0.4588136875000001,
          0.45251581250000006,
          0.4462621250000001,
          0.43996131250000015,
          0.43368193750000006,
          0.42740737500000014,
          0.4211506875000001,
          0.4148141250000001,
          0.408560375,
          0.40222562500000003,
          0.39595281250000003,
          0.38957275000000013,
          0.38329162500000014,
          0.37073768750000013,
          0.3644720625,
          0.358220125,
          0.3456000000000001,
          0.33928724999999993,
          0.3267482500000002,
          0.31405243750000006,
          0.3014383125,
          0.2887330000000002,
          0.2760991875000002,
          0.26358462500000013,
          0.24454631249999997,
          0.2318034375,
          0.2190521875000001,
          0.20007825000000007,
          0.18748137500000012,
          0.17480350000000006,
          0.1556698125,
          0.13655581249999993,
          0.11769568750000015,
          0.09865200000000018,
          0.06680581250000012
         ]
        },
        {
         "mode": "markers+lines",
         "name": "Interpolated",
         "showlegend": true,
         "type": "scatter",
         "x": [
          0,
          0.0125,
          0.025,
          0.075,
          0.1,
          0.2,
          0.3,
          0.4,
          0.5,
          0.6,
          0.8,
          0.85,
          0.9,
          0.95,
          0.975,
          0.98,
          0.99,
          1,
          1.005,
          1.01,
          1.015,
          1.02
         ],
         "y": [
          0.9998889889260005,
          0.8758361306284119,
          0.8367631717053139,
          0.7987490434520126,
          0.7938495715297544,
          0.7822623829486246,
          0.772105327574451,
          0.7606294771580059,
          0.7474365084879915,
          0.7323522792136339,
          0.6843204398999374,
          0.6603232650100841,
          0.6197160432791089,
          0.5407351789655297,
          0.46944310735988615,
          0.4499892038377077,
          0.40200205320708093,
          0.3328727982360685,
          0.2836478542351154,
          0.2228853860449967,
          0.16052775213012313,
          0.07336609478139784
         ]
        }
       ],
       "layout": {
        "template": {
         "data": {
          "bar": [
           {
            "error_x": {
             "color": "#2a3f5f"
            },
            "error_y": {
             "color": "#2a3f5f"
            },
            "marker": {
             "line": {
              "color": "#E5ECF6",
              "width": 0.5
             },
             "pattern": {
              "fillmode": "overlay",
              "size": 10,
              "solidity": 0.2
             }
            },
            "type": "bar"
           }
          ],
          "barpolar": [
           {
            "marker": {
             "line": {
              "color": "#E5ECF6",
              "width": 0.5
             },
             "pattern": {
              "fillmode": "overlay",
              "size": 10,
              "solidity": 0.2
             }
            },
            "type": "barpolar"
           }
          ],
          "carpet": [
           {
            "aaxis": {
             "endlinecolor": "#2a3f5f",
             "gridcolor": "white",
             "linecolor": "white",
             "minorgridcolor": "white",
             "startlinecolor": "#2a3f5f"
            },
            "baxis": {
             "endlinecolor": "#2a3f5f",
             "gridcolor": "white",
             "linecolor": "white",
             "minorgridcolor": "white",
             "startlinecolor": "#2a3f5f"
            },
            "type": "carpet"
           }
          ],
          "choropleth": [
           {
            "colorbar": {
             "outlinewidth": 0,
             "ticks": ""
            },
            "type": "choropleth"
           }
          ],
          "contour": [
           {
            "colorbar": {
             "outlinewidth": 0,
             "ticks": ""
            },
            "colorscale": [
             [
              0,
              "#0d0887"
             ],
             [
              0.1111111111111111,
              "#46039f"
             ],
             [
              0.2222222222222222,
              "#7201a8"
             ],
             [
              0.3333333333333333,
              "#9c179e"
             ],
             [
              0.4444444444444444,
              "#bd3786"
             ],
             [
              0.5555555555555556,
              "#d8576b"
             ],
             [
              0.6666666666666666,
              "#ed7953"
             ],
             [
              0.7777777777777778,
              "#fb9f3a"
             ],
             [
              0.8888888888888888,
              "#fdca26"
             ],
             [
              1,
              "#f0f921"
             ]
            ],
            "type": "contour"
           }
          ],
          "contourcarpet": [
           {
            "colorbar": {
             "outlinewidth": 0,
             "ticks": ""
            },
            "type": "contourcarpet"
           }
          ],
          "heatmap": [
           {
            "colorbar": {
             "outlinewidth": 0,
             "ticks": ""
            },
            "colorscale": [
             [
              0,
              "#0d0887"
             ],
             [
              0.1111111111111111,
              "#46039f"
             ],
             [
              0.2222222222222222,
              "#7201a8"
             ],
             [
              0.3333333333333333,
              "#9c179e"
             ],
             [
              0.4444444444444444,
              "#bd3786"
             ],
             [
              0.5555555555555556,
              "#d8576b"
             ],
             [
              0.6666666666666666,
              "#ed7953"
             ],
             [
              0.7777777777777778,
              "#fb9f3a"
             ],
             [
              0.8888888888888888,
              "#fdca26"
             ],
             [
              1,
              "#f0f921"
             ]
            ],
            "type": "heatmap"
           }
          ],
          "heatmapgl": [
           {
            "colorbar": {
             "outlinewidth": 0,
             "ticks": ""
            },
            "colorscale": [
             [
              0,
              "#0d0887"
             ],
             [
              0.1111111111111111,
              "#46039f"
             ],
             [
              0.2222222222222222,
              "#7201a8"
             ],
             [
              0.3333333333333333,
              "#9c179e"
             ],
             [
              0.4444444444444444,
              "#bd3786"
             ],
             [
              0.5555555555555556,
              "#d8576b"
             ],
             [
              0.6666666666666666,
              "#ed7953"
             ],
             [
              0.7777777777777778,
              "#fb9f3a"
             ],
             [
              0.8888888888888888,
              "#fdca26"
             ],
             [
              1,
              "#f0f921"
             ]
            ],
            "type": "heatmapgl"
           }
          ],
          "histogram": [
           {
            "marker": {
             "pattern": {
              "fillmode": "overlay",
              "size": 10,
              "solidity": 0.2
             }
            },
            "type": "histogram"
           }
          ],
          "histogram2d": [
           {
            "colorbar": {
             "outlinewidth": 0,
             "ticks": ""
            },
            "colorscale": [
             [
              0,
              "#0d0887"
             ],
             [
              0.1111111111111111,
              "#46039f"
             ],
             [
              0.2222222222222222,
              "#7201a8"
             ],
             [
              0.3333333333333333,
              "#9c179e"
             ],
             [
              0.4444444444444444,
              "#bd3786"
             ],
             [
              0.5555555555555556,
              "#d8576b"
             ],
             [
              0.6666666666666666,
              "#ed7953"
             ],
             [
              0.7777777777777778,
              "#fb9f3a"
             ],
             [
              0.8888888888888888,
              "#fdca26"
             ],
             [
              1,
              "#f0f921"
             ]
            ],
            "type": "histogram2d"
           }
          ],
          "histogram2dcontour": [
           {
            "colorbar": {
             "outlinewidth": 0,
             "ticks": ""
            },
            "colorscale": [
             [
              0,
              "#0d0887"
             ],
             [
              0.1111111111111111,
              "#46039f"
             ],
             [
              0.2222222222222222,
              "#7201a8"
             ],
             [
              0.3333333333333333,
              "#9c179e"
             ],
             [
              0.4444444444444444,
              "#bd3786"
             ],
             [
              0.5555555555555556,
              "#d8576b"
             ],
             [
              0.6666666666666666,
              "#ed7953"
             ],
             [
              0.7777777777777778,
              "#fb9f3a"
             ],
             [
              0.8888888888888888,
              "#fdca26"
             ],
             [
              1,
              "#f0f921"
             ]
            ],
            "type": "histogram2dcontour"
           }
          ],
          "mesh3d": [
           {
            "colorbar": {
             "outlinewidth": 0,
             "ticks": ""
            },
            "type": "mesh3d"
           }
          ],
          "parcoords": [
           {
            "line": {
             "colorbar": {
              "outlinewidth": 0,
              "ticks": ""
             }
            },
            "type": "parcoords"
           }
          ],
          "pie": [
           {
            "automargin": true,
            "type": "pie"
           }
          ],
          "scatter": [
           {
            "fillpattern": {
             "fillmode": "overlay",
             "size": 10,
             "solidity": 0.2
            },
            "type": "scatter"
           }
          ],
          "scatter3d": [
           {
            "line": {
             "colorbar": {
              "outlinewidth": 0,
              "ticks": ""
             }
            },
            "marker": {
             "colorbar": {
              "outlinewidth": 0,
              "ticks": ""
             }
            },
            "type": "scatter3d"
           }
          ],
          "scattercarpet": [
           {
            "marker": {
             "colorbar": {
              "outlinewidth": 0,
              "ticks": ""
             }
            },
            "type": "scattercarpet"
           }
          ],
          "scattergeo": [
           {
            "marker": {
             "colorbar": {
              "outlinewidth": 0,
              "ticks": ""
             }
            },
            "type": "scattergeo"
           }
          ],
          "scattergl": [
           {
            "marker": {
             "colorbar": {
              "outlinewidth": 0,
              "ticks": ""
             }
            },
            "type": "scattergl"
           }
          ],
          "scattermapbox": [
           {
            "marker": {
             "colorbar": {
              "outlinewidth": 0,
              "ticks": ""
             }
            },
            "type": "scattermapbox"
           }
          ],
          "scatterpolar": [
           {
            "marker": {
             "colorbar": {
              "outlinewidth": 0,
              "ticks": ""
             }
            },
            "type": "scatterpolar"
           }
          ],
          "scatterpolargl": [
           {
            "marker": {
             "colorbar": {
              "outlinewidth": 0,
              "ticks": ""
             }
            },
            "type": "scatterpolargl"
           }
          ],
          "scatterternary": [
           {
            "marker": {
             "colorbar": {
              "outlinewidth": 0,
              "ticks": ""
             }
            },
            "type": "scatterternary"
           }
          ],
          "surface": [
           {
            "colorbar": {
             "outlinewidth": 0,
             "ticks": ""
            },
            "colorscale": [
             [
              0,
              "#0d0887"
             ],
             [
              0.1111111111111111,
              "#46039f"
             ],
             [
              0.2222222222222222,
              "#7201a8"
             ],
             [
              0.3333333333333333,
              "#9c179e"
             ],
             [
              0.4444444444444444,
              "#bd3786"
             ],
             [
              0.5555555555555556,
              "#d8576b"
             ],
             [
              0.6666666666666666,
              "#ed7953"
             ],
             [
              0.7777777777777778,
              "#fb9f3a"
             ],
             [
              0.8888888888888888,
              "#fdca26"
             ],
             [
              1,
              "#f0f921"
             ]
            ],
            "type": "surface"
           }
          ],
          "table": [
           {
            "cells": {
             "fill": {
              "color": "#EBF0F8"
             },
             "line": {
              "color": "white"
             }
            },
            "header": {
             "fill": {
              "color": "#C8D4E3"
             },
             "line": {
              "color": "white"
             }
            },
            "type": "table"
           }
          ]
         },
         "layout": {
          "annotationdefaults": {
           "arrowcolor": "#2a3f5f",
           "arrowhead": 0,
           "arrowwidth": 1
          },
          "autotypenumbers": "strict",
          "coloraxis": {
           "colorbar": {
            "outlinewidth": 0,
            "ticks": ""
           }
          },
          "colorscale": {
           "diverging": [
            [
             0,
             "#8e0152"
            ],
            [
             0.1,
             "#c51b7d"
            ],
            [
             0.2,
             "#de77ae"
            ],
            [
             0.3,
             "#f1b6da"
            ],
            [
             0.4,
             "#fde0ef"
            ],
            [
             0.5,
             "#f7f7f7"
            ],
            [
             0.6,
             "#e6f5d0"
            ],
            [
             0.7,
             "#b8e186"
            ],
            [
             0.8,
             "#7fbc41"
            ],
            [
             0.9,
             "#4d9221"
            ],
            [
             1,
             "#276419"
            ]
           ],
           "sequential": [
            [
             0,
             "#0d0887"
            ],
            [
             0.1111111111111111,
             "#46039f"
            ],
            [
             0.2222222222222222,
             "#7201a8"
            ],
            [
             0.3333333333333333,
             "#9c179e"
            ],
            [
             0.4444444444444444,
             "#bd3786"
            ],
            [
             0.5555555555555556,
             "#d8576b"
            ],
            [
             0.6666666666666666,
             "#ed7953"
            ],
            [
             0.7777777777777778,
             "#fb9f3a"
            ],
            [
             0.8888888888888888,
             "#fdca26"
            ],
            [
             1,
             "#f0f921"
            ]
           ],
           "sequentialminus": [
            [
             0,
             "#0d0887"
            ],
            [
             0.1111111111111111,
             "#46039f"
            ],
            [
             0.2222222222222222,
             "#7201a8"
            ],
            [
             0.3333333333333333,
             "#9c179e"
            ],
            [
             0.4444444444444444,
             "#bd3786"
            ],
            [
             0.5555555555555556,
             "#d8576b"
            ],
            [
             0.6666666666666666,
             "#ed7953"
            ],
            [
             0.7777777777777778,
             "#fb9f3a"
            ],
            [
             0.8888888888888888,
             "#fdca26"
            ],
            [
             1,
             "#f0f921"
            ]
           ]
          },
          "colorway": [
           "#636efa",
           "#EF553B",
           "#00cc96",
           "#ab63fa",
           "#FFA15A",
           "#19d3f3",
           "#FF6692",
           "#B6E880",
           "#FF97FF",
           "#FECB52"
          ],
          "font": {
           "color": "#2a3f5f"
          },
          "geo": {
           "bgcolor": "white",
           "lakecolor": "white",
           "landcolor": "#E5ECF6",
           "showlakes": true,
           "showland": true,
           "subunitcolor": "white"
          },
          "hoverlabel": {
           "align": "left"
          },
          "hovermode": "closest",
          "mapbox": {
           "style": "light"
          },
          "paper_bgcolor": "white",
          "plot_bgcolor": "#E5ECF6",
          "polar": {
           "angularaxis": {
            "gridcolor": "white",
            "linecolor": "white",
            "ticks": ""
           },
           "bgcolor": "#E5ECF6",
           "radialaxis": {
            "gridcolor": "white",
            "linecolor": "white",
            "ticks": ""
           }
          },
          "scene": {
           "xaxis": {
            "backgroundcolor": "#E5ECF6",
            "gridcolor": "white",
            "gridwidth": 2,
            "linecolor": "white",
            "showbackground": true,
            "ticks": "",
            "zerolinecolor": "white"
           },
           "yaxis": {
            "backgroundcolor": "#E5ECF6",
            "gridcolor": "white",
            "gridwidth": 2,
            "linecolor": "white",
            "showbackground": true,
            "ticks": "",
            "zerolinecolor": "white"
           },
           "zaxis": {
            "backgroundcolor": "#E5ECF6",
            "gridcolor": "white",
            "gridwidth": 2,
            "linecolor": "white",
            "showbackground": true,
            "ticks": "",
            "zerolinecolor": "white"
           }
          },
          "shapedefaults": {
           "line": {
            "color": "#2a3f5f"
           }
          },
          "ternary": {
           "aaxis": {
            "gridcolor": "white",
            "linecolor": "white",
            "ticks": ""
           },
           "baxis": {
            "gridcolor": "white",
            "linecolor": "white",
            "ticks": ""
           },
           "bgcolor": "#E5ECF6",
           "caxis": {
            "gridcolor": "white",
            "linecolor": "white",
            "ticks": ""
           }
          },
          "title": {
           "x": 0.05
          },
          "xaxis": {
           "automargin": true,
           "gridcolor": "white",
           "linecolor": "white",
           "ticks": "",
           "title": {
            "standoff": 15
           },
           "zerolinecolor": "white",
           "zerolinewidth": 2
          },
          "yaxis": {
           "automargin": true,
           "gridcolor": "white",
           "linecolor": "white",
           "ticks": "",
           "title": {
            "standoff": 15
           },
           "zerolinecolor": "white",
           "zerolinewidth": 2
          }
         }
        }
       }
      }
     },
     "metadata": {},
     "output_type": "display_data"
    }
   ],
   "source": [
    "fig = go.Figure()\n",
    "fig.add_trace(go.Scatter(x = df.Qd, y = df.V_norm, showlegend=True, mode=\"markers\", name=\"Raw\"))\n",
    "fig.add_trace(go.Scatter(x = interp_df.Q_eval, y = interp_df.V_norm, showlegend=True, mode=\"markers+lines\" , name=\"Interpolated\"))"
   ]
  },
  {
   "cell_type": "code",
   "execution_count": 33,
   "id": "cdbbbd83",
   "metadata": {},
   "outputs": [],
   "source": [
    "# multivariate data preparation\n",
    "# TODO: multi output (temperature + voltage)\n",
    "# TODO: multiple time steps in the future \n",
    "X_list, y_list = [], []\n",
    "\n",
    "# split a multivariate sequence into samples\n",
    "def split_sequences(sequences, n_steps):\n",
    "    X, y = list(), list()\n",
    "    for i in range(len(sequences)):\n",
    "        # find the end of this pattern\n",
    "        end_ix = i + n_steps\n",
    "        # check if we are beyond the dataset\n",
    "        if end_ix > len(sequences):\n",
    "            break\n",
    "            # gather input and output parts of the pattern\n",
    "        seq_x, seq_y = sequences[i:end_ix-1, :-1], sequences[end_ix-1, -1]\n",
    "        X.append(seq_x)\n",
    "        y.append(seq_y)\n",
    "    return np.array(X), np.array(y)\n",
    "\n",
    "for df in df_list:\n",
    "    # define input sequence\n",
    "    in_seq1 = df['T_norm'].values\n",
    "    in_seq2 = df['Q_eval'].values\n",
    "    in_seq3 = df['V_norm'].values\n",
    "    in_seq4 = df['Cycle'].values\n",
    "    out_seq = df['V_norm'].values\n",
    "    \n",
    "    # convert to [rows, columns] structure\n",
    "    in_seq1 = in_seq1.reshape((len(in_seq1), 1))\n",
    "    in_seq2 = in_seq2.reshape((len(in_seq2), 1))\n",
    "    in_seq3 = in_seq3.reshape((len(in_seq3), 1))\n",
    "    in_seq4 = in_seq4.reshape((len(in_seq4), 1))\n",
    "    out_seq = out_seq.reshape((len(out_seq), 1))\n",
    "    \n",
    "    # horizontally stack columns\n",
    "    dataset = np.hstack((in_seq1, in_seq2, in_seq3, in_seq4, out_seq))\n",
    "    \n",
    "    # choose a number of time steps (for input window)\n",
    "    n_steps = 4\n",
    "    \n",
    "    # convert into input/output\n",
    "    X_cycle, y_cycle = split_sequences(dataset, n_steps)\n",
    "    X_list.append(X_cycle)\n",
    "    y_list.append(y_cycle)"
   ]
  },
  {
   "cell_type": "code",
   "execution_count": 42,
   "id": "06da13c5",
   "metadata": {},
   "outputs": [
    {
     "name": "stdout",
     "output_type": "stream",
     "text": [
      "19 3 4\n"
     ]
    }
   ],
   "source": [
    "batch_size = X_cycle.shape[0] \n",
    "# batch_size must be equal to the length of 1 input curve\n",
    "# since for a stateful LSTM the cell state is cleared after a batch\n",
    "# (look at the keras docs)\n",
    "# we could write over own custom callback if we need batch_size != sequence_length\n",
    "# (for the use t prediction as t+1 input case)\n",
    "# but I'm not sure if that's acceptable practice\n",
    "\n",
    "window_length = X_cycle.shape[1]\n",
    "n_features = X_cycle.shape[2]\n",
    "print(batch_size, window_length, n_features)"
   ]
  },
  {
   "cell_type": "code",
   "execution_count": 35,
   "id": "2ae46c85",
   "metadata": {},
   "outputs": [],
   "source": [
    "X_train = np.array([item for index, item in enumerate(X_list) if index % 100 != 0])\n",
    "X_test = np.array([item for index, item in enumerate(X_list) if index % 100 == 0])\n",
    "\n",
    "y_train = np.array([item for index, item in enumerate(y_list) if index % 100 != 0])\n",
    "y_test = np.array([item for index, item in enumerate(y_list) if index % 100 == 0])\n",
    "\n",
    "y_test = y_test.flatten()\n",
    "y_train = y_train.flatten()\n",
    "\n",
    "X_train = X_train.reshape(X_train.shape[0]*batch_size, X_train[0].shape[1] , X_train.shape[-1])\n",
    "X_test = X_test.reshape(X_test.shape[0]*batch_size,X_test[0].shape[1], X_test.shape[-1])"
   ]
  },
  {
   "cell_type": "code",
   "execution_count": 37,
   "id": "8c19b540",
   "metadata": {},
   "outputs": [],
   "source": [
    "sample_weight = np.ones(y_train.shape)\n",
    "\n",
    "# TODO: experiment with different sample weights and thersholds\n",
    "# (this is a arbitary guess)\n",
    "sample_weight[y_train<0.6]=2\n",
    "sample_weight[y_train<0.5]=3"
   ]
  },
  {
   "cell_type": "code",
   "execution_count": 43,
   "id": "8b682e1e",
   "metadata": {},
   "outputs": [],
   "source": [
    "# define model\n",
    "# TODO: hyperparameter tuning (Anoushka)\n",
    "model = Sequential()\n",
    "model.add(LSTM(32, return_sequences=True, stateful=True, batch_input_shape=(batch_size, window_length, n_features)))\n",
    "model.add(LSTM(16, return_sequences=False))\n",
    "model.add(Dense(32, activation=\"sigmoid\"))\n",
    "model.add(Dense(8))\n",
    "# 4 steps into the future?\n",
    "model.add(Dense(1))\n",
    "\n",
    "model.compile(optimizer='adam', loss='mse')"
   ]
  },
  {
   "cell_type": "code",
   "execution_count": 44,
   "id": "cacd6530",
   "metadata": {},
   "outputs": [],
   "source": [
    "# TODO: add validation set or validation split + early stopping\n",
    "history = model.fit(X_train, y_train, \n",
    "                    epochs=50, \n",
    "                    batch_size=batch_size, \n",
    "                    shuffle=False, \n",
    "                    verbose=0, \n",
    "                    sample_weight=sample_weight)"
   ]
  },
  {
   "cell_type": "code",
   "execution_count": 45,
   "id": "ad3d04e5",
   "metadata": {},
   "outputs": [
    {
     "data": {
      "application/vnd.plotly.v1+json": {
       "config": {
        "plotlyServerURL": "https://plot.ly"
       },
       "data": [
        {
         "mode": "markers+lines",
         "showlegend": false,
         "type": "scatter",
         "x": [
          1,
          2,
          3,
          4,
          5,
          6,
          7,
          8,
          9,
          10,
          11,
          12,
          13,
          14,
          15,
          16,
          17,
          18,
          19,
          20,
          21,
          22,
          23,
          24,
          25,
          26,
          27,
          28,
          29,
          30,
          31,
          32,
          33,
          34,
          35,
          36,
          37,
          38,
          39,
          40,
          41,
          42,
          43,
          44,
          45,
          46,
          47,
          48,
          49,
          50
         ],
         "y": [
          0.011851349845528603,
          0.0015474276151508093,
          0.0013279073173180223,
          0.0011262797052040696,
          0.0011611718218773603,
          0.0012156947050243616,
          0.0014318267349153757,
          0.0012700909283012152,
          0.0011951084015890956,
          0.0009664013632573187,
          0.0009932719403877854,
          0.0009313388145528734,
          0.0007998506189323962,
          0.0005366385448724031,
          0.0004392811970319599,
          0.00038444422534666955,
          0.00034426755155436695,
          0.00031722337007522583,
          0.0002792215964291245,
          0.00024426126037724316,
          0.0002129485656041652,
          0.00018097030988428742,
          0.0001543270773254335,
          0.00013177977234590799,
          0.00011644772894214839,
          0.00010184096754528582,
          0.00008846122364047915,
          0.00008346868708031252,
          0.000076776668720413,
          0.00007287111657205969,
          0.00006583039794350043,
          0.00006272198515944183,
          0.00006044854671927169,
          0.000057688965171109885,
          0.000056223023420898244,
          0.00005410579979070462,
          0.00005299337499309331,
          0.00005201644671615213,
          0.000051332124712644145,
          0.00005126023825141601,
          0.00005098750625620596,
          0.00005322964716469869,
          0.000053906303946860135,
          0.00005646431600325741,
          0.00005770364077761769,
          0.000055029147915774956,
          0.000049616202886682004,
          0.00004313960744184442,
          0.000040668543078936636,
          0.000040801915019983426
         ]
        }
       ],
       "layout": {
        "template": {
         "data": {
          "bar": [
           {
            "error_x": {
             "color": "#2a3f5f"
            },
            "error_y": {
             "color": "#2a3f5f"
            },
            "marker": {
             "line": {
              "color": "#E5ECF6",
              "width": 0.5
             },
             "pattern": {
              "fillmode": "overlay",
              "size": 10,
              "solidity": 0.2
             }
            },
            "type": "bar"
           }
          ],
          "barpolar": [
           {
            "marker": {
             "line": {
              "color": "#E5ECF6",
              "width": 0.5
             },
             "pattern": {
              "fillmode": "overlay",
              "size": 10,
              "solidity": 0.2
             }
            },
            "type": "barpolar"
           }
          ],
          "carpet": [
           {
            "aaxis": {
             "endlinecolor": "#2a3f5f",
             "gridcolor": "white",
             "linecolor": "white",
             "minorgridcolor": "white",
             "startlinecolor": "#2a3f5f"
            },
            "baxis": {
             "endlinecolor": "#2a3f5f",
             "gridcolor": "white",
             "linecolor": "white",
             "minorgridcolor": "white",
             "startlinecolor": "#2a3f5f"
            },
            "type": "carpet"
           }
          ],
          "choropleth": [
           {
            "colorbar": {
             "outlinewidth": 0,
             "ticks": ""
            },
            "type": "choropleth"
           }
          ],
          "contour": [
           {
            "colorbar": {
             "outlinewidth": 0,
             "ticks": ""
            },
            "colorscale": [
             [
              0,
              "#0d0887"
             ],
             [
              0.1111111111111111,
              "#46039f"
             ],
             [
              0.2222222222222222,
              "#7201a8"
             ],
             [
              0.3333333333333333,
              "#9c179e"
             ],
             [
              0.4444444444444444,
              "#bd3786"
             ],
             [
              0.5555555555555556,
              "#d8576b"
             ],
             [
              0.6666666666666666,
              "#ed7953"
             ],
             [
              0.7777777777777778,
              "#fb9f3a"
             ],
             [
              0.8888888888888888,
              "#fdca26"
             ],
             [
              1,
              "#f0f921"
             ]
            ],
            "type": "contour"
           }
          ],
          "contourcarpet": [
           {
            "colorbar": {
             "outlinewidth": 0,
             "ticks": ""
            },
            "type": "contourcarpet"
           }
          ],
          "heatmap": [
           {
            "colorbar": {
             "outlinewidth": 0,
             "ticks": ""
            },
            "colorscale": [
             [
              0,
              "#0d0887"
             ],
             [
              0.1111111111111111,
              "#46039f"
             ],
             [
              0.2222222222222222,
              "#7201a8"
             ],
             [
              0.3333333333333333,
              "#9c179e"
             ],
             [
              0.4444444444444444,
              "#bd3786"
             ],
             [
              0.5555555555555556,
              "#d8576b"
             ],
             [
              0.6666666666666666,
              "#ed7953"
             ],
             [
              0.7777777777777778,
              "#fb9f3a"
             ],
             [
              0.8888888888888888,
              "#fdca26"
             ],
             [
              1,
              "#f0f921"
             ]
            ],
            "type": "heatmap"
           }
          ],
          "heatmapgl": [
           {
            "colorbar": {
             "outlinewidth": 0,
             "ticks": ""
            },
            "colorscale": [
             [
              0,
              "#0d0887"
             ],
             [
              0.1111111111111111,
              "#46039f"
             ],
             [
              0.2222222222222222,
              "#7201a8"
             ],
             [
              0.3333333333333333,
              "#9c179e"
             ],
             [
              0.4444444444444444,
              "#bd3786"
             ],
             [
              0.5555555555555556,
              "#d8576b"
             ],
             [
              0.6666666666666666,
              "#ed7953"
             ],
             [
              0.7777777777777778,
              "#fb9f3a"
             ],
             [
              0.8888888888888888,
              "#fdca26"
             ],
             [
              1,
              "#f0f921"
             ]
            ],
            "type": "heatmapgl"
           }
          ],
          "histogram": [
           {
            "marker": {
             "pattern": {
              "fillmode": "overlay",
              "size": 10,
              "solidity": 0.2
             }
            },
            "type": "histogram"
           }
          ],
          "histogram2d": [
           {
            "colorbar": {
             "outlinewidth": 0,
             "ticks": ""
            },
            "colorscale": [
             [
              0,
              "#0d0887"
             ],
             [
              0.1111111111111111,
              "#46039f"
             ],
             [
              0.2222222222222222,
              "#7201a8"
             ],
             [
              0.3333333333333333,
              "#9c179e"
             ],
             [
              0.4444444444444444,
              "#bd3786"
             ],
             [
              0.5555555555555556,
              "#d8576b"
             ],
             [
              0.6666666666666666,
              "#ed7953"
             ],
             [
              0.7777777777777778,
              "#fb9f3a"
             ],
             [
              0.8888888888888888,
              "#fdca26"
             ],
             [
              1,
              "#f0f921"
             ]
            ],
            "type": "histogram2d"
           }
          ],
          "histogram2dcontour": [
           {
            "colorbar": {
             "outlinewidth": 0,
             "ticks": ""
            },
            "colorscale": [
             [
              0,
              "#0d0887"
             ],
             [
              0.1111111111111111,
              "#46039f"
             ],
             [
              0.2222222222222222,
              "#7201a8"
             ],
             [
              0.3333333333333333,
              "#9c179e"
             ],
             [
              0.4444444444444444,
              "#bd3786"
             ],
             [
              0.5555555555555556,
              "#d8576b"
             ],
             [
              0.6666666666666666,
              "#ed7953"
             ],
             [
              0.7777777777777778,
              "#fb9f3a"
             ],
             [
              0.8888888888888888,
              "#fdca26"
             ],
             [
              1,
              "#f0f921"
             ]
            ],
            "type": "histogram2dcontour"
           }
          ],
          "mesh3d": [
           {
            "colorbar": {
             "outlinewidth": 0,
             "ticks": ""
            },
            "type": "mesh3d"
           }
          ],
          "parcoords": [
           {
            "line": {
             "colorbar": {
              "outlinewidth": 0,
              "ticks": ""
             }
            },
            "type": "parcoords"
           }
          ],
          "pie": [
           {
            "automargin": true,
            "type": "pie"
           }
          ],
          "scatter": [
           {
            "fillpattern": {
             "fillmode": "overlay",
             "size": 10,
             "solidity": 0.2
            },
            "type": "scatter"
           }
          ],
          "scatter3d": [
           {
            "line": {
             "colorbar": {
              "outlinewidth": 0,
              "ticks": ""
             }
            },
            "marker": {
             "colorbar": {
              "outlinewidth": 0,
              "ticks": ""
             }
            },
            "type": "scatter3d"
           }
          ],
          "scattercarpet": [
           {
            "marker": {
             "colorbar": {
              "outlinewidth": 0,
              "ticks": ""
             }
            },
            "type": "scattercarpet"
           }
          ],
          "scattergeo": [
           {
            "marker": {
             "colorbar": {
              "outlinewidth": 0,
              "ticks": ""
             }
            },
            "type": "scattergeo"
           }
          ],
          "scattergl": [
           {
            "marker": {
             "colorbar": {
              "outlinewidth": 0,
              "ticks": ""
             }
            },
            "type": "scattergl"
           }
          ],
          "scattermapbox": [
           {
            "marker": {
             "colorbar": {
              "outlinewidth": 0,
              "ticks": ""
             }
            },
            "type": "scattermapbox"
           }
          ],
          "scatterpolar": [
           {
            "marker": {
             "colorbar": {
              "outlinewidth": 0,
              "ticks": ""
             }
            },
            "type": "scatterpolar"
           }
          ],
          "scatterpolargl": [
           {
            "marker": {
             "colorbar": {
              "outlinewidth": 0,
              "ticks": ""
             }
            },
            "type": "scatterpolargl"
           }
          ],
          "scatterternary": [
           {
            "marker": {
             "colorbar": {
              "outlinewidth": 0,
              "ticks": ""
             }
            },
            "type": "scatterternary"
           }
          ],
          "surface": [
           {
            "colorbar": {
             "outlinewidth": 0,
             "ticks": ""
            },
            "colorscale": [
             [
              0,
              "#0d0887"
             ],
             [
              0.1111111111111111,
              "#46039f"
             ],
             [
              0.2222222222222222,
              "#7201a8"
             ],
             [
              0.3333333333333333,
              "#9c179e"
             ],
             [
              0.4444444444444444,
              "#bd3786"
             ],
             [
              0.5555555555555556,
              "#d8576b"
             ],
             [
              0.6666666666666666,
              "#ed7953"
             ],
             [
              0.7777777777777778,
              "#fb9f3a"
             ],
             [
              0.8888888888888888,
              "#fdca26"
             ],
             [
              1,
              "#f0f921"
             ]
            ],
            "type": "surface"
           }
          ],
          "table": [
           {
            "cells": {
             "fill": {
              "color": "#EBF0F8"
             },
             "line": {
              "color": "white"
             }
            },
            "header": {
             "fill": {
              "color": "#C8D4E3"
             },
             "line": {
              "color": "white"
             }
            },
            "type": "table"
           }
          ]
         },
         "layout": {
          "annotationdefaults": {
           "arrowcolor": "#2a3f5f",
           "arrowhead": 0,
           "arrowwidth": 1
          },
          "autotypenumbers": "strict",
          "coloraxis": {
           "colorbar": {
            "outlinewidth": 0,
            "ticks": ""
           }
          },
          "colorscale": {
           "diverging": [
            [
             0,
             "#8e0152"
            ],
            [
             0.1,
             "#c51b7d"
            ],
            [
             0.2,
             "#de77ae"
            ],
            [
             0.3,
             "#f1b6da"
            ],
            [
             0.4,
             "#fde0ef"
            ],
            [
             0.5,
             "#f7f7f7"
            ],
            [
             0.6,
             "#e6f5d0"
            ],
            [
             0.7,
             "#b8e186"
            ],
            [
             0.8,
             "#7fbc41"
            ],
            [
             0.9,
             "#4d9221"
            ],
            [
             1,
             "#276419"
            ]
           ],
           "sequential": [
            [
             0,
             "#0d0887"
            ],
            [
             0.1111111111111111,
             "#46039f"
            ],
            [
             0.2222222222222222,
             "#7201a8"
            ],
            [
             0.3333333333333333,
             "#9c179e"
            ],
            [
             0.4444444444444444,
             "#bd3786"
            ],
            [
             0.5555555555555556,
             "#d8576b"
            ],
            [
             0.6666666666666666,
             "#ed7953"
            ],
            [
             0.7777777777777778,
             "#fb9f3a"
            ],
            [
             0.8888888888888888,
             "#fdca26"
            ],
            [
             1,
             "#f0f921"
            ]
           ],
           "sequentialminus": [
            [
             0,
             "#0d0887"
            ],
            [
             0.1111111111111111,
             "#46039f"
            ],
            [
             0.2222222222222222,
             "#7201a8"
            ],
            [
             0.3333333333333333,
             "#9c179e"
            ],
            [
             0.4444444444444444,
             "#bd3786"
            ],
            [
             0.5555555555555556,
             "#d8576b"
            ],
            [
             0.6666666666666666,
             "#ed7953"
            ],
            [
             0.7777777777777778,
             "#fb9f3a"
            ],
            [
             0.8888888888888888,
             "#fdca26"
            ],
            [
             1,
             "#f0f921"
            ]
           ]
          },
          "colorway": [
           "#636efa",
           "#EF553B",
           "#00cc96",
           "#ab63fa",
           "#FFA15A",
           "#19d3f3",
           "#FF6692",
           "#B6E880",
           "#FF97FF",
           "#FECB52"
          ],
          "font": {
           "color": "#2a3f5f"
          },
          "geo": {
           "bgcolor": "white",
           "lakecolor": "white",
           "landcolor": "#E5ECF6",
           "showlakes": true,
           "showland": true,
           "subunitcolor": "white"
          },
          "hoverlabel": {
           "align": "left"
          },
          "hovermode": "closest",
          "mapbox": {
           "style": "light"
          },
          "paper_bgcolor": "white",
          "plot_bgcolor": "#E5ECF6",
          "polar": {
           "angularaxis": {
            "gridcolor": "white",
            "linecolor": "white",
            "ticks": ""
           },
           "bgcolor": "#E5ECF6",
           "radialaxis": {
            "gridcolor": "white",
            "linecolor": "white",
            "ticks": ""
           }
          },
          "scene": {
           "xaxis": {
            "backgroundcolor": "#E5ECF6",
            "gridcolor": "white",
            "gridwidth": 2,
            "linecolor": "white",
            "showbackground": true,
            "ticks": "",
            "zerolinecolor": "white"
           },
           "yaxis": {
            "backgroundcolor": "#E5ECF6",
            "gridcolor": "white",
            "gridwidth": 2,
            "linecolor": "white",
            "showbackground": true,
            "ticks": "",
            "zerolinecolor": "white"
           },
           "zaxis": {
            "backgroundcolor": "#E5ECF6",
            "gridcolor": "white",
            "gridwidth": 2,
            "linecolor": "white",
            "showbackground": true,
            "ticks": "",
            "zerolinecolor": "white"
           }
          },
          "shapedefaults": {
           "line": {
            "color": "#2a3f5f"
           }
          },
          "ternary": {
           "aaxis": {
            "gridcolor": "white",
            "linecolor": "white",
            "ticks": ""
           },
           "baxis": {
            "gridcolor": "white",
            "linecolor": "white",
            "ticks": ""
           },
           "bgcolor": "#E5ECF6",
           "caxis": {
            "gridcolor": "white",
            "linecolor": "white",
            "ticks": ""
           }
          },
          "title": {
           "x": 0.05
          },
          "xaxis": {
           "automargin": true,
           "gridcolor": "white",
           "linecolor": "white",
           "ticks": "",
           "title": {
            "standoff": 15
           },
           "zerolinecolor": "white",
           "zerolinewidth": 2
          },
          "yaxis": {
           "automargin": true,
           "gridcolor": "white",
           "linecolor": "white",
           "ticks": "",
           "title": {
            "standoff": 15
           },
           "zerolinecolor": "white",
           "zerolinewidth": 2
          }
         }
        },
        "xaxis": {
         "title": {
          "text": "Epochs"
         }
        },
        "yaxis": {
         "title": {
          "text": "Loss (MSE)"
         }
        }
       }
      }
     },
     "metadata": {},
     "output_type": "display_data"
    }
   ],
   "source": [
    "fig = go.Figure()\n",
    "fig.add_trace(go.Scatter(x = np.linspace(1,50), y = history.history['loss'],\n",
    "                         showlegend=False, mode=\"markers+lines\"))\n",
    "fig.update_xaxes(title='Epochs')\n",
    "fig.update_yaxes(title='Loss (MSE)')"
   ]
  },
  {
   "cell_type": "markdown",
   "id": "e5b4a058",
   "metadata": {},
   "source": [
    "## Parity Plot of Training Error"
   ]
  },
  {
   "cell_type": "code",
   "execution_count": 50,
   "id": "b99a145c",
   "metadata": {},
   "outputs": [
    {
     "data": {
      "application/vnd.plotly.v1+json": {
       "config": {
        "plotlyServerURL": "https://plot.ly"
       },
       "data": [
        {
         "mode": "markers+lines",
         "showlegend": false,
         "type": "scatter",
         "x": [
          0,
          1
         ],
         "y": [
          0,
          1
         ]
        },
        {
         "mode": "markers",
         "showlegend": false,
         "type": "scatter",
         "x": [
          0.7967486381530762,
          0.7924365401268005,
          0.7889082431793213,
          0.7712782025337219,
          0.7609759569168091,
          0.7478442192077637,
          0.7326258420944214,
          0.6929405331611633,
          0.6783608794212341,
          0.658911943435669,
          0.6236633062362671,
          0.5846805572509766,
          0.5836837887763977,
          0.5739843845367432,
          0.5665915608406067,
          0.558478593826294,
          0.5501305460929871,
          0.5402397513389587,
          0.5274015665054321
         ],
         "y": [
          0.8016100309299861,
          0.7969949399615203,
          0.7857868377361868,
          0.7763309580653218,
          0.765848624244683,
          0.7534930845599199,
          0.7397368459842333,
          0.7008476120253453,
          0.6855396168404566,
          0.66500454592551,
          0.6339332800212197,
          0.610581213788824,
          0.6048220308808765,
          0.5917359995523725,
          0.5755717742174109,
          0.5661303929912626,
          0.5555132958995218,
          0.5434992456471187,
          0.5299587676127288
         ]
        },
        {
         "mode": "markers",
         "showlegend": false,
         "type": "scatter",
         "x": [
          0.796795129776001,
          0.7926009893417358,
          0.7890908122062683,
          0.773874044418335,
          0.7637771368026733,
          0.7505689263343811,
          0.7354620099067688,
          0.6950423121452332,
          0.6810621619224548,
          0.662808895111084,
          0.6312646269798279,
          0.5972847938537598,
          0.5965245366096497,
          0.5865938067436218,
          0.5794268846511841,
          0.5732303857803345,
          0.5665645599365234,
          0.5595240592956543,
          0.5517610311508179
         ],
         "y": [
          0.8022140046307998,
          0.7977864000314511,
          0.7867447367837623,
          0.7774111182306931,
          0.766877605283352,
          0.7543827612711491,
          0.7403932893514558,
          0.7012825361222509,
          0.6862613381416492,
          0.6667456881149669,
          0.6370918396674959,
          0.6141446198587568,
          0.608497340739486,
          0.5955381544893388,
          0.5798960599661158,
          0.5708397531518384,
          0.5605750083487193,
          0.5491590412143141,
          0.5363464446108186
         ]
        },
        {
         "mode": "markers",
         "showlegend": false,
         "type": "scatter",
         "x": [
          0.7968153953552246,
          0.7927659153938293,
          0.7893588542938232,
          0.7756357192993164,
          0.7652453780174255,
          0.7512842416763306,
          0.7353512644767761,
          0.6920014023780823,
          0.6767925024032593,
          0.656972348690033,
          0.6243654489517212,
          0.5930518507957458,
          0.5905346274375916,
          0.5785881876945496,
          0.5698022842407227,
          0.562222957611084,
          0.5536520481109619,
          0.54576575756073,
          0.5386595726013184
         ],
         "y": [
          0.8028675392110807,
          0.7983380603296815,
          0.7872023437606668,
          0.7775382279813847,
          0.7668357704491533,
          0.7540901875314833,
          0.7398838438957709,
          0.7001872169829029,
          0.685021903077725,
          0.6651292079824294,
          0.6350432509469439,
          0.6116793075254063,
          0.6057928297727838,
          0.5924791386487732,
          0.5763627665246799,
          0.5670891848611418,
          0.5567242045261043,
          0.545129645091011,
          0.5319927965902876
         ]
        },
        {
         "mode": "markers",
         "showlegend": false,
         "type": "scatter",
         "x": [
          0.7968481779098511,
          0.7929681539535522,
          0.7897281646728516,
          0.7769901156425476,
          0.7661460638046265,
          0.7513397336006165,
          0.7346011400222778,
          0.6893687844276428,
          0.673748791217804,
          0.6529243588447571,
          0.6197402477264404,
          0.5907880663871765,
          0.5861254930496216,
          0.5742164850234985,
          0.5656130313873291,
          0.5576721429824829,
          0.5492035746574402,
          0.5412051677703857,
          0.534615159034729
         ],
         "y": [
          0.8020662539252088,
          0.7975499267931522,
          0.7864943459772962,
          0.7768719979710501,
          0.7662091244211988,
          0.7535724849817943,
          0.7394390914625448,
          0.6998880444299707,
          0.6847230587114466,
          0.6647347546386765,
          0.6341902643943402,
          0.6103037478978065,
          0.6043399993237305,
          0.590770967742129,
          0.5743059201306571,
          0.5647525083431587,
          0.554222223367062,
          0.5423624876350162,
          0.5291539045542016
         ]
        },
        {
         "mode": "markers",
         "showlegend": false,
         "type": "scatter",
         "x": [
          0.7968930006027222,
          0.7931990027427673,
          0.7901538610458374,
          0.7781020998954773,
          0.7667757868766785,
          0.7511789202690125,
          0.7339169979095459,
          0.6874692440032959,
          0.6716919541358948,
          0.6500904560089111,
          0.6166010499000549,
          0.5889352560043335,
          0.5818352699279785,
          0.570649266242981,
          0.5623897314071655,
          0.554794192314148,
          0.5463405847549438,
          0.5384610891342163,
          0.5315365791320801
         ],
         "y": [
          0.8014777991006704,
          0.7969117377599118,
          0.7857678245187375,
          0.7761316509778601,
          0.7653883292547025,
          0.7527461362432751,
          0.7387565457979884,
          0.6993186897943969,
          0.6840373157630361,
          0.6637107285937238,
          0.6323570895515462,
          0.6077055027660722,
          0.6015925997127479,
          0.5875292222789946,
          0.5705723126939546,
          0.5607180071673351,
          0.5498138779408296,
          0.5375499550262033,
          0.5239581423367775
         ]
        },
        {
         "mode": "markers",
         "showlegend": false,
         "type": "scatter",
         "x": [
          0.7969393730163574,
          0.7934482097625732,
          0.7906115651130676,
          0.7791308760643005,
          0.7673597931861877,
          0.7511689066886902,
          0.7336928248405457,
          0.6866453886032104,
          0.6702561378479004,
          0.647304356098175,
          0.6124064326286316,
          0.5850229263305664,
          0.5757685303688049,
          0.5654616355895996,
          0.5576170682907104,
          0.5501963496208191,
          0.5415568351745605,
          0.5331697463989258,
          0.525498628616333
         ],
         "y": [
          0.8020134325075622,
          0.7974375553666506,
          0.7862776568925789,
          0.7765974641262181,
          0.7656497749760792,
          0.75281896834297,
          0.7385268970361689,
          0.6980527996965109,
          0.6823899276881653,
          0.6613182437594028,
          0.6287268948578726,
          0.6029080897103778,
          0.5964670234757133,
          0.5817338320196753,
          0.5640053778222128,
          0.5537554867447626,
          0.5424307385147906,
          0.5297699644173159,
          0.5155995518961436
         ]
        },
        {
         "mode": "markers",
         "showlegend": false,
         "type": "scatter",
         "x": [
          0.7969911694526672,
          0.7936967611312866,
          0.7910410165786743,
          0.779987096786499,
          0.7677773237228394,
          0.7510998845100403,
          0.7335869669914246,
          0.686065673828125,
          0.6693069934844971,
          0.6455125212669373,
          0.609738826751709,
          0.5823707580566406,
          0.5714102983474731,
          0.5618951320648193,
          0.5540913939476013,
          0.5460968017578125,
          0.5369265079498291,
          0.5277993679046631,
          0.5196337103843689
         ],
         "y": [
          0.8015159006414324,
          0.7968989781167711,
          0.7857042606322755,
          0.7759943898481755,
          0.7650069253412976,
          0.7520958182209854,
          0.7377418953976553,
          0.6968187777531589,
          0.6807970045087839,
          0.6592874105713887,
          0.6254710213046794,
          0.5987614886232476,
          0.5919725694184718,
          0.5766663018365232,
          0.5582186667689467,
          0.5475491907794109,
          0.5357996675615537,
          0.5226457854070451,
          0.5080443231515854
         ]
        },
        {
         "mode": "markers",
         "showlegend": false,
         "type": "scatter",
         "x": [
          0.7970479726791382,
          0.7939289808273315,
          0.7914148569107056,
          0.7806748747825623,
          0.7680237293243408,
          0.7509372234344482,
          0.7335000038146973,
          0.6856298446655273,
          0.6688849925994873,
          0.6444128155708313,
          0.6078829765319824,
          0.5805515646934509,
          0.567918062210083,
          0.5588939189910889,
          0.5505834817886353,
          0.5422016978263855,
          0.5320217609405518,
          0.521963894367218,
          0.5129295587539673
         ],
         "y": [
          0.8009894857640159,
          0.7963452493621241,
          0.7852562361907885,
          0.775501322076073,
          0.7645662339447745,
          0.7515756837966937,
          0.7371678559948677,
          0.695904041595959,
          0.6797081002255791,
          0.6577586284199474,
          0.622785771597195,
          0.5949096370384449,
          0.587892745234363,
          0.5719311843502541,
          0.5527327219801232,
          0.5415872048279448,
          0.5292966605793867,
          0.5157870024851562,
          0.5006023034277586
         ]
        },
        {
         "mode": "markers",
         "showlegend": false,
         "type": "scatter",
         "x": [
          0.7971011400222778,
          0.794141948223114,
          0.7917351722717285,
          0.7812435030937195,
          0.7681715488433838,
          0.7507922649383545,
          0.7335331439971924,
          0.6854996681213379,
          0.6688323616981506,
          0.6442409753799438,
          0.6077436804771423,
          0.5807026028633118,
          0.5668342113494873,
          0.5583027601242065,
          0.5499881505966187,
          0.5412960648536682,
          0.5304438471794128,
          0.5195918083190918,
          0.5097469687461853
         ],
         "y": [
          0.8008837443101097,
          0.7962837486889113,
          0.7850681532117878,
          0.7754010809749645,
          0.7644438968783702,
          0.7515011528735417,
          0.7371975150144983,
          0.6959914931652337,
          0.6798812959893501,
          0.6576211307127899,
          0.6221619328205048,
          0.5935298921204191,
          0.5863318070596311,
          0.5699539892958025,
          0.5502906356408455,
          0.5389430819390874,
          0.5264444495508102,
          0.5124320350797122,
          0.4969737032390615
         ]
        },
        {
         "mode": "markers",
         "showlegend": false,
         "type": "scatter",
         "x": [
          0.7971465587615967,
          0.7943354845046997,
          0.7920117378234863,
          0.7817654013633728,
          0.7683144807815552,
          0.7507990002632141,
          0.7338427305221558,
          0.6863705515861511,
          0.6697778701782227,
          0.6450233459472656,
          0.6082253456115723,
          0.581440269947052,
          0.5669757127761841,
          0.5589320659637451,
          0.5502872467041016,
          0.5408755540847778,
          0.5293745994567871,
          0.5180889368057251,
          0.5079190731048584
         ],
         "y": [
          0.80190145056646,
          0.7972107688155697,
          0.7861262185782434,
          0.7762750972775153,
          0.765310086372688,
          0.75243141348022,
          0.7381250852880408,
          0.6973213975697286,
          0.6811148699519014,
          0.6589543084623721,
          0.6230873672781064,
          0.5941044262487102,
          0.5867548506872106,
          0.5702413319658266,
          0.5503074413831098,
          0.5388599746376799,
          0.5261415718558415,
          0.512028493516351,
          0.4964151533295701
         ]
        },
        {
         "mode": "markers",
         "showlegend": false,
         "type": "scatter",
         "x": [
          0.7971930503845215,
          0.7945071458816528,
          0.792232871055603,
          0.7821616530418396,
          0.7683132290840149,
          0.7506911158561707,
          0.7339455485343933,
          0.6866236329078674,
          0.6698225140571594,
          0.6447005867958069,
          0.6075944304466248,
          0.5810930728912354,
          0.5659236907958984,
          0.5580340027809143,
          0.5485561490058899,
          0.5383491516113281,
          0.5261709690093994,
          0.5144214630126953,
          0.5038057565689087
         ],
         "y": [
          0.8015557752215197,
          0.796931822941633,
          0.7858666285007941,
          0.776086078939987,
          0.7650958276722432,
          0.7521245444478353,
          0.7378825653084226,
          0.696918349700053,
          0.6806758048046055,
          0.658115920875012,
          0.6214292279934563,
          0.5915068563288723,
          0.583993195711974,
          0.5668668627967199,
          0.5463113714352571,
          0.5345185088937217,
          0.5214614760350472,
          0.5069090184828002,
          0.49073226244073914
         ]
        },
        {
         "mode": "markers",
         "showlegend": false,
         "type": "scatter",
         "x": [
          0.7972320914268494,
          0.7946532964706421,
          0.7924028038978577,
          0.7824614644050598,
          0.7681928277015686,
          0.7505004405975342,
          0.7339428067207336,
          0.6868622303009033,
          0.6699005961418152,
          0.6445322036743164,
          0.6072595715522766,
          0.580748975276947,
          0.5648602247238159,
          0.5569920539855957,
          0.5469761490821838,
          0.5360825061798096,
          0.5233743190765381,
          0.5111345052719116,
          0.5003529191017151
         ],
         "y": [
          0.8018420217998582,
          0.7972500911271246,
          0.7861322057721764,
          0.776354652872554,
          0.7653345454545271,
          0.7524074578276275,
          0.7380832134957559,
          0.6972815034498362,
          0.6809095719387205,
          0.6580401636726029,
          0.6207111915430588,
          0.5902496681615765,
          0.582543886062886,
          0.5650037915248916,
          0.5440239730320489,
          0.5318952899901376,
          0.5186437642481077,
          0.5038190629533672,
          0.48720895413736043
         ]
        },
        {
         "mode": "markers",
         "showlegend": false,
         "type": "scatter",
         "x": [
          0.7972772121429443,
          0.7947724461555481,
          0.7925014495849609,
          0.7825397849082947,
          0.767776370048523,
          0.7499789595603943,
          0.7333868145942688,
          0.6848495602607727,
          0.6672342419624329,
          0.6404610872268677,
          0.6010847091674805,
          0.5731053352355957,
          0.5559102296829224,
          0.5477768182754517,
          0.5365335941314697,
          0.5245814919471741,
          0.510828971862793,
          0.4979984164237976,
          0.48629117012023926
         ],
         "y": [
          0.8002621585140549,
          0.7955365306586756,
          0.7843279629028036,
          0.7744838515838204,
          0.763309656797198,
          0.7502556473170412,
          0.7358255433128531,
          0.6936066382907202,
          0.6766580156352355,
          0.6526183984755592,
          0.6129591215564505,
          0.580460078589364,
          0.5722588307698127,
          0.5535307344687003,
          0.531229779975303,
          0.5183790087894865,
          0.5040862826069619,
          0.4883148680435999,
          0.4705794682479147
         ]
        },
        {
         "mode": "markers",
         "showlegend": false,
         "type": "scatter",
         "x": [
          0.797312319278717,
          0.7948718070983887,
          0.7925707101821899,
          0.7826029658317566,
          0.7674366235733032,
          0.7497696280479431,
          0.7334257364273071,
          0.6849929094314575,
          0.6672866940498352,
          0.6399602293968201,
          0.5996795892715454,
          0.5712424516677856,
          0.5536400079727173,
          0.5454120635986328,
          0.5331777334213257,
          0.5202879905700684,
          0.505563497543335,
          0.4922143518924713,
          0.48030319809913635
         ],
         "y": [
          0.8010114101665952,
          0.7963451659997394,
          0.785199548695867,
          0.7752721773054422,
          0.7641066249646853,
          0.7510654501234083,
          0.7365651675614818,
          0.6945007468159395,
          0.6775984511659441,
          0.6534476053161011,
          0.6134605356487408,
          0.5806411018336971,
          0.5722452093103378,
          0.5534043322007847,
          0.5307662044132555,
          0.5178203924492913,
          0.5034198356422667,
          0.4873353982394486,
          0.46942884620864445
         ]
        },
        {
         "mode": "markers",
         "showlegend": false,
         "type": "scatter",
         "x": [
          0.7973466515541077,
          0.7949575781822205,
          0.792615532875061,
          0.78261399269104,
          0.7671135067939758,
          0.7497340440750122,
          0.7337169051170349,
          0.6856478452682495,
          0.6681830883026123,
          0.6409095525741577,
          0.6003565788269043,
          0.5721428394317627,
          0.5546225309371948,
          0.5460395812988281,
          0.5326422452926636,
          0.5194004774093628,
          0.5044744610786438,
          0.49070337414741516,
          0.4783400595188141
         ],
         "y": [
          0.8007656754680286,
          0.7960533039818566,
          0.7849631201718333,
          0.7750532489083537,
          0.7640115680611113,
          0.7508333846331843,
          0.7364029352786038,
          0.6943789466290197,
          0.6772842572818893,
          0.65303908229126,
          0.6122614643620838,
          0.578748697737439,
          0.5701837294724066,
          0.5508391467572091,
          0.5277411454297494,
          0.5143723244017714,
          0.4996153445008935,
          0.4832474315550332,
          0.46475462982321936
         ]
        },
        {
         "mode": "markers",
         "showlegend": false,
         "type": "scatter",
         "x": [
          0.7973807454109192,
          0.7950270175933838,
          0.7926274538040161,
          0.782542884349823,
          0.7667362689971924,
          0.7496727705001831,
          0.7339500188827515,
          0.6862867474555969,
          0.6688007116317749,
          0.6414111852645874,
          0.6003870964050293,
          0.5715821981430054,
          0.5535398125648499,
          0.5443228483200073,
          0.5303750038146973,
          0.5165009498596191,
          0.501329779624939,
          0.4871827960014343,
          0.47443687915802
         ],
         "y": [
          0.8004782794691243,
          0.7958987359108702,
          0.7847742565006584,
          0.7750955395841331,
          0.7641227012738203,
          0.7513194674756586,
          0.7369786773536069,
          0.6950220143409679,
          0.6778319961085322,
          0.6531526685217804,
          0.6116079211576083,
          0.5771798439813378,
          0.568423181288664,
          0.5485668945291665,
          0.5248034575102852,
          0.5111302179737777,
          0.49604586550564816,
          0.4789939447228083,
          0.45997386941776286
         ]
        },
        {
         "mode": "markers",
         "showlegend": false,
         "type": "scatter",
         "x": [
          0.7974103689193726,
          0.795080840587616,
          0.7926145792007446,
          0.7823917269706726,
          0.7662671208381653,
          0.7494302988052368,
          0.7337455153465271,
          0.6850913166999817,
          0.6669648289680481,
          0.6387380361557007,
          0.5966301560401917,
          0.5672143697738647,
          0.5490615367889404,
          0.5395437479019165,
          0.524311900138855,
          0.5093761682510376,
          0.4932860732078552,
          0.478674054145813,
          0.46532726287841797
         ],
         "y": [
          0.8006505360247838,
          0.7958632040044037,
          0.7846073119944452,
          0.7746525897234818,
          0.7634531994327447,
          0.7502832734661044,
          0.7356849094941889,
          0.6928302995752504,
          0.6753449474103909,
          0.6500075533863435,
          0.607007333753519,
          0.571278292328698,
          0.5622381087679598,
          0.5416559771333473,
          0.517008723464585,
          0.5027890689026951,
          0.48705506252370007,
          0.46940552325504425,
          0.4495586676619142
         ]
        },
        {
         "mode": "markers",
         "showlegend": false,
         "type": "scatter",
         "x": [
          0.7974188327789307,
          0.7951395511627197,
          0.7926490306854248,
          0.7824851870536804,
          0.7663753032684326,
          0.7501023411750793,
          0.7349571585655212,
          0.6903954148292542,
          0.673724889755249,
          0.6481400728225708,
          0.6098434925079346,
          0.5837655663490295,
          0.5679134130477905,
          0.5584621429443359,
          0.544197678565979,
          0.5307930707931519,
          0.5161117315292358,
          0.5026804804801941,
          0.490631103515625
         ],
         "y": [
          0.8053902535884014,
          0.8007876202673581,
          0.7896987504018891,
          0.7799043761113624,
          0.7688034739381212,
          0.7560602747331107,
          0.7418807040403192,
          0.7027265361491343,
          0.6866186831496932,
          0.6636431847124384,
          0.6247170204704283,
          0.5922534510668963,
          0.584023471724105,
          0.5652448687323396,
          0.543036742905995,
          0.5301033293353096,
          0.5158178652088299,
          0.49995395871902537,
          0.4821091202681242
         ]
        },
        {
         "mode": "markers",
         "showlegend": false,
         "type": "scatter",
         "x": [
          0.7974322438240051,
          0.7951869964599609,
          0.7926603555679321,
          0.7824236154556274,
          0.766106128692627,
          0.7500312924385071,
          0.7349078059196472,
          0.6920928359031677,
          0.6754366159439087,
          0.6506081223487854,
          0.614073634147644,
          0.5894256234169006,
          0.5746430158615112,
          0.5652633905410767,
          0.5515450835227966,
          0.5388813018798828,
          0.5248103141784668,
          0.5117765665054321,
          0.49990856647491455
         ],
         "y": [
          0.806019372378624,
          0.8014712735792945,
          0.7903310374311157,
          0.7805667746840419,
          0.7694706627794256,
          0.7568490859445602,
          0.7428328516702336,
          0.7042152735451371,
          0.6884466315822177,
          0.6655656273943886,
          0.6267933548145759,
          0.5944049362753883,
          0.5861762113731228,
          0.5675640547409946,
          0.5452506718100799,
          0.5323907785183505,
          0.5181025220027831,
          0.5023168440271848,
          0.4845344198135204
         ]
        },
        {
         "mode": "markers",
         "showlegend": false,
         "type": "scatter",
         "x": [
          0.7974496483802795,
          0.7952114939689636,
          0.7926123142242432,
          0.7820329666137695,
          0.7651326060295105,
          0.7487884759902954,
          0.7330586910247803,
          0.6892170310020447,
          0.6711740493774414,
          0.6444565057754517,
          0.6055886745452881,
          0.5791574120521545,
          0.5634273290634155,
          0.5536609888076782,
          0.5390682220458984,
          0.5255588293075562,
          0.5105262994766235,
          0.4960651397705078,
          0.48309341073036194
         ],
         "y": [
          0.8044225792269073,
          0.7997994947392971,
          0.7886220316271577,
          0.7787661494969531,
          0.7676169213381773,
          0.7548024592756478,
          0.7405496896477137,
          0.7005705105679713,
          0.6841261049842748,
          0.6598870689760706,
          0.6186362938208446,
          0.5842009362137759,
          0.5754098407848477,
          0.5556305203185591,
          0.5318574492883666,
          0.5180822758666161,
          0.5029060634966416,
          0.4859299891138475,
          0.4667912974976426
         ]
        },
        {
         "mode": "markers",
         "showlegend": false,
         "type": "scatter",
         "x": [
          0.7974629402160645,
          0.7952233552932739,
          0.7925370931625366,
          0.7814770936965942,
          0.7639940977096558,
          0.747523307800293,
          0.7314038276672363,
          0.6869794130325317,
          0.6681496500968933,
          0.6400010585784912,
          0.5992705225944519,
          0.5713924169540405,
          0.5557186603546143,
          0.5451265573501587,
          0.5293785333633423,
          0.5148032903671265,
          0.49887698888778687,
          0.4840683341026306,
          0.47002339363098145
         ],
         "y": [
          0.8038537542047087,
          0.79922342897269,
          0.7880643608562318,
          0.7782290350152979,
          0.7670791334742426,
          0.7543020913155517,
          0.7401049477460196,
          0.6997201856722142,
          0.6829582168194156,
          0.6581948178307035,
          0.6158116498930478,
          0.5803814022565996,
          0.5712531120853259,
          0.5508542912094245,
          0.5264080088803816,
          0.5121461291454632,
          0.4964762512402127,
          0.47890875069699046,
          0.45894244112421184
         ]
        },
        {
         "mode": "markers",
         "showlegend": false,
         "type": "scatter",
         "x": [
          0.7974783182144165,
          0.7952307462692261,
          0.792452871799469,
          0.7808496356010437,
          0.7630075812339783,
          0.7467454075813293,
          0.7306310534477234,
          0.6861729621887207,
          0.6672617197036743,
          0.6380636692047119,
          0.5957439541816711,
          0.5667452216148376,
          0.5515807271003723,
          0.5389212965965271,
          0.522065281867981,
          0.5067098140716553,
          0.4901598393917084,
          0.47421127557754517,
          0.4597272276878357
         ],
         "y": [
          0.8037046605827964,
          0.7990909722546424,
          0.7878696120666918,
          0.7780389900246601,
          0.7669588165042549,
          0.7540653629306222,
          0.7398099187321697,
          0.6991041561271055,
          0.681995551078762,
          0.6568229392589151,
          0.6133161595303049,
          0.5768899343452961,
          0.5676027651429584,
          0.546583434104621,
          0.5213552833040267,
          0.5067956453467564,
          0.49057788168110683,
          0.472416713695316,
          0.45171325568867643
         ]
        },
        {
         "mode": "markers",
         "showlegend": false,
         "type": "scatter",
         "x": [
          0.7974851131439209,
          0.7952389121055603,
          0.7923913598060608,
          0.7803528904914856,
          0.7625715732574463,
          0.7468516826629639,
          0.7311763763427734,
          0.6887460947036743,
          0.6708995699882507,
          0.6436667442321777,
          0.6040253639221191,
          0.5773708820343018,
          0.5634370446205139,
          0.5489262938499451,
          0.5324313640594482,
          0.5176174640655518,
          0.5013817548751831,
          0.48612430691719055,
          0.4721275866031647
         ],
         "y": [
          0.8058662698239634,
          0.8013660127569231,
          0.790150322516344,
          0.7804186309819622,
          0.769249009952994,
          0.7565313141182799,
          0.7424458063368636,
          0.703355868479866,
          0.6869582136867811,
          0.6626310674021231,
          0.6207487050283791,
          0.5854280075299209,
          0.5764119375023419,
          0.5561050762692156,
          0.531707557605142,
          0.5175755262389692,
          0.5019275324823866,
          0.48440499855366126,
          0.4645065168082177
         ]
        },
        {
         "mode": "markers",
         "showlegend": false,
         "type": "scatter",
         "x": [
          0.7975086569786072,
          0.7952394485473633,
          0.7922844886779785,
          0.7795029878616333,
          0.7615217566490173,
          0.7459372878074646,
          0.7300016283988953,
          0.6856751441955566,
          0.6667633056640625,
          0.6375129818916321,
          0.5943936109542847,
          0.5646555423736572,
          0.5503247976303101,
          0.5331413745880127,
          0.5144982933998108,
          0.4977281391620636,
          0.4795041084289551,
          0.4625279903411865,
          0.44687142968177795
         ],
         "y": [
          0.8029008462417347,
          0.7982552061349659,
          0.7870306533574841,
          0.7771470585842394,
          0.7659828780240154,
          0.7530377942665603,
          0.7387231649901809,
          0.6975098328340574,
          0.6798638410284681,
          0.6535882493882799,
          0.6079076439168235,
          0.5693862277003081,
          0.5595902392767309,
          0.5373694861112095,
          0.5106318735938052,
          0.4952582746450576,
          0.47790786887834824,
          0.4583838750070281,
          0.43598922570032805
         ]
        },
        {
         "mode": "markers",
         "showlegend": false,
         "type": "scatter",
         "x": [
          0.7975375056266785,
          0.7952079772949219,
          0.7920835614204407,
          0.7781561613082886,
          0.7599098086357117,
          0.7445228695869446,
          0.7284137010574341,
          0.6807675361633301,
          0.6604506373405457,
          0.6274470686912537,
          0.5785830616950989,
          0.5425117015838623,
          0.5263859033584595,
          0.5049605369567871,
          0.4834006428718567,
          0.4646817147731781,
          0.44466009736061096,
          0.42626816034317017,
          0.40859857201576233
         ],
         "y": [
          0.7983863212712519,
          0.793491535849451,
          0.7817990129883686,
          0.7718390835792204,
          0.7611058483274785,
          0.7487236729393786,
          0.7342196893072891,
          0.6907261587450868,
          0.6720655601015227,
          0.6433681204364108,
          0.592992587932597,
          0.5505681893137805,
          0.5398586528790474,
          0.5153460621572488,
          0.4861073461312428,
          0.4688732216669247,
          0.44952183499169407,
          0.4277002416144563,
          0.40237531690232964
         ]
        },
        {
         "mode": "markers",
         "showlegend": false,
         "type": "scatter",
         "x": [
          0.7975590825080872,
          0.7951910495758057,
          0.7919430136680603,
          0.7773289084434509,
          0.7598644495010376,
          0.7451117038726807,
          0.7291943430900574,
          0.6799342036247253,
          0.6597872972488403,
          0.6257362961769104,
          0.5735893249511719,
          0.5384824872016907,
          0.5235892534255981,
          0.5002368688583374,
          0.47819602489471436,
          0.4581991136074066,
          0.43643635511398315,
          0.41554850339889526,
          0.39594724774360657
         ],
         "y": [
          0.7991827951251113,
          0.7944005839720993,
          0.7830404187924035,
          0.7730921869841381,
          0.7617552974920945,
          0.7485337514488964,
          0.7338110404228798,
          0.689288010585219,
          0.6699235132269843,
          0.6406386373397669,
          0.5888855643950917,
          0.5450726119742588,
          0.5340202030472959,
          0.5086698062622257,
          0.47787698668160083,
          0.459862423452976,
          0.4394739497524436,
          0.41613406968040834,
          0.38886984175682215
         ]
        },
        {
         "mode": "markers",
         "showlegend": false,
         "type": "scatter",
         "x": [
          0.7975848317146301,
          0.7951914668083191,
          0.7918635010719299,
          0.776968777179718,
          0.7607678174972534,
          0.7468516230583191,
          0.7318406105041504,
          0.6843606233596802,
          0.6656147837638855,
          0.6340540051460266,
          0.5846007466316223,
          0.5512558221817017,
          0.5365471839904785,
          0.511845588684082,
          0.49012404680252075,
          0.4706028997898102,
          0.44884607195854187,
          0.4287520945072174,
          0.4094368517398834
         ],
         "y": [
          0.8008751603171479,
          0.7961219669011119,
          0.7847710834590315,
          0.7748538476567403,
          0.7635535543441856,
          0.7504240296781788,
          0.7358305326629102,
          0.6925670898693823,
          0.6738069049209005,
          0.6452107030165564,
          0.5946495788173929,
          0.5518535980012746,
          0.5409275660644577,
          0.5160963162763115,
          0.4860413411601985,
          0.4684337810034867,
          0.4486635642592131,
          0.425796673754576,
          0.39923201268486946
         ]
        },
        {
         "mode": "markers",
         "showlegend": false,
         "type": "scatter",
         "x": [
          0.7976062297821045,
          0.7951741814613342,
          0.7917425632476807,
          0.77637779712677,
          0.7610517740249634,
          0.7475283145904541,
          0.7328440546989441,
          0.6843475699424744,
          0.6651989817619324,
          0.6330015659332275,
          0.5817598700523376,
          0.5459686517715454,
          0.5303691625595093,
          0.5039473176002502,
          0.48100554943084717,
          0.4602915644645691,
          0.4373394846916199,
          0.41544729471206665,
          0.39463961124420166
         ],
         "y": [
          0.7993476104152832,
          0.7946706442573274,
          0.7832013045445466,
          0.7731767802843199,
          0.7618007521675547,
          0.7485354813517977,
          0.7337569492873266,
          0.6890043699470545,
          0.669349674762284,
          0.6395190925511026,
          0.5863547512698195,
          0.5409646387270607,
          0.5295415260973421,
          0.5031782738101134,
          0.4712346897156014,
          0.45225270122587824,
          0.43084874976635523,
          0.4060273607955566,
          0.3769525853756837
         ]
        },
        {
         "mode": "markers",
         "showlegend": false,
         "type": "scatter",
         "x": [
          0.7976231575012207,
          0.7951436638832092,
          0.791603147983551,
          0.7757430672645569,
          0.761165201663971,
          0.7478523254394531,
          0.7333449125289917,
          0.6841631531715393,
          0.6644718647003174,
          0.6310036778450012,
          0.5776811838150024,
          0.5402382016181946,
          0.5249991416931152,
          0.4983048737049103,
          0.4750441014766693,
          0.4532773196697235,
          0.4294070899486542,
          0.4066920578479767,
          0.38445964455604553
         ],
         "y": [
          0.7991043656845545,
          0.7944464533671748,
          0.7831056008185742,
          0.7730458696985868,
          0.7615758766390809,
          0.748376278450956,
          0.7335816707363123,
          0.6887165699457048,
          0.6690446732582838,
          0.6388165458841184,
          0.5847163538511291,
          0.5387059012946868,
          0.5269785441793519,
          0.5001682896049294,
          0.46740121841982607,
          0.4480821242165817,
          0.4259734878151368,
          0.4004464426709964,
          0.37018472105240247
         ]
        },
        {
         "mode": "markers",
         "showlegend": false,
         "type": "scatter",
         "x": [
          0.7976393103599548,
          0.7951194047927856,
          0.7914868593215942,
          0.7753002047538757,
          0.7615066170692444,
          0.748399555683136,
          0.7340716123580933,
          0.6851087212562561,
          0.6654729247093201,
          0.6324218511581421,
          0.5786824226379395,
          0.5406072735786438,
          0.5258845686912537,
          0.49919816851615906,
          0.4758848249912262,
          0.453950971364975,
          0.42992520332336426,
          0.40623652935028076,
          0.3839585781097412
         ],
         "y": [
          0.8001990617945861,
          0.7955227175702981,
          0.7841533536135208,
          0.7741148048461114,
          0.7626413823938596,
          0.7494966714002946,
          0.7347216105142718,
          0.6901036589860895,
          0.6703518470438931,
          0.6402967214200546,
          0.5862321257416108,
          0.540101313318802,
          0.5283668275242521,
          0.5014906779864248,
          0.4686535481497343,
          0.44918617985950166,
          0.4269153271696658,
          0.40116040429820776,
          0.37075736603809434
         ]
        },
        {
         "mode": "markers",
         "showlegend": false,
         "type": "scatter",
         "x": [
          0.7976534366607666,
          0.7950820326805115,
          0.7913453578948975,
          0.7747714519500732,
          0.7616011500358582,
          0.7485491037368774,
          0.7342272996902466,
          0.6849933862686157,
          0.6652917861938477,
          0.6323198080062866,
          0.5780208110809326,
          0.5391523838043213,
          0.5249207019805908,
          0.4974299371242523,
          0.4735790491104126,
          0.45101872086524963,
          0.42643412947654724,
          0.4023720324039459,
          0.3798358738422394
         ],
         "y": [
          0.7996235030995912,
          0.794881845554007,
          0.7836404391281132,
          0.7737751464560342,
          0.7624736195360897,
          0.7494891258706283,
          0.7346565346053143,
          0.6900980390967978,
          0.6703771174349165,
          0.6400374594442514,
          0.5853393110381739,
          0.5385601517549586,
          0.5265685420473385,
          0.499369141552061,
          0.46587725847421857,
          0.44620280498847964,
          0.4233704133353359,
          0.39699532786372643,
          0.3654284935060984
         ]
        },
        {
         "mode": "markers",
         "showlegend": false,
         "type": "scatter",
         "x": [
          0.7976652979850769,
          0.7950378656387329,
          0.7911901473999023,
          0.7742053270339966,
          0.7614887356758118,
          0.7483721375465393,
          0.7340335249900818,
          0.6847631335258484,
          0.6650645136833191,
          0.6319883465766907,
          0.5765204429626465,
          0.5365400314331055,
          0.5221184492111206,
          0.4932954013347626,
          0.46859386563301086,
          0.4458632469177246,
          0.4202998876571655,
          0.39540374279022217,
          0.3711479604244232
         ],
         "y": [
          0.7992154638613098,
          0.7945250623050382,
          0.783100422803951,
          0.7730038890175078,
          0.7617204589393762,
          0.7485556183768046,
          0.7337035294989742,
          0.6888703715851775,
          0.6688184784372567,
          0.637945905491944,
          0.5820039750913772,
          0.534119067852419,
          0.5218935415654604,
          0.49380728553814024,
          0.4593844038607892,
          0.43884121609622795,
          0.4151939725201784,
          0.38761004911749297,
          0.3539982680861977
         ]
        },
        {
         "mode": "markers",
         "showlegend": false,
         "type": "scatter",
         "x": [
          0.7976739406585693,
          0.7949885129928589,
          0.7910270690917969,
          0.7737131714820862,
          0.7614312171936035,
          0.7483714818954468,
          0.7340420484542847,
          0.6845367550849915,
          0.6645851731300354,
          0.6310559511184692,
          0.5744855403900146,
          0.5332921743392944,
          0.5190519094467163,
          0.48932382464408875,
          0.46403050422668457,
          0.4405737817287445,
          0.4137238562107086,
          0.3881444036960602,
          0.3629375398159027
         ],
         "y": [
          0.799178140691005,
          0.7942544463202202,
          0.7829829608525992,
          0.7730656382965457,
          0.761610475814665,
          0.7485055913673745,
          0.7337502254483239,
          0.6886474532694705,
          0.6685901681356443,
          0.6372834108922435,
          0.5807044718916208,
          0.5320508174980806,
          0.5197388265326208,
          0.49126917327839487,
          0.45621255681018213,
          0.43528983289774603,
          0.4110499920816971,
          0.3828716084687426,
          0.3485209873927556
         ]
        },
        {
         "mode": "markers",
         "showlegend": false,
         "type": "scatter",
         "x": [
          0.7976821660995483,
          0.7949481010437012,
          0.7908915281295776,
          0.773490846157074,
          0.7617092728614807,
          0.7487798929214478,
          0.7346264719963074,
          0.6862560510635376,
          0.6666060090065002,
          0.63373863697052,
          0.5774508714675903,
          0.5357500314712524,
          0.5217322111129761,
          0.49203887581825256,
          0.46719443798065186,
          0.4434543550014496,
          0.41649124026298523,
          0.3903210759162903,
          0.3652324676513672
         ],
         "y": [
          0.7998428808727805,
          0.795136690556262,
          0.783822563248556,
          0.7738299722921873,
          0.7625735239246321,
          0.7495971992527222,
          0.7350668393350754,
          0.6906266686631428,
          0.670659917526635,
          0.6397141806611427,
          0.5834086776068267,
          0.5351507096446605,
          0.5228575095098625,
          0.4944646891267557,
          0.45953812774844555,
          0.43866556164926546,
          0.4146185111068187,
          0.3865031111240074,
          0.35237987163054274
         ]
        },
        {
         "mode": "markers",
         "showlegend": false,
         "type": "scatter",
         "x": [
          0.7976896166801453,
          0.7948961853981018,
          0.7907266616821289,
          0.7730855345726013,
          0.7615264058113098,
          0.7484897971153259,
          0.7340604066848755,
          0.6844127774238586,
          0.6639148592948914,
          0.6299529671669006,
          0.571666419506073,
          0.5280276536941528,
          0.5149489641189575,
          0.4834613502025604,
          0.45683690905570984,
          0.4312633275985718,
          0.4028366804122925,
          0.3754097521305084,
          0.34849390387535095
         ],
         "y": [
          0.7993869474924491,
          0.7946381343268433,
          0.7831213013016397,
          0.7731545386637597,
          0.7616987486496475,
          0.7484870673632463,
          0.7336319912585287,
          0.6881951363004128,
          0.6677490192233411,
          0.6358590639279014,
          0.5776358735960303,
          0.5276642987884942,
          0.5148890027075282,
          0.48541756057372976,
          0.4489854564363507,
          0.42702826702982893,
          0.40148584816648464,
          0.3712176249412101,
          0.33445089234818426
         ]
        },
        {
         "mode": "markers",
         "showlegend": false,
         "type": "scatter",
         "x": [
          0.7977045774459839,
          0.7948998808860779,
          0.7907074093818665,
          0.7735409736633301,
          0.7624949216842651,
          0.7497650980949402,
          0.7358646988868713,
          0.6916393637657166,
          0.6739286184310913,
          0.6452011466026306,
          0.5946164131164551,
          0.5563445091247559,
          0.5425689220428467,
          0.5154073238372803,
          0.4930451512336731,
          0.471867173910141,
          0.44848793745040894,
          0.4259217083454132,
          0.4037594199180603
         ],
         "y": [
          0.8045015111546939,
          0.7998390284460256,
          0.788458811573585,
          0.778686211741783,
          0.7674735193616551,
          0.7547001953294985,
          0.7404942983553855,
          0.6994719252363646,
          0.6810972816051206,
          0.6526976410312948,
          0.6011008524250863,
          0.5566965371020898,
          0.545417767029026,
          0.5194962798265886,
          0.48774204633760543,
          0.46907854229933305,
          0.44768336103883566,
          0.42272303614278334,
          0.3930767754661847
         ]
        },
        {
         "mode": "markers",
         "showlegend": false,
         "type": "scatter",
         "x": [
          0.7977051734924316,
          0.7948256731033325,
          0.7904596924781799,
          0.7724980711936951,
          0.7611255645751953,
          0.7477313876152039,
          0.7327954769134521,
          0.6856324672698975,
          0.664792537689209,
          0.6312229037284851,
          0.5740072727203369,
          0.5306334495544434,
          0.5193049311637878,
          0.4871002435684204,
          0.46029067039489746,
          0.4346405267715454,
          0.4057460129261017,
          0.3769967555999756,
          0.3489539325237274
         ],
         "y": [
          0.8000619768058098,
          0.795310320857359,
          0.7838192593176118,
          0.7738757776184483,
          0.7625482339338792,
          0.7494354606366245,
          0.7348101912281134,
          0.690029926752245,
          0.6697580166919883,
          0.638102348669332,
          0.5799029830583748,
          0.5298480758838473,
          0.5170687781795303,
          0.48756396604810087,
          0.45096929106507516,
          0.42893564753549673,
          0.4032351808223412,
          0.3727772453393941,
          0.33531346063497613
         ]
        },
        {
         "mode": "markers",
         "showlegend": false,
         "type": "scatter",
         "x": [
          0.7976925373077393,
          0.7947390079498291,
          0.7901755571365356,
          0.7714883089065552,
          0.7599877119064331,
          0.7463363409042358,
          0.7308893799781799,
          0.6820635795593262,
          0.6600242853164673,
          0.6236967444419861,
          0.5623437166213989,
          0.5161887407302856,
          0.5065396428108215,
          0.4720397889614105,
          0.44347357749938965,
          0.41627252101898193,
          0.3854796290397644,
          0.35556092858314514,
          0.3262151777744293
         ],
         "y": [
          0.7995990649841921,
          0.7948635429566562,
          0.7834938951687825,
          0.7734332718311886,
          0.7621018117314183,
          0.7489229947047384,
          0.7341082292159511,
          0.6890085965982373,
          0.668326383070005,
          0.6359700049586606,
          0.57645059911991,
          0.5252796528690166,
          0.5121582115690052,
          0.48177877415188314,
          0.44401825441732345,
          0.42105193185530676,
          0.3943084787727518,
          0.36240807319480517,
          0.32264923542038215
         ]
        },
        {
         "mode": "markers",
         "showlegend": false,
         "type": "scatter",
         "x": [
          0.7976951003074646,
          0.7946916222572327,
          0.7899935841560364,
          0.771416962146759,
          0.7603046894073486,
          0.7471649646759033,
          0.7323498725891113,
          0.6852397918701172,
          0.6649574041366577,
          0.6315296292304993,
          0.5732638239860535,
          0.528389036655426,
          0.5161246061325073,
          0.4825705885887146,
          0.4551701545715332,
          0.42888590693473816,
          0.3993571400642395,
          0.370450496673584,
          0.3423137068748474
         ],
         "y": [
          0.8013746593327629,
          0.7966280927153991,
          0.7852962233815328,
          0.7752501223385557,
          0.7639324261837969,
          0.7508198925709159,
          0.7362584306711301,
          0.692216801319832,
          0.6720758327606815,
          0.6404521038217359,
          0.5824671074256783,
          0.5325183561775316,
          0.5195903822213788,
          0.49002858780410297,
          0.45343248278041004,
          0.43124291394671993,
          0.405480327366541,
          0.37461980888325597,
          0.336698557701991
         ]
        },
        {
         "mode": "markers",
         "showlegend": false,
         "type": "scatter",
         "x": [
          0.7976935505867004,
          0.7946358919143677,
          0.7897767424583435,
          0.7712192535400391,
          0.7603044509887695,
          0.7474619746208191,
          0.7328886389732361,
          0.6862853169441223,
          0.6661977767944336,
          0.6333110928535461,
          0.5747106075286865,
          0.5287308096885681,
          0.516401469707489,
          0.48200082778930664,
          0.4539288580417633,
          0.4267921447753906,
          0.3965439200401306,
          0.36710935831069946,
          0.3373670279979706
         ],
         "y": [
          0.8010195230542219,
          0.7962194623701432,
          0.7849010907808341,
          0.7748734477467882,
          0.7636444670270706,
          0.7505714239848786,
          0.7359723425266761,
          0.6918227741492882,
          0.6714988377542057,
          0.6395526293936921,
          0.5807004284026785,
          0.5297960463547531,
          0.5169327518678383,
          0.48677947199126714,
          0.4493544297650687,
          0.42650118275011,
          0.3998261717027327,
          0.36815234452800727,
          0.328187686480179
         ]
        },
        {
         "mode": "markers",
         "showlegend": false,
         "type": "scatter",
         "x": [
          0.7976793050765991,
          0.7945326566696167,
          0.7894054651260376,
          0.7702998518943787,
          0.7592973709106445,
          0.7463166117668152,
          0.7311937212944031,
          0.6812883019447327,
          0.6589454412460327,
          0.6217019557952881,
          0.5566803216934204,
          0.5057543516159058,
          0.49549415707588196,
          0.45614343881607056,
          0.4242643713951111,
          0.39321815967559814,
          0.35824447870254517,
          0.3239103853702545,
          0.29031258821487427
         ],
         "y": [
          0.798313158304379,
          0.7934912454954219,
          0.7820234710108234,
          0.7719812916811882,
          0.7605851918756583,
          0.7473508611024797,
          0.7324095145016176,
          0.6857378053214508,
          0.6640104998936285,
          0.6297694796897072,
          0.5659101735440255,
          0.5107750332713801,
          0.49661815487199507,
          0.4636242310915113,
          0.4217120123553829,
          0.39582963439180674,
          0.36516249157164543,
          0.327380767170085,
          0.27994184773686975
         ]
        },
        {
         "mode": "markers",
         "showlegend": false,
         "type": "scatter",
         "x": [
          0.7976605296134949,
          0.7944373488426208,
          0.7890539765357971,
          0.7699661254882812,
          0.7592597603797913,
          0.7466354370117188,
          0.7318670749664307,
          0.6813291311264038,
          0.659322202205658,
          0.6216974258422852,
          0.5549989938735962,
          0.5024874210357666,
          0.49168822169303894,
          0.45116984844207764,
          0.41814157366752625,
          0.3860936760902405,
          0.3501698672771454,
          0.314993679523468,
          0.2795361876487732
         ],
         "y": [
          0.7981899507394962,
          0.7933225378008759,
          0.7818496947746043,
          0.771750142035181,
          0.7604432321512801,
          0.7471341157096089,
          0.7321581382122493,
          0.6852688638639803,
          0.6633538442739594,
          0.6285660445037075,
          0.5638031270498096,
          0.5076575400161828,
          0.49327999820776514,
          0.45943683252143785,
          0.4162049251967309,
          0.3896823935898314,
          0.3577659372965431,
          0.3182439659948677,
          0.2685525840624887
         ]
        },
        {
         "mode": "markers",
         "showlegend": false,
         "type": "scatter",
         "x": [
          0.7976462244987488,
          0.7943522334098816,
          0.7887449264526367,
          0.7701884508132935,
          0.7599160671234131,
          0.747713565826416,
          0.7334448099136353,
          0.6826293468475342,
          0.6612607836723328,
          0.6248278021812439,
          0.5579168796539307,
          0.5043537616729736,
          0.4924750030040741,
          0.45179152488708496,
          0.41849565505981445,
          0.38545331358909607,
          0.3486659526824951,
          0.31181108951568604,
          0.27468612790107727
         ],
         "y": [
          0.7977631494414548,
          0.792990112111124,
          0.7815461720450578,
          0.7715987729445536,
          0.7601287444327256,
          0.7469324205858887,
          0.7319812116001481,
          0.685084295679883,
          0.6628688625725127,
          0.6281280568771672,
          0.5630269126560167,
          0.5064342970605792,
          0.4917220984769488,
          0.4573896059676258,
          0.4132583955056246,
          0.38575872635780495,
          0.35279761952873,
          0.3116208067542914,
          0.26017044625650076
         ]
        },
        {
         "mode": "markers",
         "showlegend": false,
         "type": "scatter",
         "x": [
          0.7976468205451965,
          0.7943174242973328,
          0.7885709404945374,
          0.7710260152816772,
          0.7611252069473267,
          0.7492592930793762,
          0.7354625463485718,
          0.6867166757583618,
          0.6661433577537537,
          0.6314792633056641,
          0.567270815372467,
          0.5142022967338562,
          0.502446711063385,
          0.463218629360199,
          0.43107154965400696,
          0.3993796408176422,
          0.3631628751754761,
          0.3273681402206421,
          0.29068201780319214
         ],
         "y": [
          0.8000555443259638,
          0.7954048447592764,
          0.7839666451310067,
          0.7738495719914336,
          0.7625362626567482,
          0.749394149076071,
          0.7345740382365917,
          0.6890944287780709,
          0.6677215570122429,
          0.6338284889304737,
          0.5703314362612768,
          0.5153290373965442,
          0.5011205409841022,
          0.4679822645440118,
          0.4256230577987454,
          0.39935138524225067,
          0.3679247850150825,
          0.32903338131896787,
          0.27892244819578077
         ]
        },
        {
         "mode": "markers",
         "showlegend": false,
         "type": "scatter",
         "x": [
          0.7976428270339966,
          0.7942705154418945,
          0.7883334159851074,
          0.771362841129303,
          0.761489748954773,
          0.749485969543457,
          0.7355082631111145,
          0.688306987285614,
          0.6679708361625671,
          0.6345142126083374,
          0.5719242095947266,
          0.5184643268585205,
          0.5069311261177063,
          0.46835166215896606,
          0.4362596571445465,
          0.4042034447193146,
          0.3675636351108551,
          0.3306298553943634,
          0.29338282346725464
         ],
         "y": [
          0.8003224209288374,
          0.7956067352771538,
          0.7841703066754673,
          0.774233665126075,
          0.7629220645614245,
          0.74983270200937,
          0.7351789127901648,
          0.6902916696389143,
          0.6691545068330683,
          0.6354576167307173,
          0.572035090641581,
          0.5167983133748101,
          0.502558335064774,
          0.46909544238906054,
          0.42649063950965405,
          0.39991536006818446,
          0.36768668009855976,
          0.3280165163939026,
          0.27616176807562054
         ]
        },
        {
         "mode": "markers",
         "showlegend": false,
         "type": "scatter",
         "x": [
          0.7976354956626892,
          0.7942126989364624,
          0.7879840731620789,
          0.7708302140235901,
          0.7601308226585388,
          0.7468279600143433,
          0.7309880256652832,
          0.6755563616752625,
          0.6514496207237244,
          0.61280757188797,
          0.5424447059631348,
          0.48301181197166443,
          0.47177934646606445,
          0.4230593740940094,
          0.38314005732536316,
          0.34385544061660767,
          0.29995810985565186,
          0.25774067640304565,
          0.21697382628917694
         ],
         "y": [
          0.8021021245344392,
          0.7969341318727496,
          0.7837212398741293,
          0.7717863838798309,
          0.7585594760358905,
          0.7437482152159149,
          0.7275459362386703,
          0.6780968200738,
          0.655284101327477,
          0.6183600194654504,
          0.5479735909119701,
          0.48623661727470446,
          0.4701452805121844,
          0.4318172883966625,
          0.38151546704217876,
          0.34941751672566446,
          0.3093423167378211,
          0.26110124548198077,
          0.21169066017065974
         ]
        },
        {
         "mode": "markers",
         "showlegend": false,
         "type": "scatter",
         "x": [
          0.7975549697875977,
          0.7939361333847046,
          0.7869910597801208,
          0.7686072587966919,
          0.7579479217529297,
          0.7457164525985718,
          0.7309846878051758,
          0.6707149744033813,
          0.6428965926170349,
          0.594937801361084,
          0.507553219795227,
          0.44492411613464355,
          0.43620720505714417,
          0.38103073835372925,
          0.33531707525253296,
          0.28897637128829956,
          0.23891282081604004,
          0.19430473446846008,
          0.1579878032207489
         ],
         "y": [
          0.7917257899452215,
          0.7866396240879734,
          0.7747575543637428,
          0.7647068620137432,
          0.7535912149992168,
          0.7396705419843685,
          0.7235368109362148,
          0.6706391514425183,
          0.6443599702722637,
          0.6019284819570182,
          0.5215042529554668,
          0.45029392360505616,
          0.4310995009554138,
          0.38473295145773057,
          0.3206544836588347,
          0.2789516903343855,
          0.235794647176265,
          0.1951337738116471,
          0.1416045534858596
         ]
        },
        {
         "mode": "markers",
         "showlegend": false,
         "type": "scatter",
         "x": [
          0.7974749207496643,
          0.7937282919883728,
          0.7863456010818481,
          0.7693957686424255,
          0.7600219249725342,
          0.7491103410720825,
          0.7362269759178162,
          0.6767191886901855,
          0.6524425148963928,
          0.6099522709846497,
          0.526653528213501,
          0.45962488651275635,
          0.442291796207428,
          0.3846692442893982,
          0.3379559814929962,
          0.2894558608531952,
          0.23733581602573395,
          0.19172286987304688,
          0.15489462018013
         ],
         "y": [
          0.7917180467443438,
          0.7866811771093563,
          0.7754991927465306,
          0.7655369140385173,
          0.7534163004205027,
          0.7399326717426227,
          0.7242132501231708,
          0.6706247967056644,
          0.645051101282834,
          0.6033135643391374,
          0.523136307911616,
          0.45147824250829904,
          0.43233870464772023,
          0.3854418526501642,
          0.32031453746879784,
          0.27750326183880136,
          0.23268030585279126,
          0.19032077061286906,
          0.13474410812413923
         ]
        },
        {
         "mode": "markers",
         "showlegend": false,
         "type": "scatter",
         "x": [
          0.7974984645843506,
          0.7938433885574341,
          0.7867192029953003,
          0.772712767124176,
          0.7640902400016785,
          0.7539880275726318,
          0.7426201105117798,
          0.690754771232605,
          0.6708256006240845,
          0.6383350491523743,
          0.5681967735290527,
          0.5056397914886475,
          0.4924269914627075,
          0.4475339651107788,
          0.4085536599159241,
          0.36576566100120544,
          0.3181982934474945,
          0.27115708589553833,
          0.22359314560890198
         ],
         "y": [
          0.7976628106891637,
          0.7930050112839019,
          0.7811707482956656,
          0.7715551186565532,
          0.7601753464792014,
          0.7466330058055717,
          0.7317823619333135,
          0.6843135479372069,
          0.6614394104068799,
          0.6246230503041424,
          0.5543787008444488,
          0.4924184889136826,
          0.47611574438091653,
          0.4372183725641874,
          0.3855836784474507,
          0.35194306942833326,
          0.3097603064864518,
          0.25612914003179893,
          0.1980053501572687
         ]
        },
        {
         "mode": "markers",
         "showlegend": false,
         "type": "scatter",
         "x": [
          0.7974998950958252,
          0.79386305809021,
          0.7867079973220825,
          0.7737374305725098,
          0.7647240161895752,
          0.7539259195327759,
          0.7415921092033386,
          0.6911520957946777,
          0.6699342131614685,
          0.6352863907814026,
          0.5637931227684021,
          0.4978821277618408,
          0.4844435751438141,
          0.4360302984714508,
          0.39483705163002014,
          0.3520807921886444,
          0.3029758930206299,
          0.25360268354415894,
          0.20385609567165375
         ],
         "y": [
          0.7983416291629041,
          0.7934617554050458,
          0.7820528785737827,
          0.7719491241766325,
          0.7605772269116391,
          0.7472974585695462,
          0.7323938458101165,
          0.6850866286152428,
          0.6622125971317885,
          0.6249229502561697,
          0.5533133682357978,
          0.49003300050806314,
          0.47339344585455667,
          0.4335325086965191,
          0.38002347612349074,
          0.34486562468769755,
          0.2998826893457942,
          0.24378064813592265,
          0.1847195066812495
         ]
        },
        {
         "mode": "markers",
         "showlegend": false,
         "type": "scatter",
         "x": [
          0.7974765300750732,
          0.7938206791877747,
          0.7863777875900269,
          0.7734905481338501,
          0.7636421322822571,
          0.7517809867858887,
          0.7381200790405273,
          0.6883181929588318,
          0.6654177904129028,
          0.6281188726425171,
          0.5531527996063232,
          0.4875401258468628,
          0.4767453372478485,
          0.4278373718261719,
          0.3863517642021179,
          0.343056321144104,
          0.2942653000354767,
          0.2457825094461441,
          0.19780610501766205
         ],
         "y": [
          0.798385934063518,
          0.7935935289636243,
          0.7821710705454723,
          0.7721839507789329,
          0.7610180828338263,
          0.7478096980021205,
          0.7330177711981015,
          0.6860348223649352,
          0.6633029536275312,
          0.6261137381880381,
          0.5545256763580183,
          0.4914472417007778,
          0.474791820559459,
          0.43489363091549116,
          0.3815055803271558,
          0.3463717700270636,
          0.3016008454233255,
          0.24523759893717817,
          0.184998398579377
         ]
        },
        {
         "mode": "markers",
         "showlegend": false,
         "type": "scatter",
         "x": [
          0.7974401712417603,
          0.7937408089637756,
          0.7858237028121948,
          0.7727444171905518,
          0.7621971368789673,
          0.749596357345581,
          0.7349706888198853,
          0.6850470900535583,
          0.6606945991516113,
          0.6217804551124573,
          0.5448652505874634,
          0.4794568419456482,
          0.4699566066265106,
          0.41875332593917847,
          0.3753196597099304,
          0.329643189907074,
          0.2789122462272644,
          0.22940242290496826,
          0.18080759048461914
         ],
         "y": [
          0.7983085467073792,
          0.7935105528884875,
          0.7821273423283156,
          0.7722915515612189,
          0.7610481688809845,
          0.7479076053417948,
          0.7329041220875117,
          0.6853445779424164,
          0.6622286158069022,
          0.6242935454783518,
          0.5511460499476425,
          0.48639063407495275,
          0.4692573024250771,
          0.4277781815872982,
          0.3717177376176157,
          0.3342354890244543,
          0.28589376729091426,
          0.22730104875064414,
          0.1668455680014775
         ]
        },
        {
         "mode": "markers",
         "showlegend": false,
         "type": "scatter",
         "x": [
          0.7973915338516235,
          0.7936378717422485,
          0.7851263880729675,
          0.7718726992607117,
          0.7608192563056946,
          0.7479032278060913,
          0.7330705523490906,
          0.6817528605461121,
          0.6570407748222351,
          0.6177390813827515,
          0.5399739146232605,
          0.47347044944763184,
          0.46183648705482483,
          0.40752676129341125,
          0.3611625134944916,
          0.31250229477882385,
          0.2583456337451935,
          0.2068401277065277,
          0.15988099575042725
         ],
         "y": [
          0.7972057389158389,
          0.7924153076232907,
          0.7809226823961234,
          0.7709114390955087,
          0.7593673203497323,
          0.7460764756620286,
          0.730810207293231,
          0.6820357073644256,
          0.6582906903106844,
          0.6190292763151224,
          0.543200590410371,
          0.4758224606803768,
          0.4576742665813377,
          0.41400018296442903,
          0.35382719910946525,
          0.3126464720858825,
          0.26103264970854506,
          0.20491290831803627,
          0.14591802899326684
         ]
        },
        {
         "mode": "markers",
         "showlegend": false,
         "type": "scatter",
         "x": [
          0.7973480820655823,
          0.7935551404953003,
          0.7844578623771667,
          0.7714774012565613,
          0.7605338096618652,
          0.7482160329818726,
          0.7340853810310364,
          0.6831202507019043,
          0.6594128608703613,
          0.6211557388305664,
          0.5436739325523376,
          0.4759311378002167,
          0.46226319670677185,
          0.406144380569458,
          0.35826385021209717,
          0.3079809546470642,
          0.2524511516094208,
          0.20024850964546204,
          0.1519637107849121
         ],
         "y": [
          0.7978807509854378,
          0.7930235619909616,
          0.7815530333505976,
          0.7714099903615825,
          0.7598973823975425,
          0.7465231092029396,
          0.7314092223979561,
          0.6826104614539275,
          0.6587327285630513,
          0.6192809707893145,
          0.5427733110426711,
          0.47447849761197425,
          0.4561816848252631,
          0.41155910851354294,
          0.3495713910497607,
          0.3069355742631438,
          0.25326672814483486,
          0.19586729953599968,
          0.13287248998276116
         ]
        },
        {
         "mode": "markers",
         "showlegend": false,
         "type": "scatter",
         "x": [
          0.7973107099533081,
          0.7934840321540833,
          0.7837976217269897,
          0.771294355392456,
          0.7606579661369324,
          0.748829185962677,
          0.7350685000419617,
          0.6846963763237,
          0.6612732410430908,
          0.6233790516853333,
          0.5456178784370422,
          0.4769265353679657,
          0.46325695514678955,
          0.4076733887195587,
          0.3602884113788605,
          0.30974090099334717,
          0.25364625453948975,
          0.2009168118238449,
          0.15092995762825012
         ],
         "y": [
          0.7991221992068662,
          0.7943794563024591,
          0.7829043377597703,
          0.7727754127571801,
          0.7611592634617712,
          0.7477571146648614,
          0.7324670873159577,
          0.6841651831508347,
          0.660558414645825,
          0.6213837562482232,
          0.5456372313839465,
          0.47789463887904127,
          0.4596714405707651,
          0.41551073827490503,
          0.35424877915678316,
          0.3117566171757518,
          0.25764978897672497,
          0.19735754439319642,
          0.13223626004324718
         ]
        },
        {
         "mode": "markers",
         "showlegend": false,
         "type": "scatter",
         "x": [
          0.7972355484962463,
          0.7933225631713867,
          0.7827141880989075,
          0.7703034281730652,
          0.7597043514251709,
          0.7478432655334473,
          0.7336720824241638,
          0.6818787455558777,
          0.6571704745292664,
          0.6166350245475769,
          0.534882664680481,
          0.4641028046607971,
          0.4490477740764618,
          0.38849562406539917,
          0.3378220498561859,
          0.28408384323120117,
          0.22595639526844025,
          0.17273280024528503,
          0.12480434775352478
         ],
         "y": [
          0.7971674140423785,
          0.7923944310970109,
          0.7807439862217369,
          0.7706128739692423,
          0.7590665710319795,
          0.7457450368107585,
          0.7304583650544922,
          0.6809649029194595,
          0.6564846994011168,
          0.6157211409037157,
          0.5363543574973277,
          0.465022567752598,
          0.4457584033338957,
          0.39827673565265787,
          0.33062080391722326,
          0.28329013014251025,
          0.2272521728918362,
          0.17159494035885603,
          0.09786277504708538
         ]
        },
        {
         "mode": "markers",
         "showlegend": false,
         "type": "scatter",
         "x": [
          0.7971839904785156,
          0.7932369709014893,
          0.7819705605506897,
          0.7704263925552368,
          0.7602245807647705,
          0.7486825585365295,
          0.7347997426986694,
          0.6847015619277954,
          0.6609909534454346,
          0.6221864223480225,
          0.542754054069519,
          0.4727511405944824,
          0.45773473381996155,
          0.3993774354457855,
          0.3487067222595215,
          0.2947159707546234,
          0.23688139021396637,
          0.1821155697107315,
          0.13001978397369385
         ],
         "y": [
          0.7989445325145906,
          0.7942680994697845,
          0.7826371546434898,
          0.7725209190009658,
          0.761000341807177,
          0.7474324050900247,
          0.7322143512035972,
          0.6835171238377646,
          0.659519543361696,
          0.6195110882771238,
          0.5418150228619922,
          0.47179197213621504,
          0.4530713400299274,
          0.40683961739192964,
          0.34153360639382957,
          0.2953532015782828,
          0.2378865640255381,
          0.1778609459511971,
          0.10542359522299175
         ]
        },
        {
         "mode": "markers",
         "showlegend": false,
         "type": "scatter",
         "x": [
          0.7971166372299194,
          0.793099582195282,
          0.7809791564941406,
          0.7700939774513245,
          0.7601044774055481,
          0.7486193180084229,
          0.7346991896629333,
          0.6857441067695618,
          0.6619858145713806,
          0.6230265498161316,
          0.5430448055267334,
          0.4717038571834564,
          0.454453706741333,
          0.39400506019592285,
          0.3422829508781433,
          0.28708988428115845,
          0.22678813338279724,
          0.1710442304611206,
          0.11790865659713745
         ],
         "y": [
          0.7983216010972524,
          0.7935870807869456,
          0.781917972538116,
          0.7718476304426849,
          0.7605487457139972,
          0.7473670534833492,
          0.7323209502226502,
          0.6841447600441035,
          0.6600727846509149,
          0.6197614843357755,
          0.541122155788381,
          0.4703798031893829,
          0.45118155247381164,
          0.40397975660179586,
          0.3364756976942901,
          0.2884333887074454,
          0.22946099809222287,
          0.16833166712815653,
          0.0886783731028924
         ]
        },
        {
         "mode": "markers",
         "showlegend": false,
         "type": "scatter",
         "x": [
          0.7970598340034485,
          0.7929846048355103,
          0.780124843120575,
          0.7700664401054382,
          0.7602131366729736,
          0.748528003692627,
          0.7339850068092346,
          0.6856012940406799,
          0.660594642162323,
          0.6206488013267517,
          0.5398877859115601,
          0.46803271770477295,
          0.45079731941223145,
          0.3890833854675293,
          0.3363833725452423,
          0.28053349256515503,
          0.2205808013677597,
          0.16455383598804474,
          0.10940928757190704
         ],
         "y": [
          0.799058965730251,
          0.7942203260131596,
          0.782866237172865,
          0.7728365166075171,
          0.7615106577069142,
          0.7482518600065349,
          0.7330747146076949,
          0.6843672156058652,
          0.660156514299584,
          0.619547033833435,
          0.5404613640293346,
          0.4691543509181893,
          0.4496619390493805,
          0.40167787057131377,
          0.33311346386646123,
          0.2840464071225639,
          0.22412153379498745,
          0.16181511959175904,
          0.07817497767154045
         ]
        }
       ],
       "layout": {
        "template": {
         "data": {
          "bar": [
           {
            "error_x": {
             "color": "#2a3f5f"
            },
            "error_y": {
             "color": "#2a3f5f"
            },
            "marker": {
             "line": {
              "color": "#E5ECF6",
              "width": 0.5
             },
             "pattern": {
              "fillmode": "overlay",
              "size": 10,
              "solidity": 0.2
             }
            },
            "type": "bar"
           }
          ],
          "barpolar": [
           {
            "marker": {
             "line": {
              "color": "#E5ECF6",
              "width": 0.5
             },
             "pattern": {
              "fillmode": "overlay",
              "size": 10,
              "solidity": 0.2
             }
            },
            "type": "barpolar"
           }
          ],
          "carpet": [
           {
            "aaxis": {
             "endlinecolor": "#2a3f5f",
             "gridcolor": "white",
             "linecolor": "white",
             "minorgridcolor": "white",
             "startlinecolor": "#2a3f5f"
            },
            "baxis": {
             "endlinecolor": "#2a3f5f",
             "gridcolor": "white",
             "linecolor": "white",
             "minorgridcolor": "white",
             "startlinecolor": "#2a3f5f"
            },
            "type": "carpet"
           }
          ],
          "choropleth": [
           {
            "colorbar": {
             "outlinewidth": 0,
             "ticks": ""
            },
            "type": "choropleth"
           }
          ],
          "contour": [
           {
            "colorbar": {
             "outlinewidth": 0,
             "ticks": ""
            },
            "colorscale": [
             [
              0,
              "#0d0887"
             ],
             [
              0.1111111111111111,
              "#46039f"
             ],
             [
              0.2222222222222222,
              "#7201a8"
             ],
             [
              0.3333333333333333,
              "#9c179e"
             ],
             [
              0.4444444444444444,
              "#bd3786"
             ],
             [
              0.5555555555555556,
              "#d8576b"
             ],
             [
              0.6666666666666666,
              "#ed7953"
             ],
             [
              0.7777777777777778,
              "#fb9f3a"
             ],
             [
              0.8888888888888888,
              "#fdca26"
             ],
             [
              1,
              "#f0f921"
             ]
            ],
            "type": "contour"
           }
          ],
          "contourcarpet": [
           {
            "colorbar": {
             "outlinewidth": 0,
             "ticks": ""
            },
            "type": "contourcarpet"
           }
          ],
          "heatmap": [
           {
            "colorbar": {
             "outlinewidth": 0,
             "ticks": ""
            },
            "colorscale": [
             [
              0,
              "#0d0887"
             ],
             [
              0.1111111111111111,
              "#46039f"
             ],
             [
              0.2222222222222222,
              "#7201a8"
             ],
             [
              0.3333333333333333,
              "#9c179e"
             ],
             [
              0.4444444444444444,
              "#bd3786"
             ],
             [
              0.5555555555555556,
              "#d8576b"
             ],
             [
              0.6666666666666666,
              "#ed7953"
             ],
             [
              0.7777777777777778,
              "#fb9f3a"
             ],
             [
              0.8888888888888888,
              "#fdca26"
             ],
             [
              1,
              "#f0f921"
             ]
            ],
            "type": "heatmap"
           }
          ],
          "heatmapgl": [
           {
            "colorbar": {
             "outlinewidth": 0,
             "ticks": ""
            },
            "colorscale": [
             [
              0,
              "#0d0887"
             ],
             [
              0.1111111111111111,
              "#46039f"
             ],
             [
              0.2222222222222222,
              "#7201a8"
             ],
             [
              0.3333333333333333,
              "#9c179e"
             ],
             [
              0.4444444444444444,
              "#bd3786"
             ],
             [
              0.5555555555555556,
              "#d8576b"
             ],
             [
              0.6666666666666666,
              "#ed7953"
             ],
             [
              0.7777777777777778,
              "#fb9f3a"
             ],
             [
              0.8888888888888888,
              "#fdca26"
             ],
             [
              1,
              "#f0f921"
             ]
            ],
            "type": "heatmapgl"
           }
          ],
          "histogram": [
           {
            "marker": {
             "pattern": {
              "fillmode": "overlay",
              "size": 10,
              "solidity": 0.2
             }
            },
            "type": "histogram"
           }
          ],
          "histogram2d": [
           {
            "colorbar": {
             "outlinewidth": 0,
             "ticks": ""
            },
            "colorscale": [
             [
              0,
              "#0d0887"
             ],
             [
              0.1111111111111111,
              "#46039f"
             ],
             [
              0.2222222222222222,
              "#7201a8"
             ],
             [
              0.3333333333333333,
              "#9c179e"
             ],
             [
              0.4444444444444444,
              "#bd3786"
             ],
             [
              0.5555555555555556,
              "#d8576b"
             ],
             [
              0.6666666666666666,
              "#ed7953"
             ],
             [
              0.7777777777777778,
              "#fb9f3a"
             ],
             [
              0.8888888888888888,
              "#fdca26"
             ],
             [
              1,
              "#f0f921"
             ]
            ],
            "type": "histogram2d"
           }
          ],
          "histogram2dcontour": [
           {
            "colorbar": {
             "outlinewidth": 0,
             "ticks": ""
            },
            "colorscale": [
             [
              0,
              "#0d0887"
             ],
             [
              0.1111111111111111,
              "#46039f"
             ],
             [
              0.2222222222222222,
              "#7201a8"
             ],
             [
              0.3333333333333333,
              "#9c179e"
             ],
             [
              0.4444444444444444,
              "#bd3786"
             ],
             [
              0.5555555555555556,
              "#d8576b"
             ],
             [
              0.6666666666666666,
              "#ed7953"
             ],
             [
              0.7777777777777778,
              "#fb9f3a"
             ],
             [
              0.8888888888888888,
              "#fdca26"
             ],
             [
              1,
              "#f0f921"
             ]
            ],
            "type": "histogram2dcontour"
           }
          ],
          "mesh3d": [
           {
            "colorbar": {
             "outlinewidth": 0,
             "ticks": ""
            },
            "type": "mesh3d"
           }
          ],
          "parcoords": [
           {
            "line": {
             "colorbar": {
              "outlinewidth": 0,
              "ticks": ""
             }
            },
            "type": "parcoords"
           }
          ],
          "pie": [
           {
            "automargin": true,
            "type": "pie"
           }
          ],
          "scatter": [
           {
            "fillpattern": {
             "fillmode": "overlay",
             "size": 10,
             "solidity": 0.2
            },
            "type": "scatter"
           }
          ],
          "scatter3d": [
           {
            "line": {
             "colorbar": {
              "outlinewidth": 0,
              "ticks": ""
             }
            },
            "marker": {
             "colorbar": {
              "outlinewidth": 0,
              "ticks": ""
             }
            },
            "type": "scatter3d"
           }
          ],
          "scattercarpet": [
           {
            "marker": {
             "colorbar": {
              "outlinewidth": 0,
              "ticks": ""
             }
            },
            "type": "scattercarpet"
           }
          ],
          "scattergeo": [
           {
            "marker": {
             "colorbar": {
              "outlinewidth": 0,
              "ticks": ""
             }
            },
            "type": "scattergeo"
           }
          ],
          "scattergl": [
           {
            "marker": {
             "colorbar": {
              "outlinewidth": 0,
              "ticks": ""
             }
            },
            "type": "scattergl"
           }
          ],
          "scattermapbox": [
           {
            "marker": {
             "colorbar": {
              "outlinewidth": 0,
              "ticks": ""
             }
            },
            "type": "scattermapbox"
           }
          ],
          "scatterpolar": [
           {
            "marker": {
             "colorbar": {
              "outlinewidth": 0,
              "ticks": ""
             }
            },
            "type": "scatterpolar"
           }
          ],
          "scatterpolargl": [
           {
            "marker": {
             "colorbar": {
              "outlinewidth": 0,
              "ticks": ""
             }
            },
            "type": "scatterpolargl"
           }
          ],
          "scatterternary": [
           {
            "marker": {
             "colorbar": {
              "outlinewidth": 0,
              "ticks": ""
             }
            },
            "type": "scatterternary"
           }
          ],
          "surface": [
           {
            "colorbar": {
             "outlinewidth": 0,
             "ticks": ""
            },
            "colorscale": [
             [
              0,
              "#0d0887"
             ],
             [
              0.1111111111111111,
              "#46039f"
             ],
             [
              0.2222222222222222,
              "#7201a8"
             ],
             [
              0.3333333333333333,
              "#9c179e"
             ],
             [
              0.4444444444444444,
              "#bd3786"
             ],
             [
              0.5555555555555556,
              "#d8576b"
             ],
             [
              0.6666666666666666,
              "#ed7953"
             ],
             [
              0.7777777777777778,
              "#fb9f3a"
             ],
             [
              0.8888888888888888,
              "#fdca26"
             ],
             [
              1,
              "#f0f921"
             ]
            ],
            "type": "surface"
           }
          ],
          "table": [
           {
            "cells": {
             "fill": {
              "color": "#EBF0F8"
             },
             "line": {
              "color": "white"
             }
            },
            "header": {
             "fill": {
              "color": "#C8D4E3"
             },
             "line": {
              "color": "white"
             }
            },
            "type": "table"
           }
          ]
         },
         "layout": {
          "annotationdefaults": {
           "arrowcolor": "#2a3f5f",
           "arrowhead": 0,
           "arrowwidth": 1
          },
          "autotypenumbers": "strict",
          "coloraxis": {
           "colorbar": {
            "outlinewidth": 0,
            "ticks": ""
           }
          },
          "colorscale": {
           "diverging": [
            [
             0,
             "#8e0152"
            ],
            [
             0.1,
             "#c51b7d"
            ],
            [
             0.2,
             "#de77ae"
            ],
            [
             0.3,
             "#f1b6da"
            ],
            [
             0.4,
             "#fde0ef"
            ],
            [
             0.5,
             "#f7f7f7"
            ],
            [
             0.6,
             "#e6f5d0"
            ],
            [
             0.7,
             "#b8e186"
            ],
            [
             0.8,
             "#7fbc41"
            ],
            [
             0.9,
             "#4d9221"
            ],
            [
             1,
             "#276419"
            ]
           ],
           "sequential": [
            [
             0,
             "#0d0887"
            ],
            [
             0.1111111111111111,
             "#46039f"
            ],
            [
             0.2222222222222222,
             "#7201a8"
            ],
            [
             0.3333333333333333,
             "#9c179e"
            ],
            [
             0.4444444444444444,
             "#bd3786"
            ],
            [
             0.5555555555555556,
             "#d8576b"
            ],
            [
             0.6666666666666666,
             "#ed7953"
            ],
            [
             0.7777777777777778,
             "#fb9f3a"
            ],
            [
             0.8888888888888888,
             "#fdca26"
            ],
            [
             1,
             "#f0f921"
            ]
           ],
           "sequentialminus": [
            [
             0,
             "#0d0887"
            ],
            [
             0.1111111111111111,
             "#46039f"
            ],
            [
             0.2222222222222222,
             "#7201a8"
            ],
            [
             0.3333333333333333,
             "#9c179e"
            ],
            [
             0.4444444444444444,
             "#bd3786"
            ],
            [
             0.5555555555555556,
             "#d8576b"
            ],
            [
             0.6666666666666666,
             "#ed7953"
            ],
            [
             0.7777777777777778,
             "#fb9f3a"
            ],
            [
             0.8888888888888888,
             "#fdca26"
            ],
            [
             1,
             "#f0f921"
            ]
           ]
          },
          "colorway": [
           "#636efa",
           "#EF553B",
           "#00cc96",
           "#ab63fa",
           "#FFA15A",
           "#19d3f3",
           "#FF6692",
           "#B6E880",
           "#FF97FF",
           "#FECB52"
          ],
          "font": {
           "color": "#2a3f5f"
          },
          "geo": {
           "bgcolor": "white",
           "lakecolor": "white",
           "landcolor": "#E5ECF6",
           "showlakes": true,
           "showland": true,
           "subunitcolor": "white"
          },
          "hoverlabel": {
           "align": "left"
          },
          "hovermode": "closest",
          "mapbox": {
           "style": "light"
          },
          "paper_bgcolor": "white",
          "plot_bgcolor": "#E5ECF6",
          "polar": {
           "angularaxis": {
            "gridcolor": "white",
            "linecolor": "white",
            "ticks": ""
           },
           "bgcolor": "#E5ECF6",
           "radialaxis": {
            "gridcolor": "white",
            "linecolor": "white",
            "ticks": ""
           }
          },
          "scene": {
           "xaxis": {
            "backgroundcolor": "#E5ECF6",
            "gridcolor": "white",
            "gridwidth": 2,
            "linecolor": "white",
            "showbackground": true,
            "ticks": "",
            "zerolinecolor": "white"
           },
           "yaxis": {
            "backgroundcolor": "#E5ECF6",
            "gridcolor": "white",
            "gridwidth": 2,
            "linecolor": "white",
            "showbackground": true,
            "ticks": "",
            "zerolinecolor": "white"
           },
           "zaxis": {
            "backgroundcolor": "#E5ECF6",
            "gridcolor": "white",
            "gridwidth": 2,
            "linecolor": "white",
            "showbackground": true,
            "ticks": "",
            "zerolinecolor": "white"
           }
          },
          "shapedefaults": {
           "line": {
            "color": "#2a3f5f"
           }
          },
          "ternary": {
           "aaxis": {
            "gridcolor": "white",
            "linecolor": "white",
            "ticks": ""
           },
           "baxis": {
            "gridcolor": "white",
            "linecolor": "white",
            "ticks": ""
           },
           "bgcolor": "#E5ECF6",
           "caxis": {
            "gridcolor": "white",
            "linecolor": "white",
            "ticks": ""
           }
          },
          "title": {
           "x": 0.05
          },
          "xaxis": {
           "automargin": true,
           "gridcolor": "white",
           "linecolor": "white",
           "ticks": "",
           "title": {
            "standoff": 15
           },
           "zerolinecolor": "white",
           "zerolinewidth": 2
          },
          "yaxis": {
           "automargin": true,
           "gridcolor": "white",
           "linecolor": "white",
           "ticks": "",
           "title": {
            "standoff": 15
           },
           "zerolinecolor": "white",
           "zerolinewidth": 2
          }
         }
        },
        "xaxis": {
         "title": {
          "text": "Normalized Prediction"
         }
        },
        "yaxis": {
         "title": {
          "text": "Normalized Target"
         }
        }
       }
      }
     },
     "metadata": {},
     "output_type": "display_data"
    }
   ],
   "source": [
    "# random plotting traing error at some interval = skip to not make the plot rendering too slow\n",
    "skip = 20\n",
    "\n",
    "fig = go.Figure()\n",
    "fig.add_trace(go.Scatter(x = [0,1], y = [0,1], showlegend=False, mode=\"markers+lines\"))\n",
    "for i in range(0,len(X_train), batch_size*skip):\n",
    "    fig.add_trace(go.Scatter(x = model.predict(X_train[i:i+batch_size],verbose=0).flatten(), \n",
    "                             y = y_train[i:i+batch_size], \n",
    "                             showlegend=False, mode=\"markers\"))\n",
    "fig.update_yaxes(title='Normalized Target')\n",
    "fig.update_xaxes(title='Normalized Prediction')"
   ]
  },
  {
   "cell_type": "markdown",
   "id": "a26ace94",
   "metadata": {},
   "source": [
    "## Parity Plot of Test Error"
   ]
  },
  {
   "cell_type": "code",
   "execution_count": 62,
   "id": "c3bd3873",
   "metadata": {},
   "outputs": [
    {
     "data": {
      "application/vnd.plotly.v1+json": {
       "config": {
        "plotlyServerURL": "https://plot.ly"
       },
       "data": [
        {
         "mode": "markers+lines",
         "showlegend": false,
         "type": "scatter",
         "x": [
          0,
          1
         ],
         "y": [
          0,
          1
         ]
        },
        {
         "line": {
          "color": "#2E91E5"
         },
         "mode": "markers+lines",
         "name": "batch",
         "showlegend": false,
         "type": "scatter",
         "x": [
          0.7969534993171692,
          0.793929398059845,
          0.7872779369354248,
          0.7742189168930054,
          0.7625960111618042,
          0.7490199208259583,
          0.7342707514762878,
          0.6925837397575378,
          0.6778870820999146,
          0.6576657891273499,
          0.6265920996665955,
          0.6034616827964783,
          0.5933173894882202,
          0.5814002752304077,
          0.5727922916412354,
          0.5654897689819336,
          0.5574334859848022,
          0.5496141314506531,
          0.5423402190208435
         ],
         "y": [
          0.8012846600702722,
          0.7965745544571075,
          0.7855744354316629,
          0.7762296493015381,
          0.7658417498174189,
          0.7533857149074488,
          0.739758625389513,
          0.7003371068840425,
          0.6848679225921975,
          0.6637608535475261,
          0.6320618140627422,
          0.6081937876422313,
          0.6023247983847567,
          0.5888015601616349,
          0.5722482607018117,
          0.5625166279669344,
          0.5515043945902027,
          0.5392495586434386,
          0.5251785927547221
         ]
        }
       ],
       "layout": {
        "template": {
         "data": {
          "bar": [
           {
            "error_x": {
             "color": "#2a3f5f"
            },
            "error_y": {
             "color": "#2a3f5f"
            },
            "marker": {
             "line": {
              "color": "#E5ECF6",
              "width": 0.5
             },
             "pattern": {
              "fillmode": "overlay",
              "size": 10,
              "solidity": 0.2
             }
            },
            "type": "bar"
           }
          ],
          "barpolar": [
           {
            "marker": {
             "line": {
              "color": "#E5ECF6",
              "width": 0.5
             },
             "pattern": {
              "fillmode": "overlay",
              "size": 10,
              "solidity": 0.2
             }
            },
            "type": "barpolar"
           }
          ],
          "carpet": [
           {
            "aaxis": {
             "endlinecolor": "#2a3f5f",
             "gridcolor": "white",
             "linecolor": "white",
             "minorgridcolor": "white",
             "startlinecolor": "#2a3f5f"
            },
            "baxis": {
             "endlinecolor": "#2a3f5f",
             "gridcolor": "white",
             "linecolor": "white",
             "minorgridcolor": "white",
             "startlinecolor": "#2a3f5f"
            },
            "type": "carpet"
           }
          ],
          "choropleth": [
           {
            "colorbar": {
             "outlinewidth": 0,
             "ticks": ""
            },
            "type": "choropleth"
           }
          ],
          "contour": [
           {
            "colorbar": {
             "outlinewidth": 0,
             "ticks": ""
            },
            "colorscale": [
             [
              0,
              "#0d0887"
             ],
             [
              0.1111111111111111,
              "#46039f"
             ],
             [
              0.2222222222222222,
              "#7201a8"
             ],
             [
              0.3333333333333333,
              "#9c179e"
             ],
             [
              0.4444444444444444,
              "#bd3786"
             ],
             [
              0.5555555555555556,
              "#d8576b"
             ],
             [
              0.6666666666666666,
              "#ed7953"
             ],
             [
              0.7777777777777778,
              "#fb9f3a"
             ],
             [
              0.8888888888888888,
              "#fdca26"
             ],
             [
              1,
              "#f0f921"
             ]
            ],
            "type": "contour"
           }
          ],
          "contourcarpet": [
           {
            "colorbar": {
             "outlinewidth": 0,
             "ticks": ""
            },
            "type": "contourcarpet"
           }
          ],
          "heatmap": [
           {
            "colorbar": {
             "outlinewidth": 0,
             "ticks": ""
            },
            "colorscale": [
             [
              0,
              "#0d0887"
             ],
             [
              0.1111111111111111,
              "#46039f"
             ],
             [
              0.2222222222222222,
              "#7201a8"
             ],
             [
              0.3333333333333333,
              "#9c179e"
             ],
             [
              0.4444444444444444,
              "#bd3786"
             ],
             [
              0.5555555555555556,
              "#d8576b"
             ],
             [
              0.6666666666666666,
              "#ed7953"
             ],
             [
              0.7777777777777778,
              "#fb9f3a"
             ],
             [
              0.8888888888888888,
              "#fdca26"
             ],
             [
              1,
              "#f0f921"
             ]
            ],
            "type": "heatmap"
           }
          ],
          "heatmapgl": [
           {
            "colorbar": {
             "outlinewidth": 0,
             "ticks": ""
            },
            "colorscale": [
             [
              0,
              "#0d0887"
             ],
             [
              0.1111111111111111,
              "#46039f"
             ],
             [
              0.2222222222222222,
              "#7201a8"
             ],
             [
              0.3333333333333333,
              "#9c179e"
             ],
             [
              0.4444444444444444,
              "#bd3786"
             ],
             [
              0.5555555555555556,
              "#d8576b"
             ],
             [
              0.6666666666666666,
              "#ed7953"
             ],
             [
              0.7777777777777778,
              "#fb9f3a"
             ],
             [
              0.8888888888888888,
              "#fdca26"
             ],
             [
              1,
              "#f0f921"
             ]
            ],
            "type": "heatmapgl"
           }
          ],
          "histogram": [
           {
            "marker": {
             "pattern": {
              "fillmode": "overlay",
              "size": 10,
              "solidity": 0.2
             }
            },
            "type": "histogram"
           }
          ],
          "histogram2d": [
           {
            "colorbar": {
             "outlinewidth": 0,
             "ticks": ""
            },
            "colorscale": [
             [
              0,
              "#0d0887"
             ],
             [
              0.1111111111111111,
              "#46039f"
             ],
             [
              0.2222222222222222,
              "#7201a8"
             ],
             [
              0.3333333333333333,
              "#9c179e"
             ],
             [
              0.4444444444444444,
              "#bd3786"
             ],
             [
              0.5555555555555556,
              "#d8576b"
             ],
             [
              0.6666666666666666,
              "#ed7953"
             ],
             [
              0.7777777777777778,
              "#fb9f3a"
             ],
             [
              0.8888888888888888,
              "#fdca26"
             ],
             [
              1,
              "#f0f921"
             ]
            ],
            "type": "histogram2d"
           }
          ],
          "histogram2dcontour": [
           {
            "colorbar": {
             "outlinewidth": 0,
             "ticks": ""
            },
            "colorscale": [
             [
              0,
              "#0d0887"
             ],
             [
              0.1111111111111111,
              "#46039f"
             ],
             [
              0.2222222222222222,
              "#7201a8"
             ],
             [
              0.3333333333333333,
              "#9c179e"
             ],
             [
              0.4444444444444444,
              "#bd3786"
             ],
             [
              0.5555555555555556,
              "#d8576b"
             ],
             [
              0.6666666666666666,
              "#ed7953"
             ],
             [
              0.7777777777777778,
              "#fb9f3a"
             ],
             [
              0.8888888888888888,
              "#fdca26"
             ],
             [
              1,
              "#f0f921"
             ]
            ],
            "type": "histogram2dcontour"
           }
          ],
          "mesh3d": [
           {
            "colorbar": {
             "outlinewidth": 0,
             "ticks": ""
            },
            "type": "mesh3d"
           }
          ],
          "parcoords": [
           {
            "line": {
             "colorbar": {
              "outlinewidth": 0,
              "ticks": ""
             }
            },
            "type": "parcoords"
           }
          ],
          "pie": [
           {
            "automargin": true,
            "type": "pie"
           }
          ],
          "scatter": [
           {
            "fillpattern": {
             "fillmode": "overlay",
             "size": 10,
             "solidity": 0.2
            },
            "type": "scatter"
           }
          ],
          "scatter3d": [
           {
            "line": {
             "colorbar": {
              "outlinewidth": 0,
              "ticks": ""
             }
            },
            "marker": {
             "colorbar": {
              "outlinewidth": 0,
              "ticks": ""
             }
            },
            "type": "scatter3d"
           }
          ],
          "scattercarpet": [
           {
            "marker": {
             "colorbar": {
              "outlinewidth": 0,
              "ticks": ""
             }
            },
            "type": "scattercarpet"
           }
          ],
          "scattergeo": [
           {
            "marker": {
             "colorbar": {
              "outlinewidth": 0,
              "ticks": ""
             }
            },
            "type": "scattergeo"
           }
          ],
          "scattergl": [
           {
            "marker": {
             "colorbar": {
              "outlinewidth": 0,
              "ticks": ""
             }
            },
            "type": "scattergl"
           }
          ],
          "scattermapbox": [
           {
            "marker": {
             "colorbar": {
              "outlinewidth": 0,
              "ticks": ""
             }
            },
            "type": "scattermapbox"
           }
          ],
          "scatterpolar": [
           {
            "marker": {
             "colorbar": {
              "outlinewidth": 0,
              "ticks": ""
             }
            },
            "type": "scatterpolar"
           }
          ],
          "scatterpolargl": [
           {
            "marker": {
             "colorbar": {
              "outlinewidth": 0,
              "ticks": ""
             }
            },
            "type": "scatterpolargl"
           }
          ],
          "scatterternary": [
           {
            "marker": {
             "colorbar": {
              "outlinewidth": 0,
              "ticks": ""
             }
            },
            "type": "scatterternary"
           }
          ],
          "surface": [
           {
            "colorbar": {
             "outlinewidth": 0,
             "ticks": ""
            },
            "colorscale": [
             [
              0,
              "#0d0887"
             ],
             [
              0.1111111111111111,
              "#46039f"
             ],
             [
              0.2222222222222222,
              "#7201a8"
             ],
             [
              0.3333333333333333,
              "#9c179e"
             ],
             [
              0.4444444444444444,
              "#bd3786"
             ],
             [
              0.5555555555555556,
              "#d8576b"
             ],
             [
              0.6666666666666666,
              "#ed7953"
             ],
             [
              0.7777777777777778,
              "#fb9f3a"
             ],
             [
              0.8888888888888888,
              "#fdca26"
             ],
             [
              1,
              "#f0f921"
             ]
            ],
            "type": "surface"
           }
          ],
          "table": [
           {
            "cells": {
             "fill": {
              "color": "#EBF0F8"
             },
             "line": {
              "color": "white"
             }
            },
            "header": {
             "fill": {
              "color": "#C8D4E3"
             },
             "line": {
              "color": "white"
             }
            },
            "type": "table"
           }
          ]
         },
         "layout": {
          "annotationdefaults": {
           "arrowcolor": "#2a3f5f",
           "arrowhead": 0,
           "arrowwidth": 1
          },
          "autotypenumbers": "strict",
          "coloraxis": {
           "colorbar": {
            "outlinewidth": 0,
            "ticks": ""
           }
          },
          "colorscale": {
           "diverging": [
            [
             0,
             "#8e0152"
            ],
            [
             0.1,
             "#c51b7d"
            ],
            [
             0.2,
             "#de77ae"
            ],
            [
             0.3,
             "#f1b6da"
            ],
            [
             0.4,
             "#fde0ef"
            ],
            [
             0.5,
             "#f7f7f7"
            ],
            [
             0.6,
             "#e6f5d0"
            ],
            [
             0.7,
             "#b8e186"
            ],
            [
             0.8,
             "#7fbc41"
            ],
            [
             0.9,
             "#4d9221"
            ],
            [
             1,
             "#276419"
            ]
           ],
           "sequential": [
            [
             0,
             "#0d0887"
            ],
            [
             0.1111111111111111,
             "#46039f"
            ],
            [
             0.2222222222222222,
             "#7201a8"
            ],
            [
             0.3333333333333333,
             "#9c179e"
            ],
            [
             0.4444444444444444,
             "#bd3786"
            ],
            [
             0.5555555555555556,
             "#d8576b"
            ],
            [
             0.6666666666666666,
             "#ed7953"
            ],
            [
             0.7777777777777778,
             "#fb9f3a"
            ],
            [
             0.8888888888888888,
             "#fdca26"
            ],
            [
             1,
             "#f0f921"
            ]
           ],
           "sequentialminus": [
            [
             0,
             "#0d0887"
            ],
            [
             0.1111111111111111,
             "#46039f"
            ],
            [
             0.2222222222222222,
             "#7201a8"
            ],
            [
             0.3333333333333333,
             "#9c179e"
            ],
            [
             0.4444444444444444,
             "#bd3786"
            ],
            [
             0.5555555555555556,
             "#d8576b"
            ],
            [
             0.6666666666666666,
             "#ed7953"
            ],
            [
             0.7777777777777778,
             "#fb9f3a"
            ],
            [
             0.8888888888888888,
             "#fdca26"
            ],
            [
             1,
             "#f0f921"
            ]
           ]
          },
          "colorway": [
           "#636efa",
           "#EF553B",
           "#00cc96",
           "#ab63fa",
           "#FFA15A",
           "#19d3f3",
           "#FF6692",
           "#B6E880",
           "#FF97FF",
           "#FECB52"
          ],
          "font": {
           "color": "#2a3f5f"
          },
          "geo": {
           "bgcolor": "white",
           "lakecolor": "white",
           "landcolor": "#E5ECF6",
           "showlakes": true,
           "showland": true,
           "subunitcolor": "white"
          },
          "hoverlabel": {
           "align": "left"
          },
          "hovermode": "closest",
          "mapbox": {
           "style": "light"
          },
          "paper_bgcolor": "white",
          "plot_bgcolor": "#E5ECF6",
          "polar": {
           "angularaxis": {
            "gridcolor": "white",
            "linecolor": "white",
            "ticks": ""
           },
           "bgcolor": "#E5ECF6",
           "radialaxis": {
            "gridcolor": "white",
            "linecolor": "white",
            "ticks": ""
           }
          },
          "scene": {
           "xaxis": {
            "backgroundcolor": "#E5ECF6",
            "gridcolor": "white",
            "gridwidth": 2,
            "linecolor": "white",
            "showbackground": true,
            "ticks": "",
            "zerolinecolor": "white"
           },
           "yaxis": {
            "backgroundcolor": "#E5ECF6",
            "gridcolor": "white",
            "gridwidth": 2,
            "linecolor": "white",
            "showbackground": true,
            "ticks": "",
            "zerolinecolor": "white"
           },
           "zaxis": {
            "backgroundcolor": "#E5ECF6",
            "gridcolor": "white",
            "gridwidth": 2,
            "linecolor": "white",
            "showbackground": true,
            "ticks": "",
            "zerolinecolor": "white"
           }
          },
          "shapedefaults": {
           "line": {
            "color": "#2a3f5f"
           }
          },
          "ternary": {
           "aaxis": {
            "gridcolor": "white",
            "linecolor": "white",
            "ticks": ""
           },
           "baxis": {
            "gridcolor": "white",
            "linecolor": "white",
            "ticks": ""
           },
           "bgcolor": "#E5ECF6",
           "caxis": {
            "gridcolor": "white",
            "linecolor": "white",
            "ticks": ""
           }
          },
          "title": {
           "x": 0.05
          },
          "xaxis": {
           "automargin": true,
           "gridcolor": "white",
           "linecolor": "white",
           "ticks": "",
           "title": {
            "standoff": 15
           },
           "zerolinecolor": "white",
           "zerolinewidth": 2
          },
          "yaxis": {
           "automargin": true,
           "gridcolor": "white",
           "linecolor": "white",
           "ticks": "",
           "title": {
            "standoff": 15
           },
           "zerolinecolor": "white",
           "zerolinewidth": 2
          }
         }
        },
        "xaxis": {
         "title": {
          "text": "Normalized Prediction"
         }
        },
        "yaxis": {
         "title": {
          "text": "Normalized Target"
         }
        }
       }
      }
     },
     "metadata": {},
     "output_type": "display_data"
    }
   ],
   "source": [
    "pallete = plotly.colors.qualitative.Dark24*10\n",
    "\n",
    "fig = go.Figure()\n",
    "fig.add_trace(go.Scatter(x = [0,1], y = [0,1], showlegend=False, mode=\"markers+lines\"))\n",
    "\n",
    "for i in range(0, batch_size, batch_size):\n",
    "    fig.add_trace(go.Scatter(x = model.predict(X_test[i:i+batch_size],verbose=0).flatten(), \n",
    "                             y = y_test[i:i+batch_size], \n",
    "                             showlegend=False, mode=\"markers+lines\", name='batch',\n",
    "                             line_color = pallete[i]))\n",
    "fig.update_yaxes(title='Normalized Target')\n",
    "fig.update_xaxes(title='Normalized Prediction')"
   ]
  },
  {
   "cell_type": "code",
   "execution_count": 52,
   "id": "5a02331f",
   "metadata": {},
   "outputs": [
    {
     "data": {
      "application/vnd.plotly.v1+json": {
       "config": {
        "plotlyServerURL": "https://plot.ly"
       },
       "data": [
        {
         "line": {
          "color": "#2E91E5"
         },
         "mode": "lines",
         "name": "data",
         "type": "scatter",
         "x": [
          0,
          0.0125,
          0.025,
          0.075,
          0.1,
          0.2,
          0.3,
          0.4,
          0.5,
          0.6,
          0.8,
          0.85,
          0.9,
          0.95,
          0.975,
          0.98,
          0.99,
          1,
          1.005,
          1.01,
          1.015,
          1.02
         ],
         "y": [
          3.1820554561124355,
          3.174519287131372,
          3.1569190966906606,
          3.141967438882461,
          3.12534679970787,
          3.105417143851918,
          3.0836138006232208,
          3.020539371014468,
          2.995788676147516,
          2.962017365676042,
          2.9112989025003877,
          2.87311006022757,
          2.863719677415611,
          2.842082496258616,
          2.8155972171228987,
          2.800026604747095,
          2.7824070313443245,
          2.762799293829502,
          2.7402857484075556
         ]
        },
        {
         "line": {
          "color": "#2E91E5"
         },
         "mode": "markers",
         "name": "prediction",
         "type": "scatter",
         "x": [
          0,
          0.0125,
          0.025,
          0.075,
          0.1,
          0.2,
          0.3,
          0.4,
          0.5,
          0.6,
          0.8,
          0.85,
          0.9,
          0.95,
          0.975,
          0.98,
          0.99,
          1,
          1.005,
          1.01,
          1.015,
          1.02
         ],
         "y": [
          3.1752777099609375,
          3.170128345489502,
          3.151651382446289,
          3.1370997428894043,
          3.1153085231781006,
          3.0932846069335938,
          3.070439338684082,
          3.0075161457061768,
          2.984893321990967,
          2.951650857925415,
          2.8979427814483643,
          2.850207567214966,
          2.833768844604492,
          2.8129611015319824,
          2.79889178276062,
          2.785388469696045,
          2.772031307220459,
          2.757356643676758,
          2.7414796352386475
         ]
        },
        {
         "line": {
          "color": "#1616A7"
         },
         "mode": "lines",
         "name": "data",
         "type": "scatter",
         "x": [
          0,
          0.0125,
          0.025,
          0.075,
          0.1,
          0.2,
          0.3,
          0.4,
          0.5,
          0.6,
          0.8,
          0.85,
          0.9,
          0.95,
          0.975,
          0.98,
          0.99,
          1,
          1.005,
          1.01,
          1.015,
          1.02
         ],
         "y": [
          3.1828346095262687,
          3.1754288212417134,
          3.1576435416449407,
          3.1421660610425133,
          3.124715363185942,
          3.1043726166289236,
          3.0814916608998697,
          3.0167712458676936,
          2.991736867565841,
          2.9581234770061657,
          2.9060090650024595,
          2.864950394698168,
          2.8546895725228483,
          2.8310986081411023,
          2.8028532322461173,
          2.786416186714318,
          2.7682913078482185,
          2.748119215398249,
          2.7255887166854182
         ]
        },
        {
         "line": {
          "color": "#1616A7"
         },
         "mode": "markers",
         "name": "prediction",
         "type": "scatter",
         "x": [
          0,
          0.0125,
          0.025,
          0.075,
          0.1,
          0.2,
          0.3,
          0.4,
          0.5,
          0.6,
          0.8,
          0.85,
          0.9,
          0.95,
          0.975,
          0.98,
          0.99,
          1,
          1.005,
          1.01,
          1.015,
          1.02
         ],
         "y": [
          3.175313949584961,
          3.170301914215088,
          3.153203248977661,
          3.14028000831604,
          3.120457887649536,
          3.0992226600646973,
          3.0766661167144775,
          3.010465145111084,
          2.987945079803467,
          2.95593523979187,
          2.9039809703826904,
          2.8605966567993164,
          2.8465819358825684,
          2.8275856971740723,
          2.8148715496063232,
          2.803649663925171,
          2.7916741371154785,
          2.7793025970458984,
          2.7677180767059326
         ]
        },
        {
         "line": {
          "color": "#6C7C32"
         },
         "mode": "lines",
         "name": "data",
         "type": "scatter",
         "x": [
          0,
          0.0125,
          0.025,
          0.075,
          0.1,
          0.2,
          0.3,
          0.4,
          0.5,
          0.6,
          0.8,
          0.85,
          0.9,
          0.95,
          0.975,
          0.98,
          0.99,
          1,
          1.005,
          1.01,
          1.015,
          1.02
         ],
         "y": [
          3.181273405401991,
          3.17368071466613,
          3.1558384620346778,
          3.1403416955839276,
          3.1225172508687598,
          3.101645600844111,
          3.0786525039243107,
          3.011624734486019,
          2.9851626893183196,
          2.948163587885969,
          2.887993034924096,
          2.839113503952163,
          2.8268483018660584,
          2.7988704392801287,
          2.765307401835305,
          2.746090946025136,
          2.7247158129065077,
          2.701087255045636,
          2.6745007996941106
         ]
        },
        {
         "line": {
          "color": "#6C7C32"
         },
         "mode": "markers",
         "name": "prediction",
         "type": "scatter",
         "x": [
          0,
          0.0125,
          0.025,
          0.075,
          0.1,
          0.2,
          0.3,
          0.4,
          0.5,
          0.6,
          0.8,
          0.85,
          0.9,
          0.95,
          0.975,
          0.98,
          0.99,
          1,
          1.005,
          1.01,
          1.015,
          1.02
         ],
         "y": [
          3.1753997802734375,
          3.170535087585449,
          3.1546738147735596,
          3.142521858215332,
          3.1232118606567383,
          3.1013987064361572,
          3.077643871307373,
          3.0048627853393555,
          2.979144811630249,
          2.9425313472747803,
          2.8841724395751953,
          2.837919235229492,
          2.823164701461792,
          2.7998266220092773,
          2.7825496196746826,
          2.7671866416931152,
          2.7501139640808105,
          2.73416805267334,
          2.719656467437744
         ]
        },
        {
         "line": {
          "color": "#511CFB"
         },
         "mode": "lines",
         "name": "data",
         "type": "scatter",
         "x": [
          0,
          0.0125,
          0.025,
          0.075,
          0.1,
          0.2,
          0.3,
          0.4,
          0.5,
          0.6,
          0.8,
          0.85,
          0.9,
          0.95,
          0.975,
          0.98,
          0.99,
          1,
          1.005,
          1.01,
          1.015,
          1.02
         ],
         "y": [
          3.1800075626916553,
          3.1724829987284155,
          3.154435580660464,
          3.138715024781524,
          3.1206624793608033,
          3.0997376627316866,
          3.0762954064147565,
          3.0077141188349104,
          2.980032670389207,
          2.9396068304200105,
          2.871921020500869,
          2.815788793297474,
          2.8016476320489128,
          2.76944034893227,
          2.7308450737646126,
          2.7085657669054655,
          2.684034439569459,
          2.6565156784411768,
          2.625497617777465
         ]
        },
        {
         "line": {
          "color": "#511CFB"
         },
         "mode": "markers",
         "name": "prediction",
         "type": "scatter",
         "x": [
          0,
          0.0125,
          0.025,
          0.075,
          0.1,
          0.2,
          0.3,
          0.4,
          0.5,
          0.6,
          0.8,
          0.85,
          0.9,
          0.95,
          0.975,
          0.98,
          0.99,
          1,
          1.005,
          1.01,
          1.015,
          1.02
         ],
         "y": [
          3.175527334213257,
          3.1708250045776367,
          3.156050205230713,
          3.144211530685425,
          3.1248393058776855,
          3.1021628379821777,
          3.0771381855010986,
          2.999652624130249,
          2.9713196754455566,
          2.9294230937957764,
          2.862873077392578,
          2.8114264011383057,
          2.7933807373046875,
          2.7678329944610596,
          2.747114896774292,
          2.728624105453491,
          2.7075698375701904,
          2.6883840560913086,
          2.6708035469055176
         ]
        },
        {
         "line": {
          "color": "#DA16FF"
         },
         "mode": "lines",
         "name": "data",
         "type": "scatter",
         "x": [
          0,
          0.0125,
          0.025,
          0.075,
          0.1,
          0.2,
          0.3,
          0.4,
          0.5,
          0.6,
          0.8,
          0.85,
          0.9,
          0.95,
          0.975,
          0.98,
          0.99,
          1,
          1.005,
          1.01,
          1.015,
          1.02
         ],
         "y": [
          3.1859356359314446,
          3.178575335781784,
          3.1604246664070144,
          3.1447103407477455,
          3.126969487656852,
          3.1064684456784777,
          3.083589903624099,
          3.0187450466547303,
          2.991571409653362,
          2.9518403117749075,
          2.8838504417618402,
          2.8268190781409865,
          2.8125077526942994,
          2.779634337145737,
          2.7402900446323954,
          2.7175941091906903,
          2.6923630013318016,
          2.6641677165553346,
          2.6322091003858796
         ]
        },
        {
         "line": {
          "color": "#DA16FF"
         },
         "mode": "markers",
         "name": "prediction",
         "type": "scatter",
         "x": [
          0,
          0.0125,
          0.025,
          0.075,
          0.1,
          0.2,
          0.3,
          0.4,
          0.5,
          0.6,
          0.8,
          0.85,
          0.9,
          0.95,
          0.975,
          0.98,
          0.99,
          1,
          1.005,
          1.01,
          1.015,
          1.02
         ],
         "y": [
          3.175663471221924,
          3.1711785793304443,
          3.1575698852539062,
          3.1459977626800537,
          3.1265437602996826,
          3.1032886505126953,
          3.077953338623047,
          3.0033512115478516,
          2.9752187728881836,
          2.9329917430877686,
          2.8654069900512695,
          2.813455581665039,
          2.7923014163970947,
          2.7678442001342773,
          2.74643874168396,
          2.7265334129333496,
          2.703728675842285,
          2.6824824810028076,
          2.662705183029175
         ]
        },
        {
         "line": {
          "color": "#AF0038"
         },
         "mode": "lines",
         "name": "data",
         "type": "scatter",
         "x": [
          0,
          0.0125,
          0.025,
          0.075,
          0.1,
          0.2,
          0.3,
          0.4,
          0.5,
          0.6,
          0.8,
          0.85,
          0.9,
          0.95,
          0.975,
          0.98,
          0.99,
          1,
          1.005,
          1.01,
          1.015,
          1.02
         ],
         "y": [
          3.1830088643675176,
          3.1756315842584333,
          3.157592849929265,
          3.1417101395676763,
          3.123773395737163,
          3.102971001271156,
          3.080034775053349,
          3.012478005104362,
          2.9834381818540257,
          2.9395736200760165,
          2.862699928045516,
          2.797649834684325,
          2.781179967174279,
          2.7435674435551682,
          2.698077899300044,
          2.6716538713917717,
          2.6420108154825845,
          2.608322650395717,
          2.569348466116448
         ]
        },
        {
         "line": {
          "color": "#AF0038"
         },
         "mode": "markers",
         "name": "prediction",
         "type": "scatter",
         "x": [
          0,
          0.0125,
          0.025,
          0.075,
          0.1,
          0.2,
          0.3,
          0.4,
          0.5,
          0.6,
          0.8,
          0.85,
          0.9,
          0.95,
          0.975,
          0.98,
          0.99,
          1,
          1.005,
          1.01,
          1.015,
          1.02
         ],
         "y": [
          3.175827741622925,
          3.17150616645813,
          3.1585586071014404,
          3.146770715713501,
          3.1266579627990723,
          3.1023621559143066,
          3.0761876106262207,
          3.0001931190490723,
          2.969703197479248,
          2.922780990600586,
          2.8481597900390625,
          2.7904839515686035,
          2.7669920921325684,
          2.7386205196380615,
          2.712428569793701,
          2.6872100830078125,
          2.658020496368408,
          2.629376173019409,
          2.6021859645843506
         ]
        },
        {
         "line": {
          "color": "#620042"
         },
         "mode": "lines",
         "name": "data",
         "type": "scatter",
         "x": [
          0,
          0.0125,
          0.025,
          0.075,
          0.1,
          0.2,
          0.3,
          0.4,
          0.5,
          0.6,
          0.8,
          0.85,
          0.9,
          0.95,
          0.975,
          0.98,
          0.99,
          1,
          1.005,
          1.01,
          1.015,
          1.02
         ],
         "y": [
          3.1783218921601115,
          3.170801349965857,
          3.152602930202459,
          3.13650509914955,
          3.1184316073805567,
          3.097163560739229,
          3.073396076166767,
          3.0012483353229875,
          2.9691918870280425,
          2.920049304272829,
          2.831404667412555,
          2.7557268406050035,
          2.7364936896492456,
          2.69194222331012,
          2.637925162774718,
          2.605687258011011,
          2.56877724807938,
          2.5259446657442495,
          2.4745296007272533
         ]
        },
        {
         "line": {
          "color": "#620042"
         },
         "mode": "markers",
         "name": "prediction",
         "type": "scatter",
         "x": [
          0,
          0.0125,
          0.025,
          0.075,
          0.1,
          0.2,
          0.3,
          0.4,
          0.5,
          0.6,
          0.8,
          0.85,
          0.9,
          0.95,
          0.975,
          0.98,
          0.99,
          1,
          1.005,
          1.01,
          1.015,
          1.02
         ],
         "y": [
          3.175983428955078,
          3.1717369556427,
          3.1588387489318848,
          3.1462936401367188,
          3.1248929500579834,
          3.0991945266723633,
          3.0717380046844482,
          2.9903712272644043,
          2.955122709274292,
          2.8990097045898438,
          2.809675931930542,
          2.741535186767578,
          2.7150065898895264,
          2.6783645153045654,
          2.642519474029541,
          2.6071858406066895,
          2.566776752471924,
          2.52751088142395,
          2.4890637397766113
         ]
        },
        {
         "line": {
          "color": "#B2828D"
         },
         "mode": "lines",
         "name": "data",
         "type": "scatter",
         "x": [
          0,
          0.0125,
          0.025,
          0.075,
          0.1,
          0.2,
          0.3,
          0.4,
          0.5,
          0.6,
          0.8,
          0.85,
          0.9,
          0.95,
          0.975,
          0.98,
          0.99,
          1,
          1.005,
          1.01,
          1.015,
          1.02
         ],
         "y": [
          3.183036989813485,
          3.1756808178956453,
          3.1574729593975777,
          3.141386347152886,
          3.1233923629268205,
          3.1025468327241716,
          3.079374413547681,
          3.0103593006781697,
          2.9794417005014657,
          2.931466227808572,
          2.8435446482077933,
          2.768201325411527,
          2.7490070325261344,
          2.7050042587737373,
          2.6507701284547593,
          2.6181523130696713,
          2.5810804068506443,
          2.5377868808293513,
          2.4852384410572705
         ]
        },
        {
         "line": {
          "color": "#B2828D"
         },
         "mode": "markers",
         "name": "prediction",
         "type": "scatter",
         "x": [
          0,
          0.0125,
          0.025,
          0.075,
          0.1,
          0.2,
          0.3,
          0.4,
          0.5,
          0.6,
          0.8,
          0.85,
          0.9,
          0.95,
          0.975,
          0.98,
          0.99,
          1,
          1.005,
          1.01,
          1.015,
          1.02
         ],
         "y": [
          3.176124095916748,
          3.1719741821289062,
          3.1591644287109375,
          3.146024465560913,
          3.123966693878174,
          3.0984151363372803,
          3.0720083713531494,
          2.9946060180664062,
          2.9616613388061523,
          2.908008575439453,
          2.8191542625427246,
          2.7510972023010254,
          2.7244012355804443,
          2.6825830936431885,
          2.6422011852264404,
          2.6028354167938232,
          2.558281660079956,
          2.515194892883301,
          2.474557876586914
         ]
        },
        {
         "line": {
          "color": "#EB663B"
         },
         "mode": "lines",
         "name": "data",
         "type": "scatter",
         "x": [
          0,
          0.0125,
          0.025,
          0.075,
          0.1,
          0.2,
          0.3,
          0.4,
          0.5,
          0.6,
          0.8,
          0.85,
          0.9,
          0.95,
          0.975,
          0.98,
          0.99,
          1,
          1.005,
          1.01,
          1.015,
          1.02
         ],
         "y": [
          3.1777779341119627,
          3.170077580427977,
          3.1518245432928196,
          3.135725484505823,
          3.117595389783201,
          3.096504921789543,
          3.072440842094995,
          2.9984403549174967,
          2.964049121073166,
          2.9100406017421205,
          2.809135519845539,
          2.7222482199758957,
          2.6997209362062087,
          2.647858082491686,
          2.582152212154712,
          2.541678465645969,
          2.493648871064404,
          2.435476094306936,
          2.361721508112736
         ]
        },
        {
         "line": {
          "color": "#EB663B"
         },
         "mode": "markers",
         "name": "prediction",
         "type": "scatter",
         "x": [
          0,
          0.0125,
          0.025,
          0.075,
          0.1,
          0.2,
          0.3,
          0.4,
          0.5,
          0.6,
          0.8,
          0.85,
          0.9,
          0.95,
          0.975,
          0.98,
          0.99,
          1,
          1.005,
          1.01,
          1.015,
          1.02
         ],
         "y": [
          3.1762449741363525,
          3.1720709800720215,
          3.1586642265319824,
          3.1442441940307617,
          3.1209139823913574,
          3.095292568206787,
          3.0692548751831055,
          2.987952470779419,
          2.9520344734191895,
          2.8909809589385986,
          2.7892074584960938,
          2.7112245559692383,
          2.684086561203003,
          2.6289985179901123,
          2.5770812034606934,
          2.5257647037506104,
          2.470144748687744,
          2.4169766902923584,
          2.366020441055298
         ]
        },
        {
         "line": {
          "color": "#FB0D0D"
         },
         "mode": "lines",
         "name": "data",
         "type": "scatter",
         "x": [
          0,
          0.0125,
          0.025,
          0.075,
          0.1,
          0.2,
          0.3,
          0.4,
          0.5,
          0.6,
          0.8,
          0.85,
          0.9,
          0.95,
          0.975,
          0.98,
          0.99,
          1,
          1.005,
          1.01,
          1.015,
          1.02
         ],
         "y": [
          3.177479708100913,
          3.1698875217246716,
          3.151547448631612,
          3.135415020439972,
          3.117150209437574,
          3.0960056565652443,
          3.072010419631506,
          2.9967139487379195,
          2.961126511824899,
          2.903920159001191,
          2.796037624674025,
          2.7016048986908494,
          2.67708634282436,
          2.619178100177211,
          2.5440650656961514,
          2.496444092462198,
          2.438376233577948,
          2.3645502456948178,
          2.2753349734797097
         ]
        },
        {
         "line": {
          "color": "#FB0D0D"
         },
         "mode": "markers",
         "name": "prediction",
         "type": "scatter",
         "x": [
          0,
          0.0125,
          0.025,
          0.075,
          0.1,
          0.2,
          0.3,
          0.4,
          0.5,
          0.6,
          0.8,
          0.85,
          0.9,
          0.95,
          0.975,
          0.98,
          0.99,
          1,
          1.005,
          1.01,
          1.015,
          1.02
         ],
         "y": [
          3.1763346195220947,
          3.1720871925354004,
          3.1578006744384766,
          3.1419310569763184,
          3.118004322052002,
          3.093642234802246,
          3.068986654281616,
          2.9866981506347656,
          2.9495930671691895,
          2.884188175201416,
          2.7731049060821533,
          2.688387393951416,
          2.660787582397461,
          2.593207836151123,
          2.532867431640625,
          2.474458694458008,
          2.410489797592163,
          2.3493125438690186,
          2.2900137901306152
         ]
        },
        {
         "line": {
          "color": "#0D2A63"
         },
         "mode": "lines",
         "name": "data",
         "type": "scatter",
         "x": [
          0,
          0.0125,
          0.025,
          0.075,
          0.1,
          0.2,
          0.3,
          0.4,
          0.5,
          0.6,
          0.8,
          0.85,
          0.9,
          0.95,
          0.975,
          0.98,
          0.99,
          1,
          1.005,
          1.01,
          1.015,
          1.02
         ],
         "y": [
          3.176494823861818,
          3.1687625564972772,
          3.150454331099812,
          3.134308507709469,
          3.115943012331109,
          3.0946361635958084,
          3.0703074469327776,
          2.9936592783721228,
          2.9564604838298107,
          2.895839311681147,
          2.7790946300517185,
          2.675849045324854,
          2.648702031932156,
          2.5831499452405966,
          2.4947798109780197,
          2.4365054733691927,
          2.361783096548118,
          2.2718763816241894,
          2.1807429430129988
         ]
        },
        {
         "line": {
          "color": "#0D2A63"
         },
         "mode": "markers",
         "name": "prediction",
         "type": "scatter",
         "x": [
          0,
          0.0125,
          0.025,
          0.075,
          0.1,
          0.2,
          0.3,
          0.4,
          0.5,
          0.6,
          0.8,
          0.85,
          0.9,
          0.95,
          0.975,
          0.98,
          0.99,
          1,
          1.005,
          1.01,
          1.015,
          1.02
         ],
         "y": [
          3.176395893096924,
          3.1719987392425537,
          3.156538963317871,
          3.13922119140625,
          3.1156809329986572,
          3.0933680534362793,
          3.07021427154541,
          2.9872477054595947,
          2.949267864227295,
          2.882516860961914,
          2.7649128437042236,
          2.672677755355835,
          2.6416738033294678,
          2.5601346492767334,
          2.4914023876190186,
          2.4240875244140625,
          2.3494253158569336,
          2.2781267166137695,
          2.208625078201294
         ]
        },
        {
         "line": {
          "color": "#A777F1"
         },
         "mode": "lines",
         "name": "data",
         "type": "scatter",
         "x": [
          0,
          0.0125,
          0.025,
          0.075,
          0.1,
          0.2,
          0.3,
          0.4,
          0.5,
          0.6,
          0.8,
          0.85,
          0.9,
          0.95,
          0.975,
          0.98,
          0.99,
          1,
          1.005,
          1.01,
          1.015,
          1.02
         ],
         "y": [
          3.1769196162934032,
          3.1692556040580424,
          3.150827466621524,
          3.134689270129155,
          3.116477732836145,
          3.095216772709775,
          3.0708121652363114,
          2.9929735223281027,
          2.9545611093561845,
          2.8907298743259773,
          2.766777308014495,
          2.655470843127623,
          2.6255071897918425,
          2.5521092974753183,
          2.4489740696161046,
          2.3767502644416756,
          2.2866565729679857,
          2.1927892656578094,
          2.0819406867710675
         ]
        },
        {
         "line": {
          "color": "#A777F1"
         },
         "mode": "markers",
         "name": "prediction",
         "type": "scatter",
         "x": [
          0,
          0.0125,
          0.025,
          0.075,
          0.1,
          0.2,
          0.3,
          0.4,
          0.5,
          0.6,
          0.8,
          0.85,
          0.9,
          0.95,
          0.975,
          0.98,
          0.99,
          1,
          1.005,
          1.01,
          1.015,
          1.02
         ],
         "y": [
          3.176429271697998,
          3.171804666519165,
          3.1549534797668457,
          3.13639497756958,
          3.114147424697876,
          3.0938620567321777,
          3.071685552597046,
          2.9896278381347656,
          2.9505105018615723,
          2.881277561187744,
          2.754854917526245,
          2.653604745864868,
          2.621567964553833,
          2.5281379222869873,
          2.449814558029175,
          2.371044874191284,
          2.2861509323120117,
          2.2046477794647217,
          2.129392385482788
         ]
        }
       ],
       "layout": {
        "template": {
         "data": {
          "bar": [
           {
            "error_x": {
             "color": "#2a3f5f"
            },
            "error_y": {
             "color": "#2a3f5f"
            },
            "marker": {
             "line": {
              "color": "#E5ECF6",
              "width": 0.5
             },
             "pattern": {
              "fillmode": "overlay",
              "size": 10,
              "solidity": 0.2
             }
            },
            "type": "bar"
           }
          ],
          "barpolar": [
           {
            "marker": {
             "line": {
              "color": "#E5ECF6",
              "width": 0.5
             },
             "pattern": {
              "fillmode": "overlay",
              "size": 10,
              "solidity": 0.2
             }
            },
            "type": "barpolar"
           }
          ],
          "carpet": [
           {
            "aaxis": {
             "endlinecolor": "#2a3f5f",
             "gridcolor": "white",
             "linecolor": "white",
             "minorgridcolor": "white",
             "startlinecolor": "#2a3f5f"
            },
            "baxis": {
             "endlinecolor": "#2a3f5f",
             "gridcolor": "white",
             "linecolor": "white",
             "minorgridcolor": "white",
             "startlinecolor": "#2a3f5f"
            },
            "type": "carpet"
           }
          ],
          "choropleth": [
           {
            "colorbar": {
             "outlinewidth": 0,
             "ticks": ""
            },
            "type": "choropleth"
           }
          ],
          "contour": [
           {
            "colorbar": {
             "outlinewidth": 0,
             "ticks": ""
            },
            "colorscale": [
             [
              0,
              "#0d0887"
             ],
             [
              0.1111111111111111,
              "#46039f"
             ],
             [
              0.2222222222222222,
              "#7201a8"
             ],
             [
              0.3333333333333333,
              "#9c179e"
             ],
             [
              0.4444444444444444,
              "#bd3786"
             ],
             [
              0.5555555555555556,
              "#d8576b"
             ],
             [
              0.6666666666666666,
              "#ed7953"
             ],
             [
              0.7777777777777778,
              "#fb9f3a"
             ],
             [
              0.8888888888888888,
              "#fdca26"
             ],
             [
              1,
              "#f0f921"
             ]
            ],
            "type": "contour"
           }
          ],
          "contourcarpet": [
           {
            "colorbar": {
             "outlinewidth": 0,
             "ticks": ""
            },
            "type": "contourcarpet"
           }
          ],
          "heatmap": [
           {
            "colorbar": {
             "outlinewidth": 0,
             "ticks": ""
            },
            "colorscale": [
             [
              0,
              "#0d0887"
             ],
             [
              0.1111111111111111,
              "#46039f"
             ],
             [
              0.2222222222222222,
              "#7201a8"
             ],
             [
              0.3333333333333333,
              "#9c179e"
             ],
             [
              0.4444444444444444,
              "#bd3786"
             ],
             [
              0.5555555555555556,
              "#d8576b"
             ],
             [
              0.6666666666666666,
              "#ed7953"
             ],
             [
              0.7777777777777778,
              "#fb9f3a"
             ],
             [
              0.8888888888888888,
              "#fdca26"
             ],
             [
              1,
              "#f0f921"
             ]
            ],
            "type": "heatmap"
           }
          ],
          "heatmapgl": [
           {
            "colorbar": {
             "outlinewidth": 0,
             "ticks": ""
            },
            "colorscale": [
             [
              0,
              "#0d0887"
             ],
             [
              0.1111111111111111,
              "#46039f"
             ],
             [
              0.2222222222222222,
              "#7201a8"
             ],
             [
              0.3333333333333333,
              "#9c179e"
             ],
             [
              0.4444444444444444,
              "#bd3786"
             ],
             [
              0.5555555555555556,
              "#d8576b"
             ],
             [
              0.6666666666666666,
              "#ed7953"
             ],
             [
              0.7777777777777778,
              "#fb9f3a"
             ],
             [
              0.8888888888888888,
              "#fdca26"
             ],
             [
              1,
              "#f0f921"
             ]
            ],
            "type": "heatmapgl"
           }
          ],
          "histogram": [
           {
            "marker": {
             "pattern": {
              "fillmode": "overlay",
              "size": 10,
              "solidity": 0.2
             }
            },
            "type": "histogram"
           }
          ],
          "histogram2d": [
           {
            "colorbar": {
             "outlinewidth": 0,
             "ticks": ""
            },
            "colorscale": [
             [
              0,
              "#0d0887"
             ],
             [
              0.1111111111111111,
              "#46039f"
             ],
             [
              0.2222222222222222,
              "#7201a8"
             ],
             [
              0.3333333333333333,
              "#9c179e"
             ],
             [
              0.4444444444444444,
              "#bd3786"
             ],
             [
              0.5555555555555556,
              "#d8576b"
             ],
             [
              0.6666666666666666,
              "#ed7953"
             ],
             [
              0.7777777777777778,
              "#fb9f3a"
             ],
             [
              0.8888888888888888,
              "#fdca26"
             ],
             [
              1,
              "#f0f921"
             ]
            ],
            "type": "histogram2d"
           }
          ],
          "histogram2dcontour": [
           {
            "colorbar": {
             "outlinewidth": 0,
             "ticks": ""
            },
            "colorscale": [
             [
              0,
              "#0d0887"
             ],
             [
              0.1111111111111111,
              "#46039f"
             ],
             [
              0.2222222222222222,
              "#7201a8"
             ],
             [
              0.3333333333333333,
              "#9c179e"
             ],
             [
              0.4444444444444444,
              "#bd3786"
             ],
             [
              0.5555555555555556,
              "#d8576b"
             ],
             [
              0.6666666666666666,
              "#ed7953"
             ],
             [
              0.7777777777777778,
              "#fb9f3a"
             ],
             [
              0.8888888888888888,
              "#fdca26"
             ],
             [
              1,
              "#f0f921"
             ]
            ],
            "type": "histogram2dcontour"
           }
          ],
          "mesh3d": [
           {
            "colorbar": {
             "outlinewidth": 0,
             "ticks": ""
            },
            "type": "mesh3d"
           }
          ],
          "parcoords": [
           {
            "line": {
             "colorbar": {
              "outlinewidth": 0,
              "ticks": ""
             }
            },
            "type": "parcoords"
           }
          ],
          "pie": [
           {
            "automargin": true,
            "type": "pie"
           }
          ],
          "scatter": [
           {
            "fillpattern": {
             "fillmode": "overlay",
             "size": 10,
             "solidity": 0.2
            },
            "type": "scatter"
           }
          ],
          "scatter3d": [
           {
            "line": {
             "colorbar": {
              "outlinewidth": 0,
              "ticks": ""
             }
            },
            "marker": {
             "colorbar": {
              "outlinewidth": 0,
              "ticks": ""
             }
            },
            "type": "scatter3d"
           }
          ],
          "scattercarpet": [
           {
            "marker": {
             "colorbar": {
              "outlinewidth": 0,
              "ticks": ""
             }
            },
            "type": "scattercarpet"
           }
          ],
          "scattergeo": [
           {
            "marker": {
             "colorbar": {
              "outlinewidth": 0,
              "ticks": ""
             }
            },
            "type": "scattergeo"
           }
          ],
          "scattergl": [
           {
            "marker": {
             "colorbar": {
              "outlinewidth": 0,
              "ticks": ""
             }
            },
            "type": "scattergl"
           }
          ],
          "scattermapbox": [
           {
            "marker": {
             "colorbar": {
              "outlinewidth": 0,
              "ticks": ""
             }
            },
            "type": "scattermapbox"
           }
          ],
          "scatterpolar": [
           {
            "marker": {
             "colorbar": {
              "outlinewidth": 0,
              "ticks": ""
             }
            },
            "type": "scatterpolar"
           }
          ],
          "scatterpolargl": [
           {
            "marker": {
             "colorbar": {
              "outlinewidth": 0,
              "ticks": ""
             }
            },
            "type": "scatterpolargl"
           }
          ],
          "scatterternary": [
           {
            "marker": {
             "colorbar": {
              "outlinewidth": 0,
              "ticks": ""
             }
            },
            "type": "scatterternary"
           }
          ],
          "surface": [
           {
            "colorbar": {
             "outlinewidth": 0,
             "ticks": ""
            },
            "colorscale": [
             [
              0,
              "#0d0887"
             ],
             [
              0.1111111111111111,
              "#46039f"
             ],
             [
              0.2222222222222222,
              "#7201a8"
             ],
             [
              0.3333333333333333,
              "#9c179e"
             ],
             [
              0.4444444444444444,
              "#bd3786"
             ],
             [
              0.5555555555555556,
              "#d8576b"
             ],
             [
              0.6666666666666666,
              "#ed7953"
             ],
             [
              0.7777777777777778,
              "#fb9f3a"
             ],
             [
              0.8888888888888888,
              "#fdca26"
             ],
             [
              1,
              "#f0f921"
             ]
            ],
            "type": "surface"
           }
          ],
          "table": [
           {
            "cells": {
             "fill": {
              "color": "#EBF0F8"
             },
             "line": {
              "color": "white"
             }
            },
            "header": {
             "fill": {
              "color": "#C8D4E3"
             },
             "line": {
              "color": "white"
             }
            },
            "type": "table"
           }
          ]
         },
         "layout": {
          "annotationdefaults": {
           "arrowcolor": "#2a3f5f",
           "arrowhead": 0,
           "arrowwidth": 1
          },
          "autotypenumbers": "strict",
          "coloraxis": {
           "colorbar": {
            "outlinewidth": 0,
            "ticks": ""
           }
          },
          "colorscale": {
           "diverging": [
            [
             0,
             "#8e0152"
            ],
            [
             0.1,
             "#c51b7d"
            ],
            [
             0.2,
             "#de77ae"
            ],
            [
             0.3,
             "#f1b6da"
            ],
            [
             0.4,
             "#fde0ef"
            ],
            [
             0.5,
             "#f7f7f7"
            ],
            [
             0.6,
             "#e6f5d0"
            ],
            [
             0.7,
             "#b8e186"
            ],
            [
             0.8,
             "#7fbc41"
            ],
            [
             0.9,
             "#4d9221"
            ],
            [
             1,
             "#276419"
            ]
           ],
           "sequential": [
            [
             0,
             "#0d0887"
            ],
            [
             0.1111111111111111,
             "#46039f"
            ],
            [
             0.2222222222222222,
             "#7201a8"
            ],
            [
             0.3333333333333333,
             "#9c179e"
            ],
            [
             0.4444444444444444,
             "#bd3786"
            ],
            [
             0.5555555555555556,
             "#d8576b"
            ],
            [
             0.6666666666666666,
             "#ed7953"
            ],
            [
             0.7777777777777778,
             "#fb9f3a"
            ],
            [
             0.8888888888888888,
             "#fdca26"
            ],
            [
             1,
             "#f0f921"
            ]
           ],
           "sequentialminus": [
            [
             0,
             "#0d0887"
            ],
            [
             0.1111111111111111,
             "#46039f"
            ],
            [
             0.2222222222222222,
             "#7201a8"
            ],
            [
             0.3333333333333333,
             "#9c179e"
            ],
            [
             0.4444444444444444,
             "#bd3786"
            ],
            [
             0.5555555555555556,
             "#d8576b"
            ],
            [
             0.6666666666666666,
             "#ed7953"
            ],
            [
             0.7777777777777778,
             "#fb9f3a"
            ],
            [
             0.8888888888888888,
             "#fdca26"
            ],
            [
             1,
             "#f0f921"
            ]
           ]
          },
          "colorway": [
           "#636efa",
           "#EF553B",
           "#00cc96",
           "#ab63fa",
           "#FFA15A",
           "#19d3f3",
           "#FF6692",
           "#B6E880",
           "#FF97FF",
           "#FECB52"
          ],
          "font": {
           "color": "#2a3f5f"
          },
          "geo": {
           "bgcolor": "white",
           "lakecolor": "white",
           "landcolor": "#E5ECF6",
           "showlakes": true,
           "showland": true,
           "subunitcolor": "white"
          },
          "hoverlabel": {
           "align": "left"
          },
          "hovermode": "closest",
          "mapbox": {
           "style": "light"
          },
          "paper_bgcolor": "white",
          "plot_bgcolor": "#E5ECF6",
          "polar": {
           "angularaxis": {
            "gridcolor": "white",
            "linecolor": "white",
            "ticks": ""
           },
           "bgcolor": "#E5ECF6",
           "radialaxis": {
            "gridcolor": "white",
            "linecolor": "white",
            "ticks": ""
           }
          },
          "scene": {
           "xaxis": {
            "backgroundcolor": "#E5ECF6",
            "gridcolor": "white",
            "gridwidth": 2,
            "linecolor": "white",
            "showbackground": true,
            "ticks": "",
            "zerolinecolor": "white"
           },
           "yaxis": {
            "backgroundcolor": "#E5ECF6",
            "gridcolor": "white",
            "gridwidth": 2,
            "linecolor": "white",
            "showbackground": true,
            "ticks": "",
            "zerolinecolor": "white"
           },
           "zaxis": {
            "backgroundcolor": "#E5ECF6",
            "gridcolor": "white",
            "gridwidth": 2,
            "linecolor": "white",
            "showbackground": true,
            "ticks": "",
            "zerolinecolor": "white"
           }
          },
          "shapedefaults": {
           "line": {
            "color": "#2a3f5f"
           }
          },
          "ternary": {
           "aaxis": {
            "gridcolor": "white",
            "linecolor": "white",
            "ticks": ""
           },
           "baxis": {
            "gridcolor": "white",
            "linecolor": "white",
            "ticks": ""
           },
           "bgcolor": "#E5ECF6",
           "caxis": {
            "gridcolor": "white",
            "linecolor": "white",
            "ticks": ""
           }
          },
          "title": {
           "x": 0.05
          },
          "xaxis": {
           "automargin": true,
           "gridcolor": "white",
           "linecolor": "white",
           "ticks": "",
           "title": {
            "standoff": 15
           },
           "zerolinecolor": "white",
           "zerolinewidth": 2
          },
          "yaxis": {
           "automargin": true,
           "gridcolor": "white",
           "linecolor": "white",
           "ticks": "",
           "title": {
            "standoff": 15
           },
           "zerolinecolor": "white",
           "zerolinewidth": 2
          }
         }
        },
        "xaxis": {
         "title": {
          "text": "Capacity [Ah]"
         }
        },
        "yaxis": {
         "title": {
          "text": "Voltage [V]"
         }
        }
       }
      }
     },
     "metadata": {},
     "output_type": "display_data"
    }
   ],
   "source": [
    "fig = go.Figure()\n",
    "for i in range(0, len(X_test), batch_size):\n",
    "    V_actual = y_test[i:i+batch_size]\n",
    "    V_pred = model.predict(X_test[i:i+batch_size],verbose=0).flatten()\n",
    "    fig.add_trace(go.Scatter(x = Q_eval, y = V_actual*(3.5-1.9)+1.9, \n",
    "                             mode='lines', name = 'data', \n",
    "                             line_color = pallete[i]))\n",
    "    fig.add_trace(go.Scatter(x = Q_eval, y = V_pred*(3.5-1.9)+1.9,\n",
    "                             mode='markers', name = 'prediction', \n",
    "                             line_color = pallete[i]))\n",
    "fig.update_yaxes(title=\"Voltage [V]\")\n",
    "fig.update_xaxes(title=\"Capacity [Ah]\")"
   ]
  },
  {
   "cell_type": "code",
   "execution_count": null,
   "id": "0079d655",
   "metadata": {},
   "outputs": [],
   "source": []
  }
 ],
 "metadata": {
  "kernelspec": {
   "display_name": "Python 3.10.6 ('10701')",
   "language": "python",
   "name": "python3"
  },
  "language_info": {
   "codemirror_mode": {
    "name": "ipython",
    "version": 3
   },
   "file_extension": ".py",
   "mimetype": "text/x-python",
   "name": "python",
   "nbconvert_exporter": "python",
   "pygments_lexer": "ipython3",
   "version": "3.10.6"
  },
  "vscode": {
   "interpreter": {
    "hash": "63dcb1742ad588d72fa93718ba23fdbf2e75f9bb2496cf77f8dc8d00f14cc3b8"
   }
  }
 },
 "nbformat": 4,
 "nbformat_minor": 5
}
