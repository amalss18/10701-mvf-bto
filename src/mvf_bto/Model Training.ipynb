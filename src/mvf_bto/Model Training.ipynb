{
 "cells": [
  {
   "cell_type": "code",
   "execution_count": 28,
   "id": "153bf8fa",
   "metadata": {},
   "outputs": [],
   "source": [
    "from tensorflow.keras.models import Sequential\n",
    "from tensorflow.keras.layers import Dense, LSTM\n",
    "from sklearn.metrics import mean_squared_error\n",
    "from scipy.interpolate import interp1d\n",
    "\n",
    "import plotly.graph_objects as go\n",
    "import plotly.express as px\n",
    "import plotly.colors\n",
    "\n",
    "import tqdm\n",
    "\n",
    "import numpy as np\n",
    "import pandas as pd\n",
    "\n",
    "from mvf_bto.data_loading import load_data"
   ]
  },
  {
   "cell_type": "markdown",
   "id": "399af5af",
   "metadata": {},
   "source": [
    "## Loading Data"
   ]
  },
  {
   "cell_type": "code",
   "execution_count": 29,
   "id": "da1525d3",
   "metadata": {},
   "outputs": [],
   "source": [
    "data_path = \"/Users/mac/Desktop/CMU/10701MachineLearning/project/10701-mvf-bto/data/2017-05-12_batchdata_updated_struct_errorcorrect.mat\""
   ]
  },
  {
   "cell_type": "code",
   "execution_count": 30,
   "id": "a26f9c62",
   "metadata": {},
   "outputs": [
    {
     "name": "stderr",
     "output_type": "stream",
     "text": [
      "100%|██████████| 3/3 [00:54<00:00, 18.26s/it]\n"
     ]
    }
   ],
   "source": [
    "data = load_data(file_path= data_path, num_cells= 3)"
   ]
  },
  {
   "cell_type": "code",
   "execution_count": 31,
   "id": "daa30d37",
   "metadata": {},
   "outputs": [],
   "source": [
    "single_cell_data = data['b1c2']['cycles']"
   ]
  },
  {
   "cell_type": "markdown",
   "id": "43e44118",
   "metadata": {},
   "source": [
    "## Preprocessing Data"
   ]
  },
  {
   "cell_type": "code",
   "execution_count": 32,
   "id": "aca8e318",
   "metadata": {},
   "outputs": [
    {
     "name": "stderr",
     "output_type": "stream",
     "text": [
      "100%|██████████| 1176/1176 [00:12<00:00, 92.27it/s] \n"
     ]
    }
   ],
   "source": [
    "df_list = []\n",
    "max_cycle = 1175\n",
    "for cycle_key, time_series in tqdm.tqdm(single_cell_data.items()):\n",
    "    cycle_num = int(cycle_key)\n",
    "    if cycle_num<1:\n",
    "        continue\n",
    "    df = pd.DataFrame({'t': time_series['t'], \n",
    "                       'V': time_series['V'],\n",
    "                       'temp': time_series['T'],\n",
    "                       'I': time_series['I'],\n",
    "                       'Qd': time_series['Qd'],\n",
    "                      }\n",
    "                       )\n",
    "    # drop duplicates to be able to interpolate over capacity\n",
    "    df = df.drop_duplicates(subset='Qd')\n",
    "    \n",
    "    \n",
    "    # get discharge part of curve only (current is negative during discharge)\n",
    "    df = df[df.I<-3.85]\n",
    "    \n",
    "    # normalize voltage and temperature using fixed thershold's to avoid data leakage\n",
    "    df['V_norm'] = (df.V-1.9)/(3.5-1.9)\n",
    "    df['T_norm'] = (df.temp-24)/(38-24)\n",
    "    \n",
    "    interp_df = pd.DataFrame()\n",
    "    # use capacity as reference to interpolate over\n",
    "    Q_eval = [0, 0.0125, 0.025, 0.075, 0.1, 0.2, 0.3, 0.4, 0.5, 0.6, 0.8, 0.85, 0.9, 0.95, 0.975, 0.98, 0.99, 1.0, 1.005, 1.01, 1.015, 1.02]\n",
    "    interp_df['Q_eval'] = Q_eval\n",
    "    fV = interp1d(x=df.Qd, y =df.V_norm, kind='quadratic', fill_value='extrapolate')\n",
    "    interp_df['V_norm'] = fV(Q_eval)\n",
    "    ft = interp1d(x=df.Qd, y =df.t, kind='quadratic', fill_value='extrapolate')\n",
    "    interp_df['t'] = ft(Q_eval)\n",
    "    fT = interp1d(x=df.Qd, y =df['T_norm'], kind='quadratic', fill_value='extrapolate')\n",
    "    interp_df['T_norm'] = fT(Q_eval)\n",
    "    \n",
    "    interp_df['Cycle'] = [cycle_num/max_cycle for i in range(len(interp_df))]\n",
    "    \n",
    "    df_list.append(interp_df)"
   ]
  },
  {
   "cell_type": "markdown",
   "id": "dbf38f7d",
   "metadata": {},
   "source": [
    "## What does raw versus interpolated data look like?"
   ]
  },
  {
   "cell_type": "code",
   "execution_count": 14,
   "id": "be06bb8d",
   "metadata": {},
   "outputs": [
    {
     "data": {
      "application/vnd.plotly.v1+json": {
       "config": {
        "plotlyServerURL": "https://plot.ly"
       },
       "data": [
        {
         "mode": "markers",
         "name": "Raw",
         "showlegend": true,
         "type": "scatter",
         "x": [
          0.00091625028,
          0.0023163944,
          0.0032979618,
          0.004484117,
          0.0059406562,
          0.0076965028,
          0.008706959,
          0.009807975,
          0.01100067,
          0.012342228,
          0.013790276,
          0.015394746,
          0.017181085,
          0.019191645,
          0.021451212,
          0.024054023,
          0.027133366,
          0.030817451,
          0.035543568,
          0.041656069,
          0.04777934,
          0.053893764,
          0.0600155,
          0.066117987,
          0.072247826,
          0.078342423,
          0.084479429,
          0.090587877,
          0.096697927,
          0.10283069,
          0.1089486,
          0.11506512,
          0.12116255,
          0.12726505,
          0.13338719,
          0.13950421,
          0.14563322,
          0.151749,
          0.15786326,
          0.16396095,
          0.17006139,
          0.17619011,
          0.18231404,
          0.18843417,
          0.19454449,
          0.20065869,
          0.20677081,
          0.21288399,
          0.21900299,
          0.22511244,
          0.23123468,
          0.23732799,
          0.24345903,
          0.24958281,
          0.25568044,
          0.26181629,
          0.26792955,
          0.274037,
          0.28014812,
          0.28625929,
          0.29236987,
          0.29850113,
          0.30460086,
          0.31072581,
          0.31683517,
          0.3229534,
          0.32906193,
          0.33515999,
          0.34130242,
          0.34738421,
          0.35351589,
          0.3596535,
          0.36576962,
          0.37186292,
          0.37797251,
          0.38410461,
          0.39021429,
          0.39633653,
          0.40242743,
          0.40856311,
          0.41467899,
          0.42079857,
          0.42690554,
          0.43303704,
          0.43914995,
          0.44527075,
          0.45138472,
          0.45749864,
          0.4636094,
          0.46972764,
          0.47584677,
          0.48197502,
          0.48806801,
          0.4941932,
          0.5003143,
          0.50642729,
          0.51253653,
          0.51866168,
          0.52477062,
          0.53088009,
          0.53698069,
          0.54312634,
          0.54924285,
          0.55533624,
          0.56146973,
          0.56759083,
          0.57371151,
          0.5798322,
          0.58593273,
          0.5920431,
          0.59817934,
          0.60430062,
          0.61041951,
          0.6165396,
          0.6226384,
          0.62874633,
          0.63488621,
          0.64099365,
          0.64710206,
          0.65322793,
          0.6593402,
          0.66544956,
          0.67156881,
          0.67769837,
          0.68381101,
          0.68992138,
          0.69604057,
          0.70214486,
          0.70826179,
          0.71436733,
          0.72048825,
          0.7266323,
          0.73272341,
          0.73886108,
          0.74496824,
          0.75108546,
          0.75720853,
          0.76331574,
          0.76943499,
          0.77554238,
          0.78166318,
          0.78777462,
          0.79389751,
          0.80000687,
          0.80611783,
          0.81224096,
          0.81836677,
          0.82446921,
          0.83060211,
          0.83670944,
          0.84280604,
          0.84894788,
          0.85504645,
          0.86115581,
          0.86729449,
          0.87339419,
          0.87952411,
          0.88563937,
          0.89176315,
          0.89775789,
          0.90348101,
          0.90886462,
          0.91380835,
          0.91846073,
          0.92277151,
          0.92689425,
          0.93070984,
          0.93440497,
          0.93785363,
          0.94113046,
          0.94421524,
          0.94723952,
          0.95008993,
          0.95280129,
          0.95542789,
          0.95788324,
          0.96029252,
          0.96257257,
          0.9647699,
          0.96685356,
          0.96883947,
          0.97076482,
          0.97262537,
          0.97445077,
          0.97616005,
          0.97778618,
          0.97938299,
          0.98088694,
          0.98234338,
          0.98375452,
          0.98508543,
          0.98635948,
          0.98761636,
          0.98879015,
          0.98995966,
          0.99105954,
          0.99211657,
          0.99316305,
          0.99507862,
          0.9959653,
          0.99684328,
          0.99847043,
          0.99924982,
          1.0006893,
          1.0020589,
          1.0033096,
          1.0045378,
          1.0056612,
          1.0067244,
          1.0082905,
          1.0092833,
          1.0103116,
          1.0118606,
          1.012893,
          1.0138985,
          1.0153582,
          1.0166724,
          1.0178223,
          1.0188326,
          1.0202786
         ],
         "y": [
          0.9779725,
          0.9523150625000001,
          0.9396139375000001,
          0.9270051875000002,
          0.9143463125000001,
          0.9017405624999999,
          0.8954284375000001,
          0.8891293750000001,
          0.88286375,
          0.8765480625,
          0.87022875,
          0.8639303749999999,
          0.8576218125000001,
          0.8513680625,
          0.8451179375000001,
          0.838817125,
          0.8325389375,
          0.8262721250000001,
          0.81999275,
          0.8138934375000001,
          0.80932475,
          0.8059356249999999,
          0.8032563750000001,
          0.8010921249999999,
          0.7994047500000001,
          0.7979771874999999,
          0.7965395625000001,
          0.7954446249999999,
          0.794417,
          0.7933888124999999,
          0.7925370625,
          0.7917085625,
          0.79089975,
          0.7901135625,
          0.7894441874999999,
          0.7886729375000001,
          0.7879606250000001,
          0.7872698124999999,
          0.78665175,
          0.7859436250000001,
          0.78537025,
          0.7846889375000001,
          0.7840577500000001,
          0.783462875,
          0.7828060625,
          0.7821950625000001,
          0.7815418125000001,
          0.7809099999999999,
          0.780293125,
          0.7797632500000001,
          0.7791397499999999,
          0.7785574375000001,
          0.7779094999999999,
          0.7773152499999999,
          0.7766429375,
          0.7761505625,
          0.7753786875000002,
          0.7747951875,
          0.774180625,
          0.7736233750000001,
          0.7729152499999999,
          0.7722726874999999,
          0.7715663750000001,
          0.770886875,
          0.7702747500000001,
          0.76961375,
          0.7689735624999999,
          0.7682220000000001,
          0.7675448749999999,
          0.7668826875000001,
          0.7662359375,
          0.7655368125,
          0.7647201875,
          0.7640490625000002,
          0.7632819375,
          0.76263525,
          0.7618627499999999,
          0.7610450000000002,
          0.7603595000000002,
          0.7596055000000002,
          0.7587615,
          0.7580313750000001,
          0.7572404374999999,
          0.7563803125000002,
          0.7556054375000001,
          0.7548252499999999,
          0.7539746875,
          0.7532725625,
          0.7524046875000001,
          0.7515863125,
          0.7506761250000001,
          0.749915625,
          0.7490256875000001,
          0.7482269999999999,
          0.74739375,
          0.7465425625,
          0.7455471874999999,
          0.7447538125,
          0.743869875,
          0.7429585625000001,
          0.7420239375000001,
          0.741235375,
          0.7403603750000001,
          0.7393417500000001,
          0.7384637499999999,
          0.737476125,
          0.7365564375,
          0.7355711249999999,
          0.7347009374999999,
          0.7336834375000001,
          0.7326338125,
          0.7317123124999999,
          0.730702625,
          0.7296911250000001,
          0.7285729375,
          0.7275453749999999,
          0.7264510625,
          0.725353125,
          0.7242295625,
          0.7230619374999999,
          0.72192225,
          0.7207146875,
          0.71953275,
          0.7182416875,
          0.7169423125000002,
          0.7156703750000001,
          0.7142904999999999,
          0.7129577500000001,
          0.7115820624999999,
          0.7100651250000001,
          0.7085893125,
          0.7071015625000001,
          0.7055030000000001,
          0.7038549374999999,
          0.7022372500000001,
          0.7006106249999999,
          0.6988290625000001,
          0.6969378125,
          0.69506325,
          0.69300625,
          0.6910298125,
          0.6889430000000002,
          0.6867889374999999,
          0.6843176875000001,
          0.6819269375,
          0.679399125,
          0.6767515000000002,
          0.6738701874999999,
          0.6708839999999999,
          0.6677488125,
          0.6644604375000002,
          0.6609610625000001,
          0.657135,
          0.6531724999999999,
          0.648815375,
          0.6443265625,
          0.6393424375000001,
          0.6340483125000002,
          0.6283996250000001,
          0.622145875,
          0.6158516250000001,
          0.6095413125000001,
          0.6032720625000001,
          0.5969963125,
          0.5907437500000001,
          0.5844739374999999,
          0.5782143125,
          0.5719349375000001,
          0.56564725,
          0.5593821875000001,
          0.5531081875000001,
          0.5468348125,
          0.540531625,
          0.5342791250000001,
          0.527977125,
          0.5216876249999999,
          0.5153755000000001,
          0.5090770625000002,
          0.5028245625,
          0.4965708125000001,
          0.4903105625000001,
          0.48398468750000007,
          0.4777345625000001,
          0.47142718750000007,
          0.4651133125000001,
          0.4588136875000001,
          0.45251581250000006,
          0.4462621250000001,
          0.43996131250000015,
          0.43368193750000006,
          0.42740737500000014,
          0.4211506875000001,
          0.4148141250000001,
          0.408560375,
          0.40222562500000003,
          0.39595281250000003,
          0.38957275000000013,
          0.38329162500000014,
          0.37073768750000013,
          0.3644720625,
          0.358220125,
          0.3456000000000001,
          0.33928724999999993,
          0.3267482500000002,
          0.31405243750000006,
          0.3014383125,
          0.2887330000000002,
          0.2760991875000002,
          0.26358462500000013,
          0.24454631249999997,
          0.2318034375,
          0.2190521875000001,
          0.20007825000000007,
          0.18748137500000012,
          0.17480350000000006,
          0.1556698125,
          0.13655581249999993,
          0.11769568750000015,
          0.09865200000000018,
          0.06680581250000012
         ]
        },
        {
         "mode": "markers+lines",
         "name": "Interpolated",
         "showlegend": true,
         "type": "scatter",
         "x": [
          0,
          0.0125,
          0.025,
          0.075,
          0.1,
          0.2,
          0.3,
          0.4,
          0.5,
          0.6,
          0.8,
          0.85,
          0.9,
          0.95,
          0.975,
          0.98,
          0.99,
          1,
          1.005,
          1.01,
          1.015,
          1.02
         ],
         "y": [
          0.9998889889260005,
          0.8758361306284119,
          0.8367631717053139,
          0.7987490434520126,
          0.7938495715297544,
          0.7822623829486246,
          0.772105327574451,
          0.7606294771580059,
          0.7474365084879915,
          0.7323522792136339,
          0.6843204398999374,
          0.6603232650100841,
          0.6197160432791089,
          0.5407351789655297,
          0.46944310735988615,
          0.4499892038377077,
          0.40200205320708093,
          0.3328727982360685,
          0.2836478542351154,
          0.2228853860449967,
          0.16052775213012313,
          0.07336609478139784
         ]
        }
       ],
       "layout": {
        "template": {
         "data": {
          "bar": [
           {
            "error_x": {
             "color": "#2a3f5f"
            },
            "error_y": {
             "color": "#2a3f5f"
            },
            "marker": {
             "line": {
              "color": "#E5ECF6",
              "width": 0.5
             },
             "pattern": {
              "fillmode": "overlay",
              "size": 10,
              "solidity": 0.2
             }
            },
            "type": "bar"
           }
          ],
          "barpolar": [
           {
            "marker": {
             "line": {
              "color": "#E5ECF6",
              "width": 0.5
             },
             "pattern": {
              "fillmode": "overlay",
              "size": 10,
              "solidity": 0.2
             }
            },
            "type": "barpolar"
           }
          ],
          "carpet": [
           {
            "aaxis": {
             "endlinecolor": "#2a3f5f",
             "gridcolor": "white",
             "linecolor": "white",
             "minorgridcolor": "white",
             "startlinecolor": "#2a3f5f"
            },
            "baxis": {
             "endlinecolor": "#2a3f5f",
             "gridcolor": "white",
             "linecolor": "white",
             "minorgridcolor": "white",
             "startlinecolor": "#2a3f5f"
            },
            "type": "carpet"
           }
          ],
          "choropleth": [
           {
            "colorbar": {
             "outlinewidth": 0,
             "ticks": ""
            },
            "type": "choropleth"
           }
          ],
          "contour": [
           {
            "colorbar": {
             "outlinewidth": 0,
             "ticks": ""
            },
            "colorscale": [
             [
              0,
              "#0d0887"
             ],
             [
              0.1111111111111111,
              "#46039f"
             ],
             [
              0.2222222222222222,
              "#7201a8"
             ],
             [
              0.3333333333333333,
              "#9c179e"
             ],
             [
              0.4444444444444444,
              "#bd3786"
             ],
             [
              0.5555555555555556,
              "#d8576b"
             ],
             [
              0.6666666666666666,
              "#ed7953"
             ],
             [
              0.7777777777777778,
              "#fb9f3a"
             ],
             [
              0.8888888888888888,
              "#fdca26"
             ],
             [
              1,
              "#f0f921"
             ]
            ],
            "type": "contour"
           }
          ],
          "contourcarpet": [
           {
            "colorbar": {
             "outlinewidth": 0,
             "ticks": ""
            },
            "type": "contourcarpet"
           }
          ],
          "heatmap": [
           {
            "colorbar": {
             "outlinewidth": 0,
             "ticks": ""
            },
            "colorscale": [
             [
              0,
              "#0d0887"
             ],
             [
              0.1111111111111111,
              "#46039f"
             ],
             [
              0.2222222222222222,
              "#7201a8"
             ],
             [
              0.3333333333333333,
              "#9c179e"
             ],
             [
              0.4444444444444444,
              "#bd3786"
             ],
             [
              0.5555555555555556,
              "#d8576b"
             ],
             [
              0.6666666666666666,
              "#ed7953"
             ],
             [
              0.7777777777777778,
              "#fb9f3a"
             ],
             [
              0.8888888888888888,
              "#fdca26"
             ],
             [
              1,
              "#f0f921"
             ]
            ],
            "type": "heatmap"
           }
          ],
          "heatmapgl": [
           {
            "colorbar": {
             "outlinewidth": 0,
             "ticks": ""
            },
            "colorscale": [
             [
              0,
              "#0d0887"
             ],
             [
              0.1111111111111111,
              "#46039f"
             ],
             [
              0.2222222222222222,
              "#7201a8"
             ],
             [
              0.3333333333333333,
              "#9c179e"
             ],
             [
              0.4444444444444444,
              "#bd3786"
             ],
             [
              0.5555555555555556,
              "#d8576b"
             ],
             [
              0.6666666666666666,
              "#ed7953"
             ],
             [
              0.7777777777777778,
              "#fb9f3a"
             ],
             [
              0.8888888888888888,
              "#fdca26"
             ],
             [
              1,
              "#f0f921"
             ]
            ],
            "type": "heatmapgl"
           }
          ],
          "histogram": [
           {
            "marker": {
             "pattern": {
              "fillmode": "overlay",
              "size": 10,
              "solidity": 0.2
             }
            },
            "type": "histogram"
           }
          ],
          "histogram2d": [
           {
            "colorbar": {
             "outlinewidth": 0,
             "ticks": ""
            },
            "colorscale": [
             [
              0,
              "#0d0887"
             ],
             [
              0.1111111111111111,
              "#46039f"
             ],
             [
              0.2222222222222222,
              "#7201a8"
             ],
             [
              0.3333333333333333,
              "#9c179e"
             ],
             [
              0.4444444444444444,
              "#bd3786"
             ],
             [
              0.5555555555555556,
              "#d8576b"
             ],
             [
              0.6666666666666666,
              "#ed7953"
             ],
             [
              0.7777777777777778,
              "#fb9f3a"
             ],
             [
              0.8888888888888888,
              "#fdca26"
             ],
             [
              1,
              "#f0f921"
             ]
            ],
            "type": "histogram2d"
           }
          ],
          "histogram2dcontour": [
           {
            "colorbar": {
             "outlinewidth": 0,
             "ticks": ""
            },
            "colorscale": [
             [
              0,
              "#0d0887"
             ],
             [
              0.1111111111111111,
              "#46039f"
             ],
             [
              0.2222222222222222,
              "#7201a8"
             ],
             [
              0.3333333333333333,
              "#9c179e"
             ],
             [
              0.4444444444444444,
              "#bd3786"
             ],
             [
              0.5555555555555556,
              "#d8576b"
             ],
             [
              0.6666666666666666,
              "#ed7953"
             ],
             [
              0.7777777777777778,
              "#fb9f3a"
             ],
             [
              0.8888888888888888,
              "#fdca26"
             ],
             [
              1,
              "#f0f921"
             ]
            ],
            "type": "histogram2dcontour"
           }
          ],
          "mesh3d": [
           {
            "colorbar": {
             "outlinewidth": 0,
             "ticks": ""
            },
            "type": "mesh3d"
           }
          ],
          "parcoords": [
           {
            "line": {
             "colorbar": {
              "outlinewidth": 0,
              "ticks": ""
             }
            },
            "type": "parcoords"
           }
          ],
          "pie": [
           {
            "automargin": true,
            "type": "pie"
           }
          ],
          "scatter": [
           {
            "fillpattern": {
             "fillmode": "overlay",
             "size": 10,
             "solidity": 0.2
            },
            "type": "scatter"
           }
          ],
          "scatter3d": [
           {
            "line": {
             "colorbar": {
              "outlinewidth": 0,
              "ticks": ""
             }
            },
            "marker": {
             "colorbar": {
              "outlinewidth": 0,
              "ticks": ""
             }
            },
            "type": "scatter3d"
           }
          ],
          "scattercarpet": [
           {
            "marker": {
             "colorbar": {
              "outlinewidth": 0,
              "ticks": ""
             }
            },
            "type": "scattercarpet"
           }
          ],
          "scattergeo": [
           {
            "marker": {
             "colorbar": {
              "outlinewidth": 0,
              "ticks": ""
             }
            },
            "type": "scattergeo"
           }
          ],
          "scattergl": [
           {
            "marker": {
             "colorbar": {
              "outlinewidth": 0,
              "ticks": ""
             }
            },
            "type": "scattergl"
           }
          ],
          "scattermapbox": [
           {
            "marker": {
             "colorbar": {
              "outlinewidth": 0,
              "ticks": ""
             }
            },
            "type": "scattermapbox"
           }
          ],
          "scatterpolar": [
           {
            "marker": {
             "colorbar": {
              "outlinewidth": 0,
              "ticks": ""
             }
            },
            "type": "scatterpolar"
           }
          ],
          "scatterpolargl": [
           {
            "marker": {
             "colorbar": {
              "outlinewidth": 0,
              "ticks": ""
             }
            },
            "type": "scatterpolargl"
           }
          ],
          "scatterternary": [
           {
            "marker": {
             "colorbar": {
              "outlinewidth": 0,
              "ticks": ""
             }
            },
            "type": "scatterternary"
           }
          ],
          "surface": [
           {
            "colorbar": {
             "outlinewidth": 0,
             "ticks": ""
            },
            "colorscale": [
             [
              0,
              "#0d0887"
             ],
             [
              0.1111111111111111,
              "#46039f"
             ],
             [
              0.2222222222222222,
              "#7201a8"
             ],
             [
              0.3333333333333333,
              "#9c179e"
             ],
             [
              0.4444444444444444,
              "#bd3786"
             ],
             [
              0.5555555555555556,
              "#d8576b"
             ],
             [
              0.6666666666666666,
              "#ed7953"
             ],
             [
              0.7777777777777778,
              "#fb9f3a"
             ],
             [
              0.8888888888888888,
              "#fdca26"
             ],
             [
              1,
              "#f0f921"
             ]
            ],
            "type": "surface"
           }
          ],
          "table": [
           {
            "cells": {
             "fill": {
              "color": "#EBF0F8"
             },
             "line": {
              "color": "white"
             }
            },
            "header": {
             "fill": {
              "color": "#C8D4E3"
             },
             "line": {
              "color": "white"
             }
            },
            "type": "table"
           }
          ]
         },
         "layout": {
          "annotationdefaults": {
           "arrowcolor": "#2a3f5f",
           "arrowhead": 0,
           "arrowwidth": 1
          },
          "autotypenumbers": "strict",
          "coloraxis": {
           "colorbar": {
            "outlinewidth": 0,
            "ticks": ""
           }
          },
          "colorscale": {
           "diverging": [
            [
             0,
             "#8e0152"
            ],
            [
             0.1,
             "#c51b7d"
            ],
            [
             0.2,
             "#de77ae"
            ],
            [
             0.3,
             "#f1b6da"
            ],
            [
             0.4,
             "#fde0ef"
            ],
            [
             0.5,
             "#f7f7f7"
            ],
            [
             0.6,
             "#e6f5d0"
            ],
            [
             0.7,
             "#b8e186"
            ],
            [
             0.8,
             "#7fbc41"
            ],
            [
             0.9,
             "#4d9221"
            ],
            [
             1,
             "#276419"
            ]
           ],
           "sequential": [
            [
             0,
             "#0d0887"
            ],
            [
             0.1111111111111111,
             "#46039f"
            ],
            [
             0.2222222222222222,
             "#7201a8"
            ],
            [
             0.3333333333333333,
             "#9c179e"
            ],
            [
             0.4444444444444444,
             "#bd3786"
            ],
            [
             0.5555555555555556,
             "#d8576b"
            ],
            [
             0.6666666666666666,
             "#ed7953"
            ],
            [
             0.7777777777777778,
             "#fb9f3a"
            ],
            [
             0.8888888888888888,
             "#fdca26"
            ],
            [
             1,
             "#f0f921"
            ]
           ],
           "sequentialminus": [
            [
             0,
             "#0d0887"
            ],
            [
             0.1111111111111111,
             "#46039f"
            ],
            [
             0.2222222222222222,
             "#7201a8"
            ],
            [
             0.3333333333333333,
             "#9c179e"
            ],
            [
             0.4444444444444444,
             "#bd3786"
            ],
            [
             0.5555555555555556,
             "#d8576b"
            ],
            [
             0.6666666666666666,
             "#ed7953"
            ],
            [
             0.7777777777777778,
             "#fb9f3a"
            ],
            [
             0.8888888888888888,
             "#fdca26"
            ],
            [
             1,
             "#f0f921"
            ]
           ]
          },
          "colorway": [
           "#636efa",
           "#EF553B",
           "#00cc96",
           "#ab63fa",
           "#FFA15A",
           "#19d3f3",
           "#FF6692",
           "#B6E880",
           "#FF97FF",
           "#FECB52"
          ],
          "font": {
           "color": "#2a3f5f"
          },
          "geo": {
           "bgcolor": "white",
           "lakecolor": "white",
           "landcolor": "#E5ECF6",
           "showlakes": true,
           "showland": true,
           "subunitcolor": "white"
          },
          "hoverlabel": {
           "align": "left"
          },
          "hovermode": "closest",
          "mapbox": {
           "style": "light"
          },
          "paper_bgcolor": "white",
          "plot_bgcolor": "#E5ECF6",
          "polar": {
           "angularaxis": {
            "gridcolor": "white",
            "linecolor": "white",
            "ticks": ""
           },
           "bgcolor": "#E5ECF6",
           "radialaxis": {
            "gridcolor": "white",
            "linecolor": "white",
            "ticks": ""
           }
          },
          "scene": {
           "xaxis": {
            "backgroundcolor": "#E5ECF6",
            "gridcolor": "white",
            "gridwidth": 2,
            "linecolor": "white",
            "showbackground": true,
            "ticks": "",
            "zerolinecolor": "white"
           },
           "yaxis": {
            "backgroundcolor": "#E5ECF6",
            "gridcolor": "white",
            "gridwidth": 2,
            "linecolor": "white",
            "showbackground": true,
            "ticks": "",
            "zerolinecolor": "white"
           },
           "zaxis": {
            "backgroundcolor": "#E5ECF6",
            "gridcolor": "white",
            "gridwidth": 2,
            "linecolor": "white",
            "showbackground": true,
            "ticks": "",
            "zerolinecolor": "white"
           }
          },
          "shapedefaults": {
           "line": {
            "color": "#2a3f5f"
           }
          },
          "ternary": {
           "aaxis": {
            "gridcolor": "white",
            "linecolor": "white",
            "ticks": ""
           },
           "baxis": {
            "gridcolor": "white",
            "linecolor": "white",
            "ticks": ""
           },
           "bgcolor": "#E5ECF6",
           "caxis": {
            "gridcolor": "white",
            "linecolor": "white",
            "ticks": ""
           }
          },
          "title": {
           "x": 0.05
          },
          "xaxis": {
           "automargin": true,
           "gridcolor": "white",
           "linecolor": "white",
           "ticks": "",
           "title": {
            "standoff": 15
           },
           "zerolinecolor": "white",
           "zerolinewidth": 2
          },
          "yaxis": {
           "automargin": true,
           "gridcolor": "white",
           "linecolor": "white",
           "ticks": "",
           "title": {
            "standoff": 15
           },
           "zerolinecolor": "white",
           "zerolinewidth": 2
          }
         }
        }
       }
      }
     },
     "metadata": {},
     "output_type": "display_data"
    }
   ],
   "source": [
    "fig = go.Figure()\n",
    "fig.add_trace(go.Scatter(x = df.Qd, y = df.V_norm, showlegend=True, mode=\"markers\", name=\"Raw\"))\n",
    "fig.add_trace(go.Scatter(x = interp_df.Q_eval, y = interp_df.V_norm, showlegend=True, mode=\"markers+lines\" , name=\"Interpolated\"))"
   ]
  },
  {
   "cell_type": "code",
   "execution_count": 33,
   "id": "cdbbbd83",
   "metadata": {},
   "outputs": [],
   "source": [
    "# multivariate data preparation\n",
    "# TODO: multi output (temperature + voltage)\n",
    "# TODO: multiple time steps in the future \n",
    "X_list, y_list = [], []\n",
    "\n",
    "# split a multivariate sequence into samples\n",
    "def split_sequences(sequences, n_steps):\n",
    "    X, y = list(), list()\n",
    "    for i in range(len(sequences)):\n",
    "        # find the end of this pattern\n",
    "        end_ix = i + n_steps\n",
    "        # check if we are beyond the dataset\n",
    "        if end_ix > len(sequences):\n",
    "            break\n",
    "            # gather input and output parts of the pattern\n",
    "        seq_x, seq_y = sequences[i:end_ix-1, :-1], sequences[end_ix-1, -1]\n",
    "        X.append(seq_x)\n",
    "        y.append(seq_y)\n",
    "    return np.array(X), np.array(y)\n",
    "\n",
    "for df in df_list:\n",
    "    # define input sequence\n",
    "    in_seq1 = df['T_norm'].values\n",
    "    in_seq2 = df['Q_eval'].values\n",
    "    in_seq3 = df['V_norm'].values\n",
    "    in_seq4 = df['Cycle'].values\n",
    "    out_seq = df['V_norm'].values\n",
    "    \n",
    "    # convert to [rows, columns] structure\n",
    "    in_seq1 = in_seq1.reshape((len(in_seq1), 1))\n",
    "    in_seq2 = in_seq2.reshape((len(in_seq2), 1))\n",
    "    in_seq3 = in_seq3.reshape((len(in_seq3), 1))\n",
    "    in_seq4 = in_seq4.reshape((len(in_seq4), 1))\n",
    "    out_seq = out_seq.reshape((len(out_seq), 1))\n",
    "    \n",
    "    # horizontally stack columns\n",
    "    dataset = np.hstack((in_seq1, in_seq2, in_seq3, in_seq4, out_seq))\n",
    "    \n",
    "    # choose a number of time steps (for input window)\n",
    "    n_steps = 4\n",
    "    \n",
    "    # convert into input/output\n",
    "    X_cycle, y_cycle = split_sequences(dataset, n_steps)\n",
    "    X_list.append(X_cycle)\n",
    "    y_list.append(y_cycle)"
   ]
  },
  {
   "cell_type": "code",
   "execution_count": 42,
   "id": "06da13c5",
   "metadata": {},
   "outputs": [
    {
     "name": "stdout",
     "output_type": "stream",
     "text": [
      "19 3 4\n"
     ]
    }
   ],
   "source": [
    "batch_size = X_cycle.shape[0] \n",
    "# batch_size must be equal to the length of 1 input curve\n",
    "# since for a stateful LSTM the cell state is cleared after a batch\n",
    "# (look at the keras docs)\n",
    "# we could write over own custom callback if we need batch_size != sequence_length\n",
    "# (for the use t prediction as t+1 input case)\n",
    "# but I'm not sure if that's acceptable practice\n",
    "\n",
    "window_length = X_cycle.shape[1]\n",
    "n_features = X_cycle.shape[2]\n",
    "print(batch_size, window_length, n_features)"
   ]
  },
  {
   "cell_type": "code",
   "execution_count": 35,
   "id": "2ae46c85",
   "metadata": {},
   "outputs": [],
   "source": [
    "X_train = np.array([item for index, item in enumerate(X_list) if index % 100 != 0])\n",
    "X_test = np.array([item for index, item in enumerate(X_list) if index % 100 == 0])\n",
    "\n",
    "y_train = np.array([item for index, item in enumerate(y_list) if index % 100 != 0])\n",
    "y_test = np.array([item for index, item in enumerate(y_list) if index % 100 == 0])\n",
    "\n",
    "y_test = y_test.flatten()\n",
    "y_train = y_train.flatten()\n",
    "\n",
    "X_train = X_train.reshape(X_train.shape[0]*batch_size, X_train[0].shape[1] , X_train.shape[-1])\n",
    "X_test = X_test.reshape(X_test.shape[0]*batch_size,X_test[0].shape[1], X_test.shape[-1])"
   ]
  },
  {
   "cell_type": "code",
   "execution_count": 37,
   "id": "8c19b540",
   "metadata": {},
   "outputs": [],
   "source": [
    "sample_weight = np.ones(y_train.shape)\n",
    "\n",
    "# TODO: experiment with different sample weights and thersholds\n",
    "# (this is a arbitary guess)\n",
    "sample_weight[y_train<0.6]=2\n",
    "sample_weight[y_train<0.5]=3"
   ]
  },
  {
   "cell_type": "code",
   "execution_count": 43,
   "id": "8b682e1e",
   "metadata": {},
   "outputs": [],
   "source": [
    "# define model\n",
    "# TODO: hyperparameter tuning (Anoushka)\n",
    "model = Sequential()\n",
    "model.add(LSTM(32, return_sequences=True, stateful=True, batch_input_shape=(batch_size, window_length, n_features)))\n",
    "model.add(LSTM(16, return_sequences=False))\n",
    "model.add(Dense(32, activation=\"sigmoid\"))\n",
    "model.add(Dense(8))\n",
    "model.add(Dense(1))\n",
    "\n",
    "model.compile(optimizer='adam', loss='mse')"
   ]
  },
  {
   "cell_type": "code",
   "execution_count": 44,
   "id": "cacd6530",
   "metadata": {},
   "outputs": [],
   "source": [
    "# TODO: add validation set or validation split + early stopping\n",
    "history = model.fit(X_train, y_train, \n",
    "                    epochs=50, \n",
    "                    batch_size=batch_size, \n",
    "                    shuffle=False, \n",
    "                    verbose=0, \n",
    "                    sample_weight=sample_weight)"
   ]
  },
  {
   "cell_type": "code",
   "execution_count": 45,
   "id": "ad3d04e5",
   "metadata": {},
   "outputs": [
    {
     "data": {
      "application/vnd.plotly.v1+json": {
       "config": {
        "plotlyServerURL": "https://plot.ly"
       },
       "data": [
        {
         "mode": "markers+lines",
         "showlegend": false,
         "type": "scatter",
         "x": [
          1,
          2,
          3,
          4,
          5,
          6,
          7,
          8,
          9,
          10,
          11,
          12,
          13,
          14,
          15,
          16,
          17,
          18,
          19,
          20,
          21,
          22,
          23,
          24,
          25,
          26,
          27,
          28,
          29,
          30,
          31,
          32,
          33,
          34,
          35,
          36,
          37,
          38,
          39,
          40,
          41,
          42,
          43,
          44,
          45,
          46,
          47,
          48,
          49,
          50
         ],
         "y": [
          0.011851349845528603,
          0.0015474276151508093,
          0.0013279073173180223,
          0.0011262797052040696,
          0.0011611718218773603,
          0.0012156947050243616,
          0.0014318267349153757,
          0.0012700909283012152,
          0.0011951084015890956,
          0.0009664013632573187,
          0.0009932719403877854,
          0.0009313388145528734,
          0.0007998506189323962,
          0.0005366385448724031,
          0.0004392811970319599,
          0.00038444422534666955,
          0.00034426755155436695,
          0.00031722337007522583,
          0.0002792215964291245,
          0.00024426126037724316,
          0.0002129485656041652,
          0.00018097030988428742,
          0.0001543270773254335,
          0.00013177977234590799,
          0.00011644772894214839,
          0.00010184096754528582,
          0.00008846122364047915,
          0.00008346868708031252,
          0.000076776668720413,
          0.00007287111657205969,
          0.00006583039794350043,
          0.00006272198515944183,
          0.00006044854671927169,
          0.000057688965171109885,
          0.000056223023420898244,
          0.00005410579979070462,
          0.00005299337499309331,
          0.00005201644671615213,
          0.000051332124712644145,
          0.00005126023825141601,
          0.00005098750625620596,
          0.00005322964716469869,
          0.000053906303946860135,
          0.00005646431600325741,
          0.00005770364077761769,
          0.000055029147915774956,
          0.000049616202886682004,
          0.00004313960744184442,
          0.000040668543078936636,
          0.000040801915019983426
         ]
        }
       ],
       "layout": {
        "template": {
         "data": {
          "bar": [
           {
            "error_x": {
             "color": "#2a3f5f"
            },
            "error_y": {
             "color": "#2a3f5f"
            },
            "marker": {
             "line": {
              "color": "#E5ECF6",
              "width": 0.5
             },
             "pattern": {
              "fillmode": "overlay",
              "size": 10,
              "solidity": 0.2
             }
            },
            "type": "bar"
           }
          ],
          "barpolar": [
           {
            "marker": {
             "line": {
              "color": "#E5ECF6",
              "width": 0.5
             },
             "pattern": {
              "fillmode": "overlay",
              "size": 10,
              "solidity": 0.2
             }
            },
            "type": "barpolar"
           }
          ],
          "carpet": [
           {
            "aaxis": {
             "endlinecolor": "#2a3f5f",
             "gridcolor": "white",
             "linecolor": "white",
             "minorgridcolor": "white",
             "startlinecolor": "#2a3f5f"
            },
            "baxis": {
             "endlinecolor": "#2a3f5f",
             "gridcolor": "white",
             "linecolor": "white",
             "minorgridcolor": "white",
             "startlinecolor": "#2a3f5f"
            },
            "type": "carpet"
           }
          ],
          "choropleth": [
           {
            "colorbar": {
             "outlinewidth": 0,
             "ticks": ""
            },
            "type": "choropleth"
           }
          ],
          "contour": [
           {
            "colorbar": {
             "outlinewidth": 0,
             "ticks": ""
            },
            "colorscale": [
             [
              0,
              "#0d0887"
             ],
             [
              0.1111111111111111,
              "#46039f"
             ],
             [
              0.2222222222222222,
              "#7201a8"
             ],
             [
              0.3333333333333333,
              "#9c179e"
             ],
             [
              0.4444444444444444,
              "#bd3786"
             ],
             [
              0.5555555555555556,
              "#d8576b"
             ],
             [
              0.6666666666666666,
              "#ed7953"
             ],
             [
              0.7777777777777778,
              "#fb9f3a"
             ],
             [
              0.8888888888888888,
              "#fdca26"
             ],
             [
              1,
              "#f0f921"
             ]
            ],
            "type": "contour"
           }
          ],
          "contourcarpet": [
           {
            "colorbar": {
             "outlinewidth": 0,
             "ticks": ""
            },
            "type": "contourcarpet"
           }
          ],
          "heatmap": [
           {
            "colorbar": {
             "outlinewidth": 0,
             "ticks": ""
            },
            "colorscale": [
             [
              0,
              "#0d0887"
             ],
             [
              0.1111111111111111,
              "#46039f"
             ],
             [
              0.2222222222222222,
              "#7201a8"
             ],
             [
              0.3333333333333333,
              "#9c179e"
             ],
             [
              0.4444444444444444,
              "#bd3786"
             ],
             [
              0.5555555555555556,
              "#d8576b"
             ],
             [
              0.6666666666666666,
              "#ed7953"
             ],
             [
              0.7777777777777778,
              "#fb9f3a"
             ],
             [
              0.8888888888888888,
              "#fdca26"
             ],
             [
              1,
              "#f0f921"
             ]
            ],
            "type": "heatmap"
           }
          ],
          "heatmapgl": [
           {
            "colorbar": {
             "outlinewidth": 0,
             "ticks": ""
            },
            "colorscale": [
             [
              0,
              "#0d0887"
             ],
             [
              0.1111111111111111,
              "#46039f"
             ],
             [
              0.2222222222222222,
              "#7201a8"
             ],
             [
              0.3333333333333333,
              "#9c179e"
             ],
             [
              0.4444444444444444,
              "#bd3786"
             ],
             [
              0.5555555555555556,
              "#d8576b"
             ],
             [
              0.6666666666666666,
              "#ed7953"
             ],
             [
              0.7777777777777778,
              "#fb9f3a"
             ],
             [
              0.8888888888888888,
              "#fdca26"
             ],
             [
              1,
              "#f0f921"
             ]
            ],
            "type": "heatmapgl"
           }
          ],
          "histogram": [
           {
            "marker": {
             "pattern": {
              "fillmode": "overlay",
              "size": 10,
              "solidity": 0.2
             }
            },
            "type": "histogram"
           }
          ],
          "histogram2d": [
           {
            "colorbar": {
             "outlinewidth": 0,
             "ticks": ""
            },
            "colorscale": [
             [
              0,
              "#0d0887"
             ],
             [
              0.1111111111111111,
              "#46039f"
             ],
             [
              0.2222222222222222,
              "#7201a8"
             ],
             [
              0.3333333333333333,
              "#9c179e"
             ],
             [
              0.4444444444444444,
              "#bd3786"
             ],
             [
              0.5555555555555556,
              "#d8576b"
             ],
             [
              0.6666666666666666,
              "#ed7953"
             ],
             [
              0.7777777777777778,
              "#fb9f3a"
             ],
             [
              0.8888888888888888,
              "#fdca26"
             ],
             [
              1,
              "#f0f921"
             ]
            ],
            "type": "histogram2d"
           }
          ],
          "histogram2dcontour": [
           {
            "colorbar": {
             "outlinewidth": 0,
             "ticks": ""
            },
            "colorscale": [
             [
              0,
              "#0d0887"
             ],
             [
              0.1111111111111111,
              "#46039f"
             ],
             [
              0.2222222222222222,
              "#7201a8"
             ],
             [
              0.3333333333333333,
              "#9c179e"
             ],
             [
              0.4444444444444444,
              "#bd3786"
             ],
             [
              0.5555555555555556,
              "#d8576b"
             ],
             [
              0.6666666666666666,
              "#ed7953"
             ],
             [
              0.7777777777777778,
              "#fb9f3a"
             ],
             [
              0.8888888888888888,
              "#fdca26"
             ],
             [
              1,
              "#f0f921"
             ]
            ],
            "type": "histogram2dcontour"
           }
          ],
          "mesh3d": [
           {
            "colorbar": {
             "outlinewidth": 0,
             "ticks": ""
            },
            "type": "mesh3d"
           }
          ],
          "parcoords": [
           {
            "line": {
             "colorbar": {
              "outlinewidth": 0,
              "ticks": ""
             }
            },
            "type": "parcoords"
           }
          ],
          "pie": [
           {
            "automargin": true,
            "type": "pie"
           }
          ],
          "scatter": [
           {
            "fillpattern": {
             "fillmode": "overlay",
             "size": 10,
             "solidity": 0.2
            },
            "type": "scatter"
           }
          ],
          "scatter3d": [
           {
            "line": {
             "colorbar": {
              "outlinewidth": 0,
              "ticks": ""
             }
            },
            "marker": {
             "colorbar": {
              "outlinewidth": 0,
              "ticks": ""
             }
            },
            "type": "scatter3d"
           }
          ],
          "scattercarpet": [
           {
            "marker": {
             "colorbar": {
              "outlinewidth": 0,
              "ticks": ""
             }
            },
            "type": "scattercarpet"
           }
          ],
          "scattergeo": [
           {
            "marker": {
             "colorbar": {
              "outlinewidth": 0,
              "ticks": ""
             }
            },
            "type": "scattergeo"
           }
          ],
          "scattergl": [
           {
            "marker": {
             "colorbar": {
              "outlinewidth": 0,
              "ticks": ""
             }
            },
            "type": "scattergl"
           }
          ],
          "scattermapbox": [
           {
            "marker": {
             "colorbar": {
              "outlinewidth": 0,
              "ticks": ""
             }
            },
            "type": "scattermapbox"
           }
          ],
          "scatterpolar": [
           {
            "marker": {
             "colorbar": {
              "outlinewidth": 0,
              "ticks": ""
             }
            },
            "type": "scatterpolar"
           }
          ],
          "scatterpolargl": [
           {
            "marker": {
             "colorbar": {
              "outlinewidth": 0,
              "ticks": ""
             }
            },
            "type": "scatterpolargl"
           }
          ],
          "scatterternary": [
           {
            "marker": {
             "colorbar": {
              "outlinewidth": 0,
              "ticks": ""
             }
            },
            "type": "scatterternary"
           }
          ],
          "surface": [
           {
            "colorbar": {
             "outlinewidth": 0,
             "ticks": ""
            },
            "colorscale": [
             [
              0,
              "#0d0887"
             ],
             [
              0.1111111111111111,
              "#46039f"
             ],
             [
              0.2222222222222222,
              "#7201a8"
             ],
             [
              0.3333333333333333,
              "#9c179e"
             ],
             [
              0.4444444444444444,
              "#bd3786"
             ],
             [
              0.5555555555555556,
              "#d8576b"
             ],
             [
              0.6666666666666666,
              "#ed7953"
             ],
             [
              0.7777777777777778,
              "#fb9f3a"
             ],
             [
              0.8888888888888888,
              "#fdca26"
             ],
             [
              1,
              "#f0f921"
             ]
            ],
            "type": "surface"
           }
          ],
          "table": [
           {
            "cells": {
             "fill": {
              "color": "#EBF0F8"
             },
             "line": {
              "color": "white"
             }
            },
            "header": {
             "fill": {
              "color": "#C8D4E3"
             },
             "line": {
              "color": "white"
             }
            },
            "type": "table"
           }
          ]
         },
         "layout": {
          "annotationdefaults": {
           "arrowcolor": "#2a3f5f",
           "arrowhead": 0,
           "arrowwidth": 1
          },
          "autotypenumbers": "strict",
          "coloraxis": {
           "colorbar": {
            "outlinewidth": 0,
            "ticks": ""
           }
          },
          "colorscale": {
           "diverging": [
            [
             0,
             "#8e0152"
            ],
            [
             0.1,
             "#c51b7d"
            ],
            [
             0.2,
             "#de77ae"
            ],
            [
             0.3,
             "#f1b6da"
            ],
            [
             0.4,
             "#fde0ef"
            ],
            [
             0.5,
             "#f7f7f7"
            ],
            [
             0.6,
             "#e6f5d0"
            ],
            [
             0.7,
             "#b8e186"
            ],
            [
             0.8,
             "#7fbc41"
            ],
            [
             0.9,
             "#4d9221"
            ],
            [
             1,
             "#276419"
            ]
           ],
           "sequential": [
            [
             0,
             "#0d0887"
            ],
            [
             0.1111111111111111,
             "#46039f"
            ],
            [
             0.2222222222222222,
             "#7201a8"
            ],
            [
             0.3333333333333333,
             "#9c179e"
            ],
            [
             0.4444444444444444,
             "#bd3786"
            ],
            [
             0.5555555555555556,
             "#d8576b"
            ],
            [
             0.6666666666666666,
             "#ed7953"
            ],
            [
             0.7777777777777778,
             "#fb9f3a"
            ],
            [
             0.8888888888888888,
             "#fdca26"
            ],
            [
             1,
             "#f0f921"
            ]
           ],
           "sequentialminus": [
            [
             0,
             "#0d0887"
            ],
            [
             0.1111111111111111,
             "#46039f"
            ],
            [
             0.2222222222222222,
             "#7201a8"
            ],
            [
             0.3333333333333333,
             "#9c179e"
            ],
            [
             0.4444444444444444,
             "#bd3786"
            ],
            [
             0.5555555555555556,
             "#d8576b"
            ],
            [
             0.6666666666666666,
             "#ed7953"
            ],
            [
             0.7777777777777778,
             "#fb9f3a"
            ],
            [
             0.8888888888888888,
             "#fdca26"
            ],
            [
             1,
             "#f0f921"
            ]
           ]
          },
          "colorway": [
           "#636efa",
           "#EF553B",
           "#00cc96",
           "#ab63fa",
           "#FFA15A",
           "#19d3f3",
           "#FF6692",
           "#B6E880",
           "#FF97FF",
           "#FECB52"
          ],
          "font": {
           "color": "#2a3f5f"
          },
          "geo": {
           "bgcolor": "white",
           "lakecolor": "white",
           "landcolor": "#E5ECF6",
           "showlakes": true,
           "showland": true,
           "subunitcolor": "white"
          },
          "hoverlabel": {
           "align": "left"
          },
          "hovermode": "closest",
          "mapbox": {
           "style": "light"
          },
          "paper_bgcolor": "white",
          "plot_bgcolor": "#E5ECF6",
          "polar": {
           "angularaxis": {
            "gridcolor": "white",
            "linecolor": "white",
            "ticks": ""
           },
           "bgcolor": "#E5ECF6",
           "radialaxis": {
            "gridcolor": "white",
            "linecolor": "white",
            "ticks": ""
           }
          },
          "scene": {
           "xaxis": {
            "backgroundcolor": "#E5ECF6",
            "gridcolor": "white",
            "gridwidth": 2,
            "linecolor": "white",
            "showbackground": true,
            "ticks": "",
            "zerolinecolor": "white"
           },
           "yaxis": {
            "backgroundcolor": "#E5ECF6",
            "gridcolor": "white",
            "gridwidth": 2,
            "linecolor": "white",
            "showbackground": true,
            "ticks": "",
            "zerolinecolor": "white"
           },
           "zaxis": {
            "backgroundcolor": "#E5ECF6",
            "gridcolor": "white",
            "gridwidth": 2,
            "linecolor": "white",
            "showbackground": true,
            "ticks": "",
            "zerolinecolor": "white"
           }
          },
          "shapedefaults": {
           "line": {
            "color": "#2a3f5f"
           }
          },
          "ternary": {
           "aaxis": {
            "gridcolor": "white",
            "linecolor": "white",
            "ticks": ""
           },
           "baxis": {
            "gridcolor": "white",
            "linecolor": "white",
            "ticks": ""
           },
           "bgcolor": "#E5ECF6",
           "caxis": {
            "gridcolor": "white",
            "linecolor": "white",
            "ticks": ""
           }
          },
          "title": {
           "x": 0.05
          },
          "xaxis": {
           "automargin": true,
           "gridcolor": "white",
           "linecolor": "white",
           "ticks": "",
           "title": {
            "standoff": 15
           },
           "zerolinecolor": "white",
           "zerolinewidth": 2
          },
          "yaxis": {
           "automargin": true,
           "gridcolor": "white",
           "linecolor": "white",
           "ticks": "",
           "title": {
            "standoff": 15
           },
           "zerolinecolor": "white",
           "zerolinewidth": 2
          }
         }
        },
        "xaxis": {
         "title": {
          "text": "Epochs"
         }
        },
        "yaxis": {
         "title": {
          "text": "Loss (MSE)"
         }
        }
       }
      }
     },
     "metadata": {},
     "output_type": "display_data"
    }
   ],
   "source": [
    "fig = go.Figure()\n",
    "fig.add_trace(go.Scatter(x = np.linspace(1,50), y = history.history['loss'],\n",
    "                         showlegend=False, mode=\"markers+lines\"))\n",
    "fig.update_xaxes(title='Epochs')\n",
    "fig.update_yaxes(title='Loss (MSE)')"
   ]
  },
  {
   "cell_type": "markdown",
   "id": "e5b4a058",
   "metadata": {},
   "source": [
    "## Parity Plot of Training Error"
   ]
  },
  {
   "cell_type": "code",
   "execution_count": 46,
   "id": "b99a145c",
   "metadata": {},
   "outputs": [
    {
     "name": "stdout",
     "output_type": "stream",
     "text": [
      "1/1 [==============================] - 3s 3s/step\n",
      "1/1 [==============================] - 0s 67ms/step\n",
      "1/1 [==============================] - 0s 29ms/step\n",
      "1/1 [==============================] - 0s 27ms/step\n",
      "1/1 [==============================] - 0s 31ms/step\n",
      "1/1 [==============================] - 0s 23ms/step\n",
      "1/1 [==============================] - 0s 27ms/step\n",
      "1/1 [==============================] - 0s 27ms/step\n",
      "1/1 [==============================] - 0s 22ms/step\n",
      "1/1 [==============================] - 0s 22ms/step\n",
      "1/1 [==============================] - 0s 22ms/step\n",
      "1/1 [==============================] - 0s 28ms/step\n",
      "1/1 [==============================] - 0s 28ms/step\n",
      "1/1 [==============================] - 0s 38ms/step\n",
      "1/1 [==============================] - 0s 35ms/step\n",
      "1/1 [==============================] - 0s 29ms/step\n",
      "1/1 [==============================] - 0s 29ms/step\n",
      "1/1 [==============================] - 0s 24ms/step\n",
      "1/1 [==============================] - 0s 31ms/step\n",
      "1/1 [==============================] - 0s 22ms/step\n",
      "1/1 [==============================] - 0s 38ms/step\n",
      "1/1 [==============================] - 0s 27ms/step\n",
      "1/1 [==============================] - 0s 179ms/step\n",
      "1/1 [==============================] - 0s 31ms/step\n",
      "1/1 [==============================] - 0s 29ms/step\n"
     ]
    },
    {
     "ename": "KeyboardInterrupt",
     "evalue": "",
     "output_type": "error",
     "traceback": [
      "\u001b[0;31m---------------------------------------------------------------------------\u001b[0m",
      "\u001b[0;31mAttributeError\u001b[0m                            Traceback (most recent call last)",
      "File \u001b[0;32m~/opt/anaconda3/envs/10701/lib/python3.10/site-packages/tensorflow/python/ops/array_ops.py:5270\u001b[0m, in \u001b[0;36mgather\u001b[0;34m(***failed resolving arguments***)\u001b[0m\n\u001b[1;32m   5267\u001b[0m \u001b[39mtry\u001b[39;00m:\n\u001b[1;32m   5268\u001b[0m   \u001b[39m# TODO(apassos) find a less bad way of detecting resource variables\u001b[39;00m\n\u001b[1;32m   5269\u001b[0m   \u001b[39m# without introducing a circular dependency.\u001b[39;00m\n\u001b[0;32m-> 5270\u001b[0m   \u001b[39mreturn\u001b[39;00m params\u001b[39m.\u001b[39;49msparse_read(indices, name\u001b[39m=\u001b[39mname)\n\u001b[1;32m   5271\u001b[0m \u001b[39mexcept\u001b[39;00m \u001b[39mAttributeError\u001b[39;00m:\n",
      "File \u001b[0;32m~/opt/anaconda3/envs/10701/lib/python3.10/site-packages/tensorflow/python/framework/ops.py:446\u001b[0m, in \u001b[0;36mTensor.__getattr__\u001b[0;34m(self, name)\u001b[0m\n\u001b[1;32m    440\u001b[0m   \u001b[39mraise\u001b[39;00m \u001b[39mAttributeError\u001b[39;00m(\n\u001b[1;32m    441\u001b[0m       \u001b[39mf\u001b[39m\u001b[39m\"\u001b[39m\u001b[39m{\u001b[39;00m\u001b[39mtype\u001b[39m(\u001b[39mself\u001b[39m)\u001b[39m.\u001b[39m\u001b[39m__name__\u001b[39m\u001b[39m}\u001b[39;00m\u001b[39m object has no attribute \u001b[39m\u001b[39m'\u001b[39m\u001b[39m{\u001b[39;00mname\u001b[39m}\u001b[39;00m\u001b[39m'\u001b[39m\u001b[39m. \u001b[39m\u001b[39m\"\u001b[39m \u001b[39m+\u001b[39m \u001b[39m\"\"\"\u001b[39m\n\u001b[1;32m    442\u001b[0m \u001b[39m    If you are looking for numpy-related methods, please run the following:\u001b[39m\n\u001b[1;32m    443\u001b[0m \u001b[39m    from tensorflow.python.ops.numpy_ops import np_config\u001b[39m\n\u001b[1;32m    444\u001b[0m \u001b[39m    np_config.enable_numpy_behavior()\u001b[39m\n\u001b[1;32m    445\u001b[0m \u001b[39m  \u001b[39m\u001b[39m\"\"\"\u001b[39m)\n\u001b[0;32m--> 446\u001b[0m \u001b[39mself\u001b[39;49m\u001b[39m.\u001b[39;49m\u001b[39m__getattribute__\u001b[39;49m(name)\n",
      "\u001b[0;31mAttributeError\u001b[0m: 'Tensor' object has no attribute 'sparse_read'",
      "\nDuring handling of the above exception, another exception occurred:\n",
      "\u001b[0;31mKeyboardInterrupt\u001b[0m                         Traceback (most recent call last)",
      "\u001b[1;32m/Users/mac/Desktop/CMU/10701MachineLearning/project/10701-mvf-bto-1/src/mvf_bto/Model Training.ipynb Cell 18\u001b[0m in \u001b[0;36m<cell line: 6>\u001b[0;34m()\u001b[0m\n\u001b[1;32m      <a href='vscode-notebook-cell:/Users/mac/Desktop/CMU/10701MachineLearning/project/10701-mvf-bto-1/src/mvf_bto/Model%20Training.ipynb#X23sZmlsZQ%3D%3D?line=4'>5</a>\u001b[0m fig\u001b[39m.\u001b[39madd_trace(go\u001b[39m.\u001b[39mScatter(x \u001b[39m=\u001b[39m [\u001b[39m0\u001b[39m,\u001b[39m1\u001b[39m], y \u001b[39m=\u001b[39m [\u001b[39m0\u001b[39m,\u001b[39m1\u001b[39m], showlegend\u001b[39m=\u001b[39m\u001b[39mFalse\u001b[39;00m, mode\u001b[39m=\u001b[39m\u001b[39m\"\u001b[39m\u001b[39mmarkers+lines\u001b[39m\u001b[39m\"\u001b[39m))\n\u001b[1;32m      <a href='vscode-notebook-cell:/Users/mac/Desktop/CMU/10701MachineLearning/project/10701-mvf-bto-1/src/mvf_bto/Model%20Training.ipynb#X23sZmlsZQ%3D%3D?line=5'>6</a>\u001b[0m \u001b[39mfor\u001b[39;00m i \u001b[39min\u001b[39;00m \u001b[39mrange\u001b[39m(\u001b[39m0\u001b[39m,\u001b[39mlen\u001b[39m(X_train), batch_size\u001b[39m*\u001b[39mskip):\n\u001b[0;32m----> <a href='vscode-notebook-cell:/Users/mac/Desktop/CMU/10701MachineLearning/project/10701-mvf-bto-1/src/mvf_bto/Model%20Training.ipynb#X23sZmlsZQ%3D%3D?line=6'>7</a>\u001b[0m     fig\u001b[39m.\u001b[39madd_trace(go\u001b[39m.\u001b[39mScatter(x \u001b[39m=\u001b[39m model\u001b[39m.\u001b[39;49mpredict(X_train[i:i\u001b[39m+\u001b[39;49mbatch_size])\u001b[39m.\u001b[39mflatten(), \n\u001b[1;32m      <a href='vscode-notebook-cell:/Users/mac/Desktop/CMU/10701MachineLearning/project/10701-mvf-bto-1/src/mvf_bto/Model%20Training.ipynb#X23sZmlsZQ%3D%3D?line=7'>8</a>\u001b[0m                              y \u001b[39m=\u001b[39m y_train[i:i\u001b[39m+\u001b[39mbatch_size], \n\u001b[1;32m      <a href='vscode-notebook-cell:/Users/mac/Desktop/CMU/10701MachineLearning/project/10701-mvf-bto-1/src/mvf_bto/Model%20Training.ipynb#X23sZmlsZQ%3D%3D?line=8'>9</a>\u001b[0m                              showlegend\u001b[39m=\u001b[39m\u001b[39mFalse\u001b[39;00m, mode\u001b[39m=\u001b[39m\u001b[39m\"\u001b[39m\u001b[39mmarkers+lines\u001b[39m\u001b[39m\"\u001b[39m))\n\u001b[1;32m     <a href='vscode-notebook-cell:/Users/mac/Desktop/CMU/10701MachineLearning/project/10701-mvf-bto-1/src/mvf_bto/Model%20Training.ipynb#X23sZmlsZQ%3D%3D?line=9'>10</a>\u001b[0m fig\u001b[39m.\u001b[39mupdate_yaxes(title\u001b[39m=\u001b[39m\u001b[39m'\u001b[39m\u001b[39mNormalized Target\u001b[39m\u001b[39m'\u001b[39m)\n\u001b[1;32m     <a href='vscode-notebook-cell:/Users/mac/Desktop/CMU/10701MachineLearning/project/10701-mvf-bto-1/src/mvf_bto/Model%20Training.ipynb#X23sZmlsZQ%3D%3D?line=10'>11</a>\u001b[0m fig\u001b[39m.\u001b[39mupdate_xaxes(title\u001b[39m=\u001b[39m\u001b[39m'\u001b[39m\u001b[39mNormalized Prediction\u001b[39m\u001b[39m'\u001b[39m)\n",
      "File \u001b[0;32m~/opt/anaconda3/envs/10701/lib/python3.10/site-packages/keras/utils/traceback_utils.py:64\u001b[0m, in \u001b[0;36mfilter_traceback.<locals>.error_handler\u001b[0;34m(*args, **kwargs)\u001b[0m\n\u001b[1;32m     62\u001b[0m filtered_tb \u001b[39m=\u001b[39m \u001b[39mNone\u001b[39;00m\n\u001b[1;32m     63\u001b[0m \u001b[39mtry\u001b[39;00m:\n\u001b[0;32m---> 64\u001b[0m   \u001b[39mreturn\u001b[39;00m fn(\u001b[39m*\u001b[39;49margs, \u001b[39m*\u001b[39;49m\u001b[39m*\u001b[39;49mkwargs)\n\u001b[1;32m     65\u001b[0m \u001b[39mexcept\u001b[39;00m \u001b[39mException\u001b[39;00m \u001b[39mas\u001b[39;00m e:  \u001b[39m# pylint: disable=broad-except\u001b[39;00m\n\u001b[1;32m     66\u001b[0m   filtered_tb \u001b[39m=\u001b[39m _process_traceback_frames(e\u001b[39m.\u001b[39m__traceback__)\n",
      "File \u001b[0;32m~/opt/anaconda3/envs/10701/lib/python3.10/site-packages/keras/engine/training.py:2002\u001b[0m, in \u001b[0;36mModel.predict\u001b[0;34m(self, x, batch_size, verbose, steps, callbacks, max_queue_size, workers, use_multiprocessing)\u001b[0m\n\u001b[1;32m   1995\u001b[0m   \u001b[39mexcept\u001b[39;00m \u001b[39mValueError\u001b[39;00m:\n\u001b[1;32m   1996\u001b[0m     warnings\u001b[39m.\u001b[39mwarn(\n\u001b[1;32m   1997\u001b[0m         \u001b[39m'\u001b[39m\u001b[39mUsing Model.predict with MultiWorkerMirroredStrategy or \u001b[39m\u001b[39m'\u001b[39m\n\u001b[1;32m   1998\u001b[0m         \u001b[39m'\u001b[39m\u001b[39mTPUStrategy and AutoShardPolicy.FILE might lead to out-of-order \u001b[39m\u001b[39m'\u001b[39m\n\u001b[1;32m   1999\u001b[0m         \u001b[39m'\u001b[39m\u001b[39mresult. Consider setting it to AutoShardPolicy.DATA.\u001b[39m\u001b[39m'\u001b[39m,\n\u001b[1;32m   2000\u001b[0m         stacklevel\u001b[39m=\u001b[39m\u001b[39m2\u001b[39m)\n\u001b[0;32m-> 2002\u001b[0m data_handler \u001b[39m=\u001b[39m data_adapter\u001b[39m.\u001b[39;49mget_data_handler(\n\u001b[1;32m   2003\u001b[0m     x\u001b[39m=\u001b[39;49mx,\n\u001b[1;32m   2004\u001b[0m     batch_size\u001b[39m=\u001b[39;49mbatch_size,\n\u001b[1;32m   2005\u001b[0m     steps_per_epoch\u001b[39m=\u001b[39;49msteps,\n\u001b[1;32m   2006\u001b[0m     initial_epoch\u001b[39m=\u001b[39;49m\u001b[39m0\u001b[39;49m,\n\u001b[1;32m   2007\u001b[0m     epochs\u001b[39m=\u001b[39;49m\u001b[39m1\u001b[39;49m,\n\u001b[1;32m   2008\u001b[0m     max_queue_size\u001b[39m=\u001b[39;49mmax_queue_size,\n\u001b[1;32m   2009\u001b[0m     workers\u001b[39m=\u001b[39;49mworkers,\n\u001b[1;32m   2010\u001b[0m     use_multiprocessing\u001b[39m=\u001b[39;49muse_multiprocessing,\n\u001b[1;32m   2011\u001b[0m     model\u001b[39m=\u001b[39;49m\u001b[39mself\u001b[39;49m,\n\u001b[1;32m   2012\u001b[0m     steps_per_execution\u001b[39m=\u001b[39;49m\u001b[39mself\u001b[39;49m\u001b[39m.\u001b[39;49m_steps_per_execution)\n\u001b[1;32m   2014\u001b[0m \u001b[39m# Container that configures and calls `tf.keras.Callback`s.\u001b[39;00m\n\u001b[1;32m   2015\u001b[0m \u001b[39mif\u001b[39;00m \u001b[39mnot\u001b[39;00m \u001b[39misinstance\u001b[39m(callbacks, callbacks_module\u001b[39m.\u001b[39mCallbackList):\n",
      "File \u001b[0;32m~/opt/anaconda3/envs/10701/lib/python3.10/site-packages/keras/engine/data_adapter.py:1401\u001b[0m, in \u001b[0;36mget_data_handler\u001b[0;34m(*args, **kwargs)\u001b[0m\n\u001b[1;32m   1399\u001b[0m \u001b[39mif\u001b[39;00m \u001b[39mgetattr\u001b[39m(kwargs[\u001b[39m\"\u001b[39m\u001b[39mmodel\u001b[39m\u001b[39m\"\u001b[39m], \u001b[39m\"\u001b[39m\u001b[39m_cluster_coordinator\u001b[39m\u001b[39m\"\u001b[39m, \u001b[39mNone\u001b[39;00m):\n\u001b[1;32m   1400\u001b[0m   \u001b[39mreturn\u001b[39;00m _ClusterCoordinatorDataHandler(\u001b[39m*\u001b[39margs, \u001b[39m*\u001b[39m\u001b[39m*\u001b[39mkwargs)\n\u001b[0;32m-> 1401\u001b[0m \u001b[39mreturn\u001b[39;00m DataHandler(\u001b[39m*\u001b[39;49margs, \u001b[39m*\u001b[39;49m\u001b[39m*\u001b[39;49mkwargs)\n",
      "File \u001b[0;32m~/opt/anaconda3/envs/10701/lib/python3.10/site-packages/keras/engine/data_adapter.py:1151\u001b[0m, in \u001b[0;36mDataHandler.__init__\u001b[0;34m(self, x, y, sample_weight, batch_size, steps_per_epoch, initial_epoch, epochs, shuffle, class_weight, max_queue_size, workers, use_multiprocessing, model, steps_per_execution, distribute)\u001b[0m\n\u001b[1;32m   1148\u001b[0m   \u001b[39mself\u001b[39m\u001b[39m.\u001b[39m_steps_per_execution \u001b[39m=\u001b[39m steps_per_execution\n\u001b[1;32m   1150\u001b[0m adapter_cls \u001b[39m=\u001b[39m select_data_adapter(x, y)\n\u001b[0;32m-> 1151\u001b[0m \u001b[39mself\u001b[39m\u001b[39m.\u001b[39m_adapter \u001b[39m=\u001b[39m adapter_cls(\n\u001b[1;32m   1152\u001b[0m     x,\n\u001b[1;32m   1153\u001b[0m     y,\n\u001b[1;32m   1154\u001b[0m     batch_size\u001b[39m=\u001b[39;49mbatch_size,\n\u001b[1;32m   1155\u001b[0m     steps\u001b[39m=\u001b[39;49msteps_per_epoch,\n\u001b[1;32m   1156\u001b[0m     epochs\u001b[39m=\u001b[39;49mepochs \u001b[39m-\u001b[39;49m initial_epoch,\n\u001b[1;32m   1157\u001b[0m     sample_weights\u001b[39m=\u001b[39;49msample_weight,\n\u001b[1;32m   1158\u001b[0m     shuffle\u001b[39m=\u001b[39;49mshuffle,\n\u001b[1;32m   1159\u001b[0m     max_queue_size\u001b[39m=\u001b[39;49mmax_queue_size,\n\u001b[1;32m   1160\u001b[0m     workers\u001b[39m=\u001b[39;49mworkers,\n\u001b[1;32m   1161\u001b[0m     use_multiprocessing\u001b[39m=\u001b[39;49muse_multiprocessing,\n\u001b[1;32m   1162\u001b[0m     distribution_strategy\u001b[39m=\u001b[39;49mtf\u001b[39m.\u001b[39;49mdistribute\u001b[39m.\u001b[39;49mget_strategy(),\n\u001b[1;32m   1163\u001b[0m     model\u001b[39m=\u001b[39;49mmodel)\n\u001b[1;32m   1165\u001b[0m strategy \u001b[39m=\u001b[39m tf\u001b[39m.\u001b[39mdistribute\u001b[39m.\u001b[39mget_strategy()\n\u001b[1;32m   1167\u001b[0m \u001b[39mself\u001b[39m\u001b[39m.\u001b[39m_current_step \u001b[39m=\u001b[39m \u001b[39m0\u001b[39m\n",
      "File \u001b[0;32m~/opt/anaconda3/envs/10701/lib/python3.10/site-packages/keras/engine/data_adapter.py:328\u001b[0m, in \u001b[0;36mTensorLikeDataAdapter.__init__\u001b[0;34m(self, x, y, sample_weights, sample_weight_modes, batch_size, epochs, steps, shuffle, **kwargs)\u001b[0m\n\u001b[1;32m    324\u001b[0m   \u001b[39mreturn\u001b[39;00m flat_dataset\n\u001b[1;32m    326\u001b[0m indices_dataset \u001b[39m=\u001b[39m indices_dataset\u001b[39m.\u001b[39mflat_map(slice_batch_indices)\n\u001b[0;32m--> 328\u001b[0m dataset \u001b[39m=\u001b[39m \u001b[39mself\u001b[39;49m\u001b[39m.\u001b[39;49mslice_inputs(indices_dataset, inputs)\n\u001b[1;32m    330\u001b[0m \u001b[39mif\u001b[39;00m shuffle \u001b[39m==\u001b[39m \u001b[39m\"\u001b[39m\u001b[39mbatch\u001b[39m\u001b[39m\"\u001b[39m:\n\u001b[1;32m    331\u001b[0m   \u001b[39mdef\u001b[39;00m \u001b[39mshuffle_batch\u001b[39m(\u001b[39m*\u001b[39mbatch):\n",
      "File \u001b[0;32m~/opt/anaconda3/envs/10701/lib/python3.10/site-packages/keras/engine/data_adapter.py:360\u001b[0m, in \u001b[0;36mTensorLikeDataAdapter.slice_inputs\u001b[0;34m(self, indices_dataset, inputs)\u001b[0m\n\u001b[1;32m    357\u001b[0m \u001b[39mdef\u001b[39;00m \u001b[39mgrab_batch\u001b[39m(i, data):\n\u001b[1;32m    358\u001b[0m   \u001b[39mreturn\u001b[39;00m tf\u001b[39m.\u001b[39mnest\u001b[39m.\u001b[39mmap_structure(\u001b[39mlambda\u001b[39;00m d: tf\u001b[39m.\u001b[39mgather(d, i, axis\u001b[39m=\u001b[39m\u001b[39m0\u001b[39m), data)\n\u001b[0;32m--> 360\u001b[0m dataset \u001b[39m=\u001b[39m dataset\u001b[39m.\u001b[39;49mmap(\n\u001b[1;32m    361\u001b[0m     grab_batch, num_parallel_calls\u001b[39m=\u001b[39;49mtf\u001b[39m.\u001b[39;49mdata\u001b[39m.\u001b[39;49mAUTOTUNE)\n\u001b[1;32m    363\u001b[0m \u001b[39m# Default optimizations are disabled to avoid the overhead of (unnecessary)\u001b[39;00m\n\u001b[1;32m    364\u001b[0m \u001b[39m# input pipeline graph serialization and deserialization\u001b[39;00m\n\u001b[1;32m    365\u001b[0m options \u001b[39m=\u001b[39m tf\u001b[39m.\u001b[39mdata\u001b[39m.\u001b[39mOptions()\n",
      "File \u001b[0;32m~/opt/anaconda3/envs/10701/lib/python3.10/site-packages/tensorflow/python/data/ops/dataset_ops.py:2050\u001b[0m, in \u001b[0;36mDatasetV2.map\u001b[0;34m(self, map_func, num_parallel_calls, deterministic, name)\u001b[0m\n\u001b[1;32m   2048\u001b[0m   \u001b[39mreturn\u001b[39;00m MapDataset(\u001b[39mself\u001b[39m, map_func, preserve_cardinality\u001b[39m=\u001b[39m\u001b[39mTrue\u001b[39;00m, name\u001b[39m=\u001b[39mname)\n\u001b[1;32m   2049\u001b[0m \u001b[39melse\u001b[39;00m:\n\u001b[0;32m-> 2050\u001b[0m   \u001b[39mreturn\u001b[39;00m ParallelMapDataset(\n\u001b[1;32m   2051\u001b[0m       \u001b[39mself\u001b[39;49m,\n\u001b[1;32m   2052\u001b[0m       map_func,\n\u001b[1;32m   2053\u001b[0m       num_parallel_calls,\n\u001b[1;32m   2054\u001b[0m       deterministic,\n\u001b[1;32m   2055\u001b[0m       preserve_cardinality\u001b[39m=\u001b[39;49m\u001b[39mTrue\u001b[39;49;00m,\n\u001b[1;32m   2056\u001b[0m       name\u001b[39m=\u001b[39;49mname)\n",
      "File \u001b[0;32m~/opt/anaconda3/envs/10701/lib/python3.10/site-packages/tensorflow/python/data/ops/dataset_ops.py:5284\u001b[0m, in \u001b[0;36mParallelMapDataset.__init__\u001b[0;34m(self, input_dataset, map_func, num_parallel_calls, deterministic, use_inter_op_parallelism, preserve_cardinality, use_legacy_function, name)\u001b[0m\n\u001b[1;32m   5282\u001b[0m \u001b[39mself\u001b[39m\u001b[39m.\u001b[39m_input_dataset \u001b[39m=\u001b[39m input_dataset\n\u001b[1;32m   5283\u001b[0m \u001b[39mself\u001b[39m\u001b[39m.\u001b[39m_use_inter_op_parallelism \u001b[39m=\u001b[39m use_inter_op_parallelism\n\u001b[0;32m-> 5284\u001b[0m \u001b[39mself\u001b[39m\u001b[39m.\u001b[39m_map_func \u001b[39m=\u001b[39m structured_function\u001b[39m.\u001b[39;49mStructuredFunctionWrapper(\n\u001b[1;32m   5285\u001b[0m     map_func,\n\u001b[1;32m   5286\u001b[0m     \u001b[39mself\u001b[39;49m\u001b[39m.\u001b[39;49m_transformation_name(),\n\u001b[1;32m   5287\u001b[0m     dataset\u001b[39m=\u001b[39;49minput_dataset,\n\u001b[1;32m   5288\u001b[0m     use_legacy_function\u001b[39m=\u001b[39;49muse_legacy_function)\n\u001b[1;32m   5289\u001b[0m \u001b[39mif\u001b[39;00m deterministic \u001b[39mis\u001b[39;00m \u001b[39mNone\u001b[39;00m:\n\u001b[1;32m   5290\u001b[0m   \u001b[39mself\u001b[39m\u001b[39m.\u001b[39m_deterministic \u001b[39m=\u001b[39m \u001b[39m\"\u001b[39m\u001b[39mdefault\u001b[39m\u001b[39m\"\u001b[39m\n",
      "File \u001b[0;32m~/opt/anaconda3/envs/10701/lib/python3.10/site-packages/tensorflow/python/data/ops/structured_function.py:271\u001b[0m, in \u001b[0;36mStructuredFunctionWrapper.__init__\u001b[0;34m(self, func, transformation_name, dataset, input_classes, input_shapes, input_types, input_structure, add_to_graph, use_legacy_function, defun_kwargs)\u001b[0m\n\u001b[1;32m    264\u001b[0m       warnings\u001b[39m.\u001b[39mwarn(\n\u001b[1;32m    265\u001b[0m           \u001b[39m\"\u001b[39m\u001b[39mEven though the `tf.config.experimental_run_functions_eagerly` \u001b[39m\u001b[39m\"\u001b[39m\n\u001b[1;32m    266\u001b[0m           \u001b[39m\"\u001b[39m\u001b[39moption is set, this option does not apply to tf.data functions. \u001b[39m\u001b[39m\"\u001b[39m\n\u001b[1;32m    267\u001b[0m           \u001b[39m\"\u001b[39m\u001b[39mTo force eager execution of tf.data functions, please use \u001b[39m\u001b[39m\"\u001b[39m\n\u001b[1;32m    268\u001b[0m           \u001b[39m\"\u001b[39m\u001b[39m`tf.data.experimental.enable_debug_mode()`.\u001b[39m\u001b[39m\"\u001b[39m)\n\u001b[1;32m    269\u001b[0m     fn_factory \u001b[39m=\u001b[39m trace_tf_function(defun_kwargs)\n\u001b[0;32m--> 271\u001b[0m \u001b[39mself\u001b[39m\u001b[39m.\u001b[39m_function \u001b[39m=\u001b[39m fn_factory()\n\u001b[1;32m    272\u001b[0m \u001b[39m# There is no graph to add in eager mode.\u001b[39;00m\n\u001b[1;32m    273\u001b[0m add_to_graph \u001b[39m&\u001b[39m\u001b[39m=\u001b[39m \u001b[39mnot\u001b[39;00m context\u001b[39m.\u001b[39mexecuting_eagerly()\n",
      "File \u001b[0;32m~/opt/anaconda3/envs/10701/lib/python3.10/site-packages/tensorflow/python/eager/function.py:2567\u001b[0m, in \u001b[0;36mFunction.get_concrete_function\u001b[0;34m(self, *args, **kwargs)\u001b[0m\n\u001b[1;32m   2558\u001b[0m \u001b[39mdef\u001b[39;00m \u001b[39mget_concrete_function\u001b[39m(\u001b[39mself\u001b[39m, \u001b[39m*\u001b[39margs, \u001b[39m*\u001b[39m\u001b[39m*\u001b[39mkwargs):\n\u001b[1;32m   2559\u001b[0m   \u001b[39m\"\"\"Returns a `ConcreteFunction` specialized to inputs and execution context.\u001b[39;00m\n\u001b[1;32m   2560\u001b[0m \n\u001b[1;32m   2561\u001b[0m \u001b[39m  Args:\u001b[39;00m\n\u001b[0;32m   (...)\u001b[0m\n\u001b[1;32m   2565\u001b[0m \u001b[39m       or `tf.Tensor` or `tf.TensorSpec`.\u001b[39;00m\n\u001b[1;32m   2566\u001b[0m \u001b[39m  \"\"\"\u001b[39;00m\n\u001b[0;32m-> 2567\u001b[0m   graph_function \u001b[39m=\u001b[39m \u001b[39mself\u001b[39;49m\u001b[39m.\u001b[39;49m_get_concrete_function_garbage_collected(\n\u001b[1;32m   2568\u001b[0m       \u001b[39m*\u001b[39;49margs, \u001b[39m*\u001b[39;49m\u001b[39m*\u001b[39;49mkwargs)\n\u001b[1;32m   2569\u001b[0m   graph_function\u001b[39m.\u001b[39m_garbage_collector\u001b[39m.\u001b[39mrelease()  \u001b[39m# pylint: disable=protected-access\u001b[39;00m\n\u001b[1;32m   2570\u001b[0m   \u001b[39mreturn\u001b[39;00m graph_function\n",
      "File \u001b[0;32m~/opt/anaconda3/envs/10701/lib/python3.10/site-packages/tensorflow/python/eager/function.py:2533\u001b[0m, in \u001b[0;36mFunction._get_concrete_function_garbage_collected\u001b[0;34m(self, *args, **kwargs)\u001b[0m\n\u001b[1;32m   2531\u001b[0m   args, kwargs \u001b[39m=\u001b[39m \u001b[39mNone\u001b[39;00m, \u001b[39mNone\u001b[39;00m\n\u001b[1;32m   2532\u001b[0m \u001b[39mwith\u001b[39;00m \u001b[39mself\u001b[39m\u001b[39m.\u001b[39m_lock:\n\u001b[0;32m-> 2533\u001b[0m   graph_function, _ \u001b[39m=\u001b[39m \u001b[39mself\u001b[39;49m\u001b[39m.\u001b[39;49m_maybe_define_function(args, kwargs)\n\u001b[1;32m   2534\u001b[0m   seen_names \u001b[39m=\u001b[39m \u001b[39mset\u001b[39m()\n\u001b[1;32m   2535\u001b[0m   captured \u001b[39m=\u001b[39m object_identity\u001b[39m.\u001b[39mObjectIdentitySet(\n\u001b[1;32m   2536\u001b[0m       graph_function\u001b[39m.\u001b[39mgraph\u001b[39m.\u001b[39minternal_captures)\n",
      "File \u001b[0;32m~/opt/anaconda3/envs/10701/lib/python3.10/site-packages/tensorflow/python/eager/function.py:2711\u001b[0m, in \u001b[0;36mFunction._maybe_define_function\u001b[0;34m(self, args, kwargs)\u001b[0m\n\u001b[1;32m   2708\u001b[0m   cache_key \u001b[39m=\u001b[39m \u001b[39mself\u001b[39m\u001b[39m.\u001b[39m_function_cache\u001b[39m.\u001b[39mgeneralize(cache_key)\n\u001b[1;32m   2709\u001b[0m   (args, kwargs) \u001b[39m=\u001b[39m cache_key\u001b[39m.\u001b[39m_placeholder_value()  \u001b[39m# pylint: disable=protected-access\u001b[39;00m\n\u001b[0;32m-> 2711\u001b[0m graph_function \u001b[39m=\u001b[39m \u001b[39mself\u001b[39;49m\u001b[39m.\u001b[39;49m_create_graph_function(args, kwargs)\n\u001b[1;32m   2712\u001b[0m \u001b[39mself\u001b[39m\u001b[39m.\u001b[39m_function_cache\u001b[39m.\u001b[39madd(cache_key, cache_key_deletion_observer,\n\u001b[1;32m   2713\u001b[0m                          graph_function)\n\u001b[1;32m   2715\u001b[0m \u001b[39mreturn\u001b[39;00m graph_function, filtered_flat_args\n",
      "File \u001b[0;32m~/opt/anaconda3/envs/10701/lib/python3.10/site-packages/tensorflow/python/eager/function.py:2627\u001b[0m, in \u001b[0;36mFunction._create_graph_function\u001b[0;34m(self, args, kwargs)\u001b[0m\n\u001b[1;32m   2622\u001b[0m missing_arg_names \u001b[39m=\u001b[39m [\n\u001b[1;32m   2623\u001b[0m     \u001b[39m\"\u001b[39m\u001b[39m%s\u001b[39;00m\u001b[39m_\u001b[39m\u001b[39m%d\u001b[39;00m\u001b[39m\"\u001b[39m \u001b[39m%\u001b[39m (arg, i) \u001b[39mfor\u001b[39;00m i, arg \u001b[39min\u001b[39;00m \u001b[39menumerate\u001b[39m(missing_arg_names)\n\u001b[1;32m   2624\u001b[0m ]\n\u001b[1;32m   2625\u001b[0m arg_names \u001b[39m=\u001b[39m base_arg_names \u001b[39m+\u001b[39m missing_arg_names\n\u001b[1;32m   2626\u001b[0m graph_function \u001b[39m=\u001b[39m ConcreteFunction(\n\u001b[0;32m-> 2627\u001b[0m     func_graph_module\u001b[39m.\u001b[39;49mfunc_graph_from_py_func(\n\u001b[1;32m   2628\u001b[0m         \u001b[39mself\u001b[39;49m\u001b[39m.\u001b[39;49m_name,\n\u001b[1;32m   2629\u001b[0m         \u001b[39mself\u001b[39;49m\u001b[39m.\u001b[39;49m_python_function,\n\u001b[1;32m   2630\u001b[0m         args,\n\u001b[1;32m   2631\u001b[0m         kwargs,\n\u001b[1;32m   2632\u001b[0m         \u001b[39mself\u001b[39;49m\u001b[39m.\u001b[39;49minput_signature,\n\u001b[1;32m   2633\u001b[0m         autograph\u001b[39m=\u001b[39;49m\u001b[39mself\u001b[39;49m\u001b[39m.\u001b[39;49m_autograph,\n\u001b[1;32m   2634\u001b[0m         autograph_options\u001b[39m=\u001b[39;49m\u001b[39mself\u001b[39;49m\u001b[39m.\u001b[39;49m_autograph_options,\n\u001b[1;32m   2635\u001b[0m         arg_names\u001b[39m=\u001b[39;49marg_names,\n\u001b[1;32m   2636\u001b[0m         capture_by_value\u001b[39m=\u001b[39;49m\u001b[39mself\u001b[39;49m\u001b[39m.\u001b[39;49m_capture_by_value),\n\u001b[1;32m   2637\u001b[0m     \u001b[39mself\u001b[39m\u001b[39m.\u001b[39m_function_attributes,\n\u001b[1;32m   2638\u001b[0m     spec\u001b[39m=\u001b[39m\u001b[39mself\u001b[39m\u001b[39m.\u001b[39mfunction_spec,\n\u001b[1;32m   2639\u001b[0m     \u001b[39m# Tell the ConcreteFunction to clean up its graph once it goes out of\u001b[39;00m\n\u001b[1;32m   2640\u001b[0m     \u001b[39m# scope. This is not the default behavior since it gets used in some\u001b[39;00m\n\u001b[1;32m   2641\u001b[0m     \u001b[39m# places (like Keras) where the FuncGraph lives longer than the\u001b[39;00m\n\u001b[1;32m   2642\u001b[0m     \u001b[39m# ConcreteFunction.\u001b[39;00m\n\u001b[1;32m   2643\u001b[0m     shared_func_graph\u001b[39m=\u001b[39m\u001b[39mFalse\u001b[39;00m)\n\u001b[1;32m   2644\u001b[0m \u001b[39mreturn\u001b[39;00m graph_function\n",
      "File \u001b[0;32m~/opt/anaconda3/envs/10701/lib/python3.10/site-packages/tensorflow/python/framework/func_graph.py:1141\u001b[0m, in \u001b[0;36mfunc_graph_from_py_func\u001b[0;34m(name, python_func, args, kwargs, signature, func_graph, autograph, autograph_options, add_control_dependencies, arg_names, op_return_value, collections, capture_by_value, acd_record_initial_resource_uses)\u001b[0m\n\u001b[1;32m   1138\u001b[0m \u001b[39melse\u001b[39;00m:\n\u001b[1;32m   1139\u001b[0m   _, original_func \u001b[39m=\u001b[39m tf_decorator\u001b[39m.\u001b[39munwrap(python_func)\n\u001b[0;32m-> 1141\u001b[0m func_outputs \u001b[39m=\u001b[39m python_func(\u001b[39m*\u001b[39;49mfunc_args, \u001b[39m*\u001b[39;49m\u001b[39m*\u001b[39;49mfunc_kwargs)\n\u001b[1;32m   1143\u001b[0m \u001b[39m# invariant: `func_outputs` contains only Tensors, CompositeTensors,\u001b[39;00m\n\u001b[1;32m   1144\u001b[0m \u001b[39m# TensorArrays and `None`s.\u001b[39;00m\n\u001b[1;32m   1145\u001b[0m func_outputs \u001b[39m=\u001b[39m nest\u001b[39m.\u001b[39mmap_structure(\n\u001b[1;32m   1146\u001b[0m     convert, func_outputs, expand_composites\u001b[39m=\u001b[39m\u001b[39mTrue\u001b[39;00m)\n",
      "File \u001b[0;32m~/opt/anaconda3/envs/10701/lib/python3.10/site-packages/tensorflow/python/data/ops/structured_function.py:248\u001b[0m, in \u001b[0;36mStructuredFunctionWrapper.__init__.<locals>.trace_tf_function.<locals>.wrapped_fn\u001b[0;34m(*args)\u001b[0m\n\u001b[1;32m    242\u001b[0m \u001b[39m@eager_function\u001b[39m\u001b[39m.\u001b[39mdefun_with_attributes(\n\u001b[1;32m    243\u001b[0m     input_signature\u001b[39m=\u001b[39mstructure\u001b[39m.\u001b[39mget_flat_tensor_specs(\n\u001b[1;32m    244\u001b[0m         \u001b[39mself\u001b[39m\u001b[39m.\u001b[39m_input_structure),\n\u001b[1;32m    245\u001b[0m     autograph\u001b[39m=\u001b[39m\u001b[39mFalse\u001b[39;00m,\n\u001b[1;32m    246\u001b[0m     attributes\u001b[39m=\u001b[39mdefun_kwargs)\n\u001b[1;32m    247\u001b[0m \u001b[39mdef\u001b[39;00m \u001b[39mwrapped_fn\u001b[39m(\u001b[39m*\u001b[39margs):  \u001b[39m# pylint: disable=missing-docstring\u001b[39;00m\n\u001b[0;32m--> 248\u001b[0m   ret \u001b[39m=\u001b[39m wrapper_helper(\u001b[39m*\u001b[39;49margs)\n\u001b[1;32m    249\u001b[0m   ret \u001b[39m=\u001b[39m structure\u001b[39m.\u001b[39mto_tensor_list(\u001b[39mself\u001b[39m\u001b[39m.\u001b[39m_output_structure, ret)\n\u001b[1;32m    250\u001b[0m   \u001b[39mreturn\u001b[39;00m [ops\u001b[39m.\u001b[39mconvert_to_tensor(t) \u001b[39mfor\u001b[39;00m t \u001b[39min\u001b[39;00m ret]\n",
      "File \u001b[0;32m~/opt/anaconda3/envs/10701/lib/python3.10/site-packages/tensorflow/python/data/ops/structured_function.py:177\u001b[0m, in \u001b[0;36mStructuredFunctionWrapper.__init__.<locals>.wrapper_helper\u001b[0;34m(*args)\u001b[0m\n\u001b[1;32m    175\u001b[0m \u001b[39mif\u001b[39;00m \u001b[39mnot\u001b[39;00m _should_unpack(nested_args):\n\u001b[1;32m    176\u001b[0m   nested_args \u001b[39m=\u001b[39m (nested_args,)\n\u001b[0;32m--> 177\u001b[0m ret \u001b[39m=\u001b[39m autograph\u001b[39m.\u001b[39;49mtf_convert(\u001b[39mself\u001b[39;49m\u001b[39m.\u001b[39;49m_func, ag_ctx)(\u001b[39m*\u001b[39;49mnested_args)\n\u001b[1;32m    178\u001b[0m \u001b[39mif\u001b[39;00m _should_pack(ret):\n\u001b[1;32m    179\u001b[0m   ret \u001b[39m=\u001b[39m \u001b[39mtuple\u001b[39m(ret)\n",
      "File \u001b[0;32m~/opt/anaconda3/envs/10701/lib/python3.10/site-packages/tensorflow/python/autograph/impl/api.py:689\u001b[0m, in \u001b[0;36mconvert.<locals>.decorator.<locals>.wrapper\u001b[0;34m(*args, **kwargs)\u001b[0m\n\u001b[1;32m    687\u001b[0m \u001b[39mtry\u001b[39;00m:\n\u001b[1;32m    688\u001b[0m   \u001b[39mwith\u001b[39;00m conversion_ctx:\n\u001b[0;32m--> 689\u001b[0m     \u001b[39mreturn\u001b[39;00m converted_call(f, args, kwargs, options\u001b[39m=\u001b[39;49moptions)\n\u001b[1;32m    690\u001b[0m \u001b[39mexcept\u001b[39;00m \u001b[39mException\u001b[39;00m \u001b[39mas\u001b[39;00m e:  \u001b[39m# pylint:disable=broad-except\u001b[39;00m\n\u001b[1;32m    691\u001b[0m   \u001b[39mif\u001b[39;00m \u001b[39mhasattr\u001b[39m(e, \u001b[39m'\u001b[39m\u001b[39mag_error_metadata\u001b[39m\u001b[39m'\u001b[39m):\n",
      "File \u001b[0;32m~/opt/anaconda3/envs/10701/lib/python3.10/site-packages/tensorflow/python/autograph/impl/api.py:377\u001b[0m, in \u001b[0;36mconverted_call\u001b[0;34m(f, args, kwargs, caller_fn_scope, options)\u001b[0m\n\u001b[1;32m    374\u001b[0m   \u001b[39mreturn\u001b[39;00m _call_unconverted(f, args, kwargs, options)\n\u001b[1;32m    376\u001b[0m \u001b[39mif\u001b[39;00m \u001b[39mnot\u001b[39;00m options\u001b[39m.\u001b[39muser_requested \u001b[39mand\u001b[39;00m conversion\u001b[39m.\u001b[39mis_allowlisted(f):\n\u001b[0;32m--> 377\u001b[0m   \u001b[39mreturn\u001b[39;00m _call_unconverted(f, args, kwargs, options)\n\u001b[1;32m    379\u001b[0m \u001b[39m# internal_convert_user_code is for example turned off when issuing a dynamic\u001b[39;00m\n\u001b[1;32m    380\u001b[0m \u001b[39m# call conversion from generated code while in nonrecursive mode. In that\u001b[39;00m\n\u001b[1;32m    381\u001b[0m \u001b[39m# case we evidently don't want to recurse, but we still have to convert\u001b[39;00m\n\u001b[1;32m    382\u001b[0m \u001b[39m# things like builtins.\u001b[39;00m\n\u001b[1;32m    383\u001b[0m \u001b[39mif\u001b[39;00m \u001b[39mnot\u001b[39;00m options\u001b[39m.\u001b[39minternal_convert_user_code:\n",
      "File \u001b[0;32m~/opt/anaconda3/envs/10701/lib/python3.10/site-packages/tensorflow/python/autograph/impl/api.py:458\u001b[0m, in \u001b[0;36m_call_unconverted\u001b[0;34m(f, args, kwargs, options, update_cache)\u001b[0m\n\u001b[1;32m    455\u001b[0m   \u001b[39mreturn\u001b[39;00m f\u001b[39m.\u001b[39m\u001b[39m__self__\u001b[39m\u001b[39m.\u001b[39mcall(args, kwargs)\n\u001b[1;32m    457\u001b[0m \u001b[39mif\u001b[39;00m kwargs \u001b[39mis\u001b[39;00m \u001b[39mnot\u001b[39;00m \u001b[39mNone\u001b[39;00m:\n\u001b[0;32m--> 458\u001b[0m   \u001b[39mreturn\u001b[39;00m f(\u001b[39m*\u001b[39;49margs, \u001b[39m*\u001b[39;49m\u001b[39m*\u001b[39;49mkwargs)\n\u001b[1;32m    459\u001b[0m \u001b[39mreturn\u001b[39;00m f(\u001b[39m*\u001b[39margs)\n",
      "File \u001b[0;32m~/opt/anaconda3/envs/10701/lib/python3.10/site-packages/keras/engine/data_adapter.py:358\u001b[0m, in \u001b[0;36mTensorLikeDataAdapter.slice_inputs.<locals>.grab_batch\u001b[0;34m(i, data)\u001b[0m\n\u001b[1;32m    357\u001b[0m \u001b[39mdef\u001b[39;00m \u001b[39mgrab_batch\u001b[39m(i, data):\n\u001b[0;32m--> 358\u001b[0m   \u001b[39mreturn\u001b[39;00m tf\u001b[39m.\u001b[39;49mnest\u001b[39m.\u001b[39;49mmap_structure(\u001b[39mlambda\u001b[39;49;00m d: tf\u001b[39m.\u001b[39;49mgather(d, i, axis\u001b[39m=\u001b[39;49m\u001b[39m0\u001b[39;49m), data)\n",
      "File \u001b[0;32m~/opt/anaconda3/envs/10701/lib/python3.10/site-packages/tensorflow/python/util/nest.py:916\u001b[0m, in \u001b[0;36mmap_structure\u001b[0;34m(func, *structure, **kwargs)\u001b[0m\n\u001b[1;32m    912\u001b[0m flat_structure \u001b[39m=\u001b[39m (flatten(s, expand_composites) \u001b[39mfor\u001b[39;00m s \u001b[39min\u001b[39;00m structure)\n\u001b[1;32m    913\u001b[0m entries \u001b[39m=\u001b[39m \u001b[39mzip\u001b[39m(\u001b[39m*\u001b[39mflat_structure)\n\u001b[1;32m    915\u001b[0m \u001b[39mreturn\u001b[39;00m pack_sequence_as(\n\u001b[0;32m--> 916\u001b[0m     structure[\u001b[39m0\u001b[39m], [func(\u001b[39m*\u001b[39mx) \u001b[39mfor\u001b[39;00m x \u001b[39min\u001b[39;00m entries],\n\u001b[1;32m    917\u001b[0m     expand_composites\u001b[39m=\u001b[39mexpand_composites)\n",
      "File \u001b[0;32m~/opt/anaconda3/envs/10701/lib/python3.10/site-packages/tensorflow/python/util/nest.py:916\u001b[0m, in \u001b[0;36m<listcomp>\u001b[0;34m(.0)\u001b[0m\n\u001b[1;32m    912\u001b[0m flat_structure \u001b[39m=\u001b[39m (flatten(s, expand_composites) \u001b[39mfor\u001b[39;00m s \u001b[39min\u001b[39;00m structure)\n\u001b[1;32m    913\u001b[0m entries \u001b[39m=\u001b[39m \u001b[39mzip\u001b[39m(\u001b[39m*\u001b[39mflat_structure)\n\u001b[1;32m    915\u001b[0m \u001b[39mreturn\u001b[39;00m pack_sequence_as(\n\u001b[0;32m--> 916\u001b[0m     structure[\u001b[39m0\u001b[39m], [func(\u001b[39m*\u001b[39;49mx) \u001b[39mfor\u001b[39;00m x \u001b[39min\u001b[39;00m entries],\n\u001b[1;32m    917\u001b[0m     expand_composites\u001b[39m=\u001b[39mexpand_composites)\n",
      "File \u001b[0;32m~/opt/anaconda3/envs/10701/lib/python3.10/site-packages/keras/engine/data_adapter.py:358\u001b[0m, in \u001b[0;36mTensorLikeDataAdapter.slice_inputs.<locals>.grab_batch.<locals>.<lambda>\u001b[0;34m(d)\u001b[0m\n\u001b[1;32m    357\u001b[0m \u001b[39mdef\u001b[39;00m \u001b[39mgrab_batch\u001b[39m(i, data):\n\u001b[0;32m--> 358\u001b[0m   \u001b[39mreturn\u001b[39;00m tf\u001b[39m.\u001b[39mnest\u001b[39m.\u001b[39mmap_structure(\u001b[39mlambda\u001b[39;00m d: tf\u001b[39m.\u001b[39;49mgather(d, i, axis\u001b[39m=\u001b[39;49m\u001b[39m0\u001b[39;49m), data)\n",
      "File \u001b[0;32m~/opt/anaconda3/envs/10701/lib/python3.10/site-packages/tensorflow/python/util/traceback_utils.py:150\u001b[0m, in \u001b[0;36mfilter_traceback.<locals>.error_handler\u001b[0;34m(*args, **kwargs)\u001b[0m\n\u001b[1;32m    148\u001b[0m filtered_tb \u001b[39m=\u001b[39m \u001b[39mNone\u001b[39;00m\n\u001b[1;32m    149\u001b[0m \u001b[39mtry\u001b[39;00m:\n\u001b[0;32m--> 150\u001b[0m   \u001b[39mreturn\u001b[39;00m fn(\u001b[39m*\u001b[39;49margs, \u001b[39m*\u001b[39;49m\u001b[39m*\u001b[39;49mkwargs)\n\u001b[1;32m    151\u001b[0m \u001b[39mexcept\u001b[39;00m \u001b[39mException\u001b[39;00m \u001b[39mas\u001b[39;00m e:\n\u001b[1;32m    152\u001b[0m   filtered_tb \u001b[39m=\u001b[39m _process_traceback_frames(e\u001b[39m.\u001b[39m__traceback__)\n",
      "File \u001b[0;32m~/opt/anaconda3/envs/10701/lib/python3.10/site-packages/tensorflow/python/util/dispatch.py:1082\u001b[0m, in \u001b[0;36madd_dispatch_support.<locals>.decorator.<locals>.op_dispatch_handler\u001b[0;34m(*args, **kwargs)\u001b[0m\n\u001b[1;32m   1080\u001b[0m \u001b[39m# Fallback dispatch system (dispatch v1):\u001b[39;00m\n\u001b[1;32m   1081\u001b[0m \u001b[39mtry\u001b[39;00m:\n\u001b[0;32m-> 1082\u001b[0m   \u001b[39mreturn\u001b[39;00m dispatch_target(\u001b[39m*\u001b[39;49margs, \u001b[39m*\u001b[39;49m\u001b[39m*\u001b[39;49mkwargs)\n\u001b[1;32m   1083\u001b[0m \u001b[39mexcept\u001b[39;00m (\u001b[39mTypeError\u001b[39;00m, \u001b[39mValueError\u001b[39;00m):\n\u001b[1;32m   1084\u001b[0m   \u001b[39m# Note: convert_to_eager_tensor currently raises a ValueError, not a\u001b[39;00m\n\u001b[1;32m   1085\u001b[0m   \u001b[39m# TypeError, when given unexpected types.  So we need to catch both.\u001b[39;00m\n\u001b[1;32m   1086\u001b[0m   result \u001b[39m=\u001b[39m dispatch(op_dispatch_handler, args, kwargs)\n",
      "File \u001b[0;32m~/opt/anaconda3/envs/10701/lib/python3.10/site-packages/tensorflow/python/ops/array_ops.py:5283\u001b[0m, in \u001b[0;36mgather_v2\u001b[0;34m(params, indices, validate_indices, axis, batch_dims, name)\u001b[0m\n\u001b[1;32m   5275\u001b[0m \u001b[39m@tf_export\u001b[39m(\u001b[39m\"\u001b[39m\u001b[39mgather\u001b[39m\u001b[39m\"\u001b[39m, v1\u001b[39m=\u001b[39m[])\n\u001b[1;32m   5276\u001b[0m \u001b[39m@dispatch\u001b[39m\u001b[39m.\u001b[39madd_dispatch_support\n\u001b[1;32m   5277\u001b[0m \u001b[39mdef\u001b[39;00m \u001b[39mgather_v2\u001b[39m(params,\n\u001b[0;32m   (...)\u001b[0m\n\u001b[1;32m   5281\u001b[0m               batch_dims\u001b[39m=\u001b[39m\u001b[39m0\u001b[39m,\n\u001b[1;32m   5282\u001b[0m               name\u001b[39m=\u001b[39m\u001b[39mNone\u001b[39;00m):\n\u001b[0;32m-> 5283\u001b[0m   \u001b[39mreturn\u001b[39;00m gather(\n\u001b[1;32m   5284\u001b[0m       params,\n\u001b[1;32m   5285\u001b[0m       indices,\n\u001b[1;32m   5286\u001b[0m       validate_indices\u001b[39m=\u001b[39;49mvalidate_indices,\n\u001b[1;32m   5287\u001b[0m       name\u001b[39m=\u001b[39;49mname,\n\u001b[1;32m   5288\u001b[0m       axis\u001b[39m=\u001b[39;49maxis,\n\u001b[1;32m   5289\u001b[0m       batch_dims\u001b[39m=\u001b[39;49mbatch_dims)\n",
      "File \u001b[0;32m~/opt/anaconda3/envs/10701/lib/python3.10/site-packages/tensorflow/python/util/traceback_utils.py:150\u001b[0m, in \u001b[0;36mfilter_traceback.<locals>.error_handler\u001b[0;34m(*args, **kwargs)\u001b[0m\n\u001b[1;32m    148\u001b[0m filtered_tb \u001b[39m=\u001b[39m \u001b[39mNone\u001b[39;00m\n\u001b[1;32m    149\u001b[0m \u001b[39mtry\u001b[39;00m:\n\u001b[0;32m--> 150\u001b[0m   \u001b[39mreturn\u001b[39;00m fn(\u001b[39m*\u001b[39;49margs, \u001b[39m*\u001b[39;49m\u001b[39m*\u001b[39;49mkwargs)\n\u001b[1;32m    151\u001b[0m \u001b[39mexcept\u001b[39;00m \u001b[39mException\u001b[39;00m \u001b[39mas\u001b[39;00m e:\n\u001b[1;32m    152\u001b[0m   filtered_tb \u001b[39m=\u001b[39m _process_traceback_frames(e\u001b[39m.\u001b[39m__traceback__)\n",
      "File \u001b[0;32m~/opt/anaconda3/envs/10701/lib/python3.10/site-packages/tensorflow/python/util/dispatch.py:1082\u001b[0m, in \u001b[0;36madd_dispatch_support.<locals>.decorator.<locals>.op_dispatch_handler\u001b[0;34m(*args, **kwargs)\u001b[0m\n\u001b[1;32m   1080\u001b[0m \u001b[39m# Fallback dispatch system (dispatch v1):\u001b[39;00m\n\u001b[1;32m   1081\u001b[0m \u001b[39mtry\u001b[39;00m:\n\u001b[0;32m-> 1082\u001b[0m   \u001b[39mreturn\u001b[39;00m dispatch_target(\u001b[39m*\u001b[39;49margs, \u001b[39m*\u001b[39;49m\u001b[39m*\u001b[39;49mkwargs)\n\u001b[1;32m   1083\u001b[0m \u001b[39mexcept\u001b[39;00m (\u001b[39mTypeError\u001b[39;00m, \u001b[39mValueError\u001b[39;00m):\n\u001b[1;32m   1084\u001b[0m   \u001b[39m# Note: convert_to_eager_tensor currently raises a ValueError, not a\u001b[39;00m\n\u001b[1;32m   1085\u001b[0m   \u001b[39m# TypeError, when given unexpected types.  So we need to catch both.\u001b[39;00m\n\u001b[1;32m   1086\u001b[0m   result \u001b[39m=\u001b[39m dispatch(op_dispatch_handler, args, kwargs)\n",
      "File \u001b[0;32m~/opt/anaconda3/envs/10701/lib/python3.10/site-packages/tensorflow/python/util/deprecation.py:561\u001b[0m, in \u001b[0;36mdeprecated_args.<locals>.deprecated_wrapper.<locals>.new_func\u001b[0;34m(*args, **kwargs)\u001b[0m\n\u001b[1;32m    553\u001b[0m         _PRINTED_WARNING[(func, arg_name)] \u001b[39m=\u001b[39m \u001b[39mTrue\u001b[39;00m\n\u001b[1;32m    554\u001b[0m       logging\u001b[39m.\u001b[39mwarning(\n\u001b[1;32m    555\u001b[0m           \u001b[39m'\u001b[39m\u001b[39mFrom \u001b[39m\u001b[39m%s\u001b[39;00m\u001b[39m: calling \u001b[39m\u001b[39m%s\u001b[39;00m\u001b[39m (from \u001b[39m\u001b[39m%s\u001b[39;00m\u001b[39m) with \u001b[39m\u001b[39m%s\u001b[39;00m\u001b[39m is deprecated and will \u001b[39m\u001b[39m'\u001b[39m\n\u001b[1;32m    556\u001b[0m           \u001b[39m'\u001b[39m\u001b[39mbe removed \u001b[39m\u001b[39m%s\u001b[39;00m\u001b[39m.\u001b[39m\u001b[39m\\n\u001b[39;00m\u001b[39mInstructions for updating:\u001b[39m\u001b[39m\\n\u001b[39;00m\u001b[39m%s\u001b[39;00m\u001b[39m'\u001b[39m,\n\u001b[0;32m   (...)\u001b[0m\n\u001b[1;32m    559\u001b[0m           \u001b[39m'\u001b[39m\u001b[39min a future version\u001b[39m\u001b[39m'\u001b[39m \u001b[39mif\u001b[39;00m date \u001b[39mis\u001b[39;00m \u001b[39mNone\u001b[39;00m \u001b[39melse\u001b[39;00m (\u001b[39m'\u001b[39m\u001b[39mafter \u001b[39m\u001b[39m%s\u001b[39;00m\u001b[39m'\u001b[39m \u001b[39m%\u001b[39m date),\n\u001b[1;32m    560\u001b[0m           instructions)\n\u001b[0;32m--> 561\u001b[0m \u001b[39mreturn\u001b[39;00m func(\u001b[39m*\u001b[39;49margs, \u001b[39m*\u001b[39;49m\u001b[39m*\u001b[39;49mkwargs)\n",
      "File \u001b[0;32m~/opt/anaconda3/envs/10701/lib/python3.10/site-packages/tensorflow/python/ops/array_ops.py:5272\u001b[0m, in \u001b[0;36mgather\u001b[0;34m(***failed resolving arguments***)\u001b[0m\n\u001b[1;32m   5270\u001b[0m   \u001b[39mreturn\u001b[39;00m params\u001b[39m.\u001b[39msparse_read(indices, name\u001b[39m=\u001b[39mname)\n\u001b[1;32m   5271\u001b[0m \u001b[39mexcept\u001b[39;00m \u001b[39mAttributeError\u001b[39;00m:\n\u001b[0;32m-> 5272\u001b[0m   \u001b[39mreturn\u001b[39;00m gen_array_ops\u001b[39m.\u001b[39;49mgather_v2(params, indices, axis, name\u001b[39m=\u001b[39;49mname)\n",
      "File \u001b[0;32m~/opt/anaconda3/envs/10701/lib/python3.10/site-packages/tensorflow/python/ops/gen_array_ops.py:3952\u001b[0m, in \u001b[0;36mgather_v2\u001b[0;34m(params, indices, axis, batch_dims, name)\u001b[0m\n\u001b[1;32m   3950\u001b[0m   batch_dims \u001b[39m=\u001b[39m \u001b[39m0\u001b[39m\n\u001b[1;32m   3951\u001b[0m batch_dims \u001b[39m=\u001b[39m _execute\u001b[39m.\u001b[39mmake_int(batch_dims, \u001b[39m\"\u001b[39m\u001b[39mbatch_dims\u001b[39m\u001b[39m\"\u001b[39m)\n\u001b[0;32m-> 3952\u001b[0m _, _, _op, _outputs \u001b[39m=\u001b[39m _op_def_library\u001b[39m.\u001b[39;49m_apply_op_helper(\n\u001b[1;32m   3953\u001b[0m       \u001b[39m\"\u001b[39;49m\u001b[39mGatherV2\u001b[39;49m\u001b[39m\"\u001b[39;49m, params\u001b[39m=\u001b[39;49mparams, indices\u001b[39m=\u001b[39;49mindices, axis\u001b[39m=\u001b[39;49maxis,\n\u001b[1;32m   3954\u001b[0m                   batch_dims\u001b[39m=\u001b[39;49mbatch_dims, name\u001b[39m=\u001b[39;49mname)\n\u001b[1;32m   3955\u001b[0m _result \u001b[39m=\u001b[39m _outputs[:]\n\u001b[1;32m   3956\u001b[0m \u001b[39mif\u001b[39;00m _execute\u001b[39m.\u001b[39mmust_record_gradient():\n",
      "File \u001b[0;32m~/opt/anaconda3/envs/10701/lib/python3.10/site-packages/tensorflow/python/framework/op_def_library.py:779\u001b[0m, in \u001b[0;36m_apply_op_helper\u001b[0;34m(op_type_name, name, **keywords)\u001b[0m\n\u001b[1;32m    777\u001b[0m \u001b[39mwith\u001b[39;00m g\u001b[39m.\u001b[39mas_default(), ops\u001b[39m.\u001b[39mname_scope(name) \u001b[39mas\u001b[39;00m scope:\n\u001b[1;32m    778\u001b[0m   \u001b[39mif\u001b[39;00m fallback:\n\u001b[0;32m--> 779\u001b[0m     _ExtractInputsAndAttrs(op_type_name, op_def, allowed_list_attr_map,\n\u001b[1;32m    780\u001b[0m                            keywords, default_type_attr_map, attrs, inputs,\n\u001b[1;32m    781\u001b[0m                            input_types)\n\u001b[1;32m    782\u001b[0m     _ExtractRemainingAttrs(op_type_name, op_def, keywords,\n\u001b[1;32m    783\u001b[0m                            default_type_attr_map, attrs)\n\u001b[1;32m    784\u001b[0m     _ExtractAttrProto(op_type_name, op_def, attrs, attr_protos)\n",
      "File \u001b[0;32m~/opt/anaconda3/envs/10701/lib/python3.10/site-packages/tensorflow/python/framework/op_def_library.py:552\u001b[0m, in \u001b[0;36m_ExtractInputsAndAttrs\u001b[0;34m(op_type_name, op_def, allowed_list_attr_map, keywords, default_type_attr_map, attrs, inputs, input_types)\u001b[0m\n\u001b[1;32m    546\u001b[0m       values \u001b[39m=\u001b[39m ops\u001b[39m.\u001b[39mconvert_to_tensor(\n\u001b[1;32m    547\u001b[0m           values,\n\u001b[1;32m    548\u001b[0m           name\u001b[39m=\u001b[39minput_arg\u001b[39m.\u001b[39mname,\n\u001b[1;32m    549\u001b[0m           as_ref\u001b[39m=\u001b[39minput_arg\u001b[39m.\u001b[39mis_ref,\n\u001b[1;32m    550\u001b[0m           preferred_dtype\u001b[39m=\u001b[39mdefault_dtype)\n\u001b[1;32m    551\u001b[0m   \u001b[39melse\u001b[39;00m:\n\u001b[0;32m--> 552\u001b[0m     values \u001b[39m=\u001b[39m ops\u001b[39m.\u001b[39;49mconvert_to_tensor(\n\u001b[1;32m    553\u001b[0m         values,\n\u001b[1;32m    554\u001b[0m         name\u001b[39m=\u001b[39;49minput_arg\u001b[39m.\u001b[39;49mname,\n\u001b[1;32m    555\u001b[0m         dtype\u001b[39m=\u001b[39;49mdtype,\n\u001b[1;32m    556\u001b[0m         as_ref\u001b[39m=\u001b[39;49minput_arg\u001b[39m.\u001b[39;49mis_ref,\n\u001b[1;32m    557\u001b[0m         preferred_dtype\u001b[39m=\u001b[39;49mdefault_dtype)\n\u001b[1;32m    558\u001b[0m \u001b[39mexcept\u001b[39;00m \u001b[39mTypeError\u001b[39;00m \u001b[39mas\u001b[39;00m err:\n\u001b[1;32m    559\u001b[0m   \u001b[39mif\u001b[39;00m dtype \u001b[39mis\u001b[39;00m \u001b[39mNone\u001b[39;00m:\n",
      "File \u001b[0;32m~/opt/anaconda3/envs/10701/lib/python3.10/site-packages/tensorflow/python/profiler/trace.py:183\u001b[0m, in \u001b[0;36mtrace_wrapper.<locals>.inner_wrapper.<locals>.wrapped\u001b[0;34m(*args, **kwargs)\u001b[0m\n\u001b[1;32m    181\u001b[0m   \u001b[39mwith\u001b[39;00m Trace(trace_name, \u001b[39m*\u001b[39m\u001b[39m*\u001b[39mtrace_kwargs):\n\u001b[1;32m    182\u001b[0m     \u001b[39mreturn\u001b[39;00m func(\u001b[39m*\u001b[39margs, \u001b[39m*\u001b[39m\u001b[39m*\u001b[39mkwargs)\n\u001b[0;32m--> 183\u001b[0m \u001b[39mreturn\u001b[39;00m func(\u001b[39m*\u001b[39;49margs, \u001b[39m*\u001b[39;49m\u001b[39m*\u001b[39;49mkwargs)\n",
      "File \u001b[0;32m~/opt/anaconda3/envs/10701/lib/python3.10/site-packages/tensorflow/python/framework/ops.py:1640\u001b[0m, in \u001b[0;36mconvert_to_tensor\u001b[0;34m(value, dtype, name, as_ref, preferred_dtype, dtype_hint, ctx, accepted_result_types)\u001b[0m\n\u001b[1;32m   1631\u001b[0m       \u001b[39mraise\u001b[39;00m \u001b[39mRuntimeError\u001b[39;00m(\n\u001b[1;32m   1632\u001b[0m           _add_error_prefix(\n\u001b[1;32m   1633\u001b[0m               \u001b[39mf\u001b[39m\u001b[39m\"\u001b[39m\u001b[39mConversion function \u001b[39m\u001b[39m{\u001b[39;00mconversion_func\u001b[39m!r}\u001b[39;00m\u001b[39m for type \u001b[39m\u001b[39m\"\u001b[39m\n\u001b[0;32m   (...)\u001b[0m\n\u001b[1;32m   1636\u001b[0m               \u001b[39mf\u001b[39m\u001b[39m\"\u001b[39m\u001b[39mactual = \u001b[39m\u001b[39m{\u001b[39;00mret\u001b[39m.\u001b[39mdtype\u001b[39m.\u001b[39mbase_dtype\u001b[39m.\u001b[39mname\u001b[39m}\u001b[39;00m\u001b[39m\"\u001b[39m,\n\u001b[1;32m   1637\u001b[0m               name\u001b[39m=\u001b[39mname))\n\u001b[1;32m   1639\u001b[0m \u001b[39mif\u001b[39;00m ret \u001b[39mis\u001b[39;00m \u001b[39mNone\u001b[39;00m:\n\u001b[0;32m-> 1640\u001b[0m   ret \u001b[39m=\u001b[39m conversion_func(value, dtype\u001b[39m=\u001b[39;49mdtype, name\u001b[39m=\u001b[39;49mname, as_ref\u001b[39m=\u001b[39;49mas_ref)\n\u001b[1;32m   1642\u001b[0m \u001b[39mif\u001b[39;00m ret \u001b[39mis\u001b[39;00m \u001b[39mNotImplemented\u001b[39m:\n\u001b[1;32m   1643\u001b[0m   \u001b[39mcontinue\u001b[39;00m\n",
      "File \u001b[0;32m~/opt/anaconda3/envs/10701/lib/python3.10/site-packages/tensorflow/python/framework/tensor_conversion_registry.py:48\u001b[0m, in \u001b[0;36m_default_conversion_function\u001b[0;34m(***failed resolving arguments***)\u001b[0m\n\u001b[1;32m     46\u001b[0m \u001b[39mdef\u001b[39;00m \u001b[39m_default_conversion_function\u001b[39m(value, dtype, name, as_ref):\n\u001b[1;32m     47\u001b[0m   \u001b[39mdel\u001b[39;00m as_ref  \u001b[39m# Unused.\u001b[39;00m\n\u001b[0;32m---> 48\u001b[0m   \u001b[39mreturn\u001b[39;00m constant_op\u001b[39m.\u001b[39;49mconstant(value, dtype, name\u001b[39m=\u001b[39;49mname)\n",
      "File \u001b[0;32m~/opt/anaconda3/envs/10701/lib/python3.10/site-packages/tensorflow/python/framework/constant_op.py:267\u001b[0m, in \u001b[0;36mconstant\u001b[0;34m(value, dtype, shape, name)\u001b[0m\n\u001b[1;32m    170\u001b[0m \u001b[39m@tf_export\u001b[39m(\u001b[39m\"\u001b[39m\u001b[39mconstant\u001b[39m\u001b[39m\"\u001b[39m, v1\u001b[39m=\u001b[39m[])\n\u001b[1;32m    171\u001b[0m \u001b[39mdef\u001b[39;00m \u001b[39mconstant\u001b[39m(value, dtype\u001b[39m=\u001b[39m\u001b[39mNone\u001b[39;00m, shape\u001b[39m=\u001b[39m\u001b[39mNone\u001b[39;00m, name\u001b[39m=\u001b[39m\u001b[39m\"\u001b[39m\u001b[39mConst\u001b[39m\u001b[39m\"\u001b[39m):\n\u001b[1;32m    172\u001b[0m   \u001b[39m\"\"\"Creates a constant tensor from a tensor-like object.\u001b[39;00m\n\u001b[1;32m    173\u001b[0m \n\u001b[1;32m    174\u001b[0m \u001b[39m  Note: All eager `tf.Tensor` values are immutable (in contrast to\u001b[39;00m\n\u001b[0;32m   (...)\u001b[0m\n\u001b[1;32m    265\u001b[0m \u001b[39m    ValueError: if called on a symbolic tensor.\u001b[39;00m\n\u001b[1;32m    266\u001b[0m \u001b[39m  \"\"\"\u001b[39;00m\n\u001b[0;32m--> 267\u001b[0m   \u001b[39mreturn\u001b[39;00m _constant_impl(value, dtype, shape, name, verify_shape\u001b[39m=\u001b[39;49m\u001b[39mFalse\u001b[39;49;00m,\n\u001b[1;32m    268\u001b[0m                         allow_broadcast\u001b[39m=\u001b[39;49m\u001b[39mTrue\u001b[39;49;00m)\n",
      "File \u001b[0;32m~/opt/anaconda3/envs/10701/lib/python3.10/site-packages/tensorflow/python/framework/constant_op.py:289\u001b[0m, in \u001b[0;36m_constant_impl\u001b[0;34m(value, dtype, shape, name, verify_shape, allow_broadcast)\u001b[0m\n\u001b[1;32m    287\u001b[0m dtype_value \u001b[39m=\u001b[39m attr_value_pb2\u001b[39m.\u001b[39mAttrValue(\u001b[39mtype\u001b[39m\u001b[39m=\u001b[39mtensor_value\u001b[39m.\u001b[39mtensor\u001b[39m.\u001b[39mdtype)\n\u001b[1;32m    288\u001b[0m attrs \u001b[39m=\u001b[39m {\u001b[39m\"\u001b[39m\u001b[39mvalue\u001b[39m\u001b[39m\"\u001b[39m: tensor_value, \u001b[39m\"\u001b[39m\u001b[39mdtype\u001b[39m\u001b[39m\"\u001b[39m: dtype_value}\n\u001b[0;32m--> 289\u001b[0m const_tensor \u001b[39m=\u001b[39m g\u001b[39m.\u001b[39;49m_create_op_internal(  \u001b[39m# pylint: disable=protected-access\u001b[39;49;00m\n\u001b[1;32m    290\u001b[0m     \u001b[39m\"\u001b[39;49m\u001b[39mConst\u001b[39;49m\u001b[39m\"\u001b[39;49m, [], [dtype_value\u001b[39m.\u001b[39;49mtype], attrs\u001b[39m=\u001b[39;49mattrs, name\u001b[39m=\u001b[39;49mname)\u001b[39m.\u001b[39moutputs[\u001b[39m0\u001b[39m]\n\u001b[1;32m    292\u001b[0m \u001b[39mif\u001b[39;00m op_callbacks\u001b[39m.\u001b[39mshould_invoke_op_callbacks():\n\u001b[1;32m    293\u001b[0m   \u001b[39m# TODO(b/147670703): Once the special-op creation code paths\u001b[39;00m\n\u001b[1;32m    294\u001b[0m   \u001b[39m# are unified. Remove this `if` block.\u001b[39;00m\n\u001b[1;32m    295\u001b[0m   callback_outputs \u001b[39m=\u001b[39m op_callbacks\u001b[39m.\u001b[39minvoke_op_callbacks(\n\u001b[1;32m    296\u001b[0m       \u001b[39m\"\u001b[39m\u001b[39mConst\u001b[39m\u001b[39m\"\u001b[39m, \u001b[39mtuple\u001b[39m(), attrs, (const_tensor,), op_name\u001b[39m=\u001b[39mname, graph\u001b[39m=\u001b[39mg)\n",
      "File \u001b[0;32m~/opt/anaconda3/envs/10701/lib/python3.10/site-packages/tensorflow/python/framework/func_graph.py:694\u001b[0m, in \u001b[0;36mFuncGraph._create_op_internal\u001b[0;34m(self, op_type, inputs, dtypes, input_types, name, attrs, op_def, compute_device)\u001b[0m\n\u001b[1;32m    692\u001b[0m   inp \u001b[39m=\u001b[39m \u001b[39mself\u001b[39m\u001b[39m.\u001b[39mcapture(inp)\n\u001b[1;32m    693\u001b[0m   captured_inputs\u001b[39m.\u001b[39mappend(inp)\n\u001b[0;32m--> 694\u001b[0m \u001b[39mreturn\u001b[39;00m \u001b[39msuper\u001b[39;49m(FuncGraph, \u001b[39mself\u001b[39;49m)\u001b[39m.\u001b[39;49m_create_op_internal(  \u001b[39m# pylint: disable=protected-access\u001b[39;49;00m\n\u001b[1;32m    695\u001b[0m     op_type, captured_inputs, dtypes, input_types, name, attrs, op_def,\n\u001b[1;32m    696\u001b[0m     compute_device)\n",
      "File \u001b[0;32m~/opt/anaconda3/envs/10701/lib/python3.10/site-packages/tensorflow/python/framework/ops.py:3754\u001b[0m, in \u001b[0;36mGraph._create_op_internal\u001b[0;34m(self, op_type, inputs, dtypes, input_types, name, attrs, op_def, compute_device)\u001b[0m\n\u001b[1;32m   3751\u001b[0m \u001b[39m# _create_op_helper mutates the new Operation. `_mutation_lock` ensures a\u001b[39;00m\n\u001b[1;32m   3752\u001b[0m \u001b[39m# Session.run call cannot occur between creating and mutating the op.\u001b[39;00m\n\u001b[1;32m   3753\u001b[0m \u001b[39mwith\u001b[39;00m \u001b[39mself\u001b[39m\u001b[39m.\u001b[39m_mutation_lock():\n\u001b[0;32m-> 3754\u001b[0m   ret \u001b[39m=\u001b[39m Operation(\n\u001b[1;32m   3755\u001b[0m       node_def,\n\u001b[1;32m   3756\u001b[0m       \u001b[39mself\u001b[39;49m,\n\u001b[1;32m   3757\u001b[0m       inputs\u001b[39m=\u001b[39;49minputs,\n\u001b[1;32m   3758\u001b[0m       output_types\u001b[39m=\u001b[39;49mdtypes,\n\u001b[1;32m   3759\u001b[0m       control_inputs\u001b[39m=\u001b[39;49mcontrol_inputs,\n\u001b[1;32m   3760\u001b[0m       input_types\u001b[39m=\u001b[39;49minput_types,\n\u001b[1;32m   3761\u001b[0m       original_op\u001b[39m=\u001b[39;49m\u001b[39mself\u001b[39;49m\u001b[39m.\u001b[39;49m_default_original_op,\n\u001b[1;32m   3762\u001b[0m       op_def\u001b[39m=\u001b[39;49mop_def)\n\u001b[1;32m   3763\u001b[0m   \u001b[39mself\u001b[39m\u001b[39m.\u001b[39m_create_op_helper(ret, compute_device\u001b[39m=\u001b[39mcompute_device)\n\u001b[1;32m   3764\u001b[0m \u001b[39mreturn\u001b[39;00m ret\n",
      "File \u001b[0;32m~/opt/anaconda3/envs/10701/lib/python3.10/site-packages/tensorflow/python/framework/ops.py:2129\u001b[0m, in \u001b[0;36mOperation.__init__\u001b[0;34m(self, node_def, g, inputs, output_types, control_inputs, input_types, original_op, op_def)\u001b[0m\n\u001b[1;32m   2127\u001b[0m   \u001b[39mif\u001b[39;00m op_def \u001b[39mis\u001b[39;00m \u001b[39mNone\u001b[39;00m:\n\u001b[1;32m   2128\u001b[0m     op_def \u001b[39m=\u001b[39m \u001b[39mself\u001b[39m\u001b[39m.\u001b[39m_graph\u001b[39m.\u001b[39m_get_op_def(node_def\u001b[39m.\u001b[39mop)\n\u001b[0;32m-> 2129\u001b[0m   \u001b[39mself\u001b[39m\u001b[39m.\u001b[39m_c_op \u001b[39m=\u001b[39m _create_c_op(\u001b[39mself\u001b[39;49m\u001b[39m.\u001b[39;49m_graph, node_def, inputs,\n\u001b[1;32m   2130\u001b[0m                             control_input_ops, op_def)\n\u001b[1;32m   2131\u001b[0m   name \u001b[39m=\u001b[39m compat\u001b[39m.\u001b[39mas_str(node_def\u001b[39m.\u001b[39mname)\n\u001b[1;32m   2133\u001b[0m \u001b[39mself\u001b[39m\u001b[39m.\u001b[39m_traceback \u001b[39m=\u001b[39m tf_stack\u001b[39m.\u001b[39mextract_stack_for_node(\u001b[39mself\u001b[39m\u001b[39m.\u001b[39m_c_op)\n",
      "File \u001b[0;32m~/opt/anaconda3/envs/10701/lib/python3.10/site-packages/tensorflow/python/util/traceback_utils.py:150\u001b[0m, in \u001b[0;36mfilter_traceback.<locals>.error_handler\u001b[0;34m(*args, **kwargs)\u001b[0m\n\u001b[1;32m    148\u001b[0m filtered_tb \u001b[39m=\u001b[39m \u001b[39mNone\u001b[39;00m\n\u001b[1;32m    149\u001b[0m \u001b[39mtry\u001b[39;00m:\n\u001b[0;32m--> 150\u001b[0m   \u001b[39mreturn\u001b[39;00m fn(\u001b[39m*\u001b[39;49margs, \u001b[39m*\u001b[39;49m\u001b[39m*\u001b[39;49mkwargs)\n\u001b[1;32m    151\u001b[0m \u001b[39mexcept\u001b[39;00m \u001b[39mException\u001b[39;00m \u001b[39mas\u001b[39;00m e:\n\u001b[1;32m    152\u001b[0m   filtered_tb \u001b[39m=\u001b[39m _process_traceback_frames(e\u001b[39m.\u001b[39m__traceback__)\n",
      "File \u001b[0;32m~/opt/anaconda3/envs/10701/lib/python3.10/site-packages/tensorflow/python/framework/ops.py:1956\u001b[0m, in \u001b[0;36m_create_c_op\u001b[0;34m(graph, node_def, inputs, control_inputs, op_def)\u001b[0m\n\u001b[1;32m   1953\u001b[0m   serialized \u001b[39m=\u001b[39m attr_value\u001b[39m.\u001b[39mSerializeToString()\n\u001b[1;32m   1954\u001b[0m   \u001b[39m# TODO(skyewm): this creates and deletes a new TF_Status for every attr.\u001b[39;00m\n\u001b[1;32m   1955\u001b[0m   \u001b[39m# It might be worth creating a convenient way to re-use the same status.\u001b[39;00m\n\u001b[0;32m-> 1956\u001b[0m   pywrap_tf_session\u001b[39m.\u001b[39mTF_SetAttrValueProto(op_desc, compat\u001b[39m.\u001b[39;49mas_str(name),\n\u001b[1;32m   1957\u001b[0m                                          serialized)\n\u001b[1;32m   1959\u001b[0m \u001b[39mtry\u001b[39;00m:\n\u001b[1;32m   1960\u001b[0m   c_op \u001b[39m=\u001b[39m pywrap_tf_session\u001b[39m.\u001b[39mTF_FinishOperation(op_desc)\n",
      "File \u001b[0;32m~/opt/anaconda3/envs/10701/lib/python3.10/site-packages/tensorflow/python/util/compat.py:116\u001b[0m, in \u001b[0;36mas_str\u001b[0;34m(bytes_or_text, encoding)\u001b[0m\n\u001b[1;32m    115\u001b[0m \u001b[39mdef\u001b[39;00m \u001b[39mas_str\u001b[39m(bytes_or_text, encoding\u001b[39m=\u001b[39m\u001b[39m'\u001b[39m\u001b[39mutf-8\u001b[39m\u001b[39m'\u001b[39m):\n\u001b[0;32m--> 116\u001b[0m   \u001b[39mreturn\u001b[39;00m as_text(bytes_or_text, encoding)\n",
      "File \u001b[0;32m~/opt/anaconda3/envs/10701/lib/python3.10/site-packages/tensorflow/python/util/compat.py:107\u001b[0m, in \u001b[0;36mas_text\u001b[0;34m(bytes_or_text, encoding)\u001b[0m\n\u001b[1;32m    105\u001b[0m \u001b[39m# Validate encoding, a LookupError will be raised if invalid.\u001b[39;00m\n\u001b[1;32m    106\u001b[0m encoding \u001b[39m=\u001b[39m codecs\u001b[39m.\u001b[39mlookup(encoding)\u001b[39m.\u001b[39mname\n\u001b[0;32m--> 107\u001b[0m \u001b[39mif\u001b[39;00m \u001b[39misinstance\u001b[39;49m(bytes_or_text, _six\u001b[39m.\u001b[39;49mtext_type):\n\u001b[1;32m    108\u001b[0m   \u001b[39mreturn\u001b[39;00m bytes_or_text\n\u001b[1;32m    109\u001b[0m \u001b[39melif\u001b[39;00m \u001b[39misinstance\u001b[39m(bytes_or_text, \u001b[39mbytes\u001b[39m):\n",
      "\u001b[0;31mKeyboardInterrupt\u001b[0m: "
     ]
    }
   ],
   "source": [
    "# random plotting traing error at some interval = skip to not make the plot rendering too slow\n",
    "skip = 20\n",
    "\n",
    "fig = go.Figure()\n",
    "fig.add_trace(go.Scatter(x = [0,1], y = [0,1], showlegend=False, mode=\"markers+lines\"))\n",
    "for i in range(0,len(X_train), batch_size*skip):\n",
    "    fig.add_trace(go.Scatter(x = model.predict(X_train[i:i+batch_size]).flatten(), \n",
    "                             y = y_train[i:i+batch_size], \n",
    "                             showlegend=False, mode=\"markers\"))\n",
    "fig.update_yaxes(title='Normalized Target')\n",
    "fig.update_xaxes(title='Normalized Prediction')"
   ]
  },
  {
   "cell_type": "markdown",
   "id": "a26ace94",
   "metadata": {},
   "source": [
    "## Parity Plot of Test Error"
   ]
  },
  {
   "cell_type": "code",
   "execution_count": 33,
   "id": "c3bd3873",
   "metadata": {},
   "outputs": [
    {
     "data": {
      "application/vnd.plotly.v1+json": {
       "config": {
        "plotlyServerURL": "https://plot.ly"
       },
       "data": [
        {
         "mode": "markers+lines",
         "showlegend": false,
         "type": "scatter",
         "x": [
          0,
          1
         ],
         "y": [
          0,
          1
         ]
        },
        {
         "line": {
          "color": "#2E91E5"
         },
         "mode": "markers+lines",
         "showlegend": false,
         "type": "scatter",
         "x": [
          0.8004459738731384,
          0.7939339280128479,
          0.7867699265480042,
          0.7743207812309265,
          0.762940526008606,
          0.7494980692863464,
          0.7346397042274475,
          0.687213122844696,
          0.6616243124008179,
          0.6295580267906189,
          0.5573216676712036,
          0.5007521510124207,
          0.5090718269348145,
          0.49971017241477966,
          0.46521222591400146,
          0.4774409830570221,
          0.4772093594074249,
          0.47356101870536804,
          0.48165223002433777
         ],
         "y": [
          0.8012846600702722,
          0.7965745544571075,
          0.7855744354316629,
          0.7762296493015381,
          0.7658417498174189,
          0.7533857149074488,
          0.739758625389513,
          0.7003371068840425,
          0.6848679225921975,
          0.6637608535475261,
          0.6320618140627422,
          0.6081937876422313,
          0.6023247983847567,
          0.5888015601616349,
          0.5722482607018117,
          0.5625166279669344,
          0.5515043945902027,
          0.5392495586434386,
          0.5251785927547221
         ]
        },
        {
         "line": {
          "color": "#1616A7"
         },
         "mode": "markers+lines",
         "showlegend": false,
         "type": "scatter",
         "x": [
          0.8006229996681213,
          0.7940585613250732,
          0.7868937253952026,
          0.7744829654693604,
          0.7631810307502747,
          0.7496770024299622,
          0.7346855401992798,
          0.6858347058296204,
          0.6592797636985779,
          0.6266844868659973,
          0.5528674125671387,
          0.49498406052589417,
          0.4986567795276642,
          0.48527082800865173,
          0.44784554839134216,
          0.45518094301223755,
          0.44848981499671936,
          0.43677833676338196,
          0.4348185360431671
         ],
         "y": [
          0.801771630953918,
          0.7971430132760708,
          0.786027213528088,
          0.7763537881515707,
          0.7654471019912137,
          0.7527328853930773,
          0.7384322880624186,
          0.6979820286673085,
          0.6823355422286506,
          0.6613271731288535,
          0.6287556656265371,
          0.6030939966863549,
          0.5966809828267801,
          0.581936630088189,
          0.5642832701538233,
          0.5540101166964485,
          0.5426820674051366,
          0.5300745096239057,
          0.5159929479283865
         ]
        },
        {
         "line": {
          "color": "#6C7C32"
         },
         "mode": "markers+lines",
         "showlegend": false,
         "type": "scatter",
         "x": [
          0.8006609082221985,
          0.7940764427185059,
          0.7868931889533997,
          0.7746250033378601,
          0.7634110450744629,
          0.7499560713768005,
          0.735004723072052,
          0.6857741475105286,
          0.6586855053901672,
          0.625695526599884,
          0.5515409111976624,
          0.4927082359790802,
          0.48787370324134827,
          0.46941742300987244,
          0.4303814470767975,
          0.4309494197368622,
          0.4185574948787689,
          0.40112289786338806,
          0.3911127746105194
         ],
         "y": [
          0.8007958783762446,
          0.7960504466663311,
          0.7848990387716737,
          0.7752135597399548,
          0.7640732817929747,
          0.7510285005275694,
          0.7366578149526942,
          0.6947654590537619,
          0.6782266808239499,
          0.6551022424287306,
          0.61749564682756,
          0.5869459399701017,
          0.5792801886662864,
          0.5617940245500803,
          0.5408171261470656,
          0.5288068412657101,
          0.5154473830665673,
          0.5006795344035225,
          0.48406299980881917
         ]
        },
        {
         "line": {
          "color": "#511CFB"
         },
         "mode": "markers+lines",
         "showlegend": false,
         "type": "scatter",
         "x": [
          0.8007542490959167,
          0.7941405177116394,
          0.7869454026222229,
          0.7747877836227417,
          0.7636244297027588,
          0.7501745820045471,
          0.7351822257041931,
          0.6858581304550171,
          0.6586191058158875,
          0.6255260109901428,
          0.5511461496353149,
          0.4920063316822052,
          0.4800627529621124,
          0.4578939974308014,
          0.41837260127067566,
          0.41318199038505554,
          0.3972081243991852,
          0.3756972849369049,
          0.3605651557445526
         ],
         "y": [
          0.8000047266822845,
          0.7953018742052598,
          0.7840222379127901,
          0.7741968904884525,
          0.762914049600502,
          0.749836039207304,
          0.7351846290092229,
          0.692321324271819,
          0.6750204189932545,
          0.6497542690125064,
          0.6074506378130432,
          0.5723679958109212,
          0.5635297700305706,
          0.5434002180826687,
          0.5192781711028828,
          0.505353604315916,
          0.49002152473091193,
          0.47282229902573564,
          0.4534360111109155
         ]
        },
        {
         "line": {
          "color": "#DA16FF"
         },
         "mode": "markers+lines",
         "showlegend": false,
         "type": "scatter",
         "x": [
          0.8001773953437805,
          0.793666422367096,
          0.7864821553230286,
          0.7743850946426392,
          0.7632644772529602,
          0.7499635815620422,
          0.735355019569397,
          0.6884748339653015,
          0.6637895703315735,
          0.6334459185600281,
          0.5651179552078247,
          0.5089062452316284,
          0.49527525901794434,
          0.4730304777622223,
          0.43306973576545715,
          0.42749983072280884,
          0.412335067987442,
          0.3896036148071289,
          0.37309661507606506
         ],
         "y": [
          0.8037097724571528,
          0.799109584863615,
          0.787765416504384,
          0.7779439629673409,
          0.7668559297855326,
          0.7540427785490487,
          0.7397436897650621,
          0.6992156541592065,
          0.6822321310333512,
          0.6574001948593172,
          0.61490652610115,
          0.5792619238381165,
          0.5703173454339371,
          0.5497714607160856,
          0.5251812778952473,
          0.5109963182441816,
          0.4952268758323761,
          0.47760482284708405,
          0.4576306877411749
         ]
        },
        {
         "line": {
          "color": "#AF0038"
         },
         "mode": "markers+lines",
         "showlegend": false,
         "type": "scatter",
         "x": [
          0.8002668619155884,
          0.7937454581260681,
          0.7864862084388733,
          0.7742042541503906,
          0.7629056572914124,
          0.7494622468948364,
          0.7346672415733337,
          0.6874536871910095,
          0.6619810461997986,
          0.6308781504631042,
          0.5618917942047119,
          0.5018821358680725,
          0.48285865783691406,
          0.4560989439487457,
          0.4150484502315521,
          0.4044806957244873,
          0.3852226138114929,
          0.35893628001213074,
          0.33819741010665894
         ],
         "y": [
          0.8018805402296985,
          0.7972697401615209,
          0.7859955312057907,
          0.7760688372297976,
          0.7648583723357268,
          0.7518568757944727,
          0.7375217344083432,
          0.6952987531902265,
          0.6771488636587661,
          0.6497335125475103,
          0.6016874550284477,
          0.5610311466777033,
          0.5507374794839245,
          0.5272296522219803,
          0.49879868706252745,
          0.48228366961985725,
          0.4637567596766153,
          0.4427016564973233,
          0.4183427913227799
         ]
        },
        {
         "line": {
          "color": "#620042"
         },
         "mode": "markers+lines",
         "showlegend": false,
         "type": "scatter",
         "x": [
          0.8007737398147583,
          0.794052243232727,
          0.7867308259010315,
          0.7743851542472839,
          0.7630138993263245,
          0.7494738101959229,
          0.734419047832489,
          0.6852356791496277,
          0.6577700972557068,
          0.624119758605957,
          0.5509019494056702,
          0.485818088054657,
          0.46133360266685486,
          0.42952215671539307,
          0.3864303231239319,
          0.3690555989742279,
          0.3436555564403534,
          0.3133704960346222,
          0.2875373661518097
         ],
         "y": [
          0.7989511826000697,
          0.7942508437286608,
          0.782876831376537,
          0.7728156869684687,
          0.7615197546128478,
          0.7482272254620181,
          0.7333725476042294,
          0.6882802095768671,
          0.6682449293925267,
          0.637530815170518,
          0.582127917132847,
          0.5348292753781272,
          0.5228085560307786,
          0.49496388956882503,
          0.46120322673419856,
          0.4410545362568818,
          0.4179857800496126,
          0.39121541609015603,
          0.3590810004545334
         ]
        },
        {
         "line": {
          "color": "#B2828D"
         },
         "mode": "markers+lines",
         "showlegend": false,
         "type": "scatter",
         "x": [
          0.8002113103866577,
          0.7936827540397644,
          0.7863844633102417,
          0.7741127610206604,
          0.7628871202468872,
          0.7495701313018799,
          0.734885573387146,
          0.6873772740364075,
          0.6620215773582458,
          0.6306987404823303,
          0.5618795156478882,
          0.4996616840362549,
          0.4776608645915985,
          0.44764506816864014,
          0.4028238356113434,
          0.3861256539821625,
          0.3616674840450287,
          0.32915759086608887,
          0.3021746575832367
         ],
         "y": [
          0.8018981186334282,
          0.7973005111847782,
          0.7859205996234859,
          0.7758664669705536,
          0.7646202268292628,
          0.7515917704526074,
          0.7371090084673005,
          0.6939745629238563,
          0.6746510628134161,
          0.6446663923803575,
          0.5897154051298709,
          0.5426258283822044,
          0.5306293953288339,
          0.5031276617335859,
          0.4692313302842245,
          0.4488451956685445,
          0.4256752542816528,
          0.39861680051834447,
          0.3657740256607941
         ]
        },
        {
         "line": {
          "color": "#EB663B"
         },
         "mode": "markers+lines",
         "showlegend": false,
         "type": "scatter",
         "x": [
          0.8006623387336731,
          0.794029176235199,
          0.7866893410682678,
          0.7743144631385803,
          0.762991726398468,
          0.7494907975196838,
          0.7345649600028992,
          0.6851398348808289,
          0.6577101349830627,
          0.6239014863967896,
          0.5499000549316406,
          0.4818094074726105,
          0.45429152250289917,
          0.41860485076904297,
          0.3721635639667511,
          0.34738340973854065,
          0.31515538692474365,
          0.278866708278656,
          0.24623766541481018
         ],
         "y": [
          0.7986112088199768,
          0.7937984877674856,
          0.7823903395580123,
          0.7723284278161393,
          0.7609971186145007,
          0.7478155761184643,
          0.7327755263093718,
          0.6865252218234354,
          0.6650307006707286,
          0.6312753760888252,
          0.5682096999034618,
          0.5139051374849349,
          0.4998255851288804,
          0.4674113015573039,
          0.4263451325966948,
          0.4010490410287305,
          0.3710305444152524,
          0.3346725589418349,
          0.28857594257046015
         ]
        },
        {
         "line": {
          "color": "#FB0D0D"
         },
         "mode": "markers+lines",
         "showlegend": false,
         "type": "scatter",
         "x": [
          0.8006018400192261,
          0.7940340638160706,
          0.7867267727851868,
          0.7744483351707458,
          0.7632461786270142,
          0.7497759461402893,
          0.7348505258560181,
          0.6854363679885864,
          0.6577896475791931,
          0.62370365858078,
          0.5480816960334778,
          0.4790900647640228,
          0.45034563541412354,
          0.41090741753578186,
          0.3606289029121399,
          0.33123356103897095,
          0.2923972010612488,
          0.2505123019218445,
          0.2126373052597046
         ],
         "y": [
          0.7984248175630706,
          0.7936797010779199,
          0.7822171553947576,
          0.7721343877749824,
          0.7607188808984837,
          0.7475035353532777,
          0.7325065122696912,
          0.6854462179611998,
          0.6632040698905619,
          0.6274500993757447,
          0.5600235154212656,
          0.501003061681781,
          0.48567896426522517,
          0.4494863126107569,
          0.40254066606009464,
          0.37277755778887367,
          0.3364851459862175,
          0.2903439035592611,
          0.23458435842481862
         ]
        },
        {
         "line": {
          "color": "#0D2A63"
         },
         "mode": "markers+lines",
         "showlegend": false,
         "type": "scatter",
         "x": [
          0.8007028102874756,
          0.7941295504570007,
          0.7868072986602783,
          0.7745866775512695,
          0.7634268403053284,
          0.7499401569366455,
          0.734968900680542,
          0.6854400634765625,
          0.6573991179466248,
          0.6229297518730164,
          0.5461599826812744,
          0.47537049651145935,
          0.443817675113678,
          0.40024593472480774,
          0.34614327549934387,
          0.3101898431777954,
          0.26367029547691345,
          0.2161165475845337,
          0.1735227108001709
         ],
         "y": [
          0.797809264913636,
          0.7929765978107982,
          0.7815339569373825,
          0.771442817318418,
          0.7599643827069432,
          0.7466476022473804,
          0.7314421543329862,
          0.6835370489825766,
          0.6602878023936316,
          0.6223995698007169,
          0.5494341437823241,
          0.48490565332803376,
          0.46793876995759753,
          0.42696871577537276,
          0.3717373818612624,
          0.3353159208557454,
          0.2886144353425736,
          0.23242273851511844,
          0.17546433938312425
         ]
        },
        {
         "line": {
          "color": "#A777F1"
         },
         "mode": "markers+lines",
         "showlegend": false,
         "type": "scatter",
         "x": [
          0.8007052540779114,
          0.7941295504570007,
          0.7868353128433228,
          0.7746185660362244,
          0.7634608745574951,
          0.749993622303009,
          0.7350941300392151,
          0.68597012758255,
          0.6582395434379578,
          0.623340368270874,
          0.5450553894042969,
          0.47325578331947327,
          0.44039419293403625,
          0.39281943440437317,
          0.3334410786628723,
          0.2902125120162964,
          0.23585978150367737,
          0.182807058095932,
          0.13813403248786926
         ],
         "y": [
          0.7980747601833771,
          0.7932847525362764,
          0.7817671666384525,
          0.7716807938307219,
          0.7602985830225906,
          0.7470104829436096,
          0.7317576032726947,
          0.683108451455064,
          0.6591006933476155,
          0.6192061714537357,
          0.5417358175090595,
          0.4721692769547645,
          0.45344199361990145,
          0.40756831092207396,
          0.3431087935100654,
          0.2979689152760472,
          0.24166035810499117,
          0.1829932910361309,
          0.1137129292319171
         ]
        }
       ],
       "layout": {
        "template": {
         "data": {
          "bar": [
           {
            "error_x": {
             "color": "#2a3f5f"
            },
            "error_y": {
             "color": "#2a3f5f"
            },
            "marker": {
             "line": {
              "color": "#E5ECF6",
              "width": 0.5
             }
            },
            "type": "bar"
           }
          ],
          "barpolar": [
           {
            "marker": {
             "line": {
              "color": "#E5ECF6",
              "width": 0.5
             }
            },
            "type": "barpolar"
           }
          ],
          "carpet": [
           {
            "aaxis": {
             "endlinecolor": "#2a3f5f",
             "gridcolor": "white",
             "linecolor": "white",
             "minorgridcolor": "white",
             "startlinecolor": "#2a3f5f"
            },
            "baxis": {
             "endlinecolor": "#2a3f5f",
             "gridcolor": "white",
             "linecolor": "white",
             "minorgridcolor": "white",
             "startlinecolor": "#2a3f5f"
            },
            "type": "carpet"
           }
          ],
          "choropleth": [
           {
            "colorbar": {
             "outlinewidth": 0,
             "ticks": ""
            },
            "type": "choropleth"
           }
          ],
          "contour": [
           {
            "colorbar": {
             "outlinewidth": 0,
             "ticks": ""
            },
            "colorscale": [
             [
              0,
              "#0d0887"
             ],
             [
              0.1111111111111111,
              "#46039f"
             ],
             [
              0.2222222222222222,
              "#7201a8"
             ],
             [
              0.3333333333333333,
              "#9c179e"
             ],
             [
              0.4444444444444444,
              "#bd3786"
             ],
             [
              0.5555555555555556,
              "#d8576b"
             ],
             [
              0.6666666666666666,
              "#ed7953"
             ],
             [
              0.7777777777777778,
              "#fb9f3a"
             ],
             [
              0.8888888888888888,
              "#fdca26"
             ],
             [
              1,
              "#f0f921"
             ]
            ],
            "type": "contour"
           }
          ],
          "contourcarpet": [
           {
            "colorbar": {
             "outlinewidth": 0,
             "ticks": ""
            },
            "type": "contourcarpet"
           }
          ],
          "heatmap": [
           {
            "colorbar": {
             "outlinewidth": 0,
             "ticks": ""
            },
            "colorscale": [
             [
              0,
              "#0d0887"
             ],
             [
              0.1111111111111111,
              "#46039f"
             ],
             [
              0.2222222222222222,
              "#7201a8"
             ],
             [
              0.3333333333333333,
              "#9c179e"
             ],
             [
              0.4444444444444444,
              "#bd3786"
             ],
             [
              0.5555555555555556,
              "#d8576b"
             ],
             [
              0.6666666666666666,
              "#ed7953"
             ],
             [
              0.7777777777777778,
              "#fb9f3a"
             ],
             [
              0.8888888888888888,
              "#fdca26"
             ],
             [
              1,
              "#f0f921"
             ]
            ],
            "type": "heatmap"
           }
          ],
          "heatmapgl": [
           {
            "colorbar": {
             "outlinewidth": 0,
             "ticks": ""
            },
            "colorscale": [
             [
              0,
              "#0d0887"
             ],
             [
              0.1111111111111111,
              "#46039f"
             ],
             [
              0.2222222222222222,
              "#7201a8"
             ],
             [
              0.3333333333333333,
              "#9c179e"
             ],
             [
              0.4444444444444444,
              "#bd3786"
             ],
             [
              0.5555555555555556,
              "#d8576b"
             ],
             [
              0.6666666666666666,
              "#ed7953"
             ],
             [
              0.7777777777777778,
              "#fb9f3a"
             ],
             [
              0.8888888888888888,
              "#fdca26"
             ],
             [
              1,
              "#f0f921"
             ]
            ],
            "type": "heatmapgl"
           }
          ],
          "histogram": [
           {
            "marker": {
             "colorbar": {
              "outlinewidth": 0,
              "ticks": ""
             }
            },
            "type": "histogram"
           }
          ],
          "histogram2d": [
           {
            "colorbar": {
             "outlinewidth": 0,
             "ticks": ""
            },
            "colorscale": [
             [
              0,
              "#0d0887"
             ],
             [
              0.1111111111111111,
              "#46039f"
             ],
             [
              0.2222222222222222,
              "#7201a8"
             ],
             [
              0.3333333333333333,
              "#9c179e"
             ],
             [
              0.4444444444444444,
              "#bd3786"
             ],
             [
              0.5555555555555556,
              "#d8576b"
             ],
             [
              0.6666666666666666,
              "#ed7953"
             ],
             [
              0.7777777777777778,
              "#fb9f3a"
             ],
             [
              0.8888888888888888,
              "#fdca26"
             ],
             [
              1,
              "#f0f921"
             ]
            ],
            "type": "histogram2d"
           }
          ],
          "histogram2dcontour": [
           {
            "colorbar": {
             "outlinewidth": 0,
             "ticks": ""
            },
            "colorscale": [
             [
              0,
              "#0d0887"
             ],
             [
              0.1111111111111111,
              "#46039f"
             ],
             [
              0.2222222222222222,
              "#7201a8"
             ],
             [
              0.3333333333333333,
              "#9c179e"
             ],
             [
              0.4444444444444444,
              "#bd3786"
             ],
             [
              0.5555555555555556,
              "#d8576b"
             ],
             [
              0.6666666666666666,
              "#ed7953"
             ],
             [
              0.7777777777777778,
              "#fb9f3a"
             ],
             [
              0.8888888888888888,
              "#fdca26"
             ],
             [
              1,
              "#f0f921"
             ]
            ],
            "type": "histogram2dcontour"
           }
          ],
          "mesh3d": [
           {
            "colorbar": {
             "outlinewidth": 0,
             "ticks": ""
            },
            "type": "mesh3d"
           }
          ],
          "parcoords": [
           {
            "line": {
             "colorbar": {
              "outlinewidth": 0,
              "ticks": ""
             }
            },
            "type": "parcoords"
           }
          ],
          "pie": [
           {
            "automargin": true,
            "type": "pie"
           }
          ],
          "scatter": [
           {
            "marker": {
             "colorbar": {
              "outlinewidth": 0,
              "ticks": ""
             }
            },
            "type": "scatter"
           }
          ],
          "scatter3d": [
           {
            "line": {
             "colorbar": {
              "outlinewidth": 0,
              "ticks": ""
             }
            },
            "marker": {
             "colorbar": {
              "outlinewidth": 0,
              "ticks": ""
             }
            },
            "type": "scatter3d"
           }
          ],
          "scattercarpet": [
           {
            "marker": {
             "colorbar": {
              "outlinewidth": 0,
              "ticks": ""
             }
            },
            "type": "scattercarpet"
           }
          ],
          "scattergeo": [
           {
            "marker": {
             "colorbar": {
              "outlinewidth": 0,
              "ticks": ""
             }
            },
            "type": "scattergeo"
           }
          ],
          "scattergl": [
           {
            "marker": {
             "colorbar": {
              "outlinewidth": 0,
              "ticks": ""
             }
            },
            "type": "scattergl"
           }
          ],
          "scattermapbox": [
           {
            "marker": {
             "colorbar": {
              "outlinewidth": 0,
              "ticks": ""
             }
            },
            "type": "scattermapbox"
           }
          ],
          "scatterpolar": [
           {
            "marker": {
             "colorbar": {
              "outlinewidth": 0,
              "ticks": ""
             }
            },
            "type": "scatterpolar"
           }
          ],
          "scatterpolargl": [
           {
            "marker": {
             "colorbar": {
              "outlinewidth": 0,
              "ticks": ""
             }
            },
            "type": "scatterpolargl"
           }
          ],
          "scatterternary": [
           {
            "marker": {
             "colorbar": {
              "outlinewidth": 0,
              "ticks": ""
             }
            },
            "type": "scatterternary"
           }
          ],
          "surface": [
           {
            "colorbar": {
             "outlinewidth": 0,
             "ticks": ""
            },
            "colorscale": [
             [
              0,
              "#0d0887"
             ],
             [
              0.1111111111111111,
              "#46039f"
             ],
             [
              0.2222222222222222,
              "#7201a8"
             ],
             [
              0.3333333333333333,
              "#9c179e"
             ],
             [
              0.4444444444444444,
              "#bd3786"
             ],
             [
              0.5555555555555556,
              "#d8576b"
             ],
             [
              0.6666666666666666,
              "#ed7953"
             ],
             [
              0.7777777777777778,
              "#fb9f3a"
             ],
             [
              0.8888888888888888,
              "#fdca26"
             ],
             [
              1,
              "#f0f921"
             ]
            ],
            "type": "surface"
           }
          ],
          "table": [
           {
            "cells": {
             "fill": {
              "color": "#EBF0F8"
             },
             "line": {
              "color": "white"
             }
            },
            "header": {
             "fill": {
              "color": "#C8D4E3"
             },
             "line": {
              "color": "white"
             }
            },
            "type": "table"
           }
          ]
         },
         "layout": {
          "annotationdefaults": {
           "arrowcolor": "#2a3f5f",
           "arrowhead": 0,
           "arrowwidth": 1
          },
          "autotypenumbers": "strict",
          "coloraxis": {
           "colorbar": {
            "outlinewidth": 0,
            "ticks": ""
           }
          },
          "colorscale": {
           "diverging": [
            [
             0,
             "#8e0152"
            ],
            [
             0.1,
             "#c51b7d"
            ],
            [
             0.2,
             "#de77ae"
            ],
            [
             0.3,
             "#f1b6da"
            ],
            [
             0.4,
             "#fde0ef"
            ],
            [
             0.5,
             "#f7f7f7"
            ],
            [
             0.6,
             "#e6f5d0"
            ],
            [
             0.7,
             "#b8e186"
            ],
            [
             0.8,
             "#7fbc41"
            ],
            [
             0.9,
             "#4d9221"
            ],
            [
             1,
             "#276419"
            ]
           ],
           "sequential": [
            [
             0,
             "#0d0887"
            ],
            [
             0.1111111111111111,
             "#46039f"
            ],
            [
             0.2222222222222222,
             "#7201a8"
            ],
            [
             0.3333333333333333,
             "#9c179e"
            ],
            [
             0.4444444444444444,
             "#bd3786"
            ],
            [
             0.5555555555555556,
             "#d8576b"
            ],
            [
             0.6666666666666666,
             "#ed7953"
            ],
            [
             0.7777777777777778,
             "#fb9f3a"
            ],
            [
             0.8888888888888888,
             "#fdca26"
            ],
            [
             1,
             "#f0f921"
            ]
           ],
           "sequentialminus": [
            [
             0,
             "#0d0887"
            ],
            [
             0.1111111111111111,
             "#46039f"
            ],
            [
             0.2222222222222222,
             "#7201a8"
            ],
            [
             0.3333333333333333,
             "#9c179e"
            ],
            [
             0.4444444444444444,
             "#bd3786"
            ],
            [
             0.5555555555555556,
             "#d8576b"
            ],
            [
             0.6666666666666666,
             "#ed7953"
            ],
            [
             0.7777777777777778,
             "#fb9f3a"
            ],
            [
             0.8888888888888888,
             "#fdca26"
            ],
            [
             1,
             "#f0f921"
            ]
           ]
          },
          "colorway": [
           "#636efa",
           "#EF553B",
           "#00cc96",
           "#ab63fa",
           "#FFA15A",
           "#19d3f3",
           "#FF6692",
           "#B6E880",
           "#FF97FF",
           "#FECB52"
          ],
          "font": {
           "color": "#2a3f5f"
          },
          "geo": {
           "bgcolor": "white",
           "lakecolor": "white",
           "landcolor": "#E5ECF6",
           "showlakes": true,
           "showland": true,
           "subunitcolor": "white"
          },
          "hoverlabel": {
           "align": "left"
          },
          "hovermode": "closest",
          "mapbox": {
           "style": "light"
          },
          "paper_bgcolor": "white",
          "plot_bgcolor": "#E5ECF6",
          "polar": {
           "angularaxis": {
            "gridcolor": "white",
            "linecolor": "white",
            "ticks": ""
           },
           "bgcolor": "#E5ECF6",
           "radialaxis": {
            "gridcolor": "white",
            "linecolor": "white",
            "ticks": ""
           }
          },
          "scene": {
           "xaxis": {
            "backgroundcolor": "#E5ECF6",
            "gridcolor": "white",
            "gridwidth": 2,
            "linecolor": "white",
            "showbackground": true,
            "ticks": "",
            "zerolinecolor": "white"
           },
           "yaxis": {
            "backgroundcolor": "#E5ECF6",
            "gridcolor": "white",
            "gridwidth": 2,
            "linecolor": "white",
            "showbackground": true,
            "ticks": "",
            "zerolinecolor": "white"
           },
           "zaxis": {
            "backgroundcolor": "#E5ECF6",
            "gridcolor": "white",
            "gridwidth": 2,
            "linecolor": "white",
            "showbackground": true,
            "ticks": "",
            "zerolinecolor": "white"
           }
          },
          "shapedefaults": {
           "line": {
            "color": "#2a3f5f"
           }
          },
          "ternary": {
           "aaxis": {
            "gridcolor": "white",
            "linecolor": "white",
            "ticks": ""
           },
           "baxis": {
            "gridcolor": "white",
            "linecolor": "white",
            "ticks": ""
           },
           "bgcolor": "#E5ECF6",
           "caxis": {
            "gridcolor": "white",
            "linecolor": "white",
            "ticks": ""
           }
          },
          "title": {
           "x": 0.05
          },
          "xaxis": {
           "automargin": true,
           "gridcolor": "white",
           "linecolor": "white",
           "ticks": "",
           "title": {
            "standoff": 15
           },
           "zerolinecolor": "white",
           "zerolinewidth": 2
          },
          "yaxis": {
           "automargin": true,
           "gridcolor": "white",
           "linecolor": "white",
           "ticks": "",
           "title": {
            "standoff": 15
           },
           "zerolinecolor": "white",
           "zerolinewidth": 2
          }
         }
        },
        "xaxis": {
         "title": {
          "text": "Normalized Prediction"
         }
        },
        "yaxis": {
         "title": {
          "text": "Normalized Target"
         }
        }
       }
      },
      "text/html": [
       "<div>                            <div id=\"e1388c40-ed80-47cc-9e68-eae2c8f7bfb2\" class=\"plotly-graph-div\" style=\"height:525px; width:100%;\"></div>            <script type=\"text/javascript\">                require([\"plotly\"], function(Plotly) {                    window.PLOTLYENV=window.PLOTLYENV || {};                                    if (document.getElementById(\"e1388c40-ed80-47cc-9e68-eae2c8f7bfb2\")) {                    Plotly.newPlot(                        \"e1388c40-ed80-47cc-9e68-eae2c8f7bfb2\",                        [{\"mode\": \"markers+lines\", \"showlegend\": false, \"type\": \"scatter\", \"x\": [0, 1], \"y\": [0, 1]}, {\"line\": {\"color\": \"#2E91E5\"}, \"mode\": \"markers+lines\", \"showlegend\": false, \"type\": \"scatter\", \"x\": [0.8004459738731384, 0.7939339280128479, 0.7867699265480042, 0.7743207812309265, 0.762940526008606, 0.7494980692863464, 0.7346397042274475, 0.687213122844696, 0.6616243124008179, 0.6295580267906189, 0.5573216676712036, 0.5007521510124207, 0.5090718269348145, 0.49971017241477966, 0.46521222591400146, 0.4774409830570221, 0.4772093594074249, 0.47356101870536804, 0.48165223002433777], \"y\": [0.8012846600702722, 0.7965745544571075, 0.7855744354316629, 0.7762296493015381, 0.7658417498174189, 0.7533857149074488, 0.739758625389513, 0.7003371068840425, 0.6848679225921975, 0.6637608535475261, 0.6320618140627422, 0.6081937876422313, 0.6023247983847567, 0.5888015601616349, 0.5722482607018117, 0.5625166279669344, 0.5515043945902027, 0.5392495586434386, 0.5251785927547221]}, {\"line\": {\"color\": \"#1616A7\"}, \"mode\": \"markers+lines\", \"showlegend\": false, \"type\": \"scatter\", \"x\": [0.8006229996681213, 0.7940585613250732, 0.7868937253952026, 0.7744829654693604, 0.7631810307502747, 0.7496770024299622, 0.7346855401992798, 0.6858347058296204, 0.6592797636985779, 0.6266844868659973, 0.5528674125671387, 0.49498406052589417, 0.4986567795276642, 0.48527082800865173, 0.44784554839134216, 0.45518094301223755, 0.44848981499671936, 0.43677833676338196, 0.4348185360431671], \"y\": [0.801771630953918, 0.7971430132760708, 0.786027213528088, 0.7763537881515707, 0.7654471019912137, 0.7527328853930773, 0.7384322880624186, 0.6979820286673085, 0.6823355422286506, 0.6613271731288535, 0.6287556656265371, 0.6030939966863549, 0.5966809828267801, 0.581936630088189, 0.5642832701538233, 0.5540101166964485, 0.5426820674051366, 0.5300745096239057, 0.5159929479283865]}, {\"line\": {\"color\": \"#6C7C32\"}, \"mode\": \"markers+lines\", \"showlegend\": false, \"type\": \"scatter\", \"x\": [0.8006609082221985, 0.7940764427185059, 0.7868931889533997, 0.7746250033378601, 0.7634110450744629, 0.7499560713768005, 0.735004723072052, 0.6857741475105286, 0.6586855053901672, 0.625695526599884, 0.5515409111976624, 0.4927082359790802, 0.48787370324134827, 0.46941742300987244, 0.4303814470767975, 0.4309494197368622, 0.4185574948787689, 0.40112289786338806, 0.3911127746105194], \"y\": [0.8007958783762446, 0.7960504466663311, 0.7848990387716737, 0.7752135597399548, 0.7640732817929747, 0.7510285005275694, 0.7366578149526942, 0.6947654590537619, 0.6782266808239499, 0.6551022424287306, 0.61749564682756, 0.5869459399701017, 0.5792801886662864, 0.5617940245500803, 0.5408171261470656, 0.5288068412657101, 0.5154473830665673, 0.5006795344035225, 0.48406299980881917]}, {\"line\": {\"color\": \"#511CFB\"}, \"mode\": \"markers+lines\", \"showlegend\": false, \"type\": \"scatter\", \"x\": [0.8007542490959167, 0.7941405177116394, 0.7869454026222229, 0.7747877836227417, 0.7636244297027588, 0.7501745820045471, 0.7351822257041931, 0.6858581304550171, 0.6586191058158875, 0.6255260109901428, 0.5511461496353149, 0.4920063316822052, 0.4800627529621124, 0.4578939974308014, 0.41837260127067566, 0.41318199038505554, 0.3972081243991852, 0.3756972849369049, 0.3605651557445526], \"y\": [0.8000047266822845, 0.7953018742052598, 0.7840222379127901, 0.7741968904884525, 0.762914049600502, 0.749836039207304, 0.7351846290092229, 0.692321324271819, 0.6750204189932545, 0.6497542690125064, 0.6074506378130432, 0.5723679958109212, 0.5635297700305706, 0.5434002180826687, 0.5192781711028828, 0.505353604315916, 0.49002152473091193, 0.47282229902573564, 0.4534360111109155]}, {\"line\": {\"color\": \"#DA16FF\"}, \"mode\": \"markers+lines\", \"showlegend\": false, \"type\": \"scatter\", \"x\": [0.8001773953437805, 0.793666422367096, 0.7864821553230286, 0.7743850946426392, 0.7632644772529602, 0.7499635815620422, 0.735355019569397, 0.6884748339653015, 0.6637895703315735, 0.6334459185600281, 0.5651179552078247, 0.5089062452316284, 0.49527525901794434, 0.4730304777622223, 0.43306973576545715, 0.42749983072280884, 0.412335067987442, 0.3896036148071289, 0.37309661507606506], \"y\": [0.8037097724571528, 0.799109584863615, 0.787765416504384, 0.7779439629673409, 0.7668559297855326, 0.7540427785490487, 0.7397436897650621, 0.6992156541592065, 0.6822321310333512, 0.6574001948593172, 0.61490652610115, 0.5792619238381165, 0.5703173454339371, 0.5497714607160856, 0.5251812778952473, 0.5109963182441816, 0.4952268758323761, 0.47760482284708405, 0.4576306877411749]}, {\"line\": {\"color\": \"#AF0038\"}, \"mode\": \"markers+lines\", \"showlegend\": false, \"type\": \"scatter\", \"x\": [0.8002668619155884, 0.7937454581260681, 0.7864862084388733, 0.7742042541503906, 0.7629056572914124, 0.7494622468948364, 0.7346672415733337, 0.6874536871910095, 0.6619810461997986, 0.6308781504631042, 0.5618917942047119, 0.5018821358680725, 0.48285865783691406, 0.4560989439487457, 0.4150484502315521, 0.4044806957244873, 0.3852226138114929, 0.35893628001213074, 0.33819741010665894], \"y\": [0.8018805402296985, 0.7972697401615209, 0.7859955312057907, 0.7760688372297976, 0.7648583723357268, 0.7518568757944727, 0.7375217344083432, 0.6952987531902265, 0.6771488636587661, 0.6497335125475103, 0.6016874550284477, 0.5610311466777033, 0.5507374794839245, 0.5272296522219803, 0.49879868706252745, 0.48228366961985725, 0.4637567596766153, 0.4427016564973233, 0.4183427913227799]}, {\"line\": {\"color\": \"#620042\"}, \"mode\": \"markers+lines\", \"showlegend\": false, \"type\": \"scatter\", \"x\": [0.8007737398147583, 0.794052243232727, 0.7867308259010315, 0.7743851542472839, 0.7630138993263245, 0.7494738101959229, 0.734419047832489, 0.6852356791496277, 0.6577700972557068, 0.624119758605957, 0.5509019494056702, 0.485818088054657, 0.46133360266685486, 0.42952215671539307, 0.3864303231239319, 0.3690555989742279, 0.3436555564403534, 0.3133704960346222, 0.2875373661518097], \"y\": [0.7989511826000697, 0.7942508437286608, 0.782876831376537, 0.7728156869684687, 0.7615197546128478, 0.7482272254620181, 0.7333725476042294, 0.6882802095768671, 0.6682449293925267, 0.637530815170518, 0.582127917132847, 0.5348292753781272, 0.5228085560307786, 0.49496388956882503, 0.46120322673419856, 0.4410545362568818, 0.4179857800496126, 0.39121541609015603, 0.3590810004545334]}, {\"line\": {\"color\": \"#B2828D\"}, \"mode\": \"markers+lines\", \"showlegend\": false, \"type\": \"scatter\", \"x\": [0.8002113103866577, 0.7936827540397644, 0.7863844633102417, 0.7741127610206604, 0.7628871202468872, 0.7495701313018799, 0.734885573387146, 0.6873772740364075, 0.6620215773582458, 0.6306987404823303, 0.5618795156478882, 0.4996616840362549, 0.4776608645915985, 0.44764506816864014, 0.4028238356113434, 0.3861256539821625, 0.3616674840450287, 0.32915759086608887, 0.3021746575832367], \"y\": [0.8018981186334282, 0.7973005111847782, 0.7859205996234859, 0.7758664669705536, 0.7646202268292628, 0.7515917704526074, 0.7371090084673005, 0.6939745629238563, 0.6746510628134161, 0.6446663923803575, 0.5897154051298709, 0.5426258283822044, 0.5306293953288339, 0.5031276617335859, 0.4692313302842245, 0.4488451956685445, 0.4256752542816528, 0.39861680051834447, 0.3657740256607941]}, {\"line\": {\"color\": \"#EB663B\"}, \"mode\": \"markers+lines\", \"showlegend\": false, \"type\": \"scatter\", \"x\": [0.8006623387336731, 0.794029176235199, 0.7866893410682678, 0.7743144631385803, 0.762991726398468, 0.7494907975196838, 0.7345649600028992, 0.6851398348808289, 0.6577101349830627, 0.6239014863967896, 0.5499000549316406, 0.4818094074726105, 0.45429152250289917, 0.41860485076904297, 0.3721635639667511, 0.34738340973854065, 0.31515538692474365, 0.278866708278656, 0.24623766541481018], \"y\": [0.7986112088199768, 0.7937984877674856, 0.7823903395580123, 0.7723284278161393, 0.7609971186145007, 0.7478155761184643, 0.7327755263093718, 0.6865252218234354, 0.6650307006707286, 0.6312753760888252, 0.5682096999034618, 0.5139051374849349, 0.4998255851288804, 0.4674113015573039, 0.4263451325966948, 0.4010490410287305, 0.3710305444152524, 0.3346725589418349, 0.28857594257046015]}, {\"line\": {\"color\": \"#FB0D0D\"}, \"mode\": \"markers+lines\", \"showlegend\": false, \"type\": \"scatter\", \"x\": [0.8006018400192261, 0.7940340638160706, 0.7867267727851868, 0.7744483351707458, 0.7632461786270142, 0.7497759461402893, 0.7348505258560181, 0.6854363679885864, 0.6577896475791931, 0.62370365858078, 0.5480816960334778, 0.4790900647640228, 0.45034563541412354, 0.41090741753578186, 0.3606289029121399, 0.33123356103897095, 0.2923972010612488, 0.2505123019218445, 0.2126373052597046], \"y\": [0.7984248175630706, 0.7936797010779199, 0.7822171553947576, 0.7721343877749824, 0.7607188808984837, 0.7475035353532777, 0.7325065122696912, 0.6854462179611998, 0.6632040698905619, 0.6274500993757447, 0.5600235154212656, 0.501003061681781, 0.48567896426522517, 0.4494863126107569, 0.40254066606009464, 0.37277755778887367, 0.3364851459862175, 0.2903439035592611, 0.23458435842481862]}, {\"line\": {\"color\": \"#0D2A63\"}, \"mode\": \"markers+lines\", \"showlegend\": false, \"type\": \"scatter\", \"x\": [0.8007028102874756, 0.7941295504570007, 0.7868072986602783, 0.7745866775512695, 0.7634268403053284, 0.7499401569366455, 0.734968900680542, 0.6854400634765625, 0.6573991179466248, 0.6229297518730164, 0.5461599826812744, 0.47537049651145935, 0.443817675113678, 0.40024593472480774, 0.34614327549934387, 0.3101898431777954, 0.26367029547691345, 0.2161165475845337, 0.1735227108001709], \"y\": [0.797809264913636, 0.7929765978107982, 0.7815339569373825, 0.771442817318418, 0.7599643827069432, 0.7466476022473804, 0.7314421543329862, 0.6835370489825766, 0.6602878023936316, 0.6223995698007169, 0.5494341437823241, 0.48490565332803376, 0.46793876995759753, 0.42696871577537276, 0.3717373818612624, 0.3353159208557454, 0.2886144353425736, 0.23242273851511844, 0.17546433938312425]}, {\"line\": {\"color\": \"#A777F1\"}, \"mode\": \"markers+lines\", \"showlegend\": false, \"type\": \"scatter\", \"x\": [0.8007052540779114, 0.7941295504570007, 0.7868353128433228, 0.7746185660362244, 0.7634608745574951, 0.749993622303009, 0.7350941300392151, 0.68597012758255, 0.6582395434379578, 0.623340368270874, 0.5450553894042969, 0.47325578331947327, 0.44039419293403625, 0.39281943440437317, 0.3334410786628723, 0.2902125120162964, 0.23585978150367737, 0.182807058095932, 0.13813403248786926], \"y\": [0.7980747601833771, 0.7932847525362764, 0.7817671666384525, 0.7716807938307219, 0.7602985830225906, 0.7470104829436096, 0.7317576032726947, 0.683108451455064, 0.6591006933476155, 0.6192061714537357, 0.5417358175090595, 0.4721692769547645, 0.45344199361990145, 0.40756831092207396, 0.3431087935100654, 0.2979689152760472, 0.24166035810499117, 0.1829932910361309, 0.1137129292319171]}],                        {\"template\": {\"data\": {\"bar\": [{\"error_x\": {\"color\": \"#2a3f5f\"}, \"error_y\": {\"color\": \"#2a3f5f\"}, \"marker\": {\"line\": {\"color\": \"#E5ECF6\", \"width\": 0.5}}, \"type\": \"bar\"}], \"barpolar\": [{\"marker\": {\"line\": {\"color\": \"#E5ECF6\", \"width\": 0.5}}, \"type\": \"barpolar\"}], \"carpet\": [{\"aaxis\": {\"endlinecolor\": \"#2a3f5f\", \"gridcolor\": \"white\", \"linecolor\": \"white\", \"minorgridcolor\": \"white\", \"startlinecolor\": \"#2a3f5f\"}, \"baxis\": {\"endlinecolor\": \"#2a3f5f\", \"gridcolor\": \"white\", \"linecolor\": \"white\", \"minorgridcolor\": \"white\", \"startlinecolor\": \"#2a3f5f\"}, \"type\": \"carpet\"}], \"choropleth\": [{\"colorbar\": {\"outlinewidth\": 0, \"ticks\": \"\"}, \"type\": \"choropleth\"}], \"contour\": [{\"colorbar\": {\"outlinewidth\": 0, \"ticks\": \"\"}, \"colorscale\": [[0.0, \"#0d0887\"], [0.1111111111111111, \"#46039f\"], [0.2222222222222222, \"#7201a8\"], [0.3333333333333333, \"#9c179e\"], [0.4444444444444444, \"#bd3786\"], [0.5555555555555556, \"#d8576b\"], [0.6666666666666666, \"#ed7953\"], [0.7777777777777778, \"#fb9f3a\"], [0.8888888888888888, \"#fdca26\"], [1.0, \"#f0f921\"]], \"type\": \"contour\"}], \"contourcarpet\": [{\"colorbar\": {\"outlinewidth\": 0, \"ticks\": \"\"}, \"type\": \"contourcarpet\"}], \"heatmap\": [{\"colorbar\": {\"outlinewidth\": 0, \"ticks\": \"\"}, \"colorscale\": [[0.0, \"#0d0887\"], [0.1111111111111111, \"#46039f\"], [0.2222222222222222, \"#7201a8\"], [0.3333333333333333, \"#9c179e\"], [0.4444444444444444, \"#bd3786\"], [0.5555555555555556, \"#d8576b\"], [0.6666666666666666, \"#ed7953\"], [0.7777777777777778, \"#fb9f3a\"], [0.8888888888888888, \"#fdca26\"], [1.0, \"#f0f921\"]], \"type\": \"heatmap\"}], \"heatmapgl\": [{\"colorbar\": {\"outlinewidth\": 0, \"ticks\": \"\"}, \"colorscale\": [[0.0, \"#0d0887\"], [0.1111111111111111, \"#46039f\"], [0.2222222222222222, \"#7201a8\"], [0.3333333333333333, \"#9c179e\"], [0.4444444444444444, \"#bd3786\"], [0.5555555555555556, \"#d8576b\"], [0.6666666666666666, \"#ed7953\"], [0.7777777777777778, \"#fb9f3a\"], [0.8888888888888888, \"#fdca26\"], [1.0, \"#f0f921\"]], \"type\": \"heatmapgl\"}], \"histogram\": [{\"marker\": {\"colorbar\": {\"outlinewidth\": 0, \"ticks\": \"\"}}, \"type\": \"histogram\"}], \"histogram2d\": [{\"colorbar\": {\"outlinewidth\": 0, \"ticks\": \"\"}, \"colorscale\": [[0.0, \"#0d0887\"], [0.1111111111111111, \"#46039f\"], [0.2222222222222222, \"#7201a8\"], [0.3333333333333333, \"#9c179e\"], [0.4444444444444444, \"#bd3786\"], [0.5555555555555556, \"#d8576b\"], [0.6666666666666666, \"#ed7953\"], [0.7777777777777778, \"#fb9f3a\"], [0.8888888888888888, \"#fdca26\"], [1.0, \"#f0f921\"]], \"type\": \"histogram2d\"}], \"histogram2dcontour\": [{\"colorbar\": {\"outlinewidth\": 0, \"ticks\": \"\"}, \"colorscale\": [[0.0, \"#0d0887\"], [0.1111111111111111, \"#46039f\"], [0.2222222222222222, \"#7201a8\"], [0.3333333333333333, \"#9c179e\"], [0.4444444444444444, \"#bd3786\"], [0.5555555555555556, \"#d8576b\"], [0.6666666666666666, \"#ed7953\"], [0.7777777777777778, \"#fb9f3a\"], [0.8888888888888888, \"#fdca26\"], [1.0, \"#f0f921\"]], \"type\": \"histogram2dcontour\"}], \"mesh3d\": [{\"colorbar\": {\"outlinewidth\": 0, \"ticks\": \"\"}, \"type\": \"mesh3d\"}], \"parcoords\": [{\"line\": {\"colorbar\": {\"outlinewidth\": 0, \"ticks\": \"\"}}, \"type\": \"parcoords\"}], \"pie\": [{\"automargin\": true, \"type\": \"pie\"}], \"scatter\": [{\"marker\": {\"colorbar\": {\"outlinewidth\": 0, \"ticks\": \"\"}}, \"type\": \"scatter\"}], \"scatter3d\": [{\"line\": {\"colorbar\": {\"outlinewidth\": 0, \"ticks\": \"\"}}, \"marker\": {\"colorbar\": {\"outlinewidth\": 0, \"ticks\": \"\"}}, \"type\": \"scatter3d\"}], \"scattercarpet\": [{\"marker\": {\"colorbar\": {\"outlinewidth\": 0, \"ticks\": \"\"}}, \"type\": \"scattercarpet\"}], \"scattergeo\": [{\"marker\": {\"colorbar\": {\"outlinewidth\": 0, \"ticks\": \"\"}}, \"type\": \"scattergeo\"}], \"scattergl\": [{\"marker\": {\"colorbar\": {\"outlinewidth\": 0, \"ticks\": \"\"}}, \"type\": \"scattergl\"}], \"scattermapbox\": [{\"marker\": {\"colorbar\": {\"outlinewidth\": 0, \"ticks\": \"\"}}, \"type\": \"scattermapbox\"}], \"scatterpolar\": [{\"marker\": {\"colorbar\": {\"outlinewidth\": 0, \"ticks\": \"\"}}, \"type\": \"scatterpolar\"}], \"scatterpolargl\": [{\"marker\": {\"colorbar\": {\"outlinewidth\": 0, \"ticks\": \"\"}}, \"type\": \"scatterpolargl\"}], \"scatterternary\": [{\"marker\": {\"colorbar\": {\"outlinewidth\": 0, \"ticks\": \"\"}}, \"type\": \"scatterternary\"}], \"surface\": [{\"colorbar\": {\"outlinewidth\": 0, \"ticks\": \"\"}, \"colorscale\": [[0.0, \"#0d0887\"], [0.1111111111111111, \"#46039f\"], [0.2222222222222222, \"#7201a8\"], [0.3333333333333333, \"#9c179e\"], [0.4444444444444444, \"#bd3786\"], [0.5555555555555556, \"#d8576b\"], [0.6666666666666666, \"#ed7953\"], [0.7777777777777778, \"#fb9f3a\"], [0.8888888888888888, \"#fdca26\"], [1.0, \"#f0f921\"]], \"type\": \"surface\"}], \"table\": [{\"cells\": {\"fill\": {\"color\": \"#EBF0F8\"}, \"line\": {\"color\": \"white\"}}, \"header\": {\"fill\": {\"color\": \"#C8D4E3\"}, \"line\": {\"color\": \"white\"}}, \"type\": \"table\"}]}, \"layout\": {\"annotationdefaults\": {\"arrowcolor\": \"#2a3f5f\", \"arrowhead\": 0, \"arrowwidth\": 1}, \"autotypenumbers\": \"strict\", \"coloraxis\": {\"colorbar\": {\"outlinewidth\": 0, \"ticks\": \"\"}}, \"colorscale\": {\"diverging\": [[0, \"#8e0152\"], [0.1, \"#c51b7d\"], [0.2, \"#de77ae\"], [0.3, \"#f1b6da\"], [0.4, \"#fde0ef\"], [0.5, \"#f7f7f7\"], [0.6, \"#e6f5d0\"], [0.7, \"#b8e186\"], [0.8, \"#7fbc41\"], [0.9, \"#4d9221\"], [1, \"#276419\"]], \"sequential\": [[0.0, \"#0d0887\"], [0.1111111111111111, \"#46039f\"], [0.2222222222222222, \"#7201a8\"], [0.3333333333333333, \"#9c179e\"], [0.4444444444444444, \"#bd3786\"], [0.5555555555555556, \"#d8576b\"], [0.6666666666666666, \"#ed7953\"], [0.7777777777777778, \"#fb9f3a\"], [0.8888888888888888, \"#fdca26\"], [1.0, \"#f0f921\"]], \"sequentialminus\": [[0.0, \"#0d0887\"], [0.1111111111111111, \"#46039f\"], [0.2222222222222222, \"#7201a8\"], [0.3333333333333333, \"#9c179e\"], [0.4444444444444444, \"#bd3786\"], [0.5555555555555556, \"#d8576b\"], [0.6666666666666666, \"#ed7953\"], [0.7777777777777778, \"#fb9f3a\"], [0.8888888888888888, \"#fdca26\"], [1.0, \"#f0f921\"]]}, \"colorway\": [\"#636efa\", \"#EF553B\", \"#00cc96\", \"#ab63fa\", \"#FFA15A\", \"#19d3f3\", \"#FF6692\", \"#B6E880\", \"#FF97FF\", \"#FECB52\"], \"font\": {\"color\": \"#2a3f5f\"}, \"geo\": {\"bgcolor\": \"white\", \"lakecolor\": \"white\", \"landcolor\": \"#E5ECF6\", \"showlakes\": true, \"showland\": true, \"subunitcolor\": \"white\"}, \"hoverlabel\": {\"align\": \"left\"}, \"hovermode\": \"closest\", \"mapbox\": {\"style\": \"light\"}, \"paper_bgcolor\": \"white\", \"plot_bgcolor\": \"#E5ECF6\", \"polar\": {\"angularaxis\": {\"gridcolor\": \"white\", \"linecolor\": \"white\", \"ticks\": \"\"}, \"bgcolor\": \"#E5ECF6\", \"radialaxis\": {\"gridcolor\": \"white\", \"linecolor\": \"white\", \"ticks\": \"\"}}, \"scene\": {\"xaxis\": {\"backgroundcolor\": \"#E5ECF6\", \"gridcolor\": \"white\", \"gridwidth\": 2, \"linecolor\": \"white\", \"showbackground\": true, \"ticks\": \"\", \"zerolinecolor\": \"white\"}, \"yaxis\": {\"backgroundcolor\": \"#E5ECF6\", \"gridcolor\": \"white\", \"gridwidth\": 2, \"linecolor\": \"white\", \"showbackground\": true, \"ticks\": \"\", \"zerolinecolor\": \"white\"}, \"zaxis\": {\"backgroundcolor\": \"#E5ECF6\", \"gridcolor\": \"white\", \"gridwidth\": 2, \"linecolor\": \"white\", \"showbackground\": true, \"ticks\": \"\", \"zerolinecolor\": \"white\"}}, \"shapedefaults\": {\"line\": {\"color\": \"#2a3f5f\"}}, \"ternary\": {\"aaxis\": {\"gridcolor\": \"white\", \"linecolor\": \"white\", \"ticks\": \"\"}, \"baxis\": {\"gridcolor\": \"white\", \"linecolor\": \"white\", \"ticks\": \"\"}, \"bgcolor\": \"#E5ECF6\", \"caxis\": {\"gridcolor\": \"white\", \"linecolor\": \"white\", \"ticks\": \"\"}}, \"title\": {\"x\": 0.05}, \"xaxis\": {\"automargin\": true, \"gridcolor\": \"white\", \"linecolor\": \"white\", \"ticks\": \"\", \"title\": {\"standoff\": 15}, \"zerolinecolor\": \"white\", \"zerolinewidth\": 2}, \"yaxis\": {\"automargin\": true, \"gridcolor\": \"white\", \"linecolor\": \"white\", \"ticks\": \"\", \"title\": {\"standoff\": 15}, \"zerolinecolor\": \"white\", \"zerolinewidth\": 2}}}, \"xaxis\": {\"title\": {\"text\": \"Normalized Prediction\"}}, \"yaxis\": {\"title\": {\"text\": \"Normalized Target\"}}},                        {\"responsive\": true}                    ).then(function(){\n",
       "                            \n",
       "var gd = document.getElementById('e1388c40-ed80-47cc-9e68-eae2c8f7bfb2');\n",
       "var x = new MutationObserver(function (mutations, observer) {{\n",
       "        var display = window.getComputedStyle(gd).display;\n",
       "        if (!display || display === 'none') {{\n",
       "            console.log([gd, 'removed!']);\n",
       "            Plotly.purge(gd);\n",
       "            observer.disconnect();\n",
       "        }}\n",
       "}});\n",
       "\n",
       "// Listen for the removal of the full notebook cells\n",
       "var notebookContainer = gd.closest('#notebook-container');\n",
       "if (notebookContainer) {{\n",
       "    x.observe(notebookContainer, {childList: true});\n",
       "}}\n",
       "\n",
       "// Listen for the clearing of the current output cell\n",
       "var outputEl = gd.closest('.output');\n",
       "if (outputEl) {{\n",
       "    x.observe(outputEl, {childList: true});\n",
       "}}\n",
       "\n",
       "                        })                };                });            </script>        </div>"
      ]
     },
     "metadata": {},
     "output_type": "display_data"
    }
   ],
   "source": [
    "pallete = plotly.colors.qualitative.Dark24*10\n",
    "\n",
    "fig = go.Figure()\n",
    "fig.add_trace(go.Scatter(x = [0,1], y = [0,1], showlegend=False, mode=\"markers+lines\"))\n",
    "\n",
    "for i in range(0, len(X_test), batch_size):\n",
    "    fig.add_trace(go.Scatter(x = model.predict(X_test[i:i+batch_size]).flatten(), \n",
    "                             y = y_test[i:i+batch_size], \n",
    "                             showlegend=False, mode=\"markers+lines\", \n",
    "                             line_color = pallete[i]))\n",
    "fig.update_yaxes(title='Normalized Target')\n",
    "fig.update_xaxes(title='Normalized Prediction')"
   ]
  },
  {
   "cell_type": "code",
   "execution_count": 38,
   "id": "5a02331f",
   "metadata": {},
   "outputs": [
    {
     "data": {
      "application/vnd.plotly.v1+json": {
       "config": {
        "plotlyServerURL": "https://plot.ly"
       },
       "data": [
        {
         "line": {
          "color": "#2E91E5"
         },
         "mode": "lines",
         "name": "data",
         "type": "scatter",
         "x": [
          0,
          0.0125,
          0.025,
          0.075,
          0.1,
          0.2,
          0.3,
          0.4,
          0.5,
          0.6,
          0.8,
          0.85,
          0.9,
          0.95,
          0.975,
          0.98,
          0.99,
          1,
          1.005,
          1.01,
          1.015,
          1.02
         ],
         "y": [
          3.1820554561124355,
          3.174519287131372,
          3.1569190966906606,
          3.141967438882461,
          3.12534679970787,
          3.105417143851918,
          3.0836138006232208,
          3.020539371014468,
          2.995788676147516,
          2.962017365676042,
          2.9112989025003877,
          2.87311006022757,
          2.863719677415611,
          2.842082496258616,
          2.8155972171228987,
          2.800026604747095,
          2.7824070313443245,
          2.762799293829502,
          2.7402857484075556
         ]
        },
        {
         "line": {
          "color": "#2E91E5"
         },
         "mode": "markers",
         "name": "prediction",
         "type": "scatter",
         "x": [
          0,
          0.0125,
          0.025,
          0.075,
          0.1,
          0.2,
          0.3,
          0.4,
          0.5,
          0.6,
          0.8,
          0.85,
          0.9,
          0.95,
          0.975,
          0.98,
          0.99,
          1,
          1.005,
          1.01,
          1.015,
          1.02
         ],
         "y": [
          3.180771827697754,
          3.170407772064209,
          3.158825397491455,
          3.1392531394958496,
          3.121260404586792,
          3.099858283996582,
          3.076512098312378,
          3.0004005432128906,
          2.9588093757629395,
          2.9072070121765137,
          2.795024871826172,
          2.7098827362060547,
          2.715479850769043,
          2.7116518020629883,
          2.6526870727539062,
          2.665517807006836,
          2.6940722465515137,
          2.6840226650238037,
          2.699343204498291
         ]
        },
        {
         "line": {
          "color": "#1616A7"
         },
         "mode": "lines",
         "name": "data",
         "type": "scatter",
         "x": [
          0,
          0.0125,
          0.025,
          0.075,
          0.1,
          0.2,
          0.3,
          0.4,
          0.5,
          0.6,
          0.8,
          0.85,
          0.9,
          0.95,
          0.975,
          0.98,
          0.99,
          1,
          1.005,
          1.01,
          1.015,
          1.02
         ],
         "y": [
          3.1828346095262687,
          3.1754288212417134,
          3.1576435416449407,
          3.1421660610425133,
          3.124715363185942,
          3.1043726166289236,
          3.0814916608998697,
          3.0167712458676936,
          2.991736867565841,
          2.9581234770061657,
          2.9060090650024595,
          2.864950394698168,
          2.8546895725228483,
          2.8310986081411023,
          2.8028532322461173,
          2.786416186714318,
          2.7682913078482185,
          2.748119215398249,
          2.7255887166854182
         ]
        },
        {
         "line": {
          "color": "#1616A7"
         },
         "mode": "markers",
         "name": "prediction",
         "type": "scatter",
         "x": [
          0,
          0.0125,
          0.025,
          0.075,
          0.1,
          0.2,
          0.3,
          0.4,
          0.5,
          0.6,
          0.8,
          0.85,
          0.9,
          0.95,
          0.975,
          0.98,
          0.99,
          1,
          1.005,
          1.01,
          1.015,
          1.02
         ],
         "y": [
          3.1810402870178223,
          3.170603036880493,
          3.159080743789673,
          3.1394362449645996,
          3.121370315551758,
          3.0997724533081055,
          3.0761172771453857,
          2.998056650161743,
          2.955122470855713,
          2.902790069580078,
          2.7883381843566895,
          2.6988303661346436,
          2.6956229209899902,
          2.6855239868164062,
          2.6277101039886475,
          2.631701946258545,
          2.645307779312134,
          2.631200075149536,
          2.6328372955322266
         ]
        },
        {
         "line": {
          "color": "#6C7C32"
         },
         "mode": "lines",
         "name": "data",
         "type": "scatter",
         "x": [
          0,
          0.0125,
          0.025,
          0.075,
          0.1,
          0.2,
          0.3,
          0.4,
          0.5,
          0.6,
          0.8,
          0.85,
          0.9,
          0.95,
          0.975,
          0.98,
          0.99,
          1,
          1.005,
          1.01,
          1.015,
          1.02
         ],
         "y": [
          3.181273405401991,
          3.17368071466613,
          3.1558384620346778,
          3.1403416955839276,
          3.1225172508687598,
          3.101645600844111,
          3.0786525039243107,
          3.011624734486019,
          2.9851626893183196,
          2.948163587885969,
          2.887993034924096,
          2.839113503952163,
          2.8268483018660584,
          2.7988704392801287,
          2.765307401835305,
          2.746090946025136,
          2.7247158129065077,
          2.701087255045636,
          2.6745007996941106
         ]
        },
        {
         "line": {
          "color": "#6C7C32"
         },
         "mode": "markers",
         "name": "prediction",
         "type": "scatter",
         "x": [
          0,
          0.0125,
          0.025,
          0.075,
          0.1,
          0.2,
          0.3,
          0.4,
          0.5,
          0.6,
          0.8,
          0.85,
          0.9,
          0.95,
          0.975,
          0.98,
          0.99,
          1,
          1.005,
          1.01,
          1.015,
          1.02
         ],
         "y": [
          3.181101083755493,
          3.170620918273926,
          3.1590983867645264,
          3.139575958251953,
          3.1215548515319824,
          3.100015640258789,
          3.0763766765594482,
          2.9976582527160645,
          2.954092025756836,
          2.901202917098999,
          2.7848970890045166,
          2.692305326461792,
          2.6775786876678467,
          2.657029628753662,
          2.5927867889404297,
          2.5873918533325195,
          2.5865540504455566,
          2.5585572719573975,
          2.5439705848693848
         ]
        },
        {
         "line": {
          "color": "#511CFB"
         },
         "mode": "lines",
         "name": "data",
         "type": "scatter",
         "x": [
          0,
          0.0125,
          0.025,
          0.075,
          0.1,
          0.2,
          0.3,
          0.4,
          0.5,
          0.6,
          0.8,
          0.85,
          0.9,
          0.95,
          0.975,
          0.98,
          0.99,
          1,
          1.005,
          1.01,
          1.015,
          1.02
         ],
         "y": [
          3.1800075626916553,
          3.1724829987284155,
          3.154435580660464,
          3.138715024781524,
          3.1206624793608033,
          3.0997376627316866,
          3.0762954064147565,
          3.0077141188349104,
          2.980032670389207,
          2.9396068304200105,
          2.871921020500869,
          2.815788793297474,
          2.8016476320489128,
          2.76944034893227,
          2.7308450737646126,
          2.7085657669054655,
          2.684034439569459,
          2.6565156784411768,
          2.625497617777465
         ]
        },
        {
         "line": {
          "color": "#511CFB"
         },
         "mode": "markers",
         "name": "prediction",
         "type": "scatter",
         "x": [
          0,
          0.0125,
          0.025,
          0.075,
          0.1,
          0.2,
          0.3,
          0.4,
          0.5,
          0.6,
          0.8,
          0.85,
          0.9,
          0.95,
          0.975,
          0.98,
          0.99,
          1,
          1.005,
          1.01,
          1.015,
          1.02
         ],
         "y": [
          3.1812491416931152,
          3.17071533203125,
          3.1591877937316895,
          3.1397674083709717,
          3.1217966079711914,
          3.10028076171875,
          3.076564073562622,
          2.9976086616516113,
          2.9539406299591064,
          2.900947093963623,
          2.7832274436950684,
          2.68945050239563,
          2.664571762084961,
          2.636540412902832,
          2.5700817108154297,
          2.556546449661255,
          2.5453293323516846,
          2.508516788482666,
          2.4841184616088867
         ]
        },
        {
         "line": {
          "color": "#DA16FF"
         },
         "mode": "lines",
         "name": "data",
         "type": "scatter",
         "x": [
          0,
          0.0125,
          0.025,
          0.075,
          0.1,
          0.2,
          0.3,
          0.4,
          0.5,
          0.6,
          0.8,
          0.85,
          0.9,
          0.95,
          0.975,
          0.98,
          0.99,
          1,
          1.005,
          1.01,
          1.015,
          1.02
         ],
         "y": [
          3.1859356359314446,
          3.178575335781784,
          3.1604246664070144,
          3.1447103407477455,
          3.126969487656852,
          3.1064684456784777,
          3.083589903624099,
          3.0187450466547303,
          2.991571409653362,
          2.9518403117749075,
          2.8838504417618402,
          2.8268190781409865,
          2.8125077526942994,
          2.779634337145737,
          2.7402900446323954,
          2.7175941091906903,
          2.6923630013318016,
          2.6641677165553346,
          2.6322091003858796
         ]
        },
        {
         "line": {
          "color": "#DA16FF"
         },
         "mode": "markers",
         "name": "prediction",
         "type": "scatter",
         "x": [
          0,
          0.0125,
          0.025,
          0.075,
          0.1,
          0.2,
          0.3,
          0.4,
          0.5,
          0.6,
          0.8,
          0.85,
          0.9,
          0.95,
          0.975,
          0.98,
          0.99,
          1,
          1.005,
          1.01,
          1.015,
          1.02
         ],
         "y": [
          3.180323600769043,
          3.1699488162994385,
          3.1584465503692627,
          3.1390771865844727,
          3.121173858642578,
          3.099914073944092,
          3.0768003463745117,
          3.001709222793579,
          2.9621849060058594,
          2.913618326187134,
          2.804927110671997,
          2.7156550884246826,
          2.6888725757598877,
          2.6597442626953125,
          2.5919456481933594,
          2.5778069496154785,
          2.5667951107025146,
          2.527402400970459,
          2.5011534690856934
         ]
        },
        {
         "line": {
          "color": "#AF0038"
         },
         "mode": "lines",
         "name": "data",
         "type": "scatter",
         "x": [
          0,
          0.0125,
          0.025,
          0.075,
          0.1,
          0.2,
          0.3,
          0.4,
          0.5,
          0.6,
          0.8,
          0.85,
          0.9,
          0.95,
          0.975,
          0.98,
          0.99,
          1,
          1.005,
          1.01,
          1.015,
          1.02
         ],
         "y": [
          3.1830088643675176,
          3.1756315842584333,
          3.157592849929265,
          3.1417101395676763,
          3.123773395737163,
          3.102971001271156,
          3.080034775053349,
          3.012478005104362,
          2.9834381818540257,
          2.9395736200760165,
          2.862699928045516,
          2.797649834684325,
          2.781179967174279,
          2.7435674435551682,
          2.698077899300044,
          2.6716538713917717,
          2.6420108154825845,
          2.608322650395717,
          2.569348466116448
         ]
        },
        {
         "line": {
          "color": "#AF0038"
         },
         "mode": "markers",
         "name": "prediction",
         "type": "scatter",
         "x": [
          0,
          0.0125,
          0.025,
          0.075,
          0.1,
          0.2,
          0.3,
          0.4,
          0.5,
          0.6,
          0.8,
          0.85,
          0.9,
          0.95,
          0.975,
          0.98,
          0.99,
          1,
          1.005,
          1.01,
          1.015,
          1.02
         ],
         "y": [
          3.180464744567871,
          3.170069694519043,
          3.1584527492523193,
          3.13875675201416,
          3.120574712753296,
          3.0991008281707764,
          3.0756876468658447,
          3.0000436305999756,
          2.959282398223877,
          2.909510612487793,
          2.799480676651001,
          2.7040951251983643,
          2.669520378112793,
          2.6322643756866455,
          2.5629782676696777,
          2.5423052310943604,
          2.521390676498413,
          2.476494312286377,
          2.4433038234710693
         ]
        },
        {
         "line": {
          "color": "#620042"
         },
         "mode": "lines",
         "name": "data",
         "type": "scatter",
         "x": [
          0,
          0.0125,
          0.025,
          0.075,
          0.1,
          0.2,
          0.3,
          0.4,
          0.5,
          0.6,
          0.8,
          0.85,
          0.9,
          0.95,
          0.975,
          0.98,
          0.99,
          1,
          1.005,
          1.01,
          1.015,
          1.02
         ],
         "y": [
          3.1783218921601115,
          3.170801349965857,
          3.152602930202459,
          3.13650509914955,
          3.1184316073805567,
          3.097163560739229,
          3.073396076166767,
          3.0012483353229875,
          2.9691918870280425,
          2.920049304272829,
          2.831404667412555,
          2.7557268406050035,
          2.7364936896492456,
          2.69194222331012,
          2.637925162774718,
          2.605687258011011,
          2.56877724807938,
          2.5259446657442495,
          2.4745296007272533
         ]
        },
        {
         "line": {
          "color": "#620042"
         },
         "mode": "markers",
         "name": "prediction",
         "type": "scatter",
         "x": [
          0,
          0.0125,
          0.025,
          0.075,
          0.1,
          0.2,
          0.3,
          0.4,
          0.5,
          0.6,
          0.8,
          0.85,
          0.9,
          0.95,
          0.975,
          0.98,
          0.99,
          1,
          1.005,
          1.01,
          1.015,
          1.02
         ],
         "y": [
          3.181273937225342,
          3.170555830001831,
          3.1588423252105713,
          3.1390247344970703,
          3.120736837387085,
          3.099116086959839,
          3.075287103652954,
          2.996488094329834,
          2.9525418281555176,
          2.898693084716797,
          2.7817792892456055,
          2.6782493591308594,
          2.6356310844421387,
          2.5894789695739746,
          2.5175375938415527,
          2.487374782562256,
          2.453151226043701,
          2.4024534225463867,
          2.360971689224243
         ]
        },
        {
         "line": {
          "color": "#B2828D"
         },
         "mode": "lines",
         "name": "data",
         "type": "scatter",
         "x": [
          0,
          0.0125,
          0.025,
          0.075,
          0.1,
          0.2,
          0.3,
          0.4,
          0.5,
          0.6,
          0.8,
          0.85,
          0.9,
          0.95,
          0.975,
          0.98,
          0.99,
          1,
          1.005,
          1.01,
          1.015,
          1.02
         ],
         "y": [
          3.183036989813485,
          3.1756808178956453,
          3.1574729593975777,
          3.141386347152886,
          3.1233923629268205,
          3.1025468327241716,
          3.079374413547681,
          3.0103593006781697,
          2.9794417005014657,
          2.931466227808572,
          2.8435446482077933,
          2.768201325411527,
          2.7490070325261344,
          2.7050042587737373,
          2.6507701284547593,
          2.6181523130696713,
          2.5810804068506443,
          2.5377868808293513,
          2.4852384410572705
         ]
        },
        {
         "line": {
          "color": "#B2828D"
         },
         "mode": "markers",
         "name": "prediction",
         "type": "scatter",
         "x": [
          0,
          0.0125,
          0.025,
          0.075,
          0.1,
          0.2,
          0.3,
          0.4,
          0.5,
          0.6,
          0.8,
          0.85,
          0.9,
          0.95,
          0.975,
          0.98,
          0.99,
          1,
          1.005,
          1.01,
          1.015,
          1.02
         ],
         "y": [
          3.1803715229034424,
          3.16995906829834,
          3.158285140991211,
          3.1385772228240967,
          3.120532274246216,
          3.099271774291992,
          3.076021194458008,
          2.999903440475464,
          2.959326982498169,
          2.9091989994049072,
          2.7992358207702637,
          2.700364112854004,
          2.6619949340820312,
          2.6182403564453125,
          2.5434911251068115,
          2.514220952987671,
          2.4817633628845215,
          2.4273581504821777,
          2.384351968765259
         ]
        },
        {
         "line": {
          "color": "#EB663B"
         },
         "mode": "lines",
         "name": "data",
         "type": "scatter",
         "x": [
          0,
          0.0125,
          0.025,
          0.075,
          0.1,
          0.2,
          0.3,
          0.4,
          0.5,
          0.6,
          0.8,
          0.85,
          0.9,
          0.95,
          0.975,
          0.98,
          0.99,
          1,
          1.005,
          1.01,
          1.015,
          1.02
         ],
         "y": [
          3.1777779341119627,
          3.170077580427977,
          3.1518245432928196,
          3.135725484505823,
          3.117595389783201,
          3.096504921789543,
          3.072440842094995,
          2.9984403549174967,
          2.964049121073166,
          2.9100406017421205,
          2.809135519845539,
          2.7222482199758957,
          2.6997209362062087,
          2.647858082491686,
          2.582152212154712,
          2.541678465645969,
          2.493648871064404,
          2.435476094306936,
          2.361721508112736
         ]
        },
        {
         "line": {
          "color": "#EB663B"
         },
         "mode": "markers",
         "name": "prediction",
         "type": "scatter",
         "x": [
          0,
          0.0125,
          0.025,
          0.075,
          0.1,
          0.2,
          0.3,
          0.4,
          0.5,
          0.6,
          0.8,
          0.85,
          0.9,
          0.95,
          0.975,
          0.98,
          0.99,
          1,
          1.005,
          1.01,
          1.015,
          1.02
         ],
         "y": [
          3.1810922622680664,
          3.1705102920532227,
          3.1587705612182617,
          3.13889217376709,
          3.120698928833008,
          3.0991458892822266,
          3.0755062103271484,
          2.9963228702545166,
          2.9524238109588623,
          2.8983163833618164,
          2.780117988586426,
          2.6718027591705322,
          2.6251134872436523,
          2.5713720321655273,
          2.494788646697998,
          2.4539129734039307,
          2.405728578567505,
          2.3462939262390137,
          2.2940192222595215
         ]
        },
        {
         "line": {
          "color": "#FB0D0D"
         },
         "mode": "lines",
         "name": "data",
         "type": "scatter",
         "x": [
          0,
          0.0125,
          0.025,
          0.075,
          0.1,
          0.2,
          0.3,
          0.4,
          0.5,
          0.6,
          0.8,
          0.85,
          0.9,
          0.95,
          0.975,
          0.98,
          0.99,
          1,
          1.005,
          1.01,
          1.015,
          1.02
         ],
         "y": [
          3.177479708100913,
          3.1698875217246716,
          3.151547448631612,
          3.135415020439972,
          3.117150209437574,
          3.0960056565652443,
          3.072010419631506,
          2.9967139487379195,
          2.961126511824899,
          2.903920159001191,
          2.796037624674025,
          2.7016048986908494,
          2.67708634282436,
          2.619178100177211,
          2.5440650656961514,
          2.496444092462198,
          2.438376233577948,
          2.3645502456948178,
          2.2753349734797097
         ]
        },
        {
         "line": {
          "color": "#FB0D0D"
         },
         "mode": "markers",
         "name": "prediction",
         "type": "scatter",
         "x": [
          0,
          0.0125,
          0.025,
          0.075,
          0.1,
          0.2,
          0.3,
          0.4,
          0.5,
          0.6,
          0.8,
          0.85,
          0.9,
          0.95,
          0.975,
          0.98,
          0.99,
          1,
          1.005,
          1.01,
          1.015,
          1.02
         ],
         "y": [
          3.1809937953948975,
          3.170513868331909,
          3.158827304840088,
          3.139101982116699,
          3.1211085319519043,
          3.099604606628418,
          3.0759568214416504,
          2.9967918395996094,
          2.9525411128997803,
          2.8979878425598145,
          2.7772085666656494,
          2.667402982711792,
          2.619063377380371,
          2.558816432952881,
          2.4764347076416016,
          2.4284608364105225,
          2.3688769340515137,
          2.300797939300537,
          2.2401723861694336
         ]
        },
        {
         "line": {
          "color": "#0D2A63"
         },
         "mode": "lines",
         "name": "data",
         "type": "scatter",
         "x": [
          0,
          0.0125,
          0.025,
          0.075,
          0.1,
          0.2,
          0.3,
          0.4,
          0.5,
          0.6,
          0.8,
          0.85,
          0.9,
          0.95,
          0.975,
          0.98,
          0.99,
          1,
          1.005,
          1.01,
          1.015,
          1.02
         ],
         "y": [
          3.176494823861818,
          3.1687625564972772,
          3.150454331099812,
          3.134308507709469,
          3.115943012331109,
          3.0946361635958084,
          3.0703074469327776,
          2.9936592783721228,
          2.9564604838298107,
          2.895839311681147,
          2.7790946300517185,
          2.675849045324854,
          2.648702031932156,
          2.5831499452405966,
          2.4947798109780197,
          2.4365054733691927,
          2.361783096548118,
          2.2718763816241894,
          2.1807429430129988
         ]
        },
        {
         "line": {
          "color": "#0D2A63"
         },
         "mode": "markers",
         "name": "prediction",
         "type": "scatter",
         "x": [
          0,
          0.0125,
          0.025,
          0.075,
          0.1,
          0.2,
          0.3,
          0.4,
          0.5,
          0.6,
          0.8,
          0.85,
          0.9,
          0.95,
          0.975,
          0.98,
          0.99,
          1,
          1.005,
          1.01,
          1.015,
          1.02
         ],
         "y": [
          3.1811540126800537,
          3.170663833618164,
          3.1589534282684326,
          3.1393210887908936,
          3.1214005947113037,
          3.099869728088379,
          3.0761404037475586,
          2.9967920780181885,
          2.951907157897949,
          2.8967392444610596,
          2.7741434574127197,
          2.661416530609131,
          2.6088998317718506,
          2.5414645671844482,
          2.453383684158325,
          2.395324230194092,
          2.3223838806152344,
          2.245680809020996,
          2.1775176525115967
         ]
        },
        {
         "line": {
          "color": "#A777F1"
         },
         "mode": "lines",
         "name": "data",
         "type": "scatter",
         "x": [
          0,
          0.0125,
          0.025,
          0.075,
          0.1,
          0.2,
          0.3,
          0.4,
          0.5,
          0.6,
          0.8,
          0.85,
          0.9,
          0.95,
          0.975,
          0.98,
          0.99,
          1,
          1.005,
          1.01,
          1.015,
          1.02
         ],
         "y": [
          3.1769196162934032,
          3.1692556040580424,
          3.150827466621524,
          3.134689270129155,
          3.116477732836145,
          3.095216772709775,
          3.0708121652363114,
          2.9929735223281027,
          2.9545611093561845,
          2.8907298743259773,
          2.766777308014495,
          2.655470843127623,
          2.6255071897918425,
          2.5521092974753183,
          2.4489740696161046,
          2.3767502644416756,
          2.2866565729679857,
          2.1927892656578094,
          2.0819406867710675
         ]
        },
        {
         "line": {
          "color": "#A777F1"
         },
         "mode": "markers",
         "name": "prediction",
         "type": "scatter",
         "x": [
          0,
          0.0125,
          0.025,
          0.075,
          0.1,
          0.2,
          0.3,
          0.4,
          0.5,
          0.6,
          0.8,
          0.85,
          0.9,
          0.95,
          0.975,
          0.98,
          0.99,
          1,
          1.005,
          1.01,
          1.015,
          1.02
         ],
         "y": [
          3.181156635284424,
          3.170660972595215,
          3.1589956283569336,
          3.139370918273926,
          3.121458053588867,
          3.0999581813812256,
          3.076333999633789,
          2.9976329803466797,
          2.953242063522339,
          2.8973870277404785,
          2.772378444671631,
          2.6579785346984863,
          2.6036455631256104,
          2.5293312072753906,
          2.433140754699707,
          2.3636345863342285,
          2.2776079177856445,
          2.192394495010376,
          2.1209423542022705
         ]
        }
       ],
       "layout": {
        "template": {
         "data": {
          "bar": [
           {
            "error_x": {
             "color": "#2a3f5f"
            },
            "error_y": {
             "color": "#2a3f5f"
            },
            "marker": {
             "line": {
              "color": "#E5ECF6",
              "width": 0.5
             }
            },
            "type": "bar"
           }
          ],
          "barpolar": [
           {
            "marker": {
             "line": {
              "color": "#E5ECF6",
              "width": 0.5
             }
            },
            "type": "barpolar"
           }
          ],
          "carpet": [
           {
            "aaxis": {
             "endlinecolor": "#2a3f5f",
             "gridcolor": "white",
             "linecolor": "white",
             "minorgridcolor": "white",
             "startlinecolor": "#2a3f5f"
            },
            "baxis": {
             "endlinecolor": "#2a3f5f",
             "gridcolor": "white",
             "linecolor": "white",
             "minorgridcolor": "white",
             "startlinecolor": "#2a3f5f"
            },
            "type": "carpet"
           }
          ],
          "choropleth": [
           {
            "colorbar": {
             "outlinewidth": 0,
             "ticks": ""
            },
            "type": "choropleth"
           }
          ],
          "contour": [
           {
            "colorbar": {
             "outlinewidth": 0,
             "ticks": ""
            },
            "colorscale": [
             [
              0,
              "#0d0887"
             ],
             [
              0.1111111111111111,
              "#46039f"
             ],
             [
              0.2222222222222222,
              "#7201a8"
             ],
             [
              0.3333333333333333,
              "#9c179e"
             ],
             [
              0.4444444444444444,
              "#bd3786"
             ],
             [
              0.5555555555555556,
              "#d8576b"
             ],
             [
              0.6666666666666666,
              "#ed7953"
             ],
             [
              0.7777777777777778,
              "#fb9f3a"
             ],
             [
              0.8888888888888888,
              "#fdca26"
             ],
             [
              1,
              "#f0f921"
             ]
            ],
            "type": "contour"
           }
          ],
          "contourcarpet": [
           {
            "colorbar": {
             "outlinewidth": 0,
             "ticks": ""
            },
            "type": "contourcarpet"
           }
          ],
          "heatmap": [
           {
            "colorbar": {
             "outlinewidth": 0,
             "ticks": ""
            },
            "colorscale": [
             [
              0,
              "#0d0887"
             ],
             [
              0.1111111111111111,
              "#46039f"
             ],
             [
              0.2222222222222222,
              "#7201a8"
             ],
             [
              0.3333333333333333,
              "#9c179e"
             ],
             [
              0.4444444444444444,
              "#bd3786"
             ],
             [
              0.5555555555555556,
              "#d8576b"
             ],
             [
              0.6666666666666666,
              "#ed7953"
             ],
             [
              0.7777777777777778,
              "#fb9f3a"
             ],
             [
              0.8888888888888888,
              "#fdca26"
             ],
             [
              1,
              "#f0f921"
             ]
            ],
            "type": "heatmap"
           }
          ],
          "heatmapgl": [
           {
            "colorbar": {
             "outlinewidth": 0,
             "ticks": ""
            },
            "colorscale": [
             [
              0,
              "#0d0887"
             ],
             [
              0.1111111111111111,
              "#46039f"
             ],
             [
              0.2222222222222222,
              "#7201a8"
             ],
             [
              0.3333333333333333,
              "#9c179e"
             ],
             [
              0.4444444444444444,
              "#bd3786"
             ],
             [
              0.5555555555555556,
              "#d8576b"
             ],
             [
              0.6666666666666666,
              "#ed7953"
             ],
             [
              0.7777777777777778,
              "#fb9f3a"
             ],
             [
              0.8888888888888888,
              "#fdca26"
             ],
             [
              1,
              "#f0f921"
             ]
            ],
            "type": "heatmapgl"
           }
          ],
          "histogram": [
           {
            "marker": {
             "colorbar": {
              "outlinewidth": 0,
              "ticks": ""
             }
            },
            "type": "histogram"
           }
          ],
          "histogram2d": [
           {
            "colorbar": {
             "outlinewidth": 0,
             "ticks": ""
            },
            "colorscale": [
             [
              0,
              "#0d0887"
             ],
             [
              0.1111111111111111,
              "#46039f"
             ],
             [
              0.2222222222222222,
              "#7201a8"
             ],
             [
              0.3333333333333333,
              "#9c179e"
             ],
             [
              0.4444444444444444,
              "#bd3786"
             ],
             [
              0.5555555555555556,
              "#d8576b"
             ],
             [
              0.6666666666666666,
              "#ed7953"
             ],
             [
              0.7777777777777778,
              "#fb9f3a"
             ],
             [
              0.8888888888888888,
              "#fdca26"
             ],
             [
              1,
              "#f0f921"
             ]
            ],
            "type": "histogram2d"
           }
          ],
          "histogram2dcontour": [
           {
            "colorbar": {
             "outlinewidth": 0,
             "ticks": ""
            },
            "colorscale": [
             [
              0,
              "#0d0887"
             ],
             [
              0.1111111111111111,
              "#46039f"
             ],
             [
              0.2222222222222222,
              "#7201a8"
             ],
             [
              0.3333333333333333,
              "#9c179e"
             ],
             [
              0.4444444444444444,
              "#bd3786"
             ],
             [
              0.5555555555555556,
              "#d8576b"
             ],
             [
              0.6666666666666666,
              "#ed7953"
             ],
             [
              0.7777777777777778,
              "#fb9f3a"
             ],
             [
              0.8888888888888888,
              "#fdca26"
             ],
             [
              1,
              "#f0f921"
             ]
            ],
            "type": "histogram2dcontour"
           }
          ],
          "mesh3d": [
           {
            "colorbar": {
             "outlinewidth": 0,
             "ticks": ""
            },
            "type": "mesh3d"
           }
          ],
          "parcoords": [
           {
            "line": {
             "colorbar": {
              "outlinewidth": 0,
              "ticks": ""
             }
            },
            "type": "parcoords"
           }
          ],
          "pie": [
           {
            "automargin": true,
            "type": "pie"
           }
          ],
          "scatter": [
           {
            "marker": {
             "colorbar": {
              "outlinewidth": 0,
              "ticks": ""
             }
            },
            "type": "scatter"
           }
          ],
          "scatter3d": [
           {
            "line": {
             "colorbar": {
              "outlinewidth": 0,
              "ticks": ""
             }
            },
            "marker": {
             "colorbar": {
              "outlinewidth": 0,
              "ticks": ""
             }
            },
            "type": "scatter3d"
           }
          ],
          "scattercarpet": [
           {
            "marker": {
             "colorbar": {
              "outlinewidth": 0,
              "ticks": ""
             }
            },
            "type": "scattercarpet"
           }
          ],
          "scattergeo": [
           {
            "marker": {
             "colorbar": {
              "outlinewidth": 0,
              "ticks": ""
             }
            },
            "type": "scattergeo"
           }
          ],
          "scattergl": [
           {
            "marker": {
             "colorbar": {
              "outlinewidth": 0,
              "ticks": ""
             }
            },
            "type": "scattergl"
           }
          ],
          "scattermapbox": [
           {
            "marker": {
             "colorbar": {
              "outlinewidth": 0,
              "ticks": ""
             }
            },
            "type": "scattermapbox"
           }
          ],
          "scatterpolar": [
           {
            "marker": {
             "colorbar": {
              "outlinewidth": 0,
              "ticks": ""
             }
            },
            "type": "scatterpolar"
           }
          ],
          "scatterpolargl": [
           {
            "marker": {
             "colorbar": {
              "outlinewidth": 0,
              "ticks": ""
             }
            },
            "type": "scatterpolargl"
           }
          ],
          "scatterternary": [
           {
            "marker": {
             "colorbar": {
              "outlinewidth": 0,
              "ticks": ""
             }
            },
            "type": "scatterternary"
           }
          ],
          "surface": [
           {
            "colorbar": {
             "outlinewidth": 0,
             "ticks": ""
            },
            "colorscale": [
             [
              0,
              "#0d0887"
             ],
             [
              0.1111111111111111,
              "#46039f"
             ],
             [
              0.2222222222222222,
              "#7201a8"
             ],
             [
              0.3333333333333333,
              "#9c179e"
             ],
             [
              0.4444444444444444,
              "#bd3786"
             ],
             [
              0.5555555555555556,
              "#d8576b"
             ],
             [
              0.6666666666666666,
              "#ed7953"
             ],
             [
              0.7777777777777778,
              "#fb9f3a"
             ],
             [
              0.8888888888888888,
              "#fdca26"
             ],
             [
              1,
              "#f0f921"
             ]
            ],
            "type": "surface"
           }
          ],
          "table": [
           {
            "cells": {
             "fill": {
              "color": "#EBF0F8"
             },
             "line": {
              "color": "white"
             }
            },
            "header": {
             "fill": {
              "color": "#C8D4E3"
             },
             "line": {
              "color": "white"
             }
            },
            "type": "table"
           }
          ]
         },
         "layout": {
          "annotationdefaults": {
           "arrowcolor": "#2a3f5f",
           "arrowhead": 0,
           "arrowwidth": 1
          },
          "autotypenumbers": "strict",
          "coloraxis": {
           "colorbar": {
            "outlinewidth": 0,
            "ticks": ""
           }
          },
          "colorscale": {
           "diverging": [
            [
             0,
             "#8e0152"
            ],
            [
             0.1,
             "#c51b7d"
            ],
            [
             0.2,
             "#de77ae"
            ],
            [
             0.3,
             "#f1b6da"
            ],
            [
             0.4,
             "#fde0ef"
            ],
            [
             0.5,
             "#f7f7f7"
            ],
            [
             0.6,
             "#e6f5d0"
            ],
            [
             0.7,
             "#b8e186"
            ],
            [
             0.8,
             "#7fbc41"
            ],
            [
             0.9,
             "#4d9221"
            ],
            [
             1,
             "#276419"
            ]
           ],
           "sequential": [
            [
             0,
             "#0d0887"
            ],
            [
             0.1111111111111111,
             "#46039f"
            ],
            [
             0.2222222222222222,
             "#7201a8"
            ],
            [
             0.3333333333333333,
             "#9c179e"
            ],
            [
             0.4444444444444444,
             "#bd3786"
            ],
            [
             0.5555555555555556,
             "#d8576b"
            ],
            [
             0.6666666666666666,
             "#ed7953"
            ],
            [
             0.7777777777777778,
             "#fb9f3a"
            ],
            [
             0.8888888888888888,
             "#fdca26"
            ],
            [
             1,
             "#f0f921"
            ]
           ],
           "sequentialminus": [
            [
             0,
             "#0d0887"
            ],
            [
             0.1111111111111111,
             "#46039f"
            ],
            [
             0.2222222222222222,
             "#7201a8"
            ],
            [
             0.3333333333333333,
             "#9c179e"
            ],
            [
             0.4444444444444444,
             "#bd3786"
            ],
            [
             0.5555555555555556,
             "#d8576b"
            ],
            [
             0.6666666666666666,
             "#ed7953"
            ],
            [
             0.7777777777777778,
             "#fb9f3a"
            ],
            [
             0.8888888888888888,
             "#fdca26"
            ],
            [
             1,
             "#f0f921"
            ]
           ]
          },
          "colorway": [
           "#636efa",
           "#EF553B",
           "#00cc96",
           "#ab63fa",
           "#FFA15A",
           "#19d3f3",
           "#FF6692",
           "#B6E880",
           "#FF97FF",
           "#FECB52"
          ],
          "font": {
           "color": "#2a3f5f"
          },
          "geo": {
           "bgcolor": "white",
           "lakecolor": "white",
           "landcolor": "#E5ECF6",
           "showlakes": true,
           "showland": true,
           "subunitcolor": "white"
          },
          "hoverlabel": {
           "align": "left"
          },
          "hovermode": "closest",
          "mapbox": {
           "style": "light"
          },
          "paper_bgcolor": "white",
          "plot_bgcolor": "#E5ECF6",
          "polar": {
           "angularaxis": {
            "gridcolor": "white",
            "linecolor": "white",
            "ticks": ""
           },
           "bgcolor": "#E5ECF6",
           "radialaxis": {
            "gridcolor": "white",
            "linecolor": "white",
            "ticks": ""
           }
          },
          "scene": {
           "xaxis": {
            "backgroundcolor": "#E5ECF6",
            "gridcolor": "white",
            "gridwidth": 2,
            "linecolor": "white",
            "showbackground": true,
            "ticks": "",
            "zerolinecolor": "white"
           },
           "yaxis": {
            "backgroundcolor": "#E5ECF6",
            "gridcolor": "white",
            "gridwidth": 2,
            "linecolor": "white",
            "showbackground": true,
            "ticks": "",
            "zerolinecolor": "white"
           },
           "zaxis": {
            "backgroundcolor": "#E5ECF6",
            "gridcolor": "white",
            "gridwidth": 2,
            "linecolor": "white",
            "showbackground": true,
            "ticks": "",
            "zerolinecolor": "white"
           }
          },
          "shapedefaults": {
           "line": {
            "color": "#2a3f5f"
           }
          },
          "ternary": {
           "aaxis": {
            "gridcolor": "white",
            "linecolor": "white",
            "ticks": ""
           },
           "baxis": {
            "gridcolor": "white",
            "linecolor": "white",
            "ticks": ""
           },
           "bgcolor": "#E5ECF6",
           "caxis": {
            "gridcolor": "white",
            "linecolor": "white",
            "ticks": ""
           }
          },
          "title": {
           "x": 0.05
          },
          "xaxis": {
           "automargin": true,
           "gridcolor": "white",
           "linecolor": "white",
           "ticks": "",
           "title": {
            "standoff": 15
           },
           "zerolinecolor": "white",
           "zerolinewidth": 2
          },
          "yaxis": {
           "automargin": true,
           "gridcolor": "white",
           "linecolor": "white",
           "ticks": "",
           "title": {
            "standoff": 15
           },
           "zerolinecolor": "white",
           "zerolinewidth": 2
          }
         }
        },
        "xaxis": {
         "title": {
          "text": "Capacity [Ah]"
         }
        },
        "yaxis": {
         "title": {
          "text": "Voltage [V]"
         }
        }
       }
      },
      "text/html": [
       "<div>                            <div id=\"78d584f2-86bc-4275-a7d5-b55454b19e91\" class=\"plotly-graph-div\" style=\"height:525px; width:100%;\"></div>            <script type=\"text/javascript\">                require([\"plotly\"], function(Plotly) {                    window.PLOTLYENV=window.PLOTLYENV || {};                                    if (document.getElementById(\"78d584f2-86bc-4275-a7d5-b55454b19e91\")) {                    Plotly.newPlot(                        \"78d584f2-86bc-4275-a7d5-b55454b19e91\",                        [{\"line\": {\"color\": \"#2E91E5\"}, \"mode\": \"lines\", \"name\": \"data\", \"type\": \"scatter\", \"x\": [0, 0.0125, 0.025, 0.075, 0.1, 0.2, 0.3, 0.4, 0.5, 0.6, 0.8, 0.85, 0.9, 0.95, 0.975, 0.98, 0.99, 1.0, 1.005, 1.01, 1.015, 1.02], \"y\": [3.1820554561124355, 3.174519287131372, 3.1569190966906606, 3.141967438882461, 3.12534679970787, 3.105417143851918, 3.0836138006232208, 3.020539371014468, 2.995788676147516, 2.962017365676042, 2.9112989025003877, 2.87311006022757, 2.863719677415611, 2.842082496258616, 2.8155972171228987, 2.800026604747095, 2.7824070313443245, 2.762799293829502, 2.7402857484075556]}, {\"line\": {\"color\": \"#2E91E5\"}, \"mode\": \"markers\", \"name\": \"prediction\", \"type\": \"scatter\", \"x\": [0, 0.0125, 0.025, 0.075, 0.1, 0.2, 0.3, 0.4, 0.5, 0.6, 0.8, 0.85, 0.9, 0.95, 0.975, 0.98, 0.99, 1.0, 1.005, 1.01, 1.015, 1.02], \"y\": [3.180771827697754, 3.170407772064209, 3.158825397491455, 3.1392531394958496, 3.121260404586792, 3.099858283996582, 3.076512098312378, 3.0004005432128906, 2.9588093757629395, 2.9072070121765137, 2.795024871826172, 2.7098827362060547, 2.715479850769043, 2.7116518020629883, 2.6526870727539062, 2.665517807006836, 2.6940722465515137, 2.6840226650238037, 2.699343204498291]}, {\"line\": {\"color\": \"#1616A7\"}, \"mode\": \"lines\", \"name\": \"data\", \"type\": \"scatter\", \"x\": [0, 0.0125, 0.025, 0.075, 0.1, 0.2, 0.3, 0.4, 0.5, 0.6, 0.8, 0.85, 0.9, 0.95, 0.975, 0.98, 0.99, 1.0, 1.005, 1.01, 1.015, 1.02], \"y\": [3.1828346095262687, 3.1754288212417134, 3.1576435416449407, 3.1421660610425133, 3.124715363185942, 3.1043726166289236, 3.0814916608998697, 3.0167712458676936, 2.991736867565841, 2.9581234770061657, 2.9060090650024595, 2.864950394698168, 2.8546895725228483, 2.8310986081411023, 2.8028532322461173, 2.786416186714318, 2.7682913078482185, 2.748119215398249, 2.7255887166854182]}, {\"line\": {\"color\": \"#1616A7\"}, \"mode\": \"markers\", \"name\": \"prediction\", \"type\": \"scatter\", \"x\": [0, 0.0125, 0.025, 0.075, 0.1, 0.2, 0.3, 0.4, 0.5, 0.6, 0.8, 0.85, 0.9, 0.95, 0.975, 0.98, 0.99, 1.0, 1.005, 1.01, 1.015, 1.02], \"y\": [3.1810402870178223, 3.170603036880493, 3.159080743789673, 3.1394362449645996, 3.121370315551758, 3.0997724533081055, 3.0761172771453857, 2.998056650161743, 2.955122470855713, 2.902790069580078, 2.7883381843566895, 2.6988303661346436, 2.6956229209899902, 2.6855239868164062, 2.6277101039886475, 2.631701946258545, 2.645307779312134, 2.631200075149536, 2.6328372955322266]}, {\"line\": {\"color\": \"#6C7C32\"}, \"mode\": \"lines\", \"name\": \"data\", \"type\": \"scatter\", \"x\": [0, 0.0125, 0.025, 0.075, 0.1, 0.2, 0.3, 0.4, 0.5, 0.6, 0.8, 0.85, 0.9, 0.95, 0.975, 0.98, 0.99, 1.0, 1.005, 1.01, 1.015, 1.02], \"y\": [3.181273405401991, 3.17368071466613, 3.1558384620346778, 3.1403416955839276, 3.1225172508687598, 3.101645600844111, 3.0786525039243107, 3.011624734486019, 2.9851626893183196, 2.948163587885969, 2.887993034924096, 2.839113503952163, 2.8268483018660584, 2.7988704392801287, 2.765307401835305, 2.746090946025136, 2.7247158129065077, 2.701087255045636, 2.6745007996941106]}, {\"line\": {\"color\": \"#6C7C32\"}, \"mode\": \"markers\", \"name\": \"prediction\", \"type\": \"scatter\", \"x\": [0, 0.0125, 0.025, 0.075, 0.1, 0.2, 0.3, 0.4, 0.5, 0.6, 0.8, 0.85, 0.9, 0.95, 0.975, 0.98, 0.99, 1.0, 1.005, 1.01, 1.015, 1.02], \"y\": [3.181101083755493, 3.170620918273926, 3.1590983867645264, 3.139575958251953, 3.1215548515319824, 3.100015640258789, 3.0763766765594482, 2.9976582527160645, 2.954092025756836, 2.901202917098999, 2.7848970890045166, 2.692305326461792, 2.6775786876678467, 2.657029628753662, 2.5927867889404297, 2.5873918533325195, 2.5865540504455566, 2.5585572719573975, 2.5439705848693848]}, {\"line\": {\"color\": \"#511CFB\"}, \"mode\": \"lines\", \"name\": \"data\", \"type\": \"scatter\", \"x\": [0, 0.0125, 0.025, 0.075, 0.1, 0.2, 0.3, 0.4, 0.5, 0.6, 0.8, 0.85, 0.9, 0.95, 0.975, 0.98, 0.99, 1.0, 1.005, 1.01, 1.015, 1.02], \"y\": [3.1800075626916553, 3.1724829987284155, 3.154435580660464, 3.138715024781524, 3.1206624793608033, 3.0997376627316866, 3.0762954064147565, 3.0077141188349104, 2.980032670389207, 2.9396068304200105, 2.871921020500869, 2.815788793297474, 2.8016476320489128, 2.76944034893227, 2.7308450737646126, 2.7085657669054655, 2.684034439569459, 2.6565156784411768, 2.625497617777465]}, {\"line\": {\"color\": \"#511CFB\"}, \"mode\": \"markers\", \"name\": \"prediction\", \"type\": \"scatter\", \"x\": [0, 0.0125, 0.025, 0.075, 0.1, 0.2, 0.3, 0.4, 0.5, 0.6, 0.8, 0.85, 0.9, 0.95, 0.975, 0.98, 0.99, 1.0, 1.005, 1.01, 1.015, 1.02], \"y\": [3.1812491416931152, 3.17071533203125, 3.1591877937316895, 3.1397674083709717, 3.1217966079711914, 3.10028076171875, 3.076564073562622, 2.9976086616516113, 2.9539406299591064, 2.900947093963623, 2.7832274436950684, 2.68945050239563, 2.664571762084961, 2.636540412902832, 2.5700817108154297, 2.556546449661255, 2.5453293323516846, 2.508516788482666, 2.4841184616088867]}, {\"line\": {\"color\": \"#DA16FF\"}, \"mode\": \"lines\", \"name\": \"data\", \"type\": \"scatter\", \"x\": [0, 0.0125, 0.025, 0.075, 0.1, 0.2, 0.3, 0.4, 0.5, 0.6, 0.8, 0.85, 0.9, 0.95, 0.975, 0.98, 0.99, 1.0, 1.005, 1.01, 1.015, 1.02], \"y\": [3.1859356359314446, 3.178575335781784, 3.1604246664070144, 3.1447103407477455, 3.126969487656852, 3.1064684456784777, 3.083589903624099, 3.0187450466547303, 2.991571409653362, 2.9518403117749075, 2.8838504417618402, 2.8268190781409865, 2.8125077526942994, 2.779634337145737, 2.7402900446323954, 2.7175941091906903, 2.6923630013318016, 2.6641677165553346, 2.6322091003858796]}, {\"line\": {\"color\": \"#DA16FF\"}, \"mode\": \"markers\", \"name\": \"prediction\", \"type\": \"scatter\", \"x\": [0, 0.0125, 0.025, 0.075, 0.1, 0.2, 0.3, 0.4, 0.5, 0.6, 0.8, 0.85, 0.9, 0.95, 0.975, 0.98, 0.99, 1.0, 1.005, 1.01, 1.015, 1.02], \"y\": [3.180323600769043, 3.1699488162994385, 3.1584465503692627, 3.1390771865844727, 3.121173858642578, 3.099914073944092, 3.0768003463745117, 3.001709222793579, 2.9621849060058594, 2.913618326187134, 2.804927110671997, 2.7156550884246826, 2.6888725757598877, 2.6597442626953125, 2.5919456481933594, 2.5778069496154785, 2.5667951107025146, 2.527402400970459, 2.5011534690856934]}, {\"line\": {\"color\": \"#AF0038\"}, \"mode\": \"lines\", \"name\": \"data\", \"type\": \"scatter\", \"x\": [0, 0.0125, 0.025, 0.075, 0.1, 0.2, 0.3, 0.4, 0.5, 0.6, 0.8, 0.85, 0.9, 0.95, 0.975, 0.98, 0.99, 1.0, 1.005, 1.01, 1.015, 1.02], \"y\": [3.1830088643675176, 3.1756315842584333, 3.157592849929265, 3.1417101395676763, 3.123773395737163, 3.102971001271156, 3.080034775053349, 3.012478005104362, 2.9834381818540257, 2.9395736200760165, 2.862699928045516, 2.797649834684325, 2.781179967174279, 2.7435674435551682, 2.698077899300044, 2.6716538713917717, 2.6420108154825845, 2.608322650395717, 2.569348466116448]}, {\"line\": {\"color\": \"#AF0038\"}, \"mode\": \"markers\", \"name\": \"prediction\", \"type\": \"scatter\", \"x\": [0, 0.0125, 0.025, 0.075, 0.1, 0.2, 0.3, 0.4, 0.5, 0.6, 0.8, 0.85, 0.9, 0.95, 0.975, 0.98, 0.99, 1.0, 1.005, 1.01, 1.015, 1.02], \"y\": [3.180464744567871, 3.170069694519043, 3.1584527492523193, 3.13875675201416, 3.120574712753296, 3.0991008281707764, 3.0756876468658447, 3.0000436305999756, 2.959282398223877, 2.909510612487793, 2.799480676651001, 2.7040951251983643, 2.669520378112793, 2.6322643756866455, 2.5629782676696777, 2.5423052310943604, 2.521390676498413, 2.476494312286377, 2.4433038234710693]}, {\"line\": {\"color\": \"#620042\"}, \"mode\": \"lines\", \"name\": \"data\", \"type\": \"scatter\", \"x\": [0, 0.0125, 0.025, 0.075, 0.1, 0.2, 0.3, 0.4, 0.5, 0.6, 0.8, 0.85, 0.9, 0.95, 0.975, 0.98, 0.99, 1.0, 1.005, 1.01, 1.015, 1.02], \"y\": [3.1783218921601115, 3.170801349965857, 3.152602930202459, 3.13650509914955, 3.1184316073805567, 3.097163560739229, 3.073396076166767, 3.0012483353229875, 2.9691918870280425, 2.920049304272829, 2.831404667412555, 2.7557268406050035, 2.7364936896492456, 2.69194222331012, 2.637925162774718, 2.605687258011011, 2.56877724807938, 2.5259446657442495, 2.4745296007272533]}, {\"line\": {\"color\": \"#620042\"}, \"mode\": \"markers\", \"name\": \"prediction\", \"type\": \"scatter\", \"x\": [0, 0.0125, 0.025, 0.075, 0.1, 0.2, 0.3, 0.4, 0.5, 0.6, 0.8, 0.85, 0.9, 0.95, 0.975, 0.98, 0.99, 1.0, 1.005, 1.01, 1.015, 1.02], \"y\": [3.181273937225342, 3.170555830001831, 3.1588423252105713, 3.1390247344970703, 3.120736837387085, 3.099116086959839, 3.075287103652954, 2.996488094329834, 2.9525418281555176, 2.898693084716797, 2.7817792892456055, 2.6782493591308594, 2.6356310844421387, 2.5894789695739746, 2.5175375938415527, 2.487374782562256, 2.453151226043701, 2.4024534225463867, 2.360971689224243]}, {\"line\": {\"color\": \"#B2828D\"}, \"mode\": \"lines\", \"name\": \"data\", \"type\": \"scatter\", \"x\": [0, 0.0125, 0.025, 0.075, 0.1, 0.2, 0.3, 0.4, 0.5, 0.6, 0.8, 0.85, 0.9, 0.95, 0.975, 0.98, 0.99, 1.0, 1.005, 1.01, 1.015, 1.02], \"y\": [3.183036989813485, 3.1756808178956453, 3.1574729593975777, 3.141386347152886, 3.1233923629268205, 3.1025468327241716, 3.079374413547681, 3.0103593006781697, 2.9794417005014657, 2.931466227808572, 2.8435446482077933, 2.768201325411527, 2.7490070325261344, 2.7050042587737373, 2.6507701284547593, 2.6181523130696713, 2.5810804068506443, 2.5377868808293513, 2.4852384410572705]}, {\"line\": {\"color\": \"#B2828D\"}, \"mode\": \"markers\", \"name\": \"prediction\", \"type\": \"scatter\", \"x\": [0, 0.0125, 0.025, 0.075, 0.1, 0.2, 0.3, 0.4, 0.5, 0.6, 0.8, 0.85, 0.9, 0.95, 0.975, 0.98, 0.99, 1.0, 1.005, 1.01, 1.015, 1.02], \"y\": [3.1803715229034424, 3.16995906829834, 3.158285140991211, 3.1385772228240967, 3.120532274246216, 3.099271774291992, 3.076021194458008, 2.999903440475464, 2.959326982498169, 2.9091989994049072, 2.7992358207702637, 2.700364112854004, 2.6619949340820312, 2.6182403564453125, 2.5434911251068115, 2.514220952987671, 2.4817633628845215, 2.4273581504821777, 2.384351968765259]}, {\"line\": {\"color\": \"#EB663B\"}, \"mode\": \"lines\", \"name\": \"data\", \"type\": \"scatter\", \"x\": [0, 0.0125, 0.025, 0.075, 0.1, 0.2, 0.3, 0.4, 0.5, 0.6, 0.8, 0.85, 0.9, 0.95, 0.975, 0.98, 0.99, 1.0, 1.005, 1.01, 1.015, 1.02], \"y\": [3.1777779341119627, 3.170077580427977, 3.1518245432928196, 3.135725484505823, 3.117595389783201, 3.096504921789543, 3.072440842094995, 2.9984403549174967, 2.964049121073166, 2.9100406017421205, 2.809135519845539, 2.7222482199758957, 2.6997209362062087, 2.647858082491686, 2.582152212154712, 2.541678465645969, 2.493648871064404, 2.435476094306936, 2.361721508112736]}, {\"line\": {\"color\": \"#EB663B\"}, \"mode\": \"markers\", \"name\": \"prediction\", \"type\": \"scatter\", \"x\": [0, 0.0125, 0.025, 0.075, 0.1, 0.2, 0.3, 0.4, 0.5, 0.6, 0.8, 0.85, 0.9, 0.95, 0.975, 0.98, 0.99, 1.0, 1.005, 1.01, 1.015, 1.02], \"y\": [3.1810922622680664, 3.1705102920532227, 3.1587705612182617, 3.13889217376709, 3.120698928833008, 3.0991458892822266, 3.0755062103271484, 2.9963228702545166, 2.9524238109588623, 2.8983163833618164, 2.780117988586426, 2.6718027591705322, 2.6251134872436523, 2.5713720321655273, 2.494788646697998, 2.4539129734039307, 2.405728578567505, 2.3462939262390137, 2.2940192222595215]}, {\"line\": {\"color\": \"#FB0D0D\"}, \"mode\": \"lines\", \"name\": \"data\", \"type\": \"scatter\", \"x\": [0, 0.0125, 0.025, 0.075, 0.1, 0.2, 0.3, 0.4, 0.5, 0.6, 0.8, 0.85, 0.9, 0.95, 0.975, 0.98, 0.99, 1.0, 1.005, 1.01, 1.015, 1.02], \"y\": [3.177479708100913, 3.1698875217246716, 3.151547448631612, 3.135415020439972, 3.117150209437574, 3.0960056565652443, 3.072010419631506, 2.9967139487379195, 2.961126511824899, 2.903920159001191, 2.796037624674025, 2.7016048986908494, 2.67708634282436, 2.619178100177211, 2.5440650656961514, 2.496444092462198, 2.438376233577948, 2.3645502456948178, 2.2753349734797097]}, {\"line\": {\"color\": \"#FB0D0D\"}, \"mode\": \"markers\", \"name\": \"prediction\", \"type\": \"scatter\", \"x\": [0, 0.0125, 0.025, 0.075, 0.1, 0.2, 0.3, 0.4, 0.5, 0.6, 0.8, 0.85, 0.9, 0.95, 0.975, 0.98, 0.99, 1.0, 1.005, 1.01, 1.015, 1.02], \"y\": [3.1809937953948975, 3.170513868331909, 3.158827304840088, 3.139101982116699, 3.1211085319519043, 3.099604606628418, 3.0759568214416504, 2.9967918395996094, 2.9525411128997803, 2.8979878425598145, 2.7772085666656494, 2.667402982711792, 2.619063377380371, 2.558816432952881, 2.4764347076416016, 2.4284608364105225, 2.3688769340515137, 2.300797939300537, 2.2401723861694336]}, {\"line\": {\"color\": \"#0D2A63\"}, \"mode\": \"lines\", \"name\": \"data\", \"type\": \"scatter\", \"x\": [0, 0.0125, 0.025, 0.075, 0.1, 0.2, 0.3, 0.4, 0.5, 0.6, 0.8, 0.85, 0.9, 0.95, 0.975, 0.98, 0.99, 1.0, 1.005, 1.01, 1.015, 1.02], \"y\": [3.176494823861818, 3.1687625564972772, 3.150454331099812, 3.134308507709469, 3.115943012331109, 3.0946361635958084, 3.0703074469327776, 2.9936592783721228, 2.9564604838298107, 2.895839311681147, 2.7790946300517185, 2.675849045324854, 2.648702031932156, 2.5831499452405966, 2.4947798109780197, 2.4365054733691927, 2.361783096548118, 2.2718763816241894, 2.1807429430129988]}, {\"line\": {\"color\": \"#0D2A63\"}, \"mode\": \"markers\", \"name\": \"prediction\", \"type\": \"scatter\", \"x\": [0, 0.0125, 0.025, 0.075, 0.1, 0.2, 0.3, 0.4, 0.5, 0.6, 0.8, 0.85, 0.9, 0.95, 0.975, 0.98, 0.99, 1.0, 1.005, 1.01, 1.015, 1.02], \"y\": [3.1811540126800537, 3.170663833618164, 3.1589534282684326, 3.1393210887908936, 3.1214005947113037, 3.099869728088379, 3.0761404037475586, 2.9967920780181885, 2.951907157897949, 2.8967392444610596, 2.7741434574127197, 2.661416530609131, 2.6088998317718506, 2.5414645671844482, 2.453383684158325, 2.395324230194092, 2.3223838806152344, 2.245680809020996, 2.1775176525115967]}, {\"line\": {\"color\": \"#A777F1\"}, \"mode\": \"lines\", \"name\": \"data\", \"type\": \"scatter\", \"x\": [0, 0.0125, 0.025, 0.075, 0.1, 0.2, 0.3, 0.4, 0.5, 0.6, 0.8, 0.85, 0.9, 0.95, 0.975, 0.98, 0.99, 1.0, 1.005, 1.01, 1.015, 1.02], \"y\": [3.1769196162934032, 3.1692556040580424, 3.150827466621524, 3.134689270129155, 3.116477732836145, 3.095216772709775, 3.0708121652363114, 2.9929735223281027, 2.9545611093561845, 2.8907298743259773, 2.766777308014495, 2.655470843127623, 2.6255071897918425, 2.5521092974753183, 2.4489740696161046, 2.3767502644416756, 2.2866565729679857, 2.1927892656578094, 2.0819406867710675]}, {\"line\": {\"color\": \"#A777F1\"}, \"mode\": \"markers\", \"name\": \"prediction\", \"type\": \"scatter\", \"x\": [0, 0.0125, 0.025, 0.075, 0.1, 0.2, 0.3, 0.4, 0.5, 0.6, 0.8, 0.85, 0.9, 0.95, 0.975, 0.98, 0.99, 1.0, 1.005, 1.01, 1.015, 1.02], \"y\": [3.181156635284424, 3.170660972595215, 3.1589956283569336, 3.139370918273926, 3.121458053588867, 3.0999581813812256, 3.076333999633789, 2.9976329803466797, 2.953242063522339, 2.8973870277404785, 2.772378444671631, 2.6579785346984863, 2.6036455631256104, 2.5293312072753906, 2.433140754699707, 2.3636345863342285, 2.2776079177856445, 2.192394495010376, 2.1209423542022705]}],                        {\"template\": {\"data\": {\"bar\": [{\"error_x\": {\"color\": \"#2a3f5f\"}, \"error_y\": {\"color\": \"#2a3f5f\"}, \"marker\": {\"line\": {\"color\": \"#E5ECF6\", \"width\": 0.5}}, \"type\": \"bar\"}], \"barpolar\": [{\"marker\": {\"line\": {\"color\": \"#E5ECF6\", \"width\": 0.5}}, \"type\": \"barpolar\"}], \"carpet\": [{\"aaxis\": {\"endlinecolor\": \"#2a3f5f\", \"gridcolor\": \"white\", \"linecolor\": \"white\", \"minorgridcolor\": \"white\", \"startlinecolor\": \"#2a3f5f\"}, \"baxis\": {\"endlinecolor\": \"#2a3f5f\", \"gridcolor\": \"white\", \"linecolor\": \"white\", \"minorgridcolor\": \"white\", \"startlinecolor\": \"#2a3f5f\"}, \"type\": \"carpet\"}], \"choropleth\": [{\"colorbar\": {\"outlinewidth\": 0, \"ticks\": \"\"}, \"type\": \"choropleth\"}], \"contour\": [{\"colorbar\": {\"outlinewidth\": 0, \"ticks\": \"\"}, \"colorscale\": [[0.0, \"#0d0887\"], [0.1111111111111111, \"#46039f\"], [0.2222222222222222, \"#7201a8\"], [0.3333333333333333, \"#9c179e\"], [0.4444444444444444, \"#bd3786\"], [0.5555555555555556, \"#d8576b\"], [0.6666666666666666, \"#ed7953\"], [0.7777777777777778, \"#fb9f3a\"], [0.8888888888888888, \"#fdca26\"], [1.0, \"#f0f921\"]], \"type\": \"contour\"}], \"contourcarpet\": [{\"colorbar\": {\"outlinewidth\": 0, \"ticks\": \"\"}, \"type\": \"contourcarpet\"}], \"heatmap\": [{\"colorbar\": {\"outlinewidth\": 0, \"ticks\": \"\"}, \"colorscale\": [[0.0, \"#0d0887\"], [0.1111111111111111, \"#46039f\"], [0.2222222222222222, \"#7201a8\"], [0.3333333333333333, \"#9c179e\"], [0.4444444444444444, \"#bd3786\"], [0.5555555555555556, \"#d8576b\"], [0.6666666666666666, \"#ed7953\"], [0.7777777777777778, \"#fb9f3a\"], [0.8888888888888888, \"#fdca26\"], [1.0, \"#f0f921\"]], \"type\": \"heatmap\"}], \"heatmapgl\": [{\"colorbar\": {\"outlinewidth\": 0, \"ticks\": \"\"}, \"colorscale\": [[0.0, \"#0d0887\"], [0.1111111111111111, \"#46039f\"], [0.2222222222222222, \"#7201a8\"], [0.3333333333333333, \"#9c179e\"], [0.4444444444444444, \"#bd3786\"], [0.5555555555555556, \"#d8576b\"], [0.6666666666666666, \"#ed7953\"], [0.7777777777777778, \"#fb9f3a\"], [0.8888888888888888, \"#fdca26\"], [1.0, \"#f0f921\"]], \"type\": \"heatmapgl\"}], \"histogram\": [{\"marker\": {\"colorbar\": {\"outlinewidth\": 0, \"ticks\": \"\"}}, \"type\": \"histogram\"}], \"histogram2d\": [{\"colorbar\": {\"outlinewidth\": 0, \"ticks\": \"\"}, \"colorscale\": [[0.0, \"#0d0887\"], [0.1111111111111111, \"#46039f\"], [0.2222222222222222, \"#7201a8\"], [0.3333333333333333, \"#9c179e\"], [0.4444444444444444, \"#bd3786\"], [0.5555555555555556, \"#d8576b\"], [0.6666666666666666, \"#ed7953\"], [0.7777777777777778, \"#fb9f3a\"], [0.8888888888888888, \"#fdca26\"], [1.0, \"#f0f921\"]], \"type\": \"histogram2d\"}], \"histogram2dcontour\": [{\"colorbar\": {\"outlinewidth\": 0, \"ticks\": \"\"}, \"colorscale\": [[0.0, \"#0d0887\"], [0.1111111111111111, \"#46039f\"], [0.2222222222222222, \"#7201a8\"], [0.3333333333333333, \"#9c179e\"], [0.4444444444444444, \"#bd3786\"], [0.5555555555555556, \"#d8576b\"], [0.6666666666666666, \"#ed7953\"], [0.7777777777777778, \"#fb9f3a\"], [0.8888888888888888, \"#fdca26\"], [1.0, \"#f0f921\"]], \"type\": \"histogram2dcontour\"}], \"mesh3d\": [{\"colorbar\": {\"outlinewidth\": 0, \"ticks\": \"\"}, \"type\": \"mesh3d\"}], \"parcoords\": [{\"line\": {\"colorbar\": {\"outlinewidth\": 0, \"ticks\": \"\"}}, \"type\": \"parcoords\"}], \"pie\": [{\"automargin\": true, \"type\": \"pie\"}], \"scatter\": [{\"marker\": {\"colorbar\": {\"outlinewidth\": 0, \"ticks\": \"\"}}, \"type\": \"scatter\"}], \"scatter3d\": [{\"line\": {\"colorbar\": {\"outlinewidth\": 0, \"ticks\": \"\"}}, \"marker\": {\"colorbar\": {\"outlinewidth\": 0, \"ticks\": \"\"}}, \"type\": \"scatter3d\"}], \"scattercarpet\": [{\"marker\": {\"colorbar\": {\"outlinewidth\": 0, \"ticks\": \"\"}}, \"type\": \"scattercarpet\"}], \"scattergeo\": [{\"marker\": {\"colorbar\": {\"outlinewidth\": 0, \"ticks\": \"\"}}, \"type\": \"scattergeo\"}], \"scattergl\": [{\"marker\": {\"colorbar\": {\"outlinewidth\": 0, \"ticks\": \"\"}}, \"type\": \"scattergl\"}], \"scattermapbox\": [{\"marker\": {\"colorbar\": {\"outlinewidth\": 0, \"ticks\": \"\"}}, \"type\": \"scattermapbox\"}], \"scatterpolar\": [{\"marker\": {\"colorbar\": {\"outlinewidth\": 0, \"ticks\": \"\"}}, \"type\": \"scatterpolar\"}], \"scatterpolargl\": [{\"marker\": {\"colorbar\": {\"outlinewidth\": 0, \"ticks\": \"\"}}, \"type\": \"scatterpolargl\"}], \"scatterternary\": [{\"marker\": {\"colorbar\": {\"outlinewidth\": 0, \"ticks\": \"\"}}, \"type\": \"scatterternary\"}], \"surface\": [{\"colorbar\": {\"outlinewidth\": 0, \"ticks\": \"\"}, \"colorscale\": [[0.0, \"#0d0887\"], [0.1111111111111111, \"#46039f\"], [0.2222222222222222, \"#7201a8\"], [0.3333333333333333, \"#9c179e\"], [0.4444444444444444, \"#bd3786\"], [0.5555555555555556, \"#d8576b\"], [0.6666666666666666, \"#ed7953\"], [0.7777777777777778, \"#fb9f3a\"], [0.8888888888888888, \"#fdca26\"], [1.0, \"#f0f921\"]], \"type\": \"surface\"}], \"table\": [{\"cells\": {\"fill\": {\"color\": \"#EBF0F8\"}, \"line\": {\"color\": \"white\"}}, \"header\": {\"fill\": {\"color\": \"#C8D4E3\"}, \"line\": {\"color\": \"white\"}}, \"type\": \"table\"}]}, \"layout\": {\"annotationdefaults\": {\"arrowcolor\": \"#2a3f5f\", \"arrowhead\": 0, \"arrowwidth\": 1}, \"autotypenumbers\": \"strict\", \"coloraxis\": {\"colorbar\": {\"outlinewidth\": 0, \"ticks\": \"\"}}, \"colorscale\": {\"diverging\": [[0, \"#8e0152\"], [0.1, \"#c51b7d\"], [0.2, \"#de77ae\"], [0.3, \"#f1b6da\"], [0.4, \"#fde0ef\"], [0.5, \"#f7f7f7\"], [0.6, \"#e6f5d0\"], [0.7, \"#b8e186\"], [0.8, \"#7fbc41\"], [0.9, \"#4d9221\"], [1, \"#276419\"]], \"sequential\": [[0.0, \"#0d0887\"], [0.1111111111111111, \"#46039f\"], [0.2222222222222222, \"#7201a8\"], [0.3333333333333333, \"#9c179e\"], [0.4444444444444444, \"#bd3786\"], [0.5555555555555556, \"#d8576b\"], [0.6666666666666666, \"#ed7953\"], [0.7777777777777778, \"#fb9f3a\"], [0.8888888888888888, \"#fdca26\"], [1.0, \"#f0f921\"]], \"sequentialminus\": [[0.0, \"#0d0887\"], [0.1111111111111111, \"#46039f\"], [0.2222222222222222, \"#7201a8\"], [0.3333333333333333, \"#9c179e\"], [0.4444444444444444, \"#bd3786\"], [0.5555555555555556, \"#d8576b\"], [0.6666666666666666, \"#ed7953\"], [0.7777777777777778, \"#fb9f3a\"], [0.8888888888888888, \"#fdca26\"], [1.0, \"#f0f921\"]]}, \"colorway\": [\"#636efa\", \"#EF553B\", \"#00cc96\", \"#ab63fa\", \"#FFA15A\", \"#19d3f3\", \"#FF6692\", \"#B6E880\", \"#FF97FF\", \"#FECB52\"], \"font\": {\"color\": \"#2a3f5f\"}, \"geo\": {\"bgcolor\": \"white\", \"lakecolor\": \"white\", \"landcolor\": \"#E5ECF6\", \"showlakes\": true, \"showland\": true, \"subunitcolor\": \"white\"}, \"hoverlabel\": {\"align\": \"left\"}, \"hovermode\": \"closest\", \"mapbox\": {\"style\": \"light\"}, \"paper_bgcolor\": \"white\", \"plot_bgcolor\": \"#E5ECF6\", \"polar\": {\"angularaxis\": {\"gridcolor\": \"white\", \"linecolor\": \"white\", \"ticks\": \"\"}, \"bgcolor\": \"#E5ECF6\", \"radialaxis\": {\"gridcolor\": \"white\", \"linecolor\": \"white\", \"ticks\": \"\"}}, \"scene\": {\"xaxis\": {\"backgroundcolor\": \"#E5ECF6\", \"gridcolor\": \"white\", \"gridwidth\": 2, \"linecolor\": \"white\", \"showbackground\": true, \"ticks\": \"\", \"zerolinecolor\": \"white\"}, \"yaxis\": {\"backgroundcolor\": \"#E5ECF6\", \"gridcolor\": \"white\", \"gridwidth\": 2, \"linecolor\": \"white\", \"showbackground\": true, \"ticks\": \"\", \"zerolinecolor\": \"white\"}, \"zaxis\": {\"backgroundcolor\": \"#E5ECF6\", \"gridcolor\": \"white\", \"gridwidth\": 2, \"linecolor\": \"white\", \"showbackground\": true, \"ticks\": \"\", \"zerolinecolor\": \"white\"}}, \"shapedefaults\": {\"line\": {\"color\": \"#2a3f5f\"}}, \"ternary\": {\"aaxis\": {\"gridcolor\": \"white\", \"linecolor\": \"white\", \"ticks\": \"\"}, \"baxis\": {\"gridcolor\": \"white\", \"linecolor\": \"white\", \"ticks\": \"\"}, \"bgcolor\": \"#E5ECF6\", \"caxis\": {\"gridcolor\": \"white\", \"linecolor\": \"white\", \"ticks\": \"\"}}, \"title\": {\"x\": 0.05}, \"xaxis\": {\"automargin\": true, \"gridcolor\": \"white\", \"linecolor\": \"white\", \"ticks\": \"\", \"title\": {\"standoff\": 15}, \"zerolinecolor\": \"white\", \"zerolinewidth\": 2}, \"yaxis\": {\"automargin\": true, \"gridcolor\": \"white\", \"linecolor\": \"white\", \"ticks\": \"\", \"title\": {\"standoff\": 15}, \"zerolinecolor\": \"white\", \"zerolinewidth\": 2}}}, \"xaxis\": {\"title\": {\"text\": \"Capacity [Ah]\"}}, \"yaxis\": {\"title\": {\"text\": \"Voltage [V]\"}}},                        {\"responsive\": true}                    ).then(function(){\n",
       "                            \n",
       "var gd = document.getElementById('78d584f2-86bc-4275-a7d5-b55454b19e91');\n",
       "var x = new MutationObserver(function (mutations, observer) {{\n",
       "        var display = window.getComputedStyle(gd).display;\n",
       "        if (!display || display === 'none') {{\n",
       "            console.log([gd, 'removed!']);\n",
       "            Plotly.purge(gd);\n",
       "            observer.disconnect();\n",
       "        }}\n",
       "}});\n",
       "\n",
       "// Listen for the removal of the full notebook cells\n",
       "var notebookContainer = gd.closest('#notebook-container');\n",
       "if (notebookContainer) {{\n",
       "    x.observe(notebookContainer, {childList: true});\n",
       "}}\n",
       "\n",
       "// Listen for the clearing of the current output cell\n",
       "var outputEl = gd.closest('.output');\n",
       "if (outputEl) {{\n",
       "    x.observe(outputEl, {childList: true});\n",
       "}}\n",
       "\n",
       "                        })                };                });            </script>        </div>"
      ]
     },
     "metadata": {},
     "output_type": "display_data"
    }
   ],
   "source": [
    "fig = go.Figure()\n",
    "for i in range(0, len(X_test), batch_size):\n",
    "    V_actual = y_test[i:i+batch_size]\n",
    "    V_pred = model.predict(X_test[i:i+batch_size]).flatten()\n",
    "    fig.add_trace(go.Scatter(x = Q_eval, y = V_actual*(3.5-1.9)+1.9, \n",
    "                             mode='lines', name = 'data', \n",
    "                             line_color = pallete[i]))\n",
    "    fig.add_trace(go.Scatter(x = Q_eval, y = V_pred*(3.5-1.9)+1.9,\n",
    "                             mode='markers', name = 'prediction', \n",
    "                             line_color = pallete[i]))\n",
    "fig.update_yaxes(title=\"Voltage [V]\")\n",
    "fig.update_xaxes(title=\"Capacity [Ah]\")"
   ]
  },
  {
   "cell_type": "code",
   "execution_count": 12,
   "id": "59beb3a3",
   "metadata": {},
   "outputs": [
    {
     "name": "stderr",
     "output_type": "stream",
     "text": [
      "100%|██████████| 3/3 [00:53<00:00, 17.99s/it]\n",
      "100%|██████████| 1176/1176 [00:15<00:00, 78.21it/s] \n",
      "2022-10-18 16:39:16.134462: I tensorflow/core/platform/cpu_feature_guard.cc:193] This TensorFlow binary is optimized with oneAPI Deep Neural Network Library (oneDNN) to use the following CPU instructions in performance-critical operations:  AVX2 FMA\n",
      "To enable them in other operations, rebuild TensorFlow with the appropriate compiler flags.\n"
     ]
    },
    {
     "name": "stdout",
     "output_type": "stream",
     "text": [
      "Model: \"sequential\"\n",
      "_________________________________________________________________\n",
      " Layer (type)                Output Shape              Param #   \n",
      "=================================================================\n",
      " lstm (LSTM)                 (19, 3, 32)               4608      \n",
      "                                                                 \n",
      " lstm_1 (LSTM)               (19, 16)                  3136      \n",
      "                                                                 \n",
      " dense (Dense)               (19, 32)                  544       \n",
      "                                                                 \n",
      " dense_1 (Dense)             (19, 8)                   264       \n",
      "                                                                 \n",
      " dense_2 (Dense)             (19, 1)                   9         \n",
      "                                                                 \n",
      "=================================================================\n",
      "Total params: 8,561\n",
      "Trainable params: 8,561\n",
      "Non-trainable params: 0\n",
      "_________________________________________________________________\n"
     ]
    },
    {
     "ename": "KeyboardInterrupt",
     "evalue": "",
     "output_type": "error",
     "traceback": [
      "\u001b[0;31m---------------------------------------------------------------------------\u001b[0m",
      "\u001b[0;31mKeyboardInterrupt\u001b[0m                         Traceback (most recent call last)",
      "\u001b[1;32m/Users/mac/Desktop/CMU/10701MachineLearning/project/10701-mvf-bto-1/src/mvf_bto/Model Training.ipynb Cell 22\u001b[0m in \u001b[0;36m<cell line: 149>\u001b[0;34m()\u001b[0m\n\u001b[1;32m    <a href='vscode-notebook-cell:/Users/mac/Desktop/CMU/10701MachineLearning/project/10701-mvf-bto-1/src/mvf_bto/Model%20Training.ipynb#X30sZmlsZQ%3D%3D?line=145'>146</a>\u001b[0m sample_weight[y_train\u001b[39m<\u001b[39m\u001b[39m0.5\u001b[39m]\u001b[39m=\u001b[39m\u001b[39m3\u001b[39m\n\u001b[1;32m    <a href='vscode-notebook-cell:/Users/mac/Desktop/CMU/10701MachineLearning/project/10701-mvf-bto-1/src/mvf_bto/Model%20Training.ipynb#X30sZmlsZQ%3D%3D?line=147'>148</a>\u001b[0m \u001b[39m# TODO: add validation set or validation split + early stopping\u001b[39;00m\n\u001b[0;32m--> <a href='vscode-notebook-cell:/Users/mac/Desktop/CMU/10701MachineLearning/project/10701-mvf-bto-1/src/mvf_bto/Model%20Training.ipynb#X30sZmlsZQ%3D%3D?line=148'>149</a>\u001b[0m history \u001b[39m=\u001b[39m model\u001b[39m.\u001b[39;49mfit(X_train, y_train, \n\u001b[1;32m    <a href='vscode-notebook-cell:/Users/mac/Desktop/CMU/10701MachineLearning/project/10701-mvf-bto-1/src/mvf_bto/Model%20Training.ipynb#X30sZmlsZQ%3D%3D?line=149'>150</a>\u001b[0m                     epochs\u001b[39m=\u001b[39;49m\u001b[39m50\u001b[39;49m, \n\u001b[1;32m    <a href='vscode-notebook-cell:/Users/mac/Desktop/CMU/10701MachineLearning/project/10701-mvf-bto-1/src/mvf_bto/Model%20Training.ipynb#X30sZmlsZQ%3D%3D?line=150'>151</a>\u001b[0m                     batch_size\u001b[39m=\u001b[39;49mbatch_size, \n\u001b[1;32m    <a href='vscode-notebook-cell:/Users/mac/Desktop/CMU/10701MachineLearning/project/10701-mvf-bto-1/src/mvf_bto/Model%20Training.ipynb#X30sZmlsZQ%3D%3D?line=151'>152</a>\u001b[0m                     shuffle\u001b[39m=\u001b[39;49m\u001b[39mFalse\u001b[39;49;00m, \n\u001b[1;32m    <a href='vscode-notebook-cell:/Users/mac/Desktop/CMU/10701MachineLearning/project/10701-mvf-bto-1/src/mvf_bto/Model%20Training.ipynb#X30sZmlsZQ%3D%3D?line=152'>153</a>\u001b[0m                     verbose\u001b[39m=\u001b[39;49m\u001b[39m0\u001b[39;49m, \n\u001b[1;32m    <a href='vscode-notebook-cell:/Users/mac/Desktop/CMU/10701MachineLearning/project/10701-mvf-bto-1/src/mvf_bto/Model%20Training.ipynb#X30sZmlsZQ%3D%3D?line=153'>154</a>\u001b[0m                     sample_weight\u001b[39m=\u001b[39;49msample_weight)\n\u001b[1;32m    <a href='vscode-notebook-cell:/Users/mac/Desktop/CMU/10701MachineLearning/project/10701-mvf-bto-1/src/mvf_bto/Model%20Training.ipynb#X30sZmlsZQ%3D%3D?line=155'>156</a>\u001b[0m fig \u001b[39m=\u001b[39m go\u001b[39m.\u001b[39mFigure()\n\u001b[1;32m    <a href='vscode-notebook-cell:/Users/mac/Desktop/CMU/10701MachineLearning/project/10701-mvf-bto-1/src/mvf_bto/Model%20Training.ipynb#X30sZmlsZQ%3D%3D?line=156'>157</a>\u001b[0m fig\u001b[39m.\u001b[39madd_trace(go\u001b[39m.\u001b[39mScatter(x \u001b[39m=\u001b[39m np\u001b[39m.\u001b[39mlinspace(\u001b[39m1\u001b[39m,\u001b[39m50\u001b[39m), y \u001b[39m=\u001b[39m history\u001b[39m.\u001b[39mhistory[\u001b[39m'\u001b[39m\u001b[39mloss\u001b[39m\u001b[39m'\u001b[39m],\n\u001b[1;32m    <a href='vscode-notebook-cell:/Users/mac/Desktop/CMU/10701MachineLearning/project/10701-mvf-bto-1/src/mvf_bto/Model%20Training.ipynb#X30sZmlsZQ%3D%3D?line=157'>158</a>\u001b[0m                          showlegend\u001b[39m=\u001b[39m\u001b[39mFalse\u001b[39;00m, mode\u001b[39m=\u001b[39m\u001b[39m\"\u001b[39m\u001b[39mmarkers+lines\u001b[39m\u001b[39m\"\u001b[39m))\n",
      "File \u001b[0;32m~/opt/anaconda3/envs/10701/lib/python3.10/site-packages/keras/utils/traceback_utils.py:64\u001b[0m, in \u001b[0;36mfilter_traceback.<locals>.error_handler\u001b[0;34m(*args, **kwargs)\u001b[0m\n\u001b[1;32m     62\u001b[0m filtered_tb \u001b[39m=\u001b[39m \u001b[39mNone\u001b[39;00m\n\u001b[1;32m     63\u001b[0m \u001b[39mtry\u001b[39;00m:\n\u001b[0;32m---> 64\u001b[0m   \u001b[39mreturn\u001b[39;00m fn(\u001b[39m*\u001b[39;49margs, \u001b[39m*\u001b[39;49m\u001b[39m*\u001b[39;49mkwargs)\n\u001b[1;32m     65\u001b[0m \u001b[39mexcept\u001b[39;00m \u001b[39mException\u001b[39;00m \u001b[39mas\u001b[39;00m e:  \u001b[39m# pylint: disable=broad-except\u001b[39;00m\n\u001b[1;32m     66\u001b[0m   filtered_tb \u001b[39m=\u001b[39m _process_traceback_frames(e\u001b[39m.\u001b[39m__traceback__)\n",
      "File \u001b[0;32m~/opt/anaconda3/envs/10701/lib/python3.10/site-packages/keras/engine/training.py:1409\u001b[0m, in \u001b[0;36mModel.fit\u001b[0;34m(self, x, y, batch_size, epochs, verbose, callbacks, validation_split, validation_data, shuffle, class_weight, sample_weight, initial_epoch, steps_per_epoch, validation_steps, validation_batch_size, validation_freq, max_queue_size, workers, use_multiprocessing)\u001b[0m\n\u001b[1;32m   1402\u001b[0m \u001b[39mwith\u001b[39;00m tf\u001b[39m.\u001b[39mprofiler\u001b[39m.\u001b[39mexperimental\u001b[39m.\u001b[39mTrace(\n\u001b[1;32m   1403\u001b[0m     \u001b[39m'\u001b[39m\u001b[39mtrain\u001b[39m\u001b[39m'\u001b[39m,\n\u001b[1;32m   1404\u001b[0m     epoch_num\u001b[39m=\u001b[39mepoch,\n\u001b[1;32m   1405\u001b[0m     step_num\u001b[39m=\u001b[39mstep,\n\u001b[1;32m   1406\u001b[0m     batch_size\u001b[39m=\u001b[39mbatch_size,\n\u001b[1;32m   1407\u001b[0m     _r\u001b[39m=\u001b[39m\u001b[39m1\u001b[39m):\n\u001b[1;32m   1408\u001b[0m   callbacks\u001b[39m.\u001b[39mon_train_batch_begin(step)\n\u001b[0;32m-> 1409\u001b[0m   tmp_logs \u001b[39m=\u001b[39m \u001b[39mself\u001b[39;49m\u001b[39m.\u001b[39;49mtrain_function(iterator)\n\u001b[1;32m   1410\u001b[0m   \u001b[39mif\u001b[39;00m data_handler\u001b[39m.\u001b[39mshould_sync:\n\u001b[1;32m   1411\u001b[0m     context\u001b[39m.\u001b[39masync_wait()\n",
      "File \u001b[0;32m~/opt/anaconda3/envs/10701/lib/python3.10/site-packages/tensorflow/python/util/traceback_utils.py:150\u001b[0m, in \u001b[0;36mfilter_traceback.<locals>.error_handler\u001b[0;34m(*args, **kwargs)\u001b[0m\n\u001b[1;32m    148\u001b[0m filtered_tb \u001b[39m=\u001b[39m \u001b[39mNone\u001b[39;00m\n\u001b[1;32m    149\u001b[0m \u001b[39mtry\u001b[39;00m:\n\u001b[0;32m--> 150\u001b[0m   \u001b[39mreturn\u001b[39;00m fn(\u001b[39m*\u001b[39;49margs, \u001b[39m*\u001b[39;49m\u001b[39m*\u001b[39;49mkwargs)\n\u001b[1;32m    151\u001b[0m \u001b[39mexcept\u001b[39;00m \u001b[39mException\u001b[39;00m \u001b[39mas\u001b[39;00m e:\n\u001b[1;32m    152\u001b[0m   filtered_tb \u001b[39m=\u001b[39m _process_traceback_frames(e\u001b[39m.\u001b[39m__traceback__)\n",
      "File \u001b[0;32m~/opt/anaconda3/envs/10701/lib/python3.10/site-packages/tensorflow/python/eager/def_function.py:915\u001b[0m, in \u001b[0;36mFunction.__call__\u001b[0;34m(self, *args, **kwds)\u001b[0m\n\u001b[1;32m    912\u001b[0m compiler \u001b[39m=\u001b[39m \u001b[39m\"\u001b[39m\u001b[39mxla\u001b[39m\u001b[39m\"\u001b[39m \u001b[39mif\u001b[39;00m \u001b[39mself\u001b[39m\u001b[39m.\u001b[39m_jit_compile \u001b[39melse\u001b[39;00m \u001b[39m\"\u001b[39m\u001b[39mnonXla\u001b[39m\u001b[39m\"\u001b[39m\n\u001b[1;32m    914\u001b[0m \u001b[39mwith\u001b[39;00m OptionalXlaContext(\u001b[39mself\u001b[39m\u001b[39m.\u001b[39m_jit_compile):\n\u001b[0;32m--> 915\u001b[0m   result \u001b[39m=\u001b[39m \u001b[39mself\u001b[39;49m\u001b[39m.\u001b[39;49m_call(\u001b[39m*\u001b[39;49margs, \u001b[39m*\u001b[39;49m\u001b[39m*\u001b[39;49mkwds)\n\u001b[1;32m    917\u001b[0m new_tracing_count \u001b[39m=\u001b[39m \u001b[39mself\u001b[39m\u001b[39m.\u001b[39mexperimental_get_tracing_count()\n\u001b[1;32m    918\u001b[0m without_tracing \u001b[39m=\u001b[39m (tracing_count \u001b[39m==\u001b[39m new_tracing_count)\n",
      "File \u001b[0;32m~/opt/anaconda3/envs/10701/lib/python3.10/site-packages/tensorflow/python/eager/def_function.py:947\u001b[0m, in \u001b[0;36mFunction._call\u001b[0;34m(self, *args, **kwds)\u001b[0m\n\u001b[1;32m    944\u001b[0m   \u001b[39mself\u001b[39m\u001b[39m.\u001b[39m_lock\u001b[39m.\u001b[39mrelease()\n\u001b[1;32m    945\u001b[0m   \u001b[39m# In this case we have created variables on the first call, so we run the\u001b[39;00m\n\u001b[1;32m    946\u001b[0m   \u001b[39m# defunned version which is guaranteed to never create variables.\u001b[39;00m\n\u001b[0;32m--> 947\u001b[0m   \u001b[39mreturn\u001b[39;00m \u001b[39mself\u001b[39;49m\u001b[39m.\u001b[39;49m_stateless_fn(\u001b[39m*\u001b[39;49margs, \u001b[39m*\u001b[39;49m\u001b[39m*\u001b[39;49mkwds)  \u001b[39m# pylint: disable=not-callable\u001b[39;00m\n\u001b[1;32m    948\u001b[0m \u001b[39melif\u001b[39;00m \u001b[39mself\u001b[39m\u001b[39m.\u001b[39m_stateful_fn \u001b[39mis\u001b[39;00m \u001b[39mnot\u001b[39;00m \u001b[39mNone\u001b[39;00m:\n\u001b[1;32m    949\u001b[0m   \u001b[39m# Release the lock early so that multiple threads can perform the call\u001b[39;00m\n\u001b[1;32m    950\u001b[0m   \u001b[39m# in parallel.\u001b[39;00m\n\u001b[1;32m    951\u001b[0m   \u001b[39mself\u001b[39m\u001b[39m.\u001b[39m_lock\u001b[39m.\u001b[39mrelease()\n",
      "File \u001b[0;32m~/opt/anaconda3/envs/10701/lib/python3.10/site-packages/tensorflow/python/eager/function.py:2453\u001b[0m, in \u001b[0;36mFunction.__call__\u001b[0;34m(self, *args, **kwargs)\u001b[0m\n\u001b[1;32m   2450\u001b[0m \u001b[39mwith\u001b[39;00m \u001b[39mself\u001b[39m\u001b[39m.\u001b[39m_lock:\n\u001b[1;32m   2451\u001b[0m   (graph_function,\n\u001b[1;32m   2452\u001b[0m    filtered_flat_args) \u001b[39m=\u001b[39m \u001b[39mself\u001b[39m\u001b[39m.\u001b[39m_maybe_define_function(args, kwargs)\n\u001b[0;32m-> 2453\u001b[0m \u001b[39mreturn\u001b[39;00m graph_function\u001b[39m.\u001b[39;49m_call_flat(\n\u001b[1;32m   2454\u001b[0m     filtered_flat_args, captured_inputs\u001b[39m=\u001b[39;49mgraph_function\u001b[39m.\u001b[39;49mcaptured_inputs)\n",
      "File \u001b[0;32m~/opt/anaconda3/envs/10701/lib/python3.10/site-packages/tensorflow/python/eager/function.py:1860\u001b[0m, in \u001b[0;36mConcreteFunction._call_flat\u001b[0;34m(self, args, captured_inputs, cancellation_manager)\u001b[0m\n\u001b[1;32m   1856\u001b[0m possible_gradient_type \u001b[39m=\u001b[39m gradients_util\u001b[39m.\u001b[39mPossibleTapeGradientTypes(args)\n\u001b[1;32m   1857\u001b[0m \u001b[39mif\u001b[39;00m (possible_gradient_type \u001b[39m==\u001b[39m gradients_util\u001b[39m.\u001b[39mPOSSIBLE_GRADIENT_TYPES_NONE\n\u001b[1;32m   1858\u001b[0m     \u001b[39mand\u001b[39;00m executing_eagerly):\n\u001b[1;32m   1859\u001b[0m   \u001b[39m# No tape is watching; skip to running the function.\u001b[39;00m\n\u001b[0;32m-> 1860\u001b[0m   \u001b[39mreturn\u001b[39;00m \u001b[39mself\u001b[39m\u001b[39m.\u001b[39m_build_call_outputs(\u001b[39mself\u001b[39;49m\u001b[39m.\u001b[39;49m_inference_function\u001b[39m.\u001b[39;49mcall(\n\u001b[1;32m   1861\u001b[0m       ctx, args, cancellation_manager\u001b[39m=\u001b[39;49mcancellation_manager))\n\u001b[1;32m   1862\u001b[0m forward_backward \u001b[39m=\u001b[39m \u001b[39mself\u001b[39m\u001b[39m.\u001b[39m_select_forward_and_backward_functions(\n\u001b[1;32m   1863\u001b[0m     args,\n\u001b[1;32m   1864\u001b[0m     possible_gradient_type,\n\u001b[1;32m   1865\u001b[0m     executing_eagerly)\n\u001b[1;32m   1866\u001b[0m forward_function, args_with_tangents \u001b[39m=\u001b[39m forward_backward\u001b[39m.\u001b[39mforward()\n",
      "File \u001b[0;32m~/opt/anaconda3/envs/10701/lib/python3.10/site-packages/tensorflow/python/eager/function.py:497\u001b[0m, in \u001b[0;36m_EagerDefinedFunction.call\u001b[0;34m(self, ctx, args, cancellation_manager)\u001b[0m\n\u001b[1;32m    495\u001b[0m \u001b[39mwith\u001b[39;00m _InterpolateFunctionError(\u001b[39mself\u001b[39m):\n\u001b[1;32m    496\u001b[0m   \u001b[39mif\u001b[39;00m cancellation_manager \u001b[39mis\u001b[39;00m \u001b[39mNone\u001b[39;00m:\n\u001b[0;32m--> 497\u001b[0m     outputs \u001b[39m=\u001b[39m execute\u001b[39m.\u001b[39;49mexecute(\n\u001b[1;32m    498\u001b[0m         \u001b[39mstr\u001b[39;49m(\u001b[39mself\u001b[39;49m\u001b[39m.\u001b[39;49msignature\u001b[39m.\u001b[39;49mname),\n\u001b[1;32m    499\u001b[0m         num_outputs\u001b[39m=\u001b[39;49m\u001b[39mself\u001b[39;49m\u001b[39m.\u001b[39;49m_num_outputs,\n\u001b[1;32m    500\u001b[0m         inputs\u001b[39m=\u001b[39;49margs,\n\u001b[1;32m    501\u001b[0m         attrs\u001b[39m=\u001b[39;49mattrs,\n\u001b[1;32m    502\u001b[0m         ctx\u001b[39m=\u001b[39;49mctx)\n\u001b[1;32m    503\u001b[0m   \u001b[39melse\u001b[39;00m:\n\u001b[1;32m    504\u001b[0m     outputs \u001b[39m=\u001b[39m execute\u001b[39m.\u001b[39mexecute_with_cancellation(\n\u001b[1;32m    505\u001b[0m         \u001b[39mstr\u001b[39m(\u001b[39mself\u001b[39m\u001b[39m.\u001b[39msignature\u001b[39m.\u001b[39mname),\n\u001b[1;32m    506\u001b[0m         num_outputs\u001b[39m=\u001b[39m\u001b[39mself\u001b[39m\u001b[39m.\u001b[39m_num_outputs,\n\u001b[0;32m   (...)\u001b[0m\n\u001b[1;32m    509\u001b[0m         ctx\u001b[39m=\u001b[39mctx,\n\u001b[1;32m    510\u001b[0m         cancellation_manager\u001b[39m=\u001b[39mcancellation_manager)\n",
      "File \u001b[0;32m~/opt/anaconda3/envs/10701/lib/python3.10/site-packages/tensorflow/python/eager/execute.py:54\u001b[0m, in \u001b[0;36mquick_execute\u001b[0;34m(op_name, num_outputs, inputs, attrs, ctx, name)\u001b[0m\n\u001b[1;32m     52\u001b[0m \u001b[39mtry\u001b[39;00m:\n\u001b[1;32m     53\u001b[0m   ctx\u001b[39m.\u001b[39mensure_initialized()\n\u001b[0;32m---> 54\u001b[0m   tensors \u001b[39m=\u001b[39m pywrap_tfe\u001b[39m.\u001b[39;49mTFE_Py_Execute(ctx\u001b[39m.\u001b[39;49m_handle, device_name, op_name,\n\u001b[1;32m     55\u001b[0m                                       inputs, attrs, num_outputs)\n\u001b[1;32m     56\u001b[0m \u001b[39mexcept\u001b[39;00m core\u001b[39m.\u001b[39m_NotOkStatusException \u001b[39mas\u001b[39;00m e:\n\u001b[1;32m     57\u001b[0m   \u001b[39mif\u001b[39;00m name \u001b[39mis\u001b[39;00m \u001b[39mnot\u001b[39;00m \u001b[39mNone\u001b[39;00m:\n",
      "\u001b[0;31mKeyboardInterrupt\u001b[0m: "
     ]
    }
   ],
   "source": [
    "from data_loading import load_data\n",
    "from tensorflow.keras.models import Sequential\n",
    "from tensorflow.keras.layers import Dense, LSTM\n",
    "from sklearn.metrics import mean_squared_error\n",
    "\n",
    "import plotly.graph_objects as go\n",
    "import plotly.express as px\n",
    "import plotly.colors\n",
    "import tqdm\n",
    "\n",
    "import numpy as np\n",
    "import pandas as pd\n",
    "\n",
    "\n",
    "data = load_data(file_path = data_path , num_cells = 3)\n",
    "\n",
    "single_cell_data=data['b1c2']['cycles']\n",
    "\n",
    "# getting the data into a dataframe\n",
    "df_list = []\n",
    "max_cycle = 1175\n",
    "for cycle_key, time_series in tqdm.tqdm(single_cell_data.items()):\n",
    "    cycle_num = int(cycle_key)\n",
    "    if cycle_num<1:\n",
    "        continue\n",
    "    df = pd.DataFrame({'t': time_series['t'], \n",
    "                       'V': time_series['V'],\n",
    "                       'temp': time_series['T'],\n",
    "                       'I': time_series['I'],\n",
    "                       'Qd': time_series['Qd'],\n",
    "                      }\n",
    "                       )\n",
    "    # drop duplicates to be able to interpolate over capacity\n",
    "    df = df.drop_duplicates(subset='Qd')\n",
    "    \n",
    "    \n",
    "    # get discharge part of curve only (current is negative during discharge)\n",
    "    df = df[df.I<-3.85]\n",
    "    \n",
    "    # normalize voltage and temperature using fixed thershold's to avoid data leakage\n",
    "    df['V_norm'] = (df.V-1.9)/(3.5-1.9)\n",
    "    df['T_norm'] = (df.temp-24)/(38-24)\n",
    "    \n",
    "    interp_df = pd.DataFrame()\n",
    "    # use capacity as reference to interpolate over\n",
    "    Q_eval = [0, 0.0125, 0.025, 0.075, 0.1, 0.2, 0.3, 0.4, 0.5, 0.6, 0.8, 0.85, 0.9, 0.95, 0.975, 0.98, 0.99, 1.0, 1.005, 1.01, 1.015, 1.02]\n",
    "    interp_df['Q_eval'] = Q_eval\n",
    "    fV = interp1d(x=df.Qd, y =df.V_norm, kind='quadratic', fill_value='extrapolate')\n",
    "    interp_df['V_norm'] = fV(Q_eval)\n",
    "    ft = interp1d(x=df.Qd, y =df.t, kind='quadratic', fill_value='extrapolate')\n",
    "    interp_df['t'] = ft(Q_eval)\n",
    "    fT = interp1d(x=df.Qd, y =df['T_norm'], kind='quadratic', fill_value='extrapolate')\n",
    "    interp_df['T_norm'] = fT(Q_eval)\n",
    "    \n",
    "    interp_df['Cycle'] = [cycle_num/max_cycle for i in range(len(interp_df))]\n",
    "    \n",
    "    df_list.append(interp_df)\n",
    "\n",
    "# multivariate data preparation\n",
    "# TODO: multi output (temperature + voltage)\n",
    "# TODO: multiple time steps in the future \n",
    "X_list, y_list = [], []\n",
    "\n",
    "# split a multivariate sequence into samples\n",
    "def split_sequences(sequences, n_steps):\n",
    "    X, y = list(), list()\n",
    "    for i in range(len(sequences)):\n",
    "        # find the end of this pattern\n",
    "        end_ix = i + n_steps\n",
    "        # check if we are beyond the dataset\n",
    "        if end_ix > len(sequences):\n",
    "            break\n",
    "            # gather input and output parts of the pattern\n",
    "        seq_x, seq_y = sequences[i:end_ix-1, :-1], sequences[end_ix-1, -1]\n",
    "        X.append(seq_x)\n",
    "        y.append(seq_y)\n",
    "    return np.array(X), np.array(y)\n",
    "\n",
    "for df in df_list:\n",
    "    # define input sequence\n",
    "    in_seq1 = df['T_norm'].values\n",
    "    in_seq2 = df['Q_eval'].values\n",
    "    in_seq3 = df['V_norm'].values\n",
    "    out_seq = df['V_norm'].values\n",
    "    \n",
    "    # convert to [rows, columns] structure\n",
    "    in_seq1 = in_seq1.reshape((len(in_seq1), 1))\n",
    "    in_seq2 = in_seq2.reshape((len(in_seq2), 1))\n",
    "    in_seq3 = in_seq3.reshape((len(in_seq3), 1))\n",
    "    out_seq = out_seq.reshape((len(out_seq), 1))\n",
    "    \n",
    "    # horizontally stack columns\n",
    "    dataset = np.hstack((in_seq1, in_seq2, in_seq3, out_seq))\n",
    "    \n",
    "    # choose a number of time steps (for input window)\n",
    "    n_steps = 4\n",
    "    \n",
    "    # convert into input/output\n",
    "    X_cycle, y_cycle = split_sequences(dataset, n_steps)\n",
    "    X_list.append(X_cycle)\n",
    "    y_list.append(y_cycle)\n",
    "\n",
    "batch_size = X_cycle.shape[0] \n",
    "# batch_size must be equal to the length of 1 input curve\n",
    "# since for a stateful LSTM the cell state is cleared after a batch\n",
    "# (look at the keras docs)\n",
    "# we could write over own custom callback if we need batch_size != sequence_length\n",
    "# (for the use t prediction as t+1 input case)\n",
    "# but I'm not sure if that's acceptable practice\n",
    "\n",
    "window_length = X_cycle.shape[1]\n",
    "n_features = X_cycle.shape[2]\n",
    "\n",
    "X_train = np.array([item for index, item in enumerate(X_list) if index % 100 != 0])\n",
    "X_test = np.array([item for index, item in enumerate(X_list) if index % 100 == 0])\n",
    "\n",
    "y_train = np.array([item for index, item in enumerate(y_list) if index % 100 != 0])\n",
    "y_test = np.array([item for index, item in enumerate(y_list) if index % 100 == 0])\n",
    "\n",
    "y_test = y_test.flatten()\n",
    "y_train = y_train.flatten()\n",
    "\n",
    "X_train = X_train.reshape(X_train.shape[0]*batch_size, X_train[0].shape[1] , X_train.shape[-1])\n",
    "X_test = X_test.reshape(X_test.shape[0]*batch_size,X_test[0].shape[1], X_test.shape[-1])\n",
    "n_features = X_cycle.shape[2]\n",
    "\n",
    "# define model\n",
    "# TODO: hyperparameter tuning (Anoushka)\n",
    "model = Sequential()\n",
    "model.add(LSTM(32, return_sequences=True, stateful=True, batch_input_shape=(19, 3, 3)))\n",
    "model.add(LSTM(16, return_sequences=False))\n",
    "model.add(Dense(32, activation=\"sigmoid\"))\n",
    "model.add(Dense(8))\n",
    "model.add(Dense(1))\n",
    "\n",
    "model.compile(optimizer='adam', loss='mse')\n",
    "\n",
    "model.compile(optimizer='adam', loss='mse')\n",
    "\n",
    "model.summary()\n",
    "\n",
    "sample_weight = np.ones(y_train.shape)\n",
    "# TODO: experiment with different sample weights and thersholds\n",
    "# (this is a arbitary guess)\n",
    "sample_weight[y_train<0.6]=2\n",
    "sample_weight[y_train<0.5]=3\n",
    "\n",
    "# TODO: add validation set or validation split + early stopping\n",
    "history = model.fit(X_train, y_train, \n",
    "                    epochs=50, \n",
    "                    batch_size=batch_size, \n",
    "                    shuffle=False, \n",
    "                    verbose=0, \n",
    "                    sample_weight=sample_weight)\n",
    "\n",
    "fig = go.Figure()\n",
    "fig.add_trace(go.Scatter(x = np.linspace(1,50), y = history.history['loss'],\n",
    "                         showlegend=False, mode=\"markers+lines\"))\n",
    "fig.update_xaxes(title='Epochs')\n",
    "fig.update_yaxes(title='Loss (MSE)')\n",
    "fig.write_image('train_loss.png')\n",
    "\n",
    "# random plotting traing error at some interval = skip to not make the plot rendering too slow\n",
    "skip = 20\n",
    "X_train_show=[]\n",
    "y_train_show=[]\n",
    "y_train_ref =[]\n",
    "for i in tqdm.tqdm(range(0,len(X_train),batch_size*skip)):\n",
    "    X_temp,y_temp = X_train[i:i+batch_size],y_train[i:i+batch_size]\n",
    "    y_show = model.predict(X_temp,verbose=0)\n",
    "    X_train_show.append(X_temp)\n",
    "    y_train_show.append(y_show)\n",
    "    y_train_ref.append(y_train[i:i+batch_size])\n",
    "fig = go.Figure()\n",
    "fig.add_trace(go.Scatter(x = [0,1], y = [0,1], showlegend=False, mode=\"markers+lines\"))\n",
    "for i in range(0,len(X_train_show)):\n",
    "    fig.add_trace(go.Scatter(x = y_train_show[i].flatten(), \n",
    "                             y = y_train_ref[i].flatten(), \n",
    "                             showlegend=False, mode=\"markers\"))\n",
    "fig.update_yaxes(title='Normalized Target')\n",
    "fig.update_xaxes(title='Normalized Prediction')\n",
    "fig.write_image(\"train_parity_plot.png\")\n",
    "\n",
    "\n",
    "y_hat_list = []\n",
    "y_test_ref = []\n",
    "for i in tqdm.tqdm(range(0,len(X_test))):\n",
    "    X_cycle, y_cycle = X_test[i], y_test[i]\n",
    "    y_hat = model.predict(X_cycle, verbose=0)\n",
    "    y_hat_list.append(y_hat)\n",
    "    y_test_ref.append(y_cycle)\n",
    "\n",
    "# parity plot for test set\n",
    "pallete = plotly.colors.qualitative.Dark24*10\n",
    "fig = go.Figure()\n",
    "fig.add_trace(go.Scatter(x = [0,1], y = [0,1], showlegend=False, mode=\"markers+lines\"))\n",
    "for i in range(0, len(y_hat_list)):\n",
    "    fig.add_trace(go.Scatter(x = y_hat_list[i].flatten(), \n",
    "                             y = y_test_ref[i].flatten(), \n",
    "                             showlegend=False, mode=\"markers\", \n",
    "                             line_color = pallete[i]))\n",
    "fig.update_yaxes(title='Normalized Target')\n",
    "fig.update_xaxes(title='Normalized Prediction')\n",
    "fig.write_image('prediction_parity_plot.png')"
   ]
  },
  {
   "cell_type": "code",
   "execution_count": null,
   "id": "0079d655",
   "metadata": {},
   "outputs": [],
   "source": []
  }
 ],
 "metadata": {
  "kernelspec": {
   "display_name": "Python 3.10.6 ('10701')",
   "language": "python",
   "name": "python3"
  },
  "language_info": {
   "codemirror_mode": {
    "name": "ipython",
    "version": 3
   },
   "file_extension": ".py",
   "mimetype": "text/x-python",
   "name": "python",
   "nbconvert_exporter": "python",
   "pygments_lexer": "ipython3",
   "version": "3.10.6"
  },
  "vscode": {
   "interpreter": {
    "hash": "63dcb1742ad588d72fa93718ba23fdbf2e75f9bb2496cf77f8dc8d00f14cc3b8"
   }
  }
 },
 "nbformat": 4,
 "nbformat_minor": 5
}
