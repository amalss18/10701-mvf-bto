{
 "cells": [
  {
   "cell_type": "code",
   "execution_count": null,
   "id": "153bf8fa",
   "metadata": {},
   "outputs": [],
   "source": [
    "from tensorflow.keras.models import Sequential\n",
    "from tensorflow.keras.layers import Dense, LSTM, Dropout\n",
    "from sklearn.metrics import mean_squared_error\n",
    "from scipy.interpolate import interp1d\n",
    "\n",
    "import plotly.graph_objects as go\n",
    "import plotly.express as px\n",
    "import plotly.colors\n",
    "\n",
    "import numpy as np\n",
    "import pandas as pd\n",
    "import tqdm\n",
    "from keras_tuner.tuners import RandomSearch\n",
    "from keras_tuner.engine.hyperparameters import HyperParameters\n",
    "from mvf_bto.data_loading import load_data"
   ]
  },
  {
   "cell_type": "markdown",
   "id": "399af5af",
   "metadata": {},
   "source": [
    "## Loading Data"
   ]
  },
  {
   "cell_type": "code",
   "execution_count": null,
   "id": "da1525d3",
   "metadata": {},
   "outputs": [],
   "source": [
    "data_path = \"/Users/anoushkabhutani/PycharmProjects/10701-mvf-bto/data/2017-05-12_batchdata_updated_struct_errorcorrect.mat\""
   ]
  },
  {
   "cell_type": "code",
   "execution_count": null,
   "id": "a26f9c62",
   "metadata": {},
   "outputs": [],
   "source": [
    "data = load_data(file_path= data_path, num_cells= 3)"
   ]
  },
  {
   "cell_type": "code",
   "execution_count": null,
   "id": "daa30d37",
   "metadata": {},
   "outputs": [],
   "source": [
    "single_cell_data = data['b1c2']['cycles']"
   ]
  },
  {
   "cell_type": "markdown",
   "id": "43e44118",
   "metadata": {},
   "source": [
    "## Preprocessing Data"
   ]
  },
  {
   "cell_type": "code",
   "execution_count": null,
   "id": "aca8e318",
   "metadata": {},
   "outputs": [],
   "source": [
    "df_list = []\n",
    "max_cycle = 1175\n",
    "for cycle_key, time_series in tqdm.tqdm(single_cell_data.items()):\n",
    "    cycle_num = int(cycle_key)\n",
    "    if cycle_num<1:\n",
    "        continue\n",
    "    df = pd.DataFrame({'t': time_series['t'], \n",
    "                       'V': time_series['V'],\n",
    "                       'temp': time_series['T'],\n",
    "                       'I': time_series['I'],\n",
    "                       'Qd': time_series['Qd'],\n",
    "                      }\n",
    "                       )\n",
    "    # drop duplicates to be able to interpolate over capacity\n",
    "    df = df.drop_duplicates(subset='Qd')\n",
    "    \n",
    "    \n",
    "    # get discharge part of curve only (current is negative during discharge)\n",
    "    df = df[df.I<-3.85]\n",
    "    \n",
    "    # normalize voltage and temperature using fixed thershold's to avoid data leakage\n",
    "    df['V_norm'] = (df.V-1.9)/(3.5-1.9)\n",
    "    df['T_norm'] = (df.temp-24)/(38-24)\n",
    "    \n",
    "    interp_df = pd.DataFrame()\n",
    "    # use capacity as reference to interpolate over\n",
    "    Q_eval = [0, 0.0125, 0.025, 0.075, 0.1, 0.2, 0.3, 0.4, 0.5, 0.6, 0.8, 0.85, 0.9, 0.95, 0.975, 0.98, 0.99, 1.0, 1.005, 1.01, 1.015, 1.02]\n",
    "    interp_df['Q_eval'] = Q_eval\n",
    "    fV = interp1d(x=df.Qd, y =df.V_norm, kind='quadratic', fill_value='extrapolate')\n",
    "    interp_df['V_norm'] = fV(Q_eval)\n",
    "    ft = interp1d(x=df.Qd, y =df.t, kind='quadratic', fill_value='extrapolate')\n",
    "    interp_df['t'] = ft(Q_eval)\n",
    "    fT = interp1d(x=df.Qd, y =df['T_norm'], kind='quadratic', fill_value='extrapolate')\n",
    "    interp_df['T_norm'] = fT(Q_eval)\n",
    "    \n",
    "    interp_df['Cycle'] = [cycle_num/max_cycle for i in range(len(interp_df))]\n",
    "    \n",
    "    df_list.append(interp_df)"
   ]
  },
  {
   "cell_type": "code",
   "execution_count": null,
   "id": "cdbbbd83",
   "metadata": {},
   "outputs": [],
   "source": [
    "# multivariate data preparation\n",
    "# TODO: multi output (temperature + voltage)\n",
    "# TODO: multiple time steps in the future \n",
    "X_list, y_list = [], []\n",
    "\n",
    "# split a multivariate sequence into samples\n",
    "def split_sequences(sequences, n_steps):\n",
    "    X, y = list(), list()\n",
    "    for i in range(len(sequences)):\n",
    "        # find the end of this pattern\n",
    "        end_ix = i + n_steps\n",
    "        # check if we are beyond the dataset\n",
    "        if end_ix > len(sequences):\n",
    "            break\n",
    "            # gather input and output parts of the pattern\n",
    "        seq_x, seq_y = sequences[i:end_ix-1, :-1], sequences[end_ix-1, -1]\n",
    "        X.append(seq_x)\n",
    "        y.append(seq_y)\n",
    "    return np.array(X), np.array(y)\n",
    "\n",
    "for df in df_list:\n",
    "    # define input sequence\n",
    "    in_seq1 = df['T_norm'].values\n",
    "    in_seq2 = df['Q_eval'].values\n",
    "    in_seq3 = df['V_norm'].values\n",
    "    out_seq = df['V_norm'].values\n",
    "    \n",
    "    # convert to [rows, columns] structure\n",
    "    in_seq1 = in_seq1.reshape((len(in_seq1), 1))\n",
    "    in_seq2 = in_seq2.reshape((len(in_seq2), 1))\n",
    "    in_seq3 = in_seq3.reshape((len(in_seq3), 1))\n",
    "    out_seq = out_seq.reshape((len(out_seq), 1))\n",
    "    \n",
    "    # horizontally stack columns\n",
    "    dataset = np.hstack((in_seq1, in_seq2, in_seq3, out_seq))\n",
    "    \n",
    "    # choose a number of time steps (for input window)\n",
    "    n_steps = 4\n",
    "    \n",
    "    # convert into input/output\n",
    "    X_cycle, y_cycle = split_sequences(dataset, n_steps)\n",
    "    X_list.append(X_cycle)\n",
    "    y_list.append(y_cycle)"
   ]
  },
  {
   "cell_type": "code",
   "execution_count": null,
   "id": "06da13c5",
   "metadata": {},
   "outputs": [],
   "source": [
    "batch_size = X_cycle.shape[0] \n",
    "# batch_size must be equal to the length of 1 input curve\n",
    "# since for a stateful LSTM the cell state is cleared after a batch\n",
    "# (look at the keras docs)\n",
    "# we could write over own custom callback if we need batch_size != sequence_length\n",
    "# (for the use t prediction as t+1 input case)\n",
    "# but I'm not sure if that's acceptable practice\n",
    "\n",
    "window_length = X_cycle.shape[1]\n",
    "n_features = X_cycle.shape[2]"
   ]
  },
  {
   "cell_type": "code",
   "execution_count": null,
   "id": "2ae46c85",
   "metadata": {},
   "outputs": [],
   "source": [
    "X_train = np.array([item for index, item in enumerate(X_list) if index % 100 != 0])\n",
    "X_test = np.array([item for index, item in enumerate(X_list) if index % 100 == 0])\n",
    "\n",
    "y_train = np.array([item for index, item in enumerate(y_list) if index % 100 != 0])\n",
    "y_test = np.array([item for index, item in enumerate(y_list) if index % 100 == 0])\n",
    "\n",
    "y_test = y_test.flatten()\n",
    "y_train = y_train.flatten()\n",
    "\n",
    "X_train = X_train.reshape(X_train.shape[0]*batch_size, X_train[0].shape[1] , X_train.shape[-1])\n",
    "X_test = X_test.reshape(X_test.shape[0]*batch_size,X_test[0].shape[1], X_test.shape[-1])"
   ]
  },
  {
   "cell_type": "markdown",
   "id": "93de48e3",
   "metadata": {},
   "source": [
    "## Hyperparameter Tuning"
   ]
  },
  {
   "cell_type": "code",
   "execution_count": null,
   "id": "d86e6d2e",
   "metadata": {},
   "outputs": [],
   "source": [
    "def build_model(hp):\n",
    "    model = Sequential()\n",
    "    model.add(LSTM(hp.Int('input_unit',min_value=32,max_value=512,step=32),\n",
    "                   return_sequences=True, \n",
    "                   input_shape=(X_train.shape[1],X_train.shape[2])))\n",
    "    for i in range(hp.Int('n_layers', 1, 4)):\n",
    "        model.add(LSTM(hp.Int(f'lstm_{i}_units',min_value=32,max_value=512,step=32), return_sequences=True))\n",
    "    model.add(LSTM(hp.Int('layer_2_neurons',min_value=32,max_value=512,step=32)))\n",
    "    model.add(Dropout(hp.Float('Dropout_rate',min_value=0,max_value=0.5,step=0.1)))\n",
    "    model.add(Dense(1, activation=hp.Choice('dense_activation', values=['relu', 'sigmoid'],default='relu')))\n",
    "    model.compile(loss='mean_squared_error', optimizer='adam', metrics = ['mse'])\n",
    "    return model\n",
    "\n",
    "tuner= RandomSearch(\n",
    "        build_model,\n",
    "        objective='val_mse',\n",
    "        max_trials=15,\n",
    "        executions_per_trial=1\n",
    "        )\n",
    "\n",
    "tuner.search(X_train, y_train, epochs=8, validation_data=(X_test, y_test))\n",
    "best_model = tuner.get_best_models()[0]"
   ]
  },
  {
   "cell_type": "code",
   "execution_count": null,
   "id": "cacd6530",
   "metadata": {},
   "outputs": [],
   "source": [
    "# TODO: add validation set or validation split + early stopping\n",
    "history = best_model.fit(X_train, \n",
    "                         y_train, \n",
    "                         epochs=30, \n",
    "                         batch_size=batch_size, \n",
    "                         shuffle=False, \n",
    "                         verbose=1, )"
   ]
  },
  {
   "cell_type": "code",
   "execution_count": null,
   "id": "ad3d04e5",
   "metadata": {},
   "outputs": [],
   "source": [
    "fig = go.Figure()\n",
    "fig.add_trace(go.Scatter(x = np.linspace(1,50), y = history.history['loss'],\n",
    "                         showlegend=False, mode=\"markers+lines\"))\n",
    "fig.update_xaxes(title='Epochs')\n",
    "fig.update_yaxes(title='Loss (MSE)')"
   ]
  },
  {
   "cell_type": "markdown",
   "id": "e5b4a058",
   "metadata": {},
   "source": [
    "## Parity Plot of Training Error"
   ]
  },
  {
   "cell_type": "code",
   "execution_count": null,
   "id": "b99a145c",
   "metadata": {},
   "outputs": [],
   "source": [
    "# random plotting traing error at some interval = skip to not make the plot rendering too slow\n",
    "skip = 20\n",
    "\n",
    "fig = go.Figure()\n",
    "fig.add_trace(go.Scatter(x = [0,1], y = [0,1], showlegend=False, mode=\"markers+lines\"))\n",
    "for i in range(0,len(X_train), batch_size*skip):\n",
    "    fig.add_trace(go.Scatter(x = model.predict(X_train[i:i+batch_size]).flatten(), \n",
    "                             y = y_train[i:i+batch_size], \n",
    "                             showlegend=False, mode=\"markers+lines\"))\n",
    "fig.update_yaxes(title='Normalized Target')\n",
    "fig.update_xaxes(title='Normalized Prediction')"
   ]
  },
  {
   "cell_type": "markdown",
   "id": "a26ace94",
   "metadata": {},
   "source": [
    "## Parity Plot of Test Error"
   ]
  },
  {
   "cell_type": "code",
   "execution_count": null,
   "id": "c3bd3873",
   "metadata": {},
   "outputs": [],
   "source": [
    "pallete = plotly.colors.qualitative.Dark24*10\n",
    "\n",
    "fig = go.Figure()\n",
    "fig.add_trace(go.Scatter(x = [0,1], y = [0,1], showlegend=False, mode=\"markers+lines\"))\n",
    "\n",
    "for i in range(0, len(X_test), batch_size):\n",
    "    fig.add_trace(go.Scatter(x = model.predict(X_test[i:i+batch_size]).flatten(), \n",
    "                             y = y_test[i:i+batch_size], \n",
    "                             showlegend=False, mode=\"markers+lines\", \n",
    "                             line_color = pallete[i]))\n",
    "fig.update_yaxes(title='Normalized Target')\n",
    "fig.update_xaxes(title='Normalized Prediction')"
   ]
  },
  {
   "cell_type": "code",
   "execution_count": null,
   "id": "5a02331f",
   "metadata": {},
   "outputs": [],
   "source": [
    "fig = go.Figure()\n",
    "for i in range(0, len(X_test), batch_size):\n",
    "    V_actual = y_test[i:i+batch_size]\n",
    "    V_pred = model.predict(X_test[i:i+batch_size]).flatten()\n",
    "    fig.add_trace(go.Scatter(x = Q_eval, y = V_actual*(3.5-1.9)+1.9, \n",
    "                             mode='lines', name = 'data', \n",
    "                             line_color = pallete[i]))\n",
    "    fig.add_trace(go.Scatter(x = Q_eval, y = V_pred*(3.5-1.9)+1.9,\n",
    "                             mode='markers', name = 'prediction', \n",
    "                             line_color = pallete[i]))\n",
    "fig.update_yaxes(title=\"Voltage [V]\")\n",
    "fig.update_xaxes(title=\"Capacity [Ah]\")"
   ]
  },
  {
   "cell_type": "code",
   "execution_count": null,
   "id": "726f7871",
   "metadata": {},
   "outputs": [],
   "source": []
  },
  {
   "cell_type": "code",
   "execution_count": null,
   "id": "86bdc574",
   "metadata": {},
   "outputs": [],
   "source": []
  }
 ],
 "metadata": {
  "kernelspec": {
   "display_name": "Python 3 (ipykernel)",
   "language": "python",
   "name": "python3"
  },
  "language_info": {
   "codemirror_mode": {
    "name": "ipython",
    "version": 3
   },
   "file_extension": ".py",
   "mimetype": "text/x-python",
   "name": "python",
   "nbconvert_exporter": "python",
   "pygments_lexer": "ipython3",
   "version": "3.10.4"
  }
 },
 "nbformat": 4,
 "nbformat_minor": 5
}
