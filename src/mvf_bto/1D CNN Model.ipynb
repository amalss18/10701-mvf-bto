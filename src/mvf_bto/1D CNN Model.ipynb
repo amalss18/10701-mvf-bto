{
 "cells": [
  {
   "cell_type": "code",
   "execution_count": null,
   "id": "2d2f7bac",
   "metadata": {
    "scrolled": true
   },
   "outputs": [],
   "source": [
    "%load_ext autoreload\n",
    "%autoreload 2"
   ]
  },
  {
   "cell_type": "code",
   "execution_count": null,
   "id": "9821c3a9",
   "metadata": {
    "scrolled": true
   },
   "outputs": [],
   "source": [
    "from mvf_bto.data_loading import load_data\n",
    "from mvf_bto.constants import * \n",
    "from mvf_bto.models.convolutional_1d import Convolutional1D\n",
    "from mvf_bto.preprocessing.convolutional import create_discharge_inputs\n",
    "from tensorflow.keras.callbacks import EarlyStopping\n",
    "from tensorflow.keras.metrics import MeanSquaredError\n",
    "from scipy.interpolate import interp1d\n",
    "\n",
    "import numpy as np\n",
    "import pandas as pd\n",
    "import plotly\n",
    "import plotly.graph_objects as go"
   ]
  },
  {
   "cell_type": "markdown",
   "id": "39585647",
   "metadata": {},
   "source": [
    "## Loading Data"
   ]
  },
  {
   "cell_type": "code",
   "execution_count": null,
   "id": "25011aae",
   "metadata": {
    "scrolled": true
   },
   "outputs": [],
   "source": [
    "data_path = \"/Users/anoushkabhutani/PycharmProjects/10701-mvf-bto/data/2017-05-12_batchdata_updated_struct_errorcorrect.mat\"\n",
    "# data_path = \"/Users/mac/Desktop/CMU/10701MachineLearning/project/10701-mvf-bto-backup/data/2017-05-12_batchdata_updated_struct_errorcorrect.mat\""
   ]
  },
  {
   "cell_type": "code",
   "execution_count": null,
   "id": "cdb39ad4",
   "metadata": {
    "scrolled": true
   },
   "outputs": [],
   "source": [
    "data = load_data(file_path=data_path, num_cells=15)"
   ]
  },
  {
   "cell_type": "markdown",
   "id": "eb9b7c61",
   "metadata": {},
   "source": [
    "## Preprocessing to create model inputs and targets"
   ]
  },
  {
   "cell_type": "code",
   "execution_count": null,
   "id": "d01bde5d",
   "metadata": {
    "scrolled": true
   },
   "outputs": [],
   "source": [
    "train_split = 0.7\n",
    "test_split = 0.2\n",
    "forecast_horizon=4\n",
    "history_window=10"
   ]
  },
  {
   "cell_type": "code",
   "execution_count": null,
   "id": "01b9e965",
   "metadata": {
    "scrolled": true
   },
   "outputs": [],
   "source": [
    "# by default uses validation_split = 1 - (train_split + test_split)\n",
    "datasets = create_discharge_inputs(data, train_split, test_split, \n",
    "                                   forecast_horizon=forecast_horizon,\n",
    "                                   history_window=history_window)"
   ]
  },
  {
   "cell_type": "markdown",
   "id": "5ba79664",
   "metadata": {},
   "source": [
    "## Train Model"
   ]
  },
  {
   "cell_type": "code",
   "execution_count": null,
   "id": "dbadb60b",
   "metadata": {
    "scrolled": true
   },
   "outputs": [],
   "source": [
    "window_length = datasets[\"X_train\"].shape[1]\n",
    "n_features = datasets['n_features']\n",
    "input_shape = (window_length, n_features)\n",
    "output_dimension = datasets[\"y_train\"].shape[-1]"
   ]
  },
  {
   "cell_type": "code",
   "execution_count": null,
   "id": "c0b32513",
   "metadata": {},
   "outputs": [],
   "source": [
    "from tensorflow import keras"
   ]
  },
  {
   "cell_type": "code",
   "execution_count": null,
   "id": "e28f63d1",
   "metadata": {
    "scrolled": true
   },
   "outputs": [],
   "source": [
    "model = Convolutional1D(input_shape=input_shape, n_outputs=output_dimension)\n",
    "\n",
    "es = EarlyStopping(\n",
    "    monitor=\"val_mean_squared_error\",\n",
    "    min_delta=0,\n",
    "    patience=40,\n",
    "    verbose=1,\n",
    "    mode=\"min\",\n",
    "    restore_best_weights=True,\n",
    ")\n",
    "\n",
    "lr_schedule = keras.optimizers.schedules.ExponentialDecay(\n",
    "    initial_learning_rate=0.01,\n",
    "    decay_steps=1000,\n",
    "    decay_rate=0.96)\n",
    "optimizer = keras.optimizers.Adam(learning_rate=lr_schedule)\n",
    "\n",
    "model.compile(optimizer=optimizer,\n",
    "              loss=\"mse\", \n",
    "              metrics=[MeanSquaredError()])\n",
    "\n",
    "history = model.fit(\n",
    "    datasets[\"X_train\"],\n",
    "    datasets[\"y_train\"],\n",
    "    validation_data=(datasets[\"X_val\"], datasets[\"y_val\"]),\n",
    "    epochs=300,\n",
    "    callbacks=[es],\n",
    "    batch_size=128,\n",
    "    shuffle=False,\n",
    "    verbose=1,\n",
    "\n",
    ")"
   ]
  },
  {
   "cell_type": "markdown",
   "id": "9203ca06",
   "metadata": {},
   "source": [
    "## Parity Plots"
   ]
  },
  {
   "cell_type": "code",
   "execution_count": null,
   "id": "95a305e8",
   "metadata": {
    "scrolled": true
   },
   "outputs": [],
   "source": [
    "model.summary()"
   ]
  },
  {
   "cell_type": "code",
   "execution_count": null,
   "id": "05001968",
   "metadata": {
    "scrolled": true
   },
   "outputs": [],
   "source": [
    "pred_df = pd.DataFrame(model.predict(datasets[\"X_test\"], verbose=0))\n",
    "test_df = pd.DataFrame(datasets[\"y_test\"])\n",
    "column_names = []\n",
    "for i in range(len(test_df.columns)//2):\n",
    "    column_names.append(f\"Voltage (FH = {i+1})\")\n",
    "    column_names.append(f\"Temperature (FH = {i+1})\")\n",
    "pred_df.columns =  column_names\n",
    "test_df.columns =  column_names"
   ]
  },
  {
   "cell_type": "code",
   "execution_count": null,
   "id": "f64aab18",
   "metadata": {
    "scrolled": true
   },
   "outputs": [],
   "source": [
    "skip = 30\n",
    "parity_plot_list = []\n",
    "for column in test_df.columns:\n",
    "    fig = go.Figure()\n",
    "    fig.add_trace(go.Scatter(x=[0, 1], y=[0, 1], showlegend=False, mode=\"lines\"))\n",
    "    fig.add_trace(go.Scatter(x = pred_df[column][::skip], showlegend=False,  y=test_df[column][::skip], mode=\"markers\"))\n",
    "    fig.update_yaxes(title=f\"Normalized Target {column}\")\n",
    "    fig.update_xaxes(title=f\"Normalized Prediction {column}\")\n",
    "    fig.update_layout(template=\"simple_white\")\n",
    "    parity_plot_list.append(fig)"
   ]
  },
  {
   "cell_type": "code",
   "execution_count": null,
   "id": "78f8869b",
   "metadata": {
    "scrolled": true
   },
   "outputs": [],
   "source": [
    "parity_plot_list[0]"
   ]
  },
  {
   "cell_type": "code",
   "execution_count": null,
   "id": "be3c5548",
   "metadata": {
    "scrolled": true
   },
   "outputs": [],
   "source": [
    "parity_plot_list[7]"
   ]
  },
  {
   "cell_type": "code",
   "execution_count": null,
   "id": "19805083",
   "metadata": {
    "scrolled": true
   },
   "outputs": [],
   "source": [
    "parity_plot_list[-1]"
   ]
  },
  {
   "cell_type": "markdown",
   "id": "868b60bb",
   "metadata": {},
   "source": [
    "## True vs Predicted Traces"
   ]
  },
  {
   "cell_type": "code",
   "execution_count": null,
   "id": "29221641",
   "metadata": {
    "scrolled": true
   },
   "outputs": [],
   "source": [
    "cycles = [int(datasets[\"X_test\"][i][-1][-1]*MAX_CYCLE) for i in range(len(datasets[\"X_test\"]))]\n",
    "pred_df = pd.DataFrame(model.predict(datasets[\"X_test\"], verbose=1))\n",
    "test_df = pd.DataFrame(datasets[\"y_test\"])\n",
    "column_names = []\n",
    "for i in range(len(test_df.columns)//2):\n",
    "    column_names.append(f\"Voltage (FH = {i+1})\")\n",
    "    column_names.append(f\"Temperature (FH = {i+1})\")\n",
    "pred_df.columns =  column_names\n",
    "test_df.columns =  column_names\n",
    "test_df['Cycle']= cycles\n",
    "pred_df['Cycle']=cycles\n",
    "cycles_plot = pred_df['Cycle'].unique()[::30]\n",
    "pred_df['Q'] = [datasets[\"X_test\"][i][0][1]*1.6 for i in range(0,len(datasets[\"X_test\"]))]\n",
    "test_df['Q'] = [datasets[\"X_test\"][i][0][1]*1.6 for i in range(0,len(datasets[\"X_test\"]))]\n",
    "test_cell_ids = datasets['original_test'].Cell.unique()"
   ]
  },
  {
   "cell_type": "code",
   "execution_count": null,
   "id": "bb2d5d36",
   "metadata": {},
   "outputs": [],
   "source": [
    "pallete = plotly.colors.qualitative.Dark24 + plotly.colors.qualitative.T10\n",
    "pallete = pallete*70000\n",
    "pred_df.columns"
   ]
  },
  {
   "cell_type": "code",
   "execution_count": null,
   "id": "698faa77",
   "metadata": {},
   "outputs": [],
   "source": [
    "split_indices = [0,]\n",
    "split_indices.extend([i[0] for i in np.where(np.diff(pred_df.Cycle)<0)])\n",
    "split_indices.append(len(pred_df))\n",
    "cell_wise_pred_dfs = [pred_df.iloc[split_indices[n]:split_indices[n+1]] for n in range(len(split_indices)-1)]\n",
    "cell_wise_test_dfs = [test_df.iloc[split_indices[n]:split_indices[n+1]] for n in range(len(split_indices)-1)]"
   ]
  },
  {
   "cell_type": "code",
   "execution_count": null,
   "id": "e1e0f341",
   "metadata": {
    "scrolled": true
   },
   "outputs": [],
   "source": [
    "traces_figures= []\n",
    "X_test = datasets[\"X_test\"][:47*2]\n",
    "y_test = datasets[\"y_test\"][:47*2]\n",
    "y_hat = model.predict(X_test)\n",
    "for column in pred_df.columns:\n",
    "    fig = go.Figure()\n",
    "    for cycle in cycles_plot:\n",
    "        for idx in range(len(cell_wise_pred_dfs)):\n",
    "            pred_df = cell_wise_pred_dfs[idx]\n",
    "            test_df = cell_wise_test_dfs[idx]\n",
    "            fig.add_trace(go.Scatter(x = [i[3][1] for i in X_test], y =[i[-2] for i in y_test], \n",
    "                                     name = f\"Cycle {cycle} Cell {test_cell_ids[idx]}\",\n",
    "                                     mode=\"lines+markers\", line_color = pallete[cycle], ))\n",
    "            fig.add_trace(go.Scatter(x = [i[3][1] for i in X_test[10:]], y=[i[-2] for i in y_hat], name = f\"Prediction\",\n",
    "                                         mode=\"markers\", line_color = pallete[cycle], ))\n",
    "        fig.update_xaxes(title=\"SOC\")\n",
    "        fig.update_yaxes(title=column)\n",
    "    traces_figures.append(fig)"
   ]
  },
  {
   "cell_type": "code",
   "execution_count": null,
   "id": "e19f3aba",
   "metadata": {
    "scrolled": true
   },
   "outputs": [],
   "source": [
    "n_cycles = int(datasets['X_test'].shape[0]/datasets['arrays_per_cycle'])\n",
    "\n",
    "fig_list = []\n",
    "\n",
    "for nf_steps in range(0, forecast_horizon*2, 2):\n",
    "    fig = go.Figure()\n",
    "    for i in range(0, n_cycles, 40):\n",
    "        X_cycle = datasets['X_test'][i*datasets['arrays_per_cycle']:(i+1)*datasets['arrays_per_cycle']]\n",
    "        y_cycle = datasets['y_test'][i*datasets['arrays_per_cycle']:(i+1)*datasets['arrays_per_cycle']]\n",
    "        y_hat = model.predict(X_cycle, verbose=0)\n",
    "        fig.add_trace(go.Scatter(x=[i[nf_steps//2][1] for i in X_cycle[history_window:]], \n",
    "                                 y =[i[nf_steps]  for i in y_cycle], \n",
    "                                 mode=\"lines\", line_color = pallete[i], name=\"Data\"))\n",
    "        fig.add_trace(go.Scatter(x=[i[nf_steps//2][1] for i in X_cycle[history_window:]], \n",
    "                                 y =[i[nf_steps] for i in y_hat], \n",
    "                                 mode=\"markers\", line_color = pallete[i], name= \"Prediction\"))\n",
    "    fig.update_xaxes(title=\"Normalized Capacity [Ah]\")\n",
    "    fig.update_yaxes(title=\"Normalized Voltage [V]\")\n",
    "    fig.update_layout(title=f\"Voltage Prediction at Forecast Horizon {int(nf_steps//2)+1}\")\n",
    "    fig_list.append(fig)"
   ]
  },
  {
   "cell_type": "code",
   "execution_count": null,
   "id": "26264e8b",
   "metadata": {
    "scrolled": true
   },
   "outputs": [],
   "source": [
    "for nf_steps in range(1, forecast_horizon*2, 2):\n",
    "    fig = go.Figure()\n",
    "    for i in range(0, n_cycles, 40):\n",
    "        X_cycle = datasets['X_test'][i*datasets['arrays_per_cycle']:(i+1)*datasets['arrays_per_cycle']]\n",
    "        y_cycle = datasets['y_test'][i*datasets['arrays_per_cycle']:(i+1)*datasets['arrays_per_cycle']]\n",
    "        y_hat = model.predict(X_cycle, verbose=0)\n",
    "        fig.add_trace(go.Scatter(x=[i[nf_steps//2][1] for i in X_cycle[history_window:]], \n",
    "                                 y =[i[nf_steps]  for i in y_cycle], \n",
    "                                 mode=\"lines\", line_color = pallete[i], name=\"Data\"))\n",
    "        fig.add_trace(go.Scatter(x=[i[nf_steps//2][1] for i in X_cycle[history_window:]], \n",
    "                                 y =[i[nf_steps] for i in y_hat], \n",
    "                                 mode=\"markers\", line_color = pallete[i], name= \"Prediction\"))\n",
    "    fig.update_xaxes(title=\"Normalized Capacity [Ah]\")\n",
    "    fig.update_yaxes(title=\"Normalized Temperature [°C]\")\n",
    "    fig.update_layout(title=f\"Temperature Prediction at Forecast Horizon {int(nf_steps//2)+1}\")\n",
    "    fig_list.append(fig)"
   ]
  },
  {
   "cell_type": "code",
   "execution_count": null,
   "id": "929af6fd",
   "metadata": {},
   "outputs": [],
   "source": [
    "fig_list[0]"
   ]
  },
  {
   "cell_type": "code",
   "execution_count": null,
   "id": "478c9a1a",
   "metadata": {},
   "outputs": [],
   "source": [
    "fig_list[2]"
   ]
  },
  {
   "cell_type": "code",
   "execution_count": null,
   "id": "00ece1ac",
   "metadata": {},
   "outputs": [],
   "source": [
    "fig_list[-1]"
   ]
  },
  {
   "cell_type": "code",
   "execution_count": null,
   "id": "acb01c9d",
   "metadata": {},
   "outputs": [],
   "source": [
    "fig_list[-3]"
   ]
  },
  {
   "cell_type": "code",
   "execution_count": null,
   "id": "d953c479",
   "metadata": {},
   "outputs": [],
   "source": [
    "model.summary()"
   ]
  },
  {
   "cell_type": "code",
   "execution_count": null,
   "id": "5331a675",
   "metadata": {},
   "outputs": [],
   "source": []
  }
 ],
 "metadata": {
  "kernelspec": {
   "display_name": "Python 3 (ipykernel)",
   "language": "python",
   "name": "python3"
  },
  "language_info": {
   "codemirror_mode": {
    "name": "ipython",
    "version": 3
   },
   "file_extension": ".py",
   "mimetype": "text/x-python",
   "name": "python",
   "nbconvert_exporter": "python",
   "pygments_lexer": "ipython3",
   "version": "3.9.13"
  },
  "vscode": {
   "interpreter": {
    "hash": "63dcb1742ad588d72fa93718ba23fdbf2e75f9bb2496cf77f8dc8d00f14cc3b8"
   }
  }
 },
 "nbformat": 4,
 "nbformat_minor": 5
}
