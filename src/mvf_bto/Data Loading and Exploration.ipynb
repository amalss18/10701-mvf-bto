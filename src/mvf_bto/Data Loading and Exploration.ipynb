{
 "cells": [
  {
   "cell_type": "code",
   "execution_count": null,
   "id": "153bf8fa",
   "metadata": {},
   "outputs": [],
   "source": [
    "import seaborn as sns\n",
    "import matplotlib.pyplot as plt\n",
    "\n",
    "from mvf_bto.data_loading import load_data"
   ]
  },
  {
   "cell_type": "code",
   "execution_count": null,
   "id": "da1525d3",
   "metadata": {},
   "outputs": [],
   "source": [
    "# data_path = \"/Users/anoushkabhutani/PycharmProjects/10701-mvf-bto/data/2017-05-12_batchdata_updated_struct_errorcorrect.mat\"\n",
    "data_path = \"/Users/mac/Desktop/CMU/10701MachineLearning/project/10701-mvf-bto-backup/data/2017-05-12_batchdata_updated_struct_errorcorrect.mat\""
   ]
  },
  {
   "cell_type": "code",
   "execution_count": null,
   "id": "a26f9c62",
   "metadata": {},
   "outputs": [],
   "source": [
    "data = load_data(file_path= data_path, num_cells= 10)"
   ]
  },
  {
   "cell_type": "code",
   "execution_count": null,
   "id": "55f9e241",
   "metadata": {},
   "outputs": [],
   "source": [
    "# IDs for battery data loaded\n",
    "data.keys()"
   ]
  },
  {
   "cell_type": "code",
   "execution_count": null,
   "id": "9da33fcb",
   "metadata": {},
   "outputs": [],
   "source": [
    "single_cell_data = data['b1c5']['cycles']\n",
    "# single_cell_data.keys() "
   ]
  },
  {
   "cell_type": "code",
   "execution_count": null,
   "id": "617eaaa4",
   "metadata": {},
   "outputs": [],
   "source": [
    "fig, ax = plt.subplots(1, 1)\n",
    "# figsize=(5, 4 * 3))\n",
    "cycles_to_plot = [12]\n",
    "\n",
    "for cycle_num in cycles_to_plot:\n",
    "    time_series = single_cell_data[str(cycle_num)]\n",
    "    sns.lineplot(x=time_series['t'], y=time_series['V'],)\n",
    "    #  ax=ax[0], label = f\"Cycle Number {cycle_num}\")\n",
    "    # sns.lineplot(x=time_series['t'], y=time_series['T'], ax=ax[1])\n",
    "    # sns.lineplot(x=time_series['t'], y=time_series['I'], ax=ax[2])\n",
    "    # sns.lineplot(x=time_series['t'], y=time_series['Qc'], ax=ax[3])\n",
    "# ax[0].set_ylabel(\"Voltage [V]\")\n",
    "# ax[1].set_ylabel(\"Temperature [C]\")\n",
    "# ax[2].set_ylabel(\"Current [A]\")\n",
    "# ax[3].set_ylabel(\"charge Capacity [Ah]\")"
   ]
  },
  {
   "cell_type": "code",
   "execution_count": null,
   "id": "b493c9ce",
   "metadata": {},
   "outputs": [],
   "source": [
    "fig, ax = plt.subplots(4, 1, figsize=(5, 4 * 3))\n",
    "cycles_to_plot = [10,30,50]\n",
    "\n",
    "for cycle_num in cycles_to_plot:\n",
    "    time_series = single_cell_data[str(cycle_num)]\n",
    "    sns.lineplot(x=time_series['t'][0:100], y=time_series['I'][0:100], ax=ax[0])\n",
    "# ax[0].set_ylabel(\"Voltage [V]\")\n",
    "# ax[1].set_ylabel(\"Temperature [C]\")\n",
    "ax[0].set_ylabel(\"Current [A]\")\n",
    "# ax[3].set_ylabel(\"Discharge Capacity [Ah]\")"
   ]
  },
  {
   "cell_type": "code",
   "execution_count": null,
   "id": "0975ccde",
   "metadata": {},
   "outputs": [],
   "source": []
  }
 ],
 "metadata": {
  "kernelspec": {
   "display_name": "Python 3.10.6 ('10701')",
   "language": "python",
   "name": "python3"
  },
  "language_info": {
   "codemirror_mode": {
    "name": "ipython",
    "version": 3
   },
   "file_extension": ".py",
   "mimetype": "text/x-python",
   "name": "python",
   "nbconvert_exporter": "python",
   "pygments_lexer": "ipython3",
   "version": "3.10.6"
  },
  "vscode": {
   "interpreter": {
    "hash": "63dcb1742ad588d72fa93718ba23fdbf2e75f9bb2496cf77f8dc8d00f14cc3b8"
   }
  }
 },
 "nbformat": 4,
 "nbformat_minor": 5
}
