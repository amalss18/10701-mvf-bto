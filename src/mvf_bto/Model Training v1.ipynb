{
 "cells": [
  {
   "cell_type": "code",
   "execution_count": 1,
   "id": "2d2f7bac",
   "metadata": {},
   "outputs": [],
   "source": [
    "%load_ext autoreload\n",
    "%autoreload 2"
   ]
  },
  {
   "cell_type": "code",
   "execution_count": 2,
   "id": "9821c3a9",
   "metadata": {},
   "outputs": [],
   "source": [
    "from mvf_bto.data_loading import load_data\n",
    "from mvf_bto.constants import * \n",
    "from mvf_bto.models.baseline_lstm import BaselineLSTM\n",
    "from mvf_bto.preprocessing import create_discharge_inputs\n",
    "from tensorflow.keras.callbacks import EarlyStopping\n",
    "from tensorflow.keras.metrics import MeanSquaredError\n",
    "from scipy.interpolate import interp1d\n",
    "\n",
    "import numpy as np\n",
    "import pandas as pd\n",
    "import plotly\n",
    "import plotly.graph_objects as go"
   ]
  },
  {
   "cell_type": "markdown",
   "id": "39585647",
   "metadata": {},
   "source": [
    "## Loading Data"
   ]
  },
  {
   "cell_type": "code",
   "execution_count": 3,
   "id": "25011aae",
   "metadata": {},
   "outputs": [],
   "source": [
    "# data_path = \"/Users/anoushkabhutani/PycharmProjects/10701-mvf-bto/data/2017-05-12_batchdata_updated_struct_errorcorrect.mat\"\n",
    "data_path = \"/Users/mac/Desktop/CMU/10701MachineLearning/project/10701-mvf-bto-backup/data/2017-05-12_batchdata_updated_struct_errorcorrect.mat\""
   ]
  },
  {
   "cell_type": "code",
   "execution_count": 42,
   "id": "cdb39ad4",
   "metadata": {},
   "outputs": [
    {
     "name": "stderr",
     "output_type": "stream",
     "text": [
      "100%|██████████| 4/4 [00:32<00:00,  8.13s/it]\n"
     ]
    }
   ],
   "source": [
    "data = load_data(file_path=data_path, num_cells=4)"
   ]
  },
  {
   "cell_type": "markdown",
   "id": "60797a1a",
   "metadata": {},
   "source": [
    "## Preprocessing to create model inputs and targets"
   ]
  },
  {
   "cell_type": "code",
   "execution_count": 6,
   "id": "2d000582",
   "metadata": {},
   "outputs": [],
   "source": [
    "train_split = 0.7\n",
    "test_split = 0.2\n",
    "# by default uses validation_split = 1 - (train_split + test_split)\n"
   ]
  },
  {
   "cell_type": "code",
   "execution_count": 45,
   "id": "a8889426",
   "metadata": {},
   "outputs": [
    {
     "name": "stdout",
     "output_type": "stream",
     "text": [
      " Data for cell b1c3 is corrupted. Skipping cell.\n"
     ]
    },
    {
     "name": "stderr",
     "output_type": "stream",
     "text": [
      "100%|██████████| 1189/1189 [00:07<00:00, 162.18it/s]\n",
      "100%|██████████| 1178/1178 [00:06<00:00, 173.91it/s]\n",
      "100%|██████████| 1176/1176 [00:06<00:00, 169.82it/s]\n"
     ]
    }
   ],
   "source": [
    "datasets = create_discharge_inputs(data, train_split, test_split, forecast_horizon=2, history_window=4)"
   ]
  },
  {
   "cell_type": "code",
   "execution_count": 33,
   "id": "19f74430",
   "metadata": {},
   "outputs": [
    {
     "data": {
      "text/plain": [
       "array(['b1c1'], dtype=object)"
      ]
     },
     "execution_count": 33,
     "metadata": {},
     "output_type": "execute_result"
    }
   ],
   "source": [
    "pd.concat(datasets['original_train'])['Cell'].unique()\n",
    "# datasets.keys()"
   ]
  },
  {
   "cell_type": "markdown",
   "id": "bf6d54f1",
   "metadata": {},
   "source": [
    "## Train Model"
   ]
  },
  {
   "cell_type": "code",
   "execution_count": 13,
   "id": "5cc470da",
   "metadata": {},
   "outputs": [],
   "source": [
    "window_length = datasets[\"X_train\"].shape[1]\n",
    "n_features = datasets[\"X_train\"].shape[2]\n",
    "batch_input_shape = (datasets[\"batch_size\"], window_length, n_features)\n",
    "n_outputs = datasets[\"y_train\"].shape[-1]\n",
    "nf_steps = datasets[\"y_train\"].shape[1]\n",
    "y = datasets[\"y_train\"][:, 0, 0]\n",
    "idx = y < 2.9\n",
    "weights = np.ones_like(y) * 1\n",
    "weights[idx] = 2"
   ]
  },
  {
   "cell_type": "code",
   "execution_count": 14,
   "id": "67f3fadb",
   "metadata": {},
   "outputs": [
    {
     "name": "stderr",
     "output_type": "stream",
     "text": [
      "2022-11-05 18:55:52.296805: I tensorflow/core/platform/cpu_feature_guard.cc:193] This TensorFlow binary is optimized with oneAPI Deep Neural Network Library (oneDNN) to use the following CPU instructions in performance-critical operations:  AVX2 FMA\n",
      "To enable them in other operations, rebuild TensorFlow with the appropriate compiler flags.\n"
     ]
    }
   ],
   "source": [
    "model = BaselineLSTM(batch_input_shape=batch_input_shape, n_outputs=n_outputs, nf_steps=nf_steps)"
   ]
  },
  {
   "cell_type": "code",
   "execution_count": 15,
   "id": "bbeabde3",
   "metadata": {},
   "outputs": [
    {
     "name": "stdout",
     "output_type": "stream",
     "text": [
      "Epoch 1/250\n",
      "1188/1188 [==============================] - 11s 6ms/step - loss: 0.0181 - mean_squared_error: 0.0091 - val_loss: 0.0027 - val_mean_squared_error: 0.0027\n",
      "Epoch 2/250\n",
      "1188/1188 [==============================] - 7s 6ms/step - loss: 0.0046 - mean_squared_error: 0.0023 - val_loss: 0.0023 - val_mean_squared_error: 0.0023\n",
      "Epoch 3/250\n",
      "1188/1188 [==============================] - 6s 5ms/step - loss: 0.0038 - mean_squared_error: 0.0019 - val_loss: 0.0022 - val_mean_squared_error: 0.0022\n",
      "Epoch 4/250\n",
      "1188/1188 [==============================] - 6s 5ms/step - loss: 0.0033 - mean_squared_error: 0.0016 - val_loss: 0.0022 - val_mean_squared_error: 0.0022\n",
      "Epoch 5/250\n",
      "1188/1188 [==============================] - 6s 5ms/step - loss: 0.0028 - mean_squared_error: 0.0014 - val_loss: 0.0022 - val_mean_squared_error: 0.0022\n",
      "Epoch 6/250\n",
      "1188/1188 [==============================] - 6s 5ms/step - loss: 0.0026 - mean_squared_error: 0.0013 - val_loss: 0.0022 - val_mean_squared_error: 0.0022\n",
      "Epoch 7/250\n",
      "1188/1188 [==============================] - 6s 5ms/step - loss: 0.0025 - mean_squared_error: 0.0012 - val_loss: 0.0022 - val_mean_squared_error: 0.0022\n",
      "Epoch 8/250\n",
      "1188/1188 [==============================] - 7s 6ms/step - loss: 0.0023 - mean_squared_error: 0.0012 - val_loss: 0.0023 - val_mean_squared_error: 0.0023\n",
      "Epoch 9/250\n",
      "1188/1188 [==============================] - 6s 5ms/step - loss: 0.0023 - mean_squared_error: 0.0011 - val_loss: 0.0024 - val_mean_squared_error: 0.0024\n",
      "Epoch 10/250\n",
      "1188/1188 [==============================] - 6s 5ms/step - loss: 0.0022 - mean_squared_error: 0.0011 - val_loss: 0.0025 - val_mean_squared_error: 0.0025\n",
      "Epoch 11/250\n",
      "1188/1188 [==============================] - 6s 5ms/step - loss: 0.0020 - mean_squared_error: 0.0010 - val_loss: 0.0024 - val_mean_squared_error: 0.0024\n",
      "Epoch 12/250\n",
      "1188/1188 [==============================] - 7s 6ms/step - loss: 0.0018 - mean_squared_error: 9.1829e-04 - val_loss: 0.0024 - val_mean_squared_error: 0.0024\n",
      "Epoch 13/250\n",
      "1188/1188 [==============================] - 7s 6ms/step - loss: 0.0016 - mean_squared_error: 7.9273e-04 - val_loss: 0.0022 - val_mean_squared_error: 0.0022\n",
      "Epoch 14/250\n",
      "1188/1188 [==============================] - 7s 6ms/step - loss: 0.0013 - mean_squared_error: 6.4489e-04 - val_loss: 0.0021 - val_mean_squared_error: 0.0021\n",
      "Epoch 15/250\n",
      "1188/1188 [==============================] - 7s 6ms/step - loss: 9.8208e-04 - mean_squared_error: 4.9104e-04 - val_loss: 0.0019 - val_mean_squared_error: 0.0019\n",
      "Epoch 16/250\n",
      "1188/1188 [==============================] - 7s 6ms/step - loss: 6.7013e-04 - mean_squared_error: 3.3507e-04 - val_loss: 0.0018 - val_mean_squared_error: 0.0018\n",
      "Epoch 17/250\n",
      "1188/1188 [==============================] - 7s 6ms/step - loss: 4.5522e-04 - mean_squared_error: 2.2761e-04 - val_loss: 0.0017 - val_mean_squared_error: 0.0017\n",
      "Epoch 18/250\n",
      "1188/1188 [==============================] - 6s 5ms/step - loss: 3.5953e-04 - mean_squared_error: 1.7976e-04 - val_loss: 0.0016 - val_mean_squared_error: 0.0016\n",
      "Epoch 19/250\n",
      "1188/1188 [==============================] - 6s 5ms/step - loss: 2.6615e-04 - mean_squared_error: 1.3308e-04 - val_loss: 0.0016 - val_mean_squared_error: 0.0016\n",
      "Epoch 20/250\n",
      "1188/1188 [==============================] - 6s 5ms/step - loss: 2.1929e-04 - mean_squared_error: 1.0965e-04 - val_loss: 0.0017 - val_mean_squared_error: 0.0017\n",
      "Epoch 21/250\n",
      "1188/1188 [==============================] - 6s 5ms/step - loss: 2.1658e-04 - mean_squared_error: 1.0829e-04 - val_loss: 0.0016 - val_mean_squared_error: 0.0016\n",
      "Epoch 22/250\n",
      "1188/1188 [==============================] - 7s 6ms/step - loss: 1.9549e-04 - mean_squared_error: 9.7744e-05 - val_loss: 0.0017 - val_mean_squared_error: 0.0017\n",
      "Epoch 23/250\n",
      "1188/1188 [==============================] - 7s 6ms/step - loss: 1.7209e-04 - mean_squared_error: 8.6043e-05 - val_loss: 0.0015 - val_mean_squared_error: 0.0015\n",
      "Epoch 24/250\n",
      "1188/1188 [==============================] - 6s 5ms/step - loss: 1.7722e-04 - mean_squared_error: 8.8608e-05 - val_loss: 0.0014 - val_mean_squared_error: 0.0014\n",
      "Epoch 25/250\n",
      "1188/1188 [==============================] - 6s 5ms/step - loss: 1.5533e-04 - mean_squared_error: 7.7664e-05 - val_loss: 0.0013 - val_mean_squared_error: 0.0013\n",
      "Epoch 26/250\n",
      "1188/1188 [==============================] - 6s 5ms/step - loss: 1.3138e-04 - mean_squared_error: 6.5690e-05 - val_loss: 0.0013 - val_mean_squared_error: 0.0013\n",
      "Epoch 27/250\n",
      "1188/1188 [==============================] - 6s 5ms/step - loss: 1.8049e-04 - mean_squared_error: 9.0245e-05 - val_loss: 0.0011 - val_mean_squared_error: 0.0011\n",
      "Epoch 28/250\n",
      "1188/1188 [==============================] - 6s 5ms/step - loss: 2.1074e-04 - mean_squared_error: 1.0537e-04 - val_loss: 0.0013 - val_mean_squared_error: 0.0013\n",
      "Epoch 29/250\n",
      "1188/1188 [==============================] - 6s 5ms/step - loss: 2.0586e-04 - mean_squared_error: 1.0293e-04 - val_loss: 0.0012 - val_mean_squared_error: 0.0012\n",
      "Epoch 30/250\n",
      "1188/1188 [==============================] - 6s 5ms/step - loss: 1.5244e-04 - mean_squared_error: 7.6221e-05 - val_loss: 9.6659e-04 - val_mean_squared_error: 9.6659e-04\n",
      "Epoch 31/250\n",
      "1188/1188 [==============================] - 7s 6ms/step - loss: 2.9887e-04 - mean_squared_error: 1.4943e-04 - val_loss: 0.0013 - val_mean_squared_error: 0.0013\n",
      "Epoch 32/250\n",
      "1188/1188 [==============================] - 6s 5ms/step - loss: 4.5259e-04 - mean_squared_error: 2.2629e-04 - val_loss: 0.0012 - val_mean_squared_error: 0.0012\n",
      "Epoch 33/250\n",
      "1188/1188 [==============================] - 6s 5ms/step - loss: 2.1563e-04 - mean_squared_error: 1.0781e-04 - val_loss: 0.0010 - val_mean_squared_error: 0.0010\n",
      "Epoch 34/250\n",
      "1188/1188 [==============================] - 6s 5ms/step - loss: 1.7302e-04 - mean_squared_error: 8.6510e-05 - val_loss: 9.2218e-04 - val_mean_squared_error: 9.2218e-04\n",
      "Epoch 35/250\n",
      "1188/1188 [==============================] - 6s 5ms/step - loss: 1.6323e-04 - mean_squared_error: 8.1614e-05 - val_loss: 9.8560e-04 - val_mean_squared_error: 9.8560e-04\n",
      "Epoch 36/250\n",
      "1188/1188 [==============================] - 7s 6ms/step - loss: 1.2622e-04 - mean_squared_error: 6.3110e-05 - val_loss: 8.9968e-04 - val_mean_squared_error: 8.9968e-04\n",
      "Epoch 37/250\n",
      "1188/1188 [==============================] - 9s 8ms/step - loss: 1.6458e-04 - mean_squared_error: 8.2291e-05 - val_loss: 8.5026e-04 - val_mean_squared_error: 8.5026e-04\n",
      "Epoch 38/250\n",
      "1188/1188 [==============================] - 8s 7ms/step - loss: 1.2410e-04 - mean_squared_error: 6.2052e-05 - val_loss: 7.8054e-04 - val_mean_squared_error: 7.8054e-04\n",
      "Epoch 39/250\n",
      "1188/1188 [==============================] - 6s 5ms/step - loss: 1.3240e-04 - mean_squared_error: 6.6201e-05 - val_loss: 7.7065e-04 - val_mean_squared_error: 7.7065e-04\n",
      "Epoch 40/250\n",
      "1188/1188 [==============================] - 6s 5ms/step - loss: 1.1942e-04 - mean_squared_error: 5.9710e-05 - val_loss: 7.2782e-04 - val_mean_squared_error: 7.2782e-04\n",
      "Epoch 41/250\n",
      "1188/1188 [==============================] - 6s 5ms/step - loss: 1.4016e-04 - mean_squared_error: 7.0080e-05 - val_loss: 7.6065e-04 - val_mean_squared_error: 7.6065e-04\n",
      "Epoch 42/250\n",
      "1188/1188 [==============================] - 6s 5ms/step - loss: 1.2787e-04 - mean_squared_error: 6.3935e-05 - val_loss: 7.7658e-04 - val_mean_squared_error: 7.7658e-04\n",
      "Epoch 43/250\n",
      "1188/1188 [==============================] - 6s 5ms/step - loss: 1.2432e-04 - mean_squared_error: 6.2158e-05 - val_loss: 6.6559e-04 - val_mean_squared_error: 6.6559e-04\n",
      "Epoch 44/250\n",
      "1188/1188 [==============================] - 6s 5ms/step - loss: 2.2373e-04 - mean_squared_error: 1.1186e-04 - val_loss: 9.2233e-04 - val_mean_squared_error: 9.2233e-04\n",
      "Epoch 45/250\n",
      "1188/1188 [==============================] - 6s 5ms/step - loss: 2.2117e-04 - mean_squared_error: 1.1058e-04 - val_loss: 7.9280e-04 - val_mean_squared_error: 7.9280e-04\n",
      "Epoch 46/250\n",
      "1188/1188 [==============================] - 6s 5ms/step - loss: 1.4054e-04 - mean_squared_error: 7.0271e-05 - val_loss: 6.4036e-04 - val_mean_squared_error: 6.4036e-04\n",
      "Epoch 47/250\n",
      "1188/1188 [==============================] - 6s 5ms/step - loss: 2.3628e-04 - mean_squared_error: 1.1814e-04 - val_loss: 8.5385e-04 - val_mean_squared_error: 8.5385e-04\n",
      "Epoch 48/250\n",
      "1188/1188 [==============================] - 6s 5ms/step - loss: 2.2050e-04 - mean_squared_error: 1.1025e-04 - val_loss: 7.5579e-04 - val_mean_squared_error: 7.5579e-04\n",
      "Epoch 49/250\n",
      "1188/1188 [==============================] - 6s 5ms/step - loss: 1.2897e-04 - mean_squared_error: 6.4486e-05 - val_loss: 7.0209e-04 - val_mean_squared_error: 7.0209e-04\n",
      "Epoch 50/250\n",
      "1188/1188 [==============================] - 6s 5ms/step - loss: 1.0550e-04 - mean_squared_error: 5.2749e-05 - val_loss: 7.5951e-04 - val_mean_squared_error: 7.5951e-04\n",
      "Epoch 51/250\n",
      "1188/1188 [==============================] - 6s 5ms/step - loss: 9.7781e-05 - mean_squared_error: 4.8891e-05 - val_loss: 8.3687e-04 - val_mean_squared_error: 8.3687e-04\n",
      "Epoch 52/250\n",
      "1188/1188 [==============================] - 6s 5ms/step - loss: 1.2688e-04 - mean_squared_error: 6.3442e-05 - val_loss: 7.5188e-04 - val_mean_squared_error: 7.5188e-04\n",
      "Epoch 53/250\n",
      "1188/1188 [==============================] - 6s 5ms/step - loss: 3.1802e-04 - mean_squared_error: 1.5901e-04 - val_loss: 9.4944e-04 - val_mean_squared_error: 9.4944e-04\n",
      "Epoch 54/250\n",
      "1188/1188 [==============================] - 6s 5ms/step - loss: 2.6160e-04 - mean_squared_error: 1.3080e-04 - val_loss: 7.4288e-04 - val_mean_squared_error: 7.4288e-04\n",
      "Epoch 55/250\n",
      "1188/1188 [==============================] - 6s 5ms/step - loss: 1.0746e-04 - mean_squared_error: 5.3730e-05 - val_loss: 6.1932e-04 - val_mean_squared_error: 6.1932e-04\n",
      "Epoch 56/250\n",
      "1188/1188 [==============================] - 6s 5ms/step - loss: 1.2298e-04 - mean_squared_error: 6.1489e-05 - val_loss: 7.9009e-04 - val_mean_squared_error: 7.9009e-04\n",
      "Epoch 57/250\n",
      "1188/1188 [==============================] - 6s 5ms/step - loss: 1.0288e-04 - mean_squared_error: 5.1438e-05 - val_loss: 7.0262e-04 - val_mean_squared_error: 7.0262e-04\n",
      "Epoch 58/250\n",
      "1188/1188 [==============================] - 6s 5ms/step - loss: 1.1786e-04 - mean_squared_error: 5.8928e-05 - val_loss: 6.9283e-04 - val_mean_squared_error: 6.9283e-04\n",
      "Epoch 59/250\n",
      "1188/1188 [==============================] - 6s 5ms/step - loss: 1.6563e-04 - mean_squared_error: 8.2813e-05 - val_loss: 8.9958e-04 - val_mean_squared_error: 8.9958e-04\n",
      "Epoch 60/250\n",
      "1188/1188 [==============================] - 6s 5ms/step - loss: 1.8547e-04 - mean_squared_error: 9.2733e-05 - val_loss: 8.7707e-04 - val_mean_squared_error: 8.7707e-04\n",
      "Epoch 61/250\n",
      "1188/1188 [==============================] - 6s 5ms/step - loss: 1.1677e-04 - mean_squared_error: 5.8385e-05 - val_loss: 6.8172e-04 - val_mean_squared_error: 6.8172e-04\n",
      "Epoch 62/250\n",
      "1188/1188 [==============================] - 6s 5ms/step - loss: 1.6372e-04 - mean_squared_error: 8.1860e-05 - val_loss: 9.4276e-04 - val_mean_squared_error: 9.4276e-04\n",
      "Epoch 63/250\n",
      "1188/1188 [==============================] - 6s 5ms/step - loss: 1.6064e-04 - mean_squared_error: 8.0321e-05 - val_loss: 8.6093e-04 - val_mean_squared_error: 8.6093e-04\n",
      "Epoch 64/250\n",
      "1188/1188 [==============================] - 7s 5ms/step - loss: 1.1855e-04 - mean_squared_error: 5.9275e-05 - val_loss: 6.8665e-04 - val_mean_squared_error: 6.8665e-04\n",
      "Epoch 65/250\n",
      "1180/1188 [============================>.] - ETA: 0s - loss: 1.9825e-04 - mean_squared_error: 9.9123e-05Restoring model weights from the end of the best epoch: 55.\n",
      "1188/1188 [==============================] - 6s 5ms/step - loss: 1.9768e-04 - mean_squared_error: 9.8839e-05 - val_loss: 9.4187e-04 - val_mean_squared_error: 9.4187e-04\n",
      "Epoch 65: early stopping\n"
     ]
    }
   ],
   "source": [
    "model.compile(optimizer=\"adam\", loss=\"mse\", metrics=[MeanSquaredError()])\n",
    "\n",
    "es = EarlyStopping(\n",
    "    monitor=\"val_mean_squared_error\",\n",
    "    min_delta=0,\n",
    "    patience=10,\n",
    "    verbose=1,\n",
    "    mode=\"auto\",\n",
    "    restore_best_weights=True,\n",
    ")\n",
    "\n",
    "history = model.fit(\n",
    "    datasets[\"X_train\"],\n",
    "    datasets[\"y_train\"],\n",
    "    validation_data=(datasets[\"X_val\"], datasets[\"y_val\"]),\n",
    "    epochs=250,\n",
    "    batch_size=datasets[\"batch_size\"],\n",
    "    shuffle=False,\n",
    "    callbacks=[es],\n",
    "    verbose=1,\n",
    "    sample_weight=weights\n",
    "\n",
    ")"
   ]
  },
  {
   "cell_type": "code",
   "execution_count": 16,
   "id": "d14c1f0b",
   "metadata": {},
   "outputs": [
    {
     "data": {
      "application/vnd.plotly.v1+json": {
       "config": {
        "plotlyServerURL": "https://plot.ly"
       },
       "data": [
        {
         "mode": "markers+lines",
         "showlegend": false,
         "type": "scatter",
         "x": [
          1,
          2,
          3,
          4,
          5,
          6,
          7,
          8,
          9,
          10,
          11,
          12,
          13,
          14,
          15,
          16,
          17,
          18,
          19,
          20,
          21,
          22,
          23,
          24,
          25,
          26,
          27,
          28,
          29,
          30,
          31,
          32,
          33,
          34,
          35,
          36,
          37,
          38,
          39,
          40,
          41,
          42,
          43,
          44,
          45,
          46,
          47,
          48,
          49,
          50
         ],
         "y": [
          0.018112774938344955,
          0.004553952254354954,
          0.003802789840847254,
          0.0032640269491821527,
          0.0028478677850216627,
          0.002592741744592786,
          0.0024556806311011314,
          0.0023324687499552965,
          0.0022510916460305452,
          0.002150595420971513,
          0.0020219271536916494,
          0.0018365896539762616,
          0.0015854574739933014,
          0.0012897821143269539,
          0.0009820819832384586,
          0.0006701342645101249,
          0.0004552181053441018,
          0.0003595285816118121,
          0.000266154675045982,
          0.00021929464128334075,
          0.00021657800243701786,
          0.00019548703858163208,
          0.00017208581266459078,
          0.00017721600306686014,
          0.00015532771067228168,
          0.00013138045324012637,
          0.0001804899948183447,
          0.00021073779498692602,
          0.00020586035680025816,
          0.0001524413819424808,
          0.00029886714764870703,
          0.00045258665340952575,
          0.00021562942129094154,
          0.00017301944899372756,
          0.0001632282801438123,
          0.00012621928181033581,
          0.00016458102618344128,
          0.00012410341878421605,
          0.00013240145926829427,
          0.000119420001283288,
          0.000140160191222094,
          0.00012786923616658896,
          0.0001243169535882771,
          0.0002237257140222937,
          0.00022116971376817673,
          0.000140542775625363,
          0.00023627893824595958,
          0.00022049987455829978,
          0.00012897206761408597,
          0.00010549733269726858,
          0.00009778119419934228,
          0.00012688404240179807,
          0.0003180179337505251,
          0.0002615998964756727,
          0.00010746032057795674,
          0.00012297890498302877,
          0.00010287667100783437,
          0.00011785631068050861,
          0.00016562547534704208,
          0.00018546641513239592,
          0.00011676934082061052,
          0.0001637202949495986,
          0.00016064191004261374,
          0.00011854963668156415,
          0.00019767852791119367
         ]
        }
       ],
       "layout": {
        "template": {
         "data": {
          "bar": [
           {
            "error_x": {
             "color": "#2a3f5f"
            },
            "error_y": {
             "color": "#2a3f5f"
            },
            "marker": {
             "line": {
              "color": "#E5ECF6",
              "width": 0.5
             },
             "pattern": {
              "fillmode": "overlay",
              "size": 10,
              "solidity": 0.2
             }
            },
            "type": "bar"
           }
          ],
          "barpolar": [
           {
            "marker": {
             "line": {
              "color": "#E5ECF6",
              "width": 0.5
             },
             "pattern": {
              "fillmode": "overlay",
              "size": 10,
              "solidity": 0.2
             }
            },
            "type": "barpolar"
           }
          ],
          "carpet": [
           {
            "aaxis": {
             "endlinecolor": "#2a3f5f",
             "gridcolor": "white",
             "linecolor": "white",
             "minorgridcolor": "white",
             "startlinecolor": "#2a3f5f"
            },
            "baxis": {
             "endlinecolor": "#2a3f5f",
             "gridcolor": "white",
             "linecolor": "white",
             "minorgridcolor": "white",
             "startlinecolor": "#2a3f5f"
            },
            "type": "carpet"
           }
          ],
          "choropleth": [
           {
            "colorbar": {
             "outlinewidth": 0,
             "ticks": ""
            },
            "type": "choropleth"
           }
          ],
          "contour": [
           {
            "colorbar": {
             "outlinewidth": 0,
             "ticks": ""
            },
            "colorscale": [
             [
              0,
              "#0d0887"
             ],
             [
              0.1111111111111111,
              "#46039f"
             ],
             [
              0.2222222222222222,
              "#7201a8"
             ],
             [
              0.3333333333333333,
              "#9c179e"
             ],
             [
              0.4444444444444444,
              "#bd3786"
             ],
             [
              0.5555555555555556,
              "#d8576b"
             ],
             [
              0.6666666666666666,
              "#ed7953"
             ],
             [
              0.7777777777777778,
              "#fb9f3a"
             ],
             [
              0.8888888888888888,
              "#fdca26"
             ],
             [
              1,
              "#f0f921"
             ]
            ],
            "type": "contour"
           }
          ],
          "contourcarpet": [
           {
            "colorbar": {
             "outlinewidth": 0,
             "ticks": ""
            },
            "type": "contourcarpet"
           }
          ],
          "heatmap": [
           {
            "colorbar": {
             "outlinewidth": 0,
             "ticks": ""
            },
            "colorscale": [
             [
              0,
              "#0d0887"
             ],
             [
              0.1111111111111111,
              "#46039f"
             ],
             [
              0.2222222222222222,
              "#7201a8"
             ],
             [
              0.3333333333333333,
              "#9c179e"
             ],
             [
              0.4444444444444444,
              "#bd3786"
             ],
             [
              0.5555555555555556,
              "#d8576b"
             ],
             [
              0.6666666666666666,
              "#ed7953"
             ],
             [
              0.7777777777777778,
              "#fb9f3a"
             ],
             [
              0.8888888888888888,
              "#fdca26"
             ],
             [
              1,
              "#f0f921"
             ]
            ],
            "type": "heatmap"
           }
          ],
          "heatmapgl": [
           {
            "colorbar": {
             "outlinewidth": 0,
             "ticks": ""
            },
            "colorscale": [
             [
              0,
              "#0d0887"
             ],
             [
              0.1111111111111111,
              "#46039f"
             ],
             [
              0.2222222222222222,
              "#7201a8"
             ],
             [
              0.3333333333333333,
              "#9c179e"
             ],
             [
              0.4444444444444444,
              "#bd3786"
             ],
             [
              0.5555555555555556,
              "#d8576b"
             ],
             [
              0.6666666666666666,
              "#ed7953"
             ],
             [
              0.7777777777777778,
              "#fb9f3a"
             ],
             [
              0.8888888888888888,
              "#fdca26"
             ],
             [
              1,
              "#f0f921"
             ]
            ],
            "type": "heatmapgl"
           }
          ],
          "histogram": [
           {
            "marker": {
             "pattern": {
              "fillmode": "overlay",
              "size": 10,
              "solidity": 0.2
             }
            },
            "type": "histogram"
           }
          ],
          "histogram2d": [
           {
            "colorbar": {
             "outlinewidth": 0,
             "ticks": ""
            },
            "colorscale": [
             [
              0,
              "#0d0887"
             ],
             [
              0.1111111111111111,
              "#46039f"
             ],
             [
              0.2222222222222222,
              "#7201a8"
             ],
             [
              0.3333333333333333,
              "#9c179e"
             ],
             [
              0.4444444444444444,
              "#bd3786"
             ],
             [
              0.5555555555555556,
              "#d8576b"
             ],
             [
              0.6666666666666666,
              "#ed7953"
             ],
             [
              0.7777777777777778,
              "#fb9f3a"
             ],
             [
              0.8888888888888888,
              "#fdca26"
             ],
             [
              1,
              "#f0f921"
             ]
            ],
            "type": "histogram2d"
           }
          ],
          "histogram2dcontour": [
           {
            "colorbar": {
             "outlinewidth": 0,
             "ticks": ""
            },
            "colorscale": [
             [
              0,
              "#0d0887"
             ],
             [
              0.1111111111111111,
              "#46039f"
             ],
             [
              0.2222222222222222,
              "#7201a8"
             ],
             [
              0.3333333333333333,
              "#9c179e"
             ],
             [
              0.4444444444444444,
              "#bd3786"
             ],
             [
              0.5555555555555556,
              "#d8576b"
             ],
             [
              0.6666666666666666,
              "#ed7953"
             ],
             [
              0.7777777777777778,
              "#fb9f3a"
             ],
             [
              0.8888888888888888,
              "#fdca26"
             ],
             [
              1,
              "#f0f921"
             ]
            ],
            "type": "histogram2dcontour"
           }
          ],
          "mesh3d": [
           {
            "colorbar": {
             "outlinewidth": 0,
             "ticks": ""
            },
            "type": "mesh3d"
           }
          ],
          "parcoords": [
           {
            "line": {
             "colorbar": {
              "outlinewidth": 0,
              "ticks": ""
             }
            },
            "type": "parcoords"
           }
          ],
          "pie": [
           {
            "automargin": true,
            "type": "pie"
           }
          ],
          "scatter": [
           {
            "fillpattern": {
             "fillmode": "overlay",
             "size": 10,
             "solidity": 0.2
            },
            "type": "scatter"
           }
          ],
          "scatter3d": [
           {
            "line": {
             "colorbar": {
              "outlinewidth": 0,
              "ticks": ""
             }
            },
            "marker": {
             "colorbar": {
              "outlinewidth": 0,
              "ticks": ""
             }
            },
            "type": "scatter3d"
           }
          ],
          "scattercarpet": [
           {
            "marker": {
             "colorbar": {
              "outlinewidth": 0,
              "ticks": ""
             }
            },
            "type": "scattercarpet"
           }
          ],
          "scattergeo": [
           {
            "marker": {
             "colorbar": {
              "outlinewidth": 0,
              "ticks": ""
             }
            },
            "type": "scattergeo"
           }
          ],
          "scattergl": [
           {
            "marker": {
             "colorbar": {
              "outlinewidth": 0,
              "ticks": ""
             }
            },
            "type": "scattergl"
           }
          ],
          "scattermapbox": [
           {
            "marker": {
             "colorbar": {
              "outlinewidth": 0,
              "ticks": ""
             }
            },
            "type": "scattermapbox"
           }
          ],
          "scatterpolar": [
           {
            "marker": {
             "colorbar": {
              "outlinewidth": 0,
              "ticks": ""
             }
            },
            "type": "scatterpolar"
           }
          ],
          "scatterpolargl": [
           {
            "marker": {
             "colorbar": {
              "outlinewidth": 0,
              "ticks": ""
             }
            },
            "type": "scatterpolargl"
           }
          ],
          "scatterternary": [
           {
            "marker": {
             "colorbar": {
              "outlinewidth": 0,
              "ticks": ""
             }
            },
            "type": "scatterternary"
           }
          ],
          "surface": [
           {
            "colorbar": {
             "outlinewidth": 0,
             "ticks": ""
            },
            "colorscale": [
             [
              0,
              "#0d0887"
             ],
             [
              0.1111111111111111,
              "#46039f"
             ],
             [
              0.2222222222222222,
              "#7201a8"
             ],
             [
              0.3333333333333333,
              "#9c179e"
             ],
             [
              0.4444444444444444,
              "#bd3786"
             ],
             [
              0.5555555555555556,
              "#d8576b"
             ],
             [
              0.6666666666666666,
              "#ed7953"
             ],
             [
              0.7777777777777778,
              "#fb9f3a"
             ],
             [
              0.8888888888888888,
              "#fdca26"
             ],
             [
              1,
              "#f0f921"
             ]
            ],
            "type": "surface"
           }
          ],
          "table": [
           {
            "cells": {
             "fill": {
              "color": "#EBF0F8"
             },
             "line": {
              "color": "white"
             }
            },
            "header": {
             "fill": {
              "color": "#C8D4E3"
             },
             "line": {
              "color": "white"
             }
            },
            "type": "table"
           }
          ]
         },
         "layout": {
          "annotationdefaults": {
           "arrowcolor": "#2a3f5f",
           "arrowhead": 0,
           "arrowwidth": 1
          },
          "autotypenumbers": "strict",
          "coloraxis": {
           "colorbar": {
            "outlinewidth": 0,
            "ticks": ""
           }
          },
          "colorscale": {
           "diverging": [
            [
             0,
             "#8e0152"
            ],
            [
             0.1,
             "#c51b7d"
            ],
            [
             0.2,
             "#de77ae"
            ],
            [
             0.3,
             "#f1b6da"
            ],
            [
             0.4,
             "#fde0ef"
            ],
            [
             0.5,
             "#f7f7f7"
            ],
            [
             0.6,
             "#e6f5d0"
            ],
            [
             0.7,
             "#b8e186"
            ],
            [
             0.8,
             "#7fbc41"
            ],
            [
             0.9,
             "#4d9221"
            ],
            [
             1,
             "#276419"
            ]
           ],
           "sequential": [
            [
             0,
             "#0d0887"
            ],
            [
             0.1111111111111111,
             "#46039f"
            ],
            [
             0.2222222222222222,
             "#7201a8"
            ],
            [
             0.3333333333333333,
             "#9c179e"
            ],
            [
             0.4444444444444444,
             "#bd3786"
            ],
            [
             0.5555555555555556,
             "#d8576b"
            ],
            [
             0.6666666666666666,
             "#ed7953"
            ],
            [
             0.7777777777777778,
             "#fb9f3a"
            ],
            [
             0.8888888888888888,
             "#fdca26"
            ],
            [
             1,
             "#f0f921"
            ]
           ],
           "sequentialminus": [
            [
             0,
             "#0d0887"
            ],
            [
             0.1111111111111111,
             "#46039f"
            ],
            [
             0.2222222222222222,
             "#7201a8"
            ],
            [
             0.3333333333333333,
             "#9c179e"
            ],
            [
             0.4444444444444444,
             "#bd3786"
            ],
            [
             0.5555555555555556,
             "#d8576b"
            ],
            [
             0.6666666666666666,
             "#ed7953"
            ],
            [
             0.7777777777777778,
             "#fb9f3a"
            ],
            [
             0.8888888888888888,
             "#fdca26"
            ],
            [
             1,
             "#f0f921"
            ]
           ]
          },
          "colorway": [
           "#636efa",
           "#EF553B",
           "#00cc96",
           "#ab63fa",
           "#FFA15A",
           "#19d3f3",
           "#FF6692",
           "#B6E880",
           "#FF97FF",
           "#FECB52"
          ],
          "font": {
           "color": "#2a3f5f"
          },
          "geo": {
           "bgcolor": "white",
           "lakecolor": "white",
           "landcolor": "#E5ECF6",
           "showlakes": true,
           "showland": true,
           "subunitcolor": "white"
          },
          "hoverlabel": {
           "align": "left"
          },
          "hovermode": "closest",
          "mapbox": {
           "style": "light"
          },
          "paper_bgcolor": "white",
          "plot_bgcolor": "#E5ECF6",
          "polar": {
           "angularaxis": {
            "gridcolor": "white",
            "linecolor": "white",
            "ticks": ""
           },
           "bgcolor": "#E5ECF6",
           "radialaxis": {
            "gridcolor": "white",
            "linecolor": "white",
            "ticks": ""
           }
          },
          "scene": {
           "xaxis": {
            "backgroundcolor": "#E5ECF6",
            "gridcolor": "white",
            "gridwidth": 2,
            "linecolor": "white",
            "showbackground": true,
            "ticks": "",
            "zerolinecolor": "white"
           },
           "yaxis": {
            "backgroundcolor": "#E5ECF6",
            "gridcolor": "white",
            "gridwidth": 2,
            "linecolor": "white",
            "showbackground": true,
            "ticks": "",
            "zerolinecolor": "white"
           },
           "zaxis": {
            "backgroundcolor": "#E5ECF6",
            "gridcolor": "white",
            "gridwidth": 2,
            "linecolor": "white",
            "showbackground": true,
            "ticks": "",
            "zerolinecolor": "white"
           }
          },
          "shapedefaults": {
           "line": {
            "color": "#2a3f5f"
           }
          },
          "ternary": {
           "aaxis": {
            "gridcolor": "white",
            "linecolor": "white",
            "ticks": ""
           },
           "baxis": {
            "gridcolor": "white",
            "linecolor": "white",
            "ticks": ""
           },
           "bgcolor": "#E5ECF6",
           "caxis": {
            "gridcolor": "white",
            "linecolor": "white",
            "ticks": ""
           }
          },
          "title": {
           "x": 0.05
          },
          "xaxis": {
           "automargin": true,
           "gridcolor": "white",
           "linecolor": "white",
           "ticks": "",
           "title": {
            "standoff": 15
           },
           "zerolinecolor": "white",
           "zerolinewidth": 2
          },
          "yaxis": {
           "automargin": true,
           "gridcolor": "white",
           "linecolor": "white",
           "ticks": "",
           "title": {
            "standoff": 15
           },
           "zerolinecolor": "white",
           "zerolinewidth": 2
          }
         }
        },
        "xaxis": {
         "title": {
          "text": "Epochs"
         }
        },
        "yaxis": {
         "title": {
          "text": "Loss (MSE)"
         }
        }
       }
      }
     },
     "metadata": {},
     "output_type": "display_data"
    }
   ],
   "source": [
    "fig = go.Figure()\n",
    "fig.add_trace(\n",
    "    go.Scatter(\n",
    "        x=np.linspace(1, 50),\n",
    "        y=history.history[\"loss\"],\n",
    "        showlegend=False,\n",
    "        mode=\"markers+lines\",\n",
    "    )\n",
    ")\n",
    "fig.update_xaxes(title=\"Epochs\")\n",
    "fig.update_yaxes(title=\"Loss (MSE)\")"
   ]
  },
  {
   "cell_type": "markdown",
   "id": "feec5843",
   "metadata": {},
   "source": [
    "## Parity Plot of Training Error"
   ]
  },
  {
   "cell_type": "code",
   "execution_count": 17,
   "id": "42abb42d",
   "metadata": {},
   "outputs": [
    {
     "data": {
      "application/vnd.plotly.v1+json": {
       "config": {
        "plotlyServerURL": "https://plot.ly"
       },
       "data": [
        {
         "mode": "markers+lines",
         "showlegend": false,
         "type": "scatter",
         "x": [
          0,
          1
         ],
         "y": [
          0,
          1
         ]
        },
        {
         "mode": "markers+lines",
         "showlegend": false,
         "type": "scatter",
         "x": [
          0.7927060127258301,
          0.780692458152771,
          0.7688274383544922,
          0.7565286159515381,
          0.7423298358917236,
          0.7273393273353577,
          0.6793433427810669,
          0.6464285850524902,
          0.6130971312522888,
          0.5216350555419922,
          0.40990060567855835,
          0.3410848081111908,
          0.3052622675895691,
          0.24981151521205902
         ],
         "y": [
          0.7949113855278002,
          0.7836773716354247,
          0.7734982820145957,
          0.7617674508517346,
          0.7481100648288403,
          0.7328755752150314,
          0.6829585481989047,
          0.660126871915549,
          0.6243825203830243,
          0.5479757049799164,
          0.4560228411172442,
          0.42605231806900784,
          0.3884413997845875,
          0.33883710221863184
         ]
        },
        {
         "mode": "markers+lines",
         "showlegend": false,
         "type": "scatter",
         "x": [
          0.7954689264297485,
          0.7827346920967102,
          0.7712047100067139,
          0.7581055164337158,
          0.7437038421630859,
          0.7270994782447815,
          0.6782550811767578,
          0.6470822691917419,
          0.6140407919883728,
          0.5197386145591736,
          0.40036818385124207,
          0.33340221643447876,
          0.29743728041648865,
          0.24262689054012299
         ],
         "y": [
          0.7960050481489737,
          0.7847162053655724,
          0.7743491299362588,
          0.7622723175763081,
          0.7481473808981152,
          0.7322589762746134,
          0.6813487983200506,
          0.6582213511523336,
          0.6205551032570882,
          0.5374574204424207,
          0.44231154841851916,
          0.41235206090064935,
          0.3752458828390301,
          0.3262453385158947
         ]
        },
        {
         "mode": "markers+lines",
         "showlegend": false,
         "type": "scatter",
         "x": [
          0.7958506345748901,
          0.7832214832305908,
          0.7710736393928528,
          0.7581926584243774,
          0.7436689734458923,
          0.7268222570419312,
          0.6775778532028198,
          0.6452862024307251,
          0.6134888529777527,
          0.5191881656646729,
          0.3984066843986511,
          0.33167359232902527,
          0.2963893413543701,
          0.24277940392494202
         ],
         "y": [
          0.7952924406452617,
          0.7839510730570869,
          0.7735507310478218,
          0.7613706245680699,
          0.7470311895531005,
          0.7310509612331095,
          0.6785568378651831,
          0.653883336017541,
          0.6126887447694179,
          0.5220849962948068,
          0.42185932715177854,
          0.39047601851687175,
          0.3510818238959383,
          0.29801892292547255
         ]
        },
        {
         "mode": "markers+lines",
         "showlegend": false,
         "type": "scatter",
         "x": [
          0.7960699200630188,
          0.7829005718231201,
          0.7705808877944946,
          0.7582689523696899,
          0.7438602447509766,
          0.7267736196517944,
          0.6769117116928101,
          0.6457297801971436,
          0.6125038862228394,
          0.5169216990470886,
          0.39624887704849243,
          0.33212971687316895,
          0.2947431802749634,
          0.24104899168014526
         ],
         "y": [
          0.7952506783430886,
          0.783875292315863,
          0.7732952632223581,
          0.7611097211721446,
          0.7467350619822858,
          0.7305753551032337,
          0.6773948114210425,
          0.6518202681973582,
          0.6087722962202208,
          0.5147140089929876,
          0.4133191070898762,
          0.38189635152431467,
          0.3427052606951147,
          0.2896351694950368
         ]
        },
        {
         "mode": "markers+lines",
         "showlegend": false,
         "type": "scatter",
         "x": [
          0.7950007915496826,
          0.7807468175888062,
          0.769219160079956,
          0.7568347454071045,
          0.7427737712860107,
          0.7249338626861572,
          0.6766791939735413,
          0.6468616724014282,
          0.6094652414321899,
          0.5150805711746216,
          0.3973180651664734,
          0.3352248966693878,
          0.29788851737976074,
          0.24291622638702393
         ],
         "y": [
          0.7957760080017673,
          0.7843764634345627,
          0.7739886334082006,
          0.7618203397240321,
          0.7476389726023128,
          0.7317535184180037,
          0.678629179031169,
          0.6521584143767623,
          0.6077628847139697,
          0.5105345842637387,
          0.40363770186738496,
          0.37172024355700717,
          0.3294738870573425,
          0.27296273972498813
         ]
        },
        {
         "mode": "markers+lines",
         "showlegend": false,
         "type": "scatter",
         "x": [
          0.7908971905708313,
          0.7786287665367126,
          0.7679824829101562,
          0.7575106620788574,
          0.7450416088104248,
          0.727662205696106,
          0.6752892732620239,
          0.6469663381576538,
          0.607377290725708,
          0.5162019729614258,
          0.4099372625350952,
          0.3489364981651306,
          0.3080120086669922,
          0.24991708993911743
         ],
         "y": [
          0.7976418302996668,
          0.7862885372624071,
          0.7758338468400702,
          0.7636125451328033,
          0.7495839767264049,
          0.7339607139621047,
          0.6823361756468327,
          0.6565432242837028,
          0.6121463451067203,
          0.5146746098039245,
          0.4113721733550209,
          0.37857230235029316,
          0.3367714462597226,
          0.2798898447712938
         ]
        },
        {
         "mode": "markers+lines",
         "showlegend": false,
         "type": "scatter",
         "x": [
          0.7910512089729309,
          0.7789328694343567,
          0.7688825130462646,
          0.7591419816017151,
          0.7476003170013428,
          0.7321161031723022,
          0.6737625598907471,
          0.6469634771347046,
          0.6071169972419739,
          0.5186469554901123,
          0.4166211485862732,
          0.3546120524406433,
          0.3155209422111511,
          0.25720545649528503
         ],
         "y": [
          0.7989964702652345,
          0.787591436014314,
          0.7770394560674165,
          0.7648596800285092,
          0.7508556076947747,
          0.7353616813282411,
          0.6839884338055299,
          0.6577458017635545,
          0.6123100100569083,
          0.5119136336849468,
          0.40462589822279027,
          0.3701235374319994,
          0.32508696025476636,
          0.2619715444895197
         ]
        },
        {
         "mode": "markers+lines",
         "showlegend": false,
         "type": "scatter",
         "x": [
          0.7943141460418701,
          0.7804301977157593,
          0.768272876739502,
          0.7557672262191772,
          0.7418365478515625,
          0.7257803678512573,
          0.6738188862800598,
          0.6455661654472351,
          0.6076112985610962,
          0.5133179426193237,
          0.3991090655326843,
          0.33736786246299744,
          0.2995610535144806,
          0.24490079283714294
         ],
         "y": [
          0.7939721959475029,
          0.782637480300916,
          0.7719232116442966,
          0.7596065497324512,
          0.7453375458355825,
          0.7289840481134121,
          0.6730865087408741,
          0.6441900863376713,
          0.5941765570558306,
          0.4863898282294858,
          0.3711241844591802,
          0.3334180472735756,
          0.2844528432814455,
          0.22782686528866197
         ]
        },
        {
         "mode": "markers+lines",
         "showlegend": false,
         "type": "scatter",
         "x": [
          0.7970398664474487,
          0.7831501960754395,
          0.7702463865280151,
          0.7574611306190491,
          0.7428828477859497,
          0.7252790927886963,
          0.6740642786026001,
          0.6469929218292236,
          0.6088478565216064,
          0.5137965679168701,
          0.3948369324207306,
          0.33038344979286194,
          0.2929975390434265,
          0.23754622042179108
         ],
         "y": [
          0.7933937938490163,
          0.781987311385027,
          0.7715286748123227,
          0.7585775390212145,
          0.7444408820409123,
          0.7277276988794762,
          0.6707681898961863,
          0.6413002201078096,
          0.5896831575758509,
          0.4798518329990685,
          0.36223228508330746,
          0.324005617967612,
          0.27511363870813993,
          0.22185363507708927
         ]
        },
        {
         "mode": "markers+lines",
         "showlegend": false,
         "type": "scatter",
         "x": [
          0.7951207160949707,
          0.7809226512908936,
          0.7688849568367004,
          0.7567896842956543,
          0.7428542375564575,
          0.7235938906669617,
          0.6748905181884766,
          0.6458607912063599,
          0.6054514646530151,
          0.5097923874855042,
          0.39248910546302795,
          0.33245494961738586,
          0.29460132122039795,
          0.2390400618314743
         ],
         "y": [
          0.7943202789375013,
          0.7828583369007693,
          0.7721965121346751,
          0.7599782993281121,
          0.7457234762427336,
          0.7297708001378783,
          0.6744536256296454,
          0.6457907970297441,
          0.5954203164527307,
          0.4880970625013536,
          0.3740352979869481,
          0.3350544882574257,
          0.2881584389353822,
          0.23355713741768414
         ]
        },
        {
         "mode": "markers+lines",
         "showlegend": false,
         "type": "scatter",
         "x": [
          0.7920147180557251,
          0.7790837287902832,
          0.7677887678146362,
          0.756952166557312,
          0.7443488240242004,
          0.7254295945167542,
          0.6736316084861755,
          0.6455013155937195,
          0.6030852794647217,
          0.5091056823730469,
          0.4011031985282898,
          0.3413267135620117,
          0.30211398005485535,
          0.24600687623023987
         ],
         "y": [
          0.7959550711473405,
          0.7845681531539176,
          0.773839811506482,
          0.761782173314212,
          0.7477078623252523,
          0.7319388500874308,
          0.6780795678224429,
          0.6497592487955302,
          0.5997796926808002,
          0.49315934757894575,
          0.38027658665290415,
          0.3433937740614557,
          0.2954221477315463,
          0.23597475137539792
         ]
        },
        {
         "mode": "markers+lines",
         "showlegend": false,
         "type": "scatter",
         "x": [
          0.7915945053100586,
          0.7789789438247681,
          0.7679740190505981,
          0.7572975754737854,
          0.745015025138855,
          0.7270726561546326,
          0.6723379492759705,
          0.6452803611755371,
          0.6025746464729309,
          0.5086530447006226,
          0.40187615156173706,
          0.3438695967197418,
          0.30403459072113037,
          0.2486017942428589
         ],
         "y": [
          0.796723949771669,
          0.7851647613296673,
          0.7746852937368897,
          0.7625437396165052,
          0.7486160356541782,
          0.7328019647163718,
          0.6799608128881507,
          0.6526087108618427,
          0.605273286508028,
          0.49163779221844506,
          0.37831612842231815,
          0.33864992890414447,
          0.29175852183171286,
          0.23275215294366394
         ]
        },
        {
         "mode": "markers+lines",
         "showlegend": false,
         "type": "scatter",
         "x": [
          0.7940549850463867,
          0.7806521654129028,
          0.7685753107070923,
          0.756249189376831,
          0.7426690459251404,
          0.7258288860321045,
          0.6724210977554321,
          0.6445537805557251,
          0.6030017137527466,
          0.505779504776001,
          0.3898865878582001,
          0.33125436305999756,
          0.29411566257476807,
          0.23939767479896545
         ],
         "y": [
          0.7922374931862862,
          0.7807341472052978,
          0.7698138342338751,
          0.7575339039383022,
          0.7433422940482294,
          0.7270462735578136,
          0.6696738376924459,
          0.6393249335519479,
          0.5859160142075122,
          0.47401859351249187,
          0.3549846982509586,
          0.31504407582559746,
          0.2676158588146424,
          0.22117847948099
         ]
        },
        {
         "mode": "markers+lines",
         "showlegend": false,
         "type": "scatter",
         "x": [
          0.7950459718704224,
          0.7809616923332214,
          0.7689913511276245,
          0.7568907737731934,
          0.7432203888893127,
          0.723858118057251,
          0.6730583906173706,
          0.6449868679046631,
          0.6027020812034607,
          0.5049759149551392,
          0.3894742727279663,
          0.33041706681251526,
          0.2923462688922882,
          0.23748615384101868
         ],
         "y": [
          0.792942541354208,
          0.7814407873915653,
          0.7707261010930843,
          0.7586268333942435,
          0.7444685586262236,
          0.7283382051401771,
          0.671559700268964,
          0.6414777438550278,
          0.5882215489999804,
          0.4778792445272322,
          0.3600064889589012,
          0.32123634145543856,
          0.2723659904585629,
          0.22273890137338606
         ]
        },
        {
         "mode": "markers+lines",
         "showlegend": false,
         "type": "scatter",
         "x": [
          0.7878754138946533,
          0.7803201675415039,
          0.7723106741905212,
          0.7615294456481934,
          0.7461148500442505,
          0.7262341976165771,
          0.6652396321296692,
          0.6376115679740906,
          0.6020409464836121,
          0.5027155876159668,
          0.3802183270454407,
          0.3127291202545166,
          0.2818935513496399,
          0.24072441458702087
         ],
         "y": [
          0.7890651511571849,
          0.7774685321641515,
          0.7665523642356955,
          0.7541780356839722,
          0.7399622280045814,
          0.7234378257844636,
          0.6634541419546204,
          0.6321297329887848,
          0.5768646955404451,
          0.46268203112404116,
          0.34128081147400563,
          0.3012745266264087,
          0.25681473074271094,
          0.21753163667365596
         ]
        },
        {
         "mode": "markers+lines",
         "showlegend": false,
         "type": "scatter",
         "x": [
          0.7948699593544006,
          0.7810860872268677,
          0.7689549922943115,
          0.7571563720703125,
          0.7437699437141418,
          0.7218524813652039,
          0.6727461218833923,
          0.644627034664154,
          0.6003824472427368,
          0.5016635656356812,
          0.3829461634159088,
          0.3252146244049072,
          0.28662335872650146,
          0.23163530230522156
         ],
         "y": [
          0.7924968467408035,
          0.7808935170144649,
          0.7703276957010337,
          0.7583061437461068,
          0.7442639055148318,
          0.7281854787244159,
          0.6717279651350617,
          0.6416400827557462,
          0.5882917625815313,
          0.4782173024293807,
          0.36215717543377024,
          0.32359918870806337,
          0.27556931561906356,
          0.22444163122194005
         ]
        },
        {
         "mode": "markers+lines",
         "showlegend": false,
         "type": "scatter",
         "x": [
          0.7940535545349121,
          0.7803530693054199,
          0.7684268355369568,
          0.7567651867866516,
          0.7436767220497131,
          0.722258448600769,
          0.6719353795051575,
          0.6435916423797607,
          0.5982000827789307,
          0.4975945055484772,
          0.3807130753993988,
          0.3270009756088257,
          0.28999581933021545,
          0.2376306653022766
         ],
         "y": [
          0.7922692603689423,
          0.7805686819461567,
          0.7699100607533863,
          0.7577476024032004,
          0.7437180230444373,
          0.727512431817511,
          0.67088776568891,
          0.6406492045704466,
          0.5870458076307287,
          0.47668647258826924,
          0.3605547560130778,
          0.3217546142088708,
          0.2722878463133025,
          0.2236420498610271
         ]
        }
       ],
       "layout": {
        "template": {
         "data": {
          "bar": [
           {
            "error_x": {
             "color": "rgb(36,36,36)"
            },
            "error_y": {
             "color": "rgb(36,36,36)"
            },
            "marker": {
             "line": {
              "color": "white",
              "width": 0.5
             },
             "pattern": {
              "fillmode": "overlay",
              "size": 10,
              "solidity": 0.2
             }
            },
            "type": "bar"
           }
          ],
          "barpolar": [
           {
            "marker": {
             "line": {
              "color": "white",
              "width": 0.5
             },
             "pattern": {
              "fillmode": "overlay",
              "size": 10,
              "solidity": 0.2
             }
            },
            "type": "barpolar"
           }
          ],
          "carpet": [
           {
            "aaxis": {
             "endlinecolor": "rgb(36,36,36)",
             "gridcolor": "white",
             "linecolor": "white",
             "minorgridcolor": "white",
             "startlinecolor": "rgb(36,36,36)"
            },
            "baxis": {
             "endlinecolor": "rgb(36,36,36)",
             "gridcolor": "white",
             "linecolor": "white",
             "minorgridcolor": "white",
             "startlinecolor": "rgb(36,36,36)"
            },
            "type": "carpet"
           }
          ],
          "choropleth": [
           {
            "colorbar": {
             "outlinewidth": 1,
             "tickcolor": "rgb(36,36,36)",
             "ticks": "outside"
            },
            "type": "choropleth"
           }
          ],
          "contour": [
           {
            "colorbar": {
             "outlinewidth": 1,
             "tickcolor": "rgb(36,36,36)",
             "ticks": "outside"
            },
            "colorscale": [
             [
              0,
              "#440154"
             ],
             [
              0.1111111111111111,
              "#482878"
             ],
             [
              0.2222222222222222,
              "#3e4989"
             ],
             [
              0.3333333333333333,
              "#31688e"
             ],
             [
              0.4444444444444444,
              "#26828e"
             ],
             [
              0.5555555555555556,
              "#1f9e89"
             ],
             [
              0.6666666666666666,
              "#35b779"
             ],
             [
              0.7777777777777778,
              "#6ece58"
             ],
             [
              0.8888888888888888,
              "#b5de2b"
             ],
             [
              1,
              "#fde725"
             ]
            ],
            "type": "contour"
           }
          ],
          "contourcarpet": [
           {
            "colorbar": {
             "outlinewidth": 1,
             "tickcolor": "rgb(36,36,36)",
             "ticks": "outside"
            },
            "type": "contourcarpet"
           }
          ],
          "heatmap": [
           {
            "colorbar": {
             "outlinewidth": 1,
             "tickcolor": "rgb(36,36,36)",
             "ticks": "outside"
            },
            "colorscale": [
             [
              0,
              "#440154"
             ],
             [
              0.1111111111111111,
              "#482878"
             ],
             [
              0.2222222222222222,
              "#3e4989"
             ],
             [
              0.3333333333333333,
              "#31688e"
             ],
             [
              0.4444444444444444,
              "#26828e"
             ],
             [
              0.5555555555555556,
              "#1f9e89"
             ],
             [
              0.6666666666666666,
              "#35b779"
             ],
             [
              0.7777777777777778,
              "#6ece58"
             ],
             [
              0.8888888888888888,
              "#b5de2b"
             ],
             [
              1,
              "#fde725"
             ]
            ],
            "type": "heatmap"
           }
          ],
          "heatmapgl": [
           {
            "colorbar": {
             "outlinewidth": 1,
             "tickcolor": "rgb(36,36,36)",
             "ticks": "outside"
            },
            "colorscale": [
             [
              0,
              "#440154"
             ],
             [
              0.1111111111111111,
              "#482878"
             ],
             [
              0.2222222222222222,
              "#3e4989"
             ],
             [
              0.3333333333333333,
              "#31688e"
             ],
             [
              0.4444444444444444,
              "#26828e"
             ],
             [
              0.5555555555555556,
              "#1f9e89"
             ],
             [
              0.6666666666666666,
              "#35b779"
             ],
             [
              0.7777777777777778,
              "#6ece58"
             ],
             [
              0.8888888888888888,
              "#b5de2b"
             ],
             [
              1,
              "#fde725"
             ]
            ],
            "type": "heatmapgl"
           }
          ],
          "histogram": [
           {
            "marker": {
             "line": {
              "color": "white",
              "width": 0.6
             }
            },
            "type": "histogram"
           }
          ],
          "histogram2d": [
           {
            "colorbar": {
             "outlinewidth": 1,
             "tickcolor": "rgb(36,36,36)",
             "ticks": "outside"
            },
            "colorscale": [
             [
              0,
              "#440154"
             ],
             [
              0.1111111111111111,
              "#482878"
             ],
             [
              0.2222222222222222,
              "#3e4989"
             ],
             [
              0.3333333333333333,
              "#31688e"
             ],
             [
              0.4444444444444444,
              "#26828e"
             ],
             [
              0.5555555555555556,
              "#1f9e89"
             ],
             [
              0.6666666666666666,
              "#35b779"
             ],
             [
              0.7777777777777778,
              "#6ece58"
             ],
             [
              0.8888888888888888,
              "#b5de2b"
             ],
             [
              1,
              "#fde725"
             ]
            ],
            "type": "histogram2d"
           }
          ],
          "histogram2dcontour": [
           {
            "colorbar": {
             "outlinewidth": 1,
             "tickcolor": "rgb(36,36,36)",
             "ticks": "outside"
            },
            "colorscale": [
             [
              0,
              "#440154"
             ],
             [
              0.1111111111111111,
              "#482878"
             ],
             [
              0.2222222222222222,
              "#3e4989"
             ],
             [
              0.3333333333333333,
              "#31688e"
             ],
             [
              0.4444444444444444,
              "#26828e"
             ],
             [
              0.5555555555555556,
              "#1f9e89"
             ],
             [
              0.6666666666666666,
              "#35b779"
             ],
             [
              0.7777777777777778,
              "#6ece58"
             ],
             [
              0.8888888888888888,
              "#b5de2b"
             ],
             [
              1,
              "#fde725"
             ]
            ],
            "type": "histogram2dcontour"
           }
          ],
          "mesh3d": [
           {
            "colorbar": {
             "outlinewidth": 1,
             "tickcolor": "rgb(36,36,36)",
             "ticks": "outside"
            },
            "type": "mesh3d"
           }
          ],
          "parcoords": [
           {
            "line": {
             "colorbar": {
              "outlinewidth": 1,
              "tickcolor": "rgb(36,36,36)",
              "ticks": "outside"
             }
            },
            "type": "parcoords"
           }
          ],
          "pie": [
           {
            "automargin": true,
            "type": "pie"
           }
          ],
          "scatter": [
           {
            "fillpattern": {
             "fillmode": "overlay",
             "size": 10,
             "solidity": 0.2
            },
            "type": "scatter"
           }
          ],
          "scatter3d": [
           {
            "line": {
             "colorbar": {
              "outlinewidth": 1,
              "tickcolor": "rgb(36,36,36)",
              "ticks": "outside"
             }
            },
            "marker": {
             "colorbar": {
              "outlinewidth": 1,
              "tickcolor": "rgb(36,36,36)",
              "ticks": "outside"
             }
            },
            "type": "scatter3d"
           }
          ],
          "scattercarpet": [
           {
            "marker": {
             "colorbar": {
              "outlinewidth": 1,
              "tickcolor": "rgb(36,36,36)",
              "ticks": "outside"
             }
            },
            "type": "scattercarpet"
           }
          ],
          "scattergeo": [
           {
            "marker": {
             "colorbar": {
              "outlinewidth": 1,
              "tickcolor": "rgb(36,36,36)",
              "ticks": "outside"
             }
            },
            "type": "scattergeo"
           }
          ],
          "scattergl": [
           {
            "marker": {
             "colorbar": {
              "outlinewidth": 1,
              "tickcolor": "rgb(36,36,36)",
              "ticks": "outside"
             }
            },
            "type": "scattergl"
           }
          ],
          "scattermapbox": [
           {
            "marker": {
             "colorbar": {
              "outlinewidth": 1,
              "tickcolor": "rgb(36,36,36)",
              "ticks": "outside"
             }
            },
            "type": "scattermapbox"
           }
          ],
          "scatterpolar": [
           {
            "marker": {
             "colorbar": {
              "outlinewidth": 1,
              "tickcolor": "rgb(36,36,36)",
              "ticks": "outside"
             }
            },
            "type": "scatterpolar"
           }
          ],
          "scatterpolargl": [
           {
            "marker": {
             "colorbar": {
              "outlinewidth": 1,
              "tickcolor": "rgb(36,36,36)",
              "ticks": "outside"
             }
            },
            "type": "scatterpolargl"
           }
          ],
          "scatterternary": [
           {
            "marker": {
             "colorbar": {
              "outlinewidth": 1,
              "tickcolor": "rgb(36,36,36)",
              "ticks": "outside"
             }
            },
            "type": "scatterternary"
           }
          ],
          "surface": [
           {
            "colorbar": {
             "outlinewidth": 1,
             "tickcolor": "rgb(36,36,36)",
             "ticks": "outside"
            },
            "colorscale": [
             [
              0,
              "#440154"
             ],
             [
              0.1111111111111111,
              "#482878"
             ],
             [
              0.2222222222222222,
              "#3e4989"
             ],
             [
              0.3333333333333333,
              "#31688e"
             ],
             [
              0.4444444444444444,
              "#26828e"
             ],
             [
              0.5555555555555556,
              "#1f9e89"
             ],
             [
              0.6666666666666666,
              "#35b779"
             ],
             [
              0.7777777777777778,
              "#6ece58"
             ],
             [
              0.8888888888888888,
              "#b5de2b"
             ],
             [
              1,
              "#fde725"
             ]
            ],
            "type": "surface"
           }
          ],
          "table": [
           {
            "cells": {
             "fill": {
              "color": "rgb(237,237,237)"
             },
             "line": {
              "color": "white"
             }
            },
            "header": {
             "fill": {
              "color": "rgb(217,217,217)"
             },
             "line": {
              "color": "white"
             }
            },
            "type": "table"
           }
          ]
         },
         "layout": {
          "annotationdefaults": {
           "arrowhead": 0,
           "arrowwidth": 1
          },
          "autotypenumbers": "strict",
          "coloraxis": {
           "colorbar": {
            "outlinewidth": 1,
            "tickcolor": "rgb(36,36,36)",
            "ticks": "outside"
           }
          },
          "colorscale": {
           "diverging": [
            [
             0,
             "rgb(103,0,31)"
            ],
            [
             0.1,
             "rgb(178,24,43)"
            ],
            [
             0.2,
             "rgb(214,96,77)"
            ],
            [
             0.3,
             "rgb(244,165,130)"
            ],
            [
             0.4,
             "rgb(253,219,199)"
            ],
            [
             0.5,
             "rgb(247,247,247)"
            ],
            [
             0.6,
             "rgb(209,229,240)"
            ],
            [
             0.7,
             "rgb(146,197,222)"
            ],
            [
             0.8,
             "rgb(67,147,195)"
            ],
            [
             0.9,
             "rgb(33,102,172)"
            ],
            [
             1,
             "rgb(5,48,97)"
            ]
           ],
           "sequential": [
            [
             0,
             "#440154"
            ],
            [
             0.1111111111111111,
             "#482878"
            ],
            [
             0.2222222222222222,
             "#3e4989"
            ],
            [
             0.3333333333333333,
             "#31688e"
            ],
            [
             0.4444444444444444,
             "#26828e"
            ],
            [
             0.5555555555555556,
             "#1f9e89"
            ],
            [
             0.6666666666666666,
             "#35b779"
            ],
            [
             0.7777777777777778,
             "#6ece58"
            ],
            [
             0.8888888888888888,
             "#b5de2b"
            ],
            [
             1,
             "#fde725"
            ]
           ],
           "sequentialminus": [
            [
             0,
             "#440154"
            ],
            [
             0.1111111111111111,
             "#482878"
            ],
            [
             0.2222222222222222,
             "#3e4989"
            ],
            [
             0.3333333333333333,
             "#31688e"
            ],
            [
             0.4444444444444444,
             "#26828e"
            ],
            [
             0.5555555555555556,
             "#1f9e89"
            ],
            [
             0.6666666666666666,
             "#35b779"
            ],
            [
             0.7777777777777778,
             "#6ece58"
            ],
            [
             0.8888888888888888,
             "#b5de2b"
            ],
            [
             1,
             "#fde725"
            ]
           ]
          },
          "colorway": [
           "#1F77B4",
           "#FF7F0E",
           "#2CA02C",
           "#D62728",
           "#9467BD",
           "#8C564B",
           "#E377C2",
           "#7F7F7F",
           "#BCBD22",
           "#17BECF"
          ],
          "font": {
           "color": "rgb(36,36,36)"
          },
          "geo": {
           "bgcolor": "white",
           "lakecolor": "white",
           "landcolor": "white",
           "showlakes": true,
           "showland": true,
           "subunitcolor": "white"
          },
          "hoverlabel": {
           "align": "left"
          },
          "hovermode": "closest",
          "mapbox": {
           "style": "light"
          },
          "paper_bgcolor": "white",
          "plot_bgcolor": "white",
          "polar": {
           "angularaxis": {
            "gridcolor": "rgb(232,232,232)",
            "linecolor": "rgb(36,36,36)",
            "showgrid": false,
            "showline": true,
            "ticks": "outside"
           },
           "bgcolor": "white",
           "radialaxis": {
            "gridcolor": "rgb(232,232,232)",
            "linecolor": "rgb(36,36,36)",
            "showgrid": false,
            "showline": true,
            "ticks": "outside"
           }
          },
          "scene": {
           "xaxis": {
            "backgroundcolor": "white",
            "gridcolor": "rgb(232,232,232)",
            "gridwidth": 2,
            "linecolor": "rgb(36,36,36)",
            "showbackground": true,
            "showgrid": false,
            "showline": true,
            "ticks": "outside",
            "zeroline": false,
            "zerolinecolor": "rgb(36,36,36)"
           },
           "yaxis": {
            "backgroundcolor": "white",
            "gridcolor": "rgb(232,232,232)",
            "gridwidth": 2,
            "linecolor": "rgb(36,36,36)",
            "showbackground": true,
            "showgrid": false,
            "showline": true,
            "ticks": "outside",
            "zeroline": false,
            "zerolinecolor": "rgb(36,36,36)"
           },
           "zaxis": {
            "backgroundcolor": "white",
            "gridcolor": "rgb(232,232,232)",
            "gridwidth": 2,
            "linecolor": "rgb(36,36,36)",
            "showbackground": true,
            "showgrid": false,
            "showline": true,
            "ticks": "outside",
            "zeroline": false,
            "zerolinecolor": "rgb(36,36,36)"
           }
          },
          "shapedefaults": {
           "fillcolor": "black",
           "line": {
            "width": 0
           },
           "opacity": 0.3
          },
          "ternary": {
           "aaxis": {
            "gridcolor": "rgb(232,232,232)",
            "linecolor": "rgb(36,36,36)",
            "showgrid": false,
            "showline": true,
            "ticks": "outside"
           },
           "baxis": {
            "gridcolor": "rgb(232,232,232)",
            "linecolor": "rgb(36,36,36)",
            "showgrid": false,
            "showline": true,
            "ticks": "outside"
           },
           "bgcolor": "white",
           "caxis": {
            "gridcolor": "rgb(232,232,232)",
            "linecolor": "rgb(36,36,36)",
            "showgrid": false,
            "showline": true,
            "ticks": "outside"
           }
          },
          "title": {
           "x": 0.05
          },
          "xaxis": {
           "automargin": true,
           "gridcolor": "rgb(232,232,232)",
           "linecolor": "rgb(36,36,36)",
           "showgrid": false,
           "showline": true,
           "ticks": "outside",
           "title": {
            "standoff": 15
           },
           "zeroline": false,
           "zerolinecolor": "rgb(36,36,36)"
          },
          "yaxis": {
           "automargin": true,
           "gridcolor": "rgb(232,232,232)",
           "linecolor": "rgb(36,36,36)",
           "showgrid": false,
           "showline": true,
           "ticks": "outside",
           "title": {
            "standoff": 15
           },
           "zeroline": false,
           "zerolinecolor": "rgb(36,36,36)"
          }
         }
        },
        "xaxis": {
         "title": {
          "text": "Normalized Voltage Prediction"
         }
        },
        "yaxis": {
         "title": {
          "text": "Normalized Voltage Target"
         }
        }
       }
      }
     },
     "metadata": {},
     "output_type": "display_data"
    }
   ],
   "source": [
    "# random plotting traing error at some interval = skip to not make the plot rendering too slow\n",
    "batch_size = datasets[\"batch_size\"]\n",
    "skip = 70\n",
    "\n",
    "fig = go.Figure()\n",
    "fig.add_trace(go.Scatter(x=[0, 1], y=[0, 1], showlegend=False, mode=\"markers+lines\"))\n",
    "for i in range(0, len(datasets[\"X_train\"]), batch_size * skip):\n",
    "    df_pred = pd.DataFrame(model.predict(datasets[\"X_train\"][i : i + batch_size], verbose=0)[:, :, 0])\n",
    "    df_train = pd.DataFrame(datasets[\"y_train\"][i : i + batch_size][:, :, 0])\n",
    "    fig.add_trace(\n",
    "        go.Scatter(\n",
    "            x=df_pred[0].values,\n",
    "            y=df_train[0].values,\n",
    "            showlegend=False,\n",
    "            mode=\"markers+lines\",\n",
    "        )\n",
    "    )\n",
    "\n",
    "fig.update_yaxes(title=\"Normalized Voltage Target\")\n",
    "fig.update_xaxes(title=\"Normalized Voltage Prediction\")\n",
    "fig.update_layout(template=\"simple_white\")"
   ]
  },
  {
   "cell_type": "code",
   "execution_count": 18,
   "id": "adaa7579",
   "metadata": {},
   "outputs": [
    {
     "data": {
      "application/vnd.plotly.v1+json": {
       "config": {
        "plotlyServerURL": "https://plot.ly"
       },
       "data": [
        {
         "mode": "markers+lines",
         "showlegend": false,
         "type": "scatter",
         "x": [
          0,
          1
         ],
         "y": [
          0,
          1
         ]
        },
        {
         "mode": "markers+lines",
         "showlegend": false,
         "type": "scatter",
         "x": [
          0.7996487617492676,
          0.785483717918396,
          0.7726854085922241,
          0.7603645324707031,
          0.7465052008628845,
          0.7308406233787537,
          0.6786552667617798,
          0.6444264054298401,
          0.6089287400245667,
          0.5176867246627808,
          0.4005579650402069,
          0.3421385586261749,
          0.3051066994667053,
          0.25035420060157776
         ],
         "y": [
          0.7949113855278002,
          0.7836773716354247,
          0.7734982820145957,
          0.7617674508517346,
          0.7481100648288403,
          0.7328755752150314,
          0.6829585481989047,
          0.660126871915549,
          0.6243825203830243,
          0.5479757049799164,
          0.4560228411172442,
          0.42605231806900784,
          0.3884413997845875,
          0.33883710221863184
         ]
        },
        {
         "mode": "markers+lines",
         "showlegend": false,
         "type": "scatter",
         "x": [
          0.7980037927627563,
          0.7843724489212036,
          0.7723290920257568,
          0.7592787742614746,
          0.74546217918396,
          0.7297334671020508,
          0.676891028881073,
          0.6451932191848755,
          0.6093897819519043,
          0.5147855281829834,
          0.3893609046936035,
          0.33414193987846375,
          0.29644715785980225,
          0.24205617606639862
         ],
         "y": [
          0.7960050481489737,
          0.7847162053655724,
          0.7743491299362588,
          0.7622723175763081,
          0.7481473808981152,
          0.7322589762746134,
          0.6813487983200506,
          0.6582213511523336,
          0.6205551032570882,
          0.5374574204424207,
          0.44231154841851916,
          0.41235206090064935,
          0.3752458828390301,
          0.3262453385158947
         ]
        },
        {
         "mode": "markers+lines",
         "showlegend": false,
         "type": "scatter",
         "x": [
          0.7977761626243591,
          0.7844055891036987,
          0.7717559933662415,
          0.7588341236114502,
          0.7447471618652344,
          0.7289816737174988,
          0.6762250661849976,
          0.6441152095794678,
          0.6083460450172424,
          0.5138652920722961,
          0.38790297508239746,
          0.3318870961666107,
          0.2952280640602112,
          0.2421475350856781
         ],
         "y": [
          0.7952924406452617,
          0.7839510730570869,
          0.7735507310478218,
          0.7613706245680699,
          0.7470311895531005,
          0.7310509612331095,
          0.6785568378651831,
          0.653883336017541,
          0.6126887447694179,
          0.5220849962948068,
          0.42185932715177854,
          0.39047601851687175,
          0.3510818238959383,
          0.29801892292547255
         ]
        },
        {
         "mode": "markers+lines",
         "showlegend": false,
         "type": "scatter",
         "x": [
          0.797951340675354,
          0.7839993238449097,
          0.7711947560310364,
          0.7588374018669128,
          0.7447881102561951,
          0.7286785840988159,
          0.675635814666748,
          0.6450890302658081,
          0.6070712804794312,
          0.5113436579704285,
          0.3861592710018158,
          0.33171573281288147,
          0.2936289310455322,
          0.24000146985054016
         ],
         "y": [
          0.7952506783430886,
          0.783875292315863,
          0.7732952632223581,
          0.7611097211721446,
          0.7467350619822858,
          0.7305753551032337,
          0.6773948114210425,
          0.6518202681973582,
          0.6087722962202208,
          0.5147140089929876,
          0.4133191070898762,
          0.38189635152431467,
          0.3427052606951147,
          0.2896351694950368
         ]
        },
        {
         "mode": "markers+lines",
         "showlegend": false,
         "type": "scatter",
         "x": [
          0.7966316938400269,
          0.7817615270614624,
          0.7698412537574768,
          0.7574437856674194,
          0.7436662912368774,
          0.7276074886322021,
          0.6755635738372803,
          0.6449680924415588,
          0.6037683486938477,
          0.5093646049499512,
          0.3880499303340912,
          0.3343324363231659,
          0.2967658042907715,
          0.24177555739879608
         ],
         "y": [
          0.7957760080017673,
          0.7843764634345627,
          0.7739886334082006,
          0.7618203397240321,
          0.7476389726023128,
          0.7317535184180037,
          0.678629179031169,
          0.6521584143767623,
          0.6077628847139697,
          0.5105345842637387,
          0.40363770186738496,
          0.37172024355700717,
          0.3294738870573425,
          0.27296273972498813
         ]
        },
        {
         "mode": "markers+lines",
         "showlegend": false,
         "type": "scatter",
         "x": [
          0.7925004959106445,
          0.7796218395233154,
          0.7686771154403687,
          0.7580933570861816,
          0.7457336783409119,
          0.7304779291152954,
          0.674518346786499,
          0.6449629068374634,
          0.6016499400138855,
          0.5105628967285156,
          0.4019613265991211,
          0.3476732075214386,
          0.3064778447151184,
          0.24869348108768463
         ],
         "y": [
          0.7976418302996668,
          0.7862885372624071,
          0.7758338468400702,
          0.7636125451328033,
          0.7495839767264049,
          0.7339607139621047,
          0.6823361756468327,
          0.6565432242837028,
          0.6121463451067203,
          0.5146746098039245,
          0.4113721733550209,
          0.37857230235029316,
          0.3367714462597226,
          0.2798898447712938
         ]
        },
        {
         "mode": "markers+lines",
         "showlegend": false,
         "type": "scatter",
         "x": [
          0.7925713658332825,
          0.7798253297805786,
          0.7694848775863647,
          0.7596085071563721,
          0.7481547594070435,
          0.7338145971298218,
          0.6729944944381714,
          0.6449670791625977,
          0.6014748811721802,
          0.5130963921546936,
          0.40942198038101196,
          0.35304826498031616,
          0.31335246562957764,
          0.2558847963809967
         ],
         "y": [
          0.7989964702652345,
          0.787591436014314,
          0.7770394560674165,
          0.7648596800285092,
          0.7508556076947747,
          0.7353616813282411,
          0.6839884338055299,
          0.6577458017635545,
          0.6123100100569083,
          0.5119136336849468,
          0.40462589822279027,
          0.3701235374319994,
          0.32508696025476636,
          0.2619715444895197
         ]
        },
        {
         "mode": "markers+lines",
         "showlegend": false,
         "type": "scatter",
         "x": [
          0.7956130504608154,
          0.7810593843460083,
          0.768567681312561,
          0.7561421990394592,
          0.7425189018249512,
          0.7269657850265503,
          0.6729216575622559,
          0.6435788869857788,
          0.6017276644706726,
          0.5071963667869568,
          0.39097946882247925,
          0.335810124874115,
          0.29722726345062256,
          0.24353644251823425
         ],
         "y": [
          0.7939721959475029,
          0.782637480300916,
          0.7719232116442966,
          0.7596065497324512,
          0.7453375458355825,
          0.7289840481134121,
          0.6730865087408741,
          0.6441900863376713,
          0.5941765570558306,
          0.4863898282294858,
          0.3711241844591802,
          0.3334180472735756,
          0.2844528432814455,
          0.22782686528866197
         ]
        },
        {
         "mode": "markers+lines",
         "showlegend": false,
         "type": "scatter",
         "x": [
          0.7981714010238647,
          0.7836776971817017,
          0.7705179452896118,
          0.7578219175338745,
          0.7435334920883179,
          0.7275067567825317,
          0.6733226776123047,
          0.6451600790023804,
          0.6030036211013794,
          0.5075023770332336,
          0.3860391080379486,
          0.3287602663040161,
          0.2903802990913391,
          0.23613853752613068
         ],
         "y": [
          0.7933937938490163,
          0.781987311385027,
          0.7715286748123227,
          0.7585775390212145,
          0.7444408820409123,
          0.7277276988794762,
          0.6707681898961863,
          0.6413002201078096,
          0.5896831575758509,
          0.4798518329990685,
          0.36223228508330746,
          0.324005617967612,
          0.27511363870813993,
          0.22185363507708927
         ]
        },
        {
         "mode": "markers+lines",
         "showlegend": false,
         "type": "scatter",
         "x": [
          0.796130895614624,
          0.781408429145813,
          0.769176185131073,
          0.7571296691894531,
          0.7434247732162476,
          0.7257548570632935,
          0.6742739677429199,
          0.643871545791626,
          0.5994948148727417,
          0.503390371799469,
          0.3840113580226898,
          0.3308451473712921,
          0.2921237051486969,
          0.23763220012187958
         ],
         "y": [
          0.7943202789375013,
          0.7828583369007693,
          0.7721965121346751,
          0.7599782993281121,
          0.7457234762427336,
          0.7297708001378783,
          0.6744536256296454,
          0.6457907970297441,
          0.5954203164527307,
          0.4880970625013536,
          0.3740352979869481,
          0.3350544882574257,
          0.2881584389353822,
          0.23355713741768414
         ]
        },
        {
         "mode": "markers+lines",
         "showlegend": false,
         "type": "scatter",
         "x": [
          0.7929762005805969,
          0.7795374393463135,
          0.768073320388794,
          0.7572238445281982,
          0.7447865009307861,
          0.7273586988449097,
          0.6731325387954712,
          0.6435023546218872,
          0.5971874594688416,
          0.5028092265129089,
          0.39323341846466064,
          0.3396393954753876,
          0.29948943853378296,
          0.24457377195358276
         ],
         "y": [
          0.7959550711473405,
          0.7845681531539176,
          0.773839811506482,
          0.761782173314212,
          0.7477078623252523,
          0.7319388500874308,
          0.6780795678224429,
          0.6497592487955302,
          0.5997796926808002,
          0.49315934757894575,
          0.38027658665290415,
          0.3433937740614557,
          0.2954221477315463,
          0.23597475137539792
         ]
        },
        {
         "mode": "markers+lines",
         "showlegend": false,
         "type": "scatter",
         "x": [
          0.7925058603286743,
          0.7793890833854675,
          0.7682158350944519,
          0.7575165033340454,
          0.7453834414482117,
          0.7287975549697876,
          0.6718738675117493,
          0.6432961225509644,
          0.5967925786972046,
          0.5023610591888428,
          0.39429372549057007,
          0.34215569496154785,
          0.3014567494392395,
          0.24717147648334503
         ],
         "y": [
          0.796723949771669,
          0.7851647613296673,
          0.7746852937368897,
          0.7625437396165052,
          0.7486160356541782,
          0.7328019647163718,
          0.6799608128881507,
          0.6526087108618427,
          0.605273286508028,
          0.49163779221844506,
          0.37831612842231815,
          0.33864992890414447,
          0.29175852183171286,
          0.23275215294366394
         ]
        },
        {
         "mode": "markers+lines",
         "showlegend": false,
         "type": "scatter",
         "x": [
          0.7948538661003113,
          0.7809721231460571,
          0.7687356472015381,
          0.7564606666564941,
          0.743057131767273,
          0.7273648977279663,
          0.671968936920166,
          0.6425654888153076,
          0.5970578789710999,
          0.4991458058357239,
          0.3819628357887268,
          0.32960811257362366,
          0.2917221784591675,
          0.23799875378608704
         ],
         "y": [
          0.7922374931862862,
          0.7807341472052978,
          0.7698138342338751,
          0.7575339039383022,
          0.7433422940482294,
          0.7270462735578136,
          0.6696738376924459,
          0.6393249335519479,
          0.5859160142075122,
          0.47401859351249187,
          0.3549846982509586,
          0.31504407582559746,
          0.2676158588146424,
          0.22117847948099
         ]
        },
        {
         "mode": "markers+lines",
         "showlegend": false,
         "type": "scatter",
         "x": [
          0.7957724332809448,
          0.7812502384185791,
          0.7691472768783569,
          0.7570714950561523,
          0.7435556650161743,
          0.7252538204193115,
          0.6726914644241333,
          0.6431409120559692,
          0.5968847870826721,
          0.4983072876930237,
          0.3813955783843994,
          0.32872194051742554,
          0.2899485230445862,
          0.23607295751571655
         ],
         "y": [
          0.792942541354208,
          0.7814407873915653,
          0.7707261010930843,
          0.7586268333942435,
          0.7444685586262236,
          0.7283382051401771,
          0.671559700268964,
          0.6414777438550278,
          0.5882215489999804,
          0.4778792445272322,
          0.3600064889589012,
          0.32123634145543856,
          0.2723659904585629,
          0.22273890137338606
         ]
        },
        {
         "mode": "markers+lines",
         "showlegend": false,
         "type": "scatter",
         "x": [
          0.7885903120040894,
          0.780638575553894,
          0.7724187970161438,
          0.761681318283081,
          0.7464185357093811,
          0.7277249097824097,
          0.6647182106971741,
          0.6381925344467163,
          0.595552921295166,
          0.49518895149230957,
          0.3715839684009552,
          0.3108562231063843,
          0.28041520714759827,
          0.2396101951599121
         ],
         "y": [
          0.7890651511571849,
          0.7774685321641515,
          0.7665523642356955,
          0.7541780356839722,
          0.7399622280045814,
          0.7234378257844636,
          0.6634541419546204,
          0.6321297329887848,
          0.5768646955404451,
          0.46268203112404116,
          0.34128081147400563,
          0.3012745266264087,
          0.25681473074271094,
          0.21753163667365596
         ]
        },
        {
         "mode": "markers+lines",
         "showlegend": false,
         "type": "scatter",
         "x": [
          0.7954598665237427,
          0.781306266784668,
          0.7690738439559937,
          0.757281482219696,
          0.7440237402915955,
          0.722993791103363,
          0.6724764108657837,
          0.6428311467170715,
          0.5945907831192017,
          0.49483710527420044,
          0.3746204376220703,
          0.3235151767730713,
          0.28428083658218384,
          0.2302507758140564
         ],
         "y": [
          0.7924968467408035,
          0.7808935170144649,
          0.7703276957010337,
          0.7583061437461068,
          0.7442639055148318,
          0.7281854787244159,
          0.6717279651350617,
          0.6416400827557462,
          0.5882917625815313,
          0.4782173024293807,
          0.36215717543377024,
          0.32359918870806337,
          0.27556931561906356,
          0.22444163122194005
         ]
        },
        {
         "mode": "markers+lines",
         "showlegend": false,
         "type": "scatter",
         "x": [
          0.7946034669876099,
          0.7805495858192444,
          0.7685247659683228,
          0.7568683624267578,
          0.7438971996307373,
          0.7232794761657715,
          0.6716952919960022,
          0.6417174339294434,
          0.592316746711731,
          0.4906274080276489,
          0.3726756274700165,
          0.3253571689128876,
          0.2877712547779083,
          0.23629750311374664
         ],
         "y": [
          0.7922692603689423,
          0.7805686819461567,
          0.7699100607533863,
          0.7577476024032004,
          0.7437180230444373,
          0.727512431817511,
          0.67088776568891,
          0.6406492045704466,
          0.5870458076307287,
          0.47668647258826924,
          0.3605547560130778,
          0.3217546142088708,
          0.2722878463133025,
          0.2236420498610271
         ]
        }
       ],
       "layout": {
        "template": {
         "data": {
          "bar": [
           {
            "error_x": {
             "color": "rgb(36,36,36)"
            },
            "error_y": {
             "color": "rgb(36,36,36)"
            },
            "marker": {
             "line": {
              "color": "white",
              "width": 0.5
             },
             "pattern": {
              "fillmode": "overlay",
              "size": 10,
              "solidity": 0.2
             }
            },
            "type": "bar"
           }
          ],
          "barpolar": [
           {
            "marker": {
             "line": {
              "color": "white",
              "width": 0.5
             },
             "pattern": {
              "fillmode": "overlay",
              "size": 10,
              "solidity": 0.2
             }
            },
            "type": "barpolar"
           }
          ],
          "carpet": [
           {
            "aaxis": {
             "endlinecolor": "rgb(36,36,36)",
             "gridcolor": "white",
             "linecolor": "white",
             "minorgridcolor": "white",
             "startlinecolor": "rgb(36,36,36)"
            },
            "baxis": {
             "endlinecolor": "rgb(36,36,36)",
             "gridcolor": "white",
             "linecolor": "white",
             "minorgridcolor": "white",
             "startlinecolor": "rgb(36,36,36)"
            },
            "type": "carpet"
           }
          ],
          "choropleth": [
           {
            "colorbar": {
             "outlinewidth": 1,
             "tickcolor": "rgb(36,36,36)",
             "ticks": "outside"
            },
            "type": "choropleth"
           }
          ],
          "contour": [
           {
            "colorbar": {
             "outlinewidth": 1,
             "tickcolor": "rgb(36,36,36)",
             "ticks": "outside"
            },
            "colorscale": [
             [
              0,
              "#440154"
             ],
             [
              0.1111111111111111,
              "#482878"
             ],
             [
              0.2222222222222222,
              "#3e4989"
             ],
             [
              0.3333333333333333,
              "#31688e"
             ],
             [
              0.4444444444444444,
              "#26828e"
             ],
             [
              0.5555555555555556,
              "#1f9e89"
             ],
             [
              0.6666666666666666,
              "#35b779"
             ],
             [
              0.7777777777777778,
              "#6ece58"
             ],
             [
              0.8888888888888888,
              "#b5de2b"
             ],
             [
              1,
              "#fde725"
             ]
            ],
            "type": "contour"
           }
          ],
          "contourcarpet": [
           {
            "colorbar": {
             "outlinewidth": 1,
             "tickcolor": "rgb(36,36,36)",
             "ticks": "outside"
            },
            "type": "contourcarpet"
           }
          ],
          "heatmap": [
           {
            "colorbar": {
             "outlinewidth": 1,
             "tickcolor": "rgb(36,36,36)",
             "ticks": "outside"
            },
            "colorscale": [
             [
              0,
              "#440154"
             ],
             [
              0.1111111111111111,
              "#482878"
             ],
             [
              0.2222222222222222,
              "#3e4989"
             ],
             [
              0.3333333333333333,
              "#31688e"
             ],
             [
              0.4444444444444444,
              "#26828e"
             ],
             [
              0.5555555555555556,
              "#1f9e89"
             ],
             [
              0.6666666666666666,
              "#35b779"
             ],
             [
              0.7777777777777778,
              "#6ece58"
             ],
             [
              0.8888888888888888,
              "#b5de2b"
             ],
             [
              1,
              "#fde725"
             ]
            ],
            "type": "heatmap"
           }
          ],
          "heatmapgl": [
           {
            "colorbar": {
             "outlinewidth": 1,
             "tickcolor": "rgb(36,36,36)",
             "ticks": "outside"
            },
            "colorscale": [
             [
              0,
              "#440154"
             ],
             [
              0.1111111111111111,
              "#482878"
             ],
             [
              0.2222222222222222,
              "#3e4989"
             ],
             [
              0.3333333333333333,
              "#31688e"
             ],
             [
              0.4444444444444444,
              "#26828e"
             ],
             [
              0.5555555555555556,
              "#1f9e89"
             ],
             [
              0.6666666666666666,
              "#35b779"
             ],
             [
              0.7777777777777778,
              "#6ece58"
             ],
             [
              0.8888888888888888,
              "#b5de2b"
             ],
             [
              1,
              "#fde725"
             ]
            ],
            "type": "heatmapgl"
           }
          ],
          "histogram": [
           {
            "marker": {
             "line": {
              "color": "white",
              "width": 0.6
             }
            },
            "type": "histogram"
           }
          ],
          "histogram2d": [
           {
            "colorbar": {
             "outlinewidth": 1,
             "tickcolor": "rgb(36,36,36)",
             "ticks": "outside"
            },
            "colorscale": [
             [
              0,
              "#440154"
             ],
             [
              0.1111111111111111,
              "#482878"
             ],
             [
              0.2222222222222222,
              "#3e4989"
             ],
             [
              0.3333333333333333,
              "#31688e"
             ],
             [
              0.4444444444444444,
              "#26828e"
             ],
             [
              0.5555555555555556,
              "#1f9e89"
             ],
             [
              0.6666666666666666,
              "#35b779"
             ],
             [
              0.7777777777777778,
              "#6ece58"
             ],
             [
              0.8888888888888888,
              "#b5de2b"
             ],
             [
              1,
              "#fde725"
             ]
            ],
            "type": "histogram2d"
           }
          ],
          "histogram2dcontour": [
           {
            "colorbar": {
             "outlinewidth": 1,
             "tickcolor": "rgb(36,36,36)",
             "ticks": "outside"
            },
            "colorscale": [
             [
              0,
              "#440154"
             ],
             [
              0.1111111111111111,
              "#482878"
             ],
             [
              0.2222222222222222,
              "#3e4989"
             ],
             [
              0.3333333333333333,
              "#31688e"
             ],
             [
              0.4444444444444444,
              "#26828e"
             ],
             [
              0.5555555555555556,
              "#1f9e89"
             ],
             [
              0.6666666666666666,
              "#35b779"
             ],
             [
              0.7777777777777778,
              "#6ece58"
             ],
             [
              0.8888888888888888,
              "#b5de2b"
             ],
             [
              1,
              "#fde725"
             ]
            ],
            "type": "histogram2dcontour"
           }
          ],
          "mesh3d": [
           {
            "colorbar": {
             "outlinewidth": 1,
             "tickcolor": "rgb(36,36,36)",
             "ticks": "outside"
            },
            "type": "mesh3d"
           }
          ],
          "parcoords": [
           {
            "line": {
             "colorbar": {
              "outlinewidth": 1,
              "tickcolor": "rgb(36,36,36)",
              "ticks": "outside"
             }
            },
            "type": "parcoords"
           }
          ],
          "pie": [
           {
            "automargin": true,
            "type": "pie"
           }
          ],
          "scatter": [
           {
            "fillpattern": {
             "fillmode": "overlay",
             "size": 10,
             "solidity": 0.2
            },
            "type": "scatter"
           }
          ],
          "scatter3d": [
           {
            "line": {
             "colorbar": {
              "outlinewidth": 1,
              "tickcolor": "rgb(36,36,36)",
              "ticks": "outside"
             }
            },
            "marker": {
             "colorbar": {
              "outlinewidth": 1,
              "tickcolor": "rgb(36,36,36)",
              "ticks": "outside"
             }
            },
            "type": "scatter3d"
           }
          ],
          "scattercarpet": [
           {
            "marker": {
             "colorbar": {
              "outlinewidth": 1,
              "tickcolor": "rgb(36,36,36)",
              "ticks": "outside"
             }
            },
            "type": "scattercarpet"
           }
          ],
          "scattergeo": [
           {
            "marker": {
             "colorbar": {
              "outlinewidth": 1,
              "tickcolor": "rgb(36,36,36)",
              "ticks": "outside"
             }
            },
            "type": "scattergeo"
           }
          ],
          "scattergl": [
           {
            "marker": {
             "colorbar": {
              "outlinewidth": 1,
              "tickcolor": "rgb(36,36,36)",
              "ticks": "outside"
             }
            },
            "type": "scattergl"
           }
          ],
          "scattermapbox": [
           {
            "marker": {
             "colorbar": {
              "outlinewidth": 1,
              "tickcolor": "rgb(36,36,36)",
              "ticks": "outside"
             }
            },
            "type": "scattermapbox"
           }
          ],
          "scatterpolar": [
           {
            "marker": {
             "colorbar": {
              "outlinewidth": 1,
              "tickcolor": "rgb(36,36,36)",
              "ticks": "outside"
             }
            },
            "type": "scatterpolar"
           }
          ],
          "scatterpolargl": [
           {
            "marker": {
             "colorbar": {
              "outlinewidth": 1,
              "tickcolor": "rgb(36,36,36)",
              "ticks": "outside"
             }
            },
            "type": "scatterpolargl"
           }
          ],
          "scatterternary": [
           {
            "marker": {
             "colorbar": {
              "outlinewidth": 1,
              "tickcolor": "rgb(36,36,36)",
              "ticks": "outside"
             }
            },
            "type": "scatterternary"
           }
          ],
          "surface": [
           {
            "colorbar": {
             "outlinewidth": 1,
             "tickcolor": "rgb(36,36,36)",
             "ticks": "outside"
            },
            "colorscale": [
             [
              0,
              "#440154"
             ],
             [
              0.1111111111111111,
              "#482878"
             ],
             [
              0.2222222222222222,
              "#3e4989"
             ],
             [
              0.3333333333333333,
              "#31688e"
             ],
             [
              0.4444444444444444,
              "#26828e"
             ],
             [
              0.5555555555555556,
              "#1f9e89"
             ],
             [
              0.6666666666666666,
              "#35b779"
             ],
             [
              0.7777777777777778,
              "#6ece58"
             ],
             [
              0.8888888888888888,
              "#b5de2b"
             ],
             [
              1,
              "#fde725"
             ]
            ],
            "type": "surface"
           }
          ],
          "table": [
           {
            "cells": {
             "fill": {
              "color": "rgb(237,237,237)"
             },
             "line": {
              "color": "white"
             }
            },
            "header": {
             "fill": {
              "color": "rgb(217,217,217)"
             },
             "line": {
              "color": "white"
             }
            },
            "type": "table"
           }
          ]
         },
         "layout": {
          "annotationdefaults": {
           "arrowhead": 0,
           "arrowwidth": 1
          },
          "autotypenumbers": "strict",
          "coloraxis": {
           "colorbar": {
            "outlinewidth": 1,
            "tickcolor": "rgb(36,36,36)",
            "ticks": "outside"
           }
          },
          "colorscale": {
           "diverging": [
            [
             0,
             "rgb(103,0,31)"
            ],
            [
             0.1,
             "rgb(178,24,43)"
            ],
            [
             0.2,
             "rgb(214,96,77)"
            ],
            [
             0.3,
             "rgb(244,165,130)"
            ],
            [
             0.4,
             "rgb(253,219,199)"
            ],
            [
             0.5,
             "rgb(247,247,247)"
            ],
            [
             0.6,
             "rgb(209,229,240)"
            ],
            [
             0.7,
             "rgb(146,197,222)"
            ],
            [
             0.8,
             "rgb(67,147,195)"
            ],
            [
             0.9,
             "rgb(33,102,172)"
            ],
            [
             1,
             "rgb(5,48,97)"
            ]
           ],
           "sequential": [
            [
             0,
             "#440154"
            ],
            [
             0.1111111111111111,
             "#482878"
            ],
            [
             0.2222222222222222,
             "#3e4989"
            ],
            [
             0.3333333333333333,
             "#31688e"
            ],
            [
             0.4444444444444444,
             "#26828e"
            ],
            [
             0.5555555555555556,
             "#1f9e89"
            ],
            [
             0.6666666666666666,
             "#35b779"
            ],
            [
             0.7777777777777778,
             "#6ece58"
            ],
            [
             0.8888888888888888,
             "#b5de2b"
            ],
            [
             1,
             "#fde725"
            ]
           ],
           "sequentialminus": [
            [
             0,
             "#440154"
            ],
            [
             0.1111111111111111,
             "#482878"
            ],
            [
             0.2222222222222222,
             "#3e4989"
            ],
            [
             0.3333333333333333,
             "#31688e"
            ],
            [
             0.4444444444444444,
             "#26828e"
            ],
            [
             0.5555555555555556,
             "#1f9e89"
            ],
            [
             0.6666666666666666,
             "#35b779"
            ],
            [
             0.7777777777777778,
             "#6ece58"
            ],
            [
             0.8888888888888888,
             "#b5de2b"
            ],
            [
             1,
             "#fde725"
            ]
           ]
          },
          "colorway": [
           "#1F77B4",
           "#FF7F0E",
           "#2CA02C",
           "#D62728",
           "#9467BD",
           "#8C564B",
           "#E377C2",
           "#7F7F7F",
           "#BCBD22",
           "#17BECF"
          ],
          "font": {
           "color": "rgb(36,36,36)"
          },
          "geo": {
           "bgcolor": "white",
           "lakecolor": "white",
           "landcolor": "white",
           "showlakes": true,
           "showland": true,
           "subunitcolor": "white"
          },
          "hoverlabel": {
           "align": "left"
          },
          "hovermode": "closest",
          "mapbox": {
           "style": "light"
          },
          "paper_bgcolor": "white",
          "plot_bgcolor": "white",
          "polar": {
           "angularaxis": {
            "gridcolor": "rgb(232,232,232)",
            "linecolor": "rgb(36,36,36)",
            "showgrid": false,
            "showline": true,
            "ticks": "outside"
           },
           "bgcolor": "white",
           "radialaxis": {
            "gridcolor": "rgb(232,232,232)",
            "linecolor": "rgb(36,36,36)",
            "showgrid": false,
            "showline": true,
            "ticks": "outside"
           }
          },
          "scene": {
           "xaxis": {
            "backgroundcolor": "white",
            "gridcolor": "rgb(232,232,232)",
            "gridwidth": 2,
            "linecolor": "rgb(36,36,36)",
            "showbackground": true,
            "showgrid": false,
            "showline": true,
            "ticks": "outside",
            "zeroline": false,
            "zerolinecolor": "rgb(36,36,36)"
           },
           "yaxis": {
            "backgroundcolor": "white",
            "gridcolor": "rgb(232,232,232)",
            "gridwidth": 2,
            "linecolor": "rgb(36,36,36)",
            "showbackground": true,
            "showgrid": false,
            "showline": true,
            "ticks": "outside",
            "zeroline": false,
            "zerolinecolor": "rgb(36,36,36)"
           },
           "zaxis": {
            "backgroundcolor": "white",
            "gridcolor": "rgb(232,232,232)",
            "gridwidth": 2,
            "linecolor": "rgb(36,36,36)",
            "showbackground": true,
            "showgrid": false,
            "showline": true,
            "ticks": "outside",
            "zeroline": false,
            "zerolinecolor": "rgb(36,36,36)"
           }
          },
          "shapedefaults": {
           "fillcolor": "black",
           "line": {
            "width": 0
           },
           "opacity": 0.3
          },
          "ternary": {
           "aaxis": {
            "gridcolor": "rgb(232,232,232)",
            "linecolor": "rgb(36,36,36)",
            "showgrid": false,
            "showline": true,
            "ticks": "outside"
           },
           "baxis": {
            "gridcolor": "rgb(232,232,232)",
            "linecolor": "rgb(36,36,36)",
            "showgrid": false,
            "showline": true,
            "ticks": "outside"
           },
           "bgcolor": "white",
           "caxis": {
            "gridcolor": "rgb(232,232,232)",
            "linecolor": "rgb(36,36,36)",
            "showgrid": false,
            "showline": true,
            "ticks": "outside"
           }
          },
          "title": {
           "x": 0.05
          },
          "xaxis": {
           "automargin": true,
           "gridcolor": "rgb(232,232,232)",
           "linecolor": "rgb(36,36,36)",
           "showgrid": false,
           "showline": true,
           "ticks": "outside",
           "title": {
            "standoff": 15
           },
           "zeroline": false,
           "zerolinecolor": "rgb(36,36,36)"
          },
          "yaxis": {
           "automargin": true,
           "gridcolor": "rgb(232,232,232)",
           "linecolor": "rgb(36,36,36)",
           "showgrid": false,
           "showline": true,
           "ticks": "outside",
           "title": {
            "standoff": 15
           },
           "zeroline": false,
           "zerolinecolor": "rgb(36,36,36)"
          }
         }
        },
        "xaxis": {
         "title": {
          "text": "Normalized Temperature Prediction"
         }
        },
        "yaxis": {
         "title": {
          "text": "Normalized Temperature Target"
         }
        }
       }
      }
     },
     "metadata": {},
     "output_type": "display_data"
    }
   ],
   "source": [
    "fig = go.Figure()\n",
    "fig.add_trace(go.Scatter(x=[0, 1], y=[0, 1], showlegend=False, mode=\"markers+lines\"))\n",
    "for i in range(0, len(datasets[\"X_train\"]), batch_size * skip):\n",
    "    df_pred = pd.DataFrame(model.predict(datasets[\"X_train\"][i : i + batch_size], verbose=0)[:, :, 0])\n",
    "    df_train = pd.DataFrame(datasets[\"y_train\"][i : i + batch_size][:, :, 0])\n",
    "    fig.add_trace(\n",
    "        go.Scatter(\n",
    "            x=df_pred[0].values,\n",
    "            y=df_train[0].values,\n",
    "            showlegend=False,\n",
    "            mode=\"markers+lines\",\n",
    "        )\n",
    "    )\n",
    "\n",
    "fig.update_yaxes(title=\"Normalized Temperature Target\")\n",
    "fig.update_xaxes(title=\"Normalized Temperature Prediction\")\n",
    "fig.update_layout(template=\"simple_white\")"
   ]
  },
  {
   "cell_type": "markdown",
   "id": "ad2d8e25",
   "metadata": {},
   "source": [
    "## Parity Plot of Test Error"
   ]
  },
  {
   "cell_type": "code",
   "execution_count": 19,
   "id": "93c999da",
   "metadata": {},
   "outputs": [
    {
     "data": {
      "application/vnd.plotly.v1+json": {
       "config": {
        "plotlyServerURL": "https://plot.ly"
       },
       "data": [
        {
         "mode": "markers+lines",
         "showlegend": false,
         "type": "scatter",
         "x": [
          0,
          1
         ],
         "y": [
          0,
          1
         ]
        },
        {
         "mode": "markers+lines",
         "showlegend": false,
         "type": "scatter",
         "x": [
          0.7993158102035522,
          0.7847117185592651,
          0.7730131149291992,
          0.760617733001709,
          0.7467143535614014,
          0.7319694757461548,
          0.6785856485366821,
          0.6494449377059937,
          0.6070592999458313,
          0.5146957635879517,
          0.3904711604118347,
          0.32852619886398315,
          0.2907199263572693,
          0.24945706129074097
         ],
         "y": [
          0.7929591667592423,
          0.7815918950963157,
          0.7713474721799185,
          0.759675958823366,
          0.745989311398398,
          0.7303937430979484,
          0.6801438309200308,
          0.657029937899099,
          0.6214219193856589,
          0.5474449078812436,
          0.45786318033630014,
          0.4289044038766435,
          0.392949171571247,
          0.34553122725077373
         ]
        },
        {
         "mode": "markers+lines",
         "showlegend": false,
         "type": "scatter",
         "x": [
          0.7985213398933411,
          0.7841378450393677,
          0.7719173431396484,
          0.7596179246902466,
          0.7456070184707642,
          0.7303537726402283,
          0.6772751808166504,
          0.646348237991333,
          0.6081753969192505,
          0.511155366897583,
          0.3755921721458435,
          0.31590279936790466,
          0.28235065937042236,
          0.23979464173316956
         ],
         "y": [
          0.7939430241574111,
          0.7825235827731486,
          0.7723147270036618,
          0.7605072338500841,
          0.7465749037592619,
          0.7307852312973231,
          0.6804457872564056,
          0.6582374911348435,
          0.6221338831810124,
          0.5420567972365438,
          0.4453795645972302,
          0.41424902763006416,
          0.375343147304602,
          0.323706593728377
         ]
        },
        {
         "mode": "markers+lines",
         "showlegend": false,
         "type": "scatter",
         "x": [
          0.7977376580238342,
          0.7835158109664917,
          0.7719383835792542,
          0.7597575187683105,
          0.7458865642547607,
          0.7303595542907715,
          0.6768155694007874,
          0.6436076164245605,
          0.6067020893096924,
          0.5089876055717468,
          0.37208229303359985,
          0.3142397701740265,
          0.28219395875930786,
          0.24021612107753754
         ],
         "y": [
          0.7948814124681651,
          0.7833964445107188,
          0.7729107953345095,
          0.7607713389942555,
          0.7466577178346816,
          0.7305545458697734,
          0.6799815926581366,
          0.657810280500461,
          0.6214751338826742,
          0.5402428331891577,
          0.44404502840434035,
          0.4131831311714325,
          0.37476758071660954,
          0.3240377174347732
         ]
        },
        {
         "mode": "markers+lines",
         "showlegend": false,
         "type": "scatter",
         "x": [
          0.7985025644302368,
          0.7839570641517639,
          0.7720531225204468,
          0.7599493265151978,
          0.7458544969558716,
          0.7304633855819702,
          0.6748126745223999,
          0.6415520310401917,
          0.6043386459350586,
          0.5067089200019836,
          0.3693732023239136,
          0.3098781704902649,
          0.2806393504142761,
          0.23847603797912598
         ],
         "y": [
          0.79420172374838,
          0.7827442420930018,
          0.7721912377926865,
          0.7600163165554417,
          0.7458100499739615,
          0.7297961462738146,
          0.6786441992854784,
          0.6559317519077865,
          0.6186886298074491,
          0.535307785049927,
          0.4378756802791476,
          0.4066452693392514,
          0.36771561151852805,
          0.31615383088021576
         ]
        },
        {
         "mode": "markers+lines",
         "showlegend": false,
         "type": "scatter",
         "x": [
          0.7987165451049805,
          0.7839535474777222,
          0.7720912098884583,
          0.7593283653259277,
          0.7455406188964844,
          0.730094313621521,
          0.675550103187561,
          0.6421670913696289,
          0.6046545505523682,
          0.5065534114837646,
          0.36928677558898926,
          0.31307023763656616,
          0.2811119854450226,
          0.2390916645526886
         ],
         "y": [
          0.7939835379463056,
          0.7825887901766052,
          0.7720911545960724,
          0.7600018940816062,
          0.745748679064335,
          0.7296811169927716,
          0.6785782017988332,
          0.6556859653024577,
          0.6176075612717522,
          0.5327826286216348,
          0.4349962840239415,
          0.40388008342453324,
          0.36467685877997796,
          0.3125312316615412
         ]
        },
        {
         "mode": "markers+lines",
         "showlegend": false,
         "type": "scatter",
         "x": [
          0.7992411851882935,
          0.7837172150611877,
          0.7718397378921509,
          0.7593235373497009,
          0.7452593445777893,
          0.7295770645141602,
          0.6763390302658081,
          0.6432425379753113,
          0.6040979027748108,
          0.5053502321243286,
          0.368560254573822,
          0.3137979507446289,
          0.28186464309692383,
          0.24008074402809143
         ],
         "y": [
          0.7941328453269191,
          0.782674899900371,
          0.7721102822847135,
          0.7599851408032449,
          0.745754197770566,
          0.7297454117770293,
          0.6785612974816305,
          0.6553101298642883,
          0.6167811815332933,
          0.5319342857570444,
          0.43616977127878076,
          0.4058573866139872,
          0.3685497932583411,
          0.31923133348850113
         ]
        },
        {
         "mode": "markers+lines",
         "showlegend": false,
         "type": "scatter",
         "x": [
          0.797909140586853,
          0.7828309535980225,
          0.7711084485054016,
          0.7590253353118896,
          0.7454274296760559,
          0.729758620262146,
          0.6756032109260559,
          0.6425957679748535,
          0.6024972796440125,
          0.5038423538208008,
          0.3659084737300873,
          0.3116881251335144,
          0.2812510132789612,
          0.23911812901496887
         ],
         "y": [
          0.7942680587991451,
          0.7829277609062697,
          0.77232754538136,
          0.7600688892693762,
          0.7457457077794531,
          0.7295767288557774,
          0.6777379149280419,
          0.653932938291469,
          0.6140299986376474,
          0.5258473369124088,
          0.42604022626029997,
          0.3942542521036689,
          0.35446047468764785,
          0.30067792567572954
         ]
        },
        {
         "mode": "markers+lines",
         "showlegend": false,
         "type": "scatter",
         "x": [
          0.799243688583374,
          0.7833194136619568,
          0.7712720632553101,
          0.7591555714607239,
          0.7453204393386841,
          0.7295753955841064,
          0.6753795146942139,
          0.6423607468605042,
          0.6026319265365601,
          0.5036866068840027,
          0.36720216274261475,
          0.31279006600379944,
          0.28078675270080566,
          0.23939719796180725
         ],
         "y": [
          0.79355994132897,
          0.7821174233544316,
          0.771650151560943,
          0.7594145013562644,
          0.7451971534237509,
          0.7290958184857228,
          0.6773012924185579,
          0.6532575732116858,
          0.6129591059678868,
          0.5242826431967161,
          0.42574783889927176,
          0.3946274536032811,
          0.3557496494185759,
          0.3038863206621171
         ]
        },
        {
         "mode": "markers+lines",
         "showlegend": false,
         "type": "scatter",
         "x": [
          0.7992110252380371,
          0.7841498851776123,
          0.7721676230430603,
          0.7595849633216858,
          0.7457647323608398,
          0.7294425368309021,
          0.6746788024902344,
          0.6424020528793335,
          0.6006999015808105,
          0.501308798789978,
          0.36389023065567017,
          0.31066757440567017,
          0.2805299162864685,
          0.23897162079811096
         ],
         "y": [
          0.7934462702349838,
          0.7819450386194563,
          0.7714159398960058,
          0.75915606373751,
          0.7448414986647368,
          0.728785555384273,
          0.6766640877738879,
          0.6522057977136954,
          0.6112315207063185,
          0.5210865790255771,
          0.42165203249568795,
          0.3903828700106763,
          0.35123070817251445,
          0.29868703844589684
         ]
        },
        {
         "mode": "markers+lines",
         "showlegend": false,
         "type": "scatter",
         "x": [
          0.7977302074432373,
          0.7820949554443359,
          0.7698959112167358,
          0.7577959299087524,
          0.7440767288208008,
          0.726717472076416,
          0.6760001182556152,
          0.6452498435974121,
          0.6012123823165894,
          0.5024126768112183,
          0.3687317967414856,
          0.3227252960205078,
          0.28236180543899536,
          0.2412092089653015
         ],
         "y": [
          0.7947311020530469,
          0.7832369584367562,
          0.7727223921162212,
          0.7605169191620962,
          0.7463777313771528,
          0.7305510017409437,
          0.6794232559202676,
          0.6552722357626941,
          0.6146013175800501,
          0.5242826161470929,
          0.4244186438831408,
          0.3927541168504208,
          0.353011477365762,
          0.29896816070107973
         ]
        },
        {
         "mode": "markers+lines",
         "showlegend": false,
         "type": "scatter",
         "x": [
          0.7988789081573486,
          0.7831555604934692,
          0.7710161805152893,
          0.7588276267051697,
          0.7452105283737183,
          0.7293403744697571,
          0.6751357913017273,
          0.6433287858963013,
          0.6001827716827393,
          0.5002583265304565,
          0.3640054762363434,
          0.3122084438800812,
          0.2813106179237366,
          0.23967507481575012
         ],
         "y": [
          0.7932473461317044,
          0.7817199776124946,
          0.7711891737685556,
          0.7589025437978938,
          0.7446408803950736,
          0.728465673006954,
          0.6757289738846515,
          0.6506654852897803,
          0.608240700226482,
          0.5145354886970754,
          0.4114569232077853,
          0.37869903645795666,
          0.3373288762072745,
          0.28067446975674243
         ]
        },
        {
         "mode": "markers+lines",
         "showlegend": false,
         "type": "scatter",
         "x": [
          0.7991526126861572,
          0.7842187285423279,
          0.7715051770210266,
          0.758823037147522,
          0.7450790405273438,
          0.7286736965179443,
          0.6751559972763062,
          0.6432986259460449,
          0.6010701656341553,
          0.5008422136306763,
          0.36408254504203796,
          0.31370410323143005,
          0.27977365255355835,
          0.2378964126110077
         ],
         "y": [
          0.7929322135667782,
          0.7815426946864308,
          0.7710419204770002,
          0.7587568498003779,
          0.7444714127399027,
          0.728336808756358,
          0.6756486833043565,
          0.6503622256142162,
          0.6072751111795315,
          0.5123362316557245,
          0.4080968440484569,
          0.3746330201602364,
          0.33215378914867344,
          0.2739775574621571
         ]
        },
        {
         "mode": "markers+lines",
         "showlegend": false,
         "type": "scatter",
         "x": [
          0.7990099787712097,
          0.7842433452606201,
          0.7721397876739502,
          0.7591210603713989,
          0.7451248168945312,
          0.728689968585968,
          0.6745675206184387,
          0.643000602722168,
          0.5993750095367432,
          0.49843406677246094,
          0.3611878454685211,
          0.31060463190078735,
          0.2797001004219055,
          0.23802964389324188
         ],
         "y": [
          0.7931582988500159,
          0.7816401685421435,
          0.7710374766376489,
          0.7586806357565253,
          0.7445144270969877,
          0.7283595382767499,
          0.6754884498251409,
          0.6499190618109956,
          0.6063677202918905,
          0.5102685957938953,
          0.40499792466603224,
          0.37120480894132535,
          0.3283908768117573,
          0.26958946162414216
         ]
        },
        {
         "mode": "markers+lines",
         "showlegend": false,
         "type": "scatter",
         "x": [
          0.7974033355712891,
          0.7817060947418213,
          0.7696189284324646,
          0.757521390914917,
          0.7438388466835022,
          0.7261402606964111,
          0.6754900813102722,
          0.6436101198196411,
          0.5988425016403198,
          0.49890774488449097,
          0.36496806144714355,
          0.32148295640945435,
          0.2823706269264221,
          0.23995400965213776
         ],
         "y": [
          0.7946096088219143,
          0.7831214847767142,
          0.772540316810181,
          0.7603476767986722,
          0.7461547823302851,
          0.7303199521239622,
          0.6785932444573266,
          0.6536233728222501,
          0.6108307610715541,
          0.5165556691442122,
          0.41384853577938585,
          0.3812514095837483,
          0.3399820913523181,
          0.2836668711924108
         ]
        },
        {
         "mode": "markers+lines",
         "showlegend": false,
         "type": "scatter",
         "x": [
          0.7989218235015869,
          0.7839392423629761,
          0.7714071869850159,
          0.7591760158538818,
          0.745453953742981,
          0.7294269800186157,
          0.6731986999511719,
          0.6425955295562744,
          0.597325325012207,
          0.4959281086921692,
          0.35944706201553345,
          0.3103482127189636,
          0.279859721660614,
          0.23805856704711914
         ],
         "y": [
          0.7927355161988165,
          0.7812417243955367,
          0.7706558151900563,
          0.7583203348753836,
          0.7440930702597317,
          0.7279398224258001,
          0.6746431611980493,
          0.6485862836926134,
          0.6037927378887471,
          0.5053292207240232,
          0.3977284563787555,
          0.3632352086546133,
          0.3188181128285066,
          0.25785843299439554
         ]
        },
        {
         "mode": "markers+lines",
         "showlegend": false,
         "type": "scatter",
         "x": [
          0.7993797063827515,
          0.7842265367507935,
          0.7719378471374512,
          0.7591954469680786,
          0.7453481554985046,
          0.7282923460006714,
          0.6739358901977539,
          0.6434909105300903,
          0.5984670519828796,
          0.4963347911834717,
          0.35859018564224243,
          0.31117701530456543,
          0.2788519859313965,
          0.2363380789756775
         ],
         "y": [
          0.7925789797205047,
          0.7810919979415749,
          0.7704091294319991,
          0.758108055368948,
          0.7438176770328988,
          0.7276220222150139,
          0.6740468613957208,
          0.6476556113238986,
          0.6021582399249705,
          0.502421729243631,
          0.3934954735315969,
          0.3585886456538228,
          0.3131566057467275,
          0.2514872583839584
         ]
        },
        {
         "mode": "markers+lines",
         "showlegend": false,
         "type": "scatter",
         "x": [
          0.7988999485969543,
          0.7829493284225464,
          0.7708029747009277,
          0.7584850788116455,
          0.7447060346603394,
          0.7276626229286194,
          0.675383448600769,
          0.6452188491821289,
          0.598346471786499,
          0.49521762132644653,
          0.3585946261882782,
          0.31212395429611206,
          0.27859416604042053,
          0.23698687553405762
         ],
         "y": [
          0.7930414301346509,
          0.7816572648851212,
          0.7710678106241398,
          0.7588099777506407,
          0.7446019847747334,
          0.7285748565894058,
          0.6753500789761896,
          0.6490488961088275,
          0.6036774178894575,
          0.5041422415616316,
          0.39574527956152666,
          0.3607610185045572,
          0.31592430514361913,
          0.2544366600370936
         ]
        },
        {
         "mode": "markers+lines",
         "showlegend": false,
         "type": "scatter",
         "x": [
          0.7825644016265869,
          0.7662177681922913,
          0.7557600736618042,
          0.7482898831367493,
          0.7377101182937622,
          0.7114129066467285,
          0.6755568981170654,
          0.6454639434814453,
          0.5946407318115234,
          0.5003987550735474,
          0.38612884283065796,
          0.3426862359046936,
          0.29917532205581665,
          0.23992197215557098
         ],
         "y": [
          0.8008015881216226,
          0.7894350351732583,
          0.7789812489618004,
          0.7669376127088245,
          0.7532365296993739,
          0.7382733959790555,
          0.6913478785702806,
          0.668109793703203,
          0.6277341551127187,
          0.5370819831021685,
          0.4384724655872278,
          0.40729362976081424,
          0.36736628277184874,
          0.3123449566890012
         ]
        },
        {
         "mode": "markers+lines",
         "showlegend": false,
         "type": "scatter",
         "x": [
          0.7941738367080688,
          0.7793717980384827,
          0.7676064968109131,
          0.7571492195129395,
          0.7445449233055115,
          0.7284642457962036,
          0.6756247282028198,
          0.6396178603172302,
          0.5915893316268921,
          0.4932284951210022,
          0.375239759683609,
          0.33496785163879395,
          0.29752370715141296,
          0.2431456297636032
         ],
         "y": [
          0.795893269263,
          0.7844899418807321,
          0.7739089157625137,
          0.7616937632150367,
          0.7475881201540564,
          0.732041138160149,
          0.6809346354380543,
          0.6554366574367657,
          0.6111356945398383,
          0.5131108105427912,
          0.4067125977050776,
          0.37233759269840666,
          0.32836568532843496,
          0.2669834980211465
         ]
        },
        {
         "mode": "markers+lines",
         "showlegend": false,
         "type": "scatter",
         "x": [
          0.7953084111213684,
          0.7801913022994995,
          0.7686545848846436,
          0.7569146156311035,
          0.7436480522155762,
          0.7289793491363525,
          0.6711161136627197,
          0.6426959037780762,
          0.5949566960334778,
          0.4986901879310608,
          0.376925528049469,
          0.3323560059070587,
          0.2906453013420105,
          0.23330970108509064
         ],
         "y": [
          0.796588744050684,
          0.7851617676390364,
          0.7745811900391936,
          0.7624398174673499,
          0.7484692383548855,
          0.7329767826314988,
          0.6822800964615574,
          0.6568809323989279,
          0.612554074401559,
          0.5143620897942333,
          0.4075935700726772,
          0.3731072641185479,
          0.32873245718133,
          0.26631610617084533
         ]
        },
        {
         "mode": "markers+lines",
         "showlegend": false,
         "type": "scatter",
         "x": [
          0.7940851449966431,
          0.7789856791496277,
          0.7676552534103394,
          0.7562564015388489,
          0.7432334423065186,
          0.7278203964233398,
          0.6754120588302612,
          0.6427422761917114,
          0.594123363494873,
          0.4945104718208313,
          0.3695315718650818,
          0.32818230986595154,
          0.2888721823692322,
          0.23504024744033813
         ],
         "y": [
          0.7964121829840615,
          0.7848181511260092,
          0.7742662751812425,
          0.7620247607273261,
          0.7480892541256502,
          0.7325196918328744,
          0.6813231674103915,
          0.655577409203447,
          0.6105732594175339,
          0.5109341610891084,
          0.4025252445330755,
          0.3674087237154115,
          0.3216938607950333,
          0.2583202006320122
         ]
        },
        {
         "mode": "markers+lines",
         "showlegend": false,
         "type": "scatter",
         "x": [
          0.7944093942642212,
          0.7823988199234009,
          0.7717186212539673,
          0.7626113891601562,
          0.7509214282035828,
          0.7276507616043091,
          0.6732756495475769,
          0.6436737775802612,
          0.5938463807106018,
          0.49928057193756104,
          0.38673579692840576,
          0.3422316312789917,
          0.29748672246932983,
          0.23894286155700684
         ],
         "y": [
          0.7993574523186896,
          0.7879217982023726,
          0.7773822113224695,
          0.7653049093499309,
          0.7516308600499191,
          0.7364154694547039,
          0.687728469196423,
          0.6631142484620574,
          0.6198152846051352,
          0.5230986217419668,
          0.4178366167806682,
          0.3836845467959787,
          0.3396967045131052,
          0.2770395958563912
         ]
        },
        {
         "mode": "markers+lines",
         "showlegend": false,
         "type": "scatter",
         "x": [
          0.7936896085739136,
          0.7787513732910156,
          0.7677125334739685,
          0.7565646171569824,
          0.7439935207366943,
          0.728771448135376,
          0.6745200753211975,
          0.6415439248085022,
          0.592238187789917,
          0.49377357959747314,
          0.3732537627220154,
          0.33206599950790405,
          0.29310715198516846,
          0.23862138390541077
         ],
         "y": [
          0.79601085096629,
          0.7846091677664007,
          0.7740354499731785,
          0.7619355821281356,
          0.747943507373267,
          0.7323700744745641,
          0.681092838988784,
          0.6550552244313387,
          0.6092836872974914,
          0.5086131937329926,
          0.39932878148914136,
          0.36398915910413954,
          0.31793489657403246,
          0.25455651804326834
         ]
        },
        {
         "mode": "markers+lines",
         "showlegend": false,
         "type": "scatter",
         "x": [
          0.7947763204574585,
          0.7792880535125732,
          0.7676024436950684,
          0.7563266754150391,
          0.7430444955825806,
          0.7278087139129639,
          0.6752118468284607,
          0.642768144607544,
          0.5945175290107727,
          0.4955843389034271,
          0.37177908420562744,
          0.32758623361587524,
          0.28614968061447144,
          0.23135189712047577
         ],
         "y": [
          0.7956771426107322,
          0.7843159791249558,
          0.7736066768940101,
          0.7614810702865547,
          0.7475326155922951,
          0.7318934514943148,
          0.6801484741505002,
          0.6537458970456425,
          0.6071536939819965,
          0.5048672261284293,
          0.3939657426955976,
          0.3577598553050236,
          0.3105587737188523,
          0.24687076194928434
         ]
        },
        {
         "mode": "markers+lines",
         "showlegend": false,
         "type": "scatter",
         "x": [
          0.7932658195495605,
          0.7790129780769348,
          0.7677689790725708,
          0.7566648721694946,
          0.7435975670814514,
          0.7283072471618652,
          0.6764868497848511,
          0.6426455974578857,
          0.592917799949646,
          0.49285614490509033,
          0.36877721548080444,
          0.3265773057937622,
          0.28719377517700195,
          0.23298485577106476
         ],
         "y": [
          0.7959821125716131,
          0.7845212083386772,
          0.7739689920371177,
          0.7618862825792415,
          0.7478485371904282,
          0.7323551114777936,
          0.6808526276837191,
          0.6544860614593404,
          0.6080253812071053,
          0.5060913706510276,
          0.3959390195444148,
          0.3600203435890677,
          0.31387455283050264,
          0.25093848585914075
         ]
        },
        {
         "mode": "markers+lines",
         "showlegend": false,
         "type": "scatter",
         "x": [
          0.7940626740455627,
          0.7789894342422485,
          0.767838716506958,
          0.7562853097915649,
          0.742751955986023,
          0.7271620035171509,
          0.6745582818984985,
          0.6426452398300171,
          0.593894898891449,
          0.4913192391395569,
          0.3644600212574005,
          0.32311952114105225,
          0.2838848829269409,
          0.234828382730484
         ],
         "y": [
          0.7944882629507932,
          0.7829558572981358,
          0.772464811080333,
          0.760194337882781,
          0.7462142864588628,
          0.7305002440073799,
          0.6778503947381718,
          0.650689889484775,
          0.6028572189901497,
          0.49823071060035995,
          0.3849094780812039,
          0.34763080887293935,
          0.2990913310269004,
          0.23673422000182973
         ]
        },
        {
         "mode": "markers+lines",
         "showlegend": false,
         "type": "scatter",
         "x": [
          0.7969954013824463,
          0.7816349267959595,
          0.7699489593505859,
          0.7575756311416626,
          0.7442564964294434,
          0.7285526990890503,
          0.6728634834289551,
          0.6440398693084717,
          0.5956866145133972,
          0.49098438024520874,
          0.35642534494400024,
          0.3087179660797119,
          0.27784138917922974,
          0.23520097136497498
         ],
         "y": [
          0.7919584681239962,
          0.7804261676569062,
          0.7697682267896573,
          0.7575531387357726,
          0.7433665352267528,
          0.7271983480942678,
          0.6723585381813996,
          0.6440009680245069,
          0.5942363532639977,
          0.4864092902929244,
          0.3697559169832431,
          0.33139016819531614,
          0.2822030131161008,
          0.22663660823969334
         ]
        },
        {
         "mode": "markers+lines",
         "showlegend": false,
         "type": "scatter",
         "x": [
          0.7977142333984375,
          0.782322883605957,
          0.7706965208053589,
          0.7586261034011841,
          0.7448523640632629,
          0.7290504574775696,
          0.6731712222099304,
          0.6445645689964294,
          0.5952340364456177,
          0.48880407214164734,
          0.35277238488197327,
          0.3070167303085327,
          0.2758054733276367,
          0.23285645246505737
         ],
         "y": [
          0.7915262531995657,
          0.780075943754499,
          0.7694851994064511,
          0.7572619337646574,
          0.7431407398213467,
          0.7269712602085081,
          0.6719617567306615,
          0.6434492110116072,
          0.5932408101796931,
          0.4848826664975963,
          0.3676297189902977,
          0.3286858468750488,
          0.279392260458725,
          0.22502213991586273
         ]
        },
        {
         "mode": "markers+lines",
         "showlegend": false,
         "type": "scatter",
         "x": [
          0.797407865524292,
          0.782870888710022,
          0.7714136242866516,
          0.7589185833930969,
          0.7450634241104126,
          0.7287414073944092,
          0.6728465557098389,
          0.644435703754425,
          0.5942500829696655,
          0.4860741198062897,
          0.34955093264579773,
          0.3056311011314392,
          0.275611013174057,
          0.23283913731575012
         ],
         "y": [
          0.7913905338601029,
          0.7798551804332599,
          0.7692821155721136,
          0.7570045212136336,
          0.7428741538374687,
          0.7267150526593915,
          0.6713526211323759,
          0.6426221689651063,
          0.5916403154317378,
          0.4813774256345826,
          0.3607822237958613,
          0.32045615619915874,
          0.2694567783462744,
          0.21662755171169157
         ]
        },
        {
         "mode": "markers+lines",
         "showlegend": false,
         "type": "scatter",
         "x": [
          0.7946399450302124,
          0.7803057432174683,
          0.7691946029663086,
          0.7572963237762451,
          0.7441504001617432,
          0.7254331111907959,
          0.6742624044418335,
          0.6425904631614685,
          0.5925476551055908,
          0.4861606955528259,
          0.3583781123161316,
          0.3172888159751892,
          0.2780502438545227,
          0.2348903864622116
         ],
         "y": [
          0.7935424224817821,
          0.7820725476364675,
          0.7714809470072086,
          0.7592075156612268,
          0.745198012183808,
          0.7293150468726008,
          0.6756103154697147,
          0.6475876019024268,
          0.5979908971761305,
          0.4904505396654881,
          0.37352043703448745,
          0.3347603720908221,
          0.2844620779544105,
          0.22603698467214914
         ]
        },
        {
         "mode": "markers+lines",
         "showlegend": false,
         "type": "scatter",
         "x": [
          0.7967301607131958,
          0.7816812992095947,
          0.7700905799865723,
          0.7583858370780945,
          0.7448645830154419,
          0.7282425165176392,
          0.672120988368988,
          0.6450763940811157,
          0.5920736789703369,
          0.4835711419582367,
          0.3498077392578125,
          0.30609646439552307,
          0.2766178548336029,
          0.23361732065677643
         ],
         "y": [
          0.7915979499044692,
          0.7800666347983778,
          0.7694945033848939,
          0.7571599737923997,
          0.7430382119643175,
          0.7268893735062133,
          0.671716517481583,
          0.6427268581277773,
          0.5918777781732485,
          0.4821709572107203,
          0.3628584764068767,
          0.32309705193279004,
          0.2731524846427125,
          0.22054029624648086
         ]
        },
        {
         "mode": "markers+lines",
         "showlegend": false,
         "type": "scatter",
         "x": [
          0.7966426610946655,
          0.78138267993927,
          0.7701077461242676,
          0.758387565612793,
          0.7445636987686157,
          0.7266658544540405,
          0.6735240817070007,
          0.6463998556137085,
          0.593853235244751,
          0.48517218232154846,
          0.3516361117362976,
          0.30839183926582336,
          0.2752155363559723,
          0.23198455572128296
         ],
         "y": [
          0.7913864343466347,
          0.7800106063483769,
          0.7693637936638641,
          0.7571397933341121,
          0.7430914374559053,
          0.7269936715336848,
          0.6715981886275875,
          0.6425563115030288,
          0.591279926492499,
          0.48046972136693045,
          0.3595156806303045,
          0.3186862670144445,
          0.26796581301046407,
          0.21576374711918292
         ]
        },
        {
         "mode": "markers+lines",
         "showlegend": false,
         "type": "scatter",
         "x": [
          0.795661985874176,
          0.7812319397926331,
          0.7697658538818359,
          0.7581295371055603,
          0.744268000125885,
          0.7263873219490051,
          0.6734892725944519,
          0.644882082939148,
          0.5926270484924316,
          0.48449844121932983,
          0.35257551074028015,
          0.3104102611541748,
          0.2750036120414734,
          0.2334044873714447
         ],
         "y": [
          0.7921195092632294,
          0.780693237469036,
          0.7700980376544947,
          0.7578634565879765,
          0.743864765520128,
          0.7278383392248514,
          0.6728570567123566,
          0.6439180615852761,
          0.5929173949394599,
          0.4824593662068884,
          0.36181406556801293,
          0.3214026265520927,
          0.27017394476661455,
          0.21671205623484274
         ]
        },
        {
         "mode": "markers+lines",
         "showlegend": false,
         "type": "scatter",
         "x": [
          0.7965654134750366,
          0.7818266153335571,
          0.7696108818054199,
          0.7581956386566162,
          0.7451441884040833,
          0.727024257183075,
          0.6728222370147705,
          0.6455680131912231,
          0.5925556421279907,
          0.48272860050201416,
          0.3516518175601959,
          0.3099473714828491,
          0.27527761459350586,
          0.23335090279579163
         ],
         "y": [
          0.7917510457395973,
          0.7802511564741803,
          0.7696916276093907,
          0.7574484569329047,
          0.7433955378257017,
          0.7273744271801782,
          0.6723376501082415,
          0.6433804242652343,
          0.5921102757542713,
          0.48164297223049635,
          0.3609626990570082,
          0.32037322581987354,
          0.2693176417385597,
          0.2164646097195062
         ]
        },
        {
         "mode": "markers+lines",
         "showlegend": false,
         "type": "scatter",
         "x": [
          0.7956857681274414,
          0.7815077900886536,
          0.770393967628479,
          0.758272647857666,
          0.7445164322853088,
          0.7265439033508301,
          0.6729987263679504,
          0.6453928351402283,
          0.5919201970100403,
          0.4824027419090271,
          0.35161519050598145,
          0.30876192450523376,
          0.2746551036834717,
          0.23279604315757751
         ],
         "y": [
          0.791450687357711,
          0.7800417407610086,
          0.7694615443750045,
          0.7571859899753899,
          0.7431451322441802,
          0.7270374408770982,
          0.6717229023280044,
          0.6426596471422368,
          0.591009077236192,
          0.47969429368131944,
          0.35796334620254894,
          0.31724974059015726,
          0.2663247447658421,
          0.21454274092099815
         ]
        },
        {
         "mode": "markers+lines",
         "showlegend": false,
         "type": "scatter",
         "x": [
          0.7928332090377808,
          0.7793176174163818,
          0.7684780359268188,
          0.7575538158416748,
          0.7444679737091064,
          0.7251386642456055,
          0.674961268901825,
          0.6416852474212646,
          0.5884231925010681,
          0.4808570444583893,
          0.3608028292655945,
          0.3195342719554901,
          0.28036195039749146,
          0.22526198625564575
         ],
         "y": [
          0.7943201345602592,
          0.7829140104497486,
          0.772363985270895,
          0.7603345266629211,
          0.7464536922686646,
          0.7308980117198395,
          0.6779653262970056,
          0.6499857858581026,
          0.6003880969448857,
          0.4930261726108784,
          0.3765569289831804,
          0.3380878003122275,
          0.28777338911903133,
          0.22785971314842576
         ]
        },
        {
         "mode": "markers+lines",
         "showlegend": false,
         "type": "scatter",
         "x": [
          0.7937097549438477,
          0.7798082828521729,
          0.7686254978179932,
          0.7570962905883789,
          0.7439649701118469,
          0.7267316579818726,
          0.6730977892875671,
          0.6412569284439087,
          0.5887254476547241,
          0.4799160361289978,
          0.35788074135780334,
          0.31749391555786133,
          0.27983731031417847,
          0.2358129769563675
         ],
         "y": [
          0.7928436207515926,
          0.7814023238911344,
          0.7708284103718259,
          0.7586916444997037,
          0.7447629764878442,
          0.7289593431411733,
          0.6748537435757745,
          0.6461491856787134,
          0.5954178594899828,
          0.48629329912995184,
          0.3679946884749653,
          0.32872494098283217,
          0.27842675427570357,
          0.22286672207564673
         ]
        },
        {
         "mode": "markers+lines",
         "showlegend": false,
         "type": "scatter",
         "x": [
          0.7920877933502197,
          0.7801448702812195,
          0.7704374194145203,
          0.760494589805603,
          0.7486009001731873,
          0.7311269044876099,
          0.6716890335083008,
          0.6421089768409729,
          0.5885885953903198,
          0.4841393828392029,
          0.3703845739364624,
          0.329084575176239,
          0.2873029112815857,
          0.22916144132614136
         ],
         "y": [
          0.7967860798861369,
          0.7853432984030956,
          0.7747350154712285,
          0.7628082334043266,
          0.7490134254528332,
          0.7337546206163293,
          0.6826649069771585,
          0.6554593396631988,
          0.6070859367178818,
          0.5019119204737361,
          0.38832279127482283,
          0.3505487406432886,
          0.30096971853518617,
          0.23693841424770026
         ]
        },
        {
         "mode": "markers+lines",
         "showlegend": false,
         "type": "scatter",
         "x": [
          0.793346643447876,
          0.7784532904624939,
          0.7675703763961792,
          0.7564682960510254,
          0.7435694932937622,
          0.7281288504600525,
          0.6718903183937073,
          0.6402090787887573,
          0.588346540927887,
          0.47895002365112305,
          0.357414573431015,
          0.3173196017742157,
          0.2775777280330658,
          0.23707248270511627
         ],
         "y": [
          0.7918692001942668,
          0.7804328151841953,
          0.7699029062353709,
          0.7578229857842496,
          0.743958344232754,
          0.7280515698743804,
          0.6731723618459722,
          0.6440742507347036,
          0.5924089021847206,
          0.4812578294006115,
          0.36000303592077243,
          0.31918881821282846,
          0.26785832733573794,
          0.21480532001438957
         ]
        },
        {
         "mode": "markers+lines",
         "showlegend": false,
         "type": "scatter",
         "x": [
          0.7952332496643066,
          0.7814276218414307,
          0.7700484395027161,
          0.7582170963287354,
          0.7441684007644653,
          0.7278265953063965,
          0.6720626950263977,
          0.6427984237670898,
          0.5919244289398193,
          0.4832724332809448,
          0.3542889952659607,
          0.3120385706424713,
          0.2746269106864929,
          0.23151245713233948
         ],
         "y": [
          0.7920971661407202,
          0.7806377444119207,
          0.7701246529485051,
          0.757935364822607,
          0.7439754424692631,
          0.7281292558219576,
          0.673379208942098,
          0.6442725758129786,
          0.592707535388721,
          0.4828781538603677,
          0.3641148968088406,
          0.3244286043476387,
          0.2744271828018398,
          0.22158963356843944
         ]
        },
        {
         "mode": "markers+lines",
         "showlegend": false,
         "type": "scatter",
         "x": [
          0.7959342002868652,
          0.7816013097763062,
          0.7702067494392395,
          0.7582811713218689,
          0.7449800968170166,
          0.7286564707756042,
          0.6710419058799744,
          0.6446336507797241,
          0.5906500816345215,
          0.47714054584503174,
          0.346779465675354,
          0.30383047461509705,
          0.27405181527137756,
          0.23031824827194214
         ],
         "y": [
          0.7911975580384781,
          0.7796497165434879,
          0.7691594669116608,
          0.7571028465131235,
          0.7431292645480895,
          0.7271248448878073,
          0.671586824959172,
          0.642205468598524,
          0.590024770023898,
          0.47927694783570796,
          0.35952382918168024,
          0.31952499967319103,
          0.27009478908149415,
          0.21970581446422846
         ]
        },
        {
         "mode": "markers+lines",
         "showlegend": false,
         "type": "scatter",
         "x": [
          0.793141782283783,
          0.7798492908477783,
          0.7689560651779175,
          0.757739245891571,
          0.744512677192688,
          0.7263028621673584,
          0.6732522249221802,
          0.6419597864151001,
          0.5886164307594299,
          0.47804737091064453,
          0.355942964553833,
          0.315030038356781,
          0.2760465145111084,
          0.23083792626857758
         ],
         "y": [
          0.7932383914946982,
          0.7817688132243431,
          0.7711939426576808,
          0.7591961894321076,
          0.74530319782183,
          0.7294406267501391,
          0.6756132916632642,
          0.6468078279410863,
          0.5956426732207337,
          0.4863848546691923,
          0.36802302303884493,
          0.3283753222389357,
          0.277824585063881,
          0.22159696453083103
         ]
        },
        {
         "mode": "markers+lines",
         "showlegend": false,
         "type": "scatter",
         "x": [
          0.7943406701087952,
          0.780582845211029,
          0.7694865465164185,
          0.7579801678657532,
          0.744632363319397,
          0.7282781600952148,
          0.6718544960021973,
          0.6437990665435791,
          0.5895549058914185,
          0.47575613856315613,
          0.3494858741760254,
          0.3077443540096283,
          0.2745231091976166,
          0.23181749880313873
         ],
         "y": [
          0.7905334157868265,
          0.779090405814274,
          0.7685492832608177,
          0.7565195240366395,
          0.7425874581411727,
          0.7265025458141331,
          0.6706685743593601,
          0.6408467567476792,
          0.5878514311438225,
          0.4752740208368368,
          0.35233503133410765,
          0.31084403468233923,
          0.26058306670341425,
          0.21148699941202204
         ]
        },
        {
         "mode": "markers+lines",
         "showlegend": false,
         "type": "scatter",
         "x": [
          0.7959892749786377,
          0.7816670536994934,
          0.7706121802330017,
          0.7587471008300781,
          0.7451119422912598,
          0.728499174118042,
          0.6701805591583252,
          0.6453078985214233,
          0.5891680717468262,
          0.474685400724411,
          0.34531939029693604,
          0.30213576555252075,
          0.27402937412261963,
          0.2296018749475479
         ],
         "y": [
          0.7904190479490283,
          0.7789473250441932,
          0.7685449174496707,
          0.7565595260683963,
          0.742628840238449,
          0.7266598896810199,
          0.6710353049699332,
          0.6414112913238371,
          0.5890890159320543,
          0.47870081322570235,
          0.35965936671749915,
          0.3201493115060738,
          0.27100367132892594,
          0.2198881372992691
         ]
        },
        {
         "mode": "markers+lines",
         "showlegend": false,
         "type": "scatter",
         "x": [
          0.7962085008621216,
          0.782627284526825,
          0.7706421613693237,
          0.759044349193573,
          0.7454953193664551,
          0.7280252575874329,
          0.6696837544441223,
          0.6447979211807251,
          0.5888900756835938,
          0.47376421093940735,
          0.3446752429008484,
          0.3018592596054077,
          0.2733888030052185,
          0.2291112244129181
         ],
         "y": [
          0.7903960490566576,
          0.7787710273968956,
          0.7682850866651562,
          0.7562780103134129,
          0.7423615593932449,
          0.7262451769744975,
          0.670324715101701,
          0.6402713252973811,
          0.5871697846353016,
          0.47484575381441035,
          0.35276512969250295,
          0.31155727182969434,
          0.26142517105143054,
          0.2120855383999568
         ]
        },
        {
         "mode": "markers+lines",
         "showlegend": false,
         "type": "scatter",
         "x": [
          0.793736457824707,
          0.7804492712020874,
          0.7696264982223511,
          0.7582207918167114,
          0.7446063756942749,
          0.725849986076355,
          0.6726745367050171,
          0.6421664953231812,
          0.5886346101760864,
          0.4753691256046295,
          0.3521469235420227,
          0.3106820583343506,
          0.27264928817749023,
          0.23118554055690765
         ],
         "y": [
          0.7919792160920018,
          0.7804108725424657,
          0.77007271986486,
          0.7579221442432822,
          0.7440872390658773,
          0.7282191218324446,
          0.6734926864861442,
          0.6440918930382616,
          0.5917103509316352,
          0.4812524866812371,
          0.36131300551480544,
          0.3210670929452494,
          0.27033044524852656,
          0.2166704731856758
         ]
        },
        {
         "mode": "markers+lines",
         "showlegend": false,
         "type": "scatter",
         "x": [
          0.7817912697792053,
          0.7761834859848022,
          0.7693796157836914,
          0.7577044367790222,
          0.7422419190406799,
          0.7249264121055603,
          0.6610488891601562,
          0.6296851634979248,
          0.5786106586456299,
          0.46221303939819336,
          0.3344792425632477,
          0.29390624165534973,
          0.2666146159172058,
          0.22601370513439178
         ],
         "y": [
          0.7853241162993394,
          0.7739721983063049,
          0.7633294598185366,
          0.7513168012827737,
          0.7374233971504398,
          0.7203505785063699,
          0.6616866021487812,
          0.6301214502535218,
          0.5741732641189851,
          0.4580907834054261,
          0.3317963706541433,
          0.29056090048552524,
          0.247478309471917,
          0.20884458758958346
         ]
        },
        {
         "mode": "markers+lines",
         "showlegend": false,
         "type": "scatter",
         "x": [
          0.7969198226928711,
          0.7841721773147583,
          0.7754852771759033,
          0.7603708505630493,
          0.7455968856811523,
          0.7295540571212769,
          0.6648958921432495,
          0.6408829689025879,
          0.5853065252304077,
          0.4656592905521393,
          0.3367086946964264,
          0.2980293333530426,
          0.2710811197757721,
          0.22682347893714905
         ],
         "y": [
          0.7895786884679787,
          0.7778258760263739,
          0.7672319253456751,
          0.7556014406982741,
          0.7415570883337229,
          0.7253547355060739,
          0.6695141093215086,
          0.6391557146201162,
          0.5857287614015086,
          0.4744368368108305,
          0.35470518603061985,
          0.3147794323088555,
          0.26619337206652866,
          0.2178251340318917
         ]
        },
        {
         "mode": "markers+lines",
         "showlegend": false,
         "type": "scatter",
         "x": [
          0.7960774898529053,
          0.781575083732605,
          0.7698104381561279,
          0.7616631984710693,
          0.7464797496795654,
          0.726589024066925,
          0.667978048324585,
          0.6418243050575256,
          0.587756335735321,
          0.4699801206588745,
          0.34825608134269714,
          0.3084384799003601,
          0.27308449149131775,
          0.22665731608867645
         ],
         "y": [
          0.7900461725537102,
          0.7787058564373923,
          0.7678346027735579,
          0.7556401291670478,
          0.7414979132786951,
          0.7254887637560009,
          0.6705701256881735,
          0.6406271909596352,
          0.5875173448362224,
          0.4765312890122822,
          0.3569371965777357,
          0.31696766940609306,
          0.26750212186960853,
          0.21755376733771573
         ]
        },
        {
         "mode": "markers+lines",
         "showlegend": false,
         "type": "scatter",
         "x": [
          0.7915877103805542,
          0.7805354595184326,
          0.7720804810523987,
          0.7563276290893555,
          0.7437523603439331,
          0.725490927696228,
          0.6712148785591125,
          0.6420144438743591,
          0.5864620208740234,
          0.46714335680007935,
          0.3542386591434479,
          0.31635782122612,
          0.27547135949134827,
          0.23362235724925995
         ],
         "y": [
          0.7901479153848937,
          0.7789463749176259,
          0.76880166174614,
          0.7575177799291103,
          0.7436216361200592,
          0.728184113117101,
          0.6735220631977324,
          0.6440750421701437,
          0.5917442152745548,
          0.48186101498823697,
          0.36332707460901625,
          0.32339840782307405,
          0.2727928923661338,
          0.21793172511097703
         ]
        },
        {
         "mode": "markers+lines",
         "showlegend": false,
         "type": "scatter",
         "x": [
          0.7950029373168945,
          0.7809673547744751,
          0.7698149681091309,
          0.7588419914245605,
          0.7450922727584839,
          0.7259461879730225,
          0.6698328256607056,
          0.6430840492248535,
          0.5868707895278931,
          0.4683655798435211,
          0.3434831500053406,
          0.30135226249694824,
          0.27311354875564575,
          0.22900637984275818
         ],
         "y": [
          0.7902492877170497,
          0.7786767329092585,
          0.7682475681952192,
          0.7563006043130328,
          0.7424528621102569,
          0.7264648102164335,
          0.6708072645460686,
          0.6408172115620592,
          0.5871921610246996,
          0.47495024621112614,
          0.3529144998750903,
          0.3117038782730982,
          0.26098437813622216,
          0.21012716708792725
         ]
        },
        {
         "mode": "markers+lines",
         "showlegend": false,
         "type": "scatter",
         "x": [
          0.7954511046409607,
          0.7817409634590149,
          0.7703742384910583,
          0.7586880922317505,
          0.745206892490387,
          0.7267386317253113,
          0.6698294878005981,
          0.6437487602233887,
          0.5873590707778931,
          0.46933603286743164,
          0.3433811068534851,
          0.30119821429252625,
          0.2726466655731201,
          0.22882132232189178
         ],
         "y": [
          0.7900814143902934,
          0.7785599898633693,
          0.7681616482430738,
          0.7561996422993553,
          0.7424093607475643,
          0.726370500542614,
          0.6709982832478766,
          0.6411708923027437,
          0.587917044968068,
          0.4773059501976251,
          0.3587040480953886,
          0.31910143815846265,
          0.27007599573668967,
          0.21891921395674802
         ]
        },
        {
         "mode": "markers+lines",
         "showlegend": false,
         "type": "scatter",
         "x": [
          0.7946281433105469,
          0.7809492349624634,
          0.7697216272354126,
          0.7583128213882446,
          0.7448427677154541,
          0.7258511781692505,
          0.6712853312492371,
          0.6419739723205566,
          0.5858850479125977,
          0.4691065847873688,
          0.35027632117271423,
          0.3094947934150696,
          0.27140480279922485,
          0.23036037385463715
         ],
         "y": [
          0.7911540020741515,
          0.779519454228925,
          0.769078451879214,
          0.7569246335525734,
          0.7431998920046983,
          0.7273014320786235,
          0.672477724083142,
          0.6428086388272723,
          0.5900548117072485,
          0.48017881925397815,
          0.36238980507026025,
          0.3231482831188832,
          0.27370235311892926,
          0.2203688207699956
         ]
        },
        {
         "mode": "markers+lines",
         "showlegend": false,
         "type": "scatter",
         "x": [
          0.7946380376815796,
          0.7815459966659546,
          0.7702575922012329,
          0.7583101987838745,
          0.744987964630127,
          0.7270755767822266,
          0.6705395579338074,
          0.6432911157608032,
          0.5866553783416748,
          0.46749642491340637,
          0.343847393989563,
          0.30140501260757446,
          0.27355921268463135,
          0.2290882170200348
         ],
         "y": [
          0.7908321321272276,
          0.779208391568059,
          0.7687945502364453,
          0.7568131837622484,
          0.7429972486282573,
          0.7269831232782621,
          0.6717485083833985,
          0.6417249103046674,
          0.5882218102623576,
          0.47700506531422704,
          0.3564642351673214,
          0.31573373953573236,
          0.26496885702712003,
          0.21258191006074909
         ]
        },
        {
         "mode": "markers+lines",
         "showlegend": false,
         "type": "scatter",
         "x": [
          0.7945793271064758,
          0.7810042500495911,
          0.770099937915802,
          0.7585381865501404,
          0.7449266910552979,
          0.7262973785400391,
          0.6711397171020508,
          0.6430284976959229,
          0.5872688293457031,
          0.46782469749450684,
          0.3458472192287445,
          0.30554983019828796,
          0.27125540375709534,
          0.2292613387107849
         ],
         "y": [
          0.790463793796935,
          0.778892167369269,
          0.768456067300275,
          0.756441275084595,
          0.7427051481440984,
          0.7266658448823946,
          0.6711343939980998,
          0.6410085781721683,
          0.5871343050101586,
          0.47535468039138595,
          0.35436781137611995,
          0.31369033850718725,
          0.2629700500195891,
          0.2115649497602437
         ]
        },
        {
         "mode": "markers+lines",
         "showlegend": false,
         "type": "scatter",
         "x": [
          0.7936210036277771,
          0.7802042961120605,
          0.7691847681999207,
          0.7579494714736938,
          0.744541585445404,
          0.7255390882492065,
          0.6717255115509033,
          0.6421522498130798,
          0.585995078086853,
          0.4677671194076538,
          0.35067102313041687,
          0.31111112236976624,
          0.2723997235298157,
          0.23044374585151672
         ],
         "y": [
          0.7910700238766591,
          0.7794446828124295,
          0.7690273794885618,
          0.7570124150216467,
          0.7433690718293713,
          0.7275423869267139,
          0.6726454996797173,
          0.6428129740644093,
          0.5893678608188924,
          0.4782966405701417,
          0.357994674595184,
          0.3174387128615361,
          0.26624177939507354,
          0.21231003081525926
         ]
        },
        {
         "mode": "markers+lines",
         "showlegend": false,
         "type": "scatter",
         "x": [
          0.7936643958091736,
          0.7805969715118408,
          0.7691621780395508,
          0.7578833103179932,
          0.7443333268165588,
          0.726083517074585,
          0.6717369556427002,
          0.6417112350463867,
          0.5852437019348145,
          0.4687281548976898,
          0.35093820095062256,
          0.3092644214630127,
          0.2725522816181183,
          0.2304711788892746
         ],
         "y": [
          0.791182494362331,
          0.7795263806566909,
          0.7690725599287683,
          0.7572423616414788,
          0.7436115595409047,
          0.7279106325243488,
          0.6734094316906765,
          0.6437367365357222,
          0.5904659055997498,
          0.4802735832132288,
          0.36127958922191633,
          0.3209801695428209,
          0.27012714819345623,
          0.21497037108830794
         ]
        },
        {
         "mode": "markers+lines",
         "showlegend": false,
         "type": "scatter",
         "x": [
          0.7938389778137207,
          0.7810644507408142,
          0.769993782043457,
          0.7584222555160522,
          0.7450817227363586,
          0.7276223301887512,
          0.6704961061477661,
          0.6423091888427734,
          0.5864537954330444,
          0.46568620204925537,
          0.3446280062198639,
          0.3028132915496826,
          0.27245059609413147,
          0.22830666601657867
         ],
         "y": [
          0.7900228115629875,
          0.7783650386349366,
          0.7680549141708716,
          0.756113793225797,
          0.7423632927196525,
          0.7264820255304975,
          0.6708259236069121,
          0.6404871325775688,
          0.5863869001892769,
          0.47465026185632,
          0.3538625839045482,
          0.31282915089931296,
          0.26265545330909895,
          0.21118580727618258
         ]
        },
        {
         "mode": "markers+lines",
         "showlegend": false,
         "type": "scatter",
         "x": [
          0.7928966879844666,
          0.7799002528190613,
          0.7692669034004211,
          0.7581270933151245,
          0.7447984218597412,
          0.7255027294158936,
          0.672308087348938,
          0.6419325470924377,
          0.5844807624816895,
          0.46701472997665405,
          0.3527415692806244,
          0.31233474612236023,
          0.27391955256462097,
          0.22648487985134125
         ],
         "y": [
          0.7917973467928942,
          0.7800486225067892,
          0.7695935032543856,
          0.7576832099817353,
          0.7440854531167577,
          0.728414828591993,
          0.6744754232715926,
          0.64509914923998,
          0.5925460387747927,
          0.4841681064314566,
          0.368225021073499,
          0.3297020895258151,
          0.28012602307856266,
          0.2237705597689399
         ]
        }
       ],
       "layout": {
        "template": {
         "data": {
          "bar": [
           {
            "error_x": {
             "color": "rgb(36,36,36)"
            },
            "error_y": {
             "color": "rgb(36,36,36)"
            },
            "marker": {
             "line": {
              "color": "white",
              "width": 0.5
             },
             "pattern": {
              "fillmode": "overlay",
              "size": 10,
              "solidity": 0.2
             }
            },
            "type": "bar"
           }
          ],
          "barpolar": [
           {
            "marker": {
             "line": {
              "color": "white",
              "width": 0.5
             },
             "pattern": {
              "fillmode": "overlay",
              "size": 10,
              "solidity": 0.2
             }
            },
            "type": "barpolar"
           }
          ],
          "carpet": [
           {
            "aaxis": {
             "endlinecolor": "rgb(36,36,36)",
             "gridcolor": "white",
             "linecolor": "white",
             "minorgridcolor": "white",
             "startlinecolor": "rgb(36,36,36)"
            },
            "baxis": {
             "endlinecolor": "rgb(36,36,36)",
             "gridcolor": "white",
             "linecolor": "white",
             "minorgridcolor": "white",
             "startlinecolor": "rgb(36,36,36)"
            },
            "type": "carpet"
           }
          ],
          "choropleth": [
           {
            "colorbar": {
             "outlinewidth": 1,
             "tickcolor": "rgb(36,36,36)",
             "ticks": "outside"
            },
            "type": "choropleth"
           }
          ],
          "contour": [
           {
            "colorbar": {
             "outlinewidth": 1,
             "tickcolor": "rgb(36,36,36)",
             "ticks": "outside"
            },
            "colorscale": [
             [
              0,
              "#440154"
             ],
             [
              0.1111111111111111,
              "#482878"
             ],
             [
              0.2222222222222222,
              "#3e4989"
             ],
             [
              0.3333333333333333,
              "#31688e"
             ],
             [
              0.4444444444444444,
              "#26828e"
             ],
             [
              0.5555555555555556,
              "#1f9e89"
             ],
             [
              0.6666666666666666,
              "#35b779"
             ],
             [
              0.7777777777777778,
              "#6ece58"
             ],
             [
              0.8888888888888888,
              "#b5de2b"
             ],
             [
              1,
              "#fde725"
             ]
            ],
            "type": "contour"
           }
          ],
          "contourcarpet": [
           {
            "colorbar": {
             "outlinewidth": 1,
             "tickcolor": "rgb(36,36,36)",
             "ticks": "outside"
            },
            "type": "contourcarpet"
           }
          ],
          "heatmap": [
           {
            "colorbar": {
             "outlinewidth": 1,
             "tickcolor": "rgb(36,36,36)",
             "ticks": "outside"
            },
            "colorscale": [
             [
              0,
              "#440154"
             ],
             [
              0.1111111111111111,
              "#482878"
             ],
             [
              0.2222222222222222,
              "#3e4989"
             ],
             [
              0.3333333333333333,
              "#31688e"
             ],
             [
              0.4444444444444444,
              "#26828e"
             ],
             [
              0.5555555555555556,
              "#1f9e89"
             ],
             [
              0.6666666666666666,
              "#35b779"
             ],
             [
              0.7777777777777778,
              "#6ece58"
             ],
             [
              0.8888888888888888,
              "#b5de2b"
             ],
             [
              1,
              "#fde725"
             ]
            ],
            "type": "heatmap"
           }
          ],
          "heatmapgl": [
           {
            "colorbar": {
             "outlinewidth": 1,
             "tickcolor": "rgb(36,36,36)",
             "ticks": "outside"
            },
            "colorscale": [
             [
              0,
              "#440154"
             ],
             [
              0.1111111111111111,
              "#482878"
             ],
             [
              0.2222222222222222,
              "#3e4989"
             ],
             [
              0.3333333333333333,
              "#31688e"
             ],
             [
              0.4444444444444444,
              "#26828e"
             ],
             [
              0.5555555555555556,
              "#1f9e89"
             ],
             [
              0.6666666666666666,
              "#35b779"
             ],
             [
              0.7777777777777778,
              "#6ece58"
             ],
             [
              0.8888888888888888,
              "#b5de2b"
             ],
             [
              1,
              "#fde725"
             ]
            ],
            "type": "heatmapgl"
           }
          ],
          "histogram": [
           {
            "marker": {
             "line": {
              "color": "white",
              "width": 0.6
             }
            },
            "type": "histogram"
           }
          ],
          "histogram2d": [
           {
            "colorbar": {
             "outlinewidth": 1,
             "tickcolor": "rgb(36,36,36)",
             "ticks": "outside"
            },
            "colorscale": [
             [
              0,
              "#440154"
             ],
             [
              0.1111111111111111,
              "#482878"
             ],
             [
              0.2222222222222222,
              "#3e4989"
             ],
             [
              0.3333333333333333,
              "#31688e"
             ],
             [
              0.4444444444444444,
              "#26828e"
             ],
             [
              0.5555555555555556,
              "#1f9e89"
             ],
             [
              0.6666666666666666,
              "#35b779"
             ],
             [
              0.7777777777777778,
              "#6ece58"
             ],
             [
              0.8888888888888888,
              "#b5de2b"
             ],
             [
              1,
              "#fde725"
             ]
            ],
            "type": "histogram2d"
           }
          ],
          "histogram2dcontour": [
           {
            "colorbar": {
             "outlinewidth": 1,
             "tickcolor": "rgb(36,36,36)",
             "ticks": "outside"
            },
            "colorscale": [
             [
              0,
              "#440154"
             ],
             [
              0.1111111111111111,
              "#482878"
             ],
             [
              0.2222222222222222,
              "#3e4989"
             ],
             [
              0.3333333333333333,
              "#31688e"
             ],
             [
              0.4444444444444444,
              "#26828e"
             ],
             [
              0.5555555555555556,
              "#1f9e89"
             ],
             [
              0.6666666666666666,
              "#35b779"
             ],
             [
              0.7777777777777778,
              "#6ece58"
             ],
             [
              0.8888888888888888,
              "#b5de2b"
             ],
             [
              1,
              "#fde725"
             ]
            ],
            "type": "histogram2dcontour"
           }
          ],
          "mesh3d": [
           {
            "colorbar": {
             "outlinewidth": 1,
             "tickcolor": "rgb(36,36,36)",
             "ticks": "outside"
            },
            "type": "mesh3d"
           }
          ],
          "parcoords": [
           {
            "line": {
             "colorbar": {
              "outlinewidth": 1,
              "tickcolor": "rgb(36,36,36)",
              "ticks": "outside"
             }
            },
            "type": "parcoords"
           }
          ],
          "pie": [
           {
            "automargin": true,
            "type": "pie"
           }
          ],
          "scatter": [
           {
            "fillpattern": {
             "fillmode": "overlay",
             "size": 10,
             "solidity": 0.2
            },
            "type": "scatter"
           }
          ],
          "scatter3d": [
           {
            "line": {
             "colorbar": {
              "outlinewidth": 1,
              "tickcolor": "rgb(36,36,36)",
              "ticks": "outside"
             }
            },
            "marker": {
             "colorbar": {
              "outlinewidth": 1,
              "tickcolor": "rgb(36,36,36)",
              "ticks": "outside"
             }
            },
            "type": "scatter3d"
           }
          ],
          "scattercarpet": [
           {
            "marker": {
             "colorbar": {
              "outlinewidth": 1,
              "tickcolor": "rgb(36,36,36)",
              "ticks": "outside"
             }
            },
            "type": "scattercarpet"
           }
          ],
          "scattergeo": [
           {
            "marker": {
             "colorbar": {
              "outlinewidth": 1,
              "tickcolor": "rgb(36,36,36)",
              "ticks": "outside"
             }
            },
            "type": "scattergeo"
           }
          ],
          "scattergl": [
           {
            "marker": {
             "colorbar": {
              "outlinewidth": 1,
              "tickcolor": "rgb(36,36,36)",
              "ticks": "outside"
             }
            },
            "type": "scattergl"
           }
          ],
          "scattermapbox": [
           {
            "marker": {
             "colorbar": {
              "outlinewidth": 1,
              "tickcolor": "rgb(36,36,36)",
              "ticks": "outside"
             }
            },
            "type": "scattermapbox"
           }
          ],
          "scatterpolar": [
           {
            "marker": {
             "colorbar": {
              "outlinewidth": 1,
              "tickcolor": "rgb(36,36,36)",
              "ticks": "outside"
             }
            },
            "type": "scatterpolar"
           }
          ],
          "scatterpolargl": [
           {
            "marker": {
             "colorbar": {
              "outlinewidth": 1,
              "tickcolor": "rgb(36,36,36)",
              "ticks": "outside"
             }
            },
            "type": "scatterpolargl"
           }
          ],
          "scatterternary": [
           {
            "marker": {
             "colorbar": {
              "outlinewidth": 1,
              "tickcolor": "rgb(36,36,36)",
              "ticks": "outside"
             }
            },
            "type": "scatterternary"
           }
          ],
          "surface": [
           {
            "colorbar": {
             "outlinewidth": 1,
             "tickcolor": "rgb(36,36,36)",
             "ticks": "outside"
            },
            "colorscale": [
             [
              0,
              "#440154"
             ],
             [
              0.1111111111111111,
              "#482878"
             ],
             [
              0.2222222222222222,
              "#3e4989"
             ],
             [
              0.3333333333333333,
              "#31688e"
             ],
             [
              0.4444444444444444,
              "#26828e"
             ],
             [
              0.5555555555555556,
              "#1f9e89"
             ],
             [
              0.6666666666666666,
              "#35b779"
             ],
             [
              0.7777777777777778,
              "#6ece58"
             ],
             [
              0.8888888888888888,
              "#b5de2b"
             ],
             [
              1,
              "#fde725"
             ]
            ],
            "type": "surface"
           }
          ],
          "table": [
           {
            "cells": {
             "fill": {
              "color": "rgb(237,237,237)"
             },
             "line": {
              "color": "white"
             }
            },
            "header": {
             "fill": {
              "color": "rgb(217,217,217)"
             },
             "line": {
              "color": "white"
             }
            },
            "type": "table"
           }
          ]
         },
         "layout": {
          "annotationdefaults": {
           "arrowhead": 0,
           "arrowwidth": 1
          },
          "autotypenumbers": "strict",
          "coloraxis": {
           "colorbar": {
            "outlinewidth": 1,
            "tickcolor": "rgb(36,36,36)",
            "ticks": "outside"
           }
          },
          "colorscale": {
           "diverging": [
            [
             0,
             "rgb(103,0,31)"
            ],
            [
             0.1,
             "rgb(178,24,43)"
            ],
            [
             0.2,
             "rgb(214,96,77)"
            ],
            [
             0.3,
             "rgb(244,165,130)"
            ],
            [
             0.4,
             "rgb(253,219,199)"
            ],
            [
             0.5,
             "rgb(247,247,247)"
            ],
            [
             0.6,
             "rgb(209,229,240)"
            ],
            [
             0.7,
             "rgb(146,197,222)"
            ],
            [
             0.8,
             "rgb(67,147,195)"
            ],
            [
             0.9,
             "rgb(33,102,172)"
            ],
            [
             1,
             "rgb(5,48,97)"
            ]
           ],
           "sequential": [
            [
             0,
             "#440154"
            ],
            [
             0.1111111111111111,
             "#482878"
            ],
            [
             0.2222222222222222,
             "#3e4989"
            ],
            [
             0.3333333333333333,
             "#31688e"
            ],
            [
             0.4444444444444444,
             "#26828e"
            ],
            [
             0.5555555555555556,
             "#1f9e89"
            ],
            [
             0.6666666666666666,
             "#35b779"
            ],
            [
             0.7777777777777778,
             "#6ece58"
            ],
            [
             0.8888888888888888,
             "#b5de2b"
            ],
            [
             1,
             "#fde725"
            ]
           ],
           "sequentialminus": [
            [
             0,
             "#440154"
            ],
            [
             0.1111111111111111,
             "#482878"
            ],
            [
             0.2222222222222222,
             "#3e4989"
            ],
            [
             0.3333333333333333,
             "#31688e"
            ],
            [
             0.4444444444444444,
             "#26828e"
            ],
            [
             0.5555555555555556,
             "#1f9e89"
            ],
            [
             0.6666666666666666,
             "#35b779"
            ],
            [
             0.7777777777777778,
             "#6ece58"
            ],
            [
             0.8888888888888888,
             "#b5de2b"
            ],
            [
             1,
             "#fde725"
            ]
           ]
          },
          "colorway": [
           "#1F77B4",
           "#FF7F0E",
           "#2CA02C",
           "#D62728",
           "#9467BD",
           "#8C564B",
           "#E377C2",
           "#7F7F7F",
           "#BCBD22",
           "#17BECF"
          ],
          "font": {
           "color": "rgb(36,36,36)"
          },
          "geo": {
           "bgcolor": "white",
           "lakecolor": "white",
           "landcolor": "white",
           "showlakes": true,
           "showland": true,
           "subunitcolor": "white"
          },
          "hoverlabel": {
           "align": "left"
          },
          "hovermode": "closest",
          "mapbox": {
           "style": "light"
          },
          "paper_bgcolor": "white",
          "plot_bgcolor": "white",
          "polar": {
           "angularaxis": {
            "gridcolor": "rgb(232,232,232)",
            "linecolor": "rgb(36,36,36)",
            "showgrid": false,
            "showline": true,
            "ticks": "outside"
           },
           "bgcolor": "white",
           "radialaxis": {
            "gridcolor": "rgb(232,232,232)",
            "linecolor": "rgb(36,36,36)",
            "showgrid": false,
            "showline": true,
            "ticks": "outside"
           }
          },
          "scene": {
           "xaxis": {
            "backgroundcolor": "white",
            "gridcolor": "rgb(232,232,232)",
            "gridwidth": 2,
            "linecolor": "rgb(36,36,36)",
            "showbackground": true,
            "showgrid": false,
            "showline": true,
            "ticks": "outside",
            "zeroline": false,
            "zerolinecolor": "rgb(36,36,36)"
           },
           "yaxis": {
            "backgroundcolor": "white",
            "gridcolor": "rgb(232,232,232)",
            "gridwidth": 2,
            "linecolor": "rgb(36,36,36)",
            "showbackground": true,
            "showgrid": false,
            "showline": true,
            "ticks": "outside",
            "zeroline": false,
            "zerolinecolor": "rgb(36,36,36)"
           },
           "zaxis": {
            "backgroundcolor": "white",
            "gridcolor": "rgb(232,232,232)",
            "gridwidth": 2,
            "linecolor": "rgb(36,36,36)",
            "showbackground": true,
            "showgrid": false,
            "showline": true,
            "ticks": "outside",
            "zeroline": false,
            "zerolinecolor": "rgb(36,36,36)"
           }
          },
          "shapedefaults": {
           "fillcolor": "black",
           "line": {
            "width": 0
           },
           "opacity": 0.3
          },
          "ternary": {
           "aaxis": {
            "gridcolor": "rgb(232,232,232)",
            "linecolor": "rgb(36,36,36)",
            "showgrid": false,
            "showline": true,
            "ticks": "outside"
           },
           "baxis": {
            "gridcolor": "rgb(232,232,232)",
            "linecolor": "rgb(36,36,36)",
            "showgrid": false,
            "showline": true,
            "ticks": "outside"
           },
           "bgcolor": "white",
           "caxis": {
            "gridcolor": "rgb(232,232,232)",
            "linecolor": "rgb(36,36,36)",
            "showgrid": false,
            "showline": true,
            "ticks": "outside"
           }
          },
          "title": {
           "x": 0.05
          },
          "xaxis": {
           "automargin": true,
           "gridcolor": "rgb(232,232,232)",
           "linecolor": "rgb(36,36,36)",
           "showgrid": false,
           "showline": true,
           "ticks": "outside",
           "title": {
            "standoff": 15
           },
           "zeroline": false,
           "zerolinecolor": "rgb(36,36,36)"
          },
          "yaxis": {
           "automargin": true,
           "gridcolor": "rgb(232,232,232)",
           "linecolor": "rgb(36,36,36)",
           "showgrid": false,
           "showline": true,
           "ticks": "outside",
           "title": {
            "standoff": 15
           },
           "zeroline": false,
           "zerolinecolor": "rgb(36,36,36)"
          }
         }
        },
        "xaxis": {
         "title": {
          "text": "Normalized Voltage Prediction"
         }
        },
        "yaxis": {
         "title": {
          "text": "Normalized Voltage Target"
         }
        }
       }
      }
     },
     "metadata": {},
     "output_type": "display_data"
    }
   ],
   "source": [
    "skip = 20\n",
    "\n",
    "fig = go.Figure()\n",
    "fig.add_trace(go.Scatter(x=[0, 1], y=[0, 1], showlegend=False, mode=\"markers+lines\"))\n",
    "for i in range(0, len(datasets[\"X_test\"]), batch_size * skip):\n",
    "    df_pred = pd.DataFrame(model.predict(datasets[\"X_test\"][i : i + batch_size], verbose=0)[:, :, 0])\n",
    "    df_train = pd.DataFrame(datasets[\"y_test\"][i : i + batch_size][:, :, 0])\n",
    "    fig.add_trace(\n",
    "        go.Scatter(\n",
    "            x=df_pred[0].values,\n",
    "            y=df_train[0].values,\n",
    "            showlegend=False,\n",
    "            mode=\"markers+lines\",\n",
    "        )\n",
    "    )\n",
    "\n",
    "fig.update_yaxes(title=\"Normalized Voltage Target\")\n",
    "fig.update_xaxes(title=\"Normalized Voltage Prediction\")\n",
    "fig.update_layout(template=\"simple_white\")"
   ]
  },
  {
   "cell_type": "code",
   "execution_count": 20,
   "id": "38f2bba0",
   "metadata": {},
   "outputs": [
    {
     "data": {
      "application/vnd.plotly.v1+json": {
       "config": {
        "plotlyServerURL": "https://plot.ly"
       },
       "data": [
        {
         "mode": "markers+lines",
         "showlegend": false,
         "type": "scatter",
         "x": [
          0,
          1
         ],
         "y": [
          0,
          1
         ]
        },
        {
         "mode": "markers+lines",
         "showlegend": false,
         "type": "scatter",
         "x": [
          0.4243483245372772,
          0.4729093015193939,
          0.5079494714736938,
          0.5388563275337219,
          0.5667117834091187,
          0.5858021974563599,
          0.6476418972015381,
          0.6623965501785278,
          0.6761137247085571,
          0.6959575414657593,
          0.7072948217391968,
          0.6937800645828247,
          0.6888165473937988,
          0.6840920448303223
         ],
         "y": [
          0.45929528571428563,
          0.5006473355433871,
          0.5354358908523476,
          0.5680199782004194,
          0.585167277946354,
          0.6045812857142856,
          0.6356126210587665,
          0.6533147567839942,
          0.6713336980249613,
          0.6938555714285712,
          0.7074188665226547,
          0.7093004285714285,
          0.7113031428571429,
          0.7173105
         ]
        },
        {
         "mode": "markers+lines",
         "showlegend": false,
         "type": "scatter",
         "x": [
          0.4151344299316406,
          0.46139466762542725,
          0.4967482089996338,
          0.5255864858627319,
          0.5487416386604309,
          0.5679811835289001,
          0.6267534494400024,
          0.6386244297027588,
          0.6557333469390869,
          0.6735169291496277,
          0.6931484341621399,
          0.6838018894195557,
          0.6831122636795044,
          0.6804522275924683
         ],
         "y": [
          0.42794469908745136,
          0.47304965480470856,
          0.5035487857142859,
          0.533155539342064,
          0.5467671857131371,
          0.5623131293905729,
          0.6018207857142858,
          0.6189805616800392,
          0.6412051962492052,
          0.6689505000000001,
          0.6861958915841796,
          0.6871842142857142,
          0.6958585714285712,
          0.6975161306191713
         ]
        },
        {
         "mode": "markers+lines",
         "showlegend": false,
         "type": "scatter",
         "x": [
          0.4410454034805298,
          0.48087364435195923,
          0.5065356492996216,
          0.5273380279541016,
          0.5427271723747253,
          0.559828519821167,
          0.6222497820854187,
          0.6356090903282166,
          0.6533357501029968,
          0.6699417233467102,
          0.691173791885376,
          0.680090606212616,
          0.6783982515335083,
          0.6725690364837646
         ],
         "y": [
          0.43884085714285703,
          0.4728759489875888,
          0.49892842408233673,
          0.5195164285714287,
          0.5350789564600806,
          0.5577175454942348,
          0.60057099641271,
          0.6165744495475415,
          0.6364813415291393,
          0.6700684999999998,
          0.6803632142857141,
          0.6824523403231694,
          0.684643357142857,
          0.6954057142857144
         ]
        },
        {
         "mode": "markers+lines",
         "showlegend": false,
         "type": "scatter",
         "x": [
          0.4191686511039734,
          0.4639626443386078,
          0.4934772551059723,
          0.515099823474884,
          0.533363401889801,
          0.5517642498016357,
          0.6057313084602356,
          0.6189768314361572,
          0.6414462924003601,
          0.6593138575553894,
          0.6772769093513489,
          0.6668526530265808,
          0.6644002199172974,
          0.6608703136444092
         ],
         "y": [
          0.419555820093992,
          0.4585727857142857,
          0.4836958991154428,
          0.5102658958384526,
          0.5239742530914308,
          0.5396696386150553,
          0.5903339302249604,
          0.6068924553271271,
          0.6267757478284585,
          0.6555845925045553,
          0.6670304649401892,
          0.669258357142857,
          0.6749457504144493,
          0.6800002857142857
         ]
        },
        {
         "mode": "markers+lines",
         "showlegend": false,
         "type": "scatter",
         "x": [
          0.42150986194610596,
          0.4665663242340088,
          0.49498069286346436,
          0.5203198194503784,
          0.5383508801460266,
          0.5549331903457642,
          0.612755537033081,
          0.6284933090209961,
          0.6510855555534363,
          0.6702967286109924,
          0.6899852752685547,
          0.6808775663375854,
          0.684136152267456,
          0.6808266639709473
         ],
         "y": [
          0.42131857142857143,
          0.4586327142857142,
          0.4920304285714285,
          0.5133324999999999,
          0.5270127646271974,
          0.5463366894919743,
          0.5978762346675692,
          0.6158717744074858,
          0.6362362210864647,
          0.665321357142857,
          0.6809929285714286,
          0.6869234061006059,
          0.6897947857142859,
          0.6951680714285716
         ]
        },
        {
         "mode": "markers+lines",
         "showlegend": false,
         "type": "scatter",
         "x": [
          0.42145150899887085,
          0.46887287497520447,
          0.4971347451210022,
          0.5198563933372498,
          0.539023756980896,
          0.5574434399604797,
          0.6178203225135803,
          0.6318228244781494,
          0.6512771844863892,
          0.6706153154373169,
          0.6898037195205688,
          0.6829279661178589,
          0.6855815649032593,
          0.6821069717407227
         ],
         "y": [
          0.4235550600497033,
          0.45904078571428564,
          0.49101464285714286,
          0.5155006391036085,
          0.5306982142857143,
          0.5522708802962298,
          0.5978805000000003,
          0.6141260361240749,
          0.6377911344588152,
          0.6638280107443548,
          0.6839755,
          0.6862100714285714,
          0.6915177142857141,
          0.6986639999999998
         ]
        },
        {
         "mode": "markers+lines",
         "showlegend": false,
         "type": "scatter",
         "x": [
          0.43392667174339294,
          0.48142194747924805,
          0.5093187093734741,
          0.5281859636306763,
          0.5407881736755371,
          0.5552055239677429,
          0.6103739738464355,
          0.6210496425628662,
          0.643476128578186,
          0.6615675687789917,
          0.6842543482780457,
          0.6768534183502197,
          0.6776317358016968,
          0.6741193532943726
         ],
         "y": [
          0.4359136059390033,
          0.47143864736333163,
          0.4972383822445013,
          0.5142214573959538,
          0.5286086701952694,
          0.5430463137483201,
          0.5891724146576345,
          0.608832205139006,
          0.6277511147273226,
          0.6618836354497364,
          0.6755897142857142,
          0.6752088058093593,
          0.6829828571428571,
          0.6858983571428569
         ]
        },
        {
         "mode": "markers+lines",
         "showlegend": false,
         "type": "scatter",
         "x": [
          0.41840067505836487,
          0.4669990837574005,
          0.49763715267181396,
          0.5181227922439575,
          0.534532904624939,
          0.5525640249252319,
          0.6113719940185547,
          0.6274425983428955,
          0.6523342132568359,
          0.6730486154556274,
          0.6906702518463135,
          0.6817094087600708,
          0.6856794357299805,
          0.681842565536499
         ],
         "y": [
          0.42306517532623855,
          0.46027892857142866,
          0.48741547115396827,
          0.5093777857142856,
          0.5270650203720009,
          0.5451586431473848,
          0.5960004285714285,
          0.6181523700699255,
          0.6378653571428572,
          0.6620888516878766,
          0.6797657142857142,
          0.6844203682352034,
          0.6864280714285717,
          0.6923912857142857
         ]
        },
        {
         "mode": "markers+lines",
         "showlegend": false,
         "type": "scatter",
         "x": [
          0.4135737419128418,
          0.45840519666671753,
          0.48663002252578735,
          0.5084046125411987,
          0.5256085395812988,
          0.5482974648475647,
          0.606421947479248,
          0.6170375943183899,
          0.6409715414047241,
          0.6620104312896729,
          0.6835035085678101,
          0.6764265298843384,
          0.6789901852607727,
          0.6755115985870361
         ],
         "y": [
          0.4121318716921498,
          0.4487373672603901,
          0.4782193840176937,
          0.49959971428571415,
          0.5263876113455346,
          0.5387855374575252,
          0.5859369285714285,
          0.6072163341114116,
          0.6296170168523137,
          0.6583459285714284,
          0.6743605714285715,
          0.6768104285714287,
          0.681444367891991,
          0.6843742428682764
         ]
        },
        {
         "mode": "markers+lines",
         "showlegend": false,
         "type": "scatter",
         "x": [
          0.4487868845462799,
          0.4953380823135376,
          0.5272833108901978,
          0.5495567321777344,
          0.5659257173538208,
          0.5856674313545227,
          0.6435338258743286,
          0.6638370752334595,
          0.6803759336471558,
          0.70461106300354,
          0.7287256717681885,
          0.7276129722595215,
          0.7231112718582153,
          0.7226936221122742
         ],
         "y": [
          0.45206735714285706,
          0.4916409654451542,
          0.5217175,
          0.5421051511285192,
          0.5650107568649462,
          0.5789887857142857,
          0.6298904398123971,
          0.6463825461491415,
          0.6683779966217896,
          0.6954533571428573,
          0.7104537083702008,
          0.7162881428571427,
          0.7174677992201648,
          0.7176579285714284
         ]
        },
        {
         "mode": "markers+lines",
         "showlegend": false,
         "type": "scatter",
         "x": [
          0.41760241985321045,
          0.46515998244285583,
          0.4956207275390625,
          0.5163379311561584,
          0.5323981642723083,
          0.5509753227233887,
          0.6101858615875244,
          0.6259230375289917,
          0.6494506597518921,
          0.6687958240509033,
          0.687100887298584,
          0.6802387237548828,
          0.6836131811141968,
          0.6789777278900146
         ],
         "y": [
          0.42100671428571423,
          0.4586289436792722,
          0.4877457560679634,
          0.5071545531902203,
          0.528417021591383,
          0.5451142523994604,
          0.5949442857142857,
          0.6125212857142854,
          0.6339865584632997,
          0.6590690714285715,
          0.6777477142857141,
          0.6779472142857144,
          0.6805729798869469,
          0.6868166428571431
         ]
        },
        {
         "mode": "markers+lines",
         "showlegend": false,
         "type": "scatter",
         "x": [
          0.41923609375953674,
          0.4609328806400299,
          0.4916485548019409,
          0.5158064365386963,
          0.5341235399246216,
          0.5533286929130554,
          0.6138907074928284,
          0.6330102682113647,
          0.6576582193374634,
          0.6785742044448853,
          0.6979138851165771,
          0.6914765238761902,
          0.694649338722229,
          0.6932193040847778
         ],
         "y": [
          0.4140511626635683,
          0.45724107142857157,
          0.48767355378333016,
          0.5090980337932713,
          0.529130357142857,
          0.5481972871555056,
          0.6021807857142859,
          0.6206689831108733,
          0.6424217142857144,
          0.6674305901825308,
          0.6833809285714284,
          0.6860822857142855,
          0.6928348571428573,
          0.6920597073011299
         ]
        },
        {
         "mode": "markers+lines",
         "showlegend": false,
         "type": "scatter",
         "x": [
          0.41156166791915894,
          0.45666372776031494,
          0.4843568801879883,
          0.5088898539543152,
          0.5301105976104736,
          0.5506914258003235,
          0.6105117797851562,
          0.6262897253036499,
          0.6496284604072571,
          0.6687772274017334,
          0.6877161264419556,
          0.6819291710853577,
          0.6878359317779541,
          0.6863920092582703
         ],
         "y": [
          0.40702942857142865,
          0.44667175459055286,
          0.48081957142857135,
          0.5055006173522862,
          0.5243984671990521,
          0.545027965658537,
          0.5943868801916116,
          0.6124346428571427,
          0.6335678020849699,
          0.6596990058411072,
          0.6787195418436276,
          0.6816209999999998,
          0.6858033846510995,
          0.6886354285714285
         ]
        },
        {
         "mode": "markers+lines",
         "showlegend": false,
         "type": "scatter",
         "x": [
          0.45680227875709534,
          0.503760576248169,
          0.5336922407150269,
          0.5548325777053833,
          0.5717012882232666,
          0.5902708768844604,
          0.6479780673980713,
          0.6697467565536499,
          0.684972882270813,
          0.7073596119880676,
          0.7308320999145508,
          0.7328470349311829,
          0.7270192503929138,
          0.7287383675575256
         ],
         "y": [
          0.4582499285714286,
          0.49702294556950877,
          0.5273657647231266,
          0.5482503595591153,
          0.5656319970624326,
          0.5859542601170692,
          0.6365723545981871,
          0.6488588810011731,
          0.6698888423014984,
          0.6978429999999999,
          0.7141489285714288,
          0.7145630714285716,
          0.7215924999999999,
          0.7224985344803297
         ]
        },
        {
         "mode": "markers+lines",
         "showlegend": false,
         "type": "scatter",
         "x": [
          0.40685534477233887,
          0.4506978392601013,
          0.4814978837966919,
          0.5025460720062256,
          0.521191418170929,
          0.5434435606002808,
          0.6027476191520691,
          0.6197808980941772,
          0.6466406583786011,
          0.6661258935928345,
          0.6855230927467346,
          0.6804004907608032,
          0.6888203024864197,
          0.6869664192199707
         ],
         "y": [
          0.4027580714285714,
          0.44402949999999997,
          0.471930931618855,
          0.49582507142857146,
          0.5192298001911284,
          0.5390282028859524,
          0.5906016087839162,
          0.6101260610058343,
          0.6302085228979368,
          0.6586666428571429,
          0.6757369129014912,
          0.6836280714285715,
          0.6833316428571428,
          0.6905623571428572
         ]
        },
        {
         "mode": "markers+lines",
         "showlegend": false,
         "type": "scatter",
         "x": [
          0.4134346842765808,
          0.4580216705799103,
          0.4867285490036011,
          0.5097071528434753,
          0.5284849405288696,
          0.5509936213493347,
          0.6127209067344666,
          0.6299454569816589,
          0.6531012058258057,
          0.6716854572296143,
          0.6935411691665649,
          0.6905651688575745,
          0.6962041854858398,
          0.6957578659057617
         ],
         "y": [
          0.41016785714285703,
          0.4498078416053444,
          0.4795485578277285,
          0.5016701682527619,
          0.5259444903556092,
          0.5461626214786458,
          0.597871078565981,
          0.6143603430898166,
          0.6346015714285714,
          0.6660743643736594,
          0.6824278053109979,
          0.6841430714285716,
          0.6911947857142857,
          0.6930502172048496
         ]
        },
        {
         "mode": "markers+lines",
         "showlegend": false,
         "type": "scatter",
         "x": [
          0.4234105944633484,
          0.47151821851730347,
          0.5020375847816467,
          0.5238765478134155,
          0.5420246720314026,
          0.5608819723129272,
          0.6228625774383545,
          0.6382163763046265,
          0.6597891449928284,
          0.6786905527114868,
          0.6972962617874146,
          0.6945823431015015,
          0.6996737718582153,
          0.6984739303588867
         ],
         "y": [
          0.4249452621668673,
          0.46334295763445443,
          0.4935603571428572,
          0.5152385826628479,
          0.5326793884030379,
          0.555931357142857,
          0.6005159408605022,
          0.6196567027734886,
          0.6409309040965725,
          0.667907714285714,
          0.6872975714285714,
          0.6875925446708409,
          0.6931156946679354,
          0.6971811428571429
         ]
        },
        {
         "mode": "markers+lines",
         "showlegend": false,
         "type": "scatter",
         "x": [
          0.6909433603286743,
          0.726528525352478,
          0.7465927600860596,
          0.7603477239608765,
          0.7741053104400635,
          0.803575336933136,
          0.84071284532547,
          0.8511778116226196,
          0.8697824478149414,
          0.894212007522583,
          0.9100140333175659,
          0.9108508825302124,
          0.9125415086746216,
          0.9018455743789673
         ],
         "y": [
          0.6575747746825361,
          0.68878250429953,
          0.7204777857142857,
          0.7378541469641399,
          0.7576939481932403,
          0.7725245428777047,
          0.8216864314485102,
          0.8391440940097957,
          0.8584394869795683,
          0.8813389285714288,
          0.8959353571428572,
          0.8977652853939004,
          0.9010451428571429,
          0.9075409999999999
         ]
        },
        {
         "mode": "markers+lines",
         "showlegend": false,
         "type": "scatter",
         "x": [
          0.49468284845352173,
          0.5393502116203308,
          0.5711319446563721,
          0.5859036445617676,
          0.6016980409622192,
          0.621685266494751,
          0.6798779368400574,
          0.7042151689529419,
          0.7236249446868896,
          0.7476557493209839,
          0.7681323885917664,
          0.7709649801254272,
          0.7730704545974731,
          0.7723348140716553
         ],
         "y": [
          0.5058409854946692,
          0.5476879347761626,
          0.5700474960186698,
          0.593359063404657,
          0.6129313696995838,
          0.6336197189852278,
          0.6878077280885719,
          0.7039856798529708,
          0.7253671292615865,
          0.7525089626222766,
          0.7657177316267503,
          0.770545094278824,
          0.7783740377410249,
          0.7777290252680146
         ]
        },
        {
         "mode": "markers+lines",
         "showlegend": false,
         "type": "scatter",
         "x": [
          0.5235267877578735,
          0.5713715553283691,
          0.6011109352111816,
          0.620457649230957,
          0.6401090621948242,
          0.6589130163192749,
          0.7229354381561279,
          0.7350430488586426,
          0.7554216384887695,
          0.7801176309585571,
          0.8009153604507446,
          0.8060963153839111,
          0.8088974952697754,
          0.8055852651596069
         ],
         "y": [
          0.5397505972829008,
          0.5732641668156064,
          0.5979895591988612,
          0.6230403571428573,
          0.6442361428571429,
          0.6642775843194245,
          0.7127538896955068,
          0.7320390714285716,
          0.748981714285714,
          0.7742977142857141,
          0.7935139279028252,
          0.7917115173343614,
          0.7980525249383741,
          0.8022256428571427
         ]
        },
        {
         "mode": "markers+lines",
         "showlegend": false,
         "type": "scatter",
         "x": [
          0.5089285969734192,
          0.5592919588088989,
          0.5876296758651733,
          0.6054521799087524,
          0.622085690498352,
          0.6400376558303833,
          0.6986689567565918,
          0.7155768871307373,
          0.7326992750167847,
          0.753911018371582,
          0.7729394435882568,
          0.7770736217498779,
          0.7808228731155396,
          0.781160295009613
         ],
         "y": [
          0.5224325685101093,
          0.5560318212752138,
          0.5842311423196002,
          0.6038290000000001,
          0.6230850656909758,
          0.6434571930441269,
          0.6952228571428571,
          0.7076761802703898,
          0.7272589137804722,
          0.7537980714285715,
          0.7742963623746785,
          0.7746585,
          0.7760881428571429,
          0.7800581127415219
         ]
        },
        {
         "mode": "markers+lines",
         "showlegend": false,
         "type": "scatter",
         "x": [
          0.6291263699531555,
          0.6699973344802856,
          0.6952980756759644,
          0.7112605571746826,
          0.7282286882400513,
          0.7529547214508057,
          0.8050612211227417,
          0.8165814280509949,
          0.8352701663970947,
          0.8597238659858704,
          0.8765504360198975,
          0.8767465353012085,
          0.8760761022567749,
          0.8741841316223145
         ],
         "y": [
          0.6204346428571428,
          0.6594352857142854,
          0.6824032857142858,
          0.7053407047345963,
          0.7240514350001485,
          0.7412003333379125,
          0.7882545714285715,
          0.8072624615451908,
          0.8272830714285716,
          0.848693329613426,
          0.8635847857142858,
          0.8691661988590451,
          0.8729877142857144,
          0.8736485861249468
         ]
        },
        {
         "mode": "markers+lines",
         "showlegend": false,
         "type": "scatter",
         "x": [
          0.5167574882507324,
          0.56468266248703,
          0.5909016132354736,
          0.6096751689910889,
          0.6291942596435547,
          0.648723840713501,
          0.7074247598648071,
          0.7245123386383057,
          0.7421026229858398,
          0.7624502182006836,
          0.779940128326416,
          0.7791962623596191,
          0.7799136638641357,
          0.7836141586303711
         ],
         "y": [
          0.5288185714285714,
          0.5657760232334053,
          0.5955329213302171,
          0.6166788939025024,
          0.6360340484388081,
          0.6573948181326377,
          0.7060018163095767,
          0.7218439166024239,
          0.739203726384606,
          0.765891661143332,
          0.7775406485382849,
          0.7797208571428571,
          0.78939566526419,
          0.790958398900894
         ]
        },
        {
         "mode": "markers+lines",
         "showlegend": false,
         "type": "scatter",
         "x": [
          0.500519335269928,
          0.5500614643096924,
          0.5815352201461792,
          0.6009703874588013,
          0.6192113161087036,
          0.6386541724205017,
          0.6990309357643127,
          0.7155497074127197,
          0.7331759333610535,
          0.7552648782730103,
          0.7752373814582825,
          0.7766305208206177,
          0.7824159860610962,
          0.7872303128242493
         ],
         "y": [
          0.517307607311125,
          0.5580245937917148,
          0.5810110714285714,
          0.6022184690664191,
          0.6250699999999999,
          0.6471108278714449,
          0.6935827857142856,
          0.7093074999999998,
          0.728727087161741,
          0.7535419285714288,
          0.76854,
          0.7758486428571426,
          0.7791777359446368,
          0.7829657857142855
         ]
        },
        {
         "mode": "markers+lines",
         "showlegend": false,
         "type": "scatter",
         "x": [
          0.522968053817749,
          0.5672178268432617,
          0.5950289964675903,
          0.6132420301437378,
          0.6314628720283508,
          0.648825466632843,
          0.705979585647583,
          0.7231405973434448,
          0.7423416376113892,
          0.7632749080657959,
          0.7803754806518555,
          0.7805874347686768,
          0.7840842008590698,
          0.7877036333084106
         ],
         "y": [
          0.5263191388348305,
          0.5672426428571428,
          0.589097834149923,
          0.6135583892688239,
          0.6292511416400492,
          0.6511068690139922,
          0.7034141136894598,
          0.7183199841122855,
          0.7355935000000002,
          0.7615506365077338,
          0.7776437142857142,
          0.7800051806332796,
          0.7824788571428571,
          0.7903144935212677
         ]
        },
        {
         "mode": "markers+lines",
         "showlegend": false,
         "type": "scatter",
         "x": [
          0.4755067229270935,
          0.5242152214050293,
          0.5502032041549683,
          0.5700849890708923,
          0.5931053757667542,
          0.6140105724334717,
          0.6713649034500122,
          0.6904208660125732,
          0.7068173885345459,
          0.729893684387207,
          0.7503887414932251,
          0.7522422671318054,
          0.7583280801773071,
          0.7692273855209351
         ],
         "y": [
          0.4844849996271117,
          0.521494497683572,
          0.5495990339739755,
          0.5788086958916838,
          0.595116831045181,
          0.6158240049197533,
          0.6659810000000002,
          0.6784308571428573,
          0.7029650714285712,
          0.727057526986474,
          0.7452885714285716,
          0.7517536428571431,
          0.7530452142857145,
          0.757358575191204
         ]
        },
        {
         "mode": "markers+lines",
         "showlegend": false,
         "type": "scatter",
         "x": [
          0.42012733221054077,
          0.46687203645706177,
          0.49403274059295654,
          0.5181814432144165,
          0.5365502238273621,
          0.5556908845901489,
          0.6128174066543579,
          0.6321825981140137,
          0.6597565412521362,
          0.6786082983016968,
          0.6937003135681152,
          0.6849470138549805,
          0.6928236484527588,
          0.7019607424736023
         ],
         "y": [
          0.4231768494152847,
          0.46129338029564326,
          0.4943418571428571,
          0.5104607142857144,
          0.5319381063720626,
          0.544312642857143,
          0.6049589788162749,
          0.6234471889091674,
          0.6426611350532972,
          0.6661659999999999,
          0.6817396218767561,
          0.6874566428571427,
          0.6904623571428574,
          0.6991097857142857
         ]
        },
        {
         "mode": "markers+lines",
         "showlegend": false,
         "type": "scatter",
         "x": [
          0.4144548177719116,
          0.4620809257030487,
          0.49124953150749207,
          0.514113187789917,
          0.5339983105659485,
          0.5532358884811401,
          0.616956353187561,
          0.6327539682388306,
          0.65860915184021,
          0.6804246306419373,
          0.6960031986236572,
          0.6877326965332031,
          0.6933304667472839,
          0.7035372257232666
         ],
         "y": [
          0.41636451744265984,
          0.4543656176655343,
          0.48427834159993294,
          0.5043746428571428,
          0.5256455338561712,
          0.5475535195042323,
          0.5987244064510849,
          0.6209723621997463,
          0.6432012857142857,
          0.6645158751941284,
          0.6814452857142855,
          0.685008143956295,
          0.6894231428571429,
          0.6959095000000001
         ]
        },
        {
         "mode": "markers+lines",
         "showlegend": false,
         "type": "scatter",
         "x": [
          0.4126320481300354,
          0.45727258920669556,
          0.48392337560653687,
          0.5083876252174377,
          0.5306464433670044,
          0.5508891940116882,
          0.6161381602287292,
          0.6352291107177734,
          0.6553218364715576,
          0.673164963722229,
          0.6904460191726685,
          0.6867790222167969,
          0.692486047744751,
          0.7018846869468689
         ],
         "y": [
          0.4061855714285714,
          0.44196166859006797,
          0.47600335714285713,
          0.4997007857142857,
          0.5187771367699666,
          0.5481507142857142,
          0.5981377142857143,
          0.6100395714285715,
          0.63610480911157,
          0.6607828048528018,
          0.6808418267546251,
          0.6829046428571429,
          0.6861391734597301,
          0.6938572142857146
         ]
        },
        {
         "mode": "markers+lines",
         "showlegend": false,
         "type": "scatter",
         "x": [
          0.4679531455039978,
          0.5128588676452637,
          0.5384195446968079,
          0.5611910820007324,
          0.5777777433395386,
          0.5995184183120728,
          0.658811092376709,
          0.6774079203605652,
          0.6934532523155212,
          0.7165371179580688,
          0.7362141609191895,
          0.7377364039421082,
          0.7328437566757202,
          0.7435345649719238
         ],
         "y": [
          0.46317990019829036,
          0.49797978380431723,
          0.5317901474080217,
          0.5468866284577582,
          0.5737767857142855,
          0.5925277018166399,
          0.6405754285714284,
          0.6547409342901306,
          0.6782977020516514,
          0.7005228571428569,
          0.7147190743377675,
          0.7166094285714288,
          0.7226153571428574,
          0.7274019999999999
         ]
        },
        {
         "mode": "markers+lines",
         "showlegend": false,
         "type": "scatter",
         "x": [
          0.4131075441837311,
          0.46101248264312744,
          0.49055612087249756,
          0.5124540328979492,
          0.5323623418807983,
          0.5533564686775208,
          0.6145336627960205,
          0.6308973431587219,
          0.6550586819648743,
          0.6729813814163208,
          0.6884591579437256,
          0.685065746307373,
          0.6928212642669678,
          0.6970674991607666
         ],
         "y": [
          0.41025185152337773,
          0.44893567972129117,
          0.4784672857142857,
          0.5007284925178883,
          0.5237947127494162,
          0.5421131428571427,
          0.5962687857142858,
          0.6100404674619312,
          0.6329620714285714,
          0.6578689843090274,
          0.6754992142857142,
          0.6808142142857143,
          0.6820881779793739,
          0.691574642857143
         ]
        },
        {
         "mode": "markers+lines",
         "showlegend": false,
         "type": "scatter",
         "x": [
          0.4277557134628296,
          0.47671616077423096,
          0.5059337615966797,
          0.5271551609039307,
          0.5468348264694214,
          0.5679352283477783,
          0.6297599673271179,
          0.6452226638793945,
          0.6674048900604248,
          0.6854085922241211,
          0.7008581757545471,
          0.6983353495597839,
          0.706560492515564,
          0.7133617401123047
         ],
         "y": [
          0.4297625038945405,
          0.4662910748637352,
          0.4926055313215478,
          0.5171246711788484,
          0.5367369383835178,
          0.5547643086957328,
          0.6045086816880825,
          0.6213946728967034,
          0.6416337142857144,
          0.6666703571428572,
          0.6837995000000002,
          0.6869223571428569,
          0.6965689285714285,
          0.7017323571428571
         ]
        },
        {
         "mode": "markers+lines",
         "showlegend": false,
         "type": "scatter",
         "x": [
          0.43746352195739746,
          0.48240047693252563,
          0.5110480189323425,
          0.5317519903182983,
          0.5523830056190491,
          0.5729585289955139,
          0.6330385804176331,
          0.6529097557067871,
          0.6721531748771667,
          0.6920037269592285,
          0.7074275016784668,
          0.7078928351402283,
          0.7151476144790649,
          0.7211346626281738
         ],
         "y": [
          0.43314185714285713,
          0.4703801778349408,
          0.495559327844063,
          0.5241099906788946,
          0.5392863506444839,
          0.5590579285714286,
          0.6110172142857141,
          0.6267438369150835,
          0.6461403390102651,
          0.6746423203036879,
          0.6921852715426404,
          0.6954356936007436,
          0.7023154329702377,
          0.706218102039333
         ]
        },
        {
         "mode": "markers+lines",
         "showlegend": false,
         "type": "scatter",
         "x": [
          0.42767977714538574,
          0.4715261459350586,
          0.5044862627983093,
          0.5269434452056885,
          0.541170060634613,
          0.5627070665359497,
          0.6303714513778687,
          0.648442268371582,
          0.6686718463897705,
          0.687332272529602,
          0.7050613164901733,
          0.7058664560317993,
          0.7135900259017944,
          0.7153278589248657
         ],
         "y": [
          0.4212694946838389,
          0.4668655714285713,
          0.4893424880296131,
          0.5072422251430782,
          0.5316583871819616,
          0.5577604259698604,
          0.6049599936549966,
          0.6216549307705262,
          0.6433195704013686,
          0.6738025982287785,
          0.6897852507018933,
          0.6924905133834934,
          0.6942688932549163,
          0.6988423113920769
         ]
        },
        {
         "mode": "markers+lines",
         "showlegend": false,
         "type": "scatter",
         "x": [
          0.4344460368156433,
          0.4782401919364929,
          0.5039059519767761,
          0.5267817974090576,
          0.5473063588142395,
          0.5684677958488464,
          0.6311600208282471,
          0.6490887403488159,
          0.6705440282821655,
          0.6907261610031128,
          0.7027099132537842,
          0.702245831489563,
          0.7125816345214844,
          0.7137590646743774
         ],
         "y": [
          0.4288042857142858,
          0.46122322547556327,
          0.4920911066581816,
          0.514593875079852,
          0.5359233862982815,
          0.5548884970927022,
          0.6062440628587459,
          0.6249751953692775,
          0.6451030877422244,
          0.6668529285714284,
          0.688284945107248,
          0.6912002768522897,
          0.6904672857142857,
          0.6971617141312753
         ]
        },
        {
         "mode": "markers+lines",
         "showlegend": false,
         "type": "scatter",
         "x": [
          0.5018447637557983,
          0.5450272560119629,
          0.5738577842712402,
          0.5945514440536499,
          0.6123584508895874,
          0.6355129480361938,
          0.6943588256835938,
          0.7100719213485718,
          0.7286103963851929,
          0.7518055438995361,
          0.7681342363357544,
          0.7713097929954529,
          0.778850793838501,
          0.783085823059082
         ],
         "y": [
          0.49765142021583864,
          0.5344909841519503,
          0.5610922966146471,
          0.5843345673671941,
          0.6071432580048318,
          0.6273225488627586,
          0.6787232922726729,
          0.6946171428571429,
          0.715316976442206,
          0.7382343571428572,
          0.754725857142857,
          0.7603751428571428,
          0.7656712857142856,
          0.7674071073601224
         ]
        },
        {
         "mode": "markers+lines",
         "showlegend": false,
         "type": "scatter",
         "x": [
          0.4556124210357666,
          0.5002835392951965,
          0.5281490087509155,
          0.5511835813522339,
          0.5703849196434021,
          0.5910789966583252,
          0.6497505903244019,
          0.6715945601463318,
          0.6913506388664246,
          0.7158225774765015,
          0.733972430229187,
          0.7378799319267273,
          0.7434573173522949,
          0.7505120038986206
         ],
         "y": [
          0.4523394361727859,
          0.4900683524422057,
          0.5202679285714285,
          0.5428830714285715,
          0.565060872870688,
          0.5807906428571427,
          0.6355995291895091,
          0.6551943673620754,
          0.6751546437289054,
          0.6998229776141244,
          0.7158309314702084,
          0.7231194285714285,
          0.7277614285714284,
          0.7296248571428572
         ]
        },
        {
         "mode": "markers+lines",
         "showlegend": false,
         "type": "scatter",
         "x": [
          0.5763029456138611,
          0.618493914604187,
          0.645773708820343,
          0.665968656539917,
          0.6843664646148682,
          0.7050946950912476,
          0.7624831199645996,
          0.7738730907440186,
          0.7911711931228638,
          0.8145484924316406,
          0.8300660252571106,
          0.8335510492324829,
          0.8394110202789307,
          0.8355773687362671
         ],
         "y": [
          0.5691388292261431,
          0.6073730317709293,
          0.6320413571428573,
          0.6569193293850966,
          0.6739985273794037,
          0.6930016426463897,
          0.7433043571428571,
          0.7545425135582086,
          0.7801174682941533,
          0.8023708677611063,
          0.8171495714285716,
          0.8199802901164946,
          0.8256339999999999,
          0.8283647142292263
         ]
        },
        {
         "mode": "markers+lines",
         "showlegend": false,
         "type": "scatter",
         "x": [
          0.44308462738990784,
          0.491460382938385,
          0.5212140083312988,
          0.5434377789497375,
          0.5618110299110413,
          0.5813121199607849,
          0.6433340311050415,
          0.666641354560852,
          0.6836678385734558,
          0.7065591812133789,
          0.7236590385437012,
          0.7252178192138672,
          0.7271081209182739,
          0.7349592447280884
         ],
         "y": [
          0.4474130596637914,
          0.48325971428571435,
          0.5144524994223489,
          0.5349434285714286,
          0.555891525177654,
          0.5768340666831706,
          0.6294405104602877,
          0.6429024037421847,
          0.6664062665846561,
          0.6913366184203786,
          0.7080999285714284,
          0.7125555,
          0.718848357142857,
          0.7215325714285713
         ]
        },
        {
         "mode": "markers+lines",
         "showlegend": false,
         "type": "scatter",
         "x": [
          0.4368676245212555,
          0.4807763695716858,
          0.5089636445045471,
          0.5312036275863647,
          0.5534000992774963,
          0.575633704662323,
          0.6414639353752136,
          0.6607711315155029,
          0.6778374314308167,
          0.6999127864837646,
          0.7143875956535339,
          0.7144277095794678,
          0.7191474437713623,
          0.7266440987586975
         ],
         "y": [
          0.43821465004448457,
          0.4737463525944685,
          0.49974806674752026,
          0.5271274285714286,
          0.5493885643990706,
          0.5705452044382999,
          0.6200120120017875,
          0.636166421061029,
          0.6534302899134754,
          0.6798126264021739,
          0.6938830714285713,
          0.6958368918763629,
          0.7018961428571429,
          0.7049707639914836
         ]
        },
        {
         "mode": "markers+lines",
         "showlegend": false,
         "type": "scatter",
         "x": [
          0.41866356134414673,
          0.46604228019714355,
          0.4964575469493866,
          0.521763801574707,
          0.539791464805603,
          0.5590972900390625,
          0.6253527402877808,
          0.639480471611023,
          0.6603158116340637,
          0.6799392700195312,
          0.6932805180549622,
          0.6894413828849792,
          0.6974598169326782,
          0.7047566771507263
         ],
         "y": [
          0.41533325050464925,
          0.45444173391287535,
          0.4847780034267539,
          0.5037415148410461,
          0.5251753216370489,
          0.5457950556103588,
          0.5978976574770583,
          0.6119424878203652,
          0.6388277142857142,
          0.661134714285714,
          0.6781071428571427,
          0.6818123400605467,
          0.6849637857142855,
          0.6904646036251775
         ]
        },
        {
         "mode": "markers+lines",
         "showlegend": false,
         "type": "scatter",
         "x": [
          0.4784705638885498,
          0.522269606590271,
          0.5501595139503479,
          0.5724312663078308,
          0.5899046063423157,
          0.6087374687194824,
          0.6691949367523193,
          0.6881032586097717,
          0.7061331272125244,
          0.728182315826416,
          0.7443133592605591,
          0.7463163137435913,
          0.7517188787460327,
          0.7634388208389282
         ],
         "y": [
          0.472256357142857,
          0.5105150714285713,
          0.5374055084850301,
          0.5579045125031772,
          0.5760146915841746,
          0.5993792948634676,
          0.6533745240960227,
          0.666139101663563,
          0.6878133024063667,
          0.7100554999999998,
          0.7242675667765532,
          0.7307120714285712,
          0.7333094059244211,
          0.7390823571428571
         ]
        },
        {
         "mode": "markers+lines",
         "showlegend": false,
         "type": "scatter",
         "x": [
          0.43012040853500366,
          0.4749819040298462,
          0.5037393569946289,
          0.5268445014953613,
          0.5461451411247253,
          0.5649711489677429,
          0.6329362392425537,
          0.6495972871780396,
          0.6698616743087769,
          0.6903325319290161,
          0.7040377259254456,
          0.7022544741630554,
          0.7104805707931519,
          0.7183231115341187
         ],
         "y": [
          0.42213535714285705,
          0.46038248192953035,
          0.4890121215378607,
          0.5115675,
          0.5292035381972988,
          0.556269139520663,
          0.6027306080598411,
          0.6211948686213258,
          0.6451965685660416,
          0.6716329968084426,
          0.6876178426576471,
          0.6924359285714284,
          0.6976160443455295,
          0.7017999285714284
         ]
        },
        {
         "mode": "markers+lines",
         "showlegend": false,
         "type": "scatter",
         "x": [
          0.416642963886261,
          0.4633515477180481,
          0.49314454197883606,
          0.5180379152297974,
          0.5388776659965515,
          0.5578550100326538,
          0.6211177110671997,
          0.6313759088516235,
          0.654744565486908,
          0.6735368967056274,
          0.6870843768119812,
          0.6845925450325012,
          0.6924313306808472,
          0.6991524696350098
         ],
         "y": [
          0.4135515,
          0.44896183939270334,
          0.48046614285714284,
          0.5031254285714285,
          0.5200185779469664,
          0.5401523945595157,
          0.5900741105580204,
          0.6069830717507846,
          0.6305517142857145,
          0.6538886952260864,
          0.6695665714285717,
          0.6736445000000002,
          0.6800912857142859,
          0.6817302857142857
         ]
        },
        {
         "mode": "markers+lines",
         "showlegend": false,
         "type": "scatter",
         "x": [
          0.41572338342666626,
          0.45770516991615295,
          0.4902810752391815,
          0.514572262763977,
          0.5334770083427429,
          0.5557877421379089,
          0.6205848455429077,
          0.633691668510437,
          0.6588096618652344,
          0.6770186424255371,
          0.690567135810852,
          0.6889638900756836,
          0.6978822946548462,
          0.7038610577583313
         ],
         "y": [
          0.4030794285714285,
          0.446139521718305,
          0.4714630802068594,
          0.4949741247427469,
          0.5162370000000001,
          0.5371207733245342,
          0.5917727361660616,
          0.6093921050200515,
          0.6310388664379948,
          0.6572663571428572,
          0.6732262142857144,
          0.6758461480036844,
          0.6821627142857142,
          0.6841002857142858
         ]
        },
        {
         "mode": "markers+lines",
         "showlegend": false,
         "type": "scatter",
         "x": [
          0.4561816155910492,
          0.49869081377983093,
          0.5262067317962646,
          0.5483313798904419,
          0.5675113201141357,
          0.5897054672241211,
          0.6490211486816406,
          0.6683413982391357,
          0.6852842569351196,
          0.7076871395111084,
          0.7230411767959595,
          0.7214789986610413,
          0.7263845205307007,
          0.7326809167861938
         ],
         "y": [
          0.44545533373279944,
          0.4831030341613061,
          0.5078799285714286,
          0.5336941108152354,
          0.5532054918376265,
          0.5698690714285713,
          0.6257206201506017,
          0.6377009999999999,
          0.659553,
          0.6854141007303689,
          0.6967928571428571,
          0.7039514285714285,
          0.7054535714285716,
          0.7110730246326804
         ]
        },
        {
         "mode": "markers+lines",
         "showlegend": false,
         "type": "scatter",
         "x": [
          0.31998908519744873,
          0.3774053454399109,
          0.3930218815803528,
          0.395412415266037,
          0.4364960789680481,
          0.4530557692050934,
          0.4937762916088104,
          0.5240323543548584,
          0.5457325577735901,
          0.5485661029815674,
          0.5663961172103882,
          0.5806991457939148,
          0.59502774477005,
          0.6053690314292908
         ],
         "y": [
          0.30901214285714296,
          0.3254765000000001,
          0.33177394662129983,
          0.4024482937005158,
          0.3969537855900747,
          0.40189900865740347,
          0.48639459139498814,
          0.48619735714285717,
          0.49171954225388836,
          0.5381755711392726,
          0.5701575714285715,
          0.5802908374959477,
          0.5877469149624824,
          0.6007469999999999
         ]
        },
        {
         "mode": "markers+lines",
         "showlegend": false,
         "type": "scatter",
         "x": [
          0.4079955816268921,
          0.44936245679855347,
          0.4622095823287964,
          0.49593496322631836,
          0.5271196961402893,
          0.5351009368896484,
          0.6023238897323608,
          0.6018421649932861,
          0.6193423867225647,
          0.6514504551887512,
          0.6841781139373779,
          0.68803870677948,
          0.697625994682312,
          0.7022449374198914
         ],
         "y": [
          0.3918310000000001,
          0.3944497391535309,
          0.4570277295823507,
          0.48553864285714277,
          0.4698017809568923,
          0.5231997388921877,
          0.5434068221887466,
          0.5721386428571427,
          0.6151048267856236,
          0.6592868832067055,
          0.6656791428571428,
          0.670723657599094,
          0.6773902142857143,
          0.6817060593565989
         ]
        },
        {
         "mode": "markers+lines",
         "showlegend": false,
         "type": "scatter",
         "x": [
          0.4088004529476166,
          0.4583933651447296,
          0.49795669317245483,
          0.5007998943328857,
          0.516842246055603,
          0.5471692681312561,
          0.6242592930793762,
          0.65267014503479,
          0.6737313866615295,
          0.6998021602630615,
          0.7255408763885498,
          0.7450153231620789,
          0.761162281036377,
          0.7736925482749939
         ],
         "y": [
          0.40034049999999993,
          0.44508307142857134,
          0.43417804938527377,
          0.4787804438274757,
          0.491141052748726,
          0.5524640714285715,
          0.5981964236927486,
          0.6223286428571428,
          0.6556597857142857,
          0.6987877142857144,
          0.7338898752979608,
          0.7399235000000003,
          0.7447420000000002,
          0.7498046428571428
         ]
        },
        {
         "mode": "markers+lines",
         "showlegend": false,
         "type": "scatter",
         "x": [
          0.4588363468647003,
          0.4987305998802185,
          0.5062053203582764,
          0.5507079362869263,
          0.5817241072654724,
          0.5900550484657288,
          0.6631811857223511,
          0.6758375763893127,
          0.6917569637298584,
          0.7241266965866089,
          0.7399473190307617,
          0.7359460592269897,
          0.7305278778076172,
          0.731836199760437
         ],
         "y": [
          0.44020314285714285,
          0.4451177857142858,
          0.5279573551906729,
          0.5425778815430885,
          0.5397192825747921,
          0.6079994999999998,
          0.6140541174584615,
          0.6532652857142855,
          0.690167164594452,
          0.6995883821669185,
          0.7044285714285715,
          0.7020617613078048,
          0.7069568571428572,
          0.7089664930762746
         ]
        },
        {
         "mode": "markers+lines",
         "showlegend": false,
         "type": "scatter",
         "x": [
          0.42201781272888184,
          0.4679601490497589,
          0.4998311996459961,
          0.5195466876029968,
          0.5393141508102417,
          0.5655650496482849,
          0.6278786659240723,
          0.6420718431472778,
          0.6615917682647705,
          0.6752651333808899,
          0.6884498596191406,
          0.6896185278892517,
          0.7026294469833374,
          0.7059613466262817
         ],
         "y": [
          0.41127459570062436,
          0.4484669964610875,
          0.47838764496077113,
          0.4999522142857144,
          0.5223303251000646,
          0.5443575082023898,
          0.5932644285714284,
          0.6084027060026408,
          0.6303915000000002,
          0.6550029014792303,
          0.6712962857142857,
          0.67683026534671,
          0.6790981428571428,
          0.6855441428571426
         ]
        },
        {
         "mode": "markers+lines",
         "showlegend": false,
         "type": "scatter",
         "x": [
          0.4214918315410614,
          0.46541815996170044,
          0.4965062439441681,
          0.5219658613204956,
          0.5410906076431274,
          0.5629156827926636,
          0.6306304931640625,
          0.6413586139678955,
          0.6645201444625854,
          0.6802383065223694,
          0.6916519999504089,
          0.6918612718582153,
          0.7050853967666626,
          0.7072559595108032
         ],
         "y": [
          0.4117447075937666,
          0.44787237827441206,
          0.4796595858423755,
          0.5007947857142856,
          0.521787042903792,
          0.5430757142857142,
          0.5938359121180231,
          0.6129308571428572,
          0.63016608188757,
          0.6583677142857144,
          0.6747644921074142,
          0.6802992142857143,
          0.6802783648431155,
          0.686187214285714
         ]
        },
        {
         "mode": "markers+lines",
         "showlegend": false,
         "type": "scatter",
         "x": [
          0.4376249611377716,
          0.48184698820114136,
          0.5136474370956421,
          0.5384668707847595,
          0.5569848418235779,
          0.5788161754608154,
          0.6434017419815063,
          0.6627504825592041,
          0.6847542524337769,
          0.7100290060043335,
          0.7240661978721619,
          0.727405309677124,
          0.7342245578765869,
          0.7428995370864868
         ],
         "y": [
          0.4291450295810513,
          0.4684930088585452,
          0.4954327396111144,
          0.5181005714285715,
          0.5381807857142858,
          0.5567454274190972,
          0.6185269221605323,
          0.6396372857142859,
          0.6605008948474526,
          0.6849049285714288,
          0.7045598571428572,
          0.7072606428571427,
          0.71263286163471,
          0.7168412857142857
         ]
        },
        {
         "mode": "markers+lines",
         "showlegend": false,
         "type": "scatter",
         "x": [
          0.42036688327789307,
          0.4633252024650574,
          0.4947410821914673,
          0.5231560468673706,
          0.5437842607498169,
          0.5651903748512268,
          0.6346861124038696,
          0.6463611125946045,
          0.6693958044052124,
          0.6843454837799072,
          0.6922823786735535,
          0.6910998821258545,
          0.7002972364425659,
          0.7053009271621704
         ],
         "y": [
          0.4059755,
          0.4480732180375714,
          0.48002678571428575,
          0.5034485871461506,
          0.522830857142857,
          0.5473418435086277,
          0.5965334979667781,
          0.6190128571428569,
          0.6328722046309841,
          0.6585592857142858,
          0.6755379285714288,
          0.6752763571428569,
          0.6843439334480633,
          0.689109285714286
         ]
        },
        {
         "mode": "markers+lines",
         "showlegend": false,
         "type": "scatter",
         "x": [
          0.432367742061615,
          0.47870004177093506,
          0.5088759660720825,
          0.5337221026420593,
          0.554099440574646,
          0.5768730044364929,
          0.642329216003418,
          0.6555090546607971,
          0.672626793384552,
          0.6942756175994873,
          0.7075526714324951,
          0.7099164128303528,
          0.7227058410644531,
          0.7283071279525757
         ],
         "y": [
          0.4253421428571428,
          0.4623015383381535,
          0.4913637857142858,
          0.5155488872655805,
          0.5359655164535118,
          0.5544191675577955,
          0.6008596788711992,
          0.620483548247405,
          0.645052121060904,
          0.6718137573311301,
          0.6897267142857143,
          0.6962631428571429,
          0.6956465714285714,
          0.6993467857142858
         ]
        },
        {
         "mode": "markers+lines",
         "showlegend": false,
         "type": "scatter",
         "x": [
          0.44849535822868347,
          0.4926436245441437,
          0.5250073671340942,
          0.5512928366661072,
          0.5730968713760376,
          0.5974879264831543,
          0.6634331941604614,
          0.678397536277771,
          0.6935538649559021,
          0.7158490419387817,
          0.731101393699646,
          0.7324552536010742,
          0.7378097772598267,
          0.7468174695968628
         ],
         "y": [
          0.44030887175537337,
          0.48033706553114175,
          0.5103955714285713,
          0.5379348777044004,
          0.5592117277776916,
          0.5883562857142854,
          0.6288445051366882,
          0.6460783174384275,
          0.6684916317614537,
          0.6914921656851025,
          0.7055726428571428,
          0.7113107914151617,
          0.7144309285714284,
          0.7206581428571427
         ]
        },
        {
         "mode": "markers+lines",
         "showlegend": false,
         "type": "scatter",
         "x": [
          0.44287198781967163,
          0.4836188554763794,
          0.516971230506897,
          0.5441623330116272,
          0.5688271522521973,
          0.5938167572021484,
          0.6581438779830933,
          0.6763578653335571,
          0.6939562559127808,
          0.7119021415710449,
          0.7225995063781738,
          0.7238122224807739,
          0.7288966178894043,
          0.7359216213226318
         ],
         "y": [
          0.4315018634840807,
          0.47299728571428573,
          0.503495847236439,
          0.5364835430230688,
          0.5560609884535059,
          0.5836177879386676,
          0.6306826507531497,
          0.6478908066252896,
          0.6578304197442844,
          0.6848637857142857,
          0.700175142857143,
          0.7019611760853078,
          0.7082799506017605,
          0.708890357142857
         ]
        },
        {
         "mode": "markers+lines",
         "showlegend": false,
         "type": "scatter",
         "x": [
          0.42478203773498535,
          0.467897891998291,
          0.4993000626564026,
          0.5260071754455566,
          0.5460086464881897,
          0.5683119297027588,
          0.6383204460144043,
          0.6518921852111816,
          0.6713862419128418,
          0.6915157437324524,
          0.6994019746780396,
          0.6960625648498535,
          0.7087401151657104,
          0.7154008150100708
         ],
         "y": [
          0.4124016758741398,
          0.45292333689605213,
          0.4824372857142856,
          0.5069537857142856,
          0.5282003268176497,
          0.5498550451756614,
          0.6001147271548717,
          0.618188285714286,
          0.641737409347617,
          0.6617612789093463,
          0.677904376142393,
          0.6829226428571431,
          0.6905269285714287,
          0.6917245
         ]
        },
        {
         "mode": "markers+lines",
         "showlegend": false,
         "type": "scatter",
         "x": [
          0.4613957405090332,
          0.5063527226448059,
          0.5369899868965149,
          0.5626915097236633,
          0.5843026041984558,
          0.6117188930511475,
          0.6763017177581787,
          0.691994309425354,
          0.7125402688980103,
          0.7358430624008179,
          0.7491793036460876,
          0.753158688545227,
          0.7613991498947144,
          0.7710712552070618
         ],
         "y": [
          0.455714591544592,
          0.49293529172813916,
          0.5227959285714286,
          0.5493471952920984,
          0.5773371283257224,
          0.5988695714285716,
          0.6516141705746259,
          0.6723655189868594,
          0.6912675739459495,
          0.7143631053992147,
          0.7310567034165382,
          0.7371147051527474,
          0.7377204999999998,
          0.7426469737519416
         ]
        }
       ],
       "layout": {
        "template": {
         "data": {
          "bar": [
           {
            "error_x": {
             "color": "rgb(36,36,36)"
            },
            "error_y": {
             "color": "rgb(36,36,36)"
            },
            "marker": {
             "line": {
              "color": "white",
              "width": 0.5
             },
             "pattern": {
              "fillmode": "overlay",
              "size": 10,
              "solidity": 0.2
             }
            },
            "type": "bar"
           }
          ],
          "barpolar": [
           {
            "marker": {
             "line": {
              "color": "white",
              "width": 0.5
             },
             "pattern": {
              "fillmode": "overlay",
              "size": 10,
              "solidity": 0.2
             }
            },
            "type": "barpolar"
           }
          ],
          "carpet": [
           {
            "aaxis": {
             "endlinecolor": "rgb(36,36,36)",
             "gridcolor": "white",
             "linecolor": "white",
             "minorgridcolor": "white",
             "startlinecolor": "rgb(36,36,36)"
            },
            "baxis": {
             "endlinecolor": "rgb(36,36,36)",
             "gridcolor": "white",
             "linecolor": "white",
             "minorgridcolor": "white",
             "startlinecolor": "rgb(36,36,36)"
            },
            "type": "carpet"
           }
          ],
          "choropleth": [
           {
            "colorbar": {
             "outlinewidth": 1,
             "tickcolor": "rgb(36,36,36)",
             "ticks": "outside"
            },
            "type": "choropleth"
           }
          ],
          "contour": [
           {
            "colorbar": {
             "outlinewidth": 1,
             "tickcolor": "rgb(36,36,36)",
             "ticks": "outside"
            },
            "colorscale": [
             [
              0,
              "#440154"
             ],
             [
              0.1111111111111111,
              "#482878"
             ],
             [
              0.2222222222222222,
              "#3e4989"
             ],
             [
              0.3333333333333333,
              "#31688e"
             ],
             [
              0.4444444444444444,
              "#26828e"
             ],
             [
              0.5555555555555556,
              "#1f9e89"
             ],
             [
              0.6666666666666666,
              "#35b779"
             ],
             [
              0.7777777777777778,
              "#6ece58"
             ],
             [
              0.8888888888888888,
              "#b5de2b"
             ],
             [
              1,
              "#fde725"
             ]
            ],
            "type": "contour"
           }
          ],
          "contourcarpet": [
           {
            "colorbar": {
             "outlinewidth": 1,
             "tickcolor": "rgb(36,36,36)",
             "ticks": "outside"
            },
            "type": "contourcarpet"
           }
          ],
          "heatmap": [
           {
            "colorbar": {
             "outlinewidth": 1,
             "tickcolor": "rgb(36,36,36)",
             "ticks": "outside"
            },
            "colorscale": [
             [
              0,
              "#440154"
             ],
             [
              0.1111111111111111,
              "#482878"
             ],
             [
              0.2222222222222222,
              "#3e4989"
             ],
             [
              0.3333333333333333,
              "#31688e"
             ],
             [
              0.4444444444444444,
              "#26828e"
             ],
             [
              0.5555555555555556,
              "#1f9e89"
             ],
             [
              0.6666666666666666,
              "#35b779"
             ],
             [
              0.7777777777777778,
              "#6ece58"
             ],
             [
              0.8888888888888888,
              "#b5de2b"
             ],
             [
              1,
              "#fde725"
             ]
            ],
            "type": "heatmap"
           }
          ],
          "heatmapgl": [
           {
            "colorbar": {
             "outlinewidth": 1,
             "tickcolor": "rgb(36,36,36)",
             "ticks": "outside"
            },
            "colorscale": [
             [
              0,
              "#440154"
             ],
             [
              0.1111111111111111,
              "#482878"
             ],
             [
              0.2222222222222222,
              "#3e4989"
             ],
             [
              0.3333333333333333,
              "#31688e"
             ],
             [
              0.4444444444444444,
              "#26828e"
             ],
             [
              0.5555555555555556,
              "#1f9e89"
             ],
             [
              0.6666666666666666,
              "#35b779"
             ],
             [
              0.7777777777777778,
              "#6ece58"
             ],
             [
              0.8888888888888888,
              "#b5de2b"
             ],
             [
              1,
              "#fde725"
             ]
            ],
            "type": "heatmapgl"
           }
          ],
          "histogram": [
           {
            "marker": {
             "line": {
              "color": "white",
              "width": 0.6
             }
            },
            "type": "histogram"
           }
          ],
          "histogram2d": [
           {
            "colorbar": {
             "outlinewidth": 1,
             "tickcolor": "rgb(36,36,36)",
             "ticks": "outside"
            },
            "colorscale": [
             [
              0,
              "#440154"
             ],
             [
              0.1111111111111111,
              "#482878"
             ],
             [
              0.2222222222222222,
              "#3e4989"
             ],
             [
              0.3333333333333333,
              "#31688e"
             ],
             [
              0.4444444444444444,
              "#26828e"
             ],
             [
              0.5555555555555556,
              "#1f9e89"
             ],
             [
              0.6666666666666666,
              "#35b779"
             ],
             [
              0.7777777777777778,
              "#6ece58"
             ],
             [
              0.8888888888888888,
              "#b5de2b"
             ],
             [
              1,
              "#fde725"
             ]
            ],
            "type": "histogram2d"
           }
          ],
          "histogram2dcontour": [
           {
            "colorbar": {
             "outlinewidth": 1,
             "tickcolor": "rgb(36,36,36)",
             "ticks": "outside"
            },
            "colorscale": [
             [
              0,
              "#440154"
             ],
             [
              0.1111111111111111,
              "#482878"
             ],
             [
              0.2222222222222222,
              "#3e4989"
             ],
             [
              0.3333333333333333,
              "#31688e"
             ],
             [
              0.4444444444444444,
              "#26828e"
             ],
             [
              0.5555555555555556,
              "#1f9e89"
             ],
             [
              0.6666666666666666,
              "#35b779"
             ],
             [
              0.7777777777777778,
              "#6ece58"
             ],
             [
              0.8888888888888888,
              "#b5de2b"
             ],
             [
              1,
              "#fde725"
             ]
            ],
            "type": "histogram2dcontour"
           }
          ],
          "mesh3d": [
           {
            "colorbar": {
             "outlinewidth": 1,
             "tickcolor": "rgb(36,36,36)",
             "ticks": "outside"
            },
            "type": "mesh3d"
           }
          ],
          "parcoords": [
           {
            "line": {
             "colorbar": {
              "outlinewidth": 1,
              "tickcolor": "rgb(36,36,36)",
              "ticks": "outside"
             }
            },
            "type": "parcoords"
           }
          ],
          "pie": [
           {
            "automargin": true,
            "type": "pie"
           }
          ],
          "scatter": [
           {
            "fillpattern": {
             "fillmode": "overlay",
             "size": 10,
             "solidity": 0.2
            },
            "type": "scatter"
           }
          ],
          "scatter3d": [
           {
            "line": {
             "colorbar": {
              "outlinewidth": 1,
              "tickcolor": "rgb(36,36,36)",
              "ticks": "outside"
             }
            },
            "marker": {
             "colorbar": {
              "outlinewidth": 1,
              "tickcolor": "rgb(36,36,36)",
              "ticks": "outside"
             }
            },
            "type": "scatter3d"
           }
          ],
          "scattercarpet": [
           {
            "marker": {
             "colorbar": {
              "outlinewidth": 1,
              "tickcolor": "rgb(36,36,36)",
              "ticks": "outside"
             }
            },
            "type": "scattercarpet"
           }
          ],
          "scattergeo": [
           {
            "marker": {
             "colorbar": {
              "outlinewidth": 1,
              "tickcolor": "rgb(36,36,36)",
              "ticks": "outside"
             }
            },
            "type": "scattergeo"
           }
          ],
          "scattergl": [
           {
            "marker": {
             "colorbar": {
              "outlinewidth": 1,
              "tickcolor": "rgb(36,36,36)",
              "ticks": "outside"
             }
            },
            "type": "scattergl"
           }
          ],
          "scattermapbox": [
           {
            "marker": {
             "colorbar": {
              "outlinewidth": 1,
              "tickcolor": "rgb(36,36,36)",
              "ticks": "outside"
             }
            },
            "type": "scattermapbox"
           }
          ],
          "scatterpolar": [
           {
            "marker": {
             "colorbar": {
              "outlinewidth": 1,
              "tickcolor": "rgb(36,36,36)",
              "ticks": "outside"
             }
            },
            "type": "scatterpolar"
           }
          ],
          "scatterpolargl": [
           {
            "marker": {
             "colorbar": {
              "outlinewidth": 1,
              "tickcolor": "rgb(36,36,36)",
              "ticks": "outside"
             }
            },
            "type": "scatterpolargl"
           }
          ],
          "scatterternary": [
           {
            "marker": {
             "colorbar": {
              "outlinewidth": 1,
              "tickcolor": "rgb(36,36,36)",
              "ticks": "outside"
             }
            },
            "type": "scatterternary"
           }
          ],
          "surface": [
           {
            "colorbar": {
             "outlinewidth": 1,
             "tickcolor": "rgb(36,36,36)",
             "ticks": "outside"
            },
            "colorscale": [
             [
              0,
              "#440154"
             ],
             [
              0.1111111111111111,
              "#482878"
             ],
             [
              0.2222222222222222,
              "#3e4989"
             ],
             [
              0.3333333333333333,
              "#31688e"
             ],
             [
              0.4444444444444444,
              "#26828e"
             ],
             [
              0.5555555555555556,
              "#1f9e89"
             ],
             [
              0.6666666666666666,
              "#35b779"
             ],
             [
              0.7777777777777778,
              "#6ece58"
             ],
             [
              0.8888888888888888,
              "#b5de2b"
             ],
             [
              1,
              "#fde725"
             ]
            ],
            "type": "surface"
           }
          ],
          "table": [
           {
            "cells": {
             "fill": {
              "color": "rgb(237,237,237)"
             },
             "line": {
              "color": "white"
             }
            },
            "header": {
             "fill": {
              "color": "rgb(217,217,217)"
             },
             "line": {
              "color": "white"
             }
            },
            "type": "table"
           }
          ]
         },
         "layout": {
          "annotationdefaults": {
           "arrowhead": 0,
           "arrowwidth": 1
          },
          "autotypenumbers": "strict",
          "coloraxis": {
           "colorbar": {
            "outlinewidth": 1,
            "tickcolor": "rgb(36,36,36)",
            "ticks": "outside"
           }
          },
          "colorscale": {
           "diverging": [
            [
             0,
             "rgb(103,0,31)"
            ],
            [
             0.1,
             "rgb(178,24,43)"
            ],
            [
             0.2,
             "rgb(214,96,77)"
            ],
            [
             0.3,
             "rgb(244,165,130)"
            ],
            [
             0.4,
             "rgb(253,219,199)"
            ],
            [
             0.5,
             "rgb(247,247,247)"
            ],
            [
             0.6,
             "rgb(209,229,240)"
            ],
            [
             0.7,
             "rgb(146,197,222)"
            ],
            [
             0.8,
             "rgb(67,147,195)"
            ],
            [
             0.9,
             "rgb(33,102,172)"
            ],
            [
             1,
             "rgb(5,48,97)"
            ]
           ],
           "sequential": [
            [
             0,
             "#440154"
            ],
            [
             0.1111111111111111,
             "#482878"
            ],
            [
             0.2222222222222222,
             "#3e4989"
            ],
            [
             0.3333333333333333,
             "#31688e"
            ],
            [
             0.4444444444444444,
             "#26828e"
            ],
            [
             0.5555555555555556,
             "#1f9e89"
            ],
            [
             0.6666666666666666,
             "#35b779"
            ],
            [
             0.7777777777777778,
             "#6ece58"
            ],
            [
             0.8888888888888888,
             "#b5de2b"
            ],
            [
             1,
             "#fde725"
            ]
           ],
           "sequentialminus": [
            [
             0,
             "#440154"
            ],
            [
             0.1111111111111111,
             "#482878"
            ],
            [
             0.2222222222222222,
             "#3e4989"
            ],
            [
             0.3333333333333333,
             "#31688e"
            ],
            [
             0.4444444444444444,
             "#26828e"
            ],
            [
             0.5555555555555556,
             "#1f9e89"
            ],
            [
             0.6666666666666666,
             "#35b779"
            ],
            [
             0.7777777777777778,
             "#6ece58"
            ],
            [
             0.8888888888888888,
             "#b5de2b"
            ],
            [
             1,
             "#fde725"
            ]
           ]
          },
          "colorway": [
           "#1F77B4",
           "#FF7F0E",
           "#2CA02C",
           "#D62728",
           "#9467BD",
           "#8C564B",
           "#E377C2",
           "#7F7F7F",
           "#BCBD22",
           "#17BECF"
          ],
          "font": {
           "color": "rgb(36,36,36)"
          },
          "geo": {
           "bgcolor": "white",
           "lakecolor": "white",
           "landcolor": "white",
           "showlakes": true,
           "showland": true,
           "subunitcolor": "white"
          },
          "hoverlabel": {
           "align": "left"
          },
          "hovermode": "closest",
          "mapbox": {
           "style": "light"
          },
          "paper_bgcolor": "white",
          "plot_bgcolor": "white",
          "polar": {
           "angularaxis": {
            "gridcolor": "rgb(232,232,232)",
            "linecolor": "rgb(36,36,36)",
            "showgrid": false,
            "showline": true,
            "ticks": "outside"
           },
           "bgcolor": "white",
           "radialaxis": {
            "gridcolor": "rgb(232,232,232)",
            "linecolor": "rgb(36,36,36)",
            "showgrid": false,
            "showline": true,
            "ticks": "outside"
           }
          },
          "scene": {
           "xaxis": {
            "backgroundcolor": "white",
            "gridcolor": "rgb(232,232,232)",
            "gridwidth": 2,
            "linecolor": "rgb(36,36,36)",
            "showbackground": true,
            "showgrid": false,
            "showline": true,
            "ticks": "outside",
            "zeroline": false,
            "zerolinecolor": "rgb(36,36,36)"
           },
           "yaxis": {
            "backgroundcolor": "white",
            "gridcolor": "rgb(232,232,232)",
            "gridwidth": 2,
            "linecolor": "rgb(36,36,36)",
            "showbackground": true,
            "showgrid": false,
            "showline": true,
            "ticks": "outside",
            "zeroline": false,
            "zerolinecolor": "rgb(36,36,36)"
           },
           "zaxis": {
            "backgroundcolor": "white",
            "gridcolor": "rgb(232,232,232)",
            "gridwidth": 2,
            "linecolor": "rgb(36,36,36)",
            "showbackground": true,
            "showgrid": false,
            "showline": true,
            "ticks": "outside",
            "zeroline": false,
            "zerolinecolor": "rgb(36,36,36)"
           }
          },
          "shapedefaults": {
           "fillcolor": "black",
           "line": {
            "width": 0
           },
           "opacity": 0.3
          },
          "ternary": {
           "aaxis": {
            "gridcolor": "rgb(232,232,232)",
            "linecolor": "rgb(36,36,36)",
            "showgrid": false,
            "showline": true,
            "ticks": "outside"
           },
           "baxis": {
            "gridcolor": "rgb(232,232,232)",
            "linecolor": "rgb(36,36,36)",
            "showgrid": false,
            "showline": true,
            "ticks": "outside"
           },
           "bgcolor": "white",
           "caxis": {
            "gridcolor": "rgb(232,232,232)",
            "linecolor": "rgb(36,36,36)",
            "showgrid": false,
            "showline": true,
            "ticks": "outside"
           }
          },
          "title": {
           "x": 0.05
          },
          "xaxis": {
           "automargin": true,
           "gridcolor": "rgb(232,232,232)",
           "linecolor": "rgb(36,36,36)",
           "showgrid": false,
           "showline": true,
           "ticks": "outside",
           "title": {
            "standoff": 15
           },
           "zeroline": false,
           "zerolinecolor": "rgb(36,36,36)"
          },
          "yaxis": {
           "automargin": true,
           "gridcolor": "rgb(232,232,232)",
           "linecolor": "rgb(36,36,36)",
           "showgrid": false,
           "showline": true,
           "ticks": "outside",
           "title": {
            "standoff": 15
           },
           "zeroline": false,
           "zerolinecolor": "rgb(36,36,36)"
          }
         }
        },
        "xaxis": {
         "title": {
          "text": "Normalized Temperature Prediction"
         }
        },
        "yaxis": {
         "title": {
          "text": "Normalized Temperature Target"
         }
        }
       }
      }
     },
     "metadata": {},
     "output_type": "display_data"
    }
   ],
   "source": [
    "fig = go.Figure()\n",
    "fig.add_trace(go.Scatter(x=[0, 1], y=[0, 1], showlegend=False, mode=\"markers+lines\"))\n",
    "for i in range(0, len(datasets[\"X_test\"]), batch_size * skip):\n",
    "    df_pred = pd.DataFrame(model.predict(datasets[\"X_test\"][i : i + batch_size], verbose=0)[:, :, 1])\n",
    "    df_train = pd.DataFrame(datasets[\"y_test\"][i : i + batch_size][:, :, 1])\n",
    "    fig.add_trace(\n",
    "        go.Scatter(\n",
    "            x=df_pred[0].values,\n",
    "            y=df_train[0].values,\n",
    "            showlegend=False,\n",
    "            mode=\"markers+lines\",\n",
    "        )\n",
    "    )\n",
    "\n",
    "fig.update_yaxes(title=\"Normalized Temperature Target\")\n",
    "fig.update_xaxes(title=\"Normalized Temperature Prediction\")\n",
    "fig.update_layout(template=\"simple_white\")"
   ]
  },
  {
   "cell_type": "markdown",
   "id": "cccca096",
   "metadata": {},
   "source": [
    "## True vs Predicted Traces (Train Set)"
   ]
  },
  {
   "cell_type": "code",
   "execution_count": 35,
   "id": "e62982df",
   "metadata": {},
   "outputs": [
    {
     "name": "stdout",
     "output_type": "stream",
     "text": [
      "dict_keys(['X_train', 'X_test', 'X_val', 'y_train', 'y_test', 'y_val', 'original_train', 'original_test', 'original_val', 'batch_size'])\n"
     ]
    }
   ],
   "source": [
    "print(datasets.keys())\n",
    "train_cell_ids = pd.concat(datasets['original_train'])['Cell'].unique()\n"
   ]
  },
  {
   "cell_type": "code",
   "execution_count": 59,
   "id": "22a49398",
   "metadata": {},
   "outputs": [
    {
     "data": {
      "text/html": [
       "<div>\n",
       "<style scoped>\n",
       "    .dataframe tbody tr th:only-of-type {\n",
       "        vertical-align: middle;\n",
       "    }\n",
       "\n",
       "    .dataframe tbody tr th {\n",
       "        vertical-align: top;\n",
       "    }\n",
       "\n",
       "    .dataframe thead th {\n",
       "        text-align: right;\n",
       "    }\n",
       "</style>\n",
       "<table border=\"1\" class=\"dataframe\">\n",
       "  <thead>\n",
       "    <tr style=\"text-align: right;\">\n",
       "      <th></th>\n",
       "      <th>t</th>\n",
       "      <th>V</th>\n",
       "      <th>temp</th>\n",
       "      <th>I</th>\n",
       "      <th>Qd</th>\n",
       "      <th>Cycle</th>\n",
       "      <th>Cell</th>\n",
       "    </tr>\n",
       "  </thead>\n",
       "  <tbody>\n",
       "    <tr>\n",
       "      <th>0</th>\n",
       "      <td>0.000000</td>\n",
       "      <td>2.026416</td>\n",
       "      <td>31.632496</td>\n",
       "      <td>0.000000</td>\n",
       "      <td>0.000000</td>\n",
       "      <td>1</td>\n",
       "      <td>b1c0</td>\n",
       "    </tr>\n",
       "    <tr>\n",
       "      <th>1</th>\n",
       "      <td>0.002417</td>\n",
       "      <td>2.039388</td>\n",
       "      <td>31.632496</td>\n",
       "      <td>0.215908</td>\n",
       "      <td>0.000000</td>\n",
       "      <td>1</td>\n",
       "      <td>b1c0</td>\n",
       "    </tr>\n",
       "    <tr>\n",
       "      <th>2</th>\n",
       "      <td>0.002912</td>\n",
       "      <td>2.051660</td>\n",
       "      <td>31.632496</td>\n",
       "      <td>0.359831</td>\n",
       "      <td>0.000000</td>\n",
       "      <td>1</td>\n",
       "      <td>b1c0</td>\n",
       "    </tr>\n",
       "    <tr>\n",
       "      <th>3</th>\n",
       "      <td>0.003212</td>\n",
       "      <td>2.063070</td>\n",
       "      <td>31.632496</td>\n",
       "      <td>0.467846</td>\n",
       "      <td>0.000000</td>\n",
       "      <td>1</td>\n",
       "      <td>b1c0</td>\n",
       "    </tr>\n",
       "    <tr>\n",
       "      <th>4</th>\n",
       "      <td>0.003498</td>\n",
       "      <td>2.076204</td>\n",
       "      <td>31.632496</td>\n",
       "      <td>0.575877</td>\n",
       "      <td>0.000000</td>\n",
       "      <td>1</td>\n",
       "      <td>b1c0</td>\n",
       "    </tr>\n",
       "    <tr>\n",
       "      <th>...</th>\n",
       "      <td>...</td>\n",
       "      <td>...</td>\n",
       "      <td>...</td>\n",
       "      <td>...</td>\n",
       "      <td>...</td>\n",
       "      <td>...</td>\n",
       "      <td>...</td>\n",
       "    </tr>\n",
       "    <tr>\n",
       "      <th>1029</th>\n",
       "      <td>49.942828</td>\n",
       "      <td>2.000220</td>\n",
       "      <td>32.254002</td>\n",
       "      <td>-0.020152</td>\n",
       "      <td>1.026198</td>\n",
       "      <td>1188</td>\n",
       "      <td>b1c0</td>\n",
       "    </tr>\n",
       "    <tr>\n",
       "      <th>1030</th>\n",
       "      <td>49.973342</td>\n",
       "      <td>2.000116</td>\n",
       "      <td>32.254002</td>\n",
       "      <td>-0.019978</td>\n",
       "      <td>1.026210</td>\n",
       "      <td>1188</td>\n",
       "      <td>b1c0</td>\n",
       "    </tr>\n",
       "    <tr>\n",
       "      <th>1031</th>\n",
       "      <td>49.974353</td>\n",
       "      <td>2.001144</td>\n",
       "      <td>32.254002</td>\n",
       "      <td>-0.019978</td>\n",
       "      <td>1.026210</td>\n",
       "      <td>1188</td>\n",
       "      <td>b1c0</td>\n",
       "    </tr>\n",
       "    <tr>\n",
       "      <th>1032</th>\n",
       "      <td>49.985110</td>\n",
       "      <td>2.011194</td>\n",
       "      <td>32.254002</td>\n",
       "      <td>-0.019978</td>\n",
       "      <td>1.026210</td>\n",
       "      <td>1188</td>\n",
       "      <td>b1c0</td>\n",
       "    </tr>\n",
       "    <tr>\n",
       "      <th>1033</th>\n",
       "      <td>49.991090</td>\n",
       "      <td>2.016276</td>\n",
       "      <td>32.254002</td>\n",
       "      <td>0.000000</td>\n",
       "      <td>1.026210</td>\n",
       "      <td>1188</td>\n",
       "      <td>b1c0</td>\n",
       "    </tr>\n",
       "  </tbody>\n",
       "</table>\n",
       "<p>1295874 rows × 7 columns</p>\n",
       "</div>"
      ],
      "text/plain": [
       "              t         V       temp         I        Qd  Cycle  Cell\n",
       "0      0.000000  2.026416  31.632496  0.000000  0.000000      1  b1c0\n",
       "1      0.002417  2.039388  31.632496  0.215908  0.000000      1  b1c0\n",
       "2      0.002912  2.051660  31.632496  0.359831  0.000000      1  b1c0\n",
       "3      0.003212  2.063070  31.632496  0.467846  0.000000      1  b1c0\n",
       "4      0.003498  2.076204  31.632496  0.575877  0.000000      1  b1c0\n",
       "...         ...       ...        ...       ...       ...    ...   ...\n",
       "1029  49.942828  2.000220  32.254002 -0.020152  1.026198   1188  b1c0\n",
       "1030  49.973342  2.000116  32.254002 -0.019978  1.026210   1188  b1c0\n",
       "1031  49.974353  2.001144  32.254002 -0.019978  1.026210   1188  b1c0\n",
       "1032  49.985110  2.011194  32.254002 -0.019978  1.026210   1188  b1c0\n",
       "1033  49.991090  2.016276  32.254002  0.000000  1.026210   1188  b1c0\n",
       "\n",
       "[1295874 rows x 7 columns]"
      ]
     },
     "execution_count": 59,
     "metadata": {},
     "output_type": "execute_result"
    }
   ],
   "source": [
    "datasets['original_train']"
   ]
  },
  {
   "cell_type": "code",
   "execution_count": 36,
   "id": "04ee207b",
   "metadata": {},
   "outputs": [],
   "source": [
    "symbol_list = [\"circle-open\", \"circle\", \"triangle-up\"]\n",
    "pallete = plotly.colors.qualitative.Dark24 + plotly.colors.qualitative.T10\n",
    "pallete = pallete*70000"
   ]
  },
  {
   "cell_type": "code",
   "execution_count": 72,
   "id": "d931cb5a",
   "metadata": {},
   "outputs": [
    {
     "data": {
      "text/html": [
       "<div>\n",
       "<style scoped>\n",
       "    .dataframe tbody tr th:only-of-type {\n",
       "        vertical-align: middle;\n",
       "    }\n",
       "\n",
       "    .dataframe tbody tr th {\n",
       "        vertical-align: top;\n",
       "    }\n",
       "\n",
       "    .dataframe thead th {\n",
       "        text-align: right;\n",
       "    }\n",
       "</style>\n",
       "<table border=\"1\" class=\"dataframe\">\n",
       "  <thead>\n",
       "    <tr style=\"text-align: right;\">\n",
       "      <th></th>\n",
       "      <th>t</th>\n",
       "      <th>V</th>\n",
       "      <th>temp</th>\n",
       "      <th>I</th>\n",
       "      <th>Qd</th>\n",
       "      <th>Cycle</th>\n",
       "      <th>Cell</th>\n",
       "    </tr>\n",
       "  </thead>\n",
       "  <tbody>\n",
       "  </tbody>\n",
       "</table>\n",
       "</div>"
      ],
      "text/plain": [
       "Empty DataFrame\n",
       "Columns: [t, V, temp, I, Qd, Cycle, Cell]\n",
       "Index: []"
      ]
     },
     "execution_count": 72,
     "metadata": {},
     "output_type": "execute_result"
    }
   ],
   "source": [
    "datasets[\"original_train\"][datasets[\"original_train\"]['Cell']==train_cell_ids[0]]"
   ]
  },
  {
   "cell_type": "code",
   "execution_count": 70,
   "id": "c9f7d9f3",
   "metadata": {},
   "outputs": [
    {
     "name": "stdout",
     "output_type": "stream",
     "text": [
      "16632 7000\n",
      "train_cell_id_idx 0\n",
      "cell_id b1c1\n",
      "1 1295874\n",
      "2 0       True\n",
      "1       True\n",
      "2       True\n",
      "3       True\n",
      "4       True\n",
      "        ... \n",
      "1082    True\n",
      "1083    True\n",
      "1084    True\n",
      "1085    True\n",
      "1086    True\n",
      "Name: Cycle, Length: 1087, dtype: bool\n"
     ]
    },
    {
     "ename": "KeyError",
     "evalue": "'b1c1'",
     "output_type": "error",
     "traceback": [
      "\u001b[0;31m---------------------------------------------------------------------------\u001b[0m",
      "\u001b[0;31mKeyError\u001b[0m                                  Traceback (most recent call last)",
      "File \u001b[0;32m~/opt/anaconda3/envs/10701/lib/python3.10/site-packages/pandas/core/indexes/base.py:3800\u001b[0m, in \u001b[0;36mIndex.get_loc\u001b[0;34m(self, key, method, tolerance)\u001b[0m\n\u001b[1;32m   3799\u001b[0m \u001b[39mtry\u001b[39;00m:\n\u001b[0;32m-> 3800\u001b[0m     \u001b[39mreturn\u001b[39;00m \u001b[39mself\u001b[39;49m\u001b[39m.\u001b[39;49m_engine\u001b[39m.\u001b[39;49mget_loc(casted_key)\n\u001b[1;32m   3801\u001b[0m \u001b[39mexcept\u001b[39;00m \u001b[39mKeyError\u001b[39;00m \u001b[39mas\u001b[39;00m err:\n",
      "File \u001b[0;32m~/opt/anaconda3/envs/10701/lib/python3.10/site-packages/pandas/_libs/index.pyx:138\u001b[0m, in \u001b[0;36mpandas._libs.index.IndexEngine.get_loc\u001b[0;34m()\u001b[0m\n",
      "File \u001b[0;32m~/opt/anaconda3/envs/10701/lib/python3.10/site-packages/pandas/_libs/index.pyx:165\u001b[0m, in \u001b[0;36mpandas._libs.index.IndexEngine.get_loc\u001b[0;34m()\u001b[0m\n",
      "File \u001b[0;32mpandas/_libs/hashtable_class_helper.pxi:5745\u001b[0m, in \u001b[0;36mpandas._libs.hashtable.PyObjectHashTable.get_item\u001b[0;34m()\u001b[0m\n",
      "File \u001b[0;32mpandas/_libs/hashtable_class_helper.pxi:5753\u001b[0m, in \u001b[0;36mpandas._libs.hashtable.PyObjectHashTable.get_item\u001b[0;34m()\u001b[0m\n",
      "\u001b[0;31mKeyError\u001b[0m: 'b1c1'",
      "\nThe above exception was the direct cause of the following exception:\n",
      "\u001b[0;31mKeyError\u001b[0m                                  Traceback (most recent call last)",
      "\u001b[1;32m/Users/mac/Desktop/CMU/10701MachineLearning/project/10701-mvf-bto/src/mvf_bto/Model Training v1.ipynb Cell 26\u001b[0m in \u001b[0;36m<cell line: 8>\u001b[0;34m()\u001b[0m\n\u001b[1;32m     <a href='vscode-notebook-cell:/Users/mac/Desktop/CMU/10701MachineLearning/project/10701-mvf-bto/src/mvf_bto/Model%20Training%20v1.ipynb#Y203sZmlsZQ%3D%3D?line=21'>22</a>\u001b[0m original_df\u001b[39m=\u001b[39m original_df[original_df\u001b[39m.\u001b[39mCycle\u001b[39m==\u001b[39mcurrent_cycle]\n\u001b[1;32m     <a href='vscode-notebook-cell:/Users/mac/Desktop/CMU/10701MachineLearning/project/10701-mvf-bto/src/mvf_bto/Model%20Training%20v1.ipynb#Y203sZmlsZQ%3D%3D?line=22'>23</a>\u001b[0m \u001b[39mprint\u001b[39m(\u001b[39mf\u001b[39m\u001b[39m\"\u001b[39m\u001b[39m2 \u001b[39m\u001b[39m{\u001b[39;00moriginal_df\u001b[39m.\u001b[39mCycle\u001b[39m==\u001b[39mcurrent_cycle\u001b[39m}\u001b[39;00m\u001b[39m\"\u001b[39m)\n\u001b[0;32m---> <a href='vscode-notebook-cell:/Users/mac/Desktop/CMU/10701MachineLearning/project/10701-mvf-bto/src/mvf_bto/Model%20Training%20v1.ipynb#Y203sZmlsZQ%3D%3D?line=23'>24</a>\u001b[0m original_df\u001b[39m=\u001b[39m original_df[cell_id]\n\u001b[1;32m     <a href='vscode-notebook-cell:/Users/mac/Desktop/CMU/10701MachineLearning/project/10701-mvf-bto/src/mvf_bto/Model%20Training%20v1.ipynb#Y203sZmlsZQ%3D%3D?line=24'>25</a>\u001b[0m \u001b[39mprint\u001b[39m(\u001b[39mf\u001b[39m\u001b[39m\"\u001b[39m\u001b[39mcell_id \u001b[39m\u001b[39m{\u001b[39;00mcell_id\u001b[39m}\u001b[39;00m\u001b[39m\"\u001b[39m)\n\u001b[1;32m     <a href='vscode-notebook-cell:/Users/mac/Desktop/CMU/10701MachineLearning/project/10701-mvf-bto/src/mvf_bto/Model%20Training%20v1.ipynb#Y203sZmlsZQ%3D%3D?line=25'>26</a>\u001b[0m original_df \u001b[39m=\u001b[39m original_df[original_df\u001b[39m.\u001b[39mI \u001b[39m<\u001b[39m MAX_DISCHARGE_CURRENT]\n",
      "File \u001b[0;32m~/opt/anaconda3/envs/10701/lib/python3.10/site-packages/pandas/core/frame.py:3805\u001b[0m, in \u001b[0;36mDataFrame.__getitem__\u001b[0;34m(self, key)\u001b[0m\n\u001b[1;32m   3803\u001b[0m \u001b[39mif\u001b[39;00m \u001b[39mself\u001b[39m\u001b[39m.\u001b[39mcolumns\u001b[39m.\u001b[39mnlevels \u001b[39m>\u001b[39m \u001b[39m1\u001b[39m:\n\u001b[1;32m   3804\u001b[0m     \u001b[39mreturn\u001b[39;00m \u001b[39mself\u001b[39m\u001b[39m.\u001b[39m_getitem_multilevel(key)\n\u001b[0;32m-> 3805\u001b[0m indexer \u001b[39m=\u001b[39m \u001b[39mself\u001b[39;49m\u001b[39m.\u001b[39;49mcolumns\u001b[39m.\u001b[39;49mget_loc(key)\n\u001b[1;32m   3806\u001b[0m \u001b[39mif\u001b[39;00m is_integer(indexer):\n\u001b[1;32m   3807\u001b[0m     indexer \u001b[39m=\u001b[39m [indexer]\n",
      "File \u001b[0;32m~/opt/anaconda3/envs/10701/lib/python3.10/site-packages/pandas/core/indexes/base.py:3802\u001b[0m, in \u001b[0;36mIndex.get_loc\u001b[0;34m(self, key, method, tolerance)\u001b[0m\n\u001b[1;32m   3800\u001b[0m     \u001b[39mreturn\u001b[39;00m \u001b[39mself\u001b[39m\u001b[39m.\u001b[39m_engine\u001b[39m.\u001b[39mget_loc(casted_key)\n\u001b[1;32m   3801\u001b[0m \u001b[39mexcept\u001b[39;00m \u001b[39mKeyError\u001b[39;00m \u001b[39mas\u001b[39;00m err:\n\u001b[0;32m-> 3802\u001b[0m     \u001b[39mraise\u001b[39;00m \u001b[39mKeyError\u001b[39;00m(key) \u001b[39mfrom\u001b[39;00m \u001b[39merr\u001b[39;00m\n\u001b[1;32m   3803\u001b[0m \u001b[39mexcept\u001b[39;00m \u001b[39mTypeError\u001b[39;00m:\n\u001b[1;32m   3804\u001b[0m     \u001b[39m# If we have a listlike key, _check_indexing_error will raise\u001b[39;00m\n\u001b[1;32m   3805\u001b[0m     \u001b[39m#  InvalidIndexError. Otherwise we fall through and re-raise\u001b[39;00m\n\u001b[1;32m   3806\u001b[0m     \u001b[39m#  the TypeError.\u001b[39;00m\n\u001b[1;32m   3807\u001b[0m     \u001b[39mself\u001b[39m\u001b[39m.\u001b[39m_check_indexing_error(key)\n",
      "\u001b[0;31mKeyError\u001b[0m: 'b1c1'"
     ]
    }
   ],
   "source": [
    "skip = 500\n",
    "train_cell_id_idx = 0\n",
    "last_cycle = 1\n",
    "current_cycle = 1\n",
    "opacity_list = [1, 0.6, 0.3]\n",
    "fig = go.Figure()\n",
    "print(len(datasets[\"X_train\"]),batch_size*skip)\n",
    "for i in range(0, len(datasets[\"X_train\"]), batch_size * skip):\n",
    "    df_true = pd.DataFrame(datasets[\"y_train\"][i : i + batch_size][:, 0, 0])\n",
    "    \n",
    "    last_cycle = current_cycle\n",
    "    current_cycle = int(datasets[\"X_train\"][i : i + batch_size][0][0][-1]*MAX_CYCLE)\n",
    "    if current_cycle>740:\n",
    "        continue\n",
    "    if last_cycle> current_cycle:\n",
    "        train_cell_id_idx += 1\n",
    "    print(f\"train_cell_id_idx {train_cell_id_idx}\")\n",
    "    cell_id = train_cell_ids[train_cell_id_idx]\n",
    "    print(f\"cell_id {cell_id}\")\n",
    "    original_df = datasets[\"original_train\"]\n",
    "    print(f\"1 {len(original_df)}\")\n",
    "    original_df= original_df[original_df.Cycle==current_cycle]\n",
    "    print(f\"2 {original_df.Cycle==current_cycle}\")\n",
    "    original_df= original_df[cell_id]\n",
    "    print(f\"cell_id {cell_id}\")\n",
    "    original_df = original_df[original_df.I < MAX_DISCHARGE_CURRENT]\n",
    "    print(f\"4 {len(original_df)}\")\n",
    "    original_df = original_df[original_df.I > MIN_DISCHARGE_CURRENT]\n",
    "    print(len(original_df))\n",
    "\n",
    "    original_df['Qd'] = (original_df['Qd']-original_df['Qd'].min())/(original_df['Qd'].max()-original_df['Qd'].min())\n",
    "\n",
    "    print(nf_steps)\n",
    "    if len(original_df)< 2:\n",
    "        continue\n",
    "    q_new = original_df.Qd.values\n",
    "    t_new = original_df['t'].values\n",
    "    time_interpolator = interp1d(x = q_new,  y = t_new, fill_value=\"extrapolate\")\n",
    "    \n",
    "    for j in range(nf_steps):\n",
    "        print(\"test\")\n",
    "        df_pred = pd.DataFrame(model.predict(datasets[\"X_train\"][i : i + batch_size], verbose=0)[:, j, 0])\n",
    "    \n",
    "        ref_capacities_wrt_nf = REFERENCE_DISCHARGE_CAPACITIES[window_length+j:-nf_steps+j-1]\n",
    "\n",
    "        prediction_interpolator = interp1d(x = ref_capacities_wrt_nf, \n",
    "                                           y = df_pred[0].values*(VOLTAGE_MAX - VOLTAGE_MIN) + VOLTAGE_MIN,\n",
    "                                           \n",
    "                                          )\n",
    "        \n",
    "        q_j = q_new[q_new>= min(REFERENCE_DISCHARGE_CAPACITIES[window_length+j:-nf_steps+j-1])]\n",
    "        q_j = q_j[q_j<= max(REFERENCE_DISCHARGE_CAPACITIES[window_length+j:-nf_steps+j-1])]\n",
    "        t_interp = time_interpolator(REFERENCE_DISCHARGE_CAPACITIES[window_length:-nf_steps-1])\n",
    "        if j==0:\n",
    "            q_j0 = q_j\n",
    "        V_pred = prediction_interpolator(q_j)\n",
    "        fig.add_trace(\n",
    "            go.Scatter(\n",
    "                x=time_interpolator(q_j),\n",
    "                y=V_pred,\n",
    "                showlegend=True,\n",
    "                mode=\"lines\",\n",
    "                line_dash=\"dash\",\n",
    "                name = \"Interpolated Predictions\",\n",
    "                marker_color=pallete[i],\n",
    "                opacity=opacity_list[j]\n",
    "            )\n",
    "        )\n",
    "        \n",
    "        fig.add_trace(\n",
    "            go.Scatter(\n",
    "                x=time_interpolator(ref_capacities_wrt_nf),\n",
    "                y=df_pred[0].values*(VOLTAGE_MAX - VOLTAGE_MIN) + VOLTAGE_MIN,\n",
    "                showlegend=True,\n",
    "                mode=\"markers\",\n",
    "                name = f\"Predictions Forecast Horizon {j+1}\",\n",
    "                marker_color=pallete[i],\n",
    "                marker_symbol = symbol_list[j],\n",
    "                marker_size=8,\n",
    "#                 marker_opacity=opacity_list[j]\n",
    "            )\n",
    "        )\n",
    "        print(df_pred[0].values)\n",
    "\n",
    "    odf = original_df[original_df.Qd > q_j0.min()]\n",
    "    odf = odf[odf.Qd < q_j.max()]\n",
    "    fig.add_trace(\n",
    "        go.Scatter(\n",
    "            x=odf['t'],\n",
    "            y=odf['V'],\n",
    "            showlegend=True,\n",
    "            mode=\"lines\",\n",
    "            name = f\"{cell_id} Cycle {current_cycle}\",\n",
    "            line_color=pallete[i]\n",
    "        )\n",
    "    )\n",
    "\n",
    "\n",
    "fig.update_yaxes(title=\"Voltage [V]\", showgrid=True)\n",
    "fig.update_xaxes(title=\"Times (min)\", showgrid=True)\n",
    "fig.update_layout(template=\"simple_white\")"
   ]
  },
  {
   "cell_type": "code",
   "execution_count": 64,
   "id": "7effb64d",
   "metadata": {},
   "outputs": [
    {
     "data": {
      "text/html": [
       "<div>\n",
       "<style scoped>\n",
       "    .dataframe tbody tr th:only-of-type {\n",
       "        vertical-align: middle;\n",
       "    }\n",
       "\n",
       "    .dataframe tbody tr th {\n",
       "        vertical-align: top;\n",
       "    }\n",
       "\n",
       "    .dataframe thead th {\n",
       "        text-align: right;\n",
       "    }\n",
       "</style>\n",
       "<table border=\"1\" class=\"dataframe\">\n",
       "  <thead>\n",
       "    <tr style=\"text-align: right;\">\n",
       "      <th></th>\n",
       "      <th>t</th>\n",
       "      <th>V</th>\n",
       "      <th>temp</th>\n",
       "      <th>I</th>\n",
       "      <th>Qd</th>\n",
       "      <th>Cycle</th>\n",
       "      <th>Cell</th>\n",
       "    </tr>\n",
       "  </thead>\n",
       "  <tbody>\n",
       "    <tr>\n",
       "      <th>0</th>\n",
       "      <td>0.000000</td>\n",
       "      <td>2.026416</td>\n",
       "      <td>31.632496</td>\n",
       "      <td>0.000000</td>\n",
       "      <td>0.000000</td>\n",
       "      <td>1</td>\n",
       "      <td>b1c0</td>\n",
       "    </tr>\n",
       "    <tr>\n",
       "      <th>1</th>\n",
       "      <td>0.002417</td>\n",
       "      <td>2.039388</td>\n",
       "      <td>31.632496</td>\n",
       "      <td>0.215908</td>\n",
       "      <td>0.000000</td>\n",
       "      <td>1</td>\n",
       "      <td>b1c0</td>\n",
       "    </tr>\n",
       "    <tr>\n",
       "      <th>2</th>\n",
       "      <td>0.002912</td>\n",
       "      <td>2.051660</td>\n",
       "      <td>31.632496</td>\n",
       "      <td>0.359831</td>\n",
       "      <td>0.000000</td>\n",
       "      <td>1</td>\n",
       "      <td>b1c0</td>\n",
       "    </tr>\n",
       "    <tr>\n",
       "      <th>3</th>\n",
       "      <td>0.003212</td>\n",
       "      <td>2.063070</td>\n",
       "      <td>31.632496</td>\n",
       "      <td>0.467846</td>\n",
       "      <td>0.000000</td>\n",
       "      <td>1</td>\n",
       "      <td>b1c0</td>\n",
       "    </tr>\n",
       "    <tr>\n",
       "      <th>4</th>\n",
       "      <td>0.003498</td>\n",
       "      <td>2.076204</td>\n",
       "      <td>31.632496</td>\n",
       "      <td>0.575877</td>\n",
       "      <td>0.000000</td>\n",
       "      <td>1</td>\n",
       "      <td>b1c0</td>\n",
       "    </tr>\n",
       "    <tr>\n",
       "      <th>...</th>\n",
       "      <td>...</td>\n",
       "      <td>...</td>\n",
       "      <td>...</td>\n",
       "      <td>...</td>\n",
       "      <td>...</td>\n",
       "      <td>...</td>\n",
       "      <td>...</td>\n",
       "    </tr>\n",
       "    <tr>\n",
       "      <th>1029</th>\n",
       "      <td>49.942828</td>\n",
       "      <td>2.000220</td>\n",
       "      <td>32.254002</td>\n",
       "      <td>-0.020152</td>\n",
       "      <td>1.026198</td>\n",
       "      <td>1188</td>\n",
       "      <td>b1c0</td>\n",
       "    </tr>\n",
       "    <tr>\n",
       "      <th>1030</th>\n",
       "      <td>49.973342</td>\n",
       "      <td>2.000116</td>\n",
       "      <td>32.254002</td>\n",
       "      <td>-0.019978</td>\n",
       "      <td>1.026210</td>\n",
       "      <td>1188</td>\n",
       "      <td>b1c0</td>\n",
       "    </tr>\n",
       "    <tr>\n",
       "      <th>1031</th>\n",
       "      <td>49.974353</td>\n",
       "      <td>2.001144</td>\n",
       "      <td>32.254002</td>\n",
       "      <td>-0.019978</td>\n",
       "      <td>1.026210</td>\n",
       "      <td>1188</td>\n",
       "      <td>b1c0</td>\n",
       "    </tr>\n",
       "    <tr>\n",
       "      <th>1032</th>\n",
       "      <td>49.985110</td>\n",
       "      <td>2.011194</td>\n",
       "      <td>32.254002</td>\n",
       "      <td>-0.019978</td>\n",
       "      <td>1.026210</td>\n",
       "      <td>1188</td>\n",
       "      <td>b1c0</td>\n",
       "    </tr>\n",
       "    <tr>\n",
       "      <th>1033</th>\n",
       "      <td>49.991090</td>\n",
       "      <td>2.016276</td>\n",
       "      <td>32.254002</td>\n",
       "      <td>0.000000</td>\n",
       "      <td>1.026210</td>\n",
       "      <td>1188</td>\n",
       "      <td>b1c0</td>\n",
       "    </tr>\n",
       "  </tbody>\n",
       "</table>\n",
       "<p>1295874 rows × 7 columns</p>\n",
       "</div>"
      ],
      "text/plain": [
       "              t         V       temp         I        Qd  Cycle  Cell\n",
       "0      0.000000  2.026416  31.632496  0.000000  0.000000      1  b1c0\n",
       "1      0.002417  2.039388  31.632496  0.215908  0.000000      1  b1c0\n",
       "2      0.002912  2.051660  31.632496  0.359831  0.000000      1  b1c0\n",
       "3      0.003212  2.063070  31.632496  0.467846  0.000000      1  b1c0\n",
       "4      0.003498  2.076204  31.632496  0.575877  0.000000      1  b1c0\n",
       "...         ...       ...        ...       ...       ...    ...   ...\n",
       "1029  49.942828  2.000220  32.254002 -0.020152  1.026198   1188  b1c0\n",
       "1030  49.973342  2.000116  32.254002 -0.019978  1.026210   1188  b1c0\n",
       "1031  49.974353  2.001144  32.254002 -0.019978  1.026210   1188  b1c0\n",
       "1032  49.985110  2.011194  32.254002 -0.019978  1.026210   1188  b1c0\n",
       "1033  49.991090  2.016276  32.254002  0.000000  1.026210   1188  b1c0\n",
       "\n",
       "[1295874 rows x 7 columns]"
      ]
     },
     "execution_count": 64,
     "metadata": {},
     "output_type": "execute_result"
    }
   ],
   "source": [
    "datasets[\"original_train\"]"
   ]
  },
  {
   "cell_type": "code",
   "execution_count": null,
   "id": "668749a7",
   "metadata": {},
   "outputs": [],
   "source": [
    "train_cell_id_idx = 0\n",
    "last_cycle = 1\n",
    "current_cycle = 1\n",
    "\n",
    "fig = go.Figure()\n",
    "for i in range(0, len(datasets[\"X_train\"]), batch_size * skip):\n",
    "    df_true = pd.DataFrame(datasets[\"y_train\"][i : i + batch_size][:, 0, 1])\n",
    "    \n",
    "    last_cycle = current_cycle\n",
    "    current_cycle = int(datasets[\"X_train\"][i : i + batch_size][0][0][-1]*MAX_CYCLE)\n",
    "    if current_cycle>740:\n",
    "        continue\n",
    "    if last_cycle> current_cycle:\n",
    "        train_cell_id_idx += 1\n",
    "        \n",
    "    cell_id = train_cell_ids[train_cell_id_idx]\n",
    "    original_df = datasets[\"original_train\"]\n",
    "\n",
    "    original_df= original_df[original_df.Cycle==current_cycle]\n",
    "    original_df= original_df[original_df.Cell==cell_id]\n",
    "    original_df = original_df[original_df.I < MAX_DISCHARGE_CURRENT]\n",
    "    original_df = original_df[original_df.I > MIN_DISCHARGE_CURRENT]\n",
    "\n",
    "    original_df['Qd'] = (original_df['Qd']-original_df['Qd'].min())/(original_df['Qd'].max()-original_df['Qd'].min())\n",
    "\n",
    "    if len(original_df)< 2:\n",
    "        continue\n",
    "    q_new = original_df.Qd.values\n",
    "    t_new = original_df['t'].values\n",
    "    time_interpolator = interp1d(x = q_new,  y = t_new, fill_value=\"extrapolate\")\n",
    "    \n",
    "    \n",
    "    for j in range(nf_steps):\n",
    "        df_pred = pd.DataFrame(model.predict(datasets[\"X_train\"][i : i + batch_size], verbose=0)[:, j, 1])\n",
    "    \n",
    "        ref_capacities_wrt_nf = REFERENCE_CAPACITIES[window_length+j:-nf_steps+j-1]\n",
    "\n",
    "        prediction_interpolator = interp1d(x = ref_capacities_wrt_nf, \n",
    "                                           y = df_pred[0].values*(TEMPERATURE_MAX - TEMPERATURE_MIN) + TEMPERATURE_MIN,\n",
    "                                           \n",
    "                                          )\n",
    "        \n",
    "        q_j = q_new[q_new>= min(REFERENCE_CAPACITIES[window_length+j:-nf_steps+j-1])]\n",
    "        q_j = q_j[q_j<= max(REFERENCE_CAPACITIES[window_length+j:-nf_steps+j-1])]\n",
    "        t_interp = time_interpolator(REFERENCE_CAPACITIES[window_length:-nf_steps-1])\n",
    "        if j==0:\n",
    "            q_j0 = q_j\n",
    "        V_pred = prediction_interpolator(q_j)\n",
    "        fig.add_trace(\n",
    "            go.Scatter(\n",
    "                x=time_interpolator(q_j),\n",
    "                y=V_pred,\n",
    "                showlegend=True,\n",
    "                mode=\"lines\",\n",
    "                line_dash=\"dash\",\n",
    "                name = \"Interpolated Predictions\",\n",
    "                marker_color=pallete[i//skip],\n",
    "                opacity=opacity_list[j]\n",
    "            )\n",
    "        )\n",
    "        \n",
    "        fig.add_trace(\n",
    "            go.Scatter(\n",
    "                x=time_interpolator(ref_capacities_wrt_nf),\n",
    "                y=df_pred[0].values*(TEMPERATURE_MAX - TEMPERATURE_MIN) + TEMPERATURE_MIN,\n",
    "                showlegend=True,\n",
    "                mode=\"markers\",\n",
    "                name = f\"Predictions Forecast Horizon {j+1}\",\n",
    "                marker_color=pallete[i//skip],\n",
    "                marker_symbol = symbol_list[j],\n",
    "                marker_size=8,\n",
    "            )\n",
    "        )\n",
    "\n",
    "\n",
    "    odf = original_df[original_df.Qd > q_j0.min()]\n",
    "    odf = odf[odf.Qd < q_j.max()]\n",
    "    fig.add_trace(\n",
    "        go.Scatter(\n",
    "            x=odf['t'],\n",
    "            y=odf['temp'],\n",
    "            showlegend=True,\n",
    "            mode=\"lines\",\n",
    "            name = f\"{cell_id} Cycle {current_cycle}\",\n",
    "            line_color=pallete[i//skip]\n",
    "        )\n",
    "    )\n",
    "\n",
    "\n",
    "fig.update_yaxes(title=\"Temperature [°C]\", showgrid=True)\n",
    "fig.update_xaxes(title=\"Times (min)\", showgrid=True)\n",
    "fig.update_layout(template=\"simple_white\")"
   ]
  },
  {
   "cell_type": "markdown",
   "id": "de10e402",
   "metadata": {},
   "source": [
    "## True vs Predicted Traces (Test Set)"
   ]
  },
  {
   "cell_type": "code",
   "execution_count": null,
   "id": "18c274f1",
   "metadata": {},
   "outputs": [],
   "source": [
    "test_cell_ids = datasets['original_test']['Cell'].unique()\n",
    "test_cell_ids\n",
    "len(datasets[\"X_test\"])"
   ]
  },
  {
   "cell_type": "code",
   "execution_count": null,
   "id": "7ea8d343",
   "metadata": {},
   "outputs": [],
   "source": [
    "skip = 300\n",
    "test_cell_id_idx = 0\n",
    "last_cycle = 1\n",
    "current_cycle = 1\n",
    "opacity_list = [1, 0.6, 0.3]\n",
    "fig = go.Figure()\n",
    "for i in range(0, len(datasets[\"X_test\"]), batch_size * skip):\n",
    "    df_true = pd.DataFrame(datasets[\"y_test\"][i : i + batch_size][:, 0, 0])\n",
    "    \n",
    "    last_cycle = current_cycle\n",
    "    current_cycle = int(datasets[\"X_test\"][i : i + batch_size][0][0][-1]*MAX_CYCLE)\n",
    "\n",
    "    if last_cycle> current_cycle:\n",
    "        test_cell_id_idx += 1\n",
    "        \n",
    "    cell_id = test_cell_ids[test_cell_id_idx]\n",
    "    original_df = datasets[\"original_test\"]\n",
    "\n",
    "    original_df= original_df[original_df.Cycle==current_cycle]\n",
    "    original_df= original_df[original_df.Cell==cell_id]\n",
    "    original_df = original_df[original_df.I < MAX_DISCHARGE_CURRENT]\n",
    "    original_df = original_df[original_df.I > MIN_DISCHARGE_CURRENT]\n",
    "\n",
    "    original_df['Qd'] = (original_df['Qd']-original_df['Qd'].min())/(original_df['Qd'].max()-original_df['Qd'].min())\n",
    "\n",
    "    if len(original_df)< 2:\n",
    "        continue\n",
    "    q_new = original_df.Qd.values\n",
    "    t_new = original_df['t'].values\n",
    "    time_interpolator = interp1d(x = q_new,  y = t_new, fill_value=\"extrapolate\")\n",
    "    \n",
    "    \n",
    "    for j in range(nf_steps):\n",
    "        df_pred = pd.DataFrame(model.predict(datasets[\"X_test\"][i : i + batch_size], verbose=0)[:, j, 0])\n",
    "    \n",
    "        ref_capacities_wrt_nf = REFERENCE_CAPACITIES[window_length+j:-nf_steps+j-1]\n",
    "\n",
    "        prediction_interpolator = interp1d(x = ref_capacities_wrt_nf, \n",
    "                                           y = df_pred[0].values*(VOLTAGE_MAX - VOLTAGE_MIN) + VOLTAGE_MIN,\n",
    "                                           \n",
    "                                          )\n",
    "        \n",
    "        q_j = q_new[q_new>= min(REFERENCE_CAPACITIES[window_length+j:-nf_steps+j-1])]\n",
    "        q_j = q_j[q_j<= max(REFERENCE_CAPACITIES[window_length+j:-nf_steps+j-1])]\n",
    "        t_interp = time_interpolator(REFERENCE_CAPACITIES[window_length:-nf_steps-1])\n",
    "        if j==0:\n",
    "            q_j0 = q_j\n",
    "        V_pred = prediction_interpolator(q_j)\n",
    "        fig.add_trace(\n",
    "            go.Scatter(\n",
    "                x=time_interpolator(q_j),\n",
    "                y=V_pred,\n",
    "                showlegend=True,\n",
    "                mode=\"lines\",\n",
    "                line_dash=\"dash\",\n",
    "                name = \"Interpolated Predictions\",\n",
    "                marker_color=pallete[i//skip],\n",
    "                opacity=opacity_list[j]\n",
    "            )\n",
    "        )\n",
    "        \n",
    "        fig.add_trace(\n",
    "            go.Scatter(\n",
    "                x=time_interpolator(ref_capacities_wrt_nf),\n",
    "                y=df_pred[0].values*(VOLTAGE_MAX - VOLTAGE_MIN) + VOLTAGE_MIN,\n",
    "                showlegend=True,\n",
    "                mode=\"markers\",\n",
    "                name = f\"Predictions Forecast Horizon {j+1}\",\n",
    "                marker_color=pallete[i//skip],\n",
    "                marker_symbol = symbol_list[j],\n",
    "                marker_size=8,\n",
    "#                 marker_opacity=opacity_list[j]\n",
    "            )\n",
    "        )\n",
    "\n",
    "\n",
    "    odf = original_df[original_df.Qd > q_j0.min()]\n",
    "    odf = odf[odf.Qd < q_j.max()]\n",
    "    fig.add_trace(\n",
    "        go.Scatter(\n",
    "            x=odf['t'],\n",
    "            y=odf['V'],\n",
    "            showlegend=True,\n",
    "            mode=\"lines\",\n",
    "            name = f\"{cell_id} Cycle {current_cycle}\",\n",
    "            line_color=pallete[i//skip]\n",
    "        )\n",
    "    )\n",
    "\n",
    "\n",
    "fig.update_yaxes(title=\"Voltage [V]\", showgrid=True)\n",
    "fig.update_xaxes(title=\"Times (min)\", showgrid=True)\n",
    "fig.update_layout(template=\"simple_white\")"
   ]
  },
  {
   "cell_type": "code",
   "execution_count": null,
   "id": "066fe774",
   "metadata": {},
   "outputs": [],
   "source": [
    "test_cell_id_idx = 0\n",
    "last_cycle = 1\n",
    "current_cycle = 1\n",
    "\n",
    "fig = go.Figure()\n",
    "for i in range(0, len(datasets[\"X_test\"]), batch_size * skip):\n",
    "    \n",
    "    last_cycle = current_cycle\n",
    "    current_cycle = int(datasets[\"X_test\"][i : i + batch_size][0][0][-1]*MAX_CYCLE)\n",
    "    \n",
    "    if last_cycle> current_cycle:\n",
    "        test_cell_id_idx += 1\n",
    "        \n",
    "    cell_id = test_cell_ids[test_cell_id_idx]\n",
    "    original_df = datasets[\"original_test\"]\n",
    "\n",
    "    original_df= original_df[original_df.Cycle==current_cycle]\n",
    "    original_df= original_df[original_df.Cell==cell_id]\n",
    "    original_df = original_df[original_df.I < MAX_DISCHARGE_CURRENT]\n",
    "    original_df = original_df[original_df.I > MIN_DISCHARGE_CURRENT]\n",
    "\n",
    "    original_df['Qd'] = (original_df['Qd']-original_df['Qd'].min())/(original_df['Qd'].max()-original_df['Qd'].min())\n",
    "\n",
    "    if len(original_df)< 2:\n",
    "        continue\n",
    "    q_new = original_df.Qd.values\n",
    "    t_new = original_df['t'].values\n",
    "    time_interpolator = interp1d(x = q_new,  y = t_new, fill_value=\"extrapolate\")\n",
    "    \n",
    "    \n",
    "    for j in range(nf_steps):\n",
    "        df_pred = pd.DataFrame(model.predict(datasets[\"X_test\"][i : i + batch_size], verbose=0)[:, j, 1])\n",
    "    \n",
    "        ref_capacities_wrt_nf = REFERENCE_CAPACITIES[window_length+j:-nf_steps+j-1]\n",
    "\n",
    "        prediction_interpolator = interp1d(x = ref_capacities_wrt_nf, \n",
    "                                           y = df_pred[0].values*(TEMPERATURE_MAX - TEMPERATURE_MIN) + TEMPERATURE_MIN,\n",
    "                                           \n",
    "                                          )\n",
    "        \n",
    "        q_j = q_new[q_new>= min(REFERENCE_CAPACITIES[window_length+j:-nf_steps+j-1])]\n",
    "        q_j = q_j[q_j<= max(REFERENCE_CAPACITIES[window_length+j:-nf_steps+j-1])]\n",
    "        t_interp = time_interpolator(REFERENCE_CAPACITIES[window_length:-nf_steps-1])\n",
    "        if j==0:\n",
    "            q_j0 = q_j\n",
    "        V_pred = prediction_interpolator(q_j)\n",
    "        fig.add_trace(\n",
    "            go.Scatter(\n",
    "                x=time_interpolator(q_j),\n",
    "                y=V_pred,\n",
    "                showlegend=True,\n",
    "                mode=\"lines\",\n",
    "                line_dash=\"dash\",\n",
    "                name = \"Interpolated Predictions\",\n",
    "                marker_color=pallete[i//skip],\n",
    "                opacity=opacity_list[j]\n",
    "            )\n",
    "        )\n",
    "        \n",
    "        fig.add_trace(\n",
    "            go.Scatter(\n",
    "                x=time_interpolator(ref_capacities_wrt_nf),\n",
    "                y=df_pred[0].values*(TEMPERATURE_MAX - TEMPERATURE_MIN) + TEMPERATURE_MIN,\n",
    "                showlegend=True,\n",
    "                mode=\"markers\",\n",
    "                name = f\"Predictions Forecast Horizon {j+1}\",\n",
    "                marker_color=pallete[i//skip],\n",
    "                marker_symbol = symbol_list[j],\n",
    "                marker_size=8,\n",
    "#                 marker_opacity=opacity_list[j]\n",
    "            )\n",
    "        )\n",
    "\n",
    "\n",
    "    odf = original_df[original_df.Qd > q_j0.min()]\n",
    "    odf = odf[odf.Qd < q_j.max()]\n",
    "    fig.add_trace(\n",
    "        go.Scatter(\n",
    "            x=odf['t'],\n",
    "            y=odf['temp'],\n",
    "            showlegend=True,\n",
    "            mode=\"lines\",\n",
    "            name = f\"{cell_id} Cycle {current_cycle}\",\n",
    "            line_color=pallete[i//skip]\n",
    "        )\n",
    "    )\n",
    "\n",
    "\n",
    "fig.update_yaxes(title=\"Temperature [°C]\", showgrid=True)\n",
    "fig.update_xaxes(title=\"Times (min)\", showgrid=True)\n",
    "fig.update_layout(template=\"simple_white\")"
   ]
  },
  {
   "cell_type": "markdown",
   "id": "203822fc",
   "metadata": {},
   "source": [
    "## Metrics"
   ]
  },
  {
   "cell_type": "code",
   "execution_count": null,
   "id": "f9b4cf07",
   "metadata": {},
   "outputs": [],
   "source": [
    "def error_calculation(model, datasets, error_function):\n",
    "    results = {}\n",
    "    batch_size = datasets[\"batch_size\"]\n",
    "    n_outputs = datasets[\"y_train\"].shape[-1]\n",
    "    nf_steps = datasets[\"y_train\"].shape[1]\n",
    "    for dset in [\"train\", \"test\"]:\n",
    "        skip = 200 if dset == \"train\"  else 50\n",
    "        for output in range(n_outputs):\n",
    "            for step in range(nf_steps):\n",
    "                collector = []\n",
    "                for i in range(0, len(datasets[f\"X_{dset}\"]), batch_size*skip):\n",
    "                    true = datasets[f\"y_{dset}\"][i : i + batch_size][:, j, output]\n",
    "                    pred = model.predict(datasets[f\"X_{dset}\"][i : i + batch_size], verbose=0)[:, j, output]\n",
    "                    error = error_function(true, pred)\n",
    "                    collector.append(error)\n",
    "                results[f\"{dset}_output{output}_forecasthorizon{step}\"] =sum(collector)/len(collector)\n",
    "                         \n",
    "    return results"
   ]
  },
  {
   "cell_type": "code",
   "execution_count": null,
   "id": "3742c8ba",
   "metadata": {},
   "outputs": [],
   "source": [
    "root_mean_square_error = lambda y_true, y_pred : np.sqrt(((y_true - y_pred)**2).sum()/len(y_true))\n",
    "mean_absolute_error = lambda y_true, y_pred : abs(y_true - y_pred).sum()/len(y_true)\n",
    "mean_absolute_percent_error = lambda y_true, y_pred : (abs(y_true - y_pred)/y_true).sum()/len(y_true)"
   ]
  },
  {
   "cell_type": "code",
   "execution_count": null,
   "id": "a6724c71",
   "metadata": {},
   "outputs": [],
   "source": [
    "error_calculation(model, datasets, error_function=mean_absolute_error)"
   ]
  }
 ],
 "metadata": {
  "kernelspec": {
   "display_name": "Python 3.10.6 ('10701')",
   "language": "python",
   "name": "python3"
  },
  "language_info": {
   "codemirror_mode": {
    "name": "ipython",
    "version": 3
   },
   "file_extension": ".py",
   "mimetype": "text/x-python",
   "name": "python",
   "nbconvert_exporter": "python",
   "pygments_lexer": "ipython3",
   "version": "3.10.6"
  },
  "vscode": {
   "interpreter": {
    "hash": "63dcb1742ad588d72fa93718ba23fdbf2e75f9bb2496cf77f8dc8d00f14cc3b8"
   }
  }
 },
 "nbformat": 4,
 "nbformat_minor": 5
}
