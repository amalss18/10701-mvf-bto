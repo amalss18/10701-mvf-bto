{
 "cells": [
  {
   "cell_type": "code",
   "execution_count": null,
   "id": "2d2f7bac",
   "metadata": {},
   "outputs": [],
   "source": [
    "%load_ext autoreload\n",
    "%autoreload 2"
   ]
  },
  {
   "cell_type": "code",
   "execution_count": null,
   "id": "9821c3a9",
   "metadata": {},
   "outputs": [],
   "source": [
    "from mvf_bto.data_loading import load_data\n",
    "from mvf_bto.constants import * \n",
    "from mvf_bto.models.baseline_lstm import BaselineLSTM\n",
    "from mvf_bto.preprocessing import create_discharge_inputs\n",
    "from tensorflow.keras.callbacks import EarlyStopping\n",
    "from tensorflow.keras.metrics import MeanSquaredError\n",
    "\n",
    "import numpy as np\n",
    "import pandas as pd\n",
    "import plotly\n",
    "import plotly.graph_objects as go"
   ]
  },
  {
   "cell_type": "markdown",
   "id": "39585647",
   "metadata": {},
   "source": [
    "## Loading Data"
   ]
  },
  {
   "cell_type": "code",
   "execution_count": null,
   "id": "25011aae",
   "metadata": {},
   "outputs": [],
   "source": [
    "# data_path = \"/Users/anoushkabhutani/PycharmProjects/10701-mvf-bto/data/2017-05-12_batchdata_updated_struct_errorcorrect.mat\"\n",
    "data_path = \"/home/amalss/Documents/CMU/Courses/10701/project/data/2017-05-12_batchdata_updated_struct_errorcorrect.mat\"\n"
   ]
  },
  {
   "cell_type": "code",
   "execution_count": null,
   "id": "cdb39ad4",
   "metadata": {},
   "outputs": [],
   "source": [
    "data = load_data(file_path=data_path, num_cells=3)"
   ]
  },
  {
   "cell_type": "markdown",
   "id": "60797a1a",
   "metadata": {},
   "source": [
    "## Preprocessing to create model inputs and targets"
   ]
  },
  {
   "cell_type": "code",
   "execution_count": null,
   "id": "2d000582",
   "metadata": {},
   "outputs": [],
   "source": [
    "train_split = 0.7\n",
    "test_split = 0.2\n",
    "# by default uses validation_split = 1 - (train_split + test_split)\n"
   ]
  },
  {
   "cell_type": "code",
   "execution_count": null,
   "id": "6f5e04b6-3d63-4bfa-a029-81d1eeccf0df",
   "metadata": {},
   "outputs": [],
   "source": [
    "data.keys()"
   ]
  },
  {
   "cell_type": "code",
   "execution_count": null,
   "id": "a8889426",
   "metadata": {},
   "outputs": [],
   "source": [
    "datasets = create_discharge_inputs(data, train_split, test_split, forecast_horizon=3, history_window=6)"
   ]
  },
  {
   "cell_type": "markdown",
   "id": "bf6d54f1",
   "metadata": {},
   "source": [
    "## Train Model"
   ]
  },
  {
   "cell_type": "code",
   "execution_count": null,
   "id": "5cc470da",
   "metadata": {},
   "outputs": [],
   "source": [
    "window_length = datasets[\"X_train\"].shape[1]\n",
    "n_features = datasets[\"X_train\"].shape[2]\n",
    "batch_input_shape = (datasets[\"batch_size\"], window_length, n_features)\n",
    "n_outputs = datasets[\"y_train\"].shape[-1]\n",
    "nf_steps = datasets[\"y_train\"].shape[1]\n",
    "\n",
    "y = datasets[\"y_train\"][:, 0, 0]\n",
    "# print(y)\n",
    "idx = y < 2.9\n",
    "weights = np.ones_like(y) * 1\n",
    "weights[idx] = 2\n",
    "\n"
   ]
  },
  {
   "cell_type": "code",
   "execution_count": null,
   "id": "67f3fadb",
   "metadata": {},
   "outputs": [],
   "source": [
    "model = BaselineLSTM(batch_input_shape=batch_input_shape, n_outputs=n_outputs, nf_steps=nf_steps)"
   ]
  },
  {
   "cell_type": "code",
   "execution_count": null,
   "id": "bbeabde3",
   "metadata": {},
   "outputs": [],
   "source": [
    "model.compile(optimizer=\"adam\", loss=\"mse\", metrics=[MeanSquaredError()])\n",
    "\n",
    "es = EarlyStopping(\n",
    "    monitor=\"val_mean_squared_error\",\n",
    "    min_delta=0,\n",
    "    patience=10,\n",
    "    verbose=1,\n",
    "    mode=\"auto\",\n",
    "    restore_best_weights=True,\n",
    ")\n",
    "\n",
    "history = model.fit(\n",
    "    datasets[\"X_train\"],\n",
    "    datasets[\"y_train\"],\n",
    "    validation_data=(datasets[\"X_val\"], datasets[\"y_val\"]),\n",
    "    epochs=250,\n",
    "    batch_size=datasets[\"batch_size\"],\n",
    "    shuffle=False,\n",
    "    callbacks=[es],\n",
    "    verbose=1,\n",
    "    sample_weight=weights\n",
    ")"
   ]
  },
  {
   "cell_type": "code",
   "execution_count": null,
   "id": "d14c1f0b",
   "metadata": {},
   "outputs": [],
   "source": [
    "fig = go.Figure()\n",
    "fig.add_trace(\n",
    "    go.Scatter(\n",
    "        x=np.linspace(1, 50),\n",
    "        y=history.history[\"loss\"],\n",
    "        showlegend=False,\n",
    "        mode=\"markers+lines\",\n",
    "    )\n",
    ")\n",
    "fig.update_xaxes(title=\"Epochs\")\n",
    "fig.update_yaxes(title=\"Loss (MSE)\")\n",
    "fig.update_layout(height=500)"
   ]
  },
  {
   "cell_type": "markdown",
   "id": "feec5843",
   "metadata": {
    "tags": []
   },
   "source": [
    "## Parity Plot of Training Error"
   ]
  },
  {
   "cell_type": "code",
   "execution_count": null,
   "id": "83f01225",
   "metadata": {},
   "outputs": [],
   "source": [
    "# random plotting traing error at some interval = skip to not make the plot rendering too slow\n",
    "batch_size = datasets[\"batch_size\"]\n",
    "skip = 70\n",
    "\n",
    "fig = go.Figure()\n",
    "fig.add_trace(go.Scatter(x=[0, 1], y=[0, 1], showlegend=False, mode=\"markers+lines\"))\n",
    "for i in range(0, len(datasets[\"X_train\"]), batch_size * skip):\n",
    "    df_pred = pd.DataFrame(model.predict(datasets[\"X_train\"][i : i + batch_size], verbose=0)[:, :, 0])\n",
    "    df_train = pd.DataFrame(datasets[\"y_train\"][i : i + batch_size][:, :, 0])\n",
    "\n",
    "    fig.add_trace(\n",
    "        go.Scatter(\n",
    "            x=df_pred[0].values,\n",
    "            y=df_train[0].values,\n",
    "            showlegend=False,\n",
    "            mode=\"markers+lines\",\n",
    "        )\n",
    "    )\n",
    "\n",
    "    #t+1 predictions\n",
    "    # fig.add_trace(\n",
    "    #     go.Scatter(\n",
    "    #         x=df_pred[1].values,\n",
    "    #         y=df_train[1].values,\n",
    "    #         showlegend=False,\n",
    "    #         mode=\"markers+lines\",\n",
    "    #     )\n",
    "    # )\n",
    "\n",
    "fig.update_yaxes(title=\"Normalized Voltage Target\")\n",
    "fig.update_xaxes(title=\"Normalized Voltage Prediction\")\n",
    "fig.update_layout(height=500)"
   ]
  },
  {
   "cell_type": "code",
   "execution_count": null,
   "id": "32217966",
   "metadata": {},
   "outputs": [],
   "source": [
    "fig = go.Figure()\n",
    "fig.add_trace(go.Scatter(x=[0, 1], y=[0, 1], showlegend=False, mode=\"markers+lines\"))\n",
    "for i in range(0, len(datasets[\"X_train\"]), batch_size * skip):\n",
    "    df_pred = pd.DataFrame(model.predict(datasets[\"X_train\"][i : i + batch_size], verbose=0)[:, :, 1])\n",
    "    df_train = pd.DataFrame(datasets[\"y_train\"][i : i + batch_size][:, :, 1])\n",
    "    fig.add_trace(\n",
    "        go.Scatter(\n",
    "            x=df_pred[0].values,\n",
    "            y=df_train[0].values,\n",
    "            showlegend=False,\n",
    "            mode=\"markers+lines\",\n",
    "        )\n",
    "    )\n",
    "\n",
    "fig.update_yaxes(title=\"Normalized Temperature Target\")\n",
    "fig.update_xaxes(title=\"Normalized Temperature Prediction\")\n",
    "fig.update_layout(height=500)"
   ]
  },
  {
   "cell_type": "code",
   "execution_count": null,
   "id": "89db9f99-7201-4422-aae1-604f280116e0",
   "metadata": {},
   "outputs": [],
   "source": [
    "skip = 20\n",
    "\n",
    "pallete = plotly.colors.qualitative.Dark24*100\n",
    "\n",
    "fig = go.Figure()\n",
    "for i in range(0, len(datasets[\"X_train\"]), batch_size * skip):\n",
    "    df_true = pd.DataFrame(datasets[\"y_train\"][i : i + batch_size][:, 0, 0])\n",
    "    for j in range(nf_steps):\n",
    "        df_pred = pd.DataFrame(model.predict(datasets[\"X_train\"][i : i + batch_size], verbose=0)[:, j, 0])\n",
    "        # df_pred_t2 = pd.DataFrame(model.predict(datasets[\"X_test\"][i : i + batch_size], verbose=0)[:, 1, 0])\n",
    "        # print(datasets[\"X_train\"][i])\n",
    "        fig.add_trace(\n",
    "            go.Scatter(\n",
    "                x=REFERENCE_CAPACITIES[window_length:-nf_steps],\n",
    "                y=df_pred[0].values*(VOLTAGE_MAX - VOLTAGE_MIN) + VOLTAGE_MIN,\n",
    "                showlegend=True,\n",
    "                mode=\"markers\",\n",
    "                name = f\"Predicted Curve t %d {i+1}, %f\"%(j, datasets[\"X_train\"][i][0, -1]),\n",
    "                marker_color=pallete[int((1.5*j)*(i//skip))]\n",
    "            )\n",
    "        )\n",
    "       \n",
    "    fig.add_trace(\n",
    "        go.Scatter(\n",
    "            x=REFERENCE_CAPACITIES[window_length:-nf_steps],\n",
    "            y=df_true[0].values*(VOLTAGE_MAX - VOLTAGE_MIN) + VOLTAGE_MIN,\n",
    "            showlegend=True,\n",
    "            mode=\"lines+markers\",\n",
    "            name = f\"True Curve {i+1}\",\n",
    "            line_color=pallete[i//skip]\n",
    "        )\n",
    "    )\n",
    "\n",
    "fig.update_yaxes(title=\"Voltage [V]\")\n",
    "fig.update_xaxes(title=\"State of Charge (Normalized Capacity)\")\n",
    "fig.update_layout(height=500)"
   ]
  },
  {
   "cell_type": "markdown",
   "id": "ad2d8e25",
   "metadata": {},
   "source": [
    "## Parity Plot of Test Error"
   ]
  },
  {
   "cell_type": "code",
   "execution_count": null,
   "id": "c8d98a13",
   "metadata": {},
   "outputs": [],
   "source": [
    "skip = 20\n",
    "\n",
    "fig = go.Figure()\n",
    "fig.add_trace(go.Scatter(x=[0, 1], y=[0, 1], showlegend=False, mode=\"markers+lines\"))\n",
    "for i in range(0, len(datasets[\"X_test\"]), batch_size * skip):\n",
    "    df_pred = pd.DataFrame(model.predict(datasets[\"X_test\"][i : i + batch_size], verbose=0)[:, :, 0])\n",
    "    df_train = pd.DataFrame(datasets[\"y_test\"][i : i + batch_size][:, :, 0])\n",
    "    fig.add_trace(\n",
    "        go.Scatter(\n",
    "            x=df_pred[0].values,\n",
    "            y=df_train[0].values,\n",
    "            showlegend=False,\n",
    "            mode=\"markers+lines\",\n",
    "        )\n",
    "    )\n",
    "\n",
    "fig.update_yaxes(title=\"Normalized Voltage Target\")\n",
    "fig.update_xaxes(title=\"Normalized Voltage Prediction\")\n",
    "fig.update_layout(height=500)"
   ]
  },
  {
   "cell_type": "code",
   "execution_count": null,
   "id": "38f2bba0",
   "metadata": {},
   "outputs": [],
   "source": [
    "fig = go.Figure()\n",
    "fig.add_trace(go.Scatter(x=[0, 1], y=[0, 1], showlegend=False, mode=\"markers+lines\"))\n",
    "for i in range(0, len(datasets[\"X_test\"]), batch_size * skip):\n",
    "    df_pred = pd.DataFrame(model.predict(datasets[\"X_test\"][i : i + batch_size], verbose=0)[:, :, 1])\n",
    "    df_train = pd.DataFrame(datasets[\"y_test\"][i : i + batch_size][:, :, 1])\n",
    "    fig.add_trace(\n",
    "        go.Scatter(\n",
    "            x=df_pred[0].values,\n",
    "            y=df_train[0].values,\n",
    "            showlegend=False,\n",
    "            mode=\"markers+lines\",\n",
    "        )\n",
    "    )\n",
    "\n",
    "fig.update_yaxes(title=\"Normalized Voltage Target\")\n",
    "fig.update_xaxes(title=\"Normalized Voltage Prediction\")\n",
    "fig.update_layout(height=500)"
   ]
  },
  {
   "cell_type": "markdown",
   "id": "de10e402",
   "metadata": {},
   "source": [
    "## True vs Predicted Traces (Test Set)"
   ]
  },
  {
   "cell_type": "code",
   "execution_count": null,
   "id": "7001f271",
   "metadata": {},
   "outputs": [],
   "source": [
    "skip = 10\n",
    "\n",
    "pallete = plotly.colors.qualitative.Dark24*100\n",
    "\n",
    "fig = go.Figure()\n",
    "for i in range(0, len(datasets[\"X_test\"]), batch_size * skip):\n",
    "    df_true = pd.DataFrame(datasets[\"y_test\"][i : i + batch_size][:, 0, 0])\n",
    "    for j in range(nf_steps):\n",
    "        df_pred = pd.DataFrame(model.predict(datasets[\"X_test\"][i : i + batch_size], verbose=0)[:, j, 0])\n",
    "        x = model.predict(datasets[\"X_test\"][i : i + batch_size], verbose=0)\n",
    "        fig.add_trace(\n",
    "            go.Scatter(\n",
    "                x=REFERENCE_CAPACITIES[window_length:-nf_steps],\n",
    "                y=df_pred[0].values*(VOLTAGE_MAX - VOLTAGE_MIN) + VOLTAGE_MIN,\n",
    "                showlegend=True,\n",
    "                mode=\"markers\",\n",
    "                name = f\"Predicted Curve t %d {i+1}\"%j,\n",
    "                marker_color=pallete[int((1.)*(i//skip))]\n",
    "            )\n",
    "        )\n",
    "    fig.add_trace(\n",
    "        go.Scatter(\n",
    "            x=REFERENCE_CAPACITIES[window_length:-nf_steps],\n",
    "            y=df_true[0].values*(VOLTAGE_MAX - VOLTAGE_MIN) + VOLTAGE_MIN,\n",
    "            showlegend=True,\n",
    "            mode=\"lines+markers\",\n",
    "            name = f\"True Curve {i+1}\",\n",
    "            line_color=pallete[i//skip]\n",
    "        )\n",
    "    )\n",
    "\n",
    "fig.update_yaxes(title=\"Voltage [V]\")\n",
    "fig.update_xaxes(title=\"State of Charge (Normalized Capacity)\")\n",
    "fig.update_layout(height=500)"
   ]
  },
  {
   "cell_type": "code",
   "execution_count": null,
   "id": "066fe774",
   "metadata": {},
   "outputs": [],
   "source": [
    "fig = go.Figure()\n",
    "for i in range(0, len(datasets[\"X_test\"]), batch_size * skip):\n",
    "    df_true = pd.DataFrame(datasets[\"y_test\"][i : i + batch_size][:, 0, 1])\n",
    "    for j in range(nf_steps):\n",
    "        df_pred = pd.DataFrame(model.predict(datasets[\"X_test\"][i : i + batch_size], verbose=0)[:, j, 1])\n",
    "        fig.add_trace(\n",
    "            go.Scatter(\n",
    "                x=REFERENCE_CAPACITIES[window_length:-nf_steps],\n",
    "                y=df_pred[0].values*(TEMPERATURE_MAX - TEMPERATURE_MIN) + TEMPERATURE_MIN,\n",
    "                showlegend=True,\n",
    "                mode=\"markers\",\n",
    "                name = f\"Predicted Curve t%d {i+1}\"%j,\n",
    "                marker_color=pallete[int((1.0)*(i//skip))]\n",
    "            )\n",
    "        )\n",
    "    \n",
    "    fig.add_trace(\n",
    "        go.Scatter(\n",
    "            x=REFERENCE_CAPACITIES[window_length:-nf_steps],\n",
    "            y=df_true[0].values*(TEMPERATURE_MAX - TEMPERATURE_MIN) + TEMPERATURE_MIN,\n",
    "            showlegend=True,\n",
    "            mode=\"lines+markers\",\n",
    "            name = f\"True Curve {i+1}\",\n",
    "            line_color=pallete[i//skip]\n",
    "        )\n",
    "    )\n",
    "\n",
    "fig.update_yaxes(title=\"Temperature [°C]\")\n",
    "fig.update_xaxes(title=\"State of Charge (Normalized Capacity)\")\n",
    "fig.update_layout(height=500)"
   ]
  },
  {
   "cell_type": "code",
   "execution_count": null,
   "id": "d362f99f-88f6-484e-9625-772658edfb90",
   "metadata": {},
   "outputs": [],
   "source": []
  }
 ],
 "metadata": {
  "kernelspec": {
   "display_name": "Python 3 (ipykernel)",
   "language": "python",
   "name": "python3"
  },
  "language_info": {
   "codemirror_mode": {
    "name": "ipython",
    "version": 3
   },
   "file_extension": ".py",
   "mimetype": "text/x-python",
   "name": "python",
   "nbconvert_exporter": "python",
   "pygments_lexer": "ipython3",
   "version": "3.10.4"
  },
  "vscode": {
   "interpreter": {
    "hash": "916dbcbb3f70747c44a77c7bcd40155683ae19c65e1c03b4aa3499c5328201f1"
   }
  }
 },
 "nbformat": 4,
 "nbformat_minor": 5
}
