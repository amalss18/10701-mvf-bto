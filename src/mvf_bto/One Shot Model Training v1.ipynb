{
 "cells": [
  {
   "cell_type": "code",
   "execution_count": null,
   "id": "2d2f7bac",
   "metadata": {},
   "outputs": [],
   "source": [
    "%load_ext autoreload\n",
    "%autoreload 2"
   ]
  },
  {
   "cell_type": "code",
   "execution_count": null,
   "id": "9821c3a9",
   "metadata": {},
   "outputs": [],
   "source": [
    "from mvf_bto.data_loading import load_data\n",
    "from mvf_bto.constants import * \n",
    "from mvf_bto.models.one_shot import OneShot\n",
    "from mvf_bto.preprocessing.one_shot import create_discharge_inputs, REFERENCE_DISCHARGE_CAPACITIES\n",
    "\n",
    "from tensorflow.keras.callbacks import EarlyStopping\n",
    "from tensorflow.keras.metrics import MeanSquaredError\n",
    "import tensorflow as tf\n",
    "from scipy.interpolate import interp1d\n",
    "\n",
    "import numpy as np\n",
    "import pandas as pd\n",
    "import plotly\n",
    "import plotly.graph_objects as go"
   ]
  },
  {
   "cell_type": "markdown",
   "id": "39585647",
   "metadata": {},
   "source": [
    "## Loading Data"
   ]
  },
  {
   "cell_type": "code",
   "execution_count": null,
   "id": "25011aae",
   "metadata": {},
   "outputs": [],
   "source": [
    "data_path = \"/Users/anoushkabhutani/PycharmProjects/10701-mvf-bto/data/2017-05-12_batchdata_updated_struct_errorcorrect.mat\"\n",
    "# data_path = \"/Users/mac/Desktop/CMU/10701MachineLearning/project/10701-mvf-bto-backup/data/2017-05-12_batchdata_updated_struct_errorcorrect.mat\""
   ]
  },
  {
   "cell_type": "code",
   "execution_count": null,
   "id": "cdb39ad4",
   "metadata": {},
   "outputs": [],
   "source": [
    "data = load_data(file_path=data_path, num_cells=40)"
   ]
  },
  {
   "cell_type": "markdown",
   "id": "bf0b10d9",
   "metadata": {},
   "source": [
    "## Preprocess Datasets"
   ]
  },
  {
   "cell_type": "code",
   "execution_count": null,
   "id": "0982d62b",
   "metadata": {
    "scrolled": true
   },
   "outputs": [],
   "source": [
    "train_split = 0.7\n",
    "test_split = 0.2\n",
    "history_window = 16\n",
    "\n",
    "datasets = create_discharge_inputs(data, train_split, test_split, history_window=history_window)"
   ]
  },
  {
   "cell_type": "markdown",
   "id": "54c8ddd2",
   "metadata": {},
   "source": [
    "## Model Training"
   ]
  },
  {
   "cell_type": "code",
   "execution_count": null,
   "id": "0c4086d2",
   "metadata": {},
   "outputs": [],
   "source": [
    "n_features = datasets['X_train'].shape[-1]\n",
    "output_dimension = datasets['y_train'].shape[-1]\n",
    "input_shape=(history_window, n_features)"
   ]
  },
  {
   "cell_type": "code",
   "execution_count": null,
   "id": "934f7497",
   "metadata": {},
   "outputs": [],
   "source": [
    "def custom_loss_function(y_true, y_pred):   \n",
    "    split = y_true.shape[-1]//2\n",
    "    return tf.reduce_mean((y_true[:,:split]-y_pred[:,:split])**2 + 10*(y_true[:,split:]-y_pred[:,split:])**2, axis=-1)\n",
    "\n",
    "\n",
    "model = OneShot(input_shape=input_shape, n_outputs=output_dimension)\n",
    "\n",
    "es = EarlyStopping(\n",
    "    monitor=\"val_mean_squared_error\",\n",
    "    min_delta=0,\n",
    "    patience=80,\n",
    "    verbose=1,\n",
    "    mode=\"min\",\n",
    "    restore_best_weights=True,\n",
    ")\n",
    "\n",
    "lr_schedule = tf.keras.optimizers.schedules.ExponentialDecay(\n",
    "    initial_learning_rate=0.01,\n",
    "    decay_steps=1000,\n",
    "    decay_rate=0.96)\n",
    "optimizer = tf.keras.optimizers.Adam(learning_rate=lr_schedule)\n",
    "\n",
    "model.compile(optimizer=optimizer,\n",
    "              loss=custom_loss_function, \n",
    "              metrics=[MeanSquaredError()])\n",
    "\n",
    "history = model.fit(\n",
    "    datasets[\"X_train\"],\n",
    "    datasets[\"y_train\"],\n",
    "    validation_data=(datasets[\"X_val\"], datasets[\"y_val\"]),\n",
    "    epochs=500,\n",
    "    callbacks=[es],\n",
    "    batch_size=128,\n",
    "    shuffle=False,\n",
    "    verbose=1,\n",
    "\n",
    ")"
   ]
  },
  {
   "cell_type": "markdown",
   "id": "ab912e67",
   "metadata": {},
   "source": [
    "## Parity Plots"
   ]
  },
  {
   "cell_type": "code",
   "execution_count": null,
   "id": "ceb2f076",
   "metadata": {},
   "outputs": [],
   "source": [
    "skip = 1000\n",
    "yhat = model.predict(datasets['X_test'])\n",
    "y_test = datasets['y_test']\n",
    "fig = go.Figure()\n",
    "fig.add_trace(go.Scatter(x = y_test[:, :y_test.shape[-1]//2].flatten()[::skip],\n",
    "                         y= yhat[:, :y_test.shape[-1]//2].flatten()[::skip], mode=\"markers\", showlegend=False))\n",
    "fig.add_trace(go.Scatter(x = [0,1], y=[0,1], mode=\"lines\", showlegend=False))\n",
    "fig.update_xaxes(title='Normalize Voltage Target')\n",
    "fig.update_yaxes(title='Normalize Voltage Prediction')"
   ]
  },
  {
   "cell_type": "code",
   "execution_count": null,
   "id": "bcc4f6df",
   "metadata": {},
   "outputs": [],
   "source": [
    "yhat = model.predict(datasets['X_test'])\n",
    "y_test = datasets['y_test']\n",
    "fig = go.Figure()\n",
    "fig.add_trace(go.Scatter(x = y_test[:, y_test.shape[-1]//2:].flatten()[::skip],\n",
    "                         y= yhat[:, y_test.shape[-1]//2:].flatten()[::skip], mode=\"markers\", showlegend=False))\n",
    "fig.add_trace(go.Scatter(x = [0,1], y=[0,1], mode=\"lines\", showlegend=False))\n",
    "fig.update_xaxes(title='Normalize Temperature Target')\n",
    "fig.update_yaxes(title='Normalize Temperature Prediction')"
   ]
  },
  {
   "cell_type": "markdown",
   "id": "d617515e",
   "metadata": {},
   "source": [
    "## Predicted vs Actual Traces"
   ]
  },
  {
   "cell_type": "code",
   "execution_count": null,
   "id": "16e56f3d",
   "metadata": {},
   "outputs": [],
   "source": [
    "pallete = plotly.colors.qualitative.Dark24 + plotly.colors.qualitative.T10\n",
    "pallete = pallete*70000"
   ]
  },
  {
   "cell_type": "code",
   "execution_count": null,
   "id": "f64aab18",
   "metadata": {},
   "outputs": [],
   "source": [
    "\n",
    "labels = list(datasets['original_test'].groupby([\"Cycle\", \"Cell\"]).groups.keys())\n",
    "fig = go.Figure()\n",
    "for i in range(10,len(yhat), 1000):\n",
    "    fig.add_trace(go.Scatter(x = datasets['q_eval_test'][i], marker_color=pallete[i], \n",
    "                             name = f\"Cell {labels[i][1]} Cycle {labels[i][0]}\",\n",
    "                             y=y_test[i][:y_test.shape[-1]//2], mode=\"lines\"))\n",
    "    fig.add_trace(go.Scatter(x = datasets['q_eval_test'][i], line_color=pallete[i], name = \"Prediction\",\n",
    "                             y=yhat[i][:yhat.shape[-1]//2], mode=\"markers\"))"
   ]
  },
  {
   "cell_type": "code",
   "execution_count": null,
   "id": "785e0811",
   "metadata": {},
   "outputs": [],
   "source": [
    "fig.update_xaxes(title='Capacity [A]')\n",
    "fig.update_yaxes(title='Voltage [V]')"
   ]
  },
  {
   "cell_type": "code",
   "execution_count": null,
   "id": "72cf64aa",
   "metadata": {},
   "outputs": [],
   "source": [
    "yhat = model.predict(datasets['X_test'])\n",
    "y_test = datasets['y_test']\n",
    "labels = list(datasets['original_test'].groupby([\"Cycle\", \"Cell\"]).groups.keys())\n",
    "fig = go.Figure()\n",
    "for i in range(10,len(yhat), 1000):\n",
    "    fig.add_trace(go.Scatter(x = datasets['q_eval_test'][i], marker_color=pallete[i], \n",
    "                             name = f\"Cell {labels[i][1]} Cycle {labels[i][0]}\",\n",
    "                             y=y_test[i][y_test.shape[-1]//2:], mode=\"lines\"))\n",
    "    fig.add_trace(go.Scatter(x = datasets['q_eval_test'][i], line_color=pallete[i], name = \"Prediction\",\n",
    "                             y=yhat[i][yhat.shape[-1]//2:], mode=\"markers\"))"
   ]
  },
  {
   "cell_type": "code",
   "execution_count": null,
   "id": "a5aa92ae",
   "metadata": {},
   "outputs": [],
   "source": [
    "fig.update_xaxes(title='Capacity [A]')\n",
    "fig.update_yaxes(title='Temperature [degC]')"
   ]
  },
  {
   "cell_type": "code",
   "execution_count": null,
   "id": "ff650596",
   "metadata": {},
   "outputs": [],
   "source": []
  }
 ],
 "metadata": {
  "kernelspec": {
   "display_name": "Python 3 (ipykernel)",
   "language": "python",
   "name": "python3"
  },
  "language_info": {
   "codemirror_mode": {
    "name": "ipython",
    "version": 3
   },
   "file_extension": ".py",
   "mimetype": "text/x-python",
   "name": "python",
   "nbconvert_exporter": "python",
   "pygments_lexer": "ipython3",
   "version": "3.9.13"
  },
  "vscode": {
   "interpreter": {
    "hash": "63dcb1742ad588d72fa93718ba23fdbf2e75f9bb2496cf77f8dc8d00f14cc3b8"
   }
  }
 },
 "nbformat": 4,
 "nbformat_minor": 5
}
