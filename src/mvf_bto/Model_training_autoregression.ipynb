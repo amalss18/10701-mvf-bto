{
 "cells": [
  {
   "cell_type": "code",
   "execution_count": 1,
   "id": "2d2f7bac",
   "metadata": {},
   "outputs": [],
   "source": [
    "%load_ext autoreload\n",
    "%autoreload 2"
   ]
  },
  {
   "cell_type": "code",
   "execution_count": 2,
   "id": "9821c3a9",
   "metadata": {},
   "outputs": [
    {
     "name": "stderr",
     "output_type": "stream",
     "text": [
      "2022-11-24 17:19:12.887775: W tensorflow/stream_executor/platform/default/dso_loader.cc:64] Could not load dynamic library 'libcudart.so.11.0'; dlerror: libcudart.so.11.0: cannot open shared object file: No such file or directory\n",
      "2022-11-24 17:19:12.887857: I tensorflow/stream_executor/cuda/cudart_stub.cc:29] Ignore above cudart dlerror if you do not have a GPU set up on your machine.\n"
     ]
    }
   ],
   "source": [
    "from mvf_bto.data_loading import load_data\n",
    "from mvf_bto.constants import * \n",
    "from mvf_bto.models.baseline_lstm import BaselineLSTM, LSTMAutoregression\n",
    "from mvf_bto.preprocessing import create_discharge_inputs\n",
    "from tensorflow.keras.callbacks import EarlyStopping\n",
    "from tensorflow.keras.metrics import MeanSquaredError\n",
    "from scipy.interpolate import interp1d\n",
    "\n",
    "import numpy as np\n",
    "import pandas as pd\n",
    "import plotly\n",
    "import plotly.graph_objects as go"
   ]
  },
  {
   "cell_type": "markdown",
   "id": "39585647",
   "metadata": {},
   "source": [
    "## Loading Data"
   ]
  },
  {
   "cell_type": "code",
   "execution_count": 3,
   "id": "25011aae",
   "metadata": {},
   "outputs": [],
   "source": [
    "data_path = \"/home/amalss/Documents/CMU/Courses/10701/project/data/2017-05-12_batchdata_updated_struct_errorcorrect.mat\"\n",
    "# data_path = \"/Users/anoushkabhutani/PycharmProjects/10701-mvf-bto/data/2017-05-12_batchdata_updated_struct_errorcorrect.mat\"\n",
    "# data_path = \"/Users/mac/Desktop/CMU/10701MachineLearning/project/10701-mvf-bto-backup/data/2017-05-12_batchdata_updated_struct_errorcorrect.mat\""
   ]
  },
  {
   "cell_type": "code",
   "execution_count": 4,
   "id": "cdb39ad4",
   "metadata": {},
   "outputs": [
    {
     "name": "stderr",
     "output_type": "stream",
     "text": [
      "100%|██████████████████████████████████████████████████████████████████████████████████████████████████████████████████████████████████████| 4/4 [00:47<00:00, 11.90s/it]\n"
     ]
    }
   ],
   "source": [
    "data = load_data(file_path=data_path, num_cells=4)"
   ]
  },
  {
   "cell_type": "markdown",
   "id": "60797a1a",
   "metadata": {},
   "source": [
    "## Preprocessing to create model inputs and targets"
   ]
  },
  {
   "cell_type": "code",
   "execution_count": 5,
   "id": "2d000582",
   "metadata": {},
   "outputs": [],
   "source": [
    "train_split = 0.7\n",
    "test_split = 0.2\n",
    "# by default uses validation_split = 1 - (train_split + test_split)"
   ]
  },
  {
   "cell_type": "code",
   "execution_count": 6,
   "id": "a8889426",
   "metadata": {},
   "outputs": [
    {
     "name": "stdout",
     "output_type": "stream",
     "text": [
      " Data for cell b1c3 is corrupted. Skipping cell.\n"
     ]
    },
    {
     "name": "stderr",
     "output_type": "stream",
     "text": [
      "100%|███████████████████████████████████████████████████████████████████████████████████████████████████████████████████████████████| 1178/1178 [00:10<00:00, 109.01it/s]\n",
      "100%|███████████████████████████████████████████████████████████████████████████████████████████████████████████████████████████████| 1189/1189 [00:09<00:00, 123.79it/s]\n",
      "100%|███████████████████████████████████████████████████████████████████████████████████████████████████████████████████████████████| 1176/1176 [00:10<00:00, 116.46it/s]\n"
     ]
    }
   ],
   "source": [
    "datasets = create_discharge_inputs(data, train_split, test_split, forecast_horizon=9, history_window=10)\n",
    "# Q_eval = np.linspace(0, 1, "
   ]
  },
  {
   "cell_type": "markdown",
   "id": "bf6d54f1",
   "metadata": {},
   "source": [
    "## Train Model"
   ]
  },
  {
   "cell_type": "code",
   "execution_count": 7,
   "id": "5cc470da",
   "metadata": {},
   "outputs": [],
   "source": [
    "window_length = datasets[\"X_train\"].shape[1]\n",
    "n_features = datasets[\"X_train\"].shape[2]\n",
    "batch_input_shape = (datasets[\"batch_size\"], window_length, n_features)\n",
    "n_outputs = datasets[\"y_train\"].shape[-1]\n",
    "nf_steps = datasets[\"y_train\"].shape[1]\n",
    "# y = datasets[\"y_train\"][:, 0, 0]\n",
    "# idx = y < 2.9\n",
    "# weights = np.ones_like(y) * 1\n",
    "# weights[idx] = 2"
   ]
  },
  {
   "cell_type": "code",
   "execution_count": 8,
   "id": "9d0c52ab-3272-4b1b-9d04-3a6000cd82a5",
   "metadata": {},
   "outputs": [
    {
     "name": "stdout",
     "output_type": "stream",
     "text": [
      "(1177, 9, 4)\n",
      "1177\n"
     ]
    }
   ],
   "source": [
    "print(datasets[\"X_train\"].shape)\n",
    "print(datasets[\"y_train\"].shape[0])"
   ]
  },
  {
   "cell_type": "code",
   "execution_count": 20,
   "id": "67f3fadb",
   "metadata": {},
   "outputs": [],
   "source": [
    "# model = BaselineLSTM(batch_input_shape=batch_input_shape, n_outputs=n_outputs, nf_steps=nf_steps)\n",
    "from mvf_bto.models.baseline_lstm import BaselineLSTM, LSTMAutoregression\n",
    "\n",
    "model = LSTMAutoregression(n_outputs=n_outputs, out_steps=9)"
   ]
  },
  {
   "cell_type": "code",
   "execution_count": 21,
   "id": "bbeabde3",
   "metadata": {},
   "outputs": [
    {
     "name": "stdout",
     "output_type": "stream",
     "text": [
      "Model: \"lstm_autoregression_1\"\n",
      "_________________________________________________________________\n",
      " Layer (type)                Output Shape              Param #   \n",
      "=================================================================\n",
      " lstm_cell_1 (LSTMCell)      multiple                  4736      \n",
      "                                                                 \n",
      " rnn_1 (RNN)                 multiple                  4736      \n",
      "                                                                 \n",
      " dense_2 (Dense)             multiple                  1056      \n",
      "                                                                 \n",
      " dense_3 (Dense)             multiple                  264       \n",
      "                                                                 \n",
      " dense_4 (Dense)             multiple                  36        \n",
      "                                                                 \n",
      "=================================================================\n",
      "Total params: 6,092\n",
      "Trainable params: 6,092\n",
      "Non-trainable params: 0\n",
      "_________________________________________________________________\n",
      "Epoch 1/250\n",
      "1177/1177 [==============================] - 11s 7ms/step - loss: 0.0105 - mean_squared_error: 0.4660 - val_loss: 0.0051 - val_mean_squared_error: 0.5152\n",
      "Epoch 2/250\n",
      "1177/1177 [==============================] - 8s 7ms/step - loss: 0.0029 - mean_squared_error: 0.5226 - val_loss: 0.0063 - val_mean_squared_error: 0.5330\n",
      "Epoch 3/250\n",
      "1177/1177 [==============================] - 8s 6ms/step - loss: 0.0028 - mean_squared_error: 0.5435 - val_loss: 0.0049 - val_mean_squared_error: 0.5522\n",
      "Epoch 4/250\n",
      "1177/1177 [==============================] - 8s 7ms/step - loss: 0.0023 - mean_squared_error: 0.5623 - val_loss: 0.0039 - val_mean_squared_error: 0.5810\n",
      "Epoch 5/250\n",
      "1177/1177 [==============================] - 8s 7ms/step - loss: 0.0017 - mean_squared_error: 0.5654 - val_loss: 0.0026 - val_mean_squared_error: 0.5564\n",
      "Epoch 6/250\n",
      "1177/1177 [==============================] - 8s 7ms/step - loss: 0.0012 - mean_squared_error: 0.5330 - val_loss: 0.0022 - val_mean_squared_error: 0.5331\n",
      "Epoch 7/250\n",
      "1177/1177 [==============================] - 8s 6ms/step - loss: 9.7151e-04 - mean_squared_error: 0.5111 - val_loss: 0.0023 - val_mean_squared_error: 0.5143\n",
      "Epoch 8/250\n",
      "1177/1177 [==============================] - 8s 6ms/step - loss: 9.1344e-04 - mean_squared_error: 0.4964 - val_loss: 0.0023 - val_mean_squared_error: 0.5054\n",
      "Epoch 9/250\n",
      "1177/1177 [==============================] - 8s 7ms/step - loss: 8.2195e-04 - mean_squared_error: 0.4891 - val_loss: 0.0024 - val_mean_squared_error: 0.4975\n",
      "Epoch 10/250\n",
      "1177/1177 [==============================] - 8s 7ms/step - loss: 7.1718e-04 - mean_squared_error: 0.4810 - val_loss: 0.0024 - val_mean_squared_error: 0.4869\n",
      "Epoch 11/250\n",
      "1177/1177 [==============================] - 8s 7ms/step - loss: 6.6084e-04 - mean_squared_error: 0.4788 - val_loss: 0.0023 - val_mean_squared_error: 0.4852\n",
      "Epoch 12/250\n",
      "1177/1177 [==============================] - 8s 7ms/step - loss: 5.8995e-04 - mean_squared_error: 0.4772 - val_loss: 0.0022 - val_mean_squared_error: 0.4873\n",
      "Epoch 13/250\n",
      "1177/1177 [==============================] - 8s 7ms/step - loss: 5.4753e-04 - mean_squared_error: 0.4769 - val_loss: 0.0021 - val_mean_squared_error: 0.4850\n",
      "Epoch 14/250\n",
      "1177/1177 [==============================] - 8s 7ms/step - loss: 5.1518e-04 - mean_squared_error: 0.4781 - val_loss: 0.0020 - val_mean_squared_error: 0.4880\n",
      "Epoch 15/250\n",
      "1177/1177 [==============================] - 8s 7ms/step - loss: 4.9675e-04 - mean_squared_error: 0.4804 - val_loss: 0.0020 - val_mean_squared_error: 0.4865\n",
      "Epoch 16/250\n",
      "1177/1177 [==============================] - 8s 7ms/step - loss: 4.7382e-04 - mean_squared_error: 0.4829 - val_loss: 0.0019 - val_mean_squared_error: 0.4899\n",
      "Epoch 17/250\n",
      "1177/1177 [==============================] - 9s 7ms/step - loss: 4.6203e-04 - mean_squared_error: 0.4813 - val_loss: 0.0020 - val_mean_squared_error: 0.4844\n",
      "Epoch 18/250\n",
      "1177/1177 [==============================] - 8s 7ms/step - loss: 4.4907e-04 - mean_squared_error: 0.4833 - val_loss: 0.0021 - val_mean_squared_error: 0.4803\n",
      "Epoch 19/250\n",
      "1177/1177 [==============================] - 9s 7ms/step - loss: 4.2877e-04 - mean_squared_error: 0.4803 - val_loss: 0.0021 - val_mean_squared_error: 0.4800\n",
      "Epoch 20/250\n",
      "1177/1177 [==============================] - 8s 7ms/step - loss: 4.2227e-04 - mean_squared_error: 0.4791 - val_loss: 0.0020 - val_mean_squared_error: 0.4789\n",
      "Epoch 21/250\n",
      "1177/1177 [==============================] - 9s 7ms/step - loss: 4.0441e-04 - mean_squared_error: 0.4788 - val_loss: 0.0020 - val_mean_squared_error: 0.4772\n",
      "Epoch 22/250\n",
      "1177/1177 [==============================] - 9s 7ms/step - loss: 3.9338e-04 - mean_squared_error: 0.4770 - val_loss: 0.0019 - val_mean_squared_error: 0.4754\n",
      "Epoch 23/250\n",
      "1177/1177 [==============================] - 9s 7ms/step - loss: 3.8273e-04 - mean_squared_error: 0.4766 - val_loss: 0.0019 - val_mean_squared_error: 0.4758\n",
      "Epoch 24/250\n",
      "1177/1177 [==============================] - 9s 7ms/step - loss: 3.7478e-04 - mean_squared_error: 0.4766 - val_loss: 0.0019 - val_mean_squared_error: 0.4762\n",
      "Epoch 25/250\n",
      "1177/1177 [==============================] - 9s 7ms/step - loss: 3.6615e-04 - mean_squared_error: 0.4761 - val_loss: 0.0019 - val_mean_squared_error: 0.4758\n",
      "Epoch 26/250\n",
      "1177/1177 [==============================] - 9s 7ms/step - loss: 3.6106e-04 - mean_squared_error: 0.4765 - val_loss: 0.0018 - val_mean_squared_error: 0.4740\n",
      "Epoch 27/250\n",
      "1177/1177 [==============================] - 9s 7ms/step - loss: 3.4325e-04 - mean_squared_error: 0.4768 - val_loss: 0.0018 - val_mean_squared_error: 0.4764\n",
      "Epoch 28/250\n",
      "1177/1177 [==============================] - 9s 7ms/step - loss: 3.4116e-04 - mean_squared_error: 0.4742 - val_loss: 0.0018 - val_mean_squared_error: 0.4790\n",
      "Epoch 29/250\n",
      "1177/1177 [==============================] - 9s 7ms/step - loss: 3.3765e-04 - mean_squared_error: 0.4767 - val_loss: 0.0017 - val_mean_squared_error: 0.4803\n",
      "Epoch 30/250\n",
      "1177/1177 [==============================] - 8s 7ms/step - loss: 3.2900e-04 - mean_squared_error: 0.4750 - val_loss: 0.0017 - val_mean_squared_error: 0.4782\n",
      "Epoch 31/250\n",
      "1177/1177 [==============================] - 9s 7ms/step - loss: 3.2302e-04 - mean_squared_error: 0.4740 - val_loss: 0.0017 - val_mean_squared_error: 0.4733\n",
      "Epoch 32/250\n",
      "1177/1177 [==============================] - 8s 7ms/step - loss: 3.1386e-04 - mean_squared_error: 0.4733 - val_loss: 0.0018 - val_mean_squared_error: 0.4784\n",
      "Epoch 33/250\n",
      "1177/1177 [==============================] - 8s 7ms/step - loss: 3.0960e-04 - mean_squared_error: 0.4705 - val_loss: 0.0017 - val_mean_squared_error: 0.4726\n",
      "Epoch 34/250\n",
      "1177/1177 [==============================] - 9s 7ms/step - loss: 3.0853e-04 - mean_squared_error: 0.4715 - val_loss: 0.0017 - val_mean_squared_error: 0.4731\n",
      "Epoch 35/250\n",
      "1177/1177 [==============================] - 9s 7ms/step - loss: 3.0304e-04 - mean_squared_error: 0.4697 - val_loss: 0.0017 - val_mean_squared_error: 0.4734\n",
      "Epoch 36/250\n",
      "1177/1177 [==============================] - 8s 7ms/step - loss: 2.9692e-04 - mean_squared_error: 0.4680 - val_loss: 0.0017 - val_mean_squared_error: 0.4695\n",
      "Epoch 37/250\n",
      "1177/1177 [==============================] - 8s 7ms/step - loss: 2.9622e-04 - mean_squared_error: 0.4672 - val_loss: 0.0017 - val_mean_squared_error: 0.4747\n",
      "Epoch 38/250\n",
      "1177/1177 [==============================] - 9s 7ms/step - loss: 2.8975e-04 - mean_squared_error: 0.4612 - val_loss: 0.0017 - val_mean_squared_error: 0.4668\n",
      "Epoch 39/250\n",
      "1177/1177 [==============================] - 9s 7ms/step - loss: 2.8894e-04 - mean_squared_error: 0.4628 - val_loss: 0.0017 - val_mean_squared_error: 0.4677\n",
      "Epoch 40/250\n",
      "1177/1177 [==============================] - 10s 8ms/step - loss: 2.8264e-04 - mean_squared_error: 0.4619 - val_loss: 0.0017 - val_mean_squared_error: 0.4667\n",
      "Epoch 41/250\n",
      "1177/1177 [==============================] - 10s 8ms/step - loss: 2.8289e-04 - mean_squared_error: 0.4622 - val_loss: 0.0016 - val_mean_squared_error: 0.4679\n",
      "Epoch 42/250\n",
      "1177/1177 [==============================] - 9s 8ms/step - loss: 2.8131e-04 - mean_squared_error: 0.4621 - val_loss: 0.0017 - val_mean_squared_error: 0.4679\n",
      "Epoch 43/250\n",
      "1177/1177 [==============================] - 9s 8ms/step - loss: 2.7871e-04 - mean_squared_error: 0.4632 - val_loss: 0.0016 - val_mean_squared_error: 0.4685\n",
      "Epoch 44/250\n",
      "1177/1177 [==============================] - 9s 7ms/step - loss: 2.7454e-04 - mean_squared_error: 0.4618 - val_loss: 0.0016 - val_mean_squared_error: 0.4677\n",
      "Epoch 45/250\n",
      "1177/1177 [==============================] - 8s 7ms/step - loss: 2.7295e-04 - mean_squared_error: 0.4613 - val_loss: 0.0016 - val_mean_squared_error: 0.4674\n",
      "Epoch 46/250\n",
      "1177/1177 [==============================] - 9s 7ms/step - loss: 2.6856e-04 - mean_squared_error: 0.4605 - val_loss: 0.0016 - val_mean_squared_error: 0.4657\n",
      "Epoch 47/250\n",
      "1177/1177 [==============================] - 9s 7ms/step - loss: 2.6869e-04 - mean_squared_error: 0.4620 - val_loss: 0.0016 - val_mean_squared_error: 0.4672\n",
      "Epoch 48/250\n",
      "1177/1177 [==============================] - 9s 7ms/step - loss: 2.6136e-04 - mean_squared_error: 0.4605 - val_loss: 0.0016 - val_mean_squared_error: 0.4639\n",
      "Epoch 49/250\n",
      "1177/1177 [==============================] - 9s 7ms/step - loss: 2.6394e-04 - mean_squared_error: 0.4588 - val_loss: 0.0016 - val_mean_squared_error: 0.4641\n",
      "Epoch 50/250\n",
      "1177/1177 [==============================] - 8s 7ms/step - loss: 2.6075e-04 - mean_squared_error: 0.4606 - val_loss: 0.0016 - val_mean_squared_error: 0.4635\n",
      "Epoch 51/250\n",
      "1177/1177 [==============================] - 9s 8ms/step - loss: 2.5849e-04 - mean_squared_error: 0.4601 - val_loss: 0.0016 - val_mean_squared_error: 0.4647\n",
      "Epoch 52/250\n",
      "1177/1177 [==============================] - 9s 7ms/step - loss: 2.5756e-04 - mean_squared_error: 0.4595 - val_loss: 0.0016 - val_mean_squared_error: 0.4636\n",
      "Epoch 53/250\n",
      "1177/1177 [==============================] - 9s 8ms/step - loss: 2.5784e-04 - mean_squared_error: 0.4575 - val_loss: 0.0016 - val_mean_squared_error: 0.4609\n",
      "Epoch 54/250\n",
      "1177/1177 [==============================] - 9s 7ms/step - loss: 2.5874e-04 - mean_squared_error: 0.4571 - val_loss: 0.0017 - val_mean_squared_error: 0.4593\n",
      "Epoch 55/250\n",
      "1177/1177 [==============================] - 9s 8ms/step - loss: 2.5270e-04 - mean_squared_error: 0.4570 - val_loss: 0.0017 - val_mean_squared_error: 0.4631\n",
      "Epoch 56/250\n",
      "1177/1177 [==============================] - 13s 11ms/step - loss: 2.5239e-04 - mean_squared_error: 0.4566 - val_loss: 0.0017 - val_mean_squared_error: 0.4573\n",
      "Epoch 57/250\n",
      "1177/1177 [==============================] - 13s 11ms/step - loss: 2.4983e-04 - mean_squared_error: 0.4545 - val_loss: 0.0017 - val_mean_squared_error: 0.4575\n",
      "Epoch 58/250\n",
      "1177/1177 [==============================] - 10s 9ms/step - loss: 2.5027e-04 - mean_squared_error: 0.4546 - val_loss: 0.0017 - val_mean_squared_error: 0.4594\n",
      "Epoch 59/250\n",
      "1177/1177 [==============================] - 10s 8ms/step - loss: 2.4745e-04 - mean_squared_error: 0.4551 - val_loss: 0.0017 - val_mean_squared_error: 0.4550\n",
      "Epoch 60/250\n",
      "1177/1177 [==============================] - 10s 8ms/step - loss: 2.4846e-04 - mean_squared_error: 0.4535 - val_loss: 0.0017 - val_mean_squared_error: 0.4548\n",
      "Epoch 61/250\n",
      "1177/1177 [==============================] - 11s 9ms/step - loss: 2.4426e-04 - mean_squared_error: 0.4520 - val_loss: 0.0018 - val_mean_squared_error: 0.4563\n",
      "Epoch 62/250\n",
      "1177/1177 [==============================] - 11s 9ms/step - loss: 2.4698e-04 - mean_squared_error: 0.4526 - val_loss: 0.0017 - val_mean_squared_error: 0.4520\n",
      "Epoch 63/250\n",
      "1177/1177 [==============================] - 10s 8ms/step - loss: 2.4373e-04 - mean_squared_error: 0.4500 - val_loss: 0.0018 - val_mean_squared_error: 0.4541\n",
      "Epoch 64/250\n",
      "1177/1177 [==============================] - 10s 8ms/step - loss: 2.4254e-04 - mean_squared_error: 0.4501 - val_loss: 0.0017 - val_mean_squared_error: 0.4504\n",
      "Epoch 65/250\n",
      "1177/1177 [==============================] - 12s 10ms/step - loss: 2.4478e-04 - mean_squared_error: 0.4504 - val_loss: 0.0017 - val_mean_squared_error: 0.4540\n",
      "Epoch 66/250\n",
      "1177/1177 [==============================] - 10s 9ms/step - loss: 2.4209e-04 - mean_squared_error: 0.4494 - val_loss: 0.0017 - val_mean_squared_error: 0.4497\n",
      "Epoch 67/250\n",
      "1177/1177 [==============================] - 11s 9ms/step - loss: 2.3997e-04 - mean_squared_error: 0.4463 - val_loss: 0.0017 - val_mean_squared_error: 0.4464\n",
      "Epoch 68/250\n",
      "1177/1177 [==============================] - 10s 8ms/step - loss: 2.4076e-04 - mean_squared_error: 0.4461 - val_loss: 0.0017 - val_mean_squared_error: 0.4461\n",
      "Epoch 69/250\n",
      "1177/1177 [==============================] - 10s 9ms/step - loss: 2.3939e-04 - mean_squared_error: 0.4423 - val_loss: 0.0017 - val_mean_squared_error: 0.4406\n",
      "Epoch 70/250\n",
      "1177/1177 [==============================] - 11s 9ms/step - loss: 2.4109e-04 - mean_squared_error: 0.4404 - val_loss: 0.0017 - val_mean_squared_error: 0.4382\n",
      "Epoch 71/250\n",
      "1177/1177 [==============================] - 11s 9ms/step - loss: 2.3752e-04 - mean_squared_error: 0.4392 - val_loss: 0.0017 - val_mean_squared_error: 0.4377\n",
      "Epoch 72/250\n",
      "1177/1177 [==============================] - 11s 9ms/step - loss: 2.3786e-04 - mean_squared_error: 0.4368 - val_loss: 0.0016 - val_mean_squared_error: 0.4359\n",
      "Epoch 73/250\n",
      "1177/1177 [==============================] - 9s 8ms/step - loss: 2.3385e-04 - mean_squared_error: 0.4365 - val_loss: 0.0016 - val_mean_squared_error: 0.4398\n",
      "Epoch 74/250\n",
      "1177/1177 [==============================] - 11s 9ms/step - loss: 2.3332e-04 - mean_squared_error: 0.4393 - val_loss: 0.0016 - val_mean_squared_error: 0.4365\n",
      "Epoch 75/250\n",
      "1177/1177 [==============================] - 10s 9ms/step - loss: 2.3194e-04 - mean_squared_error: 0.4375 - val_loss: 0.0016 - val_mean_squared_error: 0.4357\n",
      "Epoch 76/250\n",
      "1177/1177 [==============================] - 10s 9ms/step - loss: 2.3198e-04 - mean_squared_error: 0.4345 - val_loss: 0.0016 - val_mean_squared_error: 0.4312\n",
      "Epoch 77/250\n",
      "1177/1177 [==============================] - 10s 9ms/step - loss: 2.2753e-04 - mean_squared_error: 0.4337 - val_loss: 0.0016 - val_mean_squared_error: 0.4325\n",
      "Epoch 78/250\n",
      "1177/1177 [==============================] - 10s 9ms/step - loss: 2.2955e-04 - mean_squared_error: 0.4317 - val_loss: 0.0015 - val_mean_squared_error: 0.4296\n",
      "Epoch 79/250\n",
      "1177/1177 [==============================] - 10s 9ms/step - loss: 2.2716e-04 - mean_squared_error: 0.4303 - val_loss: 0.0016 - val_mean_squared_error: 0.4276\n",
      "Epoch 80/250\n",
      "1177/1177 [==============================] - 10s 8ms/step - loss: 2.3220e-04 - mean_squared_error: 0.4328 - val_loss: 0.0016 - val_mean_squared_error: 0.4277\n",
      "Epoch 81/250\n",
      "1177/1177 [==============================] - 11s 10ms/step - loss: 2.2823e-04 - mean_squared_error: 0.4296 - val_loss: 0.0015 - val_mean_squared_error: 0.4271\n",
      "Epoch 82/250\n",
      "1177/1177 [==============================] - 10s 9ms/step - loss: 2.2958e-04 - mean_squared_error: 0.4304 - val_loss: 0.0015 - val_mean_squared_error: 0.4272\n",
      "Epoch 83/250\n",
      "1177/1177 [==============================] - 10s 8ms/step - loss: 2.2750e-04 - mean_squared_error: 0.4285 - val_loss: 0.0015 - val_mean_squared_error: 0.4281\n",
      "Epoch 84/250\n",
      "1177/1177 [==============================] - 11s 9ms/step - loss: 2.2367e-04 - mean_squared_error: 0.4293 - val_loss: 0.0015 - val_mean_squared_error: 0.4301\n",
      "Epoch 85/250\n",
      "1177/1177 [==============================] - 12s 10ms/step - loss: 2.2401e-04 - mean_squared_error: 0.4285 - val_loss: 0.0014 - val_mean_squared_error: 0.4250\n",
      "Epoch 86/250\n",
      "1177/1177 [==============================] - 11s 9ms/step - loss: 2.2125e-04 - mean_squared_error: 0.4268 - val_loss: 0.0014 - val_mean_squared_error: 0.4279\n",
      "Epoch 87/250\n",
      "1177/1177 [==============================] - 10s 8ms/step - loss: 2.1994e-04 - mean_squared_error: 0.4264 - val_loss: 0.0014 - val_mean_squared_error: 0.4277\n",
      "Epoch 88/250\n",
      "1177/1177 [==============================] - 11s 9ms/step - loss: 2.1983e-04 - mean_squared_error: 0.4261 - val_loss: 0.0014 - val_mean_squared_error: 0.4217\n",
      "Epoch 89/250\n",
      "1177/1177 [==============================] - 11s 9ms/step - loss: 2.1708e-04 - mean_squared_error: 0.4246 - val_loss: 0.0014 - val_mean_squared_error: 0.4242\n",
      "Epoch 90/250\n",
      "1177/1177 [==============================] - 9s 7ms/step - loss: 2.1610e-04 - mean_squared_error: 0.4241 - val_loss: 0.0014 - val_mean_squared_error: 0.4205\n",
      "Epoch 91/250\n",
      "1177/1177 [==============================] - 10s 9ms/step - loss: 2.1420e-04 - mean_squared_error: 0.4199 - val_loss: 0.0014 - val_mean_squared_error: 0.4197\n",
      "Epoch 92/250\n",
      "1177/1177 [==============================] - 10s 9ms/step - loss: 2.1512e-04 - mean_squared_error: 0.4205 - val_loss: 0.0013 - val_mean_squared_error: 0.4162\n",
      "Epoch 93/250\n",
      "1177/1177 [==============================] - 12s 10ms/step - loss: 2.1297e-04 - mean_squared_error: 0.4180 - val_loss: 0.0014 - val_mean_squared_error: 0.4166\n",
      "Epoch 94/250\n",
      "1177/1177 [==============================] - 10s 9ms/step - loss: 2.1183e-04 - mean_squared_error: 0.4175 - val_loss: 0.0013 - val_mean_squared_error: 0.4160\n",
      "Epoch 95/250\n",
      "1177/1177 [==============================] - 10s 8ms/step - loss: 2.1213e-04 - mean_squared_error: 0.4150 - val_loss: 0.0013 - val_mean_squared_error: 0.4163\n",
      "Epoch 96/250\n",
      "1177/1177 [==============================] - 9s 8ms/step - loss: 2.1124e-04 - mean_squared_error: 0.4172 - val_loss: 0.0013 - val_mean_squared_error: 0.4172\n",
      "Epoch 97/250\n",
      "1177/1177 [==============================] - 10s 9ms/step - loss: 2.0894e-04 - mean_squared_error: 0.4145 - val_loss: 0.0013 - val_mean_squared_error: 0.4117\n",
      "Epoch 98/250\n",
      "1177/1177 [==============================] - 13s 11ms/step - loss: 2.1252e-04 - mean_squared_error: 0.4132 - val_loss: 0.0013 - val_mean_squared_error: 0.4143\n",
      "Epoch 99/250\n",
      "1177/1177 [==============================] - 14s 12ms/step - loss: 2.0953e-04 - mean_squared_error: 0.4147 - val_loss: 0.0013 - val_mean_squared_error: 0.4156\n",
      "Epoch 100/250\n",
      "1177/1177 [==============================] - 14s 12ms/step - loss: 2.0756e-04 - mean_squared_error: 0.4144 - val_loss: 0.0013 - val_mean_squared_error: 0.4129\n",
      "Epoch 101/250\n",
      "1177/1177 [==============================] - 15s 13ms/step - loss: 2.0618e-04 - mean_squared_error: 0.4141 - val_loss: 0.0013 - val_mean_squared_error: 0.4142\n",
      "Epoch 102/250\n",
      "1177/1177 [==============================] - 14s 12ms/step - loss: 2.0511e-04 - mean_squared_error: 0.4147 - val_loss: 0.0013 - val_mean_squared_error: 0.4113\n",
      "Epoch 103/250\n",
      "1177/1177 [==============================] - 14s 12ms/step - loss: 2.0494e-04 - mean_squared_error: 0.4111 - val_loss: 0.0013 - val_mean_squared_error: 0.4118\n",
      "Epoch 104/250\n",
      "1177/1177 [==============================] - 16s 13ms/step - loss: 2.0101e-04 - mean_squared_error: 0.4118 - val_loss: 0.0013 - val_mean_squared_error: 0.4108\n",
      "Epoch 105/250\n",
      "1177/1177 [==============================] - 15s 12ms/step - loss: 2.0225e-04 - mean_squared_error: 0.4112 - val_loss: 0.0013 - val_mean_squared_error: 0.4157\n",
      "Epoch 106/250\n",
      "1177/1177 [==============================] - 15s 13ms/step - loss: 2.0753e-04 - mean_squared_error: 0.4147 - val_loss: 0.0012 - val_mean_squared_error: 0.4162\n",
      "Epoch 107/250\n",
      "1177/1177 [==============================] - 14s 12ms/step - loss: 2.0293e-04 - mean_squared_error: 0.4145 - val_loss: 0.0013 - val_mean_squared_error: 0.4194\n",
      "Epoch 108/250\n",
      "1177/1177 [==============================] - 15s 13ms/step - loss: 2.0556e-04 - mean_squared_error: 0.4180 - val_loss: 0.0012 - val_mean_squared_error: 0.4120\n",
      "Epoch 109/250\n",
      "1177/1177 [==============================] - 15s 12ms/step - loss: 1.9867e-04 - mean_squared_error: 0.4164 - val_loss: 0.0012 - val_mean_squared_error: 0.4205\n",
      "Epoch 110/250\n",
      "1177/1177 [==============================] - 14s 12ms/step - loss: 1.9994e-04 - mean_squared_error: 0.4203 - val_loss: 0.0012 - val_mean_squared_error: 0.4168\n",
      "Epoch 111/250\n",
      "1177/1177 [==============================] - 16s 13ms/step - loss: 2.0009e-04 - mean_squared_error: 0.4191 - val_loss: 0.0013 - val_mean_squared_error: 0.4214\n",
      "Epoch 112/250\n",
      "1177/1177 [==============================] - 16s 13ms/step - loss: 1.9801e-04 - mean_squared_error: 0.4236 - val_loss: 0.0012 - val_mean_squared_error: 0.4223\n",
      "Epoch 113/250\n",
      "1177/1177 [==============================] - 15s 13ms/step - loss: 2.0212e-04 - mean_squared_error: 0.4238 - val_loss: 0.0012 - val_mean_squared_error: 0.4254\n",
      "Epoch 114/250\n",
      "1177/1177 [==============================] - 14s 12ms/step - loss: 1.9994e-04 - mean_squared_error: 0.4227 - val_loss: 0.0012 - val_mean_squared_error: 0.4205\n",
      "Epoch 115/250\n",
      "1177/1177 [==============================] - 15s 13ms/step - loss: 1.9496e-04 - mean_squared_error: 0.4227 - val_loss: 0.0012 - val_mean_squared_error: 0.4286\n",
      "Epoch 116/250\n",
      "1177/1177 [==============================] - 14s 12ms/step - loss: 1.9583e-04 - mean_squared_error: 0.4285 - val_loss: 0.0013 - val_mean_squared_error: 0.4272\n",
      "Epoch 117/250\n",
      "1177/1177 [==============================] - 12s 10ms/step - loss: 1.9753e-04 - mean_squared_error: 0.4283 - val_loss: 0.0012 - val_mean_squared_error: 0.4293\n",
      "Epoch 118/250\n",
      "1177/1177 [==============================] - 14s 12ms/step - loss: 1.9533e-04 - mean_squared_error: 0.4300 - val_loss: 0.0012 - val_mean_squared_error: 0.4255\n",
      "Epoch 119/250\n",
      "1177/1177 [==============================] - 13s 11ms/step - loss: 1.9381e-04 - mean_squared_error: 0.4260 - val_loss: 0.0012 - val_mean_squared_error: 0.4245\n",
      "Epoch 120/250\n",
      "1177/1177 [==============================] - 14s 12ms/step - loss: 1.9393e-04 - mean_squared_error: 0.4300 - val_loss: 0.0012 - val_mean_squared_error: 0.4244\n",
      "Epoch 121/250\n",
      "1177/1177 [==============================] - 12s 10ms/step - loss: 1.9235e-04 - mean_squared_error: 0.4297 - val_loss: 0.0012 - val_mean_squared_error: 0.4271\n",
      "Epoch 122/250\n",
      "1177/1177 [==============================] - 10s 9ms/step - loss: 1.9113e-04 - mean_squared_error: 0.4342 - val_loss: 0.0012 - val_mean_squared_error: 0.4347\n",
      "Epoch 123/250\n",
      "1177/1177 [==============================] - 13s 11ms/step - loss: 1.8907e-04 - mean_squared_error: 0.4348 - val_loss: 0.0012 - val_mean_squared_error: 0.4315\n",
      "Epoch 124/250\n",
      "1173/1177 [============================>.] - ETA: 0s - loss: 1.8747e-04 - mean_squared_error: 0.4368Restoring model weights from the end of the best epoch: 104.\n",
      "1177/1177 [==============================] - 13s 11ms/step - loss: 1.8745e-04 - mean_squared_error: 0.4369 - val_loss: 0.0012 - val_mean_squared_error: 0.4341\n",
      "Epoch 124: early stopping\n"
     ]
    }
   ],
   "source": [
    "import tensorflow as tf\n",
    "def custom_loss(y_actual, y_pred):\n",
    "    # print(y_actual)\n",
    "    custom_loss = tf.square(y_actual[:, :, 0]-y_pred[:, :, 0]) + tf.square(y_actual[:, :, 2]-y_pred[:, :, 2])\n",
    "    custom_loss = tf.reduce_mean(custom_loss, 1)\n",
    "    # print(custom_loss)\n",
    "    return custom_loss\n",
    "    # return 0.5 * custom_loss\n",
    "\n",
    "# def custom_loss_function(y_true, y_pred):   \n",
    "#     split = y_true.shape[-1]//2\n",
    "#     return tf.reduce_mean((y_true[:,:split]-y_pred[:,:split])**2 + 10*(y_true[:,split:]-y_pred[:,split:])**2, axis=-1)\n",
    "# model.compile(optimizer='adam', loss=custom_loss_function)\n",
    "\n",
    "model.compile(optimizer=\"adam\", loss=custom_loss, metrics=[MeanSquaredError()])\n",
    "model.build(batch_input_shape)\n",
    "model.summary()\n",
    "es = EarlyStopping(\n",
    "    monitor=\"val_mean_squared_error\",\n",
    "    min_delta=0,\n",
    "    patience=10,\n",
    "    verbose=1,\n",
    "    mode=\"auto\",\n",
    "    restore_best_weights=True,\n",
    ")\n",
    "\n",
    "history = model.fit(\n",
    "    datasets[\"X_train\"],\n",
    "    datasets[\"y_train\"],\n",
    "    validation_data=(datasets[\"X_val\"], datasets[\"y_val\"]),\n",
    "    epochs=250,\n",
    "    batch_size=datasets[\"batch_size\"],\n",
    "    shuffle=False,\n",
    "    callbacks=[es],\n",
    "    verbose=1,\n",
    ")"
   ]
  },
  {
   "cell_type": "code",
   "execution_count": 22,
   "id": "d14c1f0b",
   "metadata": {},
   "outputs": [
    {
     "data": {
      "application/vnd.plotly.v1+json": {
       "config": {
        "plotlyServerURL": "https://plot.ly"
       },
       "data": [
        {
         "mode": "markers+lines",
         "showlegend": false,
         "type": "scatter",
         "x": [
          1,
          2,
          3,
          4,
          5,
          6,
          7,
          8,
          9,
          10,
          11,
          12,
          13,
          14,
          15,
          16,
          17,
          18,
          19,
          20,
          21,
          22,
          23,
          24,
          25,
          26,
          27,
          28,
          29,
          30,
          31,
          32,
          33,
          34,
          35,
          36,
          37,
          38,
          39,
          40,
          41,
          42,
          43,
          44,
          45,
          46,
          47,
          48,
          49,
          50
         ],
         "y": [
          0.010546569712460041,
          0.002882277825847268,
          0.002847065217792988,
          0.0022975991014391184,
          0.0017226609634235501,
          0.0012258838396519423,
          0.0009715054766274989,
          0.0009134350693784654,
          0.0008219532901421189,
          0.0007171808392740786,
          0.0006608414696529508,
          0.000589948205742985,
          0.0005475284997373819,
          0.0005151833756826818,
          0.0004967505228705704,
          0.0004738245625048876,
          0.0004620291874743998,
          0.00044907323899678886,
          0.0004287671472411603,
          0.0004222652059979737,
          0.0004044074739795178,
          0.0003933753469027579,
          0.0003827337932307273,
          0.000374784431187436,
          0.0003661482478491962,
          0.0003610586281865835,
          0.000343245716067031,
          0.0003411646175663918,
          0.00033765469561330974,
          0.0003290011954959482,
          0.00032302027102559805,
          0.00031385684269480407,
          0.000309597555315122,
          0.0003085318603552878,
          0.00030304203392006457,
          0.000296922487905249,
          0.00029622300644405186,
          0.0002897485683206469,
          0.0002889387251343578,
          0.00028264280990697443,
          0.0002828918513841927,
          0.0002813056344166398,
          0.0002787134435493499,
          0.00027453515212982893,
          0.0002729521656874567,
          0.00026855565374717116,
          0.0002686927909962833,
          0.0002613581018522382,
          0.00026394164888188243,
          0.0002607526839710772,
          0.00025848858058452606,
          0.00025755789829418063,
          0.0002578394196461886,
          0.0002587423368822783,
          0.00025269619072787464,
          0.00025238897069357336,
          0.0002498289686627686,
          0.0002502729184925556,
          0.0002474510401953012,
          0.0002484582073520869,
          0.0002442638506181538,
          0.0002469830506015569,
          0.00024373301130253822,
          0.0002425413258606568,
          0.0002447788428980857,
          0.00024208704417105764,
          0.00023997409152798355,
          0.0002407634601695463,
          0.00023938895901665092,
          0.00024109380319714546,
          0.00023752066772431135,
          0.00023786370002198964,
          0.0002338513295399025,
          0.00023331532429438084,
          0.00023194463574327528,
          0.00023198151029646397,
          0.00022753237863071263,
          0.00022954981250222772,
          0.00022715781233273447,
          0.00023219981812871993,
          0.00022823127801530063,
          0.00022957625333219767,
          0.0002274968719575554,
          0.00022366840858012438,
          0.00022400807938538492,
          0.00022124881797935814,
          0.00021994253620505333,
          0.00021983493934385478,
          0.0002170843945350498,
          0.00021610369731206447,
          0.00021420048142317683,
          0.00021512295643333346,
          0.00021296957856975496,
          0.00021183054195716977,
          0.00021212974388618022,
          0.0002112432412104681,
          0.00020893989130854607,
          0.0002125230967067182,
          0.0002095326199196279,
          0.00020756215963046998,
          0.0002061826380668208,
          0.00020511221373453736,
          0.00020493516058195382,
          0.00020100924302823842,
          0.00020225193293299526,
          0.00020752547425217927,
          0.00020293354464229196,
          0.00020556201343424618,
          0.0001986710267374292,
          0.00019994023023173213,
          0.00020009245781693608,
          0.0001980060915229842,
          0.0002021195978159085,
          0.0001999443193199113,
          0.0001949603611137718,
          0.0001958301436388865,
          0.0001975323393708095,
          0.00019532629812601954,
          0.00019380805315449834,
          0.00019393158436287194,
          0.00019234648789279163,
          0.00019112871086690575,
          0.00018907048797700554,
          0.00018744850240182132
         ]
        }
       ],
       "layout": {
        "autosize": true,
        "template": {
         "data": {
          "bar": [
           {
            "error_x": {
             "color": "#2a3f5f"
            },
            "error_y": {
             "color": "#2a3f5f"
            },
            "marker": {
             "line": {
              "color": "#E5ECF6",
              "width": 0.5
             },
             "pattern": {
              "fillmode": "overlay",
              "size": 10,
              "solidity": 0.2
             }
            },
            "type": "bar"
           }
          ],
          "barpolar": [
           {
            "marker": {
             "line": {
              "color": "#E5ECF6",
              "width": 0.5
             },
             "pattern": {
              "fillmode": "overlay",
              "size": 10,
              "solidity": 0.2
             }
            },
            "type": "barpolar"
           }
          ],
          "carpet": [
           {
            "aaxis": {
             "endlinecolor": "#2a3f5f",
             "gridcolor": "white",
             "linecolor": "white",
             "minorgridcolor": "white",
             "startlinecolor": "#2a3f5f"
            },
            "baxis": {
             "endlinecolor": "#2a3f5f",
             "gridcolor": "white",
             "linecolor": "white",
             "minorgridcolor": "white",
             "startlinecolor": "#2a3f5f"
            },
            "type": "carpet"
           }
          ],
          "choropleth": [
           {
            "colorbar": {
             "outlinewidth": 0,
             "ticks": ""
            },
            "type": "choropleth"
           }
          ],
          "contour": [
           {
            "colorbar": {
             "outlinewidth": 0,
             "ticks": ""
            },
            "colorscale": [
             [
              0,
              "#0d0887"
             ],
             [
              0.1111111111111111,
              "#46039f"
             ],
             [
              0.2222222222222222,
              "#7201a8"
             ],
             [
              0.3333333333333333,
              "#9c179e"
             ],
             [
              0.4444444444444444,
              "#bd3786"
             ],
             [
              0.5555555555555556,
              "#d8576b"
             ],
             [
              0.6666666666666666,
              "#ed7953"
             ],
             [
              0.7777777777777778,
              "#fb9f3a"
             ],
             [
              0.8888888888888888,
              "#fdca26"
             ],
             [
              1,
              "#f0f921"
             ]
            ],
            "type": "contour"
           }
          ],
          "contourcarpet": [
           {
            "colorbar": {
             "outlinewidth": 0,
             "ticks": ""
            },
            "type": "contourcarpet"
           }
          ],
          "heatmap": [
           {
            "colorbar": {
             "outlinewidth": 0,
             "ticks": ""
            },
            "colorscale": [
             [
              0,
              "#0d0887"
             ],
             [
              0.1111111111111111,
              "#46039f"
             ],
             [
              0.2222222222222222,
              "#7201a8"
             ],
             [
              0.3333333333333333,
              "#9c179e"
             ],
             [
              0.4444444444444444,
              "#bd3786"
             ],
             [
              0.5555555555555556,
              "#d8576b"
             ],
             [
              0.6666666666666666,
              "#ed7953"
             ],
             [
              0.7777777777777778,
              "#fb9f3a"
             ],
             [
              0.8888888888888888,
              "#fdca26"
             ],
             [
              1,
              "#f0f921"
             ]
            ],
            "type": "heatmap"
           }
          ],
          "heatmapgl": [
           {
            "colorbar": {
             "outlinewidth": 0,
             "ticks": ""
            },
            "colorscale": [
             [
              0,
              "#0d0887"
             ],
             [
              0.1111111111111111,
              "#46039f"
             ],
             [
              0.2222222222222222,
              "#7201a8"
             ],
             [
              0.3333333333333333,
              "#9c179e"
             ],
             [
              0.4444444444444444,
              "#bd3786"
             ],
             [
              0.5555555555555556,
              "#d8576b"
             ],
             [
              0.6666666666666666,
              "#ed7953"
             ],
             [
              0.7777777777777778,
              "#fb9f3a"
             ],
             [
              0.8888888888888888,
              "#fdca26"
             ],
             [
              1,
              "#f0f921"
             ]
            ],
            "type": "heatmapgl"
           }
          ],
          "histogram": [
           {
            "marker": {
             "pattern": {
              "fillmode": "overlay",
              "size": 10,
              "solidity": 0.2
             }
            },
            "type": "histogram"
           }
          ],
          "histogram2d": [
           {
            "colorbar": {
             "outlinewidth": 0,
             "ticks": ""
            },
            "colorscale": [
             [
              0,
              "#0d0887"
             ],
             [
              0.1111111111111111,
              "#46039f"
             ],
             [
              0.2222222222222222,
              "#7201a8"
             ],
             [
              0.3333333333333333,
              "#9c179e"
             ],
             [
              0.4444444444444444,
              "#bd3786"
             ],
             [
              0.5555555555555556,
              "#d8576b"
             ],
             [
              0.6666666666666666,
              "#ed7953"
             ],
             [
              0.7777777777777778,
              "#fb9f3a"
             ],
             [
              0.8888888888888888,
              "#fdca26"
             ],
             [
              1,
              "#f0f921"
             ]
            ],
            "type": "histogram2d"
           }
          ],
          "histogram2dcontour": [
           {
            "colorbar": {
             "outlinewidth": 0,
             "ticks": ""
            },
            "colorscale": [
             [
              0,
              "#0d0887"
             ],
             [
              0.1111111111111111,
              "#46039f"
             ],
             [
              0.2222222222222222,
              "#7201a8"
             ],
             [
              0.3333333333333333,
              "#9c179e"
             ],
             [
              0.4444444444444444,
              "#bd3786"
             ],
             [
              0.5555555555555556,
              "#d8576b"
             ],
             [
              0.6666666666666666,
              "#ed7953"
             ],
             [
              0.7777777777777778,
              "#fb9f3a"
             ],
             [
              0.8888888888888888,
              "#fdca26"
             ],
             [
              1,
              "#f0f921"
             ]
            ],
            "type": "histogram2dcontour"
           }
          ],
          "mesh3d": [
           {
            "colorbar": {
             "outlinewidth": 0,
             "ticks": ""
            },
            "type": "mesh3d"
           }
          ],
          "parcoords": [
           {
            "line": {
             "colorbar": {
              "outlinewidth": 0,
              "ticks": ""
             }
            },
            "type": "parcoords"
           }
          ],
          "pie": [
           {
            "automargin": true,
            "type": "pie"
           }
          ],
          "scatter": [
           {
            "fillpattern": {
             "fillmode": "overlay",
             "size": 10,
             "solidity": 0.2
            },
            "type": "scatter"
           }
          ],
          "scatter3d": [
           {
            "line": {
             "colorbar": {
              "outlinewidth": 0,
              "ticks": ""
             }
            },
            "marker": {
             "colorbar": {
              "outlinewidth": 0,
              "ticks": ""
             }
            },
            "type": "scatter3d"
           }
          ],
          "scattercarpet": [
           {
            "marker": {
             "colorbar": {
              "outlinewidth": 0,
              "ticks": ""
             }
            },
            "type": "scattercarpet"
           }
          ],
          "scattergeo": [
           {
            "marker": {
             "colorbar": {
              "outlinewidth": 0,
              "ticks": ""
             }
            },
            "type": "scattergeo"
           }
          ],
          "scattergl": [
           {
            "marker": {
             "colorbar": {
              "outlinewidth": 0,
              "ticks": ""
             }
            },
            "type": "scattergl"
           }
          ],
          "scattermapbox": [
           {
            "marker": {
             "colorbar": {
              "outlinewidth": 0,
              "ticks": ""
             }
            },
            "type": "scattermapbox"
           }
          ],
          "scatterpolar": [
           {
            "marker": {
             "colorbar": {
              "outlinewidth": 0,
              "ticks": ""
             }
            },
            "type": "scatterpolar"
           }
          ],
          "scatterpolargl": [
           {
            "marker": {
             "colorbar": {
              "outlinewidth": 0,
              "ticks": ""
             }
            },
            "type": "scatterpolargl"
           }
          ],
          "scatterternary": [
           {
            "marker": {
             "colorbar": {
              "outlinewidth": 0,
              "ticks": ""
             }
            },
            "type": "scatterternary"
           }
          ],
          "surface": [
           {
            "colorbar": {
             "outlinewidth": 0,
             "ticks": ""
            },
            "colorscale": [
             [
              0,
              "#0d0887"
             ],
             [
              0.1111111111111111,
              "#46039f"
             ],
             [
              0.2222222222222222,
              "#7201a8"
             ],
             [
              0.3333333333333333,
              "#9c179e"
             ],
             [
              0.4444444444444444,
              "#bd3786"
             ],
             [
              0.5555555555555556,
              "#d8576b"
             ],
             [
              0.6666666666666666,
              "#ed7953"
             ],
             [
              0.7777777777777778,
              "#fb9f3a"
             ],
             [
              0.8888888888888888,
              "#fdca26"
             ],
             [
              1,
              "#f0f921"
             ]
            ],
            "type": "surface"
           }
          ],
          "table": [
           {
            "cells": {
             "fill": {
              "color": "#EBF0F8"
             },
             "line": {
              "color": "white"
             }
            },
            "header": {
             "fill": {
              "color": "#C8D4E3"
             },
             "line": {
              "color": "white"
             }
            },
            "type": "table"
           }
          ]
         },
         "layout": {
          "annotationdefaults": {
           "arrowcolor": "#2a3f5f",
           "arrowhead": 0,
           "arrowwidth": 1
          },
          "autotypenumbers": "strict",
          "coloraxis": {
           "colorbar": {
            "outlinewidth": 0,
            "ticks": ""
           }
          },
          "colorscale": {
           "diverging": [
            [
             0,
             "#8e0152"
            ],
            [
             0.1,
             "#c51b7d"
            ],
            [
             0.2,
             "#de77ae"
            ],
            [
             0.3,
             "#f1b6da"
            ],
            [
             0.4,
             "#fde0ef"
            ],
            [
             0.5,
             "#f7f7f7"
            ],
            [
             0.6,
             "#e6f5d0"
            ],
            [
             0.7,
             "#b8e186"
            ],
            [
             0.8,
             "#7fbc41"
            ],
            [
             0.9,
             "#4d9221"
            ],
            [
             1,
             "#276419"
            ]
           ],
           "sequential": [
            [
             0,
             "#0d0887"
            ],
            [
             0.1111111111111111,
             "#46039f"
            ],
            [
             0.2222222222222222,
             "#7201a8"
            ],
            [
             0.3333333333333333,
             "#9c179e"
            ],
            [
             0.4444444444444444,
             "#bd3786"
            ],
            [
             0.5555555555555556,
             "#d8576b"
            ],
            [
             0.6666666666666666,
             "#ed7953"
            ],
            [
             0.7777777777777778,
             "#fb9f3a"
            ],
            [
             0.8888888888888888,
             "#fdca26"
            ],
            [
             1,
             "#f0f921"
            ]
           ],
           "sequentialminus": [
            [
             0,
             "#0d0887"
            ],
            [
             0.1111111111111111,
             "#46039f"
            ],
            [
             0.2222222222222222,
             "#7201a8"
            ],
            [
             0.3333333333333333,
             "#9c179e"
            ],
            [
             0.4444444444444444,
             "#bd3786"
            ],
            [
             0.5555555555555556,
             "#d8576b"
            ],
            [
             0.6666666666666666,
             "#ed7953"
            ],
            [
             0.7777777777777778,
             "#fb9f3a"
            ],
            [
             0.8888888888888888,
             "#fdca26"
            ],
            [
             1,
             "#f0f921"
            ]
           ]
          },
          "colorway": [
           "#636efa",
           "#EF553B",
           "#00cc96",
           "#ab63fa",
           "#FFA15A",
           "#19d3f3",
           "#FF6692",
           "#B6E880",
           "#FF97FF",
           "#FECB52"
          ],
          "font": {
           "color": "#2a3f5f"
          },
          "geo": {
           "bgcolor": "white",
           "lakecolor": "white",
           "landcolor": "#E5ECF6",
           "showlakes": true,
           "showland": true,
           "subunitcolor": "white"
          },
          "hoverlabel": {
           "align": "left"
          },
          "hovermode": "closest",
          "mapbox": {
           "style": "light"
          },
          "paper_bgcolor": "white",
          "plot_bgcolor": "#E5ECF6",
          "polar": {
           "angularaxis": {
            "gridcolor": "white",
            "linecolor": "white",
            "ticks": ""
           },
           "bgcolor": "#E5ECF6",
           "radialaxis": {
            "gridcolor": "white",
            "linecolor": "white",
            "ticks": ""
           }
          },
          "scene": {
           "xaxis": {
            "backgroundcolor": "#E5ECF6",
            "gridcolor": "white",
            "gridwidth": 2,
            "linecolor": "white",
            "showbackground": true,
            "ticks": "",
            "zerolinecolor": "white"
           },
           "yaxis": {
            "backgroundcolor": "#E5ECF6",
            "gridcolor": "white",
            "gridwidth": 2,
            "linecolor": "white",
            "showbackground": true,
            "ticks": "",
            "zerolinecolor": "white"
           },
           "zaxis": {
            "backgroundcolor": "#E5ECF6",
            "gridcolor": "white",
            "gridwidth": 2,
            "linecolor": "white",
            "showbackground": true,
            "ticks": "",
            "zerolinecolor": "white"
           }
          },
          "shapedefaults": {
           "line": {
            "color": "#2a3f5f"
           }
          },
          "ternary": {
           "aaxis": {
            "gridcolor": "white",
            "linecolor": "white",
            "ticks": ""
           },
           "baxis": {
            "gridcolor": "white",
            "linecolor": "white",
            "ticks": ""
           },
           "bgcolor": "#E5ECF6",
           "caxis": {
            "gridcolor": "white",
            "linecolor": "white",
            "ticks": ""
           }
          },
          "title": {
           "x": 0.05
          },
          "xaxis": {
           "automargin": true,
           "gridcolor": "white",
           "linecolor": "white",
           "ticks": "",
           "title": {
            "standoff": 15
           },
           "zerolinecolor": "white",
           "zerolinewidth": 2
          },
          "yaxis": {
           "automargin": true,
           "gridcolor": "white",
           "linecolor": "white",
           "ticks": "",
           "title": {
            "standoff": 15
           },
           "zerolinecolor": "white",
           "zerolinewidth": 2
          }
         }
        },
        "xaxis": {
         "autorange": true,
         "range": [
          -2.053554040895813,
          53.05355404089581
         ],
         "title": {
          "text": "Epochs"
         },
         "type": "linear"
        },
        "yaxis": {
         "autorange": true,
         "range": [
          -0.00046347150965693365,
          0.011270793906088051
         ],
         "title": {
          "text": "Loss (MSE)"
         },
         "type": "linear"
        }
       }
      },
      "text/html": [
       "<div>                            <div id=\"88f93bf4-7ffb-4265-b579-abb2ea6c775a\" class=\"plotly-graph-div\" style=\"height:500px; width:100%;\"></div>            <script type=\"text/javascript\">                require([\"plotly\"], function(Plotly) {                    window.PLOTLYENV=window.PLOTLYENV || {};                                    if (document.getElementById(\"88f93bf4-7ffb-4265-b579-abb2ea6c775a\")) {                    Plotly.newPlot(                        \"88f93bf4-7ffb-4265-b579-abb2ea6c775a\",                        [{\"mode\":\"markers+lines\",\"showlegend\":false,\"x\":[1.0,2.0,3.0,4.0,5.0,6.0,7.0,8.0,9.0,10.0,11.0,12.0,13.0,14.0,15.0,16.0,17.0,18.0,19.0,20.0,21.0,22.0,23.0,24.0,25.0,26.0,27.0,28.0,29.0,30.0,31.0,32.0,33.0,34.0,35.0,36.0,37.0,38.0,39.0,40.0,41.0,42.0,43.0,44.0,45.0,46.0,47.0,48.0,49.0,50.0],\"y\":[0.010546569712460041,0.002882277825847268,0.002847065217792988,0.0022975991014391184,0.0017226609634235501,0.0012258838396519423,0.0009715054766274989,0.0009134350693784654,0.0008219532901421189,0.0007171808392740786,0.0006608414696529508,0.000589948205742985,0.0005475284997373819,0.0005151833756826818,0.0004967505228705704,0.0004738245625048876,0.0004620291874743998,0.00044907323899678886,0.0004287671472411603,0.0004222652059979737,0.0004044074739795178,0.0003933753469027579,0.0003827337932307273,0.000374784431187436,0.0003661482478491962,0.0003610586281865835,0.000343245716067031,0.0003411646175663918,0.00033765469561330974,0.0003290011954959482,0.00032302027102559805,0.00031385684269480407,0.000309597555315122,0.0003085318603552878,0.00030304203392006457,0.000296922487905249,0.00029622300644405186,0.0002897485683206469,0.0002889387251343578,0.00028264280990697443,0.0002828918513841927,0.0002813056344166398,0.0002787134435493499,0.00027453515212982893,0.0002729521656874567,0.00026855565374717116,0.0002686927909962833,0.0002613581018522382,0.00026394164888188243,0.0002607526839710772,0.00025848858058452606,0.00025755789829418063,0.0002578394196461886,0.0002587423368822783,0.00025269619072787464,0.00025238897069357336,0.0002498289686627686,0.0002502729184925556,0.0002474510401953012,0.0002484582073520869,0.0002442638506181538,0.0002469830506015569,0.00024373301130253822,0.0002425413258606568,0.0002447788428980857,0.00024208704417105764,0.00023997409152798355,0.0002407634601695463,0.00023938895901665092,0.00024109380319714546,0.00023752066772431135,0.00023786370002198964,0.0002338513295399025,0.00023331532429438084,0.00023194463574327528,0.00023198151029646397,0.00022753237863071263,0.00022954981250222772,0.00022715781233273447,0.00023219981812871993,0.00022823127801530063,0.00022957625333219767,0.0002274968719575554,0.00022366840858012438,0.00022400807938538492,0.00022124881797935814,0.00021994253620505333,0.00021983493934385478,0.0002170843945350498,0.00021610369731206447,0.00021420048142317683,0.00021512295643333346,0.00021296957856975496,0.00021183054195716977,0.00021212974388618022,0.0002112432412104681,0.00020893989130854607,0.0002125230967067182,0.0002095326199196279,0.00020756215963046998,0.0002061826380668208,0.00020511221373453736,0.00020493516058195382,0.00020100924302823842,0.00020225193293299526,0.00020752547425217927,0.00020293354464229196,0.00020556201343424618,0.0001986710267374292,0.00019994023023173213,0.00020009245781693608,0.0001980060915229842,0.0002021195978159085,0.0001999443193199113,0.0001949603611137718,0.0001958301436388865,0.0001975323393708095,0.00019532629812601954,0.00019380805315449834,0.00019393158436287194,0.00019234648789279163,0.00019112871086690575,0.00018907048797700554,0.00018744850240182132],\"type\":\"scatter\"}],                        {\"template\":{\"data\":{\"histogram2dcontour\":[{\"type\":\"histogram2dcontour\",\"colorbar\":{\"outlinewidth\":0,\"ticks\":\"\"},\"colorscale\":[[0.0,\"#0d0887\"],[0.1111111111111111,\"#46039f\"],[0.2222222222222222,\"#7201a8\"],[0.3333333333333333,\"#9c179e\"],[0.4444444444444444,\"#bd3786\"],[0.5555555555555556,\"#d8576b\"],[0.6666666666666666,\"#ed7953\"],[0.7777777777777778,\"#fb9f3a\"],[0.8888888888888888,\"#fdca26\"],[1.0,\"#f0f921\"]]}],\"choropleth\":[{\"type\":\"choropleth\",\"colorbar\":{\"outlinewidth\":0,\"ticks\":\"\"}}],\"histogram2d\":[{\"type\":\"histogram2d\",\"colorbar\":{\"outlinewidth\":0,\"ticks\":\"\"},\"colorscale\":[[0.0,\"#0d0887\"],[0.1111111111111111,\"#46039f\"],[0.2222222222222222,\"#7201a8\"],[0.3333333333333333,\"#9c179e\"],[0.4444444444444444,\"#bd3786\"],[0.5555555555555556,\"#d8576b\"],[0.6666666666666666,\"#ed7953\"],[0.7777777777777778,\"#fb9f3a\"],[0.8888888888888888,\"#fdca26\"],[1.0,\"#f0f921\"]]}],\"heatmap\":[{\"type\":\"heatmap\",\"colorbar\":{\"outlinewidth\":0,\"ticks\":\"\"},\"colorscale\":[[0.0,\"#0d0887\"],[0.1111111111111111,\"#46039f\"],[0.2222222222222222,\"#7201a8\"],[0.3333333333333333,\"#9c179e\"],[0.4444444444444444,\"#bd3786\"],[0.5555555555555556,\"#d8576b\"],[0.6666666666666666,\"#ed7953\"],[0.7777777777777778,\"#fb9f3a\"],[0.8888888888888888,\"#fdca26\"],[1.0,\"#f0f921\"]]}],\"heatmapgl\":[{\"type\":\"heatmapgl\",\"colorbar\":{\"outlinewidth\":0,\"ticks\":\"\"},\"colorscale\":[[0.0,\"#0d0887\"],[0.1111111111111111,\"#46039f\"],[0.2222222222222222,\"#7201a8\"],[0.3333333333333333,\"#9c179e\"],[0.4444444444444444,\"#bd3786\"],[0.5555555555555556,\"#d8576b\"],[0.6666666666666666,\"#ed7953\"],[0.7777777777777778,\"#fb9f3a\"],[0.8888888888888888,\"#fdca26\"],[1.0,\"#f0f921\"]]}],\"contourcarpet\":[{\"type\":\"contourcarpet\",\"colorbar\":{\"outlinewidth\":0,\"ticks\":\"\"}}],\"contour\":[{\"type\":\"contour\",\"colorbar\":{\"outlinewidth\":0,\"ticks\":\"\"},\"colorscale\":[[0.0,\"#0d0887\"],[0.1111111111111111,\"#46039f\"],[0.2222222222222222,\"#7201a8\"],[0.3333333333333333,\"#9c179e\"],[0.4444444444444444,\"#bd3786\"],[0.5555555555555556,\"#d8576b\"],[0.6666666666666666,\"#ed7953\"],[0.7777777777777778,\"#fb9f3a\"],[0.8888888888888888,\"#fdca26\"],[1.0,\"#f0f921\"]]}],\"surface\":[{\"type\":\"surface\",\"colorbar\":{\"outlinewidth\":0,\"ticks\":\"\"},\"colorscale\":[[0.0,\"#0d0887\"],[0.1111111111111111,\"#46039f\"],[0.2222222222222222,\"#7201a8\"],[0.3333333333333333,\"#9c179e\"],[0.4444444444444444,\"#bd3786\"],[0.5555555555555556,\"#d8576b\"],[0.6666666666666666,\"#ed7953\"],[0.7777777777777778,\"#fb9f3a\"],[0.8888888888888888,\"#fdca26\"],[1.0,\"#f0f921\"]]}],\"mesh3d\":[{\"type\":\"mesh3d\",\"colorbar\":{\"outlinewidth\":0,\"ticks\":\"\"}}],\"scatter\":[{\"fillpattern\":{\"fillmode\":\"overlay\",\"size\":10,\"solidity\":0.2},\"type\":\"scatter\"}],\"parcoords\":[{\"type\":\"parcoords\",\"line\":{\"colorbar\":{\"outlinewidth\":0,\"ticks\":\"\"}}}],\"scatterpolargl\":[{\"type\":\"scatterpolargl\",\"marker\":{\"colorbar\":{\"outlinewidth\":0,\"ticks\":\"\"}}}],\"bar\":[{\"error_x\":{\"color\":\"#2a3f5f\"},\"error_y\":{\"color\":\"#2a3f5f\"},\"marker\":{\"line\":{\"color\":\"#E5ECF6\",\"width\":0.5},\"pattern\":{\"fillmode\":\"overlay\",\"size\":10,\"solidity\":0.2}},\"type\":\"bar\"}],\"scattergeo\":[{\"type\":\"scattergeo\",\"marker\":{\"colorbar\":{\"outlinewidth\":0,\"ticks\":\"\"}}}],\"scatterpolar\":[{\"type\":\"scatterpolar\",\"marker\":{\"colorbar\":{\"outlinewidth\":0,\"ticks\":\"\"}}}],\"histogram\":[{\"marker\":{\"pattern\":{\"fillmode\":\"overlay\",\"size\":10,\"solidity\":0.2}},\"type\":\"histogram\"}],\"scattergl\":[{\"type\":\"scattergl\",\"marker\":{\"colorbar\":{\"outlinewidth\":0,\"ticks\":\"\"}}}],\"scatter3d\":[{\"type\":\"scatter3d\",\"line\":{\"colorbar\":{\"outlinewidth\":0,\"ticks\":\"\"}},\"marker\":{\"colorbar\":{\"outlinewidth\":0,\"ticks\":\"\"}}}],\"scattermapbox\":[{\"type\":\"scattermapbox\",\"marker\":{\"colorbar\":{\"outlinewidth\":0,\"ticks\":\"\"}}}],\"scatterternary\":[{\"type\":\"scatterternary\",\"marker\":{\"colorbar\":{\"outlinewidth\":0,\"ticks\":\"\"}}}],\"scattercarpet\":[{\"type\":\"scattercarpet\",\"marker\":{\"colorbar\":{\"outlinewidth\":0,\"ticks\":\"\"}}}],\"carpet\":[{\"aaxis\":{\"endlinecolor\":\"#2a3f5f\",\"gridcolor\":\"white\",\"linecolor\":\"white\",\"minorgridcolor\":\"white\",\"startlinecolor\":\"#2a3f5f\"},\"baxis\":{\"endlinecolor\":\"#2a3f5f\",\"gridcolor\":\"white\",\"linecolor\":\"white\",\"minorgridcolor\":\"white\",\"startlinecolor\":\"#2a3f5f\"},\"type\":\"carpet\"}],\"table\":[{\"cells\":{\"fill\":{\"color\":\"#EBF0F8\"},\"line\":{\"color\":\"white\"}},\"header\":{\"fill\":{\"color\":\"#C8D4E3\"},\"line\":{\"color\":\"white\"}},\"type\":\"table\"}],\"barpolar\":[{\"marker\":{\"line\":{\"color\":\"#E5ECF6\",\"width\":0.5},\"pattern\":{\"fillmode\":\"overlay\",\"size\":10,\"solidity\":0.2}},\"type\":\"barpolar\"}],\"pie\":[{\"automargin\":true,\"type\":\"pie\"}]},\"layout\":{\"autotypenumbers\":\"strict\",\"colorway\":[\"#636efa\",\"#EF553B\",\"#00cc96\",\"#ab63fa\",\"#FFA15A\",\"#19d3f3\",\"#FF6692\",\"#B6E880\",\"#FF97FF\",\"#FECB52\"],\"font\":{\"color\":\"#2a3f5f\"},\"hovermode\":\"closest\",\"hoverlabel\":{\"align\":\"left\"},\"paper_bgcolor\":\"white\",\"plot_bgcolor\":\"#E5ECF6\",\"polar\":{\"bgcolor\":\"#E5ECF6\",\"angularaxis\":{\"gridcolor\":\"white\",\"linecolor\":\"white\",\"ticks\":\"\"},\"radialaxis\":{\"gridcolor\":\"white\",\"linecolor\":\"white\",\"ticks\":\"\"}},\"ternary\":{\"bgcolor\":\"#E5ECF6\",\"aaxis\":{\"gridcolor\":\"white\",\"linecolor\":\"white\",\"ticks\":\"\"},\"baxis\":{\"gridcolor\":\"white\",\"linecolor\":\"white\",\"ticks\":\"\"},\"caxis\":{\"gridcolor\":\"white\",\"linecolor\":\"white\",\"ticks\":\"\"}},\"coloraxis\":{\"colorbar\":{\"outlinewidth\":0,\"ticks\":\"\"}},\"colorscale\":{\"sequential\":[[0.0,\"#0d0887\"],[0.1111111111111111,\"#46039f\"],[0.2222222222222222,\"#7201a8\"],[0.3333333333333333,\"#9c179e\"],[0.4444444444444444,\"#bd3786\"],[0.5555555555555556,\"#d8576b\"],[0.6666666666666666,\"#ed7953\"],[0.7777777777777778,\"#fb9f3a\"],[0.8888888888888888,\"#fdca26\"],[1.0,\"#f0f921\"]],\"sequentialminus\":[[0.0,\"#0d0887\"],[0.1111111111111111,\"#46039f\"],[0.2222222222222222,\"#7201a8\"],[0.3333333333333333,\"#9c179e\"],[0.4444444444444444,\"#bd3786\"],[0.5555555555555556,\"#d8576b\"],[0.6666666666666666,\"#ed7953\"],[0.7777777777777778,\"#fb9f3a\"],[0.8888888888888888,\"#fdca26\"],[1.0,\"#f0f921\"]],\"diverging\":[[0,\"#8e0152\"],[0.1,\"#c51b7d\"],[0.2,\"#de77ae\"],[0.3,\"#f1b6da\"],[0.4,\"#fde0ef\"],[0.5,\"#f7f7f7\"],[0.6,\"#e6f5d0\"],[0.7,\"#b8e186\"],[0.8,\"#7fbc41\"],[0.9,\"#4d9221\"],[1,\"#276419\"]]},\"xaxis\":{\"gridcolor\":\"white\",\"linecolor\":\"white\",\"ticks\":\"\",\"title\":{\"standoff\":15},\"zerolinecolor\":\"white\",\"automargin\":true,\"zerolinewidth\":2},\"yaxis\":{\"gridcolor\":\"white\",\"linecolor\":\"white\",\"ticks\":\"\",\"title\":{\"standoff\":15},\"zerolinecolor\":\"white\",\"automargin\":true,\"zerolinewidth\":2},\"scene\":{\"xaxis\":{\"backgroundcolor\":\"#E5ECF6\",\"gridcolor\":\"white\",\"linecolor\":\"white\",\"showbackground\":true,\"ticks\":\"\",\"zerolinecolor\":\"white\",\"gridwidth\":2},\"yaxis\":{\"backgroundcolor\":\"#E5ECF6\",\"gridcolor\":\"white\",\"linecolor\":\"white\",\"showbackground\":true,\"ticks\":\"\",\"zerolinecolor\":\"white\",\"gridwidth\":2},\"zaxis\":{\"backgroundcolor\":\"#E5ECF6\",\"gridcolor\":\"white\",\"linecolor\":\"white\",\"showbackground\":true,\"ticks\":\"\",\"zerolinecolor\":\"white\",\"gridwidth\":2}},\"shapedefaults\":{\"line\":{\"color\":\"#2a3f5f\"}},\"annotationdefaults\":{\"arrowcolor\":\"#2a3f5f\",\"arrowhead\":0,\"arrowwidth\":1},\"geo\":{\"bgcolor\":\"white\",\"landcolor\":\"#E5ECF6\",\"subunitcolor\":\"white\",\"showland\":true,\"showlakes\":true,\"lakecolor\":\"white\"},\"title\":{\"x\":0.05},\"mapbox\":{\"style\":\"light\"}}},\"xaxis\":{\"title\":{\"text\":\"Epochs\"}},\"yaxis\":{\"title\":{\"text\":\"Loss (MSE)\"}},\"height\":500},                        {\"responsive\": true}                    ).then(function(){\n",
       "                            \n",
       "var gd = document.getElementById('88f93bf4-7ffb-4265-b579-abb2ea6c775a');\n",
       "var x = new MutationObserver(function (mutations, observer) {{\n",
       "        var display = window.getComputedStyle(gd).display;\n",
       "        if (!display || display === 'none') {{\n",
       "            console.log([gd, 'removed!']);\n",
       "            Plotly.purge(gd);\n",
       "            observer.disconnect();\n",
       "        }}\n",
       "}});\n",
       "\n",
       "// Listen for the removal of the full notebook cells\n",
       "var notebookContainer = gd.closest('#notebook-container');\n",
       "if (notebookContainer) {{\n",
       "    x.observe(notebookContainer, {childList: true});\n",
       "}}\n",
       "\n",
       "// Listen for the clearing of the current output cell\n",
       "var outputEl = gd.closest('.output');\n",
       "if (outputEl) {{\n",
       "    x.observe(outputEl, {childList: true});\n",
       "}}\n",
       "\n",
       "                        })                };                });            </script>        </div>"
      ]
     },
     "metadata": {},
     "output_type": "display_data"
    }
   ],
   "source": [
    "fig = go.Figure()\n",
    "fig.add_trace(\n",
    "    go.Scatter(\n",
    "        x=np.linspace(1, 50),\n",
    "        y=history.history[\"loss\"],\n",
    "        showlegend=False,\n",
    "        mode=\"markers+lines\",\n",
    "    )\n",
    ")\n",
    "fig.update_xaxes(title=\"Epochs\")\n",
    "fig.update_yaxes(title=\"Loss (MSE)\")\n",
    "fig.update_layout(height=500)"
   ]
  },
  {
   "cell_type": "markdown",
   "id": "feec5843",
   "metadata": {},
   "source": [
    "## Parity Plot of Training Error"
   ]
  },
  {
   "cell_type": "code",
   "execution_count": 23,
   "id": "42abb42d",
   "metadata": {},
   "outputs": [
    {
     "name": "stdout",
     "output_type": "stream",
     "text": [
      "1\n"
     ]
    },
    {
     "data": {
      "application/vnd.plotly.v1+json": {
       "config": {
        "plotlyServerURL": "https://plot.ly"
       },
       "data": [
        {
         "mode": "markers+lines",
         "showlegend": false,
         "type": "scatter",
         "x": [
          0,
          1
         ],
         "y": [
          0,
          1
         ]
        },
        {
         "mode": "markers+lines",
         "showlegend": false,
         "type": "scatter",
         "x": [
          0.6646132469177246,
          0.6925843358039856,
          0.6968724727630615,
          0.7130180597305298,
          0.7258298397064209,
          0.7286481857299805,
          0.7304387092590332,
          0.7342301607131958,
          0.7400134801864624
         ],
         "y": [
          0.6356126210587665,
          0.6533147567839942,
          0.6713336980249613,
          0.6938555714285712,
          0.7074188665226547,
          0.7093004285714285,
          0.7113031428571429,
          0.7173105,
          0.7211426088422143
         ]
        },
        {
         "mode": "markers+lines",
         "showlegend": false,
         "type": "scatter",
         "x": [
          0.6246308088302612,
          0.6460912227630615,
          0.6555212736129761,
          0.6722022294998169,
          0.6901184320449829,
          0.6922628879547119,
          0.6961688995361328,
          0.7002124786376953,
          0.706573486328125
         ],
         "y": [
          0.6141467469299273,
          0.63308856398482,
          0.6498673950449378,
          0.6769667857142859,
          0.6928457393126601,
          0.695392642857143,
          0.697953706782588,
          0.7024039999999998,
          0.707578987792392
         ]
        },
        {
         "mode": "markers+lines",
         "showlegend": false,
         "type": "scatter",
         "x": [
          0.6081312894821167,
          0.6275752186775208,
          0.6384602785110474,
          0.6564379930496216,
          0.675071656703949,
          0.678427517414093,
          0.6826645731925964,
          0.6872982382774353,
          0.6936357617378235
         ],
         "y": [
          0.5960004285714285,
          0.6181523700699255,
          0.6378653571428572,
          0.6620888516878766,
          0.6797657142857142,
          0.6844203682352034,
          0.6864280714285717,
          0.6923912857142857,
          0.6953647857142856
         ]
        },
        {
         "mode": "markers+lines",
         "showlegend": false,
         "type": "scatter",
         "x": [
          0.6244486570358276,
          0.6454554796218872,
          0.6557799577713013,
          0.6736831665039062,
          0.6913596987724304,
          0.6935254335403442,
          0.6977696418762207,
          0.7015246748924255,
          0.7078489065170288
         ],
         "y": [
          0.6098291976585136,
          0.624366619820498,
          0.6435025432097512,
          0.6703357592121293,
          0.6829635000000002,
          0.6914979258960483,
          0.6947830714285713,
          0.6976389285714285,
          0.7019822777829137
         ]
        },
        {
         "mode": "markers+lines",
         "showlegend": false,
         "type": "scatter",
         "x": [
          0.6026663184165955,
          0.6217449903488159,
          0.6341060996055603,
          0.6530276536941528,
          0.6704659461975098,
          0.6733696460723877,
          0.6781701445579529,
          0.682695746421814,
          0.6891130208969116
         ],
         "y": [
          0.5906016087839162,
          0.6101260610058343,
          0.6302085228979368,
          0.6586666428571429,
          0.6757369129014912,
          0.6836280714285715,
          0.6833316428571428,
          0.6905623571428572,
          0.6937972142857143
         ]
        },
        {
         "mode": "markers+lines",
         "showlegend": false,
         "type": "scatter",
         "x": [
          0.6922606229782104,
          0.7149801254272461,
          0.7276374101638794,
          0.7517014741897583,
          0.7570348978042603,
          0.7610508799552917,
          0.7621128559112549,
          0.7648998498916626,
          0.7702572345733643
         ],
         "y": [
          0.6878912857142855,
          0.7083032142857145,
          0.723688218746109,
          0.7544953571428573,
          0.7663353571428573,
          0.7729914285714286,
          0.7742074999999998,
          0.7832938571428569,
          0.7809197857142856
         ]
        },
        {
         "mode": "markers+lines",
         "showlegend": false,
         "type": "scatter",
         "x": [
          0.780574381351471,
          0.8170448541641235,
          0.8177316188812256,
          0.8455970287322998,
          0.8413331508636475,
          0.8428182005882263,
          0.8437561988830566,
          0.8426921367645264,
          0.8451751470565796
         ],
         "y": [
          0.7882545714285715,
          0.8072624615451908,
          0.8272830714285716,
          0.848693329613426,
          0.8635847857142858,
          0.8691661988590451,
          0.8729877142857144,
          0.8736485861249468,
          0.8811776428571427
         ]
        },
        {
         "mode": "markers+lines",
         "showlegend": false,
         "type": "scatter",
         "x": [
          0.5983673334121704,
          0.6147615909576416,
          0.6301395893096924,
          0.6515676975250244,
          0.6695008277893066,
          0.6731752157211304,
          0.6781821250915527,
          0.6823973655700684,
          0.6886148452758789
         ],
         "y": [
          0.5866437635314923,
          0.6035764551442926,
          0.6235691446034274,
          0.6517865,
          0.6655265000000001,
          0.6696700714285713,
          0.676770642857143,
          0.6776143445770227,
          0.6829346428571428
         ]
        },
        {
         "mode": "markers+lines",
         "showlegend": false,
         "type": "scatter",
         "x": [
          0.6036962270736694,
          0.6228430867195129,
          0.6386642456054688,
          0.6601182222366333,
          0.6769917607307434,
          0.6795107126235962,
          0.6849564909934998,
          0.6888170838356018,
          0.6950433850288391
         ],
         "y": [
          0.5981377142857143,
          0.6100395714285715,
          0.63610480911157,
          0.6607828048528018,
          0.6808418267546251,
          0.6829046428571429,
          0.6861391734597301,
          0.6938572142857146,
          0.697781165894768
         ]
        },
        {
         "mode": "markers+lines",
         "showlegend": false,
         "type": "scatter",
         "x": [
          0.6287035942077637,
          0.6490076780319214,
          0.66282057762146,
          0.6856060028076172,
          0.7014503479003906,
          0.7036404609680176,
          0.7084129452705383,
          0.7115259170532227,
          0.7174155712127686
         ],
         "y": [
          0.6227606690222613,
          0.643238287282836,
          0.662747784465354,
          0.6889433199804752,
          0.7050339999999997,
          0.707658369321881,
          0.7097987857142856,
          0.7166482918741426,
          0.7168960714285711
         ]
        },
        {
         "mode": "markers+lines",
         "showlegend": false,
         "type": "scatter",
         "x": [
          0.6758368015289307,
          0.6957204341888428,
          0.7138776779174805,
          0.7369543313980103,
          0.7459098100662231,
          0.7509263753890991,
          0.7525285482406616,
          0.7556214332580566,
          0.7607100009918213
         ],
         "y": [
          0.6787232922726729,
          0.6946171428571429,
          0.715316976442206,
          0.7382343571428572,
          0.754725857142857,
          0.7603751428571428,
          0.7656712857142856,
          0.7674071073601224,
          0.7738846428571426
         ]
        },
        {
         "mode": "markers+lines",
         "showlegend": false,
         "type": "scatter",
         "x": [
          0.6422095894813538,
          0.6630642414093018,
          0.6800767779350281,
          0.704308032989502,
          0.7178235650062561,
          0.7221565246582031,
          0.7253620624542236,
          0.728836178779602,
          0.7340773344039917
         ],
         "y": [
          0.6469037477785146,
          0.6619202857142855,
          0.6826815096522599,
          0.7047152142857145,
          0.7235030390249158,
          0.7286837142857142,
          0.7277414999999999,
          0.7331735099048807,
          0.7367712133958749
         ]
        },
        {
         "mode": "markers+lines",
         "showlegend": false,
         "type": "scatter",
         "x": [
          0.6078603267669678,
          0.626721203327179,
          0.6447891592979431,
          0.6686031818389893,
          0.6859117746353149,
          0.6889187097549438,
          0.6942001581192017,
          0.6977941989898682,
          0.7034875154495239
         ],
         "y": [
          0.6027306080598411,
          0.6211948686213258,
          0.6451965685660416,
          0.6716329968084426,
          0.6876178426576471,
          0.6924359285714284,
          0.6976160443455295,
          0.7017999285714284,
          0.7085446254792085
         ]
        },
        {
         "mode": "markers+lines",
         "showlegend": false,
         "type": "scatter",
         "x": [
          0.39279621839523315,
          0.4139905869960785,
          0.4538731575012207,
          0.4891745448112488,
          0.5173255205154419,
          0.5347168445587158,
          0.5266172885894775,
          0.5385085940361023,
          0.5392956733703613
         ],
         "y": [
          0.4149629408273443,
          0.430671571335427,
          0.4360370714285714,
          0.43994642857142857,
          0.4418084285714285,
          0.4442997142857144,
          0.4488713571428572,
          0.4530004999999999,
          0.45823385714285714
         ]
        },
        {
         "mode": "markers+lines",
         "showlegend": false,
         "type": "scatter",
         "x": [
          0.6322502493858337,
          0.6508376598358154,
          0.6762255430221558,
          0.6980030536651611,
          0.712546706199646,
          0.7175943851470947,
          0.7210137844085693,
          0.7248291373252869,
          0.7296316623687744
         ],
         "y": [
          0.6140541174584615,
          0.6532652857142855,
          0.690167164594452,
          0.6995883821669185,
          0.7044285714285715,
          0.7020617613078048,
          0.7069568571428572,
          0.7089664930762746,
          0.7080385714285714
         ]
        },
        {
         "mode": "markers+lines",
         "showlegend": false,
         "type": "scatter",
         "x": [
          0.6214553713798523,
          0.640271782875061,
          0.6570405960083008,
          0.6824343204498291,
          0.6987626552581787,
          0.7019532918930054,
          0.7067475318908691,
          0.7100541591644287,
          0.7149001359939575
         ],
         "y": [
          0.6161096219737497,
          0.630794043842954,
          0.652401301543121,
          0.6760894285714285,
          0.6962348571428569,
          0.6991748571428573,
          0.7020269285714288,
          0.7062747860071447,
          0.7128274285714288
         ]
        },
        {
         "mode": "markers+lines",
         "showlegend": false,
         "type": "scatter",
         "x": [
          0.6291748285293579,
          0.6483790874481201,
          0.667678952217102,
          0.6923248767852783,
          0.7073365449905396,
          0.7113972902297974,
          0.7155755758285522,
          0.7189470529556274,
          0.7233145236968994
         ],
         "y": [
          0.6306826507531497,
          0.6478908066252896,
          0.6578304197442844,
          0.6848637857142857,
          0.700175142857143,
          0.7019611760853078,
          0.7082799506017605,
          0.708890357142857,
          0.71921559665984
         ]
        }
       ],
       "layout": {
        "autosize": true,
        "template": {
         "data": {
          "bar": [
           {
            "error_x": {
             "color": "rgb(36,36,36)"
            },
            "error_y": {
             "color": "rgb(36,36,36)"
            },
            "marker": {
             "line": {
              "color": "white",
              "width": 0.5
             },
             "pattern": {
              "fillmode": "overlay",
              "size": 10,
              "solidity": 0.2
             }
            },
            "type": "bar"
           }
          ],
          "barpolar": [
           {
            "marker": {
             "line": {
              "color": "white",
              "width": 0.5
             },
             "pattern": {
              "fillmode": "overlay",
              "size": 10,
              "solidity": 0.2
             }
            },
            "type": "barpolar"
           }
          ],
          "carpet": [
           {
            "aaxis": {
             "endlinecolor": "rgb(36,36,36)",
             "gridcolor": "white",
             "linecolor": "white",
             "minorgridcolor": "white",
             "startlinecolor": "rgb(36,36,36)"
            },
            "baxis": {
             "endlinecolor": "rgb(36,36,36)",
             "gridcolor": "white",
             "linecolor": "white",
             "minorgridcolor": "white",
             "startlinecolor": "rgb(36,36,36)"
            },
            "type": "carpet"
           }
          ],
          "choropleth": [
           {
            "colorbar": {
             "outlinewidth": 1,
             "tickcolor": "rgb(36,36,36)",
             "ticks": "outside"
            },
            "type": "choropleth"
           }
          ],
          "contour": [
           {
            "colorbar": {
             "outlinewidth": 1,
             "tickcolor": "rgb(36,36,36)",
             "ticks": "outside"
            },
            "colorscale": [
             [
              0,
              "#440154"
             ],
             [
              0.1111111111111111,
              "#482878"
             ],
             [
              0.2222222222222222,
              "#3e4989"
             ],
             [
              0.3333333333333333,
              "#31688e"
             ],
             [
              0.4444444444444444,
              "#26828e"
             ],
             [
              0.5555555555555556,
              "#1f9e89"
             ],
             [
              0.6666666666666666,
              "#35b779"
             ],
             [
              0.7777777777777778,
              "#6ece58"
             ],
             [
              0.8888888888888888,
              "#b5de2b"
             ],
             [
              1,
              "#fde725"
             ]
            ],
            "type": "contour"
           }
          ],
          "contourcarpet": [
           {
            "colorbar": {
             "outlinewidth": 1,
             "tickcolor": "rgb(36,36,36)",
             "ticks": "outside"
            },
            "type": "contourcarpet"
           }
          ],
          "heatmap": [
           {
            "colorbar": {
             "outlinewidth": 1,
             "tickcolor": "rgb(36,36,36)",
             "ticks": "outside"
            },
            "colorscale": [
             [
              0,
              "#440154"
             ],
             [
              0.1111111111111111,
              "#482878"
             ],
             [
              0.2222222222222222,
              "#3e4989"
             ],
             [
              0.3333333333333333,
              "#31688e"
             ],
             [
              0.4444444444444444,
              "#26828e"
             ],
             [
              0.5555555555555556,
              "#1f9e89"
             ],
             [
              0.6666666666666666,
              "#35b779"
             ],
             [
              0.7777777777777778,
              "#6ece58"
             ],
             [
              0.8888888888888888,
              "#b5de2b"
             ],
             [
              1,
              "#fde725"
             ]
            ],
            "type": "heatmap"
           }
          ],
          "heatmapgl": [
           {
            "colorbar": {
             "outlinewidth": 1,
             "tickcolor": "rgb(36,36,36)",
             "ticks": "outside"
            },
            "colorscale": [
             [
              0,
              "#440154"
             ],
             [
              0.1111111111111111,
              "#482878"
             ],
             [
              0.2222222222222222,
              "#3e4989"
             ],
             [
              0.3333333333333333,
              "#31688e"
             ],
             [
              0.4444444444444444,
              "#26828e"
             ],
             [
              0.5555555555555556,
              "#1f9e89"
             ],
             [
              0.6666666666666666,
              "#35b779"
             ],
             [
              0.7777777777777778,
              "#6ece58"
             ],
             [
              0.8888888888888888,
              "#b5de2b"
             ],
             [
              1,
              "#fde725"
             ]
            ],
            "type": "heatmapgl"
           }
          ],
          "histogram": [
           {
            "marker": {
             "line": {
              "color": "white",
              "width": 0.6
             }
            },
            "type": "histogram"
           }
          ],
          "histogram2d": [
           {
            "colorbar": {
             "outlinewidth": 1,
             "tickcolor": "rgb(36,36,36)",
             "ticks": "outside"
            },
            "colorscale": [
             [
              0,
              "#440154"
             ],
             [
              0.1111111111111111,
              "#482878"
             ],
             [
              0.2222222222222222,
              "#3e4989"
             ],
             [
              0.3333333333333333,
              "#31688e"
             ],
             [
              0.4444444444444444,
              "#26828e"
             ],
             [
              0.5555555555555556,
              "#1f9e89"
             ],
             [
              0.6666666666666666,
              "#35b779"
             ],
             [
              0.7777777777777778,
              "#6ece58"
             ],
             [
              0.8888888888888888,
              "#b5de2b"
             ],
             [
              1,
              "#fde725"
             ]
            ],
            "type": "histogram2d"
           }
          ],
          "histogram2dcontour": [
           {
            "colorbar": {
             "outlinewidth": 1,
             "tickcolor": "rgb(36,36,36)",
             "ticks": "outside"
            },
            "colorscale": [
             [
              0,
              "#440154"
             ],
             [
              0.1111111111111111,
              "#482878"
             ],
             [
              0.2222222222222222,
              "#3e4989"
             ],
             [
              0.3333333333333333,
              "#31688e"
             ],
             [
              0.4444444444444444,
              "#26828e"
             ],
             [
              0.5555555555555556,
              "#1f9e89"
             ],
             [
              0.6666666666666666,
              "#35b779"
             ],
             [
              0.7777777777777778,
              "#6ece58"
             ],
             [
              0.8888888888888888,
              "#b5de2b"
             ],
             [
              1,
              "#fde725"
             ]
            ],
            "type": "histogram2dcontour"
           }
          ],
          "mesh3d": [
           {
            "colorbar": {
             "outlinewidth": 1,
             "tickcolor": "rgb(36,36,36)",
             "ticks": "outside"
            },
            "type": "mesh3d"
           }
          ],
          "parcoords": [
           {
            "line": {
             "colorbar": {
              "outlinewidth": 1,
              "tickcolor": "rgb(36,36,36)",
              "ticks": "outside"
             }
            },
            "type": "parcoords"
           }
          ],
          "pie": [
           {
            "automargin": true,
            "type": "pie"
           }
          ],
          "scatter": [
           {
            "fillpattern": {
             "fillmode": "overlay",
             "size": 10,
             "solidity": 0.2
            },
            "type": "scatter"
           }
          ],
          "scatter3d": [
           {
            "line": {
             "colorbar": {
              "outlinewidth": 1,
              "tickcolor": "rgb(36,36,36)",
              "ticks": "outside"
             }
            },
            "marker": {
             "colorbar": {
              "outlinewidth": 1,
              "tickcolor": "rgb(36,36,36)",
              "ticks": "outside"
             }
            },
            "type": "scatter3d"
           }
          ],
          "scattercarpet": [
           {
            "marker": {
             "colorbar": {
              "outlinewidth": 1,
              "tickcolor": "rgb(36,36,36)",
              "ticks": "outside"
             }
            },
            "type": "scattercarpet"
           }
          ],
          "scattergeo": [
           {
            "marker": {
             "colorbar": {
              "outlinewidth": 1,
              "tickcolor": "rgb(36,36,36)",
              "ticks": "outside"
             }
            },
            "type": "scattergeo"
           }
          ],
          "scattergl": [
           {
            "marker": {
             "colorbar": {
              "outlinewidth": 1,
              "tickcolor": "rgb(36,36,36)",
              "ticks": "outside"
             }
            },
            "type": "scattergl"
           }
          ],
          "scattermapbox": [
           {
            "marker": {
             "colorbar": {
              "outlinewidth": 1,
              "tickcolor": "rgb(36,36,36)",
              "ticks": "outside"
             }
            },
            "type": "scattermapbox"
           }
          ],
          "scatterpolar": [
           {
            "marker": {
             "colorbar": {
              "outlinewidth": 1,
              "tickcolor": "rgb(36,36,36)",
              "ticks": "outside"
             }
            },
            "type": "scatterpolar"
           }
          ],
          "scatterpolargl": [
           {
            "marker": {
             "colorbar": {
              "outlinewidth": 1,
              "tickcolor": "rgb(36,36,36)",
              "ticks": "outside"
             }
            },
            "type": "scatterpolargl"
           }
          ],
          "scatterternary": [
           {
            "marker": {
             "colorbar": {
              "outlinewidth": 1,
              "tickcolor": "rgb(36,36,36)",
              "ticks": "outside"
             }
            },
            "type": "scatterternary"
           }
          ],
          "surface": [
           {
            "colorbar": {
             "outlinewidth": 1,
             "tickcolor": "rgb(36,36,36)",
             "ticks": "outside"
            },
            "colorscale": [
             [
              0,
              "#440154"
             ],
             [
              0.1111111111111111,
              "#482878"
             ],
             [
              0.2222222222222222,
              "#3e4989"
             ],
             [
              0.3333333333333333,
              "#31688e"
             ],
             [
              0.4444444444444444,
              "#26828e"
             ],
             [
              0.5555555555555556,
              "#1f9e89"
             ],
             [
              0.6666666666666666,
              "#35b779"
             ],
             [
              0.7777777777777778,
              "#6ece58"
             ],
             [
              0.8888888888888888,
              "#b5de2b"
             ],
             [
              1,
              "#fde725"
             ]
            ],
            "type": "surface"
           }
          ],
          "table": [
           {
            "cells": {
             "fill": {
              "color": "rgb(237,237,237)"
             },
             "line": {
              "color": "white"
             }
            },
            "header": {
             "fill": {
              "color": "rgb(217,217,217)"
             },
             "line": {
              "color": "white"
             }
            },
            "type": "table"
           }
          ]
         },
         "layout": {
          "annotationdefaults": {
           "arrowhead": 0,
           "arrowwidth": 1
          },
          "autotypenumbers": "strict",
          "coloraxis": {
           "colorbar": {
            "outlinewidth": 1,
            "tickcolor": "rgb(36,36,36)",
            "ticks": "outside"
           }
          },
          "colorscale": {
           "diverging": [
            [
             0,
             "rgb(103,0,31)"
            ],
            [
             0.1,
             "rgb(178,24,43)"
            ],
            [
             0.2,
             "rgb(214,96,77)"
            ],
            [
             0.3,
             "rgb(244,165,130)"
            ],
            [
             0.4,
             "rgb(253,219,199)"
            ],
            [
             0.5,
             "rgb(247,247,247)"
            ],
            [
             0.6,
             "rgb(209,229,240)"
            ],
            [
             0.7,
             "rgb(146,197,222)"
            ],
            [
             0.8,
             "rgb(67,147,195)"
            ],
            [
             0.9,
             "rgb(33,102,172)"
            ],
            [
             1,
             "rgb(5,48,97)"
            ]
           ],
           "sequential": [
            [
             0,
             "#440154"
            ],
            [
             0.1111111111111111,
             "#482878"
            ],
            [
             0.2222222222222222,
             "#3e4989"
            ],
            [
             0.3333333333333333,
             "#31688e"
            ],
            [
             0.4444444444444444,
             "#26828e"
            ],
            [
             0.5555555555555556,
             "#1f9e89"
            ],
            [
             0.6666666666666666,
             "#35b779"
            ],
            [
             0.7777777777777778,
             "#6ece58"
            ],
            [
             0.8888888888888888,
             "#b5de2b"
            ],
            [
             1,
             "#fde725"
            ]
           ],
           "sequentialminus": [
            [
             0,
             "#440154"
            ],
            [
             0.1111111111111111,
             "#482878"
            ],
            [
             0.2222222222222222,
             "#3e4989"
            ],
            [
             0.3333333333333333,
             "#31688e"
            ],
            [
             0.4444444444444444,
             "#26828e"
            ],
            [
             0.5555555555555556,
             "#1f9e89"
            ],
            [
             0.6666666666666666,
             "#35b779"
            ],
            [
             0.7777777777777778,
             "#6ece58"
            ],
            [
             0.8888888888888888,
             "#b5de2b"
            ],
            [
             1,
             "#fde725"
            ]
           ]
          },
          "colorway": [
           "#1F77B4",
           "#FF7F0E",
           "#2CA02C",
           "#D62728",
           "#9467BD",
           "#8C564B",
           "#E377C2",
           "#7F7F7F",
           "#BCBD22",
           "#17BECF"
          ],
          "font": {
           "color": "rgb(36,36,36)"
          },
          "geo": {
           "bgcolor": "white",
           "lakecolor": "white",
           "landcolor": "white",
           "showlakes": true,
           "showland": true,
           "subunitcolor": "white"
          },
          "hoverlabel": {
           "align": "left"
          },
          "hovermode": "closest",
          "mapbox": {
           "style": "light"
          },
          "paper_bgcolor": "white",
          "plot_bgcolor": "white",
          "polar": {
           "angularaxis": {
            "gridcolor": "rgb(232,232,232)",
            "linecolor": "rgb(36,36,36)",
            "showgrid": false,
            "showline": true,
            "ticks": "outside"
           },
           "bgcolor": "white",
           "radialaxis": {
            "gridcolor": "rgb(232,232,232)",
            "linecolor": "rgb(36,36,36)",
            "showgrid": false,
            "showline": true,
            "ticks": "outside"
           }
          },
          "scene": {
           "xaxis": {
            "backgroundcolor": "white",
            "gridcolor": "rgb(232,232,232)",
            "gridwidth": 2,
            "linecolor": "rgb(36,36,36)",
            "showbackground": true,
            "showgrid": false,
            "showline": true,
            "ticks": "outside",
            "zeroline": false,
            "zerolinecolor": "rgb(36,36,36)"
           },
           "yaxis": {
            "backgroundcolor": "white",
            "gridcolor": "rgb(232,232,232)",
            "gridwidth": 2,
            "linecolor": "rgb(36,36,36)",
            "showbackground": true,
            "showgrid": false,
            "showline": true,
            "ticks": "outside",
            "zeroline": false,
            "zerolinecolor": "rgb(36,36,36)"
           },
           "zaxis": {
            "backgroundcolor": "white",
            "gridcolor": "rgb(232,232,232)",
            "gridwidth": 2,
            "linecolor": "rgb(36,36,36)",
            "showbackground": true,
            "showgrid": false,
            "showline": true,
            "ticks": "outside",
            "zeroline": false,
            "zerolinecolor": "rgb(36,36,36)"
           }
          },
          "shapedefaults": {
           "fillcolor": "black",
           "line": {
            "width": 0
           },
           "opacity": 0.3
          },
          "ternary": {
           "aaxis": {
            "gridcolor": "rgb(232,232,232)",
            "linecolor": "rgb(36,36,36)",
            "showgrid": false,
            "showline": true,
            "ticks": "outside"
           },
           "baxis": {
            "gridcolor": "rgb(232,232,232)",
            "linecolor": "rgb(36,36,36)",
            "showgrid": false,
            "showline": true,
            "ticks": "outside"
           },
           "bgcolor": "white",
           "caxis": {
            "gridcolor": "rgb(232,232,232)",
            "linecolor": "rgb(36,36,36)",
            "showgrid": false,
            "showline": true,
            "ticks": "outside"
           }
          },
          "title": {
           "x": 0.05
          },
          "xaxis": {
           "automargin": true,
           "gridcolor": "rgb(232,232,232)",
           "linecolor": "rgb(36,36,36)",
           "showgrid": false,
           "showline": true,
           "ticks": "outside",
           "title": {
            "standoff": 15
           },
           "zeroline": false,
           "zerolinecolor": "rgb(36,36,36)"
          },
          "yaxis": {
           "automargin": true,
           "gridcolor": "rgb(232,232,232)",
           "linecolor": "rgb(36,36,36)",
           "showgrid": false,
           "showline": true,
           "ticks": "outside",
           "title": {
            "standoff": 15
           },
           "zeroline": false,
           "zerolinecolor": "rgb(36,36,36)"
          }
         }
        },
        "xaxis": {
         "autorange": true,
         "range": [
          -0.062317429406036996,
          1.062317429406037
         ],
         "title": {
          "text": "Normalized Temperature Prediction"
         },
         "type": "linear"
        },
        "yaxis": {
         "autorange": true,
         "range": [
          -0.07040998217468805,
          1.070409982174688
         ],
         "title": {
          "text": "Normalized Temperature Target"
         },
         "type": "linear"
        }
       }
      },
      "text/html": [
       "<div>                            <div id=\"d4f2f928-6463-49e0-93be-26320b392ed6\" class=\"plotly-graph-div\" style=\"height:500px; width:100%;\"></div>            <script type=\"text/javascript\">                require([\"plotly\"], function(Plotly) {                    window.PLOTLYENV=window.PLOTLYENV || {};                                    if (document.getElementById(\"d4f2f928-6463-49e0-93be-26320b392ed6\")) {                    Plotly.newPlot(                        \"d4f2f928-6463-49e0-93be-26320b392ed6\",                        [{\"mode\":\"markers+lines\",\"showlegend\":false,\"x\":[0,1],\"y\":[0,1],\"type\":\"scatter\"},{\"mode\":\"markers+lines\",\"showlegend\":false,\"x\":[0.6646132469177246,0.6925843358039856,0.6968724727630615,0.7130180597305298,0.7258298397064209,0.7286481857299805,0.7304387092590332,0.7342301607131958,0.7400134801864624],\"y\":[0.6356126210587665,0.6533147567839942,0.6713336980249613,0.6938555714285712,0.7074188665226547,0.7093004285714285,0.7113031428571429,0.7173105,0.7211426088422143],\"type\":\"scatter\"},{\"mode\":\"markers+lines\",\"showlegend\":false,\"x\":[0.6246308088302612,0.6460912227630615,0.6555212736129761,0.6722022294998169,0.6901184320449829,0.6922628879547119,0.6961688995361328,0.7002124786376953,0.706573486328125],\"y\":[0.6141467469299273,0.63308856398482,0.6498673950449378,0.6769667857142859,0.6928457393126601,0.695392642857143,0.697953706782588,0.7024039999999998,0.707578987792392],\"type\":\"scatter\"},{\"mode\":\"markers+lines\",\"showlegend\":false,\"x\":[0.6081312894821167,0.6275752186775208,0.6384602785110474,0.6564379930496216,0.675071656703949,0.678427517414093,0.6826645731925964,0.6872982382774353,0.6936357617378235],\"y\":[0.5960004285714285,0.6181523700699255,0.6378653571428572,0.6620888516878766,0.6797657142857142,0.6844203682352034,0.6864280714285717,0.6923912857142857,0.6953647857142856],\"type\":\"scatter\"},{\"mode\":\"markers+lines\",\"showlegend\":false,\"x\":[0.6244486570358276,0.6454554796218872,0.6557799577713013,0.6736831665039062,0.6913596987724304,0.6935254335403442,0.6977696418762207,0.7015246748924255,0.7078489065170288],\"y\":[0.6098291976585136,0.624366619820498,0.6435025432097512,0.6703357592121293,0.6829635000000002,0.6914979258960483,0.6947830714285713,0.6976389285714285,0.7019822777829137],\"type\":\"scatter\"},{\"mode\":\"markers+lines\",\"showlegend\":false,\"x\":[0.6026663184165955,0.6217449903488159,0.6341060996055603,0.6530276536941528,0.6704659461975098,0.6733696460723877,0.6781701445579529,0.682695746421814,0.6891130208969116],\"y\":[0.5906016087839162,0.6101260610058343,0.6302085228979368,0.6586666428571429,0.6757369129014912,0.6836280714285715,0.6833316428571428,0.6905623571428572,0.6937972142857143],\"type\":\"scatter\"},{\"mode\":\"markers+lines\",\"showlegend\":false,\"x\":[0.6922606229782104,0.7149801254272461,0.7276374101638794,0.7517014741897583,0.7570348978042603,0.7610508799552917,0.7621128559112549,0.7648998498916626,0.7702572345733643],\"y\":[0.6878912857142855,0.7083032142857145,0.723688218746109,0.7544953571428573,0.7663353571428573,0.7729914285714286,0.7742074999999998,0.7832938571428569,0.7809197857142856],\"type\":\"scatter\"},{\"mode\":\"markers+lines\",\"showlegend\":false,\"x\":[0.780574381351471,0.8170448541641235,0.8177316188812256,0.8455970287322998,0.8413331508636475,0.8428182005882263,0.8437561988830566,0.8426921367645264,0.8451751470565796],\"y\":[0.7882545714285715,0.8072624615451908,0.8272830714285716,0.848693329613426,0.8635847857142858,0.8691661988590451,0.8729877142857144,0.8736485861249468,0.8811776428571427],\"type\":\"scatter\"},{\"mode\":\"markers+lines\",\"showlegend\":false,\"x\":[0.5983673334121704,0.6147615909576416,0.6301395893096924,0.6515676975250244,0.6695008277893066,0.6731752157211304,0.6781821250915527,0.6823973655700684,0.6886148452758789],\"y\":[0.5866437635314923,0.6035764551442926,0.6235691446034274,0.6517865,0.6655265000000001,0.6696700714285713,0.676770642857143,0.6776143445770227,0.6829346428571428],\"type\":\"scatter\"},{\"mode\":\"markers+lines\",\"showlegend\":false,\"x\":[0.6036962270736694,0.6228430867195129,0.6386642456054688,0.6601182222366333,0.6769917607307434,0.6795107126235962,0.6849564909934998,0.6888170838356018,0.6950433850288391],\"y\":[0.5981377142857143,0.6100395714285715,0.63610480911157,0.6607828048528018,0.6808418267546251,0.6829046428571429,0.6861391734597301,0.6938572142857146,0.697781165894768],\"type\":\"scatter\"},{\"mode\":\"markers+lines\",\"showlegend\":false,\"x\":[0.6287035942077637,0.6490076780319214,0.66282057762146,0.6856060028076172,0.7014503479003906,0.7036404609680176,0.7084129452705383,0.7115259170532227,0.7174155712127686],\"y\":[0.6227606690222613,0.643238287282836,0.662747784465354,0.6889433199804752,0.7050339999999997,0.707658369321881,0.7097987857142856,0.7166482918741426,0.7168960714285711],\"type\":\"scatter\"},{\"mode\":\"markers+lines\",\"showlegend\":false,\"x\":[0.6758368015289307,0.6957204341888428,0.7138776779174805,0.7369543313980103,0.7459098100662231,0.7509263753890991,0.7525285482406616,0.7556214332580566,0.7607100009918213],\"y\":[0.6787232922726729,0.6946171428571429,0.715316976442206,0.7382343571428572,0.754725857142857,0.7603751428571428,0.7656712857142856,0.7674071073601224,0.7738846428571426],\"type\":\"scatter\"},{\"mode\":\"markers+lines\",\"showlegend\":false,\"x\":[0.6422095894813538,0.6630642414093018,0.6800767779350281,0.704308032989502,0.7178235650062561,0.7221565246582031,0.7253620624542236,0.728836178779602,0.7340773344039917],\"y\":[0.6469037477785146,0.6619202857142855,0.6826815096522599,0.7047152142857145,0.7235030390249158,0.7286837142857142,0.7277414999999999,0.7331735099048807,0.7367712133958749],\"type\":\"scatter\"},{\"mode\":\"markers+lines\",\"showlegend\":false,\"x\":[0.6078603267669678,0.626721203327179,0.6447891592979431,0.6686031818389893,0.6859117746353149,0.6889187097549438,0.6942001581192017,0.6977941989898682,0.7034875154495239],\"y\":[0.6027306080598411,0.6211948686213258,0.6451965685660416,0.6716329968084426,0.6876178426576471,0.6924359285714284,0.6976160443455295,0.7017999285714284,0.7085446254792085],\"type\":\"scatter\"},{\"mode\":\"markers+lines\",\"showlegend\":false,\"x\":[0.39279621839523315,0.4139905869960785,0.4538731575012207,0.4891745448112488,0.5173255205154419,0.5347168445587158,0.5266172885894775,0.5385085940361023,0.5392956733703613],\"y\":[0.4149629408273443,0.430671571335427,0.4360370714285714,0.43994642857142857,0.4418084285714285,0.4442997142857144,0.4488713571428572,0.4530004999999999,0.45823385714285714],\"type\":\"scatter\"},{\"mode\":\"markers+lines\",\"showlegend\":false,\"x\":[0.6322502493858337,0.6508376598358154,0.6762255430221558,0.6980030536651611,0.712546706199646,0.7175943851470947,0.7210137844085693,0.7248291373252869,0.7296316623687744],\"y\":[0.6140541174584615,0.6532652857142855,0.690167164594452,0.6995883821669185,0.7044285714285715,0.7020617613078048,0.7069568571428572,0.7089664930762746,0.7080385714285714],\"type\":\"scatter\"},{\"mode\":\"markers+lines\",\"showlegend\":false,\"x\":[0.6214553713798523,0.640271782875061,0.6570405960083008,0.6824343204498291,0.6987626552581787,0.7019532918930054,0.7067475318908691,0.7100541591644287,0.7149001359939575],\"y\":[0.6161096219737497,0.630794043842954,0.652401301543121,0.6760894285714285,0.6962348571428569,0.6991748571428573,0.7020269285714288,0.7062747860071447,0.7128274285714288],\"type\":\"scatter\"},{\"mode\":\"markers+lines\",\"showlegend\":false,\"x\":[0.6291748285293579,0.6483790874481201,0.667678952217102,0.6923248767852783,0.7073365449905396,0.7113972902297974,0.7155755758285522,0.7189470529556274,0.7233145236968994],\"y\":[0.6306826507531497,0.6478908066252896,0.6578304197442844,0.6848637857142857,0.700175142857143,0.7019611760853078,0.7082799506017605,0.708890357142857,0.71921559665984],\"type\":\"scatter\"}],                        {\"template\":{\"data\":{\"barpolar\":[{\"marker\":{\"line\":{\"color\":\"white\",\"width\":0.5},\"pattern\":{\"fillmode\":\"overlay\",\"size\":10,\"solidity\":0.2}},\"type\":\"barpolar\"}],\"bar\":[{\"error_x\":{\"color\":\"rgb(36,36,36)\"},\"error_y\":{\"color\":\"rgb(36,36,36)\"},\"marker\":{\"line\":{\"color\":\"white\",\"width\":0.5},\"pattern\":{\"fillmode\":\"overlay\",\"size\":10,\"solidity\":0.2}},\"type\":\"bar\"}],\"carpet\":[{\"aaxis\":{\"endlinecolor\":\"rgb(36,36,36)\",\"gridcolor\":\"white\",\"linecolor\":\"white\",\"minorgridcolor\":\"white\",\"startlinecolor\":\"rgb(36,36,36)\"},\"baxis\":{\"endlinecolor\":\"rgb(36,36,36)\",\"gridcolor\":\"white\",\"linecolor\":\"white\",\"minorgridcolor\":\"white\",\"startlinecolor\":\"rgb(36,36,36)\"},\"type\":\"carpet\"}],\"choropleth\":[{\"colorbar\":{\"outlinewidth\":1,\"tickcolor\":\"rgb(36,36,36)\",\"ticks\":\"outside\"},\"type\":\"choropleth\"}],\"contourcarpet\":[{\"colorbar\":{\"outlinewidth\":1,\"tickcolor\":\"rgb(36,36,36)\",\"ticks\":\"outside\"},\"type\":\"contourcarpet\"}],\"contour\":[{\"colorbar\":{\"outlinewidth\":1,\"tickcolor\":\"rgb(36,36,36)\",\"ticks\":\"outside\"},\"colorscale\":[[0.0,\"#440154\"],[0.1111111111111111,\"#482878\"],[0.2222222222222222,\"#3e4989\"],[0.3333333333333333,\"#31688e\"],[0.4444444444444444,\"#26828e\"],[0.5555555555555556,\"#1f9e89\"],[0.6666666666666666,\"#35b779\"],[0.7777777777777778,\"#6ece58\"],[0.8888888888888888,\"#b5de2b\"],[1.0,\"#fde725\"]],\"type\":\"contour\"}],\"heatmapgl\":[{\"colorbar\":{\"outlinewidth\":1,\"tickcolor\":\"rgb(36,36,36)\",\"ticks\":\"outside\"},\"colorscale\":[[0.0,\"#440154\"],[0.1111111111111111,\"#482878\"],[0.2222222222222222,\"#3e4989\"],[0.3333333333333333,\"#31688e\"],[0.4444444444444444,\"#26828e\"],[0.5555555555555556,\"#1f9e89\"],[0.6666666666666666,\"#35b779\"],[0.7777777777777778,\"#6ece58\"],[0.8888888888888888,\"#b5de2b\"],[1.0,\"#fde725\"]],\"type\":\"heatmapgl\"}],\"heatmap\":[{\"colorbar\":{\"outlinewidth\":1,\"tickcolor\":\"rgb(36,36,36)\",\"ticks\":\"outside\"},\"colorscale\":[[0.0,\"#440154\"],[0.1111111111111111,\"#482878\"],[0.2222222222222222,\"#3e4989\"],[0.3333333333333333,\"#31688e\"],[0.4444444444444444,\"#26828e\"],[0.5555555555555556,\"#1f9e89\"],[0.6666666666666666,\"#35b779\"],[0.7777777777777778,\"#6ece58\"],[0.8888888888888888,\"#b5de2b\"],[1.0,\"#fde725\"]],\"type\":\"heatmap\"}],\"histogram2dcontour\":[{\"colorbar\":{\"outlinewidth\":1,\"tickcolor\":\"rgb(36,36,36)\",\"ticks\":\"outside\"},\"colorscale\":[[0.0,\"#440154\"],[0.1111111111111111,\"#482878\"],[0.2222222222222222,\"#3e4989\"],[0.3333333333333333,\"#31688e\"],[0.4444444444444444,\"#26828e\"],[0.5555555555555556,\"#1f9e89\"],[0.6666666666666666,\"#35b779\"],[0.7777777777777778,\"#6ece58\"],[0.8888888888888888,\"#b5de2b\"],[1.0,\"#fde725\"]],\"type\":\"histogram2dcontour\"}],\"histogram2d\":[{\"colorbar\":{\"outlinewidth\":1,\"tickcolor\":\"rgb(36,36,36)\",\"ticks\":\"outside\"},\"colorscale\":[[0.0,\"#440154\"],[0.1111111111111111,\"#482878\"],[0.2222222222222222,\"#3e4989\"],[0.3333333333333333,\"#31688e\"],[0.4444444444444444,\"#26828e\"],[0.5555555555555556,\"#1f9e89\"],[0.6666666666666666,\"#35b779\"],[0.7777777777777778,\"#6ece58\"],[0.8888888888888888,\"#b5de2b\"],[1.0,\"#fde725\"]],\"type\":\"histogram2d\"}],\"histogram\":[{\"marker\":{\"line\":{\"color\":\"white\",\"width\":0.6}},\"type\":\"histogram\"}],\"mesh3d\":[{\"colorbar\":{\"outlinewidth\":1,\"tickcolor\":\"rgb(36,36,36)\",\"ticks\":\"outside\"},\"type\":\"mesh3d\"}],\"parcoords\":[{\"line\":{\"colorbar\":{\"outlinewidth\":1,\"tickcolor\":\"rgb(36,36,36)\",\"ticks\":\"outside\"}},\"type\":\"parcoords\"}],\"pie\":[{\"automargin\":true,\"type\":\"pie\"}],\"scatter3d\":[{\"line\":{\"colorbar\":{\"outlinewidth\":1,\"tickcolor\":\"rgb(36,36,36)\",\"ticks\":\"outside\"}},\"marker\":{\"colorbar\":{\"outlinewidth\":1,\"tickcolor\":\"rgb(36,36,36)\",\"ticks\":\"outside\"}},\"type\":\"scatter3d\"}],\"scattercarpet\":[{\"marker\":{\"colorbar\":{\"outlinewidth\":1,\"tickcolor\":\"rgb(36,36,36)\",\"ticks\":\"outside\"}},\"type\":\"scattercarpet\"}],\"scattergeo\":[{\"marker\":{\"colorbar\":{\"outlinewidth\":1,\"tickcolor\":\"rgb(36,36,36)\",\"ticks\":\"outside\"}},\"type\":\"scattergeo\"}],\"scattergl\":[{\"marker\":{\"colorbar\":{\"outlinewidth\":1,\"tickcolor\":\"rgb(36,36,36)\",\"ticks\":\"outside\"}},\"type\":\"scattergl\"}],\"scattermapbox\":[{\"marker\":{\"colorbar\":{\"outlinewidth\":1,\"tickcolor\":\"rgb(36,36,36)\",\"ticks\":\"outside\"}},\"type\":\"scattermapbox\"}],\"scatterpolargl\":[{\"marker\":{\"colorbar\":{\"outlinewidth\":1,\"tickcolor\":\"rgb(36,36,36)\",\"ticks\":\"outside\"}},\"type\":\"scatterpolargl\"}],\"scatterpolar\":[{\"marker\":{\"colorbar\":{\"outlinewidth\":1,\"tickcolor\":\"rgb(36,36,36)\",\"ticks\":\"outside\"}},\"type\":\"scatterpolar\"}],\"scatter\":[{\"fillpattern\":{\"fillmode\":\"overlay\",\"size\":10,\"solidity\":0.2},\"type\":\"scatter\"}],\"scatterternary\":[{\"marker\":{\"colorbar\":{\"outlinewidth\":1,\"tickcolor\":\"rgb(36,36,36)\",\"ticks\":\"outside\"}},\"type\":\"scatterternary\"}],\"surface\":[{\"colorbar\":{\"outlinewidth\":1,\"tickcolor\":\"rgb(36,36,36)\",\"ticks\":\"outside\"},\"colorscale\":[[0.0,\"#440154\"],[0.1111111111111111,\"#482878\"],[0.2222222222222222,\"#3e4989\"],[0.3333333333333333,\"#31688e\"],[0.4444444444444444,\"#26828e\"],[0.5555555555555556,\"#1f9e89\"],[0.6666666666666666,\"#35b779\"],[0.7777777777777778,\"#6ece58\"],[0.8888888888888888,\"#b5de2b\"],[1.0,\"#fde725\"]],\"type\":\"surface\"}],\"table\":[{\"cells\":{\"fill\":{\"color\":\"rgb(237,237,237)\"},\"line\":{\"color\":\"white\"}},\"header\":{\"fill\":{\"color\":\"rgb(217,217,217)\"},\"line\":{\"color\":\"white\"}},\"type\":\"table\"}]},\"layout\":{\"annotationdefaults\":{\"arrowhead\":0,\"arrowwidth\":1},\"autotypenumbers\":\"strict\",\"coloraxis\":{\"colorbar\":{\"outlinewidth\":1,\"tickcolor\":\"rgb(36,36,36)\",\"ticks\":\"outside\"}},\"colorscale\":{\"diverging\":[[0.0,\"rgb(103,0,31)\"],[0.1,\"rgb(178,24,43)\"],[0.2,\"rgb(214,96,77)\"],[0.3,\"rgb(244,165,130)\"],[0.4,\"rgb(253,219,199)\"],[0.5,\"rgb(247,247,247)\"],[0.6,\"rgb(209,229,240)\"],[0.7,\"rgb(146,197,222)\"],[0.8,\"rgb(67,147,195)\"],[0.9,\"rgb(33,102,172)\"],[1.0,\"rgb(5,48,97)\"]],\"sequential\":[[0.0,\"#440154\"],[0.1111111111111111,\"#482878\"],[0.2222222222222222,\"#3e4989\"],[0.3333333333333333,\"#31688e\"],[0.4444444444444444,\"#26828e\"],[0.5555555555555556,\"#1f9e89\"],[0.6666666666666666,\"#35b779\"],[0.7777777777777778,\"#6ece58\"],[0.8888888888888888,\"#b5de2b\"],[1.0,\"#fde725\"]],\"sequentialminus\":[[0.0,\"#440154\"],[0.1111111111111111,\"#482878\"],[0.2222222222222222,\"#3e4989\"],[0.3333333333333333,\"#31688e\"],[0.4444444444444444,\"#26828e\"],[0.5555555555555556,\"#1f9e89\"],[0.6666666666666666,\"#35b779\"],[0.7777777777777778,\"#6ece58\"],[0.8888888888888888,\"#b5de2b\"],[1.0,\"#fde725\"]]},\"colorway\":[\"#1F77B4\",\"#FF7F0E\",\"#2CA02C\",\"#D62728\",\"#9467BD\",\"#8C564B\",\"#E377C2\",\"#7F7F7F\",\"#BCBD22\",\"#17BECF\"],\"font\":{\"color\":\"rgb(36,36,36)\"},\"geo\":{\"bgcolor\":\"white\",\"lakecolor\":\"white\",\"landcolor\":\"white\",\"showlakes\":true,\"showland\":true,\"subunitcolor\":\"white\"},\"hoverlabel\":{\"align\":\"left\"},\"hovermode\":\"closest\",\"mapbox\":{\"style\":\"light\"},\"paper_bgcolor\":\"white\",\"plot_bgcolor\":\"white\",\"polar\":{\"angularaxis\":{\"gridcolor\":\"rgb(232,232,232)\",\"linecolor\":\"rgb(36,36,36)\",\"showgrid\":false,\"showline\":true,\"ticks\":\"outside\"},\"bgcolor\":\"white\",\"radialaxis\":{\"gridcolor\":\"rgb(232,232,232)\",\"linecolor\":\"rgb(36,36,36)\",\"showgrid\":false,\"showline\":true,\"ticks\":\"outside\"}},\"scene\":{\"xaxis\":{\"backgroundcolor\":\"white\",\"gridcolor\":\"rgb(232,232,232)\",\"gridwidth\":2,\"linecolor\":\"rgb(36,36,36)\",\"showbackground\":true,\"showgrid\":false,\"showline\":true,\"ticks\":\"outside\",\"zeroline\":false,\"zerolinecolor\":\"rgb(36,36,36)\"},\"yaxis\":{\"backgroundcolor\":\"white\",\"gridcolor\":\"rgb(232,232,232)\",\"gridwidth\":2,\"linecolor\":\"rgb(36,36,36)\",\"showbackground\":true,\"showgrid\":false,\"showline\":true,\"ticks\":\"outside\",\"zeroline\":false,\"zerolinecolor\":\"rgb(36,36,36)\"},\"zaxis\":{\"backgroundcolor\":\"white\",\"gridcolor\":\"rgb(232,232,232)\",\"gridwidth\":2,\"linecolor\":\"rgb(36,36,36)\",\"showbackground\":true,\"showgrid\":false,\"showline\":true,\"ticks\":\"outside\",\"zeroline\":false,\"zerolinecolor\":\"rgb(36,36,36)\"}},\"shapedefaults\":{\"fillcolor\":\"black\",\"line\":{\"width\":0},\"opacity\":0.3},\"ternary\":{\"aaxis\":{\"gridcolor\":\"rgb(232,232,232)\",\"linecolor\":\"rgb(36,36,36)\",\"showgrid\":false,\"showline\":true,\"ticks\":\"outside\"},\"baxis\":{\"gridcolor\":\"rgb(232,232,232)\",\"linecolor\":\"rgb(36,36,36)\",\"showgrid\":false,\"showline\":true,\"ticks\":\"outside\"},\"bgcolor\":\"white\",\"caxis\":{\"gridcolor\":\"rgb(232,232,232)\",\"linecolor\":\"rgb(36,36,36)\",\"showgrid\":false,\"showline\":true,\"ticks\":\"outside\"}},\"title\":{\"x\":0.05},\"xaxis\":{\"automargin\":true,\"gridcolor\":\"rgb(232,232,232)\",\"linecolor\":\"rgb(36,36,36)\",\"showgrid\":false,\"showline\":true,\"ticks\":\"outside\",\"title\":{\"standoff\":15},\"zeroline\":false,\"zerolinecolor\":\"rgb(36,36,36)\"},\"yaxis\":{\"automargin\":true,\"gridcolor\":\"rgb(232,232,232)\",\"linecolor\":\"rgb(36,36,36)\",\"showgrid\":false,\"showline\":true,\"ticks\":\"outside\",\"title\":{\"standoff\":15},\"zeroline\":false,\"zerolinecolor\":\"rgb(36,36,36)\"}}},\"yaxis\":{\"title\":{\"text\":\"Normalized Temperature Target\"}},\"xaxis\":{\"title\":{\"text\":\"Normalized Temperature Prediction\"}},\"height\":500},                        {\"responsive\": true}                    ).then(function(){\n",
       "                            \n",
       "var gd = document.getElementById('d4f2f928-6463-49e0-93be-26320b392ed6');\n",
       "var x = new MutationObserver(function (mutations, observer) {{\n",
       "        var display = window.getComputedStyle(gd).display;\n",
       "        if (!display || display === 'none') {{\n",
       "            console.log([gd, 'removed!']);\n",
       "            Plotly.purge(gd);\n",
       "            observer.disconnect();\n",
       "        }}\n",
       "}});\n",
       "\n",
       "// Listen for the removal of the full notebook cells\n",
       "var notebookContainer = gd.closest('#notebook-container');\n",
       "if (notebookContainer) {{\n",
       "    x.observe(notebookContainer, {childList: true});\n",
       "}}\n",
       "\n",
       "// Listen for the clearing of the current output cell\n",
       "var outputEl = gd.closest('.output');\n",
       "if (outputEl) {{\n",
       "    x.observe(outputEl, {childList: true});\n",
       "}}\n",
       "\n",
       "                        })                };                });            </script>        </div>"
      ]
     },
     "metadata": {},
     "output_type": "display_data"
    }
   ],
   "source": [
    "# random plotting traing error at some interval = skip to not make the plot rendering too slow\n",
    "batch_size = datasets[\"batch_size\"]\n",
    "print(batch_size)\n",
    "skip = 70\n",
    "\n",
    "fig = go.Figure()\n",
    "fig.add_trace(go.Scatter(x=[0, 1], y=[0, 1], showlegend=False, mode=\"markers+lines\"))\n",
    "for i in range(0, len(datasets[\"X_train\"]), batch_size * skip):\n",
    "    # print(i)\n",
    "    df_pred = pd.DataFrame(model.predict(datasets[\"X_train\"][i : i + batch_size], verbose=0)[:, :, 0])\n",
    "    df_train = pd.DataFrame(datasets[\"y_train\"][i : i + batch_size][:, :, 0])\n",
    "    # print(df_pred.values[0])\n",
    "    fig.add_trace(\n",
    "        go.Scatter(\n",
    "            x=df_pred.values[0],\n",
    "            y=df_train.values[0],\n",
    "            showlegend=False,\n",
    "            mode=\"markers+lines\",\n",
    "        )\n",
    "    )\n",
    "\n",
    "fig.update_yaxes(title=\"Normalized Temperature Target\")\n",
    "fig.update_xaxes(title=\"Normalized Temperature Prediction\")\n",
    "fig.update_layout(template=\"simple_white\")\n",
    "fig.update_layout(height=500)"
   ]
  },
  {
   "cell_type": "code",
   "execution_count": 24,
   "id": "adaa7579",
   "metadata": {},
   "outputs": [
    {
     "data": {
      "application/vnd.plotly.v1+json": {
       "config": {
        "plotlyServerURL": "https://plot.ly"
       },
       "data": [
        {
         "mode": "markers+lines",
         "showlegend": false,
         "type": "scatter",
         "x": [
          0,
          1
         ],
         "y": [
          0,
          1
         ]
        },
        {
         "mode": "markers+lines",
         "showlegend": false,
         "type": "scatter",
         "x": [
          0.6843287944793701,
          0.6599665880203247,
          0.6096562147140503,
          0.5105918645858765,
          0.3875225782394409,
          0.34518760442733765,
          0.2977464199066162,
          0.24104034900665283,
          0.17682799696922302
         ],
         "y": [
          0.6801438309200308,
          0.657029937899099,
          0.6214219193856589,
          0.5474449078812436,
          0.45786318033630014,
          0.4289044038766435,
          0.392949171571247,
          0.34553122725077373,
          0.274080830084515
         ]
        },
        {
         "mode": "markers+lines",
         "showlegend": false,
         "type": "scatter",
         "x": [
          0.6846311092376709,
          0.6565197706222534,
          0.6074197292327881,
          0.5042870044708252,
          0.3807141184806824,
          0.33302557468414307,
          0.2852233648300171,
          0.23168396949768066,
          0.17238843441009521
         ],
         "y": [
          0.679934569680138,
          0.6574210431521503,
          0.6201550008155642,
          0.5368827388027259,
          0.4400850712920665,
          0.4092510114139114,
          0.3705906671179071,
          0.3188193747717724,
          0.24073844032046487
         ]
        },
        {
         "mode": "markers+lines",
         "showlegend": false,
         "type": "scatter",
         "x": [
          0.6852812767028809,
          0.6543970108032227,
          0.605778157711029,
          0.500730037689209,
          0.3765038251876831,
          0.32824864983558655,
          0.28043004870414734,
          0.22829654812812805,
          0.1710399091243744
         ],
         "y": [
          0.6773012924185579,
          0.6532575732116858,
          0.6129591059678868,
          0.5242826431967161,
          0.42574783889927176,
          0.3946274536032811,
          0.3557496494185759,
          0.3038863206621171,
          0.2254396527112231
         ]
        },
        {
         "mode": "markers+lines",
         "showlegend": false,
         "type": "scatter",
         "x": [
          0.6851075887680054,
          0.6540898680686951,
          0.606130838394165,
          0.5007060766220093,
          0.37783750891685486,
          0.3312225639820099,
          0.283270001411438,
          0.2299412190914154,
          0.17115247249603271
         ],
         "y": [
          0.6776859157008439,
          0.6529239926500437,
          0.6108750608828514,
          0.5182643719764827,
          0.416803589870325,
          0.384800456529449,
          0.343979528183178,
          0.28912629576058585,
          0.20615840399557642
         ]
        },
        {
         "mode": "markers+lines",
         "showlegend": false,
         "type": "scatter",
         "x": [
          0.6852470636367798,
          0.6523890495300293,
          0.6043028831481934,
          0.4957393407821655,
          0.37226277589797974,
          0.32416531443595886,
          0.27663224935531616,
          0.22559252381324768,
          0.169948548078537
         ],
         "y": [
          0.6746431611980493,
          0.6485862836926134,
          0.6037927378887471,
          0.5053292207240232,
          0.3977284563787555,
          0.3632352086546133,
          0.3188181128285066,
          0.25785843299439554,
          0.1761531755476572
         ]
        },
        {
         "mode": "markers+lines",
         "showlegend": false,
         "type": "scatter",
         "x": [
          0.6906080842018127,
          0.6611368656158447,
          0.611714780330658,
          0.5090159773826599,
          0.3901330232620239,
          0.3495914936065674,
          0.30178236961364746,
          0.24295265972614288,
          0.17580904066562653
         ],
         "y": [
          0.6816531995967767,
          0.6563984801618686,
          0.6125342628386496,
          0.5154424127426214,
          0.4099133300213789,
          0.37600085864603044,
          0.3323975125869525,
          0.2713577300703292,
          0.18702838907964123
         ]
        },
        {
         "mode": "markers+lines",
         "showlegend": false,
         "type": "scatter",
         "x": [
          0.6973906755447388,
          0.6730694770812988,
          0.6229152083396912,
          0.5226306915283203,
          0.40784934163093567,
          0.3678966760635376,
          0.32270675897598267,
          0.261236310005188,
          0.19440409541130066
         ],
         "y": [
          0.687728469196423,
          0.6631142484620574,
          0.6198152846051352,
          0.5230986217419668,
          0.4178366167806682,
          0.3836845467959787,
          0.3396967045131052,
          0.2770395958563912,
          0.18664582833762725
         ]
        },
        {
         "mode": "markers+lines",
         "showlegend": false,
         "type": "scatter",
         "x": [
          0.6823413372039795,
          0.6484960317611694,
          0.6010453701019287,
          0.4895360469818115,
          0.3669968843460083,
          0.32090872526168823,
          0.27280905842781067,
          0.22222831845283508,
          0.16780585050582886
         ],
         "y": [
          0.6721047205503972,
          0.6438070878861036,
          0.5943368527118374,
          0.4872065857894964,
          0.3711299967418958,
          0.33326873621084496,
          0.28419019981147936,
          0.22758941738721428,
          0.1678502759976571
         ]
        },
        {
         "mode": "markers+lines",
         "showlegend": false,
         "type": "scatter",
         "x": [
          0.6804987192153931,
          0.6491718292236328,
          0.5992815494537354,
          0.4890355169773102,
          0.3666583299636841,
          0.3216855227947235,
          0.27371281385421753,
          0.2226913720369339,
          0.1673935353755951
         ],
         "y": [
          0.6713526211323759,
          0.6426221689651063,
          0.5916403154317378,
          0.4813774256345826,
          0.3607822237958613,
          0.32045615619915874,
          0.2694567783462744,
          0.21662755171169157,
          0.15724154064374238
         ]
        },
        {
         "mode": "markers+lines",
         "showlegend": false,
         "type": "scatter",
         "x": [
          0.6814656257629395,
          0.650425136089325,
          0.6021553874015808,
          0.49290260672569275,
          0.37087538838386536,
          0.32854601740837097,
          0.2800138294696808,
          0.22644905745983124,
          0.16757017374038696
         ],
         "y": [
          0.6738265090409491,
          0.645179393096074,
          0.5945579914104329,
          0.4847274118516738,
          0.3650060429032939,
          0.3247375575498315,
          0.2734796677869807,
          0.21822610754041552,
          0.15909082800668436
         ]
        },
        {
         "mode": "markers+lines",
         "showlegend": false,
         "type": "scatter",
         "x": [
          0.6870487928390503,
          0.6569117307662964,
          0.6087731122970581,
          0.50105220079422,
          0.3830965757369995,
          0.3420335352420807,
          0.2935110628604889,
          0.23574048280715942,
          0.17014363408088684
         ],
         "y": [
          0.6779653262970056,
          0.6499857858581026,
          0.6003880969448857,
          0.4930261726108784,
          0.3765569289831804,
          0.3380878003122275,
          0.28777338911903133,
          0.22785971314842576,
          0.1663920421413486
         ]
        },
        {
         "mode": "markers+lines",
         "showlegend": false,
         "type": "scatter",
         "x": [
          0.6815541982650757,
          0.6523852348327637,
          0.6046404242515564,
          0.495003342628479,
          0.3738003969192505,
          0.3331492245197296,
          0.28414249420166016,
          0.22863706946372986,
          0.1665976643562317
         ],
         "y": [
          0.6751750675539291,
          0.646376912653353,
          0.595130309892562,
          0.4849838578095061,
          0.36475510394718186,
          0.3243031119146003,
          0.2728357640808834,
          0.2170786720323156,
          0.15806553322133152
         ]
        },
        {
         "mode": "markers+lines",
         "showlegend": false,
         "type": "scatter",
         "x": [
          0.6769713163375854,
          0.6472150087356567,
          0.5954524278640747,
          0.48548850417137146,
          0.36382991075515747,
          0.3216910660266876,
          0.2729808986186981,
          0.22120709717273712,
          0.16493439674377441
         ],
         "y": [
          0.6706685743593601,
          0.6408467567476792,
          0.5878514311438225,
          0.4752740208368368,
          0.35233503133410765,
          0.31084403468233923,
          0.26058306670341425,
          0.21148699941202204,
          0.15595542411992777
         ]
        },
        {
         "mode": "markers+lines",
         "showlegend": false,
         "type": "scatter",
         "x": [
          0.6688449382781982,
          0.6369632482528687,
          0.5781347751617432,
          0.45956942439079285,
          0.3276587426662445,
          0.29140135645866394,
          0.2532784044742584,
          0.2075442373752594,
          0.16419249773025513
         ],
         "y": [
          0.654836085508943,
          0.6221271475717544,
          0.5646626346445607,
          0.445145969450164,
          0.31383210933748285,
          0.2733647336780346,
          0.23689124163525613,
          0.20115111023367163,
          0.14934802630303473
         ]
        },
        {
         "mode": "markers+lines",
         "showlegend": false,
         "type": "scatter",
         "x": [
          0.6725023984909058,
          0.6509875059127808,
          0.598255455493927,
          0.48884502053260803,
          0.3691653609275818,
          0.3279187083244324,
          0.27905920147895813,
          0.22469155490398407,
          0.16472958028316498
         ],
         "y": [
          0.6735220631977324,
          0.6440750421701437,
          0.5917442152745548,
          0.48186101498823697,
          0.36332707460901625,
          0.32339840782307405,
          0.2727928923661338,
          0.21793172511097703,
          0.16074712953013304
         ]
        },
        {
         "mode": "markers+lines",
         "showlegend": false,
         "type": "scatter",
         "x": [
          0.6762516498565674,
          0.6461716890335083,
          0.5918028354644775,
          0.48310330510139465,
          0.3631564676761627,
          0.32301121950149536,
          0.27387410402297974,
          0.22099581360816956,
          0.16479206085205078
         ],
         "y": [
          0.6725463534530042,
          0.6427269465149243,
          0.5897380738570411,
          0.4796087349038718,
          0.3613370321357025,
          0.3217979198847771,
          0.27188605104052876,
          0.21869837968185293,
          0.1633913825023
         ]
        },
        {
         "mode": "markers+lines",
         "showlegend": false,
         "type": "scatter",
         "x": [
          0.6750771999359131,
          0.6470858454704285,
          0.5917702913284302,
          0.48311567306518555,
          0.3645441234111786,
          0.3243999481201172,
          0.27516767382621765,
          0.22145095467567444,
          0.1647539585828781
         ],
         "y": [
          0.6734094316906765,
          0.6437367365357222,
          0.5904659055997498,
          0.4802735832132288,
          0.36127958922191633,
          0.3209801695428209,
          0.27012714819345623,
          0.21497037108830794,
          0.15689772931483487
         ]
        }
       ],
       "layout": {
        "autosize": true,
        "template": {
         "data": {
          "bar": [
           {
            "error_x": {
             "color": "rgb(36,36,36)"
            },
            "error_y": {
             "color": "rgb(36,36,36)"
            },
            "marker": {
             "line": {
              "color": "white",
              "width": 0.5
             },
             "pattern": {
              "fillmode": "overlay",
              "size": 10,
              "solidity": 0.2
             }
            },
            "type": "bar"
           }
          ],
          "barpolar": [
           {
            "marker": {
             "line": {
              "color": "white",
              "width": 0.5
             },
             "pattern": {
              "fillmode": "overlay",
              "size": 10,
              "solidity": 0.2
             }
            },
            "type": "barpolar"
           }
          ],
          "carpet": [
           {
            "aaxis": {
             "endlinecolor": "rgb(36,36,36)",
             "gridcolor": "white",
             "linecolor": "white",
             "minorgridcolor": "white",
             "startlinecolor": "rgb(36,36,36)"
            },
            "baxis": {
             "endlinecolor": "rgb(36,36,36)",
             "gridcolor": "white",
             "linecolor": "white",
             "minorgridcolor": "white",
             "startlinecolor": "rgb(36,36,36)"
            },
            "type": "carpet"
           }
          ],
          "choropleth": [
           {
            "colorbar": {
             "outlinewidth": 1,
             "tickcolor": "rgb(36,36,36)",
             "ticks": "outside"
            },
            "type": "choropleth"
           }
          ],
          "contour": [
           {
            "colorbar": {
             "outlinewidth": 1,
             "tickcolor": "rgb(36,36,36)",
             "ticks": "outside"
            },
            "colorscale": [
             [
              0,
              "#440154"
             ],
             [
              0.1111111111111111,
              "#482878"
             ],
             [
              0.2222222222222222,
              "#3e4989"
             ],
             [
              0.3333333333333333,
              "#31688e"
             ],
             [
              0.4444444444444444,
              "#26828e"
             ],
             [
              0.5555555555555556,
              "#1f9e89"
             ],
             [
              0.6666666666666666,
              "#35b779"
             ],
             [
              0.7777777777777778,
              "#6ece58"
             ],
             [
              0.8888888888888888,
              "#b5de2b"
             ],
             [
              1,
              "#fde725"
             ]
            ],
            "type": "contour"
           }
          ],
          "contourcarpet": [
           {
            "colorbar": {
             "outlinewidth": 1,
             "tickcolor": "rgb(36,36,36)",
             "ticks": "outside"
            },
            "type": "contourcarpet"
           }
          ],
          "heatmap": [
           {
            "colorbar": {
             "outlinewidth": 1,
             "tickcolor": "rgb(36,36,36)",
             "ticks": "outside"
            },
            "colorscale": [
             [
              0,
              "#440154"
             ],
             [
              0.1111111111111111,
              "#482878"
             ],
             [
              0.2222222222222222,
              "#3e4989"
             ],
             [
              0.3333333333333333,
              "#31688e"
             ],
             [
              0.4444444444444444,
              "#26828e"
             ],
             [
              0.5555555555555556,
              "#1f9e89"
             ],
             [
              0.6666666666666666,
              "#35b779"
             ],
             [
              0.7777777777777778,
              "#6ece58"
             ],
             [
              0.8888888888888888,
              "#b5de2b"
             ],
             [
              1,
              "#fde725"
             ]
            ],
            "type": "heatmap"
           }
          ],
          "heatmapgl": [
           {
            "colorbar": {
             "outlinewidth": 1,
             "tickcolor": "rgb(36,36,36)",
             "ticks": "outside"
            },
            "colorscale": [
             [
              0,
              "#440154"
             ],
             [
              0.1111111111111111,
              "#482878"
             ],
             [
              0.2222222222222222,
              "#3e4989"
             ],
             [
              0.3333333333333333,
              "#31688e"
             ],
             [
              0.4444444444444444,
              "#26828e"
             ],
             [
              0.5555555555555556,
              "#1f9e89"
             ],
             [
              0.6666666666666666,
              "#35b779"
             ],
             [
              0.7777777777777778,
              "#6ece58"
             ],
             [
              0.8888888888888888,
              "#b5de2b"
             ],
             [
              1,
              "#fde725"
             ]
            ],
            "type": "heatmapgl"
           }
          ],
          "histogram": [
           {
            "marker": {
             "line": {
              "color": "white",
              "width": 0.6
             }
            },
            "type": "histogram"
           }
          ],
          "histogram2d": [
           {
            "colorbar": {
             "outlinewidth": 1,
             "tickcolor": "rgb(36,36,36)",
             "ticks": "outside"
            },
            "colorscale": [
             [
              0,
              "#440154"
             ],
             [
              0.1111111111111111,
              "#482878"
             ],
             [
              0.2222222222222222,
              "#3e4989"
             ],
             [
              0.3333333333333333,
              "#31688e"
             ],
             [
              0.4444444444444444,
              "#26828e"
             ],
             [
              0.5555555555555556,
              "#1f9e89"
             ],
             [
              0.6666666666666666,
              "#35b779"
             ],
             [
              0.7777777777777778,
              "#6ece58"
             ],
             [
              0.8888888888888888,
              "#b5de2b"
             ],
             [
              1,
              "#fde725"
             ]
            ],
            "type": "histogram2d"
           }
          ],
          "histogram2dcontour": [
           {
            "colorbar": {
             "outlinewidth": 1,
             "tickcolor": "rgb(36,36,36)",
             "ticks": "outside"
            },
            "colorscale": [
             [
              0,
              "#440154"
             ],
             [
              0.1111111111111111,
              "#482878"
             ],
             [
              0.2222222222222222,
              "#3e4989"
             ],
             [
              0.3333333333333333,
              "#31688e"
             ],
             [
              0.4444444444444444,
              "#26828e"
             ],
             [
              0.5555555555555556,
              "#1f9e89"
             ],
             [
              0.6666666666666666,
              "#35b779"
             ],
             [
              0.7777777777777778,
              "#6ece58"
             ],
             [
              0.8888888888888888,
              "#b5de2b"
             ],
             [
              1,
              "#fde725"
             ]
            ],
            "type": "histogram2dcontour"
           }
          ],
          "mesh3d": [
           {
            "colorbar": {
             "outlinewidth": 1,
             "tickcolor": "rgb(36,36,36)",
             "ticks": "outside"
            },
            "type": "mesh3d"
           }
          ],
          "parcoords": [
           {
            "line": {
             "colorbar": {
              "outlinewidth": 1,
              "tickcolor": "rgb(36,36,36)",
              "ticks": "outside"
             }
            },
            "type": "parcoords"
           }
          ],
          "pie": [
           {
            "automargin": true,
            "type": "pie"
           }
          ],
          "scatter": [
           {
            "fillpattern": {
             "fillmode": "overlay",
             "size": 10,
             "solidity": 0.2
            },
            "type": "scatter"
           }
          ],
          "scatter3d": [
           {
            "line": {
             "colorbar": {
              "outlinewidth": 1,
              "tickcolor": "rgb(36,36,36)",
              "ticks": "outside"
             }
            },
            "marker": {
             "colorbar": {
              "outlinewidth": 1,
              "tickcolor": "rgb(36,36,36)",
              "ticks": "outside"
             }
            },
            "type": "scatter3d"
           }
          ],
          "scattercarpet": [
           {
            "marker": {
             "colorbar": {
              "outlinewidth": 1,
              "tickcolor": "rgb(36,36,36)",
              "ticks": "outside"
             }
            },
            "type": "scattercarpet"
           }
          ],
          "scattergeo": [
           {
            "marker": {
             "colorbar": {
              "outlinewidth": 1,
              "tickcolor": "rgb(36,36,36)",
              "ticks": "outside"
             }
            },
            "type": "scattergeo"
           }
          ],
          "scattergl": [
           {
            "marker": {
             "colorbar": {
              "outlinewidth": 1,
              "tickcolor": "rgb(36,36,36)",
              "ticks": "outside"
             }
            },
            "type": "scattergl"
           }
          ],
          "scattermapbox": [
           {
            "marker": {
             "colorbar": {
              "outlinewidth": 1,
              "tickcolor": "rgb(36,36,36)",
              "ticks": "outside"
             }
            },
            "type": "scattermapbox"
           }
          ],
          "scatterpolar": [
           {
            "marker": {
             "colorbar": {
              "outlinewidth": 1,
              "tickcolor": "rgb(36,36,36)",
              "ticks": "outside"
             }
            },
            "type": "scatterpolar"
           }
          ],
          "scatterpolargl": [
           {
            "marker": {
             "colorbar": {
              "outlinewidth": 1,
              "tickcolor": "rgb(36,36,36)",
              "ticks": "outside"
             }
            },
            "type": "scatterpolargl"
           }
          ],
          "scatterternary": [
           {
            "marker": {
             "colorbar": {
              "outlinewidth": 1,
              "tickcolor": "rgb(36,36,36)",
              "ticks": "outside"
             }
            },
            "type": "scatterternary"
           }
          ],
          "surface": [
           {
            "colorbar": {
             "outlinewidth": 1,
             "tickcolor": "rgb(36,36,36)",
             "ticks": "outside"
            },
            "colorscale": [
             [
              0,
              "#440154"
             ],
             [
              0.1111111111111111,
              "#482878"
             ],
             [
              0.2222222222222222,
              "#3e4989"
             ],
             [
              0.3333333333333333,
              "#31688e"
             ],
             [
              0.4444444444444444,
              "#26828e"
             ],
             [
              0.5555555555555556,
              "#1f9e89"
             ],
             [
              0.6666666666666666,
              "#35b779"
             ],
             [
              0.7777777777777778,
              "#6ece58"
             ],
             [
              0.8888888888888888,
              "#b5de2b"
             ],
             [
              1,
              "#fde725"
             ]
            ],
            "type": "surface"
           }
          ],
          "table": [
           {
            "cells": {
             "fill": {
              "color": "rgb(237,237,237)"
             },
             "line": {
              "color": "white"
             }
            },
            "header": {
             "fill": {
              "color": "rgb(217,217,217)"
             },
             "line": {
              "color": "white"
             }
            },
            "type": "table"
           }
          ]
         },
         "layout": {
          "annotationdefaults": {
           "arrowhead": 0,
           "arrowwidth": 1
          },
          "autotypenumbers": "strict",
          "coloraxis": {
           "colorbar": {
            "outlinewidth": 1,
            "tickcolor": "rgb(36,36,36)",
            "ticks": "outside"
           }
          },
          "colorscale": {
           "diverging": [
            [
             0,
             "rgb(103,0,31)"
            ],
            [
             0.1,
             "rgb(178,24,43)"
            ],
            [
             0.2,
             "rgb(214,96,77)"
            ],
            [
             0.3,
             "rgb(244,165,130)"
            ],
            [
             0.4,
             "rgb(253,219,199)"
            ],
            [
             0.5,
             "rgb(247,247,247)"
            ],
            [
             0.6,
             "rgb(209,229,240)"
            ],
            [
             0.7,
             "rgb(146,197,222)"
            ],
            [
             0.8,
             "rgb(67,147,195)"
            ],
            [
             0.9,
             "rgb(33,102,172)"
            ],
            [
             1,
             "rgb(5,48,97)"
            ]
           ],
           "sequential": [
            [
             0,
             "#440154"
            ],
            [
             0.1111111111111111,
             "#482878"
            ],
            [
             0.2222222222222222,
             "#3e4989"
            ],
            [
             0.3333333333333333,
             "#31688e"
            ],
            [
             0.4444444444444444,
             "#26828e"
            ],
            [
             0.5555555555555556,
             "#1f9e89"
            ],
            [
             0.6666666666666666,
             "#35b779"
            ],
            [
             0.7777777777777778,
             "#6ece58"
            ],
            [
             0.8888888888888888,
             "#b5de2b"
            ],
            [
             1,
             "#fde725"
            ]
           ],
           "sequentialminus": [
            [
             0,
             "#440154"
            ],
            [
             0.1111111111111111,
             "#482878"
            ],
            [
             0.2222222222222222,
             "#3e4989"
            ],
            [
             0.3333333333333333,
             "#31688e"
            ],
            [
             0.4444444444444444,
             "#26828e"
            ],
            [
             0.5555555555555556,
             "#1f9e89"
            ],
            [
             0.6666666666666666,
             "#35b779"
            ],
            [
             0.7777777777777778,
             "#6ece58"
            ],
            [
             0.8888888888888888,
             "#b5de2b"
            ],
            [
             1,
             "#fde725"
            ]
           ]
          },
          "colorway": [
           "#1F77B4",
           "#FF7F0E",
           "#2CA02C",
           "#D62728",
           "#9467BD",
           "#8C564B",
           "#E377C2",
           "#7F7F7F",
           "#BCBD22",
           "#17BECF"
          ],
          "font": {
           "color": "rgb(36,36,36)"
          },
          "geo": {
           "bgcolor": "white",
           "lakecolor": "white",
           "landcolor": "white",
           "showlakes": true,
           "showland": true,
           "subunitcolor": "white"
          },
          "hoverlabel": {
           "align": "left"
          },
          "hovermode": "closest",
          "mapbox": {
           "style": "light"
          },
          "paper_bgcolor": "white",
          "plot_bgcolor": "white",
          "polar": {
           "angularaxis": {
            "gridcolor": "rgb(232,232,232)",
            "linecolor": "rgb(36,36,36)",
            "showgrid": false,
            "showline": true,
            "ticks": "outside"
           },
           "bgcolor": "white",
           "radialaxis": {
            "gridcolor": "rgb(232,232,232)",
            "linecolor": "rgb(36,36,36)",
            "showgrid": false,
            "showline": true,
            "ticks": "outside"
           }
          },
          "scene": {
           "xaxis": {
            "backgroundcolor": "white",
            "gridcolor": "rgb(232,232,232)",
            "gridwidth": 2,
            "linecolor": "rgb(36,36,36)",
            "showbackground": true,
            "showgrid": false,
            "showline": true,
            "ticks": "outside",
            "zeroline": false,
            "zerolinecolor": "rgb(36,36,36)"
           },
           "yaxis": {
            "backgroundcolor": "white",
            "gridcolor": "rgb(232,232,232)",
            "gridwidth": 2,
            "linecolor": "rgb(36,36,36)",
            "showbackground": true,
            "showgrid": false,
            "showline": true,
            "ticks": "outside",
            "zeroline": false,
            "zerolinecolor": "rgb(36,36,36)"
           },
           "zaxis": {
            "backgroundcolor": "white",
            "gridcolor": "rgb(232,232,232)",
            "gridwidth": 2,
            "linecolor": "rgb(36,36,36)",
            "showbackground": true,
            "showgrid": false,
            "showline": true,
            "ticks": "outside",
            "zeroline": false,
            "zerolinecolor": "rgb(36,36,36)"
           }
          },
          "shapedefaults": {
           "fillcolor": "black",
           "line": {
            "width": 0
           },
           "opacity": 0.3
          },
          "ternary": {
           "aaxis": {
            "gridcolor": "rgb(232,232,232)",
            "linecolor": "rgb(36,36,36)",
            "showgrid": false,
            "showline": true,
            "ticks": "outside"
           },
           "baxis": {
            "gridcolor": "rgb(232,232,232)",
            "linecolor": "rgb(36,36,36)",
            "showgrid": false,
            "showline": true,
            "ticks": "outside"
           },
           "bgcolor": "white",
           "caxis": {
            "gridcolor": "rgb(232,232,232)",
            "linecolor": "rgb(36,36,36)",
            "showgrid": false,
            "showline": true,
            "ticks": "outside"
           }
          },
          "title": {
           "x": 0.05
          },
          "xaxis": {
           "automargin": true,
           "gridcolor": "rgb(232,232,232)",
           "linecolor": "rgb(36,36,36)",
           "showgrid": false,
           "showline": true,
           "ticks": "outside",
           "title": {
            "standoff": 15
           },
           "zeroline": false,
           "zerolinecolor": "rgb(36,36,36)"
          },
          "yaxis": {
           "automargin": true,
           "gridcolor": "rgb(232,232,232)",
           "linecolor": "rgb(36,36,36)",
           "showgrid": false,
           "showline": true,
           "ticks": "outside",
           "title": {
            "standoff": 15
           },
           "zeroline": false,
           "zerolinecolor": "rgb(36,36,36)"
          }
         }
        },
        "xaxis": {
         "autorange": true,
         "range": [
          -0.062317429406036996,
          1.062317429406037
         ],
         "title": {
          "text": "Normalized Voltage Prediction"
         },
         "type": "linear"
        },
        "yaxis": {
         "autorange": true,
         "range": [
          -0.07040998217468805,
          1.070409982174688
         ],
         "title": {
          "text": "Normalized Voltage Target"
         },
         "type": "linear"
        }
       }
      },
      "text/html": [
       "<div>                            <div id=\"27dfdcd2-f0a9-4d58-b43b-cafbc390ff56\" class=\"plotly-graph-div\" style=\"height:500px; width:100%;\"></div>            <script type=\"text/javascript\">                require([\"plotly\"], function(Plotly) {                    window.PLOTLYENV=window.PLOTLYENV || {};                                    if (document.getElementById(\"27dfdcd2-f0a9-4d58-b43b-cafbc390ff56\")) {                    Plotly.newPlot(                        \"27dfdcd2-f0a9-4d58-b43b-cafbc390ff56\",                        [{\"mode\":\"markers+lines\",\"showlegend\":false,\"x\":[0,1],\"y\":[0,1],\"type\":\"scatter\"},{\"mode\":\"markers+lines\",\"showlegend\":false,\"x\":[0.6843287944793701,0.6599665880203247,0.6096562147140503,0.5105918645858765,0.3875225782394409,0.34518760442733765,0.2977464199066162,0.24104034900665283,0.17682799696922302],\"y\":[0.6801438309200308,0.657029937899099,0.6214219193856589,0.5474449078812436,0.45786318033630014,0.4289044038766435,0.392949171571247,0.34553122725077373,0.274080830084515],\"type\":\"scatter\"},{\"mode\":\"markers+lines\",\"showlegend\":false,\"x\":[0.6846311092376709,0.6565197706222534,0.6074197292327881,0.5042870044708252,0.3807141184806824,0.33302557468414307,0.2852233648300171,0.23168396949768066,0.17238843441009521],\"y\":[0.679934569680138,0.6574210431521503,0.6201550008155642,0.5368827388027259,0.4400850712920665,0.4092510114139114,0.3705906671179071,0.3188193747717724,0.24073844032046487],\"type\":\"scatter\"},{\"mode\":\"markers+lines\",\"showlegend\":false,\"x\":[0.6852812767028809,0.6543970108032227,0.605778157711029,0.500730037689209,0.3765038251876831,0.32824864983558655,0.28043004870414734,0.22829654812812805,0.1710399091243744],\"y\":[0.6773012924185579,0.6532575732116858,0.6129591059678868,0.5242826431967161,0.42574783889927176,0.3946274536032811,0.3557496494185759,0.3038863206621171,0.2254396527112231],\"type\":\"scatter\"},{\"mode\":\"markers+lines\",\"showlegend\":false,\"x\":[0.6851075887680054,0.6540898680686951,0.606130838394165,0.5007060766220093,0.37783750891685486,0.3312225639820099,0.283270001411438,0.2299412190914154,0.17115247249603271],\"y\":[0.6776859157008439,0.6529239926500437,0.6108750608828514,0.5182643719764827,0.416803589870325,0.384800456529449,0.343979528183178,0.28912629576058585,0.20615840399557642],\"type\":\"scatter\"},{\"mode\":\"markers+lines\",\"showlegend\":false,\"x\":[0.6852470636367798,0.6523890495300293,0.6043028831481934,0.4957393407821655,0.37226277589797974,0.32416531443595886,0.27663224935531616,0.22559252381324768,0.169948548078537],\"y\":[0.6746431611980493,0.6485862836926134,0.6037927378887471,0.5053292207240232,0.3977284563787555,0.3632352086546133,0.3188181128285066,0.25785843299439554,0.1761531755476572],\"type\":\"scatter\"},{\"mode\":\"markers+lines\",\"showlegend\":false,\"x\":[0.6906080842018127,0.6611368656158447,0.611714780330658,0.5090159773826599,0.3901330232620239,0.3495914936065674,0.30178236961364746,0.24295265972614288,0.17580904066562653],\"y\":[0.6816531995967767,0.6563984801618686,0.6125342628386496,0.5154424127426214,0.4099133300213789,0.37600085864603044,0.3323975125869525,0.2713577300703292,0.18702838907964123],\"type\":\"scatter\"},{\"mode\":\"markers+lines\",\"showlegend\":false,\"x\":[0.6973906755447388,0.6730694770812988,0.6229152083396912,0.5226306915283203,0.40784934163093567,0.3678966760635376,0.32270675897598267,0.261236310005188,0.19440409541130066],\"y\":[0.687728469196423,0.6631142484620574,0.6198152846051352,0.5230986217419668,0.4178366167806682,0.3836845467959787,0.3396967045131052,0.2770395958563912,0.18664582833762725],\"type\":\"scatter\"},{\"mode\":\"markers+lines\",\"showlegend\":false,\"x\":[0.6823413372039795,0.6484960317611694,0.6010453701019287,0.4895360469818115,0.3669968843460083,0.32090872526168823,0.27280905842781067,0.22222831845283508,0.16780585050582886],\"y\":[0.6721047205503972,0.6438070878861036,0.5943368527118374,0.4872065857894964,0.3711299967418958,0.33326873621084496,0.28419019981147936,0.22758941738721428,0.1678502759976571],\"type\":\"scatter\"},{\"mode\":\"markers+lines\",\"showlegend\":false,\"x\":[0.6804987192153931,0.6491718292236328,0.5992815494537354,0.4890355169773102,0.3666583299636841,0.3216855227947235,0.27371281385421753,0.2226913720369339,0.1673935353755951],\"y\":[0.6713526211323759,0.6426221689651063,0.5916403154317378,0.4813774256345826,0.3607822237958613,0.32045615619915874,0.2694567783462744,0.21662755171169157,0.15724154064374238],\"type\":\"scatter\"},{\"mode\":\"markers+lines\",\"showlegend\":false,\"x\":[0.6814656257629395,0.650425136089325,0.6021553874015808,0.49290260672569275,0.37087538838386536,0.32854601740837097,0.2800138294696808,0.22644905745983124,0.16757017374038696],\"y\":[0.6738265090409491,0.645179393096074,0.5945579914104329,0.4847274118516738,0.3650060429032939,0.3247375575498315,0.2734796677869807,0.21822610754041552,0.15909082800668436],\"type\":\"scatter\"},{\"mode\":\"markers+lines\",\"showlegend\":false,\"x\":[0.6870487928390503,0.6569117307662964,0.6087731122970581,0.50105220079422,0.3830965757369995,0.3420335352420807,0.2935110628604889,0.23574048280715942,0.17014363408088684],\"y\":[0.6779653262970056,0.6499857858581026,0.6003880969448857,0.4930261726108784,0.3765569289831804,0.3380878003122275,0.28777338911903133,0.22785971314842576,0.1663920421413486],\"type\":\"scatter\"},{\"mode\":\"markers+lines\",\"showlegend\":false,\"x\":[0.6815541982650757,0.6523852348327637,0.6046404242515564,0.495003342628479,0.3738003969192505,0.3331492245197296,0.28414249420166016,0.22863706946372986,0.1665976643562317],\"y\":[0.6751750675539291,0.646376912653353,0.595130309892562,0.4849838578095061,0.36475510394718186,0.3243031119146003,0.2728357640808834,0.2170786720323156,0.15806553322133152],\"type\":\"scatter\"},{\"mode\":\"markers+lines\",\"showlegend\":false,\"x\":[0.6769713163375854,0.6472150087356567,0.5954524278640747,0.48548850417137146,0.36382991075515747,0.3216910660266876,0.2729808986186981,0.22120709717273712,0.16493439674377441],\"y\":[0.6706685743593601,0.6408467567476792,0.5878514311438225,0.4752740208368368,0.35233503133410765,0.31084403468233923,0.26058306670341425,0.21148699941202204,0.15595542411992777],\"type\":\"scatter\"},{\"mode\":\"markers+lines\",\"showlegend\":false,\"x\":[0.6688449382781982,0.6369632482528687,0.5781347751617432,0.45956942439079285,0.3276587426662445,0.29140135645866394,0.2532784044742584,0.2075442373752594,0.16419249773025513],\"y\":[0.654836085508943,0.6221271475717544,0.5646626346445607,0.445145969450164,0.31383210933748285,0.2733647336780346,0.23689124163525613,0.20115111023367163,0.14934802630303473],\"type\":\"scatter\"},{\"mode\":\"markers+lines\",\"showlegend\":false,\"x\":[0.6725023984909058,0.6509875059127808,0.598255455493927,0.48884502053260803,0.3691653609275818,0.3279187083244324,0.27905920147895813,0.22469155490398407,0.16472958028316498],\"y\":[0.6735220631977324,0.6440750421701437,0.5917442152745548,0.48186101498823697,0.36332707460901625,0.32339840782307405,0.2727928923661338,0.21793172511097703,0.16074712953013304],\"type\":\"scatter\"},{\"mode\":\"markers+lines\",\"showlegend\":false,\"x\":[0.6762516498565674,0.6461716890335083,0.5918028354644775,0.48310330510139465,0.3631564676761627,0.32301121950149536,0.27387410402297974,0.22099581360816956,0.16479206085205078],\"y\":[0.6725463534530042,0.6427269465149243,0.5897380738570411,0.4796087349038718,0.3613370321357025,0.3217979198847771,0.27188605104052876,0.21869837968185293,0.1633913825023],\"type\":\"scatter\"},{\"mode\":\"markers+lines\",\"showlegend\":false,\"x\":[0.6750771999359131,0.6470858454704285,0.5917702913284302,0.48311567306518555,0.3645441234111786,0.3243999481201172,0.27516767382621765,0.22145095467567444,0.1647539585828781],\"y\":[0.6734094316906765,0.6437367365357222,0.5904659055997498,0.4802735832132288,0.36127958922191633,0.3209801695428209,0.27012714819345623,0.21497037108830794,0.15689772931483487],\"type\":\"scatter\"}],                        {\"template\":{\"data\":{\"barpolar\":[{\"marker\":{\"line\":{\"color\":\"white\",\"width\":0.5},\"pattern\":{\"fillmode\":\"overlay\",\"size\":10,\"solidity\":0.2}},\"type\":\"barpolar\"}],\"bar\":[{\"error_x\":{\"color\":\"rgb(36,36,36)\"},\"error_y\":{\"color\":\"rgb(36,36,36)\"},\"marker\":{\"line\":{\"color\":\"white\",\"width\":0.5},\"pattern\":{\"fillmode\":\"overlay\",\"size\":10,\"solidity\":0.2}},\"type\":\"bar\"}],\"carpet\":[{\"aaxis\":{\"endlinecolor\":\"rgb(36,36,36)\",\"gridcolor\":\"white\",\"linecolor\":\"white\",\"minorgridcolor\":\"white\",\"startlinecolor\":\"rgb(36,36,36)\"},\"baxis\":{\"endlinecolor\":\"rgb(36,36,36)\",\"gridcolor\":\"white\",\"linecolor\":\"white\",\"minorgridcolor\":\"white\",\"startlinecolor\":\"rgb(36,36,36)\"},\"type\":\"carpet\"}],\"choropleth\":[{\"colorbar\":{\"outlinewidth\":1,\"tickcolor\":\"rgb(36,36,36)\",\"ticks\":\"outside\"},\"type\":\"choropleth\"}],\"contourcarpet\":[{\"colorbar\":{\"outlinewidth\":1,\"tickcolor\":\"rgb(36,36,36)\",\"ticks\":\"outside\"},\"type\":\"contourcarpet\"}],\"contour\":[{\"colorbar\":{\"outlinewidth\":1,\"tickcolor\":\"rgb(36,36,36)\",\"ticks\":\"outside\"},\"colorscale\":[[0.0,\"#440154\"],[0.1111111111111111,\"#482878\"],[0.2222222222222222,\"#3e4989\"],[0.3333333333333333,\"#31688e\"],[0.4444444444444444,\"#26828e\"],[0.5555555555555556,\"#1f9e89\"],[0.6666666666666666,\"#35b779\"],[0.7777777777777778,\"#6ece58\"],[0.8888888888888888,\"#b5de2b\"],[1.0,\"#fde725\"]],\"type\":\"contour\"}],\"heatmapgl\":[{\"colorbar\":{\"outlinewidth\":1,\"tickcolor\":\"rgb(36,36,36)\",\"ticks\":\"outside\"},\"colorscale\":[[0.0,\"#440154\"],[0.1111111111111111,\"#482878\"],[0.2222222222222222,\"#3e4989\"],[0.3333333333333333,\"#31688e\"],[0.4444444444444444,\"#26828e\"],[0.5555555555555556,\"#1f9e89\"],[0.6666666666666666,\"#35b779\"],[0.7777777777777778,\"#6ece58\"],[0.8888888888888888,\"#b5de2b\"],[1.0,\"#fde725\"]],\"type\":\"heatmapgl\"}],\"heatmap\":[{\"colorbar\":{\"outlinewidth\":1,\"tickcolor\":\"rgb(36,36,36)\",\"ticks\":\"outside\"},\"colorscale\":[[0.0,\"#440154\"],[0.1111111111111111,\"#482878\"],[0.2222222222222222,\"#3e4989\"],[0.3333333333333333,\"#31688e\"],[0.4444444444444444,\"#26828e\"],[0.5555555555555556,\"#1f9e89\"],[0.6666666666666666,\"#35b779\"],[0.7777777777777778,\"#6ece58\"],[0.8888888888888888,\"#b5de2b\"],[1.0,\"#fde725\"]],\"type\":\"heatmap\"}],\"histogram2dcontour\":[{\"colorbar\":{\"outlinewidth\":1,\"tickcolor\":\"rgb(36,36,36)\",\"ticks\":\"outside\"},\"colorscale\":[[0.0,\"#440154\"],[0.1111111111111111,\"#482878\"],[0.2222222222222222,\"#3e4989\"],[0.3333333333333333,\"#31688e\"],[0.4444444444444444,\"#26828e\"],[0.5555555555555556,\"#1f9e89\"],[0.6666666666666666,\"#35b779\"],[0.7777777777777778,\"#6ece58\"],[0.8888888888888888,\"#b5de2b\"],[1.0,\"#fde725\"]],\"type\":\"histogram2dcontour\"}],\"histogram2d\":[{\"colorbar\":{\"outlinewidth\":1,\"tickcolor\":\"rgb(36,36,36)\",\"ticks\":\"outside\"},\"colorscale\":[[0.0,\"#440154\"],[0.1111111111111111,\"#482878\"],[0.2222222222222222,\"#3e4989\"],[0.3333333333333333,\"#31688e\"],[0.4444444444444444,\"#26828e\"],[0.5555555555555556,\"#1f9e89\"],[0.6666666666666666,\"#35b779\"],[0.7777777777777778,\"#6ece58\"],[0.8888888888888888,\"#b5de2b\"],[1.0,\"#fde725\"]],\"type\":\"histogram2d\"}],\"histogram\":[{\"marker\":{\"line\":{\"color\":\"white\",\"width\":0.6}},\"type\":\"histogram\"}],\"mesh3d\":[{\"colorbar\":{\"outlinewidth\":1,\"tickcolor\":\"rgb(36,36,36)\",\"ticks\":\"outside\"},\"type\":\"mesh3d\"}],\"parcoords\":[{\"line\":{\"colorbar\":{\"outlinewidth\":1,\"tickcolor\":\"rgb(36,36,36)\",\"ticks\":\"outside\"}},\"type\":\"parcoords\"}],\"pie\":[{\"automargin\":true,\"type\":\"pie\"}],\"scatter3d\":[{\"line\":{\"colorbar\":{\"outlinewidth\":1,\"tickcolor\":\"rgb(36,36,36)\",\"ticks\":\"outside\"}},\"marker\":{\"colorbar\":{\"outlinewidth\":1,\"tickcolor\":\"rgb(36,36,36)\",\"ticks\":\"outside\"}},\"type\":\"scatter3d\"}],\"scattercarpet\":[{\"marker\":{\"colorbar\":{\"outlinewidth\":1,\"tickcolor\":\"rgb(36,36,36)\",\"ticks\":\"outside\"}},\"type\":\"scattercarpet\"}],\"scattergeo\":[{\"marker\":{\"colorbar\":{\"outlinewidth\":1,\"tickcolor\":\"rgb(36,36,36)\",\"ticks\":\"outside\"}},\"type\":\"scattergeo\"}],\"scattergl\":[{\"marker\":{\"colorbar\":{\"outlinewidth\":1,\"tickcolor\":\"rgb(36,36,36)\",\"ticks\":\"outside\"}},\"type\":\"scattergl\"}],\"scattermapbox\":[{\"marker\":{\"colorbar\":{\"outlinewidth\":1,\"tickcolor\":\"rgb(36,36,36)\",\"ticks\":\"outside\"}},\"type\":\"scattermapbox\"}],\"scatterpolargl\":[{\"marker\":{\"colorbar\":{\"outlinewidth\":1,\"tickcolor\":\"rgb(36,36,36)\",\"ticks\":\"outside\"}},\"type\":\"scatterpolargl\"}],\"scatterpolar\":[{\"marker\":{\"colorbar\":{\"outlinewidth\":1,\"tickcolor\":\"rgb(36,36,36)\",\"ticks\":\"outside\"}},\"type\":\"scatterpolar\"}],\"scatter\":[{\"fillpattern\":{\"fillmode\":\"overlay\",\"size\":10,\"solidity\":0.2},\"type\":\"scatter\"}],\"scatterternary\":[{\"marker\":{\"colorbar\":{\"outlinewidth\":1,\"tickcolor\":\"rgb(36,36,36)\",\"ticks\":\"outside\"}},\"type\":\"scatterternary\"}],\"surface\":[{\"colorbar\":{\"outlinewidth\":1,\"tickcolor\":\"rgb(36,36,36)\",\"ticks\":\"outside\"},\"colorscale\":[[0.0,\"#440154\"],[0.1111111111111111,\"#482878\"],[0.2222222222222222,\"#3e4989\"],[0.3333333333333333,\"#31688e\"],[0.4444444444444444,\"#26828e\"],[0.5555555555555556,\"#1f9e89\"],[0.6666666666666666,\"#35b779\"],[0.7777777777777778,\"#6ece58\"],[0.8888888888888888,\"#b5de2b\"],[1.0,\"#fde725\"]],\"type\":\"surface\"}],\"table\":[{\"cells\":{\"fill\":{\"color\":\"rgb(237,237,237)\"},\"line\":{\"color\":\"white\"}},\"header\":{\"fill\":{\"color\":\"rgb(217,217,217)\"},\"line\":{\"color\":\"white\"}},\"type\":\"table\"}]},\"layout\":{\"annotationdefaults\":{\"arrowhead\":0,\"arrowwidth\":1},\"autotypenumbers\":\"strict\",\"coloraxis\":{\"colorbar\":{\"outlinewidth\":1,\"tickcolor\":\"rgb(36,36,36)\",\"ticks\":\"outside\"}},\"colorscale\":{\"diverging\":[[0.0,\"rgb(103,0,31)\"],[0.1,\"rgb(178,24,43)\"],[0.2,\"rgb(214,96,77)\"],[0.3,\"rgb(244,165,130)\"],[0.4,\"rgb(253,219,199)\"],[0.5,\"rgb(247,247,247)\"],[0.6,\"rgb(209,229,240)\"],[0.7,\"rgb(146,197,222)\"],[0.8,\"rgb(67,147,195)\"],[0.9,\"rgb(33,102,172)\"],[1.0,\"rgb(5,48,97)\"]],\"sequential\":[[0.0,\"#440154\"],[0.1111111111111111,\"#482878\"],[0.2222222222222222,\"#3e4989\"],[0.3333333333333333,\"#31688e\"],[0.4444444444444444,\"#26828e\"],[0.5555555555555556,\"#1f9e89\"],[0.6666666666666666,\"#35b779\"],[0.7777777777777778,\"#6ece58\"],[0.8888888888888888,\"#b5de2b\"],[1.0,\"#fde725\"]],\"sequentialminus\":[[0.0,\"#440154\"],[0.1111111111111111,\"#482878\"],[0.2222222222222222,\"#3e4989\"],[0.3333333333333333,\"#31688e\"],[0.4444444444444444,\"#26828e\"],[0.5555555555555556,\"#1f9e89\"],[0.6666666666666666,\"#35b779\"],[0.7777777777777778,\"#6ece58\"],[0.8888888888888888,\"#b5de2b\"],[1.0,\"#fde725\"]]},\"colorway\":[\"#1F77B4\",\"#FF7F0E\",\"#2CA02C\",\"#D62728\",\"#9467BD\",\"#8C564B\",\"#E377C2\",\"#7F7F7F\",\"#BCBD22\",\"#17BECF\"],\"font\":{\"color\":\"rgb(36,36,36)\"},\"geo\":{\"bgcolor\":\"white\",\"lakecolor\":\"white\",\"landcolor\":\"white\",\"showlakes\":true,\"showland\":true,\"subunitcolor\":\"white\"},\"hoverlabel\":{\"align\":\"left\"},\"hovermode\":\"closest\",\"mapbox\":{\"style\":\"light\"},\"paper_bgcolor\":\"white\",\"plot_bgcolor\":\"white\",\"polar\":{\"angularaxis\":{\"gridcolor\":\"rgb(232,232,232)\",\"linecolor\":\"rgb(36,36,36)\",\"showgrid\":false,\"showline\":true,\"ticks\":\"outside\"},\"bgcolor\":\"white\",\"radialaxis\":{\"gridcolor\":\"rgb(232,232,232)\",\"linecolor\":\"rgb(36,36,36)\",\"showgrid\":false,\"showline\":true,\"ticks\":\"outside\"}},\"scene\":{\"xaxis\":{\"backgroundcolor\":\"white\",\"gridcolor\":\"rgb(232,232,232)\",\"gridwidth\":2,\"linecolor\":\"rgb(36,36,36)\",\"showbackground\":true,\"showgrid\":false,\"showline\":true,\"ticks\":\"outside\",\"zeroline\":false,\"zerolinecolor\":\"rgb(36,36,36)\"},\"yaxis\":{\"backgroundcolor\":\"white\",\"gridcolor\":\"rgb(232,232,232)\",\"gridwidth\":2,\"linecolor\":\"rgb(36,36,36)\",\"showbackground\":true,\"showgrid\":false,\"showline\":true,\"ticks\":\"outside\",\"zeroline\":false,\"zerolinecolor\":\"rgb(36,36,36)\"},\"zaxis\":{\"backgroundcolor\":\"white\",\"gridcolor\":\"rgb(232,232,232)\",\"gridwidth\":2,\"linecolor\":\"rgb(36,36,36)\",\"showbackground\":true,\"showgrid\":false,\"showline\":true,\"ticks\":\"outside\",\"zeroline\":false,\"zerolinecolor\":\"rgb(36,36,36)\"}},\"shapedefaults\":{\"fillcolor\":\"black\",\"line\":{\"width\":0},\"opacity\":0.3},\"ternary\":{\"aaxis\":{\"gridcolor\":\"rgb(232,232,232)\",\"linecolor\":\"rgb(36,36,36)\",\"showgrid\":false,\"showline\":true,\"ticks\":\"outside\"},\"baxis\":{\"gridcolor\":\"rgb(232,232,232)\",\"linecolor\":\"rgb(36,36,36)\",\"showgrid\":false,\"showline\":true,\"ticks\":\"outside\"},\"bgcolor\":\"white\",\"caxis\":{\"gridcolor\":\"rgb(232,232,232)\",\"linecolor\":\"rgb(36,36,36)\",\"showgrid\":false,\"showline\":true,\"ticks\":\"outside\"}},\"title\":{\"x\":0.05},\"xaxis\":{\"automargin\":true,\"gridcolor\":\"rgb(232,232,232)\",\"linecolor\":\"rgb(36,36,36)\",\"showgrid\":false,\"showline\":true,\"ticks\":\"outside\",\"title\":{\"standoff\":15},\"zeroline\":false,\"zerolinecolor\":\"rgb(36,36,36)\"},\"yaxis\":{\"automargin\":true,\"gridcolor\":\"rgb(232,232,232)\",\"linecolor\":\"rgb(36,36,36)\",\"showgrid\":false,\"showline\":true,\"ticks\":\"outside\",\"title\":{\"standoff\":15},\"zeroline\":false,\"zerolinecolor\":\"rgb(36,36,36)\"}}},\"yaxis\":{\"title\":{\"text\":\"Normalized Voltage Target\"}},\"xaxis\":{\"title\":{\"text\":\"Normalized Voltage Prediction\"}},\"height\":500},                        {\"responsive\": true}                    ).then(function(){\n",
       "                            \n",
       "var gd = document.getElementById('27dfdcd2-f0a9-4d58-b43b-cafbc390ff56');\n",
       "var x = new MutationObserver(function (mutations, observer) {{\n",
       "        var display = window.getComputedStyle(gd).display;\n",
       "        if (!display || display === 'none') {{\n",
       "            console.log([gd, 'removed!']);\n",
       "            Plotly.purge(gd);\n",
       "            observer.disconnect();\n",
       "        }}\n",
       "}});\n",
       "\n",
       "// Listen for the removal of the full notebook cells\n",
       "var notebookContainer = gd.closest('#notebook-container');\n",
       "if (notebookContainer) {{\n",
       "    x.observe(notebookContainer, {childList: true});\n",
       "}}\n",
       "\n",
       "// Listen for the clearing of the current output cell\n",
       "var outputEl = gd.closest('.output');\n",
       "if (outputEl) {{\n",
       "    x.observe(outputEl, {childList: true});\n",
       "}}\n",
       "\n",
       "                        })                };                });            </script>        </div>"
      ]
     },
     "metadata": {},
     "output_type": "display_data"
    }
   ],
   "source": [
    "fig = go.Figure()\n",
    "fig.add_trace(go.Scatter(x=[0, 1], y=[0, 1], showlegend=False, mode=\"markers+lines\"))\n",
    "for i in range(0, len(datasets[\"X_train\"]), batch_size * skip):\n",
    "    df_pred = pd.DataFrame(model.predict(datasets[\"X_train\"][i : i + batch_size], verbose=0)[:, :, 2])\n",
    "    df_train = pd.DataFrame(datasets[\"y_train\"][i : i + batch_size][:, :, 2])\n",
    "    fig.add_trace(\n",
    "        go.Scatter(\n",
    "            x=df_pred.values[0],\n",
    "            y=df_train.values[0],\n",
    "            showlegend=False,\n",
    "            mode=\"markers+lines\",\n",
    "        )\n",
    "    )\n",
    "\n",
    "fig.update_yaxes(title=\"Normalized Voltage Target\")\n",
    "fig.update_xaxes(title=\"Normalized Voltage Prediction\")\n",
    "fig.update_layout(template=\"simple_white\")\n",
    "fig.update_layout(height=500)"
   ]
  },
  {
   "cell_type": "markdown",
   "id": "ad2d8e25",
   "metadata": {},
   "source": [
    "## Parity Plot of Test Error"
   ]
  },
  {
   "cell_type": "code",
   "execution_count": 25,
   "id": "93c999da",
   "metadata": {},
   "outputs": [
    {
     "data": {
      "application/vnd.plotly.v1+json": {
       "config": {
        "plotlyServerURL": "https://plot.ly"
       },
       "data": [
        {
         "mode": "markers+lines",
         "showlegend": false,
         "type": "scatter",
         "x": [
          0,
          1
         ],
         "y": [
          0,
          1
         ]
        },
        {
         "mode": "markers+lines",
         "showlegend": false,
         "type": "scatter",
         "x": [
          0.6812014579772949,
          0.7090061902999878,
          0.7118061780929565,
          0.7310960292816162,
          0.7376140356063843,
          0.7412165403366089,
          0.7417981028556824,
          0.7455266714096069,
          0.750898003578186
         ],
         "y": [
          0.679984883047836,
          0.7017684567272268,
          0.731187218936472,
          0.7635048571428571,
          0.7854028571428573,
          0.788506412813735,
          0.7906818571428573,
          0.7979692857142859,
          0.8030419999999998
         ]
        },
        {
         "mode": "markers+lines",
         "showlegend": false,
         "type": "scatter",
         "x": [
          0.6475636959075928,
          0.6747954487800598,
          0.6790488958358765,
          0.6935717463493347,
          0.7095070481300354,
          0.711632490158081,
          0.7144979238510132,
          0.7184102535247803,
          0.7244815826416016
         ],
         "y": [
          0.6470019329799137,
          0.6675076949400376,
          0.6965365569073618,
          0.7291841658833406,
          0.747301642857143,
          0.754326218783692,
          0.7596650714285715,
          0.7673797857142856,
          0.7671637142857141
         ]
        },
        {
         "mode": "markers+lines",
         "showlegend": false,
         "type": "scatter",
         "x": [
          0.6417328119277954,
          0.6663808226585388,
          0.6722568273544312,
          0.6869339942932129,
          0.702083945274353,
          0.7041335701942444,
          0.7071869373321533,
          0.7113384008407593,
          0.7173770666122437
         ],
         "y": [
          0.6509769590966241,
          0.6752972983651567,
          0.7074673390505994,
          0.7479324890809429,
          0.7663879004834053,
          0.7719615000000003,
          0.7736895714285714,
          0.7812522142857142,
          0.7872231365283573
         ]
        },
        {
         "mode": "markers+lines",
         "showlegend": false,
         "type": "scatter",
         "x": [
          0.6964020729064941,
          0.7269437313079834,
          0.7300524711608887,
          0.7550014853477478,
          0.7574633359909058,
          0.7613358497619629,
          0.7616125345230103,
          0.7645624876022339,
          0.7698975801467896
         ],
         "y": [
          0.7063751650847446,
          0.7270783071310154,
          0.7554569285714285,
          0.7896421438641261,
          0.8092500384839243,
          0.8114792857142855,
          0.8187683437023554,
          0.8251233571428571,
          0.8309132857142859
         ]
        },
        {
         "mode": "markers+lines",
         "showlegend": false,
         "type": "scatter",
         "x": [
          0.6389220952987671,
          0.665535569190979,
          0.6713626384735107,
          0.6865436434745789,
          0.7030920386314392,
          0.7053849697113037,
          0.7086716890335083,
          0.7127137184143066,
          0.718814492225647
         ],
         "y": [
          0.6460674692366618,
          0.6667115846026338,
          0.6963775024134456,
          0.7300392004433656,
          0.7570819999999999,
          0.7576487142857141,
          0.7636272616961217,
          0.7701529951868772,
          0.7771562857142855
         ]
        },
        {
         "mode": "markers+lines",
         "showlegend": false,
         "type": "scatter",
         "x": [
          0.6535397171974182,
          0.6774958372116089,
          0.6839538812637329,
          0.7015912532806396,
          0.7128236293792725,
          0.7155593633651733,
          0.7178828716278076,
          0.7218358516693115,
          0.7276275157928467
         ],
         "y": [
          0.6650752711509229,
          0.6872389490205989,
          0.7148358571428572,
          0.753208830135022,
          0.7750699285714288,
          0.7764170668166397,
          0.783350785714286,
          0.7826168909166324,
          0.7918431428571431
         ]
        },
        {
         "mode": "markers+lines",
         "showlegend": false,
         "type": "scatter",
         "x": [
          0.6442133784294128,
          0.6695911884307861,
          0.6750348806381226,
          0.6906307935714722,
          0.7047836780548096,
          0.7067816257476807,
          0.7099330425262451,
          0.713881254196167,
          0.7198935747146606
         ],
         "y": [
          0.6481807911999763,
          0.6716657752963542,
          0.7035263687095296,
          0.7396312368392656,
          0.7616791922604699,
          0.7676200714285716,
          0.7714988588021153,
          0.7796579285714286,
          0.7848023528965768
         ]
        },
        {
         "mode": "markers+lines",
         "showlegend": false,
         "type": "scatter",
         "x": [
          0.6359813809394836,
          0.6617298126220703,
          0.6673957109451294,
          0.6823437213897705,
          0.6984176635742188,
          0.6999354362487793,
          0.7037162780761719,
          0.7076421976089478,
          0.7138359546661377
         ],
         "y": [
          0.6419613469357714,
          0.6690882152601657,
          0.6928658764113114,
          0.7330651505704058,
          0.7551574999999998,
          0.7577214999999998,
          0.7630460122572912,
          0.7701549285714288,
          0.7748914277697729
         ]
        },
        {
         "mode": "markers+lines",
         "showlegend": false,
         "type": "scatter",
         "x": [
          0.6444352865219116,
          0.669723391532898,
          0.6753402948379517,
          0.691810131072998,
          0.7060548067092896,
          0.7081514596939087,
          0.7114094495773315,
          0.7151875495910645,
          0.7212488651275635
         ],
         "y": [
          0.6550824895253068,
          0.6757779538905372,
          0.7049265100233787,
          0.7392125714285714,
          0.7559294257667495,
          0.7614029285714287,
          0.7681611889488742,
          0.7756987857142857,
          0.7827453571428572
         ]
        },
        {
         "mode": "markers+lines",
         "showlegend": false,
         "type": "scatter",
         "x": [
          0.6422462463378906,
          0.667915940284729,
          0.6744593381881714,
          0.6916205883026123,
          0.705656886100769,
          0.708027720451355,
          0.7112811803817749,
          0.7151225209236145,
          0.7211356163024902
         ],
         "y": [
          0.6499679160573335,
          0.6764087589775146,
          0.7045522997103901,
          0.7390488571428574,
          0.7615833988226637,
          0.7688607142857141,
          0.7714808571428574,
          0.777207785714286,
          0.7825133392537549
         ]
        },
        {
         "mode": "markers+lines",
         "showlegend": false,
         "type": "scatter",
         "x": [
          0.6725162863731384,
          0.6989021897315979,
          0.7045233249664307,
          0.727307915687561,
          0.734420657157898,
          0.738238513469696,
          0.7396396398544312,
          0.7430798411369324,
          0.748583197593689
         ],
         "y": [
          0.694621697699418,
          0.716550276896908,
          0.7414128727663971,
          0.7807284197472636,
          0.7971997857142858,
          0.8056242857142857,
          0.8064065714285716,
          0.8143291428571428,
          0.8191024285714283
         ]
        },
        {
         "mode": "markers+lines",
         "showlegend": false,
         "type": "scatter",
         "x": [
          0.6774674654006958,
          0.7034045457839966,
          0.7103994488716125,
          0.7341970205307007,
          0.7400931119918823,
          0.7442509531974792,
          0.7453913688659668,
          0.7487088441848755,
          0.7541400194168091
         ],
         "y": [
          0.6956209285714284,
          0.7166922142857141,
          0.7395787835465732,
          0.7761092654025679,
          0.7970973571428571,
          0.8022584667371624,
          0.8058016428571426,
          0.813075214285714,
          0.8206506428571428
         ]
        },
        {
         "mode": "markers+lines",
         "showlegend": false,
         "type": "scatter",
         "x": [
          0.6350016593933105,
          0.6596759557723999,
          0.6676291227340698,
          0.6850771903991699,
          0.6998249292373657,
          0.7017624378204346,
          0.7055985927581787,
          0.709418773651123,
          0.7155357599258423
         ],
         "y": [
          0.6472675000000001,
          0.6712404785942839,
          0.7019162916454049,
          0.7379799094641754,
          0.7595632223734707,
          0.7641375714285716,
          0.7691197857142856,
          0.7759993571428571,
          0.7793322486710893
         ]
        },
        {
         "mode": "markers+lines",
         "showlegend": false,
         "type": "scatter",
         "x": [
          0.6400123834609985,
          0.663658618927002,
          0.6721872091293335,
          0.6910020112991333,
          0.7046936750411987,
          0.7070415019989014,
          0.710556149482727,
          0.7142690420150757,
          0.7203038930892944
         ],
         "y": [
          0.6509599627068646,
          0.6760447643616981,
          0.7022414482565474,
          0.7395248571428569,
          0.7622927335319549,
          0.7673347857142855,
          0.7713857290568497,
          0.7771143571428573,
          0.7820684592066878
         ]
        },
        {
         "mode": "markers+lines",
         "showlegend": false,
         "type": "scatter",
         "x": [
          0.6616119146347046,
          0.68727046251297,
          0.6938203573226929,
          0.7160181999206543,
          0.7251937389373779,
          0.7287177443504333,
          0.7308988571166992,
          0.7343689203262329,
          0.7400027513504028
         ],
         "y": [
          0.6828339755268761,
          0.7071102857142856,
          0.7313103963625911,
          0.7710530714285712,
          0.7913867142857143,
          0.7967617614694668,
          0.7986205,
          0.8084418046961351,
          0.8131637857142857
         ]
        },
        {
         "mode": "markers+lines",
         "showlegend": false,
         "type": "scatter",
         "x": [
          0.6322680711746216,
          0.6567555665969849,
          0.6648760437965393,
          0.6827449202537537,
          0.6981581449508667,
          0.6998336315155029,
          0.7040747404098511,
          0.7077003717422485,
          0.7139162421226501
         ],
         "y": [
          0.6472633572613351,
          0.6746793571428574,
          0.7040155630491858,
          0.7380889171696173,
          0.7605427142857144,
          0.7656514498588244,
          0.7720557857142859,
          0.7754599548842132,
          0.7809366428571428
         ]
        },
        {
         "mode": "markers+lines",
         "showlegend": false,
         "type": "scatter",
         "x": [
          0.637609601020813,
          0.6610894203186035,
          0.6699618101119995,
          0.6892220973968506,
          0.7028781175613403,
          0.7048654556274414,
          0.7087395191192627,
          0.7123153805732727,
          0.7183937430381775
         ],
         "y": [
          0.6518299973850626,
          0.6750509549745484,
          0.7078858012638292,
          0.7419496428571429,
          0.7668006298257991,
          0.7698860458231799,
          0.7720112578324354,
          0.7823884285714284,
          0.784806642857143
         ]
        },
        {
         "mode": "markers+lines",
         "showlegend": false,
         "type": "scatter",
         "x": [
          0.7904260158538818,
          0.8162909746170044,
          0.8216110467910767,
          0.8478455543518066,
          0.8413122892379761,
          0.8455519676208496,
          0.8446066379547119,
          0.8445284962654114,
          0.8462284803390503
         ],
         "y": [
          0.8035735517512839,
          0.8243607142857142,
          0.8497902857142857,
          0.8859091020604608,
          0.9061463667415476,
          0.911605,
          0.9151336731394614,
          0.9212652142857145,
          0.9268173914975254
         ]
        },
        {
         "mode": "markers+lines",
         "showlegend": false,
         "type": "scatter",
         "x": [
          0.7951761484146118,
          0.8196506500244141,
          0.8270756006240845,
          0.8524875640869141,
          0.8454878330230713,
          0.8500279188156128,
          0.8489245176315308,
          0.8489447832107544,
          0.849919319152832
         ],
         "y": [
          0.8120009888919191,
          0.8359260714285713,
          0.8629899686522103,
          0.893500123536728,
          0.9219502142857142,
          0.9247191428571426,
          0.9266913571428569,
          0.928464633530226,
          0.9354280714285714
         ]
        },
        {
         "mode": "markers+lines",
         "showlegend": false,
         "type": "scatter",
         "x": [
          0.7609685659408569,
          0.7902507781982422,
          0.7939339876174927,
          0.8215173482894897,
          0.8180800676345825,
          0.8229342699050903,
          0.822108805179596,
          0.8226643204689026,
          0.8265441656112671
         ],
         "y": [
          0.7808786313880395,
          0.8049388942740837,
          0.8322262804236515,
          0.8614109291969487,
          0.8845008601352317,
          0.8900827857142859,
          0.8930710714285713,
          0.9046061428571426,
          0.9063111477144852
         ]
        },
        {
         "mode": "markers+lines",
         "showlegend": false,
         "type": "scatter",
         "x": [
          0.7371671199798584,
          0.764594554901123,
          0.7709391117095947,
          0.7970278263092041,
          0.7966278791427612,
          0.8017590045928955,
          0.8011330366134644,
          0.8026677370071411,
          0.8070907592773438
         ],
         "y": [
          0.7508380627488026,
          0.775654142857143,
          0.8032287273706444,
          0.8392780714285715,
          0.8637918571428571,
          0.8658726641996143,
          0.8705544999999998,
          0.8748359138538744,
          0.8789198571428573
         ]
        },
        {
         "mode": "markers+lines",
         "showlegend": false,
         "type": "scatter",
         "x": [
          0.7597388625144958,
          0.7888340950012207,
          0.7935347557067871,
          0.8208785653114319,
          0.8177969455718994,
          0.8228338360786438,
          0.8220338821411133,
          0.8226608037948608,
          0.8265591859817505
         ],
         "y": [
          0.7799701575524043,
          0.8022249539026028,
          0.8255458181937564,
          0.8645023878146917,
          0.8867904285714288,
          0.887989857142857,
          0.8972502857142857,
          0.9029314176920497,
          0.9108543571428572
         ]
        },
        {
         "mode": "markers+lines",
         "showlegend": false,
         "type": "scatter",
         "x": [
          0.7867388725280762,
          0.8095165491104126,
          0.8187448978424072,
          0.844253659248352,
          0.8386949300765991,
          0.8441474437713623,
          0.8429644703865051,
          0.842995285987854,
          0.845199704170227
         ],
         "y": [
          0.8049972857142856,
          0.8279802572248414,
          0.8560523360718113,
          0.8894335708651765,
          0.9117341428571427,
          0.9138764285714284,
          0.9173395714285714,
          0.9251116438468021,
          0.9307292142857142
         ]
        },
        {
         "mode": "markers+lines",
         "showlegend": false,
         "type": "scatter",
         "x": [
          0.7201477289199829,
          0.7457085251808167,
          0.7547359466552734,
          0.7800387740135193,
          0.7820245623588562,
          0.7869969606399536,
          0.7869851589202881,
          0.7890306711196899,
          0.7938100099563599
         ],
         "y": [
          0.739263102421644,
          0.7653557857142859,
          0.794225807849698,
          0.8299988162102074,
          0.8541773837365468,
          0.8613084999999998,
          0.8627769971886453,
          0.8724896428571428,
          0.8769352222202853
         ]
        },
        {
         "mode": "markers+lines",
         "showlegend": false,
         "type": "scatter",
         "x": [
          0.5122734308242798,
          0.5314764976501465,
          0.546233594417572,
          0.5684817433357239,
          0.585992693901062,
          0.5892248153686523,
          0.5965540409088135,
          0.6055628061294556,
          0.6087062358856201
         ],
         "y": [
          0.5075712648609244,
          0.5246062573987945,
          0.5624356243820281,
          0.6157973718062898,
          0.6422849285714284,
          0.6464177358733592,
          0.6523162142857143,
          0.658769857142857,
          0.6675742142857141
         ]
        },
        {
         "mode": "markers+lines",
         "showlegend": false,
         "type": "scatter",
         "x": [
          0.6621667146682739,
          0.6823283433914185,
          0.6953194737434387,
          0.7178311347961426,
          0.7269471883773804,
          0.7307770252227783,
          0.7332531213760376,
          0.7365235090255737,
          0.7419990301132202
         ],
         "y": [
          0.6747719530921191,
          0.6958474338265987,
          0.7250785714285714,
          0.7633086428571428,
          0.7877957142857142,
          0.7914586519104427,
          0.795617031695225,
          0.8011431572286094,
          0.8104038571428573
         ]
        },
        {
         "mode": "markers+lines",
         "showlegend": false,
         "type": "scatter",
         "x": [
          0.6720800399780273,
          0.6928162574768066,
          0.7067060470581055,
          0.7292292714118958,
          0.7372865676879883,
          0.7413214445114136,
          0.7434176206588745,
          0.7464284300804138,
          0.7517586946487427
         ],
         "y": [
          0.690077730906468,
          0.7160916703491857,
          0.746694858941616,
          0.7784331428571427,
          0.8052117142857144,
          0.8084245714285713,
          0.8128719794816016,
          0.8170392142857145,
          0.8244075283765255
         ]
        },
        {
         "mode": "markers+lines",
         "showlegend": false,
         "type": "scatter",
         "x": [
          0.6432837247848511,
          0.6656758785247803,
          0.6764212846755981,
          0.7001688480377197,
          0.7114261388778687,
          0.7144073247909546,
          0.7181457281112671,
          0.7214666604995728,
          0.7272189855575562
         ],
         "y": [
          0.666479509591539,
          0.6866416424229205,
          0.7224488256255723,
          0.7598893571428574,
          0.7784298571428572,
          0.7850451221587962,
          0.7905902857142857,
          0.7960661710664547,
          0.8014076428571428
         ]
        },
        {
         "mode": "markers+lines",
         "showlegend": false,
         "type": "scatter",
         "x": [
          0.6360374689102173,
          0.6568058729171753,
          0.6691429615020752,
          0.6922597885131836,
          0.7040295004844666,
          0.7065451145172119,
          0.7107897996902466,
          0.7142313718795776,
          0.7200950384140015
         ],
         "y": [
          0.6545088571428573,
          0.6807025770230083,
          0.7067234676008622,
          0.7455215714285716,
          0.7685726428571427,
          0.7698574285714288,
          0.7756968508639323,
          0.7830135000000001,
          0.7915975645217536
         ]
        },
        {
         "mode": "markers+lines",
         "showlegend": false,
         "type": "scatter",
         "x": [
          0.6492964029312134,
          0.6707454919815063,
          0.6828562021255493,
          0.7061837315559387,
          0.7169820070266724,
          0.720221757888794,
          0.7236917018890381,
          0.7269263863563538,
          0.7325417995452881
         ],
         "y": [
          0.6624372126428175,
          0.692435642857143,
          0.7197958965706769,
          0.7585420110216737,
          0.7819854285714284,
          0.7844167142857142,
          0.7896818571428571,
          0.7964188571428572,
          0.8041654285714286
         ]
        },
        {
         "mode": "markers+lines",
         "showlegend": false,
         "type": "scatter",
         "x": [
          0.6418036222457886,
          0.6638242602348328,
          0.675699770450592,
          0.6992312669754028,
          0.7107328176498413,
          0.7136495113372803,
          0.717612087726593,
          0.7208988666534424,
          0.7266119718551636
         ],
         "y": [
          0.6612794700033962,
          0.6842381839032409,
          0.7130917142857142,
          0.7537073571428573,
          0.7738750714285716,
          0.7793379769378294,
          0.787256214285714,
          0.7921850145246166,
          0.7981820714285713
         ]
        },
        {
         "mode": "markers+lines",
         "showlegend": false,
         "type": "scatter",
         "x": [
          0.6502740383148193,
          0.6707851886749268,
          0.6835098266601562,
          0.7064338326454163,
          0.7170964479446411,
          0.7202669382095337,
          0.723853588104248,
          0.7270227670669556,
          0.7326141595840454
         ],
         "y": [
          0.670343142857143,
          0.6904065000000001,
          0.7203636428571427,
          0.7582937138287038,
          0.7780911428571429,
          0.784697642857143,
          0.7913848571428572,
          0.7976784733822696,
          0.8020221328043835
         ]
        },
        {
         "mode": "markers+lines",
         "showlegend": false,
         "type": "scatter",
         "x": [
          0.6455264091491699,
          0.6684467792510986,
          0.6795483827590942,
          0.7037188410758972,
          0.7152080535888672,
          0.7184300422668457,
          0.7222237586975098,
          0.7254143953323364,
          0.7310229539871216
         ],
         "y": [
          0.6722555455498541,
          0.6945726852394575,
          0.7242189285714288,
          0.7614037857142856,
          0.7833145714285712,
          0.7891049999999998,
          0.7960308571428573,
          0.8040880714285714,
          0.8087277857142858
         ]
        },
        {
         "mode": "markers+lines",
         "showlegend": false,
         "type": "scatter",
         "x": [
          0.6305588483810425,
          0.6528145670890808,
          0.6648843288421631,
          0.6881000995635986,
          0.7013136744499207,
          0.7035387754440308,
          0.708397626876831,
          0.7116345167160034,
          0.7175346612930298
         ],
         "y": [
          0.6482372623661452,
          0.6749113480977098,
          0.6981583765506741,
          0.7436280714285713,
          0.7625495714285714,
          0.7686149285714288,
          0.7734819664823951,
          0.7823908571428569,
          0.7825802142857141
         ]
        },
        {
         "mode": "markers+lines",
         "showlegend": false,
         "type": "scatter",
         "x": [
          0.6478456258773804,
          0.6690371036529541,
          0.6814044713973999,
          0.7050462365150452,
          0.7162997722625732,
          0.7194552421569824,
          0.7232332229614258,
          0.7263513803482056,
          0.7318929433822632
         ],
         "y": [
          0.668115854059333,
          0.6953977857142856,
          0.722935785714286,
          0.7580575702587283,
          0.7763314999999997,
          0.7844799285714288,
          0.7897539489183311,
          0.7968137142857142,
          0.8044520994671303
         ]
        },
        {
         "mode": "markers+lines",
         "showlegend": false,
         "type": "scatter",
         "x": [
          0.7095074653625488,
          0.7294535636901855,
          0.7466001510620117,
          0.770060122013092,
          0.7751815319061279,
          0.7811638116836548,
          0.7813915014266968,
          0.7838257551193237,
          0.7884324789047241
         ],
         "y": [
          0.733563844042078,
          0.761661408553199,
          0.7903330516371251,
          0.8234032142857143,
          0.8470091320281931,
          0.8484693571428572,
          0.8540480714285715,
          0.8593853571428574,
          0.8677242475390504
         ]
        },
        {
         "mode": "markers+lines",
         "showlegend": false,
         "type": "scatter",
         "x": [
          0.677095890045166,
          0.6974107027053833,
          0.7139050960540771,
          0.7371693849563599,
          0.7456150054931641,
          0.7502892017364502,
          0.7521905899047852,
          0.7550530433654785,
          0.7600871324539185
         ],
         "y": [
          0.6994881786869256,
          0.7264747152926134,
          0.7535035233168547,
          0.7887911428571428,
          0.8110479285714288,
          0.8152574999999997,
          0.8174350592202593,
          0.8263051428571428,
          0.8303664285714285
         ]
        },
        {
         "mode": "markers+lines",
         "showlegend": false,
         "type": "scatter",
         "x": [
          0.778537392616272,
          0.7966032028198242,
          0.8147064447402954,
          0.8391710519790649,
          0.8365070819854736,
          0.8435925841331482,
          0.8426469564437866,
          0.8430334329605103,
          0.8457613587379456
         ],
         "y": [
          0.8012217369685335,
          0.822529358401285,
          0.8550698571428573,
          0.8873973050391825,
          0.9103709285714287,
          0.913058142857143,
          0.9197428571428569,
          0.9234640714285715,
          0.9320371899295617
         ]
        },
        {
         "mode": "markers+lines",
         "showlegend": false,
         "type": "scatter",
         "x": [
          0.6525920629501343,
          0.6696573495864868,
          0.6882551908493042,
          0.7095977067947388,
          0.7208173274993896,
          0.7248597741127014,
          0.7280809879302979,
          0.7313786745071411,
          0.736675500869751
         ],
         "y": [
          0.6734268029179925,
          0.6956707857142855,
          0.7237156247964514,
          0.7626189999999998,
          0.7850968571428574,
          0.7911499254753978,
          0.7986616428571429,
          0.7984256428571429,
          0.8096360000000001
         ]
        },
        {
         "mode": "markers+lines",
         "showlegend": false,
         "type": "scatter",
         "x": [
          0.6562731266021729,
          0.6757476329803467,
          0.6933720111846924,
          0.7157256603240967,
          0.7268023490905762,
          0.7312305569648743,
          0.7341384887695312,
          0.7373360395431519,
          0.7425210475921631
         ],
         "y": [
          0.6785951110457876,
          0.705869333773188,
          0.7356654285714284,
          0.7686322686643805,
          0.7901145714285717,
          0.792037154168552,
          0.803324857142857,
          0.8071610714285714,
          0.8128007857142856
         ]
        },
        {
         "mode": "markers+lines",
         "showlegend": false,
         "type": "scatter",
         "x": [
          0.6472587585449219,
          0.666437029838562,
          0.683455228805542,
          0.7059087753295898,
          0.7178073525428772,
          0.7217721939086914,
          0.7252856492996216,
          0.7285577654838562,
          0.7338566780090332
         ],
         "y": [
          0.6707071428571426,
          0.6965019467517962,
          0.7221976091235016,
          0.7581195714285717,
          0.7806333571428569,
          0.7831610602888087,
          0.7899210714285714,
          0.7941892142857141,
          0.8001021166450818
         ]
        },
        {
         "mode": "markers+lines",
         "showlegend": false,
         "type": "scatter",
         "x": [
          0.6902993321418762,
          0.7081230282783508,
          0.730003833770752,
          0.7522381544113159,
          0.7600226998329163,
          0.7659740447998047,
          0.7669549584388733,
          0.7698073387145996,
          0.7745080590248108
         ],
         "y": [
          0.7230200023764647,
          0.748095642857143,
          0.7736023571428571,
          0.8052248571428571,
          0.8305942142857141,
          0.8342457163322119,
          0.841935285714286,
          0.8479590804172439,
          0.8555320000000002
         ]
        },
        {
         "mode": "markers+lines",
         "showlegend": false,
         "type": "scatter",
         "x": [
          0.6299889087677002,
          0.6510722637176514,
          0.6667937636375427,
          0.6902238130569458,
          0.7034761905670166,
          0.7065987586975098,
          0.711225152015686,
          0.7146357297897339,
          0.7201408743858337
         ],
         "y": [
          0.6537462142857144,
          0.6811430184223082,
          0.7096841032832246,
          0.7481253571428569,
          0.769191214285714,
          0.7771876428571426,
          0.7816843571428572,
          0.7892458571428571,
          0.7940245714285713
         ]
        },
        {
         "mode": "markers+lines",
         "showlegend": false,
         "type": "scatter",
         "x": [
          0.6416491270065308,
          0.6619181632995605,
          0.6775847673416138,
          0.7009089589118958,
          0.7133030891418457,
          0.7169114351272583,
          0.7208653688430786,
          0.724089503288269,
          0.7293713092803955
         ],
         "y": [
          0.6650225636464047,
          0.6924280714285713,
          0.7210271557850726,
          0.7537217857142855,
          0.775696857142857,
          0.785933566807729,
          0.7916153715931051,
          0.8005937857142855,
          0.8047425714285714
         ]
        },
        {
         "mode": "markers+lines",
         "showlegend": false,
         "type": "scatter",
         "x": [
          0.6232885122299194,
          0.645258903503418,
          0.6595556735992432,
          0.6841739416122437,
          0.6982487440109253,
          0.7009852528572083,
          0.7060483694076538,
          0.7094026803970337,
          0.714977502822876
         ],
         "y": [
          0.6517232691134281,
          0.6769546614827042,
          0.7063887907353803,
          0.7403915714285715,
          0.7672365932035835,
          0.7715467538020492,
          0.7789007142857142,
          0.7814503364796004,
          0.7900979285714287
         ]
        },
        {
         "mode": "markers+lines",
         "showlegend": false,
         "type": "scatter",
         "x": [
          0.7777969837188721,
          0.7909680604934692,
          0.8145315647125244,
          0.8380749225616455,
          0.837000846862793,
          0.8448888063430786,
          0.8440990447998047,
          0.8447016477584839,
          0.8472832441329956
         ],
         "y": [
          0.8085857413486466,
          0.834712327913863,
          0.8563052857142855,
          0.8908165714285714,
          0.9128417857142855,
          0.9155477857142859,
          0.9214308571428573,
          0.9298022628351332,
          0.9330029999999999
         ]
        },
        {
         "mode": "markers+lines",
         "showlegend": false,
         "type": "scatter",
         "x": [
          0.5498159527778625,
          0.5569377541542053,
          0.578166663646698,
          0.6135022640228271,
          0.635921835899353,
          0.6446918845176697,
          0.6507399082183838,
          0.6531448364257812,
          0.6619828939437866
         ],
         "y": [
          0.5175419729290779,
          0.5475534530039775,
          0.578204680775473,
          0.6185872142857143,
          0.6500687966463454,
          0.6580897857142857,
          0.6612297857142855,
          0.668378,
          0.6736736428571432
         ]
        },
        {
         "mode": "markers+lines",
         "showlegend": false,
         "type": "scatter",
         "x": [
          0.4257383942604065,
          0.43972378969192505,
          0.46271729469299316,
          0.4998195767402649,
          0.5006250739097595,
          0.5298176407814026,
          0.5212211608886719,
          0.5364446043968201,
          0.5408716201782227
         ],
         "y": [
          0.4373401581084621,
          0.4587238571428571,
          0.49278810029194164,
          0.5442915832412846,
          0.5735144285714284,
          0.5804598571428572,
          0.5930997776678754,
          0.5951865,
          0.5995235714285714
         ]
        },
        {
         "mode": "markers+lines",
         "showlegend": false,
         "type": "scatter",
         "x": [
          0.5670514106750488,
          0.5821187496185303,
          0.6010924577713013,
          0.624403715133667,
          0.6418157815933228,
          0.6464487314224243,
          0.6533427238464355,
          0.6577931642532349,
          0.6653789281845093
         ],
         "y": [
          0.5708055260679763,
          0.5917715131062447,
          0.6109965850244521,
          0.6349350231221683,
          0.6504625714285714,
          0.657334487182551,
          0.6625224285714287,
          0.6699131040737957,
          0.6754000714285715
         ]
        },
        {
         "mode": "markers+lines",
         "showlegend": false,
         "type": "scatter",
         "x": [
          0.5698186159133911,
          0.587384819984436,
          0.6083903312683105,
          0.631682276725769,
          0.6480962038040161,
          0.6520266532897949,
          0.6587885618209839,
          0.663887619972229,
          0.6706193685531616
         ],
         "y": [
          0.5842575704203508,
          0.6103385,
          0.6336731433693185,
          0.6594637281469812,
          0.6783591428571428,
          0.6822460714285715,
          0.6864975714285713,
          0.6940937240065969,
          0.6998012857142858
         ]
        },
        {
         "mode": "markers+lines",
         "showlegend": false,
         "type": "scatter",
         "x": [
          0.6575253009796143,
          0.6742337942123413,
          0.6970086097717285,
          0.7184522151947021,
          0.7303920984268188,
          0.735725998878479,
          0.7384469509124756,
          0.7417314052581787,
          0.7465196847915649
         ],
         "y": [
          0.687096068215849,
          0.7078408190361527,
          0.7389395714285715,
          0.7676997397559276,
          0.7919497142857145,
          0.8000855226009767,
          0.806321857142857,
          0.811962602456986,
          0.817849285714286
         ]
        },
        {
         "mode": "markers+lines",
         "showlegend": false,
         "type": "scatter",
         "x": [
          0.6580052375793457,
          0.6756112575531006,
          0.6963906288146973,
          0.7189429998397827,
          0.7308489084243774,
          0.7359702587127686,
          0.7387512922286987,
          0.7419376373291016,
          0.7466086149215698
         ],
         "y": [
          0.6867105883240306,
          0.7050298640781294,
          0.7333793571428571,
          0.771647857142857,
          0.7878842857142858,
          0.7943797347986046,
          0.8016706428571426,
          0.806004252767187,
          0.813134857142857
         ]
        },
        {
         "mode": "markers+lines",
         "showlegend": false,
         "type": "scatter",
         "x": [
          0.6393957138061523,
          0.6563577651977539,
          0.6796863675117493,
          0.7010550498962402,
          0.7145648002624512,
          0.7193715572357178,
          0.7229653000831604,
          0.7265629768371582,
          0.7314740419387817
         ],
         "y": [
          0.6759702549857871,
          0.7045324813392891,
          0.7307202246393387,
          0.7687421503271271,
          0.7875689961382742,
          0.7955832142857143,
          0.8025580714285715,
          0.809216357142857,
          0.8177683571428572
         ]
        },
        {
         "mode": "markers+lines",
         "showlegend": false,
         "type": "scatter",
         "x": [
          0.6433737874031067,
          0.662223219871521,
          0.6821705102920532,
          0.7052228450775146,
          0.718566358089447,
          0.7232729196548462,
          0.726789116859436,
          0.7301119565963745,
          0.734774112701416
         ],
         "y": [
          0.6689261700132965,
          0.6894958341144761,
          0.7192560652982639,
          0.7576438571428571,
          0.776308475748021,
          0.7849769285714286,
          0.7907783677924353,
          0.7923793571428571,
          0.8037332522940114
         ]
        },
        {
         "mode": "markers+lines",
         "showlegend": false,
         "type": "scatter",
         "x": [
          0.6488138437271118,
          0.6684191226959229,
          0.688044548034668,
          0.711445689201355,
          0.7243884801864624,
          0.7293792963027954,
          0.7326265573501587,
          0.7358574867248535,
          0.7403151988983154
         ],
         "y": [
          0.682707495300209,
          0.7077243916241189,
          0.7360142142857141,
          0.7705554999999998,
          0.788979642857143,
          0.7971259285714284,
          0.8030064943573944,
          0.8113504285714284,
          0.8164057142857141
         ]
        },
        {
         "mode": "markers+lines",
         "showlegend": false,
         "type": "scatter",
         "x": [
          0.6553237438201904,
          0.6708786487579346,
          0.6948320865631104,
          0.7163933515548706,
          0.7290384769439697,
          0.73451828956604,
          0.7373231649398804,
          0.7406415939331055,
          0.7450684309005737
         ],
         "y": [
          0.6872878812660228,
          0.7147787223610349,
          0.742338597894047,
          0.774280432290442,
          0.7924599999999999,
          0.7990215714285712,
          0.8055879384696762,
          0.8149302142857141,
          0.8218094812642123
         ]
        },
        {
         "mode": "markers+lines",
         "showlegend": false,
         "type": "scatter",
         "x": [
          0.6342878341674805,
          0.6537030339241028,
          0.6735703349113464,
          0.6970189809799194,
          0.7111454010009766,
          0.7155704498291016,
          0.7195878028869629,
          0.7230067253112793,
          0.7275491952896118
         ],
         "y": [
          0.6665870378044265,
          0.6898130714285716,
          0.7193606720083319,
          0.7555474407671233,
          0.7756535714285714,
          0.7823904085976183,
          0.7849610014750027,
          0.7918317142857144,
          0.8005646887499613
         ]
        },
        {
         "mode": "markers+lines",
         "showlegend": false,
         "type": "scatter",
         "x": [
          0.6527203321456909,
          0.6713401079177856,
          0.6922067403793335,
          0.715564489364624,
          0.7284759283065796,
          0.7337440252304077,
          0.7367698550224304,
          0.7399576902389526,
          0.7440752983093262
         ],
         "y": [
          0.6805380299094066,
          0.7048607911594053,
          0.7318053004767533,
          0.7690687395656407,
          0.7918892142857145,
          0.794658069618981,
          0.8018774285714285,
          0.8063545000000002,
          0.8138459021040902
         ]
        },
        {
         "mode": "markers+lines",
         "showlegend": false,
         "type": "scatter",
         "x": [
          0.6588029861450195,
          0.6725326776504517,
          0.6992385387420654,
          0.7202826142311096,
          0.7330701351165771,
          0.7390773892402649,
          0.7415437698364258,
          0.7449589967727661,
          0.7491104602813721
         ],
         "y": [
          0.6883523638541814,
          0.7102665066402618,
          0.7420055954703094,
          0.7733454285714286,
          0.7970665714285714,
          0.806124,
          0.8115752142857146,
          0.817537,
          0.8251182142857141
         ]
        },
        {
         "mode": "markers+lines",
         "showlegend": false,
         "type": "scatter",
         "x": [
          0.6428800821304321,
          0.6593488454818726,
          0.6836596727371216,
          0.7057375907897949,
          0.7197780609130859,
          0.7252107262611389,
          0.7284913063049316,
          0.7320413589477539,
          0.7362440824508667
         ],
         "y": [
          0.67153193413432,
          0.6944443370556219,
          0.723332409992324,
          0.753943857142857,
          0.7814744177745832,
          0.78602,
          0.7910801500115991,
          0.7975084999999998,
          0.8042177142857143
         ]
        }
       ],
       "layout": {
        "autosize": true,
        "template": {
         "data": {
          "bar": [
           {
            "error_x": {
             "color": "rgb(36,36,36)"
            },
            "error_y": {
             "color": "rgb(36,36,36)"
            },
            "marker": {
             "line": {
              "color": "white",
              "width": 0.5
             },
             "pattern": {
              "fillmode": "overlay",
              "size": 10,
              "solidity": 0.2
             }
            },
            "type": "bar"
           }
          ],
          "barpolar": [
           {
            "marker": {
             "line": {
              "color": "white",
              "width": 0.5
             },
             "pattern": {
              "fillmode": "overlay",
              "size": 10,
              "solidity": 0.2
             }
            },
            "type": "barpolar"
           }
          ],
          "carpet": [
           {
            "aaxis": {
             "endlinecolor": "rgb(36,36,36)",
             "gridcolor": "white",
             "linecolor": "white",
             "minorgridcolor": "white",
             "startlinecolor": "rgb(36,36,36)"
            },
            "baxis": {
             "endlinecolor": "rgb(36,36,36)",
             "gridcolor": "white",
             "linecolor": "white",
             "minorgridcolor": "white",
             "startlinecolor": "rgb(36,36,36)"
            },
            "type": "carpet"
           }
          ],
          "choropleth": [
           {
            "colorbar": {
             "outlinewidth": 1,
             "tickcolor": "rgb(36,36,36)",
             "ticks": "outside"
            },
            "type": "choropleth"
           }
          ],
          "contour": [
           {
            "colorbar": {
             "outlinewidth": 1,
             "tickcolor": "rgb(36,36,36)",
             "ticks": "outside"
            },
            "colorscale": [
             [
              0,
              "#440154"
             ],
             [
              0.1111111111111111,
              "#482878"
             ],
             [
              0.2222222222222222,
              "#3e4989"
             ],
             [
              0.3333333333333333,
              "#31688e"
             ],
             [
              0.4444444444444444,
              "#26828e"
             ],
             [
              0.5555555555555556,
              "#1f9e89"
             ],
             [
              0.6666666666666666,
              "#35b779"
             ],
             [
              0.7777777777777778,
              "#6ece58"
             ],
             [
              0.8888888888888888,
              "#b5de2b"
             ],
             [
              1,
              "#fde725"
             ]
            ],
            "type": "contour"
           }
          ],
          "contourcarpet": [
           {
            "colorbar": {
             "outlinewidth": 1,
             "tickcolor": "rgb(36,36,36)",
             "ticks": "outside"
            },
            "type": "contourcarpet"
           }
          ],
          "heatmap": [
           {
            "colorbar": {
             "outlinewidth": 1,
             "tickcolor": "rgb(36,36,36)",
             "ticks": "outside"
            },
            "colorscale": [
             [
              0,
              "#440154"
             ],
             [
              0.1111111111111111,
              "#482878"
             ],
             [
              0.2222222222222222,
              "#3e4989"
             ],
             [
              0.3333333333333333,
              "#31688e"
             ],
             [
              0.4444444444444444,
              "#26828e"
             ],
             [
              0.5555555555555556,
              "#1f9e89"
             ],
             [
              0.6666666666666666,
              "#35b779"
             ],
             [
              0.7777777777777778,
              "#6ece58"
             ],
             [
              0.8888888888888888,
              "#b5de2b"
             ],
             [
              1,
              "#fde725"
             ]
            ],
            "type": "heatmap"
           }
          ],
          "heatmapgl": [
           {
            "colorbar": {
             "outlinewidth": 1,
             "tickcolor": "rgb(36,36,36)",
             "ticks": "outside"
            },
            "colorscale": [
             [
              0,
              "#440154"
             ],
             [
              0.1111111111111111,
              "#482878"
             ],
             [
              0.2222222222222222,
              "#3e4989"
             ],
             [
              0.3333333333333333,
              "#31688e"
             ],
             [
              0.4444444444444444,
              "#26828e"
             ],
             [
              0.5555555555555556,
              "#1f9e89"
             ],
             [
              0.6666666666666666,
              "#35b779"
             ],
             [
              0.7777777777777778,
              "#6ece58"
             ],
             [
              0.8888888888888888,
              "#b5de2b"
             ],
             [
              1,
              "#fde725"
             ]
            ],
            "type": "heatmapgl"
           }
          ],
          "histogram": [
           {
            "marker": {
             "line": {
              "color": "white",
              "width": 0.6
             }
            },
            "type": "histogram"
           }
          ],
          "histogram2d": [
           {
            "colorbar": {
             "outlinewidth": 1,
             "tickcolor": "rgb(36,36,36)",
             "ticks": "outside"
            },
            "colorscale": [
             [
              0,
              "#440154"
             ],
             [
              0.1111111111111111,
              "#482878"
             ],
             [
              0.2222222222222222,
              "#3e4989"
             ],
             [
              0.3333333333333333,
              "#31688e"
             ],
             [
              0.4444444444444444,
              "#26828e"
             ],
             [
              0.5555555555555556,
              "#1f9e89"
             ],
             [
              0.6666666666666666,
              "#35b779"
             ],
             [
              0.7777777777777778,
              "#6ece58"
             ],
             [
              0.8888888888888888,
              "#b5de2b"
             ],
             [
              1,
              "#fde725"
             ]
            ],
            "type": "histogram2d"
           }
          ],
          "histogram2dcontour": [
           {
            "colorbar": {
             "outlinewidth": 1,
             "tickcolor": "rgb(36,36,36)",
             "ticks": "outside"
            },
            "colorscale": [
             [
              0,
              "#440154"
             ],
             [
              0.1111111111111111,
              "#482878"
             ],
             [
              0.2222222222222222,
              "#3e4989"
             ],
             [
              0.3333333333333333,
              "#31688e"
             ],
             [
              0.4444444444444444,
              "#26828e"
             ],
             [
              0.5555555555555556,
              "#1f9e89"
             ],
             [
              0.6666666666666666,
              "#35b779"
             ],
             [
              0.7777777777777778,
              "#6ece58"
             ],
             [
              0.8888888888888888,
              "#b5de2b"
             ],
             [
              1,
              "#fde725"
             ]
            ],
            "type": "histogram2dcontour"
           }
          ],
          "mesh3d": [
           {
            "colorbar": {
             "outlinewidth": 1,
             "tickcolor": "rgb(36,36,36)",
             "ticks": "outside"
            },
            "type": "mesh3d"
           }
          ],
          "parcoords": [
           {
            "line": {
             "colorbar": {
              "outlinewidth": 1,
              "tickcolor": "rgb(36,36,36)",
              "ticks": "outside"
             }
            },
            "type": "parcoords"
           }
          ],
          "pie": [
           {
            "automargin": true,
            "type": "pie"
           }
          ],
          "scatter": [
           {
            "fillpattern": {
             "fillmode": "overlay",
             "size": 10,
             "solidity": 0.2
            },
            "type": "scatter"
           }
          ],
          "scatter3d": [
           {
            "line": {
             "colorbar": {
              "outlinewidth": 1,
              "tickcolor": "rgb(36,36,36)",
              "ticks": "outside"
             }
            },
            "marker": {
             "colorbar": {
              "outlinewidth": 1,
              "tickcolor": "rgb(36,36,36)",
              "ticks": "outside"
             }
            },
            "type": "scatter3d"
           }
          ],
          "scattercarpet": [
           {
            "marker": {
             "colorbar": {
              "outlinewidth": 1,
              "tickcolor": "rgb(36,36,36)",
              "ticks": "outside"
             }
            },
            "type": "scattercarpet"
           }
          ],
          "scattergeo": [
           {
            "marker": {
             "colorbar": {
              "outlinewidth": 1,
              "tickcolor": "rgb(36,36,36)",
              "ticks": "outside"
             }
            },
            "type": "scattergeo"
           }
          ],
          "scattergl": [
           {
            "marker": {
             "colorbar": {
              "outlinewidth": 1,
              "tickcolor": "rgb(36,36,36)",
              "ticks": "outside"
             }
            },
            "type": "scattergl"
           }
          ],
          "scattermapbox": [
           {
            "marker": {
             "colorbar": {
              "outlinewidth": 1,
              "tickcolor": "rgb(36,36,36)",
              "ticks": "outside"
             }
            },
            "type": "scattermapbox"
           }
          ],
          "scatterpolar": [
           {
            "marker": {
             "colorbar": {
              "outlinewidth": 1,
              "tickcolor": "rgb(36,36,36)",
              "ticks": "outside"
             }
            },
            "type": "scatterpolar"
           }
          ],
          "scatterpolargl": [
           {
            "marker": {
             "colorbar": {
              "outlinewidth": 1,
              "tickcolor": "rgb(36,36,36)",
              "ticks": "outside"
             }
            },
            "type": "scatterpolargl"
           }
          ],
          "scatterternary": [
           {
            "marker": {
             "colorbar": {
              "outlinewidth": 1,
              "tickcolor": "rgb(36,36,36)",
              "ticks": "outside"
             }
            },
            "type": "scatterternary"
           }
          ],
          "surface": [
           {
            "colorbar": {
             "outlinewidth": 1,
             "tickcolor": "rgb(36,36,36)",
             "ticks": "outside"
            },
            "colorscale": [
             [
              0,
              "#440154"
             ],
             [
              0.1111111111111111,
              "#482878"
             ],
             [
              0.2222222222222222,
              "#3e4989"
             ],
             [
              0.3333333333333333,
              "#31688e"
             ],
             [
              0.4444444444444444,
              "#26828e"
             ],
             [
              0.5555555555555556,
              "#1f9e89"
             ],
             [
              0.6666666666666666,
              "#35b779"
             ],
             [
              0.7777777777777778,
              "#6ece58"
             ],
             [
              0.8888888888888888,
              "#b5de2b"
             ],
             [
              1,
              "#fde725"
             ]
            ],
            "type": "surface"
           }
          ],
          "table": [
           {
            "cells": {
             "fill": {
              "color": "rgb(237,237,237)"
             },
             "line": {
              "color": "white"
             }
            },
            "header": {
             "fill": {
              "color": "rgb(217,217,217)"
             },
             "line": {
              "color": "white"
             }
            },
            "type": "table"
           }
          ]
         },
         "layout": {
          "annotationdefaults": {
           "arrowhead": 0,
           "arrowwidth": 1
          },
          "autotypenumbers": "strict",
          "coloraxis": {
           "colorbar": {
            "outlinewidth": 1,
            "tickcolor": "rgb(36,36,36)",
            "ticks": "outside"
           }
          },
          "colorscale": {
           "diverging": [
            [
             0,
             "rgb(103,0,31)"
            ],
            [
             0.1,
             "rgb(178,24,43)"
            ],
            [
             0.2,
             "rgb(214,96,77)"
            ],
            [
             0.3,
             "rgb(244,165,130)"
            ],
            [
             0.4,
             "rgb(253,219,199)"
            ],
            [
             0.5,
             "rgb(247,247,247)"
            ],
            [
             0.6,
             "rgb(209,229,240)"
            ],
            [
             0.7,
             "rgb(146,197,222)"
            ],
            [
             0.8,
             "rgb(67,147,195)"
            ],
            [
             0.9,
             "rgb(33,102,172)"
            ],
            [
             1,
             "rgb(5,48,97)"
            ]
           ],
           "sequential": [
            [
             0,
             "#440154"
            ],
            [
             0.1111111111111111,
             "#482878"
            ],
            [
             0.2222222222222222,
             "#3e4989"
            ],
            [
             0.3333333333333333,
             "#31688e"
            ],
            [
             0.4444444444444444,
             "#26828e"
            ],
            [
             0.5555555555555556,
             "#1f9e89"
            ],
            [
             0.6666666666666666,
             "#35b779"
            ],
            [
             0.7777777777777778,
             "#6ece58"
            ],
            [
             0.8888888888888888,
             "#b5de2b"
            ],
            [
             1,
             "#fde725"
            ]
           ],
           "sequentialminus": [
            [
             0,
             "#440154"
            ],
            [
             0.1111111111111111,
             "#482878"
            ],
            [
             0.2222222222222222,
             "#3e4989"
            ],
            [
             0.3333333333333333,
             "#31688e"
            ],
            [
             0.4444444444444444,
             "#26828e"
            ],
            [
             0.5555555555555556,
             "#1f9e89"
            ],
            [
             0.6666666666666666,
             "#35b779"
            ],
            [
             0.7777777777777778,
             "#6ece58"
            ],
            [
             0.8888888888888888,
             "#b5de2b"
            ],
            [
             1,
             "#fde725"
            ]
           ]
          },
          "colorway": [
           "#1F77B4",
           "#FF7F0E",
           "#2CA02C",
           "#D62728",
           "#9467BD",
           "#8C564B",
           "#E377C2",
           "#7F7F7F",
           "#BCBD22",
           "#17BECF"
          ],
          "font": {
           "color": "rgb(36,36,36)"
          },
          "geo": {
           "bgcolor": "white",
           "lakecolor": "white",
           "landcolor": "white",
           "showlakes": true,
           "showland": true,
           "subunitcolor": "white"
          },
          "hoverlabel": {
           "align": "left"
          },
          "hovermode": "closest",
          "mapbox": {
           "style": "light"
          },
          "paper_bgcolor": "white",
          "plot_bgcolor": "white",
          "polar": {
           "angularaxis": {
            "gridcolor": "rgb(232,232,232)",
            "linecolor": "rgb(36,36,36)",
            "showgrid": false,
            "showline": true,
            "ticks": "outside"
           },
           "bgcolor": "white",
           "radialaxis": {
            "gridcolor": "rgb(232,232,232)",
            "linecolor": "rgb(36,36,36)",
            "showgrid": false,
            "showline": true,
            "ticks": "outside"
           }
          },
          "scene": {
           "xaxis": {
            "backgroundcolor": "white",
            "gridcolor": "rgb(232,232,232)",
            "gridwidth": 2,
            "linecolor": "rgb(36,36,36)",
            "showbackground": true,
            "showgrid": false,
            "showline": true,
            "ticks": "outside",
            "zeroline": false,
            "zerolinecolor": "rgb(36,36,36)"
           },
           "yaxis": {
            "backgroundcolor": "white",
            "gridcolor": "rgb(232,232,232)",
            "gridwidth": 2,
            "linecolor": "rgb(36,36,36)",
            "showbackground": true,
            "showgrid": false,
            "showline": true,
            "ticks": "outside",
            "zeroline": false,
            "zerolinecolor": "rgb(36,36,36)"
           },
           "zaxis": {
            "backgroundcolor": "white",
            "gridcolor": "rgb(232,232,232)",
            "gridwidth": 2,
            "linecolor": "rgb(36,36,36)",
            "showbackground": true,
            "showgrid": false,
            "showline": true,
            "ticks": "outside",
            "zeroline": false,
            "zerolinecolor": "rgb(36,36,36)"
           }
          },
          "shapedefaults": {
           "fillcolor": "black",
           "line": {
            "width": 0
           },
           "opacity": 0.3
          },
          "ternary": {
           "aaxis": {
            "gridcolor": "rgb(232,232,232)",
            "linecolor": "rgb(36,36,36)",
            "showgrid": false,
            "showline": true,
            "ticks": "outside"
           },
           "baxis": {
            "gridcolor": "rgb(232,232,232)",
            "linecolor": "rgb(36,36,36)",
            "showgrid": false,
            "showline": true,
            "ticks": "outside"
           },
           "bgcolor": "white",
           "caxis": {
            "gridcolor": "rgb(232,232,232)",
            "linecolor": "rgb(36,36,36)",
            "showgrid": false,
            "showline": true,
            "ticks": "outside"
           }
          },
          "title": {
           "x": 0.05
          },
          "xaxis": {
           "automargin": true,
           "gridcolor": "rgb(232,232,232)",
           "linecolor": "rgb(36,36,36)",
           "showgrid": false,
           "showline": true,
           "ticks": "outside",
           "title": {
            "standoff": 15
           },
           "zeroline": false,
           "zerolinecolor": "rgb(36,36,36)"
          },
          "yaxis": {
           "automargin": true,
           "gridcolor": "rgb(232,232,232)",
           "linecolor": "rgb(36,36,36)",
           "showgrid": false,
           "showline": true,
           "ticks": "outside",
           "title": {
            "standoff": 15
           },
           "zeroline": false,
           "zerolinecolor": "rgb(36,36,36)"
          }
         }
        },
        "xaxis": {
         "autorange": true,
         "range": [
          -0.062317429406036996,
          1.062317429406037
         ],
         "title": {
          "text": "Normalized Temperature Prediction"
         },
         "type": "linear"
        },
        "yaxis": {
         "autorange": true,
         "range": [
          -0.07040998217468805,
          1.070409982174688
         ],
         "title": {
          "text": "Normalized Temperature Target"
         },
         "type": "linear"
        }
       }
      },
      "text/html": [
       "<div>                            <div id=\"4620b7df-4142-4071-b9e3-0baa902cb9e6\" class=\"plotly-graph-div\" style=\"height:500px; width:100%;\"></div>            <script type=\"text/javascript\">                require([\"plotly\"], function(Plotly) {                    window.PLOTLYENV=window.PLOTLYENV || {};                                    if (document.getElementById(\"4620b7df-4142-4071-b9e3-0baa902cb9e6\")) {                    Plotly.newPlot(                        \"4620b7df-4142-4071-b9e3-0baa902cb9e6\",                        [{\"mode\":\"markers+lines\",\"showlegend\":false,\"x\":[0,1],\"y\":[0,1],\"type\":\"scatter\"},{\"mode\":\"markers+lines\",\"showlegend\":false,\"x\":[0.6812014579772949,0.7090061902999878,0.7118061780929565,0.7310960292816162,0.7376140356063843,0.7412165403366089,0.7417981028556824,0.7455266714096069,0.750898003578186],\"y\":[0.679984883047836,0.7017684567272268,0.731187218936472,0.7635048571428571,0.7854028571428573,0.788506412813735,0.7906818571428573,0.7979692857142859,0.8030419999999998],\"type\":\"scatter\"},{\"mode\":\"markers+lines\",\"showlegend\":false,\"x\":[0.6475636959075928,0.6747954487800598,0.6790488958358765,0.6935717463493347,0.7095070481300354,0.711632490158081,0.7144979238510132,0.7184102535247803,0.7244815826416016],\"y\":[0.6470019329799137,0.6675076949400376,0.6965365569073618,0.7291841658833406,0.747301642857143,0.754326218783692,0.7596650714285715,0.7673797857142856,0.7671637142857141],\"type\":\"scatter\"},{\"mode\":\"markers+lines\",\"showlegend\":false,\"x\":[0.6417328119277954,0.6663808226585388,0.6722568273544312,0.6869339942932129,0.702083945274353,0.7041335701942444,0.7071869373321533,0.7113384008407593,0.7173770666122437],\"y\":[0.6509769590966241,0.6752972983651567,0.7074673390505994,0.7479324890809429,0.7663879004834053,0.7719615000000003,0.7736895714285714,0.7812522142857142,0.7872231365283573],\"type\":\"scatter\"},{\"mode\":\"markers+lines\",\"showlegend\":false,\"x\":[0.6964020729064941,0.7269437313079834,0.7300524711608887,0.7550014853477478,0.7574633359909058,0.7613358497619629,0.7616125345230103,0.7645624876022339,0.7698975801467896],\"y\":[0.7063751650847446,0.7270783071310154,0.7554569285714285,0.7896421438641261,0.8092500384839243,0.8114792857142855,0.8187683437023554,0.8251233571428571,0.8309132857142859],\"type\":\"scatter\"},{\"mode\":\"markers+lines\",\"showlegend\":false,\"x\":[0.6389220952987671,0.665535569190979,0.6713626384735107,0.6865436434745789,0.7030920386314392,0.7053849697113037,0.7086716890335083,0.7127137184143066,0.718814492225647],\"y\":[0.6460674692366618,0.6667115846026338,0.6963775024134456,0.7300392004433656,0.7570819999999999,0.7576487142857141,0.7636272616961217,0.7701529951868772,0.7771562857142855],\"type\":\"scatter\"},{\"mode\":\"markers+lines\",\"showlegend\":false,\"x\":[0.6535397171974182,0.6774958372116089,0.6839538812637329,0.7015912532806396,0.7128236293792725,0.7155593633651733,0.7178828716278076,0.7218358516693115,0.7276275157928467],\"y\":[0.6650752711509229,0.6872389490205989,0.7148358571428572,0.753208830135022,0.7750699285714288,0.7764170668166397,0.783350785714286,0.7826168909166324,0.7918431428571431],\"type\":\"scatter\"},{\"mode\":\"markers+lines\",\"showlegend\":false,\"x\":[0.6442133784294128,0.6695911884307861,0.6750348806381226,0.6906307935714722,0.7047836780548096,0.7067816257476807,0.7099330425262451,0.713881254196167,0.7198935747146606],\"y\":[0.6481807911999763,0.6716657752963542,0.7035263687095296,0.7396312368392656,0.7616791922604699,0.7676200714285716,0.7714988588021153,0.7796579285714286,0.7848023528965768],\"type\":\"scatter\"},{\"mode\":\"markers+lines\",\"showlegend\":false,\"x\":[0.6359813809394836,0.6617298126220703,0.6673957109451294,0.6823437213897705,0.6984176635742188,0.6999354362487793,0.7037162780761719,0.7076421976089478,0.7138359546661377],\"y\":[0.6419613469357714,0.6690882152601657,0.6928658764113114,0.7330651505704058,0.7551574999999998,0.7577214999999998,0.7630460122572912,0.7701549285714288,0.7748914277697729],\"type\":\"scatter\"},{\"mode\":\"markers+lines\",\"showlegend\":false,\"x\":[0.6444352865219116,0.669723391532898,0.6753402948379517,0.691810131072998,0.7060548067092896,0.7081514596939087,0.7114094495773315,0.7151875495910645,0.7212488651275635],\"y\":[0.6550824895253068,0.6757779538905372,0.7049265100233787,0.7392125714285714,0.7559294257667495,0.7614029285714287,0.7681611889488742,0.7756987857142857,0.7827453571428572],\"type\":\"scatter\"},{\"mode\":\"markers+lines\",\"showlegend\":false,\"x\":[0.6422462463378906,0.667915940284729,0.6744593381881714,0.6916205883026123,0.705656886100769,0.708027720451355,0.7112811803817749,0.7151225209236145,0.7211356163024902],\"y\":[0.6499679160573335,0.6764087589775146,0.7045522997103901,0.7390488571428574,0.7615833988226637,0.7688607142857141,0.7714808571428574,0.777207785714286,0.7825133392537549],\"type\":\"scatter\"},{\"mode\":\"markers+lines\",\"showlegend\":false,\"x\":[0.6725162863731384,0.6989021897315979,0.7045233249664307,0.727307915687561,0.734420657157898,0.738238513469696,0.7396396398544312,0.7430798411369324,0.748583197593689],\"y\":[0.694621697699418,0.716550276896908,0.7414128727663971,0.7807284197472636,0.7971997857142858,0.8056242857142857,0.8064065714285716,0.8143291428571428,0.8191024285714283],\"type\":\"scatter\"},{\"mode\":\"markers+lines\",\"showlegend\":false,\"x\":[0.6774674654006958,0.7034045457839966,0.7103994488716125,0.7341970205307007,0.7400931119918823,0.7442509531974792,0.7453913688659668,0.7487088441848755,0.7541400194168091],\"y\":[0.6956209285714284,0.7166922142857141,0.7395787835465732,0.7761092654025679,0.7970973571428571,0.8022584667371624,0.8058016428571426,0.813075214285714,0.8206506428571428],\"type\":\"scatter\"},{\"mode\":\"markers+lines\",\"showlegend\":false,\"x\":[0.6350016593933105,0.6596759557723999,0.6676291227340698,0.6850771903991699,0.6998249292373657,0.7017624378204346,0.7055985927581787,0.709418773651123,0.7155357599258423],\"y\":[0.6472675000000001,0.6712404785942839,0.7019162916454049,0.7379799094641754,0.7595632223734707,0.7641375714285716,0.7691197857142856,0.7759993571428571,0.7793322486710893],\"type\":\"scatter\"},{\"mode\":\"markers+lines\",\"showlegend\":false,\"x\":[0.6400123834609985,0.663658618927002,0.6721872091293335,0.6910020112991333,0.7046936750411987,0.7070415019989014,0.710556149482727,0.7142690420150757,0.7203038930892944],\"y\":[0.6509599627068646,0.6760447643616981,0.7022414482565474,0.7395248571428569,0.7622927335319549,0.7673347857142855,0.7713857290568497,0.7771143571428573,0.7820684592066878],\"type\":\"scatter\"},{\"mode\":\"markers+lines\",\"showlegend\":false,\"x\":[0.6616119146347046,0.68727046251297,0.6938203573226929,0.7160181999206543,0.7251937389373779,0.7287177443504333,0.7308988571166992,0.7343689203262329,0.7400027513504028],\"y\":[0.6828339755268761,0.7071102857142856,0.7313103963625911,0.7710530714285712,0.7913867142857143,0.7967617614694668,0.7986205,0.8084418046961351,0.8131637857142857],\"type\":\"scatter\"},{\"mode\":\"markers+lines\",\"showlegend\":false,\"x\":[0.6322680711746216,0.6567555665969849,0.6648760437965393,0.6827449202537537,0.6981581449508667,0.6998336315155029,0.7040747404098511,0.7077003717422485,0.7139162421226501],\"y\":[0.6472633572613351,0.6746793571428574,0.7040155630491858,0.7380889171696173,0.7605427142857144,0.7656514498588244,0.7720557857142859,0.7754599548842132,0.7809366428571428],\"type\":\"scatter\"},{\"mode\":\"markers+lines\",\"showlegend\":false,\"x\":[0.637609601020813,0.6610894203186035,0.6699618101119995,0.6892220973968506,0.7028781175613403,0.7048654556274414,0.7087395191192627,0.7123153805732727,0.7183937430381775],\"y\":[0.6518299973850626,0.6750509549745484,0.7078858012638292,0.7419496428571429,0.7668006298257991,0.7698860458231799,0.7720112578324354,0.7823884285714284,0.784806642857143],\"type\":\"scatter\"},{\"mode\":\"markers+lines\",\"showlegend\":false,\"x\":[0.7904260158538818,0.8162909746170044,0.8216110467910767,0.8478455543518066,0.8413122892379761,0.8455519676208496,0.8446066379547119,0.8445284962654114,0.8462284803390503],\"y\":[0.8035735517512839,0.8243607142857142,0.8497902857142857,0.8859091020604608,0.9061463667415476,0.911605,0.9151336731394614,0.9212652142857145,0.9268173914975254],\"type\":\"scatter\"},{\"mode\":\"markers+lines\",\"showlegend\":false,\"x\":[0.7951761484146118,0.8196506500244141,0.8270756006240845,0.8524875640869141,0.8454878330230713,0.8500279188156128,0.8489245176315308,0.8489447832107544,0.849919319152832],\"y\":[0.8120009888919191,0.8359260714285713,0.8629899686522103,0.893500123536728,0.9219502142857142,0.9247191428571426,0.9266913571428569,0.928464633530226,0.9354280714285714],\"type\":\"scatter\"},{\"mode\":\"markers+lines\",\"showlegend\":false,\"x\":[0.7609685659408569,0.7902507781982422,0.7939339876174927,0.8215173482894897,0.8180800676345825,0.8229342699050903,0.822108805179596,0.8226643204689026,0.8265441656112671],\"y\":[0.7808786313880395,0.8049388942740837,0.8322262804236515,0.8614109291969487,0.8845008601352317,0.8900827857142859,0.8930710714285713,0.9046061428571426,0.9063111477144852],\"type\":\"scatter\"},{\"mode\":\"markers+lines\",\"showlegend\":false,\"x\":[0.7371671199798584,0.764594554901123,0.7709391117095947,0.7970278263092041,0.7966278791427612,0.8017590045928955,0.8011330366134644,0.8026677370071411,0.8070907592773438],\"y\":[0.7508380627488026,0.775654142857143,0.8032287273706444,0.8392780714285715,0.8637918571428571,0.8658726641996143,0.8705544999999998,0.8748359138538744,0.8789198571428573],\"type\":\"scatter\"},{\"mode\":\"markers+lines\",\"showlegend\":false,\"x\":[0.7597388625144958,0.7888340950012207,0.7935347557067871,0.8208785653114319,0.8177969455718994,0.8228338360786438,0.8220338821411133,0.8226608037948608,0.8265591859817505],\"y\":[0.7799701575524043,0.8022249539026028,0.8255458181937564,0.8645023878146917,0.8867904285714288,0.887989857142857,0.8972502857142857,0.9029314176920497,0.9108543571428572],\"type\":\"scatter\"},{\"mode\":\"markers+lines\",\"showlegend\":false,\"x\":[0.7867388725280762,0.8095165491104126,0.8187448978424072,0.844253659248352,0.8386949300765991,0.8441474437713623,0.8429644703865051,0.842995285987854,0.845199704170227],\"y\":[0.8049972857142856,0.8279802572248414,0.8560523360718113,0.8894335708651765,0.9117341428571427,0.9138764285714284,0.9173395714285714,0.9251116438468021,0.9307292142857142],\"type\":\"scatter\"},{\"mode\":\"markers+lines\",\"showlegend\":false,\"x\":[0.7201477289199829,0.7457085251808167,0.7547359466552734,0.7800387740135193,0.7820245623588562,0.7869969606399536,0.7869851589202881,0.7890306711196899,0.7938100099563599],\"y\":[0.739263102421644,0.7653557857142859,0.794225807849698,0.8299988162102074,0.8541773837365468,0.8613084999999998,0.8627769971886453,0.8724896428571428,0.8769352222202853],\"type\":\"scatter\"},{\"mode\":\"markers+lines\",\"showlegend\":false,\"x\":[0.5122734308242798,0.5314764976501465,0.546233594417572,0.5684817433357239,0.585992693901062,0.5892248153686523,0.5965540409088135,0.6055628061294556,0.6087062358856201],\"y\":[0.5075712648609244,0.5246062573987945,0.5624356243820281,0.6157973718062898,0.6422849285714284,0.6464177358733592,0.6523162142857143,0.658769857142857,0.6675742142857141],\"type\":\"scatter\"},{\"mode\":\"markers+lines\",\"showlegend\":false,\"x\":[0.6621667146682739,0.6823283433914185,0.6953194737434387,0.7178311347961426,0.7269471883773804,0.7307770252227783,0.7332531213760376,0.7365235090255737,0.7419990301132202],\"y\":[0.6747719530921191,0.6958474338265987,0.7250785714285714,0.7633086428571428,0.7877957142857142,0.7914586519104427,0.795617031695225,0.8011431572286094,0.8104038571428573],\"type\":\"scatter\"},{\"mode\":\"markers+lines\",\"showlegend\":false,\"x\":[0.6720800399780273,0.6928162574768066,0.7067060470581055,0.7292292714118958,0.7372865676879883,0.7413214445114136,0.7434176206588745,0.7464284300804138,0.7517586946487427],\"y\":[0.690077730906468,0.7160916703491857,0.746694858941616,0.7784331428571427,0.8052117142857144,0.8084245714285713,0.8128719794816016,0.8170392142857145,0.8244075283765255],\"type\":\"scatter\"},{\"mode\":\"markers+lines\",\"showlegend\":false,\"x\":[0.6432837247848511,0.6656758785247803,0.6764212846755981,0.7001688480377197,0.7114261388778687,0.7144073247909546,0.7181457281112671,0.7214666604995728,0.7272189855575562],\"y\":[0.666479509591539,0.6866416424229205,0.7224488256255723,0.7598893571428574,0.7784298571428572,0.7850451221587962,0.7905902857142857,0.7960661710664547,0.8014076428571428],\"type\":\"scatter\"},{\"mode\":\"markers+lines\",\"showlegend\":false,\"x\":[0.6360374689102173,0.6568058729171753,0.6691429615020752,0.6922597885131836,0.7040295004844666,0.7065451145172119,0.7107897996902466,0.7142313718795776,0.7200950384140015],\"y\":[0.6545088571428573,0.6807025770230083,0.7067234676008622,0.7455215714285716,0.7685726428571427,0.7698574285714288,0.7756968508639323,0.7830135000000001,0.7915975645217536],\"type\":\"scatter\"},{\"mode\":\"markers+lines\",\"showlegend\":false,\"x\":[0.6492964029312134,0.6707454919815063,0.6828562021255493,0.7061837315559387,0.7169820070266724,0.720221757888794,0.7236917018890381,0.7269263863563538,0.7325417995452881],\"y\":[0.6624372126428175,0.692435642857143,0.7197958965706769,0.7585420110216737,0.7819854285714284,0.7844167142857142,0.7896818571428571,0.7964188571428572,0.8041654285714286],\"type\":\"scatter\"},{\"mode\":\"markers+lines\",\"showlegend\":false,\"x\":[0.6418036222457886,0.6638242602348328,0.675699770450592,0.6992312669754028,0.7107328176498413,0.7136495113372803,0.717612087726593,0.7208988666534424,0.7266119718551636],\"y\":[0.6612794700033962,0.6842381839032409,0.7130917142857142,0.7537073571428573,0.7738750714285716,0.7793379769378294,0.787256214285714,0.7921850145246166,0.7981820714285713],\"type\":\"scatter\"},{\"mode\":\"markers+lines\",\"showlegend\":false,\"x\":[0.6502740383148193,0.6707851886749268,0.6835098266601562,0.7064338326454163,0.7170964479446411,0.7202669382095337,0.723853588104248,0.7270227670669556,0.7326141595840454],\"y\":[0.670343142857143,0.6904065000000001,0.7203636428571427,0.7582937138287038,0.7780911428571429,0.784697642857143,0.7913848571428572,0.7976784733822696,0.8020221328043835],\"type\":\"scatter\"},{\"mode\":\"markers+lines\",\"showlegend\":false,\"x\":[0.6455264091491699,0.6684467792510986,0.6795483827590942,0.7037188410758972,0.7152080535888672,0.7184300422668457,0.7222237586975098,0.7254143953323364,0.7310229539871216],\"y\":[0.6722555455498541,0.6945726852394575,0.7242189285714288,0.7614037857142856,0.7833145714285712,0.7891049999999998,0.7960308571428573,0.8040880714285714,0.8087277857142858],\"type\":\"scatter\"},{\"mode\":\"markers+lines\",\"showlegend\":false,\"x\":[0.6305588483810425,0.6528145670890808,0.6648843288421631,0.6881000995635986,0.7013136744499207,0.7035387754440308,0.708397626876831,0.7116345167160034,0.7175346612930298],\"y\":[0.6482372623661452,0.6749113480977098,0.6981583765506741,0.7436280714285713,0.7625495714285714,0.7686149285714288,0.7734819664823951,0.7823908571428569,0.7825802142857141],\"type\":\"scatter\"},{\"mode\":\"markers+lines\",\"showlegend\":false,\"x\":[0.6478456258773804,0.6690371036529541,0.6814044713973999,0.7050462365150452,0.7162997722625732,0.7194552421569824,0.7232332229614258,0.7263513803482056,0.7318929433822632],\"y\":[0.668115854059333,0.6953977857142856,0.722935785714286,0.7580575702587283,0.7763314999999997,0.7844799285714288,0.7897539489183311,0.7968137142857142,0.8044520994671303],\"type\":\"scatter\"},{\"mode\":\"markers+lines\",\"showlegend\":false,\"x\":[0.7095074653625488,0.7294535636901855,0.7466001510620117,0.770060122013092,0.7751815319061279,0.7811638116836548,0.7813915014266968,0.7838257551193237,0.7884324789047241],\"y\":[0.733563844042078,0.761661408553199,0.7903330516371251,0.8234032142857143,0.8470091320281931,0.8484693571428572,0.8540480714285715,0.8593853571428574,0.8677242475390504],\"type\":\"scatter\"},{\"mode\":\"markers+lines\",\"showlegend\":false,\"x\":[0.677095890045166,0.6974107027053833,0.7139050960540771,0.7371693849563599,0.7456150054931641,0.7502892017364502,0.7521905899047852,0.7550530433654785,0.7600871324539185],\"y\":[0.6994881786869256,0.7264747152926134,0.7535035233168547,0.7887911428571428,0.8110479285714288,0.8152574999999997,0.8174350592202593,0.8263051428571428,0.8303664285714285],\"type\":\"scatter\"},{\"mode\":\"markers+lines\",\"showlegend\":false,\"x\":[0.778537392616272,0.7966032028198242,0.8147064447402954,0.8391710519790649,0.8365070819854736,0.8435925841331482,0.8426469564437866,0.8430334329605103,0.8457613587379456],\"y\":[0.8012217369685335,0.822529358401285,0.8550698571428573,0.8873973050391825,0.9103709285714287,0.913058142857143,0.9197428571428569,0.9234640714285715,0.9320371899295617],\"type\":\"scatter\"},{\"mode\":\"markers+lines\",\"showlegend\":false,\"x\":[0.6525920629501343,0.6696573495864868,0.6882551908493042,0.7095977067947388,0.7208173274993896,0.7248597741127014,0.7280809879302979,0.7313786745071411,0.736675500869751],\"y\":[0.6734268029179925,0.6956707857142855,0.7237156247964514,0.7626189999999998,0.7850968571428574,0.7911499254753978,0.7986616428571429,0.7984256428571429,0.8096360000000001],\"type\":\"scatter\"},{\"mode\":\"markers+lines\",\"showlegend\":false,\"x\":[0.6562731266021729,0.6757476329803467,0.6933720111846924,0.7157256603240967,0.7268023490905762,0.7312305569648743,0.7341384887695312,0.7373360395431519,0.7425210475921631],\"y\":[0.6785951110457876,0.705869333773188,0.7356654285714284,0.7686322686643805,0.7901145714285717,0.792037154168552,0.803324857142857,0.8071610714285714,0.8128007857142856],\"type\":\"scatter\"},{\"mode\":\"markers+lines\",\"showlegend\":false,\"x\":[0.6472587585449219,0.666437029838562,0.683455228805542,0.7059087753295898,0.7178073525428772,0.7217721939086914,0.7252856492996216,0.7285577654838562,0.7338566780090332],\"y\":[0.6707071428571426,0.6965019467517962,0.7221976091235016,0.7581195714285717,0.7806333571428569,0.7831610602888087,0.7899210714285714,0.7941892142857141,0.8001021166450818],\"type\":\"scatter\"},{\"mode\":\"markers+lines\",\"showlegend\":false,\"x\":[0.6902993321418762,0.7081230282783508,0.730003833770752,0.7522381544113159,0.7600226998329163,0.7659740447998047,0.7669549584388733,0.7698073387145996,0.7745080590248108],\"y\":[0.7230200023764647,0.748095642857143,0.7736023571428571,0.8052248571428571,0.8305942142857141,0.8342457163322119,0.841935285714286,0.8479590804172439,0.8555320000000002],\"type\":\"scatter\"},{\"mode\":\"markers+lines\",\"showlegend\":false,\"x\":[0.6299889087677002,0.6510722637176514,0.6667937636375427,0.6902238130569458,0.7034761905670166,0.7065987586975098,0.711225152015686,0.7146357297897339,0.7201408743858337],\"y\":[0.6537462142857144,0.6811430184223082,0.7096841032832246,0.7481253571428569,0.769191214285714,0.7771876428571426,0.7816843571428572,0.7892458571428571,0.7940245714285713],\"type\":\"scatter\"},{\"mode\":\"markers+lines\",\"showlegend\":false,\"x\":[0.6416491270065308,0.6619181632995605,0.6775847673416138,0.7009089589118958,0.7133030891418457,0.7169114351272583,0.7208653688430786,0.724089503288269,0.7293713092803955],\"y\":[0.6650225636464047,0.6924280714285713,0.7210271557850726,0.7537217857142855,0.775696857142857,0.785933566807729,0.7916153715931051,0.8005937857142855,0.8047425714285714],\"type\":\"scatter\"},{\"mode\":\"markers+lines\",\"showlegend\":false,\"x\":[0.6232885122299194,0.645258903503418,0.6595556735992432,0.6841739416122437,0.6982487440109253,0.7009852528572083,0.7060483694076538,0.7094026803970337,0.714977502822876],\"y\":[0.6517232691134281,0.6769546614827042,0.7063887907353803,0.7403915714285715,0.7672365932035835,0.7715467538020492,0.7789007142857142,0.7814503364796004,0.7900979285714287],\"type\":\"scatter\"},{\"mode\":\"markers+lines\",\"showlegend\":false,\"x\":[0.7777969837188721,0.7909680604934692,0.8145315647125244,0.8380749225616455,0.837000846862793,0.8448888063430786,0.8440990447998047,0.8447016477584839,0.8472832441329956],\"y\":[0.8085857413486466,0.834712327913863,0.8563052857142855,0.8908165714285714,0.9128417857142855,0.9155477857142859,0.9214308571428573,0.9298022628351332,0.9330029999999999],\"type\":\"scatter\"},{\"mode\":\"markers+lines\",\"showlegend\":false,\"x\":[0.5498159527778625,0.5569377541542053,0.578166663646698,0.6135022640228271,0.635921835899353,0.6446918845176697,0.6507399082183838,0.6531448364257812,0.6619828939437866],\"y\":[0.5175419729290779,0.5475534530039775,0.578204680775473,0.6185872142857143,0.6500687966463454,0.6580897857142857,0.6612297857142855,0.668378,0.6736736428571432],\"type\":\"scatter\"},{\"mode\":\"markers+lines\",\"showlegend\":false,\"x\":[0.4257383942604065,0.43972378969192505,0.46271729469299316,0.4998195767402649,0.5006250739097595,0.5298176407814026,0.5212211608886719,0.5364446043968201,0.5408716201782227],\"y\":[0.4373401581084621,0.4587238571428571,0.49278810029194164,0.5442915832412846,0.5735144285714284,0.5804598571428572,0.5930997776678754,0.5951865,0.5995235714285714],\"type\":\"scatter\"},{\"mode\":\"markers+lines\",\"showlegend\":false,\"x\":[0.5670514106750488,0.5821187496185303,0.6010924577713013,0.624403715133667,0.6418157815933228,0.6464487314224243,0.6533427238464355,0.6577931642532349,0.6653789281845093],\"y\":[0.5708055260679763,0.5917715131062447,0.6109965850244521,0.6349350231221683,0.6504625714285714,0.657334487182551,0.6625224285714287,0.6699131040737957,0.6754000714285715],\"type\":\"scatter\"},{\"mode\":\"markers+lines\",\"showlegend\":false,\"x\":[0.5698186159133911,0.587384819984436,0.6083903312683105,0.631682276725769,0.6480962038040161,0.6520266532897949,0.6587885618209839,0.663887619972229,0.6706193685531616],\"y\":[0.5842575704203508,0.6103385,0.6336731433693185,0.6594637281469812,0.6783591428571428,0.6822460714285715,0.6864975714285713,0.6940937240065969,0.6998012857142858],\"type\":\"scatter\"},{\"mode\":\"markers+lines\",\"showlegend\":false,\"x\":[0.6575253009796143,0.6742337942123413,0.6970086097717285,0.7184522151947021,0.7303920984268188,0.735725998878479,0.7384469509124756,0.7417314052581787,0.7465196847915649],\"y\":[0.687096068215849,0.7078408190361527,0.7389395714285715,0.7676997397559276,0.7919497142857145,0.8000855226009767,0.806321857142857,0.811962602456986,0.817849285714286],\"type\":\"scatter\"},{\"mode\":\"markers+lines\",\"showlegend\":false,\"x\":[0.6580052375793457,0.6756112575531006,0.6963906288146973,0.7189429998397827,0.7308489084243774,0.7359702587127686,0.7387512922286987,0.7419376373291016,0.7466086149215698],\"y\":[0.6867105883240306,0.7050298640781294,0.7333793571428571,0.771647857142857,0.7878842857142858,0.7943797347986046,0.8016706428571426,0.806004252767187,0.813134857142857],\"type\":\"scatter\"},{\"mode\":\"markers+lines\",\"showlegend\":false,\"x\":[0.6393957138061523,0.6563577651977539,0.6796863675117493,0.7010550498962402,0.7145648002624512,0.7193715572357178,0.7229653000831604,0.7265629768371582,0.7314740419387817],\"y\":[0.6759702549857871,0.7045324813392891,0.7307202246393387,0.7687421503271271,0.7875689961382742,0.7955832142857143,0.8025580714285715,0.809216357142857,0.8177683571428572],\"type\":\"scatter\"},{\"mode\":\"markers+lines\",\"showlegend\":false,\"x\":[0.6433737874031067,0.662223219871521,0.6821705102920532,0.7052228450775146,0.718566358089447,0.7232729196548462,0.726789116859436,0.7301119565963745,0.734774112701416],\"y\":[0.6689261700132965,0.6894958341144761,0.7192560652982639,0.7576438571428571,0.776308475748021,0.7849769285714286,0.7907783677924353,0.7923793571428571,0.8037332522940114],\"type\":\"scatter\"},{\"mode\":\"markers+lines\",\"showlegend\":false,\"x\":[0.6488138437271118,0.6684191226959229,0.688044548034668,0.711445689201355,0.7243884801864624,0.7293792963027954,0.7326265573501587,0.7358574867248535,0.7403151988983154],\"y\":[0.682707495300209,0.7077243916241189,0.7360142142857141,0.7705554999999998,0.788979642857143,0.7971259285714284,0.8030064943573944,0.8113504285714284,0.8164057142857141],\"type\":\"scatter\"},{\"mode\":\"markers+lines\",\"showlegend\":false,\"x\":[0.6553237438201904,0.6708786487579346,0.6948320865631104,0.7163933515548706,0.7290384769439697,0.73451828956604,0.7373231649398804,0.7406415939331055,0.7450684309005737],\"y\":[0.6872878812660228,0.7147787223610349,0.742338597894047,0.774280432290442,0.7924599999999999,0.7990215714285712,0.8055879384696762,0.8149302142857141,0.8218094812642123],\"type\":\"scatter\"},{\"mode\":\"markers+lines\",\"showlegend\":false,\"x\":[0.6342878341674805,0.6537030339241028,0.6735703349113464,0.6970189809799194,0.7111454010009766,0.7155704498291016,0.7195878028869629,0.7230067253112793,0.7275491952896118],\"y\":[0.6665870378044265,0.6898130714285716,0.7193606720083319,0.7555474407671233,0.7756535714285714,0.7823904085976183,0.7849610014750027,0.7918317142857144,0.8005646887499613],\"type\":\"scatter\"},{\"mode\":\"markers+lines\",\"showlegend\":false,\"x\":[0.6527203321456909,0.6713401079177856,0.6922067403793335,0.715564489364624,0.7284759283065796,0.7337440252304077,0.7367698550224304,0.7399576902389526,0.7440752983093262],\"y\":[0.6805380299094066,0.7048607911594053,0.7318053004767533,0.7690687395656407,0.7918892142857145,0.794658069618981,0.8018774285714285,0.8063545000000002,0.8138459021040902],\"type\":\"scatter\"},{\"mode\":\"markers+lines\",\"showlegend\":false,\"x\":[0.6588029861450195,0.6725326776504517,0.6992385387420654,0.7202826142311096,0.7330701351165771,0.7390773892402649,0.7415437698364258,0.7449589967727661,0.7491104602813721],\"y\":[0.6883523638541814,0.7102665066402618,0.7420055954703094,0.7733454285714286,0.7970665714285714,0.806124,0.8115752142857146,0.817537,0.8251182142857141],\"type\":\"scatter\"},{\"mode\":\"markers+lines\",\"showlegend\":false,\"x\":[0.6428800821304321,0.6593488454818726,0.6836596727371216,0.7057375907897949,0.7197780609130859,0.7252107262611389,0.7284913063049316,0.7320413589477539,0.7362440824508667],\"y\":[0.67153193413432,0.6944443370556219,0.723332409992324,0.753943857142857,0.7814744177745832,0.78602,0.7910801500115991,0.7975084999999998,0.8042177142857143],\"type\":\"scatter\"}],                        {\"template\":{\"data\":{\"barpolar\":[{\"marker\":{\"line\":{\"color\":\"white\",\"width\":0.5},\"pattern\":{\"fillmode\":\"overlay\",\"size\":10,\"solidity\":0.2}},\"type\":\"barpolar\"}],\"bar\":[{\"error_x\":{\"color\":\"rgb(36,36,36)\"},\"error_y\":{\"color\":\"rgb(36,36,36)\"},\"marker\":{\"line\":{\"color\":\"white\",\"width\":0.5},\"pattern\":{\"fillmode\":\"overlay\",\"size\":10,\"solidity\":0.2}},\"type\":\"bar\"}],\"carpet\":[{\"aaxis\":{\"endlinecolor\":\"rgb(36,36,36)\",\"gridcolor\":\"white\",\"linecolor\":\"white\",\"minorgridcolor\":\"white\",\"startlinecolor\":\"rgb(36,36,36)\"},\"baxis\":{\"endlinecolor\":\"rgb(36,36,36)\",\"gridcolor\":\"white\",\"linecolor\":\"white\",\"minorgridcolor\":\"white\",\"startlinecolor\":\"rgb(36,36,36)\"},\"type\":\"carpet\"}],\"choropleth\":[{\"colorbar\":{\"outlinewidth\":1,\"tickcolor\":\"rgb(36,36,36)\",\"ticks\":\"outside\"},\"type\":\"choropleth\"}],\"contourcarpet\":[{\"colorbar\":{\"outlinewidth\":1,\"tickcolor\":\"rgb(36,36,36)\",\"ticks\":\"outside\"},\"type\":\"contourcarpet\"}],\"contour\":[{\"colorbar\":{\"outlinewidth\":1,\"tickcolor\":\"rgb(36,36,36)\",\"ticks\":\"outside\"},\"colorscale\":[[0.0,\"#440154\"],[0.1111111111111111,\"#482878\"],[0.2222222222222222,\"#3e4989\"],[0.3333333333333333,\"#31688e\"],[0.4444444444444444,\"#26828e\"],[0.5555555555555556,\"#1f9e89\"],[0.6666666666666666,\"#35b779\"],[0.7777777777777778,\"#6ece58\"],[0.8888888888888888,\"#b5de2b\"],[1.0,\"#fde725\"]],\"type\":\"contour\"}],\"heatmapgl\":[{\"colorbar\":{\"outlinewidth\":1,\"tickcolor\":\"rgb(36,36,36)\",\"ticks\":\"outside\"},\"colorscale\":[[0.0,\"#440154\"],[0.1111111111111111,\"#482878\"],[0.2222222222222222,\"#3e4989\"],[0.3333333333333333,\"#31688e\"],[0.4444444444444444,\"#26828e\"],[0.5555555555555556,\"#1f9e89\"],[0.6666666666666666,\"#35b779\"],[0.7777777777777778,\"#6ece58\"],[0.8888888888888888,\"#b5de2b\"],[1.0,\"#fde725\"]],\"type\":\"heatmapgl\"}],\"heatmap\":[{\"colorbar\":{\"outlinewidth\":1,\"tickcolor\":\"rgb(36,36,36)\",\"ticks\":\"outside\"},\"colorscale\":[[0.0,\"#440154\"],[0.1111111111111111,\"#482878\"],[0.2222222222222222,\"#3e4989\"],[0.3333333333333333,\"#31688e\"],[0.4444444444444444,\"#26828e\"],[0.5555555555555556,\"#1f9e89\"],[0.6666666666666666,\"#35b779\"],[0.7777777777777778,\"#6ece58\"],[0.8888888888888888,\"#b5de2b\"],[1.0,\"#fde725\"]],\"type\":\"heatmap\"}],\"histogram2dcontour\":[{\"colorbar\":{\"outlinewidth\":1,\"tickcolor\":\"rgb(36,36,36)\",\"ticks\":\"outside\"},\"colorscale\":[[0.0,\"#440154\"],[0.1111111111111111,\"#482878\"],[0.2222222222222222,\"#3e4989\"],[0.3333333333333333,\"#31688e\"],[0.4444444444444444,\"#26828e\"],[0.5555555555555556,\"#1f9e89\"],[0.6666666666666666,\"#35b779\"],[0.7777777777777778,\"#6ece58\"],[0.8888888888888888,\"#b5de2b\"],[1.0,\"#fde725\"]],\"type\":\"histogram2dcontour\"}],\"histogram2d\":[{\"colorbar\":{\"outlinewidth\":1,\"tickcolor\":\"rgb(36,36,36)\",\"ticks\":\"outside\"},\"colorscale\":[[0.0,\"#440154\"],[0.1111111111111111,\"#482878\"],[0.2222222222222222,\"#3e4989\"],[0.3333333333333333,\"#31688e\"],[0.4444444444444444,\"#26828e\"],[0.5555555555555556,\"#1f9e89\"],[0.6666666666666666,\"#35b779\"],[0.7777777777777778,\"#6ece58\"],[0.8888888888888888,\"#b5de2b\"],[1.0,\"#fde725\"]],\"type\":\"histogram2d\"}],\"histogram\":[{\"marker\":{\"line\":{\"color\":\"white\",\"width\":0.6}},\"type\":\"histogram\"}],\"mesh3d\":[{\"colorbar\":{\"outlinewidth\":1,\"tickcolor\":\"rgb(36,36,36)\",\"ticks\":\"outside\"},\"type\":\"mesh3d\"}],\"parcoords\":[{\"line\":{\"colorbar\":{\"outlinewidth\":1,\"tickcolor\":\"rgb(36,36,36)\",\"ticks\":\"outside\"}},\"type\":\"parcoords\"}],\"pie\":[{\"automargin\":true,\"type\":\"pie\"}],\"scatter3d\":[{\"line\":{\"colorbar\":{\"outlinewidth\":1,\"tickcolor\":\"rgb(36,36,36)\",\"ticks\":\"outside\"}},\"marker\":{\"colorbar\":{\"outlinewidth\":1,\"tickcolor\":\"rgb(36,36,36)\",\"ticks\":\"outside\"}},\"type\":\"scatter3d\"}],\"scattercarpet\":[{\"marker\":{\"colorbar\":{\"outlinewidth\":1,\"tickcolor\":\"rgb(36,36,36)\",\"ticks\":\"outside\"}},\"type\":\"scattercarpet\"}],\"scattergeo\":[{\"marker\":{\"colorbar\":{\"outlinewidth\":1,\"tickcolor\":\"rgb(36,36,36)\",\"ticks\":\"outside\"}},\"type\":\"scattergeo\"}],\"scattergl\":[{\"marker\":{\"colorbar\":{\"outlinewidth\":1,\"tickcolor\":\"rgb(36,36,36)\",\"ticks\":\"outside\"}},\"type\":\"scattergl\"}],\"scattermapbox\":[{\"marker\":{\"colorbar\":{\"outlinewidth\":1,\"tickcolor\":\"rgb(36,36,36)\",\"ticks\":\"outside\"}},\"type\":\"scattermapbox\"}],\"scatterpolargl\":[{\"marker\":{\"colorbar\":{\"outlinewidth\":1,\"tickcolor\":\"rgb(36,36,36)\",\"ticks\":\"outside\"}},\"type\":\"scatterpolargl\"}],\"scatterpolar\":[{\"marker\":{\"colorbar\":{\"outlinewidth\":1,\"tickcolor\":\"rgb(36,36,36)\",\"ticks\":\"outside\"}},\"type\":\"scatterpolar\"}],\"scatter\":[{\"fillpattern\":{\"fillmode\":\"overlay\",\"size\":10,\"solidity\":0.2},\"type\":\"scatter\"}],\"scatterternary\":[{\"marker\":{\"colorbar\":{\"outlinewidth\":1,\"tickcolor\":\"rgb(36,36,36)\",\"ticks\":\"outside\"}},\"type\":\"scatterternary\"}],\"surface\":[{\"colorbar\":{\"outlinewidth\":1,\"tickcolor\":\"rgb(36,36,36)\",\"ticks\":\"outside\"},\"colorscale\":[[0.0,\"#440154\"],[0.1111111111111111,\"#482878\"],[0.2222222222222222,\"#3e4989\"],[0.3333333333333333,\"#31688e\"],[0.4444444444444444,\"#26828e\"],[0.5555555555555556,\"#1f9e89\"],[0.6666666666666666,\"#35b779\"],[0.7777777777777778,\"#6ece58\"],[0.8888888888888888,\"#b5de2b\"],[1.0,\"#fde725\"]],\"type\":\"surface\"}],\"table\":[{\"cells\":{\"fill\":{\"color\":\"rgb(237,237,237)\"},\"line\":{\"color\":\"white\"}},\"header\":{\"fill\":{\"color\":\"rgb(217,217,217)\"},\"line\":{\"color\":\"white\"}},\"type\":\"table\"}]},\"layout\":{\"annotationdefaults\":{\"arrowhead\":0,\"arrowwidth\":1},\"autotypenumbers\":\"strict\",\"coloraxis\":{\"colorbar\":{\"outlinewidth\":1,\"tickcolor\":\"rgb(36,36,36)\",\"ticks\":\"outside\"}},\"colorscale\":{\"diverging\":[[0.0,\"rgb(103,0,31)\"],[0.1,\"rgb(178,24,43)\"],[0.2,\"rgb(214,96,77)\"],[0.3,\"rgb(244,165,130)\"],[0.4,\"rgb(253,219,199)\"],[0.5,\"rgb(247,247,247)\"],[0.6,\"rgb(209,229,240)\"],[0.7,\"rgb(146,197,222)\"],[0.8,\"rgb(67,147,195)\"],[0.9,\"rgb(33,102,172)\"],[1.0,\"rgb(5,48,97)\"]],\"sequential\":[[0.0,\"#440154\"],[0.1111111111111111,\"#482878\"],[0.2222222222222222,\"#3e4989\"],[0.3333333333333333,\"#31688e\"],[0.4444444444444444,\"#26828e\"],[0.5555555555555556,\"#1f9e89\"],[0.6666666666666666,\"#35b779\"],[0.7777777777777778,\"#6ece58\"],[0.8888888888888888,\"#b5de2b\"],[1.0,\"#fde725\"]],\"sequentialminus\":[[0.0,\"#440154\"],[0.1111111111111111,\"#482878\"],[0.2222222222222222,\"#3e4989\"],[0.3333333333333333,\"#31688e\"],[0.4444444444444444,\"#26828e\"],[0.5555555555555556,\"#1f9e89\"],[0.6666666666666666,\"#35b779\"],[0.7777777777777778,\"#6ece58\"],[0.8888888888888888,\"#b5de2b\"],[1.0,\"#fde725\"]]},\"colorway\":[\"#1F77B4\",\"#FF7F0E\",\"#2CA02C\",\"#D62728\",\"#9467BD\",\"#8C564B\",\"#E377C2\",\"#7F7F7F\",\"#BCBD22\",\"#17BECF\"],\"font\":{\"color\":\"rgb(36,36,36)\"},\"geo\":{\"bgcolor\":\"white\",\"lakecolor\":\"white\",\"landcolor\":\"white\",\"showlakes\":true,\"showland\":true,\"subunitcolor\":\"white\"},\"hoverlabel\":{\"align\":\"left\"},\"hovermode\":\"closest\",\"mapbox\":{\"style\":\"light\"},\"paper_bgcolor\":\"white\",\"plot_bgcolor\":\"white\",\"polar\":{\"angularaxis\":{\"gridcolor\":\"rgb(232,232,232)\",\"linecolor\":\"rgb(36,36,36)\",\"showgrid\":false,\"showline\":true,\"ticks\":\"outside\"},\"bgcolor\":\"white\",\"radialaxis\":{\"gridcolor\":\"rgb(232,232,232)\",\"linecolor\":\"rgb(36,36,36)\",\"showgrid\":false,\"showline\":true,\"ticks\":\"outside\"}},\"scene\":{\"xaxis\":{\"backgroundcolor\":\"white\",\"gridcolor\":\"rgb(232,232,232)\",\"gridwidth\":2,\"linecolor\":\"rgb(36,36,36)\",\"showbackground\":true,\"showgrid\":false,\"showline\":true,\"ticks\":\"outside\",\"zeroline\":false,\"zerolinecolor\":\"rgb(36,36,36)\"},\"yaxis\":{\"backgroundcolor\":\"white\",\"gridcolor\":\"rgb(232,232,232)\",\"gridwidth\":2,\"linecolor\":\"rgb(36,36,36)\",\"showbackground\":true,\"showgrid\":false,\"showline\":true,\"ticks\":\"outside\",\"zeroline\":false,\"zerolinecolor\":\"rgb(36,36,36)\"},\"zaxis\":{\"backgroundcolor\":\"white\",\"gridcolor\":\"rgb(232,232,232)\",\"gridwidth\":2,\"linecolor\":\"rgb(36,36,36)\",\"showbackground\":true,\"showgrid\":false,\"showline\":true,\"ticks\":\"outside\",\"zeroline\":false,\"zerolinecolor\":\"rgb(36,36,36)\"}},\"shapedefaults\":{\"fillcolor\":\"black\",\"line\":{\"width\":0},\"opacity\":0.3},\"ternary\":{\"aaxis\":{\"gridcolor\":\"rgb(232,232,232)\",\"linecolor\":\"rgb(36,36,36)\",\"showgrid\":false,\"showline\":true,\"ticks\":\"outside\"},\"baxis\":{\"gridcolor\":\"rgb(232,232,232)\",\"linecolor\":\"rgb(36,36,36)\",\"showgrid\":false,\"showline\":true,\"ticks\":\"outside\"},\"bgcolor\":\"white\",\"caxis\":{\"gridcolor\":\"rgb(232,232,232)\",\"linecolor\":\"rgb(36,36,36)\",\"showgrid\":false,\"showline\":true,\"ticks\":\"outside\"}},\"title\":{\"x\":0.05},\"xaxis\":{\"automargin\":true,\"gridcolor\":\"rgb(232,232,232)\",\"linecolor\":\"rgb(36,36,36)\",\"showgrid\":false,\"showline\":true,\"ticks\":\"outside\",\"title\":{\"standoff\":15},\"zeroline\":false,\"zerolinecolor\":\"rgb(36,36,36)\"},\"yaxis\":{\"automargin\":true,\"gridcolor\":\"rgb(232,232,232)\",\"linecolor\":\"rgb(36,36,36)\",\"showgrid\":false,\"showline\":true,\"ticks\":\"outside\",\"title\":{\"standoff\":15},\"zeroline\":false,\"zerolinecolor\":\"rgb(36,36,36)\"}}},\"yaxis\":{\"title\":{\"text\":\"Normalized Temperature Target\"}},\"xaxis\":{\"title\":{\"text\":\"Normalized Temperature Prediction\"}},\"height\":500},                        {\"responsive\": true}                    ).then(function(){\n",
       "                            \n",
       "var gd = document.getElementById('4620b7df-4142-4071-b9e3-0baa902cb9e6');\n",
       "var x = new MutationObserver(function (mutations, observer) {{\n",
       "        var display = window.getComputedStyle(gd).display;\n",
       "        if (!display || display === 'none') {{\n",
       "            console.log([gd, 'removed!']);\n",
       "            Plotly.purge(gd);\n",
       "            observer.disconnect();\n",
       "        }}\n",
       "}});\n",
       "\n",
       "// Listen for the removal of the full notebook cells\n",
       "var notebookContainer = gd.closest('#notebook-container');\n",
       "if (notebookContainer) {{\n",
       "    x.observe(notebookContainer, {childList: true});\n",
       "}}\n",
       "\n",
       "// Listen for the clearing of the current output cell\n",
       "var outputEl = gd.closest('.output');\n",
       "if (outputEl) {{\n",
       "    x.observe(outputEl, {childList: true});\n",
       "}}\n",
       "\n",
       "                        })                };                });            </script>        </div>"
      ]
     },
     "metadata": {},
     "output_type": "display_data"
    }
   ],
   "source": [
    "skip = 20\n",
    "\n",
    "fig = go.Figure()\n",
    "fig.add_trace(go.Scatter(x=[0, 1], y=[0, 1], showlegend=False, mode=\"markers+lines\"))\n",
    "for i in range(0, len(datasets[\"X_test\"]), batch_size * skip):\n",
    "    df_pred = pd.DataFrame(model.predict(datasets[\"X_test\"][i : i + batch_size], verbose=0)[:, :, 0])\n",
    "    df_train = pd.DataFrame(datasets[\"y_test\"][i : i + batch_size][:, :, 0])\n",
    "    fig.add_trace(\n",
    "        go.Scatter(\n",
    "            x=df_pred.values[0],\n",
    "            y=df_train.values[0],\n",
    "            showlegend=False,\n",
    "            mode=\"markers+lines\",\n",
    "        )\n",
    "    )\n",
    "\n",
    "fig.update_yaxes(title=\"Normalized Temperature Target\")\n",
    "fig.update_xaxes(title=\"Normalized Temperature Prediction\")\n",
    "fig.update_layout(template=\"simple_white\")\n",
    "fig.update_layout(height=500)"
   ]
  },
  {
   "cell_type": "code",
   "execution_count": 26,
   "id": "38f2bba0",
   "metadata": {},
   "outputs": [
    {
     "data": {
      "application/vnd.plotly.v1+json": {
       "config": {
        "plotlyServerURL": "https://plot.ly"
       },
       "data": [
        {
         "mode": "markers+lines",
         "showlegend": false,
         "type": "scatter",
         "x": [
          0,
          1
         ],
         "y": [
          0,
          1
         ]
        },
        {
         "mode": "markers+lines",
         "showlegend": false,
         "type": "scatter",
         "x": [
          0.6848635673522949,
          0.661442756652832,
          0.6118226647377014,
          0.5141547918319702,
          0.3913608193397522,
          0.3485977351665497,
          0.30225318670272827,
          0.24551045894622803,
          0.18091151118278503
         ],
         "y": [
          0.6829585481989047,
          0.660126871915549,
          0.6243825203830243,
          0.5479757049799164,
          0.4560228411172442,
          0.42605231806900784,
          0.3884413997845875,
          0.33883710221863184,
          0.26123274567220944
         ]
        },
        {
         "mode": "markers+lines",
         "showlegend": false,
         "type": "scatter",
         "x": [
          0.6845946907997131,
          0.65848708152771,
          0.6091402769088745,
          0.5091001987457275,
          0.38631248474121094,
          0.34038323163986206,
          0.2930937111377716,
          0.2379273772239685,
          0.17579007148742676
         ],
         "y": [
          0.6832316118498916,
          0.6611845609631645,
          0.6254337618227261,
          0.5466454688546745,
          0.4526174102249374,
          0.42252368522045297,
          0.38512557346322185,
          0.336943908098254,
          0.26446284700799677
         ]
        },
        {
         "mode": "markers+lines",
         "showlegend": false,
         "type": "scatter",
         "x": [
          0.6859625577926636,
          0.659039318561554,
          0.6099861860275269,
          0.5094745755195618,
          0.38650277256965637,
          0.3381243646144867,
          0.29130440950393677,
          0.23713894188404083,
          0.1761118471622467
         ],
         "y": [
          0.6823578774683821,
          0.6600407241425882,
          0.6238348449630323,
          0.543349558203669,
          0.4483296647886087,
          0.418257544073942,
          0.38078475944978696,
          0.33126939838571107,
          0.25703976812570006
         ]
        },
        {
         "mode": "markers+lines",
         "showlegend": false,
         "type": "scatter",
         "x": [
          0.6833159923553467,
          0.6641354560852051,
          0.6127947568893433,
          0.5155065655708313,
          0.3946932852268219,
          0.35342854261398315,
          0.3070293664932251,
          0.24881568551063538,
          0.18220221996307373
         ],
         "y": [
          0.6856090685668169,
          0.663384914735372,
          0.6271654488175513,
          0.5462103113795337,
          0.4519789721258096,
          0.42181979463473857,
          0.38444391694728447,
          0.3351103391298358,
          0.2593481090767833
         ]
        },
        {
         "mode": "markers+lines",
         "showlegend": false,
         "type": "scatter",
         "x": [
          0.6837959289550781,
          0.6581763029098511,
          0.6088707447052002,
          0.5079386234283447,
          0.3849692940711975,
          0.3380245864391327,
          0.29079246520996094,
          0.23632147908210754,
          0.1750062108039856
         ],
         "y": [
          0.6813773694247586,
          0.6580274596222699,
          0.6196457712338551,
          0.5348253009221052,
          0.4378628879040007,
          0.40725390894293323,
          0.3688500480015006,
          0.3187406828284174,
          0.24153186823522585
         ]
        },
        {
         "mode": "markers+lines",
         "showlegend": false,
         "type": "scatter",
         "x": [
          0.6856778860092163,
          0.6588740348815918,
          0.6103229522705078,
          0.5093926191329956,
          0.38679996132850647,
          0.3398434519767761,
          0.29318422079086304,
          0.23843075335025787,
          0.17671158909797668
         ],
         "y": [
          0.6811544581203216,
          0.6576725507242884,
          0.6186628160115768,
          0.5326819838713347,
          0.4353687479897019,
          0.4051688488256984,
          0.36743473161333884,
          0.31674236205620865,
          0.24079269892976504
         ]
        },
        {
         "mode": "markers+lines",
         "showlegend": false,
         "type": "scatter",
         "x": [
          0.6855717897415161,
          0.6577363014221191,
          0.6090729832649231,
          0.5070217251777649,
          0.38476067781448364,
          0.3372192084789276,
          0.2904123067855835,
          0.23628497123718262,
          0.17548181116580963
         ],
         "y": [
          0.6796422976590514,
          0.6556969371173829,
          0.6155181179650682,
          0.5276392429632567,
          0.4296426063782535,
          0.39886991581078995,
          0.3607529391927904,
          0.3099159743825776,
          0.2327635371857721
         ]
        },
        {
         "mode": "markers+lines",
         "showlegend": false,
         "type": "scatter",
         "x": [
          0.6848362684249878,
          0.6569761037826538,
          0.6082213521003723,
          0.5052070617675781,
          0.38298195600509644,
          0.3349621295928955,
          0.28802236914634705,
          0.23443502187728882,
          0.1744537353515625
         ],
         "y": [
          0.6785568378651831,
          0.653883336017541,
          0.6126887447694179,
          0.5220849962948068,
          0.42185932715177854,
          0.39047601851687175,
          0.3510818238959383,
          0.29801892292547255,
          0.2169513897606327
         ]
        },
        {
         "mode": "markers+lines",
         "showlegend": false,
         "type": "scatter",
         "x": [
          0.6848828792572021,
          0.6568721532821655,
          0.6085084676742554,
          0.5058035850524902,
          0.3837890028953552,
          0.3368290364742279,
          0.28985437750816345,
          0.235637828707695,
          0.17488592863082886
         ],
         "y": [
          0.6787862861390189,
          0.6540219350695854,
          0.612685851392202,
          0.521617227842941,
          0.4224038340352969,
          0.3915868264872306,
          0.3530031821854069,
          0.3014895468194228,
          0.22397444939139635
         ]
        },
        {
         "mode": "markers+lines",
         "showlegend": false,
         "type": "scatter",
         "x": [
          0.6834574937820435,
          0.6570873260498047,
          0.6084856986999512,
          0.505693256855011,
          0.38350361585617065,
          0.33659109473228455,
          0.2896140515804291,
          0.23544704914093018,
          0.17469774186611176
         ],
         "y": [
          0.6786517491172204,
          0.6535081800238683,
          0.6112276047822225,
          0.5183070786493063,
          0.416668518468775,
          0.384553985325081,
          0.34431749449414745,
          0.2901107844833304,
          0.20674195740790446
         ]
        },
        {
         "mode": "markers+lines",
         "showlegend": false,
         "type": "scatter",
         "x": [
          0.683303952217102,
          0.6588879823684692,
          0.6100530624389648,
          0.5090512037277222,
          0.3864780366420746,
          0.34451743960380554,
          0.2975226938724518,
          0.24098221957683563,
          0.17709913849830627
         ],
         "y": [
          0.6808764234641871,
          0.6560122155740222,
          0.6140668661383738,
          0.5212518324256613,
          0.4197282422579085,
          0.3876637060398478,
          0.34721450945780363,
          0.29173884284882806,
          0.20600828243876879
         ]
        },
        {
         "mode": "markers+lines",
         "showlegend": false,
         "type": "scatter",
         "x": [
          0.6832731366157532,
          0.6596572399139404,
          0.6107960939407349,
          0.5099823474884033,
          0.38785645365715027,
          0.34601283073425293,
          0.2990609109401703,
          0.24213451147079468,
          0.17762885987758636
         ],
         "y": [
          0.6809553574250178,
          0.6561036296931448,
          0.6139552659237437,
          0.5215526884368402,
          0.4219113930119263,
          0.3905728407408639,
          0.35203359708635834,
          0.2995808315372504,
          0.2210899097502949
         ]
        },
        {
         "mode": "markers+lines",
         "showlegend": false,
         "type": "scatter",
         "x": [
          0.6832939982414246,
          0.6560286283493042,
          0.6075587272644043,
          0.5028924345970154,
          0.3808365762233734,
          0.3336085081100464,
          0.2865806221961975,
          0.23308634757995605,
          0.17335693538188934
         ],
         "y": [
          0.6766789623238062,
          0.6506452791623486,
          0.6066052505460187,
          0.510397594712923,
          0.4070488580022151,
          0.37469330690643377,
          0.3340683648364443,
          0.2785543914222567,
          0.19913897638743275
         ]
        },
        {
         "mode": "markers+lines",
         "showlegend": false,
         "type": "scatter",
         "x": [
          0.6836755275726318,
          0.6559438109397888,
          0.6077632904052734,
          0.5032227039337158,
          0.38108861446380615,
          0.3347465991973877,
          0.28756004571914673,
          0.23357631266117096,
          0.1732775866985321
         ],
         "y": [
          0.6770589137563982,
          0.6509724691447786,
          0.6064785192362001,
          0.5095268973830668,
          0.40564824895910045,
          0.3729670756098786,
          0.3316628925643115,
          0.2758319030882244,
          0.19632419611243493
         ]
        },
        {
         "mode": "markers+lines",
         "showlegend": false,
         "type": "scatter",
         "x": [
          0.6828567981719971,
          0.6568748950958252,
          0.6087092161178589,
          0.5057541728019714,
          0.3835431635379791,
          0.3405998647212982,
          0.29342710971832275,
          0.23770740628242493,
          0.17505720257759094
         ],
         "y": [
          0.678629179031169,
          0.6521584143767623,
          0.6077628847139697,
          0.5105345842637387,
          0.40363770186738496,
          0.37172024355700717,
          0.3294738870573425,
          0.27296273972498813,
          0.19233625775729893
         ]
        },
        {
         "mode": "markers+lines",
         "showlegend": false,
         "type": "scatter",
         "x": [
          0.6829962134361267,
          0.6544960737228394,
          0.6065226793289185,
          0.5003819465637207,
          0.3787301480770111,
          0.331903874874115,
          0.28472384810447693,
          0.23150327801704407,
          0.17236901819705963
         ],
         "y": [
          0.6754175012570024,
          0.6485485138620375,
          0.6024691417093344,
          0.5017582162300647,
          0.39413945613887597,
          0.3596481507600972,
          0.3153847451957057,
          0.255634688199533,
          0.17664659746131284
         ]
        },
        {
         "mode": "markers+lines",
         "showlegend": false,
         "type": "scatter",
         "x": [
          0.683002233505249,
          0.6547482013702393,
          0.6068023443222046,
          0.500584602355957,
          0.37890687584877014,
          0.33274221420288086,
          0.2855428159236908,
          0.23195041716098785,
          0.17235997319221497
         ],
         "y": [
          0.6753689835518155,
          0.648310668305307,
          0.6021057345733352,
          0.5016109640072443,
          0.39457659184637306,
          0.36023477537417176,
          0.3175407580009565,
          0.25888352578541135,
          0.1838779701736246
         ]
        },
        {
         "mode": "markers+lines",
         "showlegend": false,
         "type": "scatter",
         "x": [
          0.7008250951766968,
          0.6776763200759888,
          0.6267024278640747,
          0.5292158722877502,
          0.4120848774909973,
          0.37109634280204773,
          0.3271307051181793,
          0.26685306429862976,
          0.19959339499473572
         ],
         "y": [
          0.6872512932692884,
          0.6623500874829757,
          0.6193141428258707,
          0.5233657558657256,
          0.4200389232559922,
          0.3874151618900812,
          0.3450307227106493,
          0.28545956668882755,
          0.194440000214891
         ]
        },
        {
         "mode": "markers+lines",
         "showlegend": false,
         "type": "scatter",
         "x": [
          0.7018135786056519,
          0.6796002388000488,
          0.6282421350479126,
          0.5303637385368347,
          0.4130324125289917,
          0.37177252769470215,
          0.32801902294158936,
          0.2679896354675293,
          0.20083822309970856
         ],
         "y": [
          0.68725683368611,
          0.6624583715624928,
          0.6192674144542977,
          0.5238040827139708,
          0.42149909711689276,
          0.3896267251762533,
          0.34847127305152215,
          0.29081689541148864,
          0.20499665816072657
         ]
        },
        {
         "mode": "markers+lines",
         "showlegend": false,
         "type": "scatter",
         "x": [
          0.696759819984436,
          0.6720293760299683,
          0.619353175163269,
          0.5205163955688477,
          0.40531110763549805,
          0.36448389291763306,
          0.31926241517066956,
          0.258689820766449,
          0.19088143110275269
         ],
         "y": [
          0.6845333246860515,
          0.6590105707299018,
          0.6146489302411294,
          0.5173033140383371,
          0.4139359206347757,
          0.381295091529219,
          0.3394342435018096,
          0.28139195070949674,
          0.1994557143251832
         ]
        },
        {
         "mode": "markers+lines",
         "showlegend": false,
         "type": "scatter",
         "x": [
          0.6925840377807617,
          0.6675362586975098,
          0.6158417463302612,
          0.5154645442962646,
          0.39964234828948975,
          0.35834091901779175,
          0.31235116720199585,
          0.2526196241378784,
          0.18501733243465424
         ],
         "y": [
          0.6819313127461423,
          0.6556451881287554,
          0.610091382706746,
          0.510347711868493,
          0.40453689748263233,
          0.37093046276381253,
          0.327442904629803,
          0.26766783252746573,
          0.18939840928586177
         ]
        },
        {
         "mode": "markers+lines",
         "showlegend": false,
         "type": "scatter",
         "x": [
          0.6973249316215515,
          0.6720404624938965,
          0.6194705963134766,
          0.5202136039733887,
          0.40515825152397156,
          0.36422836780548096,
          0.318893700838089,
          0.25827518105506897,
          0.1903075873851776
         ],
         "y": [
          0.6839884338055299,
          0.6577458017635545,
          0.6123100100569083,
          0.5119136336849468,
          0.40462589822279027,
          0.3701235374319994,
          0.32508696025476636,
          0.2619715444895197,
          0.17864272581196658
         ]
        },
        {
         "mode": "markers+lines",
         "showlegend": false,
         "type": "scatter",
         "x": [
          0.7012258768081665,
          0.6776698231697083,
          0.6257996559143066,
          0.5266491174697876,
          0.41057127714157104,
          0.36912935972213745,
          0.32486552000045776,
          0.2644011974334717,
          0.19736447930335999
         ],
         "y": [
          0.6862688530633115,
          0.6610000905714003,
          0.6174063409758153,
          0.5226013925485996,
          0.41792811757518783,
          0.3837783643286012,
          0.34571165550457167,
          0.2751975982800917,
          0.19194156019604652
         ]
        },
        {
         "mode": "markers+lines",
         "showlegend": false,
         "type": "scatter",
         "x": [
          0.6913381218910217,
          0.6640838384628296,
          0.6135294437408447,
          0.5113286972045898,
          0.395307719707489,
          0.35415977239608765,
          0.3074735403060913,
          0.24814701080322266,
          0.1806260645389557
         ],
         "y": [
          0.6801708567947179,
          0.6530155482040557,
          0.6054886387636438,
          0.5030614979883498,
          0.3934865283848946,
          0.3580109663177604,
          0.3117396826025956,
          0.2489104750523066,
          0.17373514430342163
         ]
        },
        {
         "mode": "markers+lines",
         "showlegend": false,
         "type": "scatter",
         "x": [
          0.6869409084320068,
          0.6463272571563721,
          0.5958991050720215,
          0.47963768243789673,
          0.3500610888004303,
          0.3027190566062927,
          0.25892505049705505,
          0.21642789244651794,
          0.17135420441627502
         ],
         "y": [
          0.65998561006045,
          0.6284960620572896,
          0.5743390398384488,
          0.4611074630275715,
          0.3408144814083872,
          0.30132489174069355,
          0.25778261861152924,
          0.21497002367718343,
          0.15892327393456082
         ]
        },
        {
         "mode": "markers+lines",
         "showlegend": false,
         "type": "scatter",
         "x": [
          0.6829160451889038,
          0.6548933982849121,
          0.6078295111656189,
          0.5008384585380554,
          0.3794442117214203,
          0.3374198079109192,
          0.28997498750686646,
          0.23449745774269104,
          0.1724337786436081
         ],
         "y": [
          0.6748510021280654,
          0.6465710043245406,
          0.5972157364882623,
          0.491575923528823,
          0.379230846179424,
          0.34309082636294747,
          0.29662859038188166,
          0.23933265200764187,
          0.16846757762131506
         ]
        },
        {
         "mode": "markers+lines",
         "showlegend": false,
         "type": "scatter",
         "x": [
          0.6821737289428711,
          0.6556119918823242,
          0.6083811521530151,
          0.5015851259231567,
          0.3813646137714386,
          0.3398975133895874,
          0.2924500107765198,
          0.2361907660961151,
          0.1730736345052719
         ],
         "y": [
          0.6739664624326652,
          0.6454150285981124,
          0.595245630368818,
          0.48805092982399445,
          0.3739268844904049,
          0.3367592690581169,
          0.28798108631554686,
          0.23006325713716697,
          0.16629584317715143
         ]
        },
        {
         "mode": "markers+lines",
         "showlegend": false,
         "type": "scatter",
         "x": [
          0.6807609796524048,
          0.6526540517807007,
          0.6031538248062134,
          0.4967831075191498,
          0.3753513991832733,
          0.33222395181655884,
          0.2846129238605499,
          0.23048266768455505,
          0.170384481549263
         ],
         "y": [
          0.6728759574117853,
          0.6439316235425638,
          0.5934349884771194,
          0.4853243722994986,
          0.36986646665966827,
          0.3319028543640042,
          0.28365284716560507,
          0.22825325858888595,
          0.16791021623257674
         ]
        },
        {
         "mode": "markers+lines",
         "showlegend": false,
         "type": "scatter",
         "x": [
          0.680831789970398,
          0.6521517634391785,
          0.6007300615310669,
          0.49473899602890015,
          0.37348219752311707,
          0.329351007938385,
          0.2818993926048279,
          0.22862905263900757,
          0.16968199610710144
         ],
         "y": [
          0.6707681898961863,
          0.6413002201078096,
          0.5896831575758509,
          0.4798518329990685,
          0.36223228508330746,
          0.324005617967612,
          0.27511363870813993,
          0.22185363507708927,
          0.16292505951646588
         ]
        },
        {
         "mode": "markers+lines",
         "showlegend": false,
         "type": "scatter",
         "x": [
          0.6810941696166992,
          0.6527611017227173,
          0.6032088994979858,
          0.49663785099983215,
          0.37539196014404297,
          0.33325305581092834,
          0.28553348779678345,
          0.2309296876192093,
          0.17023667693138123
         ],
         "y": [
          0.6726223664100194,
          0.6433717791365716,
          0.5921214821900003,
          0.4825125775292875,
          0.3655115534067161,
          0.32593888197393145,
          0.2766750544078663,
          0.22259593466455854,
          0.16157166727569294
         ]
        },
        {
         "mode": "markers+lines",
         "showlegend": false,
         "type": "scatter",
         "x": [
          0.6799649000167847,
          0.6519697904586792,
          0.6010080575942993,
          0.4948665499687195,
          0.37370139360427856,
          0.3310147225856781,
          0.28332990407943726,
          0.22937053442001343,
          0.16956935822963715
         ],
         "y": [
          0.6725850984228163,
          0.6435231045720414,
          0.5923096140345167,
          0.48301868774246093,
          0.3660975639441556,
          0.32674585636557507,
          0.27816093104774187,
          0.22438485982301273,
          0.1647658571966807
         ]
        },
        {
         "mode": "markers+lines",
         "showlegend": false,
         "type": "scatter",
         "x": [
          0.6808415651321411,
          0.6521075963973999,
          0.6010098457336426,
          0.49521350860595703,
          0.3745068907737732,
          0.33234116435050964,
          0.28469717502593994,
          0.23028670251369476,
          0.1699460744857788
         ],
         "y": [
          0.6727393334085048,
          0.6437174455376459,
          0.5927791488571796,
          0.4845732242338095,
          0.3696768152751904,
          0.3323420975063071,
          0.2847327314140322,
          0.23006079714524005,
          0.17301762603561818
         ]
        },
        {
         "mode": "markers+lines",
         "showlegend": false,
         "type": "scatter",
         "x": [
          0.6801948547363281,
          0.6516927480697632,
          0.6016218662261963,
          0.49497857689857483,
          0.3736862242221832,
          0.33231058716773987,
          0.28439193964004517,
          0.2298951894044876,
          0.16939638555049896
         ],
         "y": [
          0.6730469952005099,
          0.643984649897419,
          0.5930040394297981,
          0.48474326386050975,
          0.3699549349829976,
          0.33231381293391904,
          0.284140808602365,
          0.23043267470857445,
          0.17361077992420776
         ]
        },
        {
         "mode": "markers+lines",
         "showlegend": false,
         "type": "scatter",
         "x": [
          0.6788228750228882,
          0.6502883434295654,
          0.5972043871879578,
          0.4911912977695465,
          0.37031885981559753,
          0.3272162675857544,
          0.27948063611984253,
          0.2265528440475464,
          0.1683051586151123
         ],
         "y": [
          0.6742814149009043,
          0.6456545724708883,
          0.5971466273112486,
          0.4806340841094368,
          0.3647930665630047,
          0.32608172020579473,
          0.2779897768574868,
          0.2263264286324809,
          0.17054938081805837
         ]
        },
        {
         "mode": "markers+lines",
         "showlegend": false,
         "type": "scatter",
         "x": [
          0.6805915832519531,
          0.6512518525123596,
          0.5998355746269226,
          0.49352186918258667,
          0.37269243597984314,
          0.3315378427505493,
          0.28358009457588196,
          0.2291264832019806,
          0.1688474416732788
         ],
         "y": [
          0.6719739170855032,
          0.642642850132757,
          0.590851469359764,
          0.4814109738543984,
          0.3655198477212611,
          0.3265871008380922,
          0.2777054103419121,
          0.225858526698885,
          0.1707129512843649
         ]
        },
        {
         "mode": "markers+lines",
         "showlegend": false,
         "type": "scatter",
         "x": [
          0.6871980428695679,
          0.6607218980789185,
          0.6118373870849609,
          0.5055462121963501,
          0.3905702829360962,
          0.34870386123657227,
          0.3013816773891449,
          0.24258112907409668,
          0.17575746774673462
         ],
         "y": [
          0.6780795678224429,
          0.6497592487955302,
          0.5997796926808002,
          0.49315934757894575,
          0.38027658665290415,
          0.3433937740614557,
          0.2954221477315463,
          0.23597475137539792,
          0.17453332493322107
         ]
        },
        {
         "mode": "markers+lines",
         "showlegend": false,
         "type": "scatter",
         "x": [
          0.682905912399292,
          0.6548601388931274,
          0.6074149012565613,
          0.49834614992141724,
          0.38114646077156067,
          0.34005171060562134,
          0.29203879833221436,
          0.234964057803154,
          0.1706499457359314
         ],
         "y": [
          0.6752488155008215,
          0.6462619765247685,
          0.5952250358777612,
          0.4864139800816492,
          0.37042706687011867,
          0.3319454981807783,
          0.28199450004956,
          0.22588932858373403,
          0.16746400733127953
         ]
        },
        {
         "mode": "markers+lines",
         "showlegend": false,
         "type": "scatter",
         "x": [
          0.7014158964157104,
          0.6765867471694946,
          0.6236865520477295,
          0.5198638439178467,
          0.40699324011802673,
          0.36485594511032104,
          0.31943026185035706,
          0.2582327723503113,
          0.1905999332666397
         ],
         "y": [
          0.6826677954587062,
          0.6545118878061971,
          0.6056227961534476,
          0.5007723395459885,
          0.390166824536474,
          0.353866492172894,
          0.3056127303930547,
          0.24231522399553362,
          0.17293782204963232
         ]
        },
        {
         "mode": "markers+lines",
         "showlegend": false,
         "type": "scatter",
         "x": [
          0.679563581943512,
          0.6518669128417969,
          0.599494457244873,
          0.49313193559646606,
          0.373008668422699,
          0.33166930079460144,
          0.28376543521881104,
          0.2291131317615509,
          0.16845637559890747
         ],
         "y": [
          0.6727570261636971,
          0.6436298888791404,
          0.5925697876267806,
          0.4819965588475268,
          0.359665015173896,
          0.3182070737940451,
          0.26701512920413367,
          0.21781895691784833,
          0.15946587414862626
         ]
        },
        {
         "mode": "markers+lines",
         "showlegend": false,
         "type": "scatter",
         "x": [
          0.6789770126342773,
          0.6523226499557495,
          0.6015713810920715,
          0.49410480260849,
          0.3748599886894226,
          0.3336905837059021,
          0.28556662797927856,
          0.2301895022392273,
          0.16842980682849884
         ],
         "y": [
          0.673011108716323,
          0.6437338547670431,
          0.5915792051331809,
          0.48136655284684016,
          0.36436363581231457,
          0.3253536734094002,
          0.2758230181504474,
          0.22353421110290755,
          0.16700539592292332
         ]
        },
        {
         "mode": "markers+lines",
         "showlegend": false,
         "type": "scatter",
         "x": [
          0.6784545183181763,
          0.6509442329406738,
          0.5981584787368774,
          0.49159082770347595,
          0.3715377449989319,
          0.3305491507053375,
          0.2824280261993408,
          0.227944016456604,
          0.16758033633232117
         ],
         "y": [
          0.6717349037315088,
          0.6418473782952885,
          0.5889289459210716,
          0.4775647150736858,
          0.3580897551958964,
          0.3179321625065289,
          0.26792155164660525,
          0.2187454494738176,
          0.16288575024132085
         ]
        },
        {
         "mode": "markers+lines",
         "showlegend": false,
         "type": "scatter",
         "x": [
          0.6829327940940857,
          0.657217264175415,
          0.6093462705612183,
          0.5000330209732056,
          0.3848317265510559,
          0.34307658672332764,
          0.2951359748840332,
          0.23715630173683167,
          0.17132315039634705
         ],
         "y": [
          0.6759179280636153,
          0.6470263614143439,
          0.5958083465993619,
          0.488081913561749,
          0.37417982085624457,
          0.33696238054028127,
          0.2885588590759531,
          0.23334284544778988,
          0.17593626025748316
         ]
        },
        {
         "mode": "markers+lines",
         "showlegend": false,
         "type": "scatter",
         "x": [
          0.6761695146560669,
          0.6489378213882446,
          0.5932514667510986,
          0.4872462749481201,
          0.36689114570617676,
          0.32559430599212646,
          0.2775367796421051,
          0.22452309727668762,
          0.16622471809387207
         ],
         "y": [
          0.6696738376924459,
          0.6393249335519479,
          0.5859160142075122,
          0.47401859351249187,
          0.3549846982509586,
          0.31504407582559746,
          0.2676158588146424,
          0.22117847948099,
          0.16827036479636545
         ]
        },
        {
         "mode": "markers+lines",
         "showlegend": false,
         "type": "scatter",
         "x": [
          0.6776331067085266,
          0.6493633985519409,
          0.5946145057678223,
          0.4883887767791748,
          0.36874324083328247,
          0.32812854647636414,
          0.27985042333602905,
          0.2258380949497223,
          0.16632282733917236
         ],
         "y": [
          0.6702379425267293,
          0.6398925455522038,
          0.5864356928756486,
          0.4743397014266052,
          0.3533768727189777,
          0.3135367616117023,
          0.26359921967166894,
          0.21564470418594103,
          0.15966325366275502
         ]
        },
        {
         "mode": "markers+lines",
         "showlegend": false,
         "type": "scatter",
         "x": [
          0.6759988069534302,
          0.6477095484733582,
          0.591728687286377,
          0.48529303073883057,
          0.36474984884262085,
          0.3237495422363281,
          0.27551448345184326,
          0.2229810208082199,
          0.16550204157829285
         ],
         "y": [
          0.6701386418885954,
          0.6397814544762873,
          0.5861724951768585,
          0.4738695060649982,
          0.3532578202772998,
          0.31298266521152085,
          0.2641346351397616,
          0.2170746528506622,
          0.16243997153088316
         ]
        },
        {
         "mode": "markers+lines",
         "showlegend": false,
         "type": "scatter",
         "x": [
          0.7025343775749207,
          0.6762936115264893,
          0.6231076717376709,
          0.5168266296386719,
          0.40555205941200256,
          0.3630567193031311,
          0.31706735491752625,
          0.2556070387363434,
          0.18759848177433014
         ],
         "y": [
          0.6828233803013071,
          0.6551174287046735,
          0.6061388283043854,
          0.5029558940480376,
          0.39481003788338365,
          0.3596212157939475,
          0.31386638402958716,
          0.2533179241702824,
          0.1837111974896355
         ]
        },
        {
         "mode": "markers+lines",
         "showlegend": false,
         "type": "scatter",
         "x": [
          0.6762739419937134,
          0.6400519609451294,
          0.5902441143989563,
          0.4777703285217285,
          0.35382699966430664,
          0.31019121408462524,
          0.26316192746162415,
          0.213004469871521,
          0.16473275423049927
         ],
         "y": [
          0.6617964544363392,
          0.6293883449560368,
          0.5735055617112402,
          0.45809314752217467,
          0.33446715625358625,
          0.2939887289313275,
          0.25138767547314045,
          0.21390684104762475,
          0.16555629443269712
         ]
        },
        {
         "mode": "markers+lines",
         "showlegend": false,
         "type": "scatter",
         "x": [
          0.6688544154167175,
          0.6303218603134155,
          0.5781065225601196,
          0.45494723320007324,
          0.32129472494125366,
          0.2832913100719452,
          0.2484356313943863,
          0.21032527089118958,
          0.17453503608703613
         ],
         "y": [
          0.6503394101148201,
          0.6161127732655258,
          0.5565672287035086,
          0.4346393854265091,
          0.30288147711970537,
          0.2676718755348613,
          0.23930567182030668,
          0.2067367113372368,
          0.15386427922360718
         ]
        },
        {
         "mode": "markers+lines",
         "showlegend": false,
         "type": "scatter",
         "x": [
          0.6781915426254272,
          0.6423832178115845,
          0.5855350494384766,
          0.472413569688797,
          0.35046690702438354,
          0.30860984325408936,
          0.26227375864982605,
          0.21422536671161652,
          0.16391277313232422
         ],
         "y": [
          0.6639085517928331,
          0.6325931289812743,
          0.5779728352694816,
          0.46531647553922284,
          0.34687017929004577,
          0.29766743074780805,
          0.253662479936837,
          0.21457001468801623,
          0.16560803028237764
         ]
        },
        {
         "mode": "markers+lines",
         "showlegend": false,
         "type": "scatter",
         "x": [
          0.6768526434898376,
          0.6432508230209351,
          0.585446834564209,
          0.4733026325702667,
          0.35075798630714417,
          0.31012022495269775,
          0.26344630122184753,
          0.2150198221206665,
          0.16323202848434448
         ],
         "y": [
          0.6634541419546204,
          0.6321297329887848,
          0.5768646955404451,
          0.46268203112404116,
          0.34128081147400563,
          0.3012745266264087,
          0.25681473074271094,
          0.21753163667365596,
          0.16857714420710038
         ]
        },
        {
         "mode": "markers+lines",
         "showlegend": false,
         "type": "scatter",
         "x": [
          0.6761592626571655,
          0.6507662534713745,
          0.5969043970108032,
          0.48945289850234985,
          0.37293925881385803,
          0.33158013224601746,
          0.2831403315067291,
          0.22767210006713867,
          0.16579172015190125
         ],
         "y": [
          0.6728783431104981,
          0.6430216420953585,
          0.589983082274143,
          0.4797680600000427,
          0.36272614922077867,
          0.3235389490207607,
          0.2738764451035715,
          0.22190109947049313,
          0.16458611395122213
         ]
        },
        {
         "mode": "markers+lines",
         "showlegend": false,
         "type": "scatter",
         "x": [
          0.6779261231422424,
          0.6504862904548645,
          0.5973038077354431,
          0.4890565574169159,
          0.37283238768577576,
          0.3317716717720032,
          0.28309643268585205,
          0.22740349173545837,
          0.16571497917175293
         ],
         "y": [
          0.6727927564150742,
          0.6429997836418467,
          0.5903464380371994,
          0.481348688697053,
          0.36717585560951477,
          0.3298241073874457,
          0.2820662951108589,
          0.22958875988297692,
          0.17519009706775965
         ]
        },
        {
         "mode": "markers+lines",
         "showlegend": false,
         "type": "scatter",
         "x": [
          0.6740701198577881,
          0.6492074728012085,
          0.5927214622497559,
          0.48587891459465027,
          0.36779290437698364,
          0.32665446400642395,
          0.2781948149204254,
          0.2241746485233307,
          0.1644202172756195
         ],
         "y": [
          0.6724485866687776,
          0.6426386764206864,
          0.590000720350714,
          0.48108271710094297,
          0.36701595092097744,
          0.3298604185880275,
          0.2824394322385158,
          0.23047419729154675,
          0.17668101067690686
         ]
        },
        {
         "mode": "markers+lines",
         "showlegend": false,
         "type": "scatter",
         "x": [
          0.6757914423942566,
          0.6487852931022644,
          0.5936195850372314,
          0.48605191707611084,
          0.3686154782772064,
          0.3278941810131073,
          0.2791094481945038,
          0.2245277613401413,
          0.16499286890029907
         ],
         "y": [
          0.6713400974555682,
          0.6412422174663422,
          0.5882373841611643,
          0.4786533747147374,
          0.3640582162973491,
          0.3264638800418335,
          0.2785690758930138,
          0.22833701415106064,
          0.1754129569360988
         ]
        },
        {
         "mode": "markers+lines",
         "showlegend": false,
         "type": "scatter",
         "x": [
          0.675780177116394,
          0.6489720344543457,
          0.59423828125,
          0.4864066243171692,
          0.37006404995918274,
          0.32933610677719116,
          0.28048086166381836,
          0.22533667087554932,
          0.1653611660003662
         ],
         "y": [
          0.6714900998467473,
          0.6412714906008999,
          0.587675214602408,
          0.4768454247491837,
          0.3595510454535447,
          0.32040259719932257,
          0.27125284722331905,
          0.22031586785891943,
          0.16412443656993123
         ]
        },
        {
         "mode": "markers+lines",
         "showlegend": false,
         "type": "scatter",
         "x": [
          0.6760802268981934,
          0.6498664617538452,
          0.5950889587402344,
          0.4871775507926941,
          0.371376097202301,
          0.33010953664779663,
          0.2813703417778015,
          0.22597119212150574,
          0.1652887463569641
         ],
         "y": [
          0.6724809109355062,
          0.6425092081179636,
          0.5892950182402,
          0.47953506977130567,
          0.36407379918359256,
          0.3257063609531635,
          0.2773809457311437,
          0.22492830497389754,
          0.16843760223841958
         ]
        },
        {
         "mode": "markers+lines",
         "showlegend": false,
         "type": "scatter",
         "x": [
          0.6741483807563782,
          0.6473180651664734,
          0.5901299715042114,
          0.48294398188591003,
          0.3653671443462372,
          0.32490479946136475,
          0.2760889232158661,
          0.22230461239814758,
          0.16452859342098236
         ],
         "y": [
          0.67088776568891,
          0.6406492045704466,
          0.5870458076307287,
          0.47668647258826924,
          0.3605547560130778,
          0.3217546142088708,
          0.2722878463133025,
          0.2236420498610271,
          0.16963782441397385
         ]
        },
        {
         "mode": "markers+lines",
         "showlegend": false,
         "type": "scatter",
         "x": [
          0.6760945320129395,
          0.648948073387146,
          0.5942065715789795,
          0.4857991933822632,
          0.37055692076683044,
          0.3297746181488037,
          0.2807418704032898,
          0.22520515322685242,
          0.16551922261714935
         ],
         "y": [
          0.6720073294415261,
          0.6417556966466256,
          0.5881623036888665,
          0.47787334398774595,
          0.36142693469071757,
          0.3226445266027849,
          0.27401786292818586,
          0.22192833805778678,
          0.16543887606289168
         ]
        },
        {
         "mode": "markers+lines",
         "showlegend": false,
         "type": "scatter",
         "x": [
          0.6762899160385132,
          0.6503985524177551,
          0.5964130759239197,
          0.48748987913131714,
          0.3724517822265625,
          0.33092084527015686,
          0.2820458710193634,
          0.2262391746044159,
          0.1654333472251892
         ],
         "y": [
          0.6724829087982293,
          0.6426644831269284,
          0.58966955535905,
          0.48113159281681755,
          0.36802482705766326,
          0.3309129491955928,
          0.28301629478965595,
          0.23095708770677922,
          0.17605002155753466
         ]
        },
        {
         "mode": "markers+lines",
         "showlegend": false,
         "type": "scatter",
         "x": [
          0.6745263338088989,
          0.6486717462539673,
          0.5929034352302551,
          0.48467516899108887,
          0.3682343065738678,
          0.32719099521636963,
          0.2782362103462219,
          0.22356054186820984,
          0.16476896405220032
         ],
         "y": [
          0.6703207006571748,
          0.6398463618610519,
          0.5857562758114998,
          0.47436258814123744,
          0.35726137193331114,
          0.3178018871009553,
          0.26973002995658885,
          0.21995895344782107,
          0.1640114546556944
         ]
        }
       ],
       "layout": {
        "autosize": true,
        "template": {
         "data": {
          "bar": [
           {
            "error_x": {
             "color": "rgb(36,36,36)"
            },
            "error_y": {
             "color": "rgb(36,36,36)"
            },
            "marker": {
             "line": {
              "color": "white",
              "width": 0.5
             },
             "pattern": {
              "fillmode": "overlay",
              "size": 10,
              "solidity": 0.2
             }
            },
            "type": "bar"
           }
          ],
          "barpolar": [
           {
            "marker": {
             "line": {
              "color": "white",
              "width": 0.5
             },
             "pattern": {
              "fillmode": "overlay",
              "size": 10,
              "solidity": 0.2
             }
            },
            "type": "barpolar"
           }
          ],
          "carpet": [
           {
            "aaxis": {
             "endlinecolor": "rgb(36,36,36)",
             "gridcolor": "white",
             "linecolor": "white",
             "minorgridcolor": "white",
             "startlinecolor": "rgb(36,36,36)"
            },
            "baxis": {
             "endlinecolor": "rgb(36,36,36)",
             "gridcolor": "white",
             "linecolor": "white",
             "minorgridcolor": "white",
             "startlinecolor": "rgb(36,36,36)"
            },
            "type": "carpet"
           }
          ],
          "choropleth": [
           {
            "colorbar": {
             "outlinewidth": 1,
             "tickcolor": "rgb(36,36,36)",
             "ticks": "outside"
            },
            "type": "choropleth"
           }
          ],
          "contour": [
           {
            "colorbar": {
             "outlinewidth": 1,
             "tickcolor": "rgb(36,36,36)",
             "ticks": "outside"
            },
            "colorscale": [
             [
              0,
              "#440154"
             ],
             [
              0.1111111111111111,
              "#482878"
             ],
             [
              0.2222222222222222,
              "#3e4989"
             ],
             [
              0.3333333333333333,
              "#31688e"
             ],
             [
              0.4444444444444444,
              "#26828e"
             ],
             [
              0.5555555555555556,
              "#1f9e89"
             ],
             [
              0.6666666666666666,
              "#35b779"
             ],
             [
              0.7777777777777778,
              "#6ece58"
             ],
             [
              0.8888888888888888,
              "#b5de2b"
             ],
             [
              1,
              "#fde725"
             ]
            ],
            "type": "contour"
           }
          ],
          "contourcarpet": [
           {
            "colorbar": {
             "outlinewidth": 1,
             "tickcolor": "rgb(36,36,36)",
             "ticks": "outside"
            },
            "type": "contourcarpet"
           }
          ],
          "heatmap": [
           {
            "colorbar": {
             "outlinewidth": 1,
             "tickcolor": "rgb(36,36,36)",
             "ticks": "outside"
            },
            "colorscale": [
             [
              0,
              "#440154"
             ],
             [
              0.1111111111111111,
              "#482878"
             ],
             [
              0.2222222222222222,
              "#3e4989"
             ],
             [
              0.3333333333333333,
              "#31688e"
             ],
             [
              0.4444444444444444,
              "#26828e"
             ],
             [
              0.5555555555555556,
              "#1f9e89"
             ],
             [
              0.6666666666666666,
              "#35b779"
             ],
             [
              0.7777777777777778,
              "#6ece58"
             ],
             [
              0.8888888888888888,
              "#b5de2b"
             ],
             [
              1,
              "#fde725"
             ]
            ],
            "type": "heatmap"
           }
          ],
          "heatmapgl": [
           {
            "colorbar": {
             "outlinewidth": 1,
             "tickcolor": "rgb(36,36,36)",
             "ticks": "outside"
            },
            "colorscale": [
             [
              0,
              "#440154"
             ],
             [
              0.1111111111111111,
              "#482878"
             ],
             [
              0.2222222222222222,
              "#3e4989"
             ],
             [
              0.3333333333333333,
              "#31688e"
             ],
             [
              0.4444444444444444,
              "#26828e"
             ],
             [
              0.5555555555555556,
              "#1f9e89"
             ],
             [
              0.6666666666666666,
              "#35b779"
             ],
             [
              0.7777777777777778,
              "#6ece58"
             ],
             [
              0.8888888888888888,
              "#b5de2b"
             ],
             [
              1,
              "#fde725"
             ]
            ],
            "type": "heatmapgl"
           }
          ],
          "histogram": [
           {
            "marker": {
             "line": {
              "color": "white",
              "width": 0.6
             }
            },
            "type": "histogram"
           }
          ],
          "histogram2d": [
           {
            "colorbar": {
             "outlinewidth": 1,
             "tickcolor": "rgb(36,36,36)",
             "ticks": "outside"
            },
            "colorscale": [
             [
              0,
              "#440154"
             ],
             [
              0.1111111111111111,
              "#482878"
             ],
             [
              0.2222222222222222,
              "#3e4989"
             ],
             [
              0.3333333333333333,
              "#31688e"
             ],
             [
              0.4444444444444444,
              "#26828e"
             ],
             [
              0.5555555555555556,
              "#1f9e89"
             ],
             [
              0.6666666666666666,
              "#35b779"
             ],
             [
              0.7777777777777778,
              "#6ece58"
             ],
             [
              0.8888888888888888,
              "#b5de2b"
             ],
             [
              1,
              "#fde725"
             ]
            ],
            "type": "histogram2d"
           }
          ],
          "histogram2dcontour": [
           {
            "colorbar": {
             "outlinewidth": 1,
             "tickcolor": "rgb(36,36,36)",
             "ticks": "outside"
            },
            "colorscale": [
             [
              0,
              "#440154"
             ],
             [
              0.1111111111111111,
              "#482878"
             ],
             [
              0.2222222222222222,
              "#3e4989"
             ],
             [
              0.3333333333333333,
              "#31688e"
             ],
             [
              0.4444444444444444,
              "#26828e"
             ],
             [
              0.5555555555555556,
              "#1f9e89"
             ],
             [
              0.6666666666666666,
              "#35b779"
             ],
             [
              0.7777777777777778,
              "#6ece58"
             ],
             [
              0.8888888888888888,
              "#b5de2b"
             ],
             [
              1,
              "#fde725"
             ]
            ],
            "type": "histogram2dcontour"
           }
          ],
          "mesh3d": [
           {
            "colorbar": {
             "outlinewidth": 1,
             "tickcolor": "rgb(36,36,36)",
             "ticks": "outside"
            },
            "type": "mesh3d"
           }
          ],
          "parcoords": [
           {
            "line": {
             "colorbar": {
              "outlinewidth": 1,
              "tickcolor": "rgb(36,36,36)",
              "ticks": "outside"
             }
            },
            "type": "parcoords"
           }
          ],
          "pie": [
           {
            "automargin": true,
            "type": "pie"
           }
          ],
          "scatter": [
           {
            "fillpattern": {
             "fillmode": "overlay",
             "size": 10,
             "solidity": 0.2
            },
            "type": "scatter"
           }
          ],
          "scatter3d": [
           {
            "line": {
             "colorbar": {
              "outlinewidth": 1,
              "tickcolor": "rgb(36,36,36)",
              "ticks": "outside"
             }
            },
            "marker": {
             "colorbar": {
              "outlinewidth": 1,
              "tickcolor": "rgb(36,36,36)",
              "ticks": "outside"
             }
            },
            "type": "scatter3d"
           }
          ],
          "scattercarpet": [
           {
            "marker": {
             "colorbar": {
              "outlinewidth": 1,
              "tickcolor": "rgb(36,36,36)",
              "ticks": "outside"
             }
            },
            "type": "scattercarpet"
           }
          ],
          "scattergeo": [
           {
            "marker": {
             "colorbar": {
              "outlinewidth": 1,
              "tickcolor": "rgb(36,36,36)",
              "ticks": "outside"
             }
            },
            "type": "scattergeo"
           }
          ],
          "scattergl": [
           {
            "marker": {
             "colorbar": {
              "outlinewidth": 1,
              "tickcolor": "rgb(36,36,36)",
              "ticks": "outside"
             }
            },
            "type": "scattergl"
           }
          ],
          "scattermapbox": [
           {
            "marker": {
             "colorbar": {
              "outlinewidth": 1,
              "tickcolor": "rgb(36,36,36)",
              "ticks": "outside"
             }
            },
            "type": "scattermapbox"
           }
          ],
          "scatterpolar": [
           {
            "marker": {
             "colorbar": {
              "outlinewidth": 1,
              "tickcolor": "rgb(36,36,36)",
              "ticks": "outside"
             }
            },
            "type": "scatterpolar"
           }
          ],
          "scatterpolargl": [
           {
            "marker": {
             "colorbar": {
              "outlinewidth": 1,
              "tickcolor": "rgb(36,36,36)",
              "ticks": "outside"
             }
            },
            "type": "scatterpolargl"
           }
          ],
          "scatterternary": [
           {
            "marker": {
             "colorbar": {
              "outlinewidth": 1,
              "tickcolor": "rgb(36,36,36)",
              "ticks": "outside"
             }
            },
            "type": "scatterternary"
           }
          ],
          "surface": [
           {
            "colorbar": {
             "outlinewidth": 1,
             "tickcolor": "rgb(36,36,36)",
             "ticks": "outside"
            },
            "colorscale": [
             [
              0,
              "#440154"
             ],
             [
              0.1111111111111111,
              "#482878"
             ],
             [
              0.2222222222222222,
              "#3e4989"
             ],
             [
              0.3333333333333333,
              "#31688e"
             ],
             [
              0.4444444444444444,
              "#26828e"
             ],
             [
              0.5555555555555556,
              "#1f9e89"
             ],
             [
              0.6666666666666666,
              "#35b779"
             ],
             [
              0.7777777777777778,
              "#6ece58"
             ],
             [
              0.8888888888888888,
              "#b5de2b"
             ],
             [
              1,
              "#fde725"
             ]
            ],
            "type": "surface"
           }
          ],
          "table": [
           {
            "cells": {
             "fill": {
              "color": "rgb(237,237,237)"
             },
             "line": {
              "color": "white"
             }
            },
            "header": {
             "fill": {
              "color": "rgb(217,217,217)"
             },
             "line": {
              "color": "white"
             }
            },
            "type": "table"
           }
          ]
         },
         "layout": {
          "annotationdefaults": {
           "arrowhead": 0,
           "arrowwidth": 1
          },
          "autotypenumbers": "strict",
          "coloraxis": {
           "colorbar": {
            "outlinewidth": 1,
            "tickcolor": "rgb(36,36,36)",
            "ticks": "outside"
           }
          },
          "colorscale": {
           "diverging": [
            [
             0,
             "rgb(103,0,31)"
            ],
            [
             0.1,
             "rgb(178,24,43)"
            ],
            [
             0.2,
             "rgb(214,96,77)"
            ],
            [
             0.3,
             "rgb(244,165,130)"
            ],
            [
             0.4,
             "rgb(253,219,199)"
            ],
            [
             0.5,
             "rgb(247,247,247)"
            ],
            [
             0.6,
             "rgb(209,229,240)"
            ],
            [
             0.7,
             "rgb(146,197,222)"
            ],
            [
             0.8,
             "rgb(67,147,195)"
            ],
            [
             0.9,
             "rgb(33,102,172)"
            ],
            [
             1,
             "rgb(5,48,97)"
            ]
           ],
           "sequential": [
            [
             0,
             "#440154"
            ],
            [
             0.1111111111111111,
             "#482878"
            ],
            [
             0.2222222222222222,
             "#3e4989"
            ],
            [
             0.3333333333333333,
             "#31688e"
            ],
            [
             0.4444444444444444,
             "#26828e"
            ],
            [
             0.5555555555555556,
             "#1f9e89"
            ],
            [
             0.6666666666666666,
             "#35b779"
            ],
            [
             0.7777777777777778,
             "#6ece58"
            ],
            [
             0.8888888888888888,
             "#b5de2b"
            ],
            [
             1,
             "#fde725"
            ]
           ],
           "sequentialminus": [
            [
             0,
             "#440154"
            ],
            [
             0.1111111111111111,
             "#482878"
            ],
            [
             0.2222222222222222,
             "#3e4989"
            ],
            [
             0.3333333333333333,
             "#31688e"
            ],
            [
             0.4444444444444444,
             "#26828e"
            ],
            [
             0.5555555555555556,
             "#1f9e89"
            ],
            [
             0.6666666666666666,
             "#35b779"
            ],
            [
             0.7777777777777778,
             "#6ece58"
            ],
            [
             0.8888888888888888,
             "#b5de2b"
            ],
            [
             1,
             "#fde725"
            ]
           ]
          },
          "colorway": [
           "#1F77B4",
           "#FF7F0E",
           "#2CA02C",
           "#D62728",
           "#9467BD",
           "#8C564B",
           "#E377C2",
           "#7F7F7F",
           "#BCBD22",
           "#17BECF"
          ],
          "font": {
           "color": "rgb(36,36,36)"
          },
          "geo": {
           "bgcolor": "white",
           "lakecolor": "white",
           "landcolor": "white",
           "showlakes": true,
           "showland": true,
           "subunitcolor": "white"
          },
          "hoverlabel": {
           "align": "left"
          },
          "hovermode": "closest",
          "mapbox": {
           "style": "light"
          },
          "paper_bgcolor": "white",
          "plot_bgcolor": "white",
          "polar": {
           "angularaxis": {
            "gridcolor": "rgb(232,232,232)",
            "linecolor": "rgb(36,36,36)",
            "showgrid": false,
            "showline": true,
            "ticks": "outside"
           },
           "bgcolor": "white",
           "radialaxis": {
            "gridcolor": "rgb(232,232,232)",
            "linecolor": "rgb(36,36,36)",
            "showgrid": false,
            "showline": true,
            "ticks": "outside"
           }
          },
          "scene": {
           "xaxis": {
            "backgroundcolor": "white",
            "gridcolor": "rgb(232,232,232)",
            "gridwidth": 2,
            "linecolor": "rgb(36,36,36)",
            "showbackground": true,
            "showgrid": false,
            "showline": true,
            "ticks": "outside",
            "zeroline": false,
            "zerolinecolor": "rgb(36,36,36)"
           },
           "yaxis": {
            "backgroundcolor": "white",
            "gridcolor": "rgb(232,232,232)",
            "gridwidth": 2,
            "linecolor": "rgb(36,36,36)",
            "showbackground": true,
            "showgrid": false,
            "showline": true,
            "ticks": "outside",
            "zeroline": false,
            "zerolinecolor": "rgb(36,36,36)"
           },
           "zaxis": {
            "backgroundcolor": "white",
            "gridcolor": "rgb(232,232,232)",
            "gridwidth": 2,
            "linecolor": "rgb(36,36,36)",
            "showbackground": true,
            "showgrid": false,
            "showline": true,
            "ticks": "outside",
            "zeroline": false,
            "zerolinecolor": "rgb(36,36,36)"
           }
          },
          "shapedefaults": {
           "fillcolor": "black",
           "line": {
            "width": 0
           },
           "opacity": 0.3
          },
          "ternary": {
           "aaxis": {
            "gridcolor": "rgb(232,232,232)",
            "linecolor": "rgb(36,36,36)",
            "showgrid": false,
            "showline": true,
            "ticks": "outside"
           },
           "baxis": {
            "gridcolor": "rgb(232,232,232)",
            "linecolor": "rgb(36,36,36)",
            "showgrid": false,
            "showline": true,
            "ticks": "outside"
           },
           "bgcolor": "white",
           "caxis": {
            "gridcolor": "rgb(232,232,232)",
            "linecolor": "rgb(36,36,36)",
            "showgrid": false,
            "showline": true,
            "ticks": "outside"
           }
          },
          "title": {
           "x": 0.05
          },
          "xaxis": {
           "automargin": true,
           "gridcolor": "rgb(232,232,232)",
           "linecolor": "rgb(36,36,36)",
           "showgrid": false,
           "showline": true,
           "ticks": "outside",
           "title": {
            "standoff": 15
           },
           "zeroline": false,
           "zerolinecolor": "rgb(36,36,36)"
          },
          "yaxis": {
           "automargin": true,
           "gridcolor": "rgb(232,232,232)",
           "linecolor": "rgb(36,36,36)",
           "showgrid": false,
           "showline": true,
           "ticks": "outside",
           "title": {
            "standoff": 15
           },
           "zeroline": false,
           "zerolinecolor": "rgb(36,36,36)"
          }
         }
        },
        "xaxis": {
         "autorange": true,
         "range": [
          -0.062317429406036996,
          1.062317429406037
         ],
         "title": {
          "text": "Normalized Voltage Prediction"
         },
         "type": "linear"
        },
        "yaxis": {
         "autorange": true,
         "range": [
          -0.07040998217468805,
          1.070409982174688
         ],
         "title": {
          "text": "Normalized Voltage Target"
         },
         "type": "linear"
        }
       }
      },
      "text/html": [
       "<div>                            <div id=\"9e7f6f76-804c-4fc4-b2ac-e5bbbfb0f0d6\" class=\"plotly-graph-div\" style=\"height:500px; width:100%;\"></div>            <script type=\"text/javascript\">                require([\"plotly\"], function(Plotly) {                    window.PLOTLYENV=window.PLOTLYENV || {};                                    if (document.getElementById(\"9e7f6f76-804c-4fc4-b2ac-e5bbbfb0f0d6\")) {                    Plotly.newPlot(                        \"9e7f6f76-804c-4fc4-b2ac-e5bbbfb0f0d6\",                        [{\"mode\":\"markers+lines\",\"showlegend\":false,\"x\":[0,1],\"y\":[0,1],\"type\":\"scatter\"},{\"mode\":\"markers+lines\",\"showlegend\":false,\"x\":[0.6848635673522949,0.661442756652832,0.6118226647377014,0.5141547918319702,0.3913608193397522,0.3485977351665497,0.30225318670272827,0.24551045894622803,0.18091151118278503],\"y\":[0.6829585481989047,0.660126871915549,0.6243825203830243,0.5479757049799164,0.4560228411172442,0.42605231806900784,0.3884413997845875,0.33883710221863184,0.26123274567220944],\"type\":\"scatter\"},{\"mode\":\"markers+lines\",\"showlegend\":false,\"x\":[0.6845946907997131,0.65848708152771,0.6091402769088745,0.5091001987457275,0.38631248474121094,0.34038323163986206,0.2930937111377716,0.2379273772239685,0.17579007148742676],\"y\":[0.6832316118498916,0.6611845609631645,0.6254337618227261,0.5466454688546745,0.4526174102249374,0.42252368522045297,0.38512557346322185,0.336943908098254,0.26446284700799677],\"type\":\"scatter\"},{\"mode\":\"markers+lines\",\"showlegend\":false,\"x\":[0.6859625577926636,0.659039318561554,0.6099861860275269,0.5094745755195618,0.38650277256965637,0.3381243646144867,0.29130440950393677,0.23713894188404083,0.1761118471622467],\"y\":[0.6823578774683821,0.6600407241425882,0.6238348449630323,0.543349558203669,0.4483296647886087,0.418257544073942,0.38078475944978696,0.33126939838571107,0.25703976812570006],\"type\":\"scatter\"},{\"mode\":\"markers+lines\",\"showlegend\":false,\"x\":[0.6833159923553467,0.6641354560852051,0.6127947568893433,0.5155065655708313,0.3946932852268219,0.35342854261398315,0.3070293664932251,0.24881568551063538,0.18220221996307373],\"y\":[0.6856090685668169,0.663384914735372,0.6271654488175513,0.5462103113795337,0.4519789721258096,0.42181979463473857,0.38444391694728447,0.3351103391298358,0.2593481090767833],\"type\":\"scatter\"},{\"mode\":\"markers+lines\",\"showlegend\":false,\"x\":[0.6837959289550781,0.6581763029098511,0.6088707447052002,0.5079386234283447,0.3849692940711975,0.3380245864391327,0.29079246520996094,0.23632147908210754,0.1750062108039856],\"y\":[0.6813773694247586,0.6580274596222699,0.6196457712338551,0.5348253009221052,0.4378628879040007,0.40725390894293323,0.3688500480015006,0.3187406828284174,0.24153186823522585],\"type\":\"scatter\"},{\"mode\":\"markers+lines\",\"showlegend\":false,\"x\":[0.6856778860092163,0.6588740348815918,0.6103229522705078,0.5093926191329956,0.38679996132850647,0.3398434519767761,0.29318422079086304,0.23843075335025787,0.17671158909797668],\"y\":[0.6811544581203216,0.6576725507242884,0.6186628160115768,0.5326819838713347,0.4353687479897019,0.4051688488256984,0.36743473161333884,0.31674236205620865,0.24079269892976504],\"type\":\"scatter\"},{\"mode\":\"markers+lines\",\"showlegend\":false,\"x\":[0.6855717897415161,0.6577363014221191,0.6090729832649231,0.5070217251777649,0.38476067781448364,0.3372192084789276,0.2904123067855835,0.23628497123718262,0.17548181116580963],\"y\":[0.6796422976590514,0.6556969371173829,0.6155181179650682,0.5276392429632567,0.4296426063782535,0.39886991581078995,0.3607529391927904,0.3099159743825776,0.2327635371857721],\"type\":\"scatter\"},{\"mode\":\"markers+lines\",\"showlegend\":false,\"x\":[0.6848362684249878,0.6569761037826538,0.6082213521003723,0.5052070617675781,0.38298195600509644,0.3349621295928955,0.28802236914634705,0.23443502187728882,0.1744537353515625],\"y\":[0.6785568378651831,0.653883336017541,0.6126887447694179,0.5220849962948068,0.42185932715177854,0.39047601851687175,0.3510818238959383,0.29801892292547255,0.2169513897606327],\"type\":\"scatter\"},{\"mode\":\"markers+lines\",\"showlegend\":false,\"x\":[0.6848828792572021,0.6568721532821655,0.6085084676742554,0.5058035850524902,0.3837890028953552,0.3368290364742279,0.28985437750816345,0.235637828707695,0.17488592863082886],\"y\":[0.6787862861390189,0.6540219350695854,0.612685851392202,0.521617227842941,0.4224038340352969,0.3915868264872306,0.3530031821854069,0.3014895468194228,0.22397444939139635],\"type\":\"scatter\"},{\"mode\":\"markers+lines\",\"showlegend\":false,\"x\":[0.6834574937820435,0.6570873260498047,0.6084856986999512,0.505693256855011,0.38350361585617065,0.33659109473228455,0.2896140515804291,0.23544704914093018,0.17469774186611176],\"y\":[0.6786517491172204,0.6535081800238683,0.6112276047822225,0.5183070786493063,0.416668518468775,0.384553985325081,0.34431749449414745,0.2901107844833304,0.20674195740790446],\"type\":\"scatter\"},{\"mode\":\"markers+lines\",\"showlegend\":false,\"x\":[0.683303952217102,0.6588879823684692,0.6100530624389648,0.5090512037277222,0.3864780366420746,0.34451743960380554,0.2975226938724518,0.24098221957683563,0.17709913849830627],\"y\":[0.6808764234641871,0.6560122155740222,0.6140668661383738,0.5212518324256613,0.4197282422579085,0.3876637060398478,0.34721450945780363,0.29173884284882806,0.20600828243876879],\"type\":\"scatter\"},{\"mode\":\"markers+lines\",\"showlegend\":false,\"x\":[0.6832731366157532,0.6596572399139404,0.6107960939407349,0.5099823474884033,0.38785645365715027,0.34601283073425293,0.2990609109401703,0.24213451147079468,0.17762885987758636],\"y\":[0.6809553574250178,0.6561036296931448,0.6139552659237437,0.5215526884368402,0.4219113930119263,0.3905728407408639,0.35203359708635834,0.2995808315372504,0.2210899097502949],\"type\":\"scatter\"},{\"mode\":\"markers+lines\",\"showlegend\":false,\"x\":[0.6832939982414246,0.6560286283493042,0.6075587272644043,0.5028924345970154,0.3808365762233734,0.3336085081100464,0.2865806221961975,0.23308634757995605,0.17335693538188934],\"y\":[0.6766789623238062,0.6506452791623486,0.6066052505460187,0.510397594712923,0.4070488580022151,0.37469330690643377,0.3340683648364443,0.2785543914222567,0.19913897638743275],\"type\":\"scatter\"},{\"mode\":\"markers+lines\",\"showlegend\":false,\"x\":[0.6836755275726318,0.6559438109397888,0.6077632904052734,0.5032227039337158,0.38108861446380615,0.3347465991973877,0.28756004571914673,0.23357631266117096,0.1732775866985321],\"y\":[0.6770589137563982,0.6509724691447786,0.6064785192362001,0.5095268973830668,0.40564824895910045,0.3729670756098786,0.3316628925643115,0.2758319030882244,0.19632419611243493],\"type\":\"scatter\"},{\"mode\":\"markers+lines\",\"showlegend\":false,\"x\":[0.6828567981719971,0.6568748950958252,0.6087092161178589,0.5057541728019714,0.3835431635379791,0.3405998647212982,0.29342710971832275,0.23770740628242493,0.17505720257759094],\"y\":[0.678629179031169,0.6521584143767623,0.6077628847139697,0.5105345842637387,0.40363770186738496,0.37172024355700717,0.3294738870573425,0.27296273972498813,0.19233625775729893],\"type\":\"scatter\"},{\"mode\":\"markers+lines\",\"showlegend\":false,\"x\":[0.6829962134361267,0.6544960737228394,0.6065226793289185,0.5003819465637207,0.3787301480770111,0.331903874874115,0.28472384810447693,0.23150327801704407,0.17236901819705963],\"y\":[0.6754175012570024,0.6485485138620375,0.6024691417093344,0.5017582162300647,0.39413945613887597,0.3596481507600972,0.3153847451957057,0.255634688199533,0.17664659746131284],\"type\":\"scatter\"},{\"mode\":\"markers+lines\",\"showlegend\":false,\"x\":[0.683002233505249,0.6547482013702393,0.6068023443222046,0.500584602355957,0.37890687584877014,0.33274221420288086,0.2855428159236908,0.23195041716098785,0.17235997319221497],\"y\":[0.6753689835518155,0.648310668305307,0.6021057345733352,0.5016109640072443,0.39457659184637306,0.36023477537417176,0.3175407580009565,0.25888352578541135,0.1838779701736246],\"type\":\"scatter\"},{\"mode\":\"markers+lines\",\"showlegend\":false,\"x\":[0.7008250951766968,0.6776763200759888,0.6267024278640747,0.5292158722877502,0.4120848774909973,0.37109634280204773,0.3271307051181793,0.26685306429862976,0.19959339499473572],\"y\":[0.6872512932692884,0.6623500874829757,0.6193141428258707,0.5233657558657256,0.4200389232559922,0.3874151618900812,0.3450307227106493,0.28545956668882755,0.194440000214891],\"type\":\"scatter\"},{\"mode\":\"markers+lines\",\"showlegend\":false,\"x\":[0.7018135786056519,0.6796002388000488,0.6282421350479126,0.5303637385368347,0.4130324125289917,0.37177252769470215,0.32801902294158936,0.2679896354675293,0.20083822309970856],\"y\":[0.68725683368611,0.6624583715624928,0.6192674144542977,0.5238040827139708,0.42149909711689276,0.3896267251762533,0.34847127305152215,0.29081689541148864,0.20499665816072657],\"type\":\"scatter\"},{\"mode\":\"markers+lines\",\"showlegend\":false,\"x\":[0.696759819984436,0.6720293760299683,0.619353175163269,0.5205163955688477,0.40531110763549805,0.36448389291763306,0.31926241517066956,0.258689820766449,0.19088143110275269],\"y\":[0.6845333246860515,0.6590105707299018,0.6146489302411294,0.5173033140383371,0.4139359206347757,0.381295091529219,0.3394342435018096,0.28139195070949674,0.1994557143251832],\"type\":\"scatter\"},{\"mode\":\"markers+lines\",\"showlegend\":false,\"x\":[0.6925840377807617,0.6675362586975098,0.6158417463302612,0.5154645442962646,0.39964234828948975,0.35834091901779175,0.31235116720199585,0.2526196241378784,0.18501733243465424],\"y\":[0.6819313127461423,0.6556451881287554,0.610091382706746,0.510347711868493,0.40453689748263233,0.37093046276381253,0.327442904629803,0.26766783252746573,0.18939840928586177],\"type\":\"scatter\"},{\"mode\":\"markers+lines\",\"showlegend\":false,\"x\":[0.6973249316215515,0.6720404624938965,0.6194705963134766,0.5202136039733887,0.40515825152397156,0.36422836780548096,0.318893700838089,0.25827518105506897,0.1903075873851776],\"y\":[0.6839884338055299,0.6577458017635545,0.6123100100569083,0.5119136336849468,0.40462589822279027,0.3701235374319994,0.32508696025476636,0.2619715444895197,0.17864272581196658],\"type\":\"scatter\"},{\"mode\":\"markers+lines\",\"showlegend\":false,\"x\":[0.7012258768081665,0.6776698231697083,0.6257996559143066,0.5266491174697876,0.41057127714157104,0.36912935972213745,0.32486552000045776,0.2644011974334717,0.19736447930335999],\"y\":[0.6862688530633115,0.6610000905714003,0.6174063409758153,0.5226013925485996,0.41792811757518783,0.3837783643286012,0.34571165550457167,0.2751975982800917,0.19194156019604652],\"type\":\"scatter\"},{\"mode\":\"markers+lines\",\"showlegend\":false,\"x\":[0.6913381218910217,0.6640838384628296,0.6135294437408447,0.5113286972045898,0.395307719707489,0.35415977239608765,0.3074735403060913,0.24814701080322266,0.1806260645389557],\"y\":[0.6801708567947179,0.6530155482040557,0.6054886387636438,0.5030614979883498,0.3934865283848946,0.3580109663177604,0.3117396826025956,0.2489104750523066,0.17373514430342163],\"type\":\"scatter\"},{\"mode\":\"markers+lines\",\"showlegend\":false,\"x\":[0.6869409084320068,0.6463272571563721,0.5958991050720215,0.47963768243789673,0.3500610888004303,0.3027190566062927,0.25892505049705505,0.21642789244651794,0.17135420441627502],\"y\":[0.65998561006045,0.6284960620572896,0.5743390398384488,0.4611074630275715,0.3408144814083872,0.30132489174069355,0.25778261861152924,0.21497002367718343,0.15892327393456082],\"type\":\"scatter\"},{\"mode\":\"markers+lines\",\"showlegend\":false,\"x\":[0.6829160451889038,0.6548933982849121,0.6078295111656189,0.5008384585380554,0.3794442117214203,0.3374198079109192,0.28997498750686646,0.23449745774269104,0.1724337786436081],\"y\":[0.6748510021280654,0.6465710043245406,0.5972157364882623,0.491575923528823,0.379230846179424,0.34309082636294747,0.29662859038188166,0.23933265200764187,0.16846757762131506],\"type\":\"scatter\"},{\"mode\":\"markers+lines\",\"showlegend\":false,\"x\":[0.6821737289428711,0.6556119918823242,0.6083811521530151,0.5015851259231567,0.3813646137714386,0.3398975133895874,0.2924500107765198,0.2361907660961151,0.1730736345052719],\"y\":[0.6739664624326652,0.6454150285981124,0.595245630368818,0.48805092982399445,0.3739268844904049,0.3367592690581169,0.28798108631554686,0.23006325713716697,0.16629584317715143],\"type\":\"scatter\"},{\"mode\":\"markers+lines\",\"showlegend\":false,\"x\":[0.6807609796524048,0.6526540517807007,0.6031538248062134,0.4967831075191498,0.3753513991832733,0.33222395181655884,0.2846129238605499,0.23048266768455505,0.170384481549263],\"y\":[0.6728759574117853,0.6439316235425638,0.5934349884771194,0.4853243722994986,0.36986646665966827,0.3319028543640042,0.28365284716560507,0.22825325858888595,0.16791021623257674],\"type\":\"scatter\"},{\"mode\":\"markers+lines\",\"showlegend\":false,\"x\":[0.680831789970398,0.6521517634391785,0.6007300615310669,0.49473899602890015,0.37348219752311707,0.329351007938385,0.2818993926048279,0.22862905263900757,0.16968199610710144],\"y\":[0.6707681898961863,0.6413002201078096,0.5896831575758509,0.4798518329990685,0.36223228508330746,0.324005617967612,0.27511363870813993,0.22185363507708927,0.16292505951646588],\"type\":\"scatter\"},{\"mode\":\"markers+lines\",\"showlegend\":false,\"x\":[0.6810941696166992,0.6527611017227173,0.6032088994979858,0.49663785099983215,0.37539196014404297,0.33325305581092834,0.28553348779678345,0.2309296876192093,0.17023667693138123],\"y\":[0.6726223664100194,0.6433717791365716,0.5921214821900003,0.4825125775292875,0.3655115534067161,0.32593888197393145,0.2766750544078663,0.22259593466455854,0.16157166727569294],\"type\":\"scatter\"},{\"mode\":\"markers+lines\",\"showlegend\":false,\"x\":[0.6799649000167847,0.6519697904586792,0.6010080575942993,0.4948665499687195,0.37370139360427856,0.3310147225856781,0.28332990407943726,0.22937053442001343,0.16956935822963715],\"y\":[0.6725850984228163,0.6435231045720414,0.5923096140345167,0.48301868774246093,0.3660975639441556,0.32674585636557507,0.27816093104774187,0.22438485982301273,0.1647658571966807],\"type\":\"scatter\"},{\"mode\":\"markers+lines\",\"showlegend\":false,\"x\":[0.6808415651321411,0.6521075963973999,0.6010098457336426,0.49521350860595703,0.3745068907737732,0.33234116435050964,0.28469717502593994,0.23028670251369476,0.1699460744857788],\"y\":[0.6727393334085048,0.6437174455376459,0.5927791488571796,0.4845732242338095,0.3696768152751904,0.3323420975063071,0.2847327314140322,0.23006079714524005,0.17301762603561818],\"type\":\"scatter\"},{\"mode\":\"markers+lines\",\"showlegend\":false,\"x\":[0.6801948547363281,0.6516927480697632,0.6016218662261963,0.49497857689857483,0.3736862242221832,0.33231058716773987,0.28439193964004517,0.2298951894044876,0.16939638555049896],\"y\":[0.6730469952005099,0.643984649897419,0.5930040394297981,0.48474326386050975,0.3699549349829976,0.33231381293391904,0.284140808602365,0.23043267470857445,0.17361077992420776],\"type\":\"scatter\"},{\"mode\":\"markers+lines\",\"showlegend\":false,\"x\":[0.6788228750228882,0.6502883434295654,0.5972043871879578,0.4911912977695465,0.37031885981559753,0.3272162675857544,0.27948063611984253,0.2265528440475464,0.1683051586151123],\"y\":[0.6742814149009043,0.6456545724708883,0.5971466273112486,0.4806340841094368,0.3647930665630047,0.32608172020579473,0.2779897768574868,0.2263264286324809,0.17054938081805837],\"type\":\"scatter\"},{\"mode\":\"markers+lines\",\"showlegend\":false,\"x\":[0.6805915832519531,0.6512518525123596,0.5998355746269226,0.49352186918258667,0.37269243597984314,0.3315378427505493,0.28358009457588196,0.2291264832019806,0.1688474416732788],\"y\":[0.6719739170855032,0.642642850132757,0.590851469359764,0.4814109738543984,0.3655198477212611,0.3265871008380922,0.2777054103419121,0.225858526698885,0.1707129512843649],\"type\":\"scatter\"},{\"mode\":\"markers+lines\",\"showlegend\":false,\"x\":[0.6871980428695679,0.6607218980789185,0.6118373870849609,0.5055462121963501,0.3905702829360962,0.34870386123657227,0.3013816773891449,0.24258112907409668,0.17575746774673462],\"y\":[0.6780795678224429,0.6497592487955302,0.5997796926808002,0.49315934757894575,0.38027658665290415,0.3433937740614557,0.2954221477315463,0.23597475137539792,0.17453332493322107],\"type\":\"scatter\"},{\"mode\":\"markers+lines\",\"showlegend\":false,\"x\":[0.682905912399292,0.6548601388931274,0.6074149012565613,0.49834614992141724,0.38114646077156067,0.34005171060562134,0.29203879833221436,0.234964057803154,0.1706499457359314],\"y\":[0.6752488155008215,0.6462619765247685,0.5952250358777612,0.4864139800816492,0.37042706687011867,0.3319454981807783,0.28199450004956,0.22588932858373403,0.16746400733127953],\"type\":\"scatter\"},{\"mode\":\"markers+lines\",\"showlegend\":false,\"x\":[0.7014158964157104,0.6765867471694946,0.6236865520477295,0.5198638439178467,0.40699324011802673,0.36485594511032104,0.31943026185035706,0.2582327723503113,0.1905999332666397],\"y\":[0.6826677954587062,0.6545118878061971,0.6056227961534476,0.5007723395459885,0.390166824536474,0.353866492172894,0.3056127303930547,0.24231522399553362,0.17293782204963232],\"type\":\"scatter\"},{\"mode\":\"markers+lines\",\"showlegend\":false,\"x\":[0.679563581943512,0.6518669128417969,0.599494457244873,0.49313193559646606,0.373008668422699,0.33166930079460144,0.28376543521881104,0.2291131317615509,0.16845637559890747],\"y\":[0.6727570261636971,0.6436298888791404,0.5925697876267806,0.4819965588475268,0.359665015173896,0.3182070737940451,0.26701512920413367,0.21781895691784833,0.15946587414862626],\"type\":\"scatter\"},{\"mode\":\"markers+lines\",\"showlegend\":false,\"x\":[0.6789770126342773,0.6523226499557495,0.6015713810920715,0.49410480260849,0.3748599886894226,0.3336905837059021,0.28556662797927856,0.2301895022392273,0.16842980682849884],\"y\":[0.673011108716323,0.6437338547670431,0.5915792051331809,0.48136655284684016,0.36436363581231457,0.3253536734094002,0.2758230181504474,0.22353421110290755,0.16700539592292332],\"type\":\"scatter\"},{\"mode\":\"markers+lines\",\"showlegend\":false,\"x\":[0.6784545183181763,0.6509442329406738,0.5981584787368774,0.49159082770347595,0.3715377449989319,0.3305491507053375,0.2824280261993408,0.227944016456604,0.16758033633232117],\"y\":[0.6717349037315088,0.6418473782952885,0.5889289459210716,0.4775647150736858,0.3580897551958964,0.3179321625065289,0.26792155164660525,0.2187454494738176,0.16288575024132085],\"type\":\"scatter\"},{\"mode\":\"markers+lines\",\"showlegend\":false,\"x\":[0.6829327940940857,0.657217264175415,0.6093462705612183,0.5000330209732056,0.3848317265510559,0.34307658672332764,0.2951359748840332,0.23715630173683167,0.17132315039634705],\"y\":[0.6759179280636153,0.6470263614143439,0.5958083465993619,0.488081913561749,0.37417982085624457,0.33696238054028127,0.2885588590759531,0.23334284544778988,0.17593626025748316],\"type\":\"scatter\"},{\"mode\":\"markers+lines\",\"showlegend\":false,\"x\":[0.6761695146560669,0.6489378213882446,0.5932514667510986,0.4872462749481201,0.36689114570617676,0.32559430599212646,0.2775367796421051,0.22452309727668762,0.16622471809387207],\"y\":[0.6696738376924459,0.6393249335519479,0.5859160142075122,0.47401859351249187,0.3549846982509586,0.31504407582559746,0.2676158588146424,0.22117847948099,0.16827036479636545],\"type\":\"scatter\"},{\"mode\":\"markers+lines\",\"showlegend\":false,\"x\":[0.6776331067085266,0.6493633985519409,0.5946145057678223,0.4883887767791748,0.36874324083328247,0.32812854647636414,0.27985042333602905,0.2258380949497223,0.16632282733917236],\"y\":[0.6702379425267293,0.6398925455522038,0.5864356928756486,0.4743397014266052,0.3533768727189777,0.3135367616117023,0.26359921967166894,0.21564470418594103,0.15966325366275502],\"type\":\"scatter\"},{\"mode\":\"markers+lines\",\"showlegend\":false,\"x\":[0.6759988069534302,0.6477095484733582,0.591728687286377,0.48529303073883057,0.36474984884262085,0.3237495422363281,0.27551448345184326,0.2229810208082199,0.16550204157829285],\"y\":[0.6701386418885954,0.6397814544762873,0.5861724951768585,0.4738695060649982,0.3532578202772998,0.31298266521152085,0.2641346351397616,0.2170746528506622,0.16243997153088316],\"type\":\"scatter\"},{\"mode\":\"markers+lines\",\"showlegend\":false,\"x\":[0.7025343775749207,0.6762936115264893,0.6231076717376709,0.5168266296386719,0.40555205941200256,0.3630567193031311,0.31706735491752625,0.2556070387363434,0.18759848177433014],\"y\":[0.6828233803013071,0.6551174287046735,0.6061388283043854,0.5029558940480376,0.39481003788338365,0.3596212157939475,0.31386638402958716,0.2533179241702824,0.1837111974896355],\"type\":\"scatter\"},{\"mode\":\"markers+lines\",\"showlegend\":false,\"x\":[0.6762739419937134,0.6400519609451294,0.5902441143989563,0.4777703285217285,0.35382699966430664,0.31019121408462524,0.26316192746162415,0.213004469871521,0.16473275423049927],\"y\":[0.6617964544363392,0.6293883449560368,0.5735055617112402,0.45809314752217467,0.33446715625358625,0.2939887289313275,0.25138767547314045,0.21390684104762475,0.16555629443269712],\"type\":\"scatter\"},{\"mode\":\"markers+lines\",\"showlegend\":false,\"x\":[0.6688544154167175,0.6303218603134155,0.5781065225601196,0.45494723320007324,0.32129472494125366,0.2832913100719452,0.2484356313943863,0.21032527089118958,0.17453503608703613],\"y\":[0.6503394101148201,0.6161127732655258,0.5565672287035086,0.4346393854265091,0.30288147711970537,0.2676718755348613,0.23930567182030668,0.2067367113372368,0.15386427922360718],\"type\":\"scatter\"},{\"mode\":\"markers+lines\",\"showlegend\":false,\"x\":[0.6781915426254272,0.6423832178115845,0.5855350494384766,0.472413569688797,0.35046690702438354,0.30860984325408936,0.26227375864982605,0.21422536671161652,0.16391277313232422],\"y\":[0.6639085517928331,0.6325931289812743,0.5779728352694816,0.46531647553922284,0.34687017929004577,0.29766743074780805,0.253662479936837,0.21457001468801623,0.16560803028237764],\"type\":\"scatter\"},{\"mode\":\"markers+lines\",\"showlegend\":false,\"x\":[0.6768526434898376,0.6432508230209351,0.585446834564209,0.4733026325702667,0.35075798630714417,0.31012022495269775,0.26344630122184753,0.2150198221206665,0.16323202848434448],\"y\":[0.6634541419546204,0.6321297329887848,0.5768646955404451,0.46268203112404116,0.34128081147400563,0.3012745266264087,0.25681473074271094,0.21753163667365596,0.16857714420710038],\"type\":\"scatter\"},{\"mode\":\"markers+lines\",\"showlegend\":false,\"x\":[0.6761592626571655,0.6507662534713745,0.5969043970108032,0.48945289850234985,0.37293925881385803,0.33158013224601746,0.2831403315067291,0.22767210006713867,0.16579172015190125],\"y\":[0.6728783431104981,0.6430216420953585,0.589983082274143,0.4797680600000427,0.36272614922077867,0.3235389490207607,0.2738764451035715,0.22190109947049313,0.16458611395122213],\"type\":\"scatter\"},{\"mode\":\"markers+lines\",\"showlegend\":false,\"x\":[0.6779261231422424,0.6504862904548645,0.5973038077354431,0.4890565574169159,0.37283238768577576,0.3317716717720032,0.28309643268585205,0.22740349173545837,0.16571497917175293],\"y\":[0.6727927564150742,0.6429997836418467,0.5903464380371994,0.481348688697053,0.36717585560951477,0.3298241073874457,0.2820662951108589,0.22958875988297692,0.17519009706775965],\"type\":\"scatter\"},{\"mode\":\"markers+lines\",\"showlegend\":false,\"x\":[0.6740701198577881,0.6492074728012085,0.5927214622497559,0.48587891459465027,0.36779290437698364,0.32665446400642395,0.2781948149204254,0.2241746485233307,0.1644202172756195],\"y\":[0.6724485866687776,0.6426386764206864,0.590000720350714,0.48108271710094297,0.36701595092097744,0.3298604185880275,0.2824394322385158,0.23047419729154675,0.17668101067690686],\"type\":\"scatter\"},{\"mode\":\"markers+lines\",\"showlegend\":false,\"x\":[0.6757914423942566,0.6487852931022644,0.5936195850372314,0.48605191707611084,0.3686154782772064,0.3278941810131073,0.2791094481945038,0.2245277613401413,0.16499286890029907],\"y\":[0.6713400974555682,0.6412422174663422,0.5882373841611643,0.4786533747147374,0.3640582162973491,0.3264638800418335,0.2785690758930138,0.22833701415106064,0.1754129569360988],\"type\":\"scatter\"},{\"mode\":\"markers+lines\",\"showlegend\":false,\"x\":[0.675780177116394,0.6489720344543457,0.59423828125,0.4864066243171692,0.37006404995918274,0.32933610677719116,0.28048086166381836,0.22533667087554932,0.1653611660003662],\"y\":[0.6714900998467473,0.6412714906008999,0.587675214602408,0.4768454247491837,0.3595510454535447,0.32040259719932257,0.27125284722331905,0.22031586785891943,0.16412443656993123],\"type\":\"scatter\"},{\"mode\":\"markers+lines\",\"showlegend\":false,\"x\":[0.6760802268981934,0.6498664617538452,0.5950889587402344,0.4871775507926941,0.371376097202301,0.33010953664779663,0.2813703417778015,0.22597119212150574,0.1652887463569641],\"y\":[0.6724809109355062,0.6425092081179636,0.5892950182402,0.47953506977130567,0.36407379918359256,0.3257063609531635,0.2773809457311437,0.22492830497389754,0.16843760223841958],\"type\":\"scatter\"},{\"mode\":\"markers+lines\",\"showlegend\":false,\"x\":[0.6741483807563782,0.6473180651664734,0.5901299715042114,0.48294398188591003,0.3653671443462372,0.32490479946136475,0.2760889232158661,0.22230461239814758,0.16452859342098236],\"y\":[0.67088776568891,0.6406492045704466,0.5870458076307287,0.47668647258826924,0.3605547560130778,0.3217546142088708,0.2722878463133025,0.2236420498610271,0.16963782441397385],\"type\":\"scatter\"},{\"mode\":\"markers+lines\",\"showlegend\":false,\"x\":[0.6760945320129395,0.648948073387146,0.5942065715789795,0.4857991933822632,0.37055692076683044,0.3297746181488037,0.2807418704032898,0.22520515322685242,0.16551922261714935],\"y\":[0.6720073294415261,0.6417556966466256,0.5881623036888665,0.47787334398774595,0.36142693469071757,0.3226445266027849,0.27401786292818586,0.22192833805778678,0.16543887606289168],\"type\":\"scatter\"},{\"mode\":\"markers+lines\",\"showlegend\":false,\"x\":[0.6762899160385132,0.6503985524177551,0.5964130759239197,0.48748987913131714,0.3724517822265625,0.33092084527015686,0.2820458710193634,0.2262391746044159,0.1654333472251892],\"y\":[0.6724829087982293,0.6426644831269284,0.58966955535905,0.48113159281681755,0.36802482705766326,0.3309129491955928,0.28301629478965595,0.23095708770677922,0.17605002155753466],\"type\":\"scatter\"},{\"mode\":\"markers+lines\",\"showlegend\":false,\"x\":[0.6745263338088989,0.6486717462539673,0.5929034352302551,0.48467516899108887,0.3682343065738678,0.32719099521636963,0.2782362103462219,0.22356054186820984,0.16476896405220032],\"y\":[0.6703207006571748,0.6398463618610519,0.5857562758114998,0.47436258814123744,0.35726137193331114,0.3178018871009553,0.26973002995658885,0.21995895344782107,0.1640114546556944],\"type\":\"scatter\"}],                        {\"template\":{\"data\":{\"barpolar\":[{\"marker\":{\"line\":{\"color\":\"white\",\"width\":0.5},\"pattern\":{\"fillmode\":\"overlay\",\"size\":10,\"solidity\":0.2}},\"type\":\"barpolar\"}],\"bar\":[{\"error_x\":{\"color\":\"rgb(36,36,36)\"},\"error_y\":{\"color\":\"rgb(36,36,36)\"},\"marker\":{\"line\":{\"color\":\"white\",\"width\":0.5},\"pattern\":{\"fillmode\":\"overlay\",\"size\":10,\"solidity\":0.2}},\"type\":\"bar\"}],\"carpet\":[{\"aaxis\":{\"endlinecolor\":\"rgb(36,36,36)\",\"gridcolor\":\"white\",\"linecolor\":\"white\",\"minorgridcolor\":\"white\",\"startlinecolor\":\"rgb(36,36,36)\"},\"baxis\":{\"endlinecolor\":\"rgb(36,36,36)\",\"gridcolor\":\"white\",\"linecolor\":\"white\",\"minorgridcolor\":\"white\",\"startlinecolor\":\"rgb(36,36,36)\"},\"type\":\"carpet\"}],\"choropleth\":[{\"colorbar\":{\"outlinewidth\":1,\"tickcolor\":\"rgb(36,36,36)\",\"ticks\":\"outside\"},\"type\":\"choropleth\"}],\"contourcarpet\":[{\"colorbar\":{\"outlinewidth\":1,\"tickcolor\":\"rgb(36,36,36)\",\"ticks\":\"outside\"},\"type\":\"contourcarpet\"}],\"contour\":[{\"colorbar\":{\"outlinewidth\":1,\"tickcolor\":\"rgb(36,36,36)\",\"ticks\":\"outside\"},\"colorscale\":[[0.0,\"#440154\"],[0.1111111111111111,\"#482878\"],[0.2222222222222222,\"#3e4989\"],[0.3333333333333333,\"#31688e\"],[0.4444444444444444,\"#26828e\"],[0.5555555555555556,\"#1f9e89\"],[0.6666666666666666,\"#35b779\"],[0.7777777777777778,\"#6ece58\"],[0.8888888888888888,\"#b5de2b\"],[1.0,\"#fde725\"]],\"type\":\"contour\"}],\"heatmapgl\":[{\"colorbar\":{\"outlinewidth\":1,\"tickcolor\":\"rgb(36,36,36)\",\"ticks\":\"outside\"},\"colorscale\":[[0.0,\"#440154\"],[0.1111111111111111,\"#482878\"],[0.2222222222222222,\"#3e4989\"],[0.3333333333333333,\"#31688e\"],[0.4444444444444444,\"#26828e\"],[0.5555555555555556,\"#1f9e89\"],[0.6666666666666666,\"#35b779\"],[0.7777777777777778,\"#6ece58\"],[0.8888888888888888,\"#b5de2b\"],[1.0,\"#fde725\"]],\"type\":\"heatmapgl\"}],\"heatmap\":[{\"colorbar\":{\"outlinewidth\":1,\"tickcolor\":\"rgb(36,36,36)\",\"ticks\":\"outside\"},\"colorscale\":[[0.0,\"#440154\"],[0.1111111111111111,\"#482878\"],[0.2222222222222222,\"#3e4989\"],[0.3333333333333333,\"#31688e\"],[0.4444444444444444,\"#26828e\"],[0.5555555555555556,\"#1f9e89\"],[0.6666666666666666,\"#35b779\"],[0.7777777777777778,\"#6ece58\"],[0.8888888888888888,\"#b5de2b\"],[1.0,\"#fde725\"]],\"type\":\"heatmap\"}],\"histogram2dcontour\":[{\"colorbar\":{\"outlinewidth\":1,\"tickcolor\":\"rgb(36,36,36)\",\"ticks\":\"outside\"},\"colorscale\":[[0.0,\"#440154\"],[0.1111111111111111,\"#482878\"],[0.2222222222222222,\"#3e4989\"],[0.3333333333333333,\"#31688e\"],[0.4444444444444444,\"#26828e\"],[0.5555555555555556,\"#1f9e89\"],[0.6666666666666666,\"#35b779\"],[0.7777777777777778,\"#6ece58\"],[0.8888888888888888,\"#b5de2b\"],[1.0,\"#fde725\"]],\"type\":\"histogram2dcontour\"}],\"histogram2d\":[{\"colorbar\":{\"outlinewidth\":1,\"tickcolor\":\"rgb(36,36,36)\",\"ticks\":\"outside\"},\"colorscale\":[[0.0,\"#440154\"],[0.1111111111111111,\"#482878\"],[0.2222222222222222,\"#3e4989\"],[0.3333333333333333,\"#31688e\"],[0.4444444444444444,\"#26828e\"],[0.5555555555555556,\"#1f9e89\"],[0.6666666666666666,\"#35b779\"],[0.7777777777777778,\"#6ece58\"],[0.8888888888888888,\"#b5de2b\"],[1.0,\"#fde725\"]],\"type\":\"histogram2d\"}],\"histogram\":[{\"marker\":{\"line\":{\"color\":\"white\",\"width\":0.6}},\"type\":\"histogram\"}],\"mesh3d\":[{\"colorbar\":{\"outlinewidth\":1,\"tickcolor\":\"rgb(36,36,36)\",\"ticks\":\"outside\"},\"type\":\"mesh3d\"}],\"parcoords\":[{\"line\":{\"colorbar\":{\"outlinewidth\":1,\"tickcolor\":\"rgb(36,36,36)\",\"ticks\":\"outside\"}},\"type\":\"parcoords\"}],\"pie\":[{\"automargin\":true,\"type\":\"pie\"}],\"scatter3d\":[{\"line\":{\"colorbar\":{\"outlinewidth\":1,\"tickcolor\":\"rgb(36,36,36)\",\"ticks\":\"outside\"}},\"marker\":{\"colorbar\":{\"outlinewidth\":1,\"tickcolor\":\"rgb(36,36,36)\",\"ticks\":\"outside\"}},\"type\":\"scatter3d\"}],\"scattercarpet\":[{\"marker\":{\"colorbar\":{\"outlinewidth\":1,\"tickcolor\":\"rgb(36,36,36)\",\"ticks\":\"outside\"}},\"type\":\"scattercarpet\"}],\"scattergeo\":[{\"marker\":{\"colorbar\":{\"outlinewidth\":1,\"tickcolor\":\"rgb(36,36,36)\",\"ticks\":\"outside\"}},\"type\":\"scattergeo\"}],\"scattergl\":[{\"marker\":{\"colorbar\":{\"outlinewidth\":1,\"tickcolor\":\"rgb(36,36,36)\",\"ticks\":\"outside\"}},\"type\":\"scattergl\"}],\"scattermapbox\":[{\"marker\":{\"colorbar\":{\"outlinewidth\":1,\"tickcolor\":\"rgb(36,36,36)\",\"ticks\":\"outside\"}},\"type\":\"scattermapbox\"}],\"scatterpolargl\":[{\"marker\":{\"colorbar\":{\"outlinewidth\":1,\"tickcolor\":\"rgb(36,36,36)\",\"ticks\":\"outside\"}},\"type\":\"scatterpolargl\"}],\"scatterpolar\":[{\"marker\":{\"colorbar\":{\"outlinewidth\":1,\"tickcolor\":\"rgb(36,36,36)\",\"ticks\":\"outside\"}},\"type\":\"scatterpolar\"}],\"scatter\":[{\"fillpattern\":{\"fillmode\":\"overlay\",\"size\":10,\"solidity\":0.2},\"type\":\"scatter\"}],\"scatterternary\":[{\"marker\":{\"colorbar\":{\"outlinewidth\":1,\"tickcolor\":\"rgb(36,36,36)\",\"ticks\":\"outside\"}},\"type\":\"scatterternary\"}],\"surface\":[{\"colorbar\":{\"outlinewidth\":1,\"tickcolor\":\"rgb(36,36,36)\",\"ticks\":\"outside\"},\"colorscale\":[[0.0,\"#440154\"],[0.1111111111111111,\"#482878\"],[0.2222222222222222,\"#3e4989\"],[0.3333333333333333,\"#31688e\"],[0.4444444444444444,\"#26828e\"],[0.5555555555555556,\"#1f9e89\"],[0.6666666666666666,\"#35b779\"],[0.7777777777777778,\"#6ece58\"],[0.8888888888888888,\"#b5de2b\"],[1.0,\"#fde725\"]],\"type\":\"surface\"}],\"table\":[{\"cells\":{\"fill\":{\"color\":\"rgb(237,237,237)\"},\"line\":{\"color\":\"white\"}},\"header\":{\"fill\":{\"color\":\"rgb(217,217,217)\"},\"line\":{\"color\":\"white\"}},\"type\":\"table\"}]},\"layout\":{\"annotationdefaults\":{\"arrowhead\":0,\"arrowwidth\":1},\"autotypenumbers\":\"strict\",\"coloraxis\":{\"colorbar\":{\"outlinewidth\":1,\"tickcolor\":\"rgb(36,36,36)\",\"ticks\":\"outside\"}},\"colorscale\":{\"diverging\":[[0.0,\"rgb(103,0,31)\"],[0.1,\"rgb(178,24,43)\"],[0.2,\"rgb(214,96,77)\"],[0.3,\"rgb(244,165,130)\"],[0.4,\"rgb(253,219,199)\"],[0.5,\"rgb(247,247,247)\"],[0.6,\"rgb(209,229,240)\"],[0.7,\"rgb(146,197,222)\"],[0.8,\"rgb(67,147,195)\"],[0.9,\"rgb(33,102,172)\"],[1.0,\"rgb(5,48,97)\"]],\"sequential\":[[0.0,\"#440154\"],[0.1111111111111111,\"#482878\"],[0.2222222222222222,\"#3e4989\"],[0.3333333333333333,\"#31688e\"],[0.4444444444444444,\"#26828e\"],[0.5555555555555556,\"#1f9e89\"],[0.6666666666666666,\"#35b779\"],[0.7777777777777778,\"#6ece58\"],[0.8888888888888888,\"#b5de2b\"],[1.0,\"#fde725\"]],\"sequentialminus\":[[0.0,\"#440154\"],[0.1111111111111111,\"#482878\"],[0.2222222222222222,\"#3e4989\"],[0.3333333333333333,\"#31688e\"],[0.4444444444444444,\"#26828e\"],[0.5555555555555556,\"#1f9e89\"],[0.6666666666666666,\"#35b779\"],[0.7777777777777778,\"#6ece58\"],[0.8888888888888888,\"#b5de2b\"],[1.0,\"#fde725\"]]},\"colorway\":[\"#1F77B4\",\"#FF7F0E\",\"#2CA02C\",\"#D62728\",\"#9467BD\",\"#8C564B\",\"#E377C2\",\"#7F7F7F\",\"#BCBD22\",\"#17BECF\"],\"font\":{\"color\":\"rgb(36,36,36)\"},\"geo\":{\"bgcolor\":\"white\",\"lakecolor\":\"white\",\"landcolor\":\"white\",\"showlakes\":true,\"showland\":true,\"subunitcolor\":\"white\"},\"hoverlabel\":{\"align\":\"left\"},\"hovermode\":\"closest\",\"mapbox\":{\"style\":\"light\"},\"paper_bgcolor\":\"white\",\"plot_bgcolor\":\"white\",\"polar\":{\"angularaxis\":{\"gridcolor\":\"rgb(232,232,232)\",\"linecolor\":\"rgb(36,36,36)\",\"showgrid\":false,\"showline\":true,\"ticks\":\"outside\"},\"bgcolor\":\"white\",\"radialaxis\":{\"gridcolor\":\"rgb(232,232,232)\",\"linecolor\":\"rgb(36,36,36)\",\"showgrid\":false,\"showline\":true,\"ticks\":\"outside\"}},\"scene\":{\"xaxis\":{\"backgroundcolor\":\"white\",\"gridcolor\":\"rgb(232,232,232)\",\"gridwidth\":2,\"linecolor\":\"rgb(36,36,36)\",\"showbackground\":true,\"showgrid\":false,\"showline\":true,\"ticks\":\"outside\",\"zeroline\":false,\"zerolinecolor\":\"rgb(36,36,36)\"},\"yaxis\":{\"backgroundcolor\":\"white\",\"gridcolor\":\"rgb(232,232,232)\",\"gridwidth\":2,\"linecolor\":\"rgb(36,36,36)\",\"showbackground\":true,\"showgrid\":false,\"showline\":true,\"ticks\":\"outside\",\"zeroline\":false,\"zerolinecolor\":\"rgb(36,36,36)\"},\"zaxis\":{\"backgroundcolor\":\"white\",\"gridcolor\":\"rgb(232,232,232)\",\"gridwidth\":2,\"linecolor\":\"rgb(36,36,36)\",\"showbackground\":true,\"showgrid\":false,\"showline\":true,\"ticks\":\"outside\",\"zeroline\":false,\"zerolinecolor\":\"rgb(36,36,36)\"}},\"shapedefaults\":{\"fillcolor\":\"black\",\"line\":{\"width\":0},\"opacity\":0.3},\"ternary\":{\"aaxis\":{\"gridcolor\":\"rgb(232,232,232)\",\"linecolor\":\"rgb(36,36,36)\",\"showgrid\":false,\"showline\":true,\"ticks\":\"outside\"},\"baxis\":{\"gridcolor\":\"rgb(232,232,232)\",\"linecolor\":\"rgb(36,36,36)\",\"showgrid\":false,\"showline\":true,\"ticks\":\"outside\"},\"bgcolor\":\"white\",\"caxis\":{\"gridcolor\":\"rgb(232,232,232)\",\"linecolor\":\"rgb(36,36,36)\",\"showgrid\":false,\"showline\":true,\"ticks\":\"outside\"}},\"title\":{\"x\":0.05},\"xaxis\":{\"automargin\":true,\"gridcolor\":\"rgb(232,232,232)\",\"linecolor\":\"rgb(36,36,36)\",\"showgrid\":false,\"showline\":true,\"ticks\":\"outside\",\"title\":{\"standoff\":15},\"zeroline\":false,\"zerolinecolor\":\"rgb(36,36,36)\"},\"yaxis\":{\"automargin\":true,\"gridcolor\":\"rgb(232,232,232)\",\"linecolor\":\"rgb(36,36,36)\",\"showgrid\":false,\"showline\":true,\"ticks\":\"outside\",\"title\":{\"standoff\":15},\"zeroline\":false,\"zerolinecolor\":\"rgb(36,36,36)\"}}},\"yaxis\":{\"title\":{\"text\":\"Normalized Voltage Target\"}},\"xaxis\":{\"title\":{\"text\":\"Normalized Voltage Prediction\"}},\"height\":500},                        {\"responsive\": true}                    ).then(function(){\n",
       "                            \n",
       "var gd = document.getElementById('9e7f6f76-804c-4fc4-b2ac-e5bbbfb0f0d6');\n",
       "var x = new MutationObserver(function (mutations, observer) {{\n",
       "        var display = window.getComputedStyle(gd).display;\n",
       "        if (!display || display === 'none') {{\n",
       "            console.log([gd, 'removed!']);\n",
       "            Plotly.purge(gd);\n",
       "            observer.disconnect();\n",
       "        }}\n",
       "}});\n",
       "\n",
       "// Listen for the removal of the full notebook cells\n",
       "var notebookContainer = gd.closest('#notebook-container');\n",
       "if (notebookContainer) {{\n",
       "    x.observe(notebookContainer, {childList: true});\n",
       "}}\n",
       "\n",
       "// Listen for the clearing of the current output cell\n",
       "var outputEl = gd.closest('.output');\n",
       "if (outputEl) {{\n",
       "    x.observe(outputEl, {childList: true});\n",
       "}}\n",
       "\n",
       "                        })                };                });            </script>        </div>"
      ]
     },
     "metadata": {},
     "output_type": "display_data"
    }
   ],
   "source": [
    "fig = go.Figure()\n",
    "fig.add_trace(go.Scatter(x=[0, 1], y=[0, 1], showlegend=False, mode=\"markers+lines\"))\n",
    "for i in range(0, len(datasets[\"X_test\"]), batch_size * skip):\n",
    "    df_pred = pd.DataFrame(model.predict(datasets[\"X_test\"][i : i + batch_size], verbose=0)[:, :, 2])\n",
    "    df_train = pd.DataFrame(datasets[\"y_test\"][i : i + batch_size][:, :, 2])\n",
    "    fig.add_trace(\n",
    "        go.Scatter(\n",
    "            x=df_pred.values[0],\n",
    "            y=df_train.values[0],\n",
    "            showlegend=False,\n",
    "            mode=\"markers+lines\",\n",
    "        )\n",
    "    )\n",
    "\n",
    "fig.update_yaxes(title=\"Normalized Voltage Target\")\n",
    "fig.update_xaxes(title=\"Normalized Voltage Prediction\")\n",
    "fig.update_layout(template=\"simple_white\")\n",
    "fig.update_layout(height=500)"
   ]
  },
  {
   "cell_type": "markdown",
   "id": "cccca096",
   "metadata": {},
   "source": [
    "## True vs Predicted Traces (Train Set)"
   ]
  },
  {
   "cell_type": "code",
   "execution_count": 27,
   "id": "04ee207b",
   "metadata": {},
   "outputs": [],
   "source": [
    "symbol_list = [\"circle-open\", \"circle\", \"triangle-up\"]\n",
    "pallete = plotly.colors.qualitative.Dark24 + plotly.colors.qualitative.T10\n",
    "pallete = pallete*70000"
   ]
  },
  {
   "cell_type": "code",
   "execution_count": 28,
   "id": "f27c9609",
   "metadata": {},
   "outputs": [],
   "source": [
    "train_cell_ids = list(datasets['original_train']['Cell'].unique())\n",
    "test_cell_ids = list(datasets['original_test']['Cell'].unique())\n",
    "val_cell_ids = list(datasets['original_val']['Cell'].unique())"
   ]
  },
  {
   "cell_type": "code",
   "execution_count": 29,
   "id": "b0d52487-61e3-4c03-8a96-1267faf75348",
   "metadata": {},
   "outputs": [
    {
     "name": "stdout",
     "output_type": "stream",
     "text": [
      "1177\n"
     ]
    },
    {
     "data": {
      "image/png": "[encoded data removed]",
      "text/plain": [
       "<Figure size 850x350 with 2 Axes>"
      ]
     },
     "metadata": {},
     "output_type": "display_data"
    },
    {
     "data": {
      "image/png": "[encoded data removed]",
      "text/plain": [
       "<Figure size 850x350 with 2 Axes>"
      ]
     },
     "metadata": {},
     "output_type": "display_data"
    },
    {
     "data": {
      "image/png": "[encoded data removed]",
      "text/plain": [
       "<Figure size 850x350 with 2 Axes>"
      ]
     },
     "metadata": {},
     "output_type": "display_data"
    },
    {
     "data": {
      "image/png": "[encoded data removed]",
      "text/plain": [
       "<Figure size 850x350 with 2 Axes>"
      ]
     },
     "metadata": {},
     "output_type": "display_data"
    },
    {
     "data": {
      "image/png": "[encoded data removed]",
      "text/plain": [
       "<Figure size 850x350 with 2 Axes>"
      ]
     },
     "metadata": {},
     "output_type": "display_data"
    }
   ],
   "source": [
    "full_data_cycle_no = datasets['original_train'].Cycle\n",
    "print(max(full_data_cycle_no))\n",
    "\n",
    "cycle_plots = [1, 100, 300, 500, 1000] \n",
    "\n",
    "for cycle_plot in cycle_plots:\n",
    "    input = datasets[\"X_train\"][cycle_plot-1:cycle_plot]\n",
    "    # print(input.shape)\n",
    "    output = model.predict(input, verbose=0)\n",
    "    # print(output.shape)\n",
    "    \n",
    "    # print(datasets['original_train'].keys())\n",
    "    full_data_V = datasets['original_train'].V\n",
    "    full_data_Qd = datasets['original_train'].Qd\n",
    "    full_data_T = datasets['original_train'].temp\n",
    "    \n",
    "    from constants import REFERENCE_DISCHARGE_CAPACITIES as Q_output\n",
    "    # print(full_data)\n",
    "    import matplotlib.pyplot as plt\n",
    "    Q_input = input[0][:, 1]\n",
    "    # print(full_data_Qd[:20000])\n",
    "    idx = full_data_cycle_no == cycle_plot\n",
    "    # print(idx)\n",
    "    # print(full_data_cycle_no)\n",
    "    fig, (ax1, ax2) = plt.subplots(1, 2)\n",
    "    fig.set_size_inches(8.5, 3.5)\n",
    "    fig.suptitle(str(cycle_plot))\n",
    "    \n",
    "    # print(Q_input, Q_output[9:12])\n",
    "    ax1.scatter(full_data_Qd[idx], full_data_V[idx])\n",
    "    ax1.scatter(Q_input, input[0][:,2]*(VOLTAGE_MAX - VOLTAGE_MIN) + VOLTAGE_MIN)\n",
    "    ax1.scatter(Q_output[9:18], output[0][:, 2]*(VOLTAGE_MAX - VOLTAGE_MIN) + VOLTAGE_MIN)\n",
    "    # plt.scatter(Q_input[11:], output[0][:, 2]*(VOLTAGE_MAX - VOLTAGE_MIN) + VOLTAGE_MIN)\n",
    "    \n",
    "    \n",
    "    # plt.figure()\n",
    "    ax2.scatter(full_data_Qd[idx], full_data_T[idx])\n",
    "    ax2.scatter(Q_input, input[0][:, 0]*(TEMPERATURE_MAX - TEMPERATURE_MIN) + TEMPERATURE_MIN)\n",
    "    ax2.scatter(Q_output[9:18], output[0][:, 0]*(TEMPERATURE_MAX - TEMPERATURE_MIN) + TEMPERATURE_MIN)\n",
    "    # plt.title(str(cycle_plot))\n",
    "    # plt.show()\n",
    "    # plt.clf()\n",
    "    # plt.ylim(0, 50)\n",
    "    "
   ]
  },
  {
   "cell_type": "code",
   "execution_count": 30,
   "id": "19244e65-3e93-4943-94ba-a931cb2f65f0",
   "metadata": {},
   "outputs": [
    {
     "name": "stdout",
     "output_type": "stream",
     "text": [
      "1188\n"
     ]
    },
    {
     "data": {
      "image/png": "[encoded data removed]",
      "text/plain": [
       "<Figure size 850x350 with 2 Axes>"
      ]
     },
     "metadata": {},
     "output_type": "display_data"
    },
    {
     "data": {
      "image/png": "[encoded data removed]",
      "text/plain": [
       "<Figure size 850x350 with 2 Axes>"
      ]
     },
     "metadata": {},
     "output_type": "display_data"
    },
    {
     "data": {
      "image/png": "[encoded data removed]",
      "text/plain": [
       "<Figure size 850x350 with 2 Axes>"
      ]
     },
     "metadata": {},
     "output_type": "display_data"
    },
    {
     "data": {
      "image/png": "[encoded data removed]",
      "text/plain": [
       "<Figure size 850x350 with 2 Axes>"
      ]
     },
     "metadata": {},
     "output_type": "display_data"
    },
    {
     "data": {
      "image/png": "[encoded data removed]",
      "text/plain": [
       "<Figure size 850x350 with 2 Axes>"
      ]
     },
     "metadata": {},
     "output_type": "display_data"
    }
   ],
   "source": [
    "full_data_cycle_no = datasets['original_test'].Cycle\n",
    "print(max(full_data_cycle_no))\n",
    "\n",
    "cycle_plots = [1, 100, 300, 500, 1000] \n",
    "\n",
    "for cycle_plot in cycle_plots:\n",
    "    input = datasets[\"X_test\"][cycle_plot-1:cycle_plot]\n",
    "    # print(input.shape)\n",
    "    output = model.predict(input, verbose=0)\n",
    "    # print(output.shape)\n",
    "    \n",
    "    # print(datasets['original_train'].keys())\n",
    "    full_data_V = datasets['original_test'].V\n",
    "    full_data_Qd = datasets['original_test'].Qd\n",
    "    full_data_T = datasets['original_test'].temp\n",
    "    \n",
    "    from constants import REFERENCE_DISCHARGE_CAPACITIES as Q_output\n",
    "    # print(full_data)\n",
    "    import matplotlib.pyplot as plt\n",
    "    Q_input = input[0][:, 1]\n",
    "    # print(full_data_Qd[:20000])\n",
    "    idx = full_data_cycle_no == cycle_plot\n",
    "    # print(idx)\n",
    "    # print(full_data_cycle_no)\n",
    "    fig, (ax1, ax2) = plt.subplots(1, 2)\n",
    "    fig.set_size_inches(8.5, 3.5)\n",
    "    fig.suptitle(str(cycle_plot))\n",
    "    # print(Q_input, Q_output[9:18])\n",
    "    \n",
    "    ax1.scatter(full_data_Qd[idx], full_data_V[idx])\n",
    "    ax1.scatter(Q_input, input[0][:,2]*(VOLTAGE_MAX - VOLTAGE_MIN) + VOLTAGE_MIN)\n",
    "    ax1.scatter(Q_output[9:18], output[0][:, 2]*(VOLTAGE_MAX - VOLTAGE_MIN) + VOLTAGE_MIN)\n",
    "    # print(datasets[\"y_test\"][cycle_plot-1:cycle_plot][0][:, 1], Q_output[9:18])\n",
    "    \n",
    "    \n",
    "    # plt.figure()\n",
    "    ax2.scatter(full_data_Qd[idx], full_data_T[idx])\n",
    "    ax2.scatter(Q_input, input[0][:, 0]*(TEMPERATURE_MAX - TEMPERATURE_MIN) + TEMPERATURE_MIN)\n",
    "    ax2.scatter(Q_output[9:18], output[0][:, 0]*(TEMPERATURE_MAX - TEMPERATURE_MIN) + TEMPERATURE_MIN)\n",
    "    # plt.title(str(cycle_plot))\n",
    "    # plt.show()\n",
    "    # plt.clf()\n",
    "    # plt.ylim(0, 50)\n",
    "    "
   ]
  },
  {
   "cell_type": "code",
   "execution_count": null,
   "id": "c9f7d9f3",
   "metadata": {},
   "outputs": [],
   "source": [
    "skip = 500\n",
    "train_cell_id_idx = 0\n",
    "last_cycle = 1\n",
    "current_cycle = 1\n",
    "opacity_list = [1, 0.6, 0.3]\n",
    "fig = go.Figure()\n",
    "\n",
    "# print(model(datasets[\"X_train\"]))\n",
    "\n",
    "for i in range(0, len(datasets[\"X_train\"]), skip):\n",
    "    df_true = pd.DataFrame(datasets[\"y_train\"][i][:, 2])\n",
    "    \n",
    "    last_cycle = current_cycle\n",
    "    current_cycle = int(datasets[\"X_train\"][i][0][-1]*MAX_CYCLE)\n",
    "    if current_cycle>740:\n",
    "        continue\n",
    "    if last_cycle> current_cycle:\n",
    "        train_cell_id_idx += 1\n",
    "    cell_id = train_cell_ids[train_cell_id_idx]\n",
    "    original_df = datasets[\"original_train\"]\n",
    "    original_df= original_df[original_df.Cycle==current_cycle]\n",
    "    original_df= original_df[original_df.Cell==cell_id]\n",
    "    original_df = original_df[original_df.I < MAX_DISCHARGE_CURRENT]\n",
    "    original_df = original_df[original_df.I > MIN_DISCHARGE_CURRENT]\n",
    "\n",
    "    original_df['Qd'] = (original_df['Qd']-original_df['Qd'].min())/(original_df['Qd'].max()-original_df['Qd'].min())\n",
    "\n",
    "    if len(original_df)< 2:\n",
    "        continue\n",
    "    q_new = original_df.Qd.values\n",
    "    t_new = original_df['t'].values\n",
    "    time_interpolator = interp1d(x = q_new,  y = t_new, fill_value=\"extrapolate\")\n",
    "    \n",
    "    # print(model.predict(datasets[\"X_train\"][i : i + 7], verbose=0), i)\n",
    "    for j in range(1):\n",
    "        df_pred = pd.DataFrame(model.predict(datasets[\"X_train\"][i:i+1], verbose=0)[:, 2])\n",
    "    \n",
    "        ref_capacities_wrt_nf = REFERENCE_DISCHARGE_CAPACITIES[9:18]\n",
    "        print(len(df_pred.values))\n",
    "        prediction_interpolator = interp1d(x = ref_capacities_wrt_nf, \n",
    "                                           y = df_pred[0].values*(VOLTAGE_MAX - VOLTAGE_MIN) + VOLTAGE_MIN,\n",
    "                                          )\n",
    "        \n",
    "        q_j = q_new[q_new>= min(REFERENCE_DISCHARGE_CAPACITIES[9:18])]\n",
    "        q_j = q_j[q_j<= max(REFERENCE_DISCHARGE_CAPACITIES[9:18])]\n",
    "        t_interp = time_interpolator(REFERENCE_DISCHARGE_CAPACITIES[9:18])\n",
    "        # if j==0:\n",
    "        #     q_j0 = q_j\n",
    "        V_pred = prediction_interpolator(q_j)\n",
    "        fig.add_trace(\n",
    "            go.Scatter(\n",
    "                x=time_interpolator(q_j),\n",
    "                y=V_pred,\n",
    "                showlegend=True,\n",
    "                mode=\"lines\",\n",
    "                line_dash=\"dash\",\n",
    "                name = \"Interpolated Predictions\",\n",
    "                marker_color=pallete[i],\n",
    "                opacity=opacity_list[j]\n",
    "            )\n",
    "        )\n",
    "        \n",
    "        fig.add_trace(\n",
    "            go.Scatter(\n",
    "                x=time_interpolator(ref_capacities_wrt_nf),\n",
    "                y=df_pred[0].values*(VOLTAGE_MAX - VOLTAGE_MIN) + VOLTAGE_MIN,\n",
    "                showlegend=True,\n",
    "                mode=\"markers\",\n",
    "                name = f\"Predictions Forecast Horizon {j+1}\",\n",
    "                marker_color=pallete[i],\n",
    "                marker_symbol = symbol_list[j],\n",
    "                marker_size=8,\n",
    "                marker_opacity=opacity_list[j]\n",
    "            )\n",
    "        )\n",
    "\n",
    "    odf = original_df[original_df.Qd > q_j0.min()]\n",
    "    odf = odf[odf.Qd < q_j.max()]\n",
    "    fig.add_trace(\n",
    "        go.Scatter(\n",
    "            x=odf['t'],\n",
    "            y=odf['V'],\n",
    "            showlegend=True,\n",
    "            mode=\"lines\",\n",
    "            name = f\"{cell_id} Cycle {current_cycle}\",\n",
    "            line_color=pallete[i]\n",
    "        )\n",
    "    )\n",
    "\n",
    "\n",
    "fig.update_yaxes(title=\"Voltage [V]\", showgrid=True)\n",
    "fig.update_xaxes(title=\"Times (min)\", showgrid=True)\n",
    "fig.update_layout(template=\"simple_white\")\n",
    "fig.update_layout(height=500)"
   ]
  },
  {
   "cell_type": "code",
   "execution_count": null,
   "id": "668749a7",
   "metadata": {},
   "outputs": [],
   "source": [
    "train_cell_id_idx = 0\n",
    "last_cycle = 1\n",
    "current_cycle = 1\n",
    "\n",
    "fig = go.Figure()\n",
    "for i in range(0, len(datasets[\"X_train\"]), batch_size * skip):\n",
    "    df_true = pd.DataFrame(datasets[\"y_train\"][i : i + batch_size][:, 0, 1])\n",
    "    \n",
    "    last_cycle = current_cycle\n",
    "    current_cycle = int(datasets[\"X_train\"][i : i + batch_size][0][0][-1]*MAX_CYCLE)\n",
    "    if current_cycle>740:\n",
    "        continue\n",
    "    if last_cycle> current_cycle:\n",
    "        train_cell_id_idx += 1\n",
    "        \n",
    "    cell_id = train_cell_ids[train_cell_id_idx]\n",
    "    original_df = datasets[\"original_train\"]\n",
    "\n",
    "    original_df= original_df[original_df.Cycle==current_cycle]\n",
    "    original_df= original_df[original_df.Cell==cell_id]\n",
    "    original_df = original_df[original_df.I < MAX_DISCHARGE_CURRENT]\n",
    "    original_df = original_df[original_df.I > MIN_DISCHARGE_CURRENT]\n",
    "\n",
    "    original_df['Qd'] = (original_df['Qd']-original_df['Qd'].min())/(original_df['Qd'].max()-original_df['Qd'].min())\n",
    "\n",
    "    if len(original_df)< 2:\n",
    "        continue\n",
    "    q_new = original_df.Qd.values\n",
    "    t_new = original_df['t'].values\n",
    "    time_interpolator = interp1d(x = q_new,  y = t_new, fill_value=\"extrapolate\")\n",
    "    \n",
    "    \n",
    "    for j in range(1):\n",
    "        df_pred = pd.DataFrame(model.predict(datasets[\"X_train\"][i : i + batch_size], verbose=0)[:, j, 1])\n",
    "    \n",
    "        ref_capacities_wrt_nf = REFERENCE_DISCHARGE_CAPACITIES[window_length+j:-nf_steps+j-1]\n",
    "\n",
    "        prediction_interpolator = interp1d(x = ref_capacities_wrt_nf, \n",
    "                                           y = df_pred[0].values*(TEMPERATURE_MAX - TEMPERATURE_MIN) + TEMPERATURE_MIN,\n",
    "                                           \n",
    "                                          )\n",
    "        \n",
    "        q_j = q_new[q_new>= min(REFERENCE_DISCHARGE_CAPACITIES[window_length+j:-nf_steps+j-1])]\n",
    "        q_j = q_j[q_j<= max(REFERENCE_DISCHARGE_CAPACITIES[window_length+j:-nf_steps+j-1])]\n",
    "        t_interp = time_interpolator(REFERENCE_DISCHARGE_CAPACITIES[window_length:-nf_steps-1])\n",
    "        if j==0:\n",
    "            q_j0 = q_j\n",
    "        V_pred = prediction_interpolator(q_j)\n",
    "        fig.add_trace(\n",
    "            go.Scatter(\n",
    "                x=time_interpolator(q_j),\n",
    "                y=V_pred,\n",
    "                showlegend=True,\n",
    "                mode=\"lines\",\n",
    "                line_dash=\"dash\",\n",
    "                name = \"Interpolated Predictions\",\n",
    "                marker_color=pallete[i//skip],\n",
    "                opacity=opacity_list[j]\n",
    "            )\n",
    "        )\n",
    "        \n",
    "        fig.add_trace(\n",
    "            go.Scatter(\n",
    "                x=time_interpolator(ref_capacities_wrt_nf),\n",
    "                y=df_pred[0].values*(TEMPERATURE_MAX - TEMPERATURE_MIN) + TEMPERATURE_MIN,\n",
    "                showlegend=True,\n",
    "                mode=\"markers\",\n",
    "                name = f\"Predictions Forecast Horizon {j+1}\",\n",
    "                marker_color=pallete[i//skip],\n",
    "                marker_symbol = symbol_list[j],\n",
    "                marker_size=8,\n",
    "            )\n",
    "        )\n",
    "\n",
    "\n",
    "    odf = original_df[original_df.Qd > q_j0.min()]\n",
    "    odf = odf[odf.Qd < q_j.max()]\n",
    "    fig.add_trace(\n",
    "        go.Scatter(\n",
    "            x=odf['t'],\n",
    "            y=odf['temp'],\n",
    "            showlegend=True,\n",
    "            mode=\"lines\",\n",
    "            name = f\"{cell_id} Cycle {current_cycle}\",\n",
    "            line_color=pallete[i//skip]\n",
    "        )\n",
    "    )\n",
    "\n",
    "\n",
    "fig.update_yaxes(title=\"Temperature [°C]\", showgrid=True)\n",
    "fig.update_xaxes(title=\"Times (min)\", showgrid=True)\n",
    "fig.update_layout(template=\"simple_white\")\n",
    "fig.update_layout(height=500)"
   ]
  },
  {
   "cell_type": "markdown",
   "id": "de10e402",
   "metadata": {},
   "source": [
    "## True vs Predicted Traces (Test Set)"
   ]
  },
  {
   "cell_type": "code",
   "execution_count": null,
   "id": "7ea8d343",
   "metadata": {},
   "outputs": [],
   "source": [
    "skip = 300\n",
    "test_cell_id_idx = 0\n",
    "last_cycle = 1\n",
    "current_cycle = 1\n",
    "opacity_list = [1, 0.6, 0.3]\n",
    "fig = go.Figure()\n",
    "for i in range(0, len(datasets[\"X_test\"]), batch_size * skip):\n",
    "    df_true = pd.DataFrame(datasets[\"y_test\"][i : i + batch_size][:, 0, 0])\n",
    "    \n",
    "    last_cycle = current_cycle\n",
    "    current_cycle = int(datasets[\"X_test\"][i : i + batch_size][0][0][-1]*MAX_CYCLE)\n",
    "\n",
    "    if last_cycle> current_cycle:\n",
    "        test_cell_id_idx += 1\n",
    "        \n",
    "    cell_id = test_cell_ids[test_cell_id_idx]\n",
    "    original_df = datasets[\"original_test\"]\n",
    "\n",
    "    original_df= original_df[original_df.Cycle==current_cycle]\n",
    "    original_df= original_df[original_df.Cell==cell_id]\n",
    "    original_df = original_df[original_df.I < MAX_DISCHARGE_CURRENT]\n",
    "    original_df = original_df[original_df.I > MIN_DISCHARGE_CURRENT]\n",
    "\n",
    "    original_df['Qd'] = (original_df['Qd']-original_df['Qd'].min())/(original_df['Qd'].max()-original_df['Qd'].min())\n",
    "\n",
    "    if len(original_df)< 2:\n",
    "        continue\n",
    "    q_new = original_df.Qd.values\n",
    "    t_new = original_df['t'].values\n",
    "    time_interpolator = interp1d(x = q_new,  y = t_new, fill_value=\"extrapolate\")\n",
    "    \n",
    "    \n",
    "    for j in range(nf_steps):\n",
    "        df_pred = pd.DataFrame(model.predict(datasets[\"X_test\"][i : i + batch_size], verbose=0)[:, j, 0])\n",
    "    \n",
    "        ref_capacities_wrt_nf = REFERENCE_DISCHARGE_CAPACITIES[window_length+j:-nf_steps+j-1]\n",
    "\n",
    "        prediction_interpolator = interp1d(x = ref_capacities_wrt_nf, \n",
    "                                           y = df_pred[0].values*(VOLTAGE_MAX - VOLTAGE_MIN) + VOLTAGE_MIN,\n",
    "                                           \n",
    "                                          )\n",
    "        \n",
    "        q_j = q_new[q_new>= min(REFERENCE_DISCHARGE_CAPACITIES[window_length+j:-nf_steps+j-1])]\n",
    "        q_j = q_j[q_j<= max(REFERENCE_DISCHARGE_CAPACITIES[window_length+j:-nf_steps+j-1])]\n",
    "        t_interp = time_interpolator(REFERENCE_DISCHARGE_CAPACITIES[window_length:-nf_steps-1])\n",
    "        if j==0:\n",
    "            q_j0 = q_j\n",
    "        V_pred = prediction_interpolator(q_j)\n",
    "        fig.add_trace(\n",
    "            go.Scatter(\n",
    "                x=time_interpolator(q_j),\n",
    "                y=V_pred,\n",
    "                showlegend=True,\n",
    "                mode=\"lines\",\n",
    "                line_dash=\"dash\",\n",
    "                name = \"Interpolated Predictions\",\n",
    "                marker_color=pallete[i//skip],\n",
    "                opacity=opacity_list[j]\n",
    "            )\n",
    "        )\n",
    "        \n",
    "        fig.add_trace(\n",
    "            go.Scatter(\n",
    "                x=time_interpolator(ref_capacities_wrt_nf),\n",
    "                y=df_pred[0].values*(VOLTAGE_MAX - VOLTAGE_MIN) + VOLTAGE_MIN,\n",
    "                showlegend=True,\n",
    "                mode=\"markers\",\n",
    "                name = f\"Predictions Forecast Horizon {j+1}\",\n",
    "                marker_color=pallete[i//skip],\n",
    "                marker_symbol = symbol_list[j],\n",
    "                marker_size=8,\n",
    "                marker_opacity=opacity_list[j]\n",
    "            )\n",
    "        )\n",
    "\n",
    "\n",
    "    odf = original_df[original_df.Qd > q_j0.min()]\n",
    "    odf = odf[odf.Qd < q_j.max()]\n",
    "    fig.add_trace(\n",
    "        go.Scatter(\n",
    "            x=odf['t'],\n",
    "            y=odf['V'],\n",
    "            showlegend=True,\n",
    "            mode=\"lines\",\n",
    "            name = f\"{cell_id} Cycle {current_cycle}\",\n",
    "            line_color=pallete[i//skip]\n",
    "        )\n",
    "    )\n",
    "\n",
    "\n",
    "fig.update_yaxes(title=\"Voltage [V]\", showgrid=True)\n",
    "fig.update_xaxes(title=\"Times (min)\", showgrid=True)\n",
    "fig.update_layout(template=\"simple_white\")"
   ]
  },
  {
   "cell_type": "code",
   "execution_count": null,
   "id": "066fe774",
   "metadata": {},
   "outputs": [],
   "source": [
    "test_cell_id_idx = 0\n",
    "last_cycle = 1\n",
    "current_cycle = 1\n",
    "\n",
    "fig = go.Figure()\n",
    "for i in range(0, len(datasets[\"X_test\"]), batch_size * skip):\n",
    "    \n",
    "    last_cycle = current_cycle\n",
    "    current_cycle = int(datasets[\"X_test\"][i : i + batch_size][0][0][-1]*MAX_CYCLE)\n",
    "    \n",
    "    if last_cycle> current_cycle:\n",
    "        test_cell_id_idx += 1\n",
    "        \n",
    "    cell_id = test_cell_ids[test_cell_id_idx]\n",
    "    original_df = datasets[\"original_test\"]\n",
    "\n",
    "    original_df= original_df[original_df.Cycle==current_cycle]\n",
    "    original_df= original_df[original_df.Cell==cell_id]\n",
    "    original_df = original_df[original_df.I < MAX_DISCHARGE_CURRENT]\n",
    "    original_df = original_df[original_df.I > MIN_DISCHARGE_CURRENT]\n",
    "\n",
    "    original_df['Qd'] = (original_df['Qd']-original_df['Qd'].min())/(original_df['Qd'].max()-original_df['Qd'].min())\n",
    "\n",
    "    if len(original_df)< 2:\n",
    "        continue\n",
    "    q_new = original_df.Qd.values\n",
    "    t_new = original_df['t'].values\n",
    "    time_interpolator = interp1d(x = q_new,  y = t_new, fill_value=\"extrapolate\")\n",
    "    \n",
    "    \n",
    "    for j in range(nf_steps):\n",
    "        df_pred = pd.DataFrame(model.predict(datasets[\"X_test\"][i : i + batch_size], verbose=0)[:, j, 1])\n",
    "    \n",
    "        ref_capacities_wrt_nf = REFERENCE_DISCHARGE_CAPACITIES[window_length+j:-nf_steps+j-1]\n",
    "\n",
    "        prediction_interpolator = interp1d(x = ref_capacities_wrt_nf, \n",
    "                                           y = df_pred[0].values*(TEMPERATURE_MAX - TEMPERATURE_MIN) + TEMPERATURE_MIN,\n",
    "                                           \n",
    "                                          )\n",
    "        \n",
    "        q_j = q_new[q_new>= min(REFERENCE_DISCHARGE_CAPACITIES[window_length+j:-nf_steps+j-1])]\n",
    "        q_j = q_j[q_j<= max(REFERENCE_DISCHARGE_CAPACITIES[window_length+j:-nf_steps+j-1])]\n",
    "        t_interp = time_interpolator(REFERENCE_DISCHARGE_CAPACITIES[window_length:-nf_steps-1])\n",
    "        if j==0:\n",
    "            q_j0 = q_j\n",
    "        V_pred = prediction_interpolator(q_j)\n",
    "        fig.add_trace(\n",
    "            go.Scatter(\n",
    "                x=time_interpolator(q_j),\n",
    "                y=V_pred,\n",
    "                showlegend=True,\n",
    "                mode=\"lines\",\n",
    "                line_dash=\"dash\",\n",
    "                name = \"Interpolated Predictions\",\n",
    "                marker_color=pallete[i//skip],\n",
    "                opacity=opacity_list[j]\n",
    "            )\n",
    "        )\n",
    "        \n",
    "        fig.add_trace(\n",
    "            go.Scatter(\n",
    "                x=time_interpolator(ref_capacities_wrt_nf),\n",
    "                y=df_pred[0].values*(TEMPERATURE_MAX - TEMPERATURE_MIN) + TEMPERATURE_MIN,\n",
    "                showlegend=True,\n",
    "                mode=\"markers\",\n",
    "                name = f\"Predictions Forecast Horizon {j+1}\",\n",
    "                marker_color=pallete[i//skip],\n",
    "                marker_symbol = symbol_list[j],\n",
    "                marker_size=8,\n",
    "#                 marker_opacity=opacity_list[j]\n",
    "            )\n",
    "        )\n",
    "\n",
    "\n",
    "    odf = original_df[original_df.Qd > q_j0.min()]\n",
    "    odf = odf[odf.Qd < q_j.max()]\n",
    "    fig.add_trace(\n",
    "        go.Scatter(\n",
    "            x=odf['t'],\n",
    "            y=odf['temp'],\n",
    "            showlegend=True,\n",
    "            mode=\"lines\",\n",
    "            name = f\"{cell_id} Cycle {current_cycle}\",\n",
    "            line_color=pallete[i//skip]\n",
    "        )\n",
    "    )\n",
    "\n",
    "\n",
    "fig.update_yaxes(title=\"Temperature [°C]\", showgrid=True)\n",
    "fig.update_xaxes(title=\"Times (min)\", showgrid=True)\n",
    "fig.update_layout(template=\"simple_white\")"
   ]
  },
  {
   "cell_type": "markdown",
   "id": "203822fc",
   "metadata": {},
   "source": [
    "## Metrics"
   ]
  },
  {
   "cell_type": "code",
   "execution_count": null,
   "id": "f9b4cf07",
   "metadata": {},
   "outputs": [],
   "source": [
    "def error_calculation(model, datasets, error_function):\n",
    "    results = {}\n",
    "    batch_size = datasets[\"batch_size\"]\n",
    "    n_outputs = datasets[\"y_train\"].shape[-1]\n",
    "    nf_steps = datasets[\"y_train\"].shape[1]\n",
    "    for dset in [\"train\", \"test\"]:\n",
    "        skip = 200 if dset == \"train\"  else 50\n",
    "        for output in range(n_outputs):\n",
    "            for step in range(nf_steps):\n",
    "                collector = []\n",
    "                for i in range(0, len(datasets[f\"X_{dset}\"]), batch_size*skip):\n",
    "                    true = datasets[f\"y_{dset}\"][i : i + batch_size][:, j, output]\n",
    "                    pred = model.predict(datasets[f\"X_{dset}\"][i : i + batch_size], verbose=0)[:, j, output]\n",
    "                    error = error_function(true, pred)\n",
    "                    collector.append(error)\n",
    "                results[f\"{dset}_output{output}_forecasthorizon{step}\"] =sum(collector)/len(collector)\n",
    "                         \n",
    "    return results"
   ]
  },
  {
   "cell_type": "code",
   "execution_count": null,
   "id": "3742c8ba",
   "metadata": {},
   "outputs": [],
   "source": [
    "root_mean_square_error = lambda y_true, y_pred : np.sqrt(((y_true - y_pred)**2).sum()/len(y_true))\n",
    "mean_absolute_error = lambda y_true, y_pred : abs(y_true - y_pred).sum()/len(y_true)\n",
    "mean_absolute_percent_error = lambda y_true, y_pred : (abs(y_true - y_pred)/y_true).sum()/len(y_true)"
   ]
  },
  {
   "cell_type": "code",
   "execution_count": null,
   "id": "a6724c71",
   "metadata": {},
   "outputs": [],
   "source": [
    "error_calculation(model, datasets, error_function=mean_absolute_error)"
   ]
  }
 ],
 "metadata": {
  "kernelspec": {
   "display_name": "Python 3 (ipykernel)",
   "language": "python",
   "name": "python3"
  },
  "language_info": {
   "codemirror_mode": {
    "name": "ipython",
    "version": 3
   },
   "file_extension": ".py",
   "mimetype": "text/x-python",
   "name": "python",
   "nbconvert_exporter": "python",
   "pygments_lexer": "ipython3",
   "version": "3.10.6"
  },
  "vscode": {
   "interpreter": {
    "hash": "63dcb1742ad588d72fa93718ba23fdbf2e75f9bb2496cf77f8dc8d00f14cc3b8"
   }
  }
 },
 "nbformat": 4,
 "nbformat_minor": 5
}
