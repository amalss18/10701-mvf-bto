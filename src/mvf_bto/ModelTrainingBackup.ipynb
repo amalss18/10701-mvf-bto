{
 "cells": [
  {
   "cell_type": "code",
   "execution_count": 1,
   "id": "153bf8fa",
   "metadata": {},
   "outputs": [],
   "source": [
    "from tensorflow.keras.models import Sequential\n",
    "from tensorflow.keras.layers import Dense, LSTM\n",
    "from sklearn.metrics import mean_squared_error\n",
    "from scipy.interpolate import interp1d\n",
    "\n",
    "import plotly.graph_objects as go\n",
    "import plotly.express as px\n",
    "import plotly.colors\n",
    "\n",
    "import tqdm\n",
    "\n",
    "import numpy as np\n",
    "import pandas as pd\n",
    "\n",
    "from mvf_bto.data_loading import load_data"
   ]
  },
  {
   "cell_type": "markdown",
   "id": "399af5af",
   "metadata": {},
   "source": [
    "## Loading Data"
   ]
  },
  {
   "cell_type": "code",
   "execution_count": 2,
   "id": "da1525d3",
   "metadata": {},
   "outputs": [],
   "source": [
    "# data path might need changing\n",
    "data_path = \"/Users/mac/Desktop/CMU/10701MachineLearning/project/10701-mvf-bto/data/2017-05-12_batchdata_updated_struct_errorcorrect.mat\""
   ]
  },
  {
   "cell_type": "code",
   "execution_count": 3,
   "id": "a26f9c62",
   "metadata": {},
   "outputs": [
    {
     "name": "stderr",
     "output_type": "stream",
     "text": [
      "100%|██████████| 3/3 [00:28<00:00,  9.63s/it]\n"
     ]
    }
   ],
   "source": [
    "data = load_data(file_path= data_path, num_cells= 3)"
   ]
  },
  {
   "cell_type": "code",
   "execution_count": 4,
   "id": "daa30d37",
   "metadata": {},
   "outputs": [],
   "source": [
    "single_cell_data = data['b1c2']['cycles']"
   ]
  },
  {
   "cell_type": "markdown",
   "id": "43e44118",
   "metadata": {},
   "source": [
    "## Preprocessing Data"
   ]
  },
  {
   "cell_type": "code",
   "execution_count": 5,
   "id": "aca8e318",
   "metadata": {},
   "outputs": [
    {
     "name": "stderr",
     "output_type": "stream",
     "text": [
      "100%|██████████| 1176/1176 [00:07<00:00, 165.17it/s]\n"
     ]
    }
   ],
   "source": [
    "df_list = []\n",
    "max_cycle = 1175\n",
    "for cycle_key, time_series in tqdm.tqdm(single_cell_data.items()):\n",
    "    cycle_num = int(cycle_key)\n",
    "    if cycle_num<1:\n",
    "        continue\n",
    "    df = pd.DataFrame({'t': time_series['t'], \n",
    "                       'V': time_series['V'],\n",
    "                       'temp': time_series['T'],\n",
    "                       'I': time_series['I'],\n",
    "                       'Qd': time_series['Qd'],\n",
    "                      }\n",
    "                       )\n",
    "    # drop duplicates to be able to interpolate over capacity\n",
    "    df = df.drop_duplicates(subset='Qd')\n",
    "    \n",
    "    \n",
    "    # get discharge part of curve only (current is negative during discharge)\n",
    "    df = df[df.I<-3.85]\n",
    "    \n",
    "    # normalize voltage and temperature using fixed thershold's to avoid data leakage\n",
    "    df['V_norm'] = (df.V-1.9)/(3.5-1.9)\n",
    "    df['T_norm'] = (df.temp-24)/(38-24)\n",
    "    \n",
    "    interp_df = pd.DataFrame()\n",
    "    # use capacity as reference to interpolate over\n",
    "    Q_eval = [0, 0.0125, 0.025, 0.075, 0.1, 0.2, 0.3, 0.4, 0.5, 0.6, 0.8, 0.85, 0.9, 0.95, 0.975, 0.98, 0.99, 1.0, 1.005, 1.01, 1.015, 1.02]\n",
    "    interp_df['Q_eval'] = Q_eval\n",
    "    fV = interp1d(x=df.Qd, y =df.V_norm, kind='quadratic', fill_value='extrapolate')\n",
    "    interp_df['V_norm'] = fV(Q_eval)\n",
    "    ft = interp1d(x=df.Qd, y =df.t, kind='quadratic', fill_value='extrapolate')\n",
    "    interp_df['t'] = ft(Q_eval)\n",
    "    fT = interp1d(x=df.Qd, y =df['T_norm'], kind='quadratic', fill_value='extrapolate')\n",
    "    interp_df['T_norm'] = fT(Q_eval)\n",
    "    \n",
    "    interp_df['Cycle'] = [cycle_num/max_cycle for i in range(len(interp_df))]\n",
    "    \n",
    "    df_list.append(interp_df)"
   ]
  },
  {
   "cell_type": "markdown",
   "id": "dbf38f7d",
   "metadata": {},
   "source": [
    "## What does raw versus interpolated data look like?"
   ]
  },
  {
   "cell_type": "code",
   "execution_count": 6,
   "id": "be06bb8d",
   "metadata": {},
   "outputs": [
    {
     "data": {
      "application/vnd.plotly.v1+json": {
       "config": {
        "plotlyServerURL": "https://plot.ly"
       },
       "data": [
        {
         "mode": "markers",
         "name": "Raw",
         "showlegend": true,
         "type": "scatter",
         "x": [
          0.00091625028,
          0.0023163944,
          0.0032979618,
          0.004484117,
          0.0059406562,
          0.0076965028,
          0.008706959,
          0.009807975,
          0.01100067,
          0.012342228,
          0.013790276,
          0.015394746,
          0.017181085,
          0.019191645,
          0.021451212,
          0.024054023,
          0.027133366,
          0.030817451,
          0.035543568,
          0.041656069,
          0.04777934,
          0.053893764,
          0.0600155,
          0.066117987,
          0.072247826,
          0.078342423,
          0.084479429,
          0.090587877,
          0.096697927,
          0.10283069,
          0.1089486,
          0.11506512,
          0.12116255,
          0.12726505,
          0.13338719,
          0.13950421,
          0.14563322,
          0.151749,
          0.15786326,
          0.16396095,
          0.17006139,
          0.17619011,
          0.18231404,
          0.18843417,
          0.19454449,
          0.20065869,
          0.20677081,
          0.21288399,
          0.21900299,
          0.22511244,
          0.23123468,
          0.23732799,
          0.24345903,
          0.24958281,
          0.25568044,
          0.26181629,
          0.26792955,
          0.274037,
          0.28014812,
          0.28625929,
          0.29236987,
          0.29850113,
          0.30460086,
          0.31072581,
          0.31683517,
          0.3229534,
          0.32906193,
          0.33515999,
          0.34130242,
          0.34738421,
          0.35351589,
          0.3596535,
          0.36576962,
          0.37186292,
          0.37797251,
          0.38410461,
          0.39021429,
          0.39633653,
          0.40242743,
          0.40856311,
          0.41467899,
          0.42079857,
          0.42690554,
          0.43303704,
          0.43914995,
          0.44527075,
          0.45138472,
          0.45749864,
          0.4636094,
          0.46972764,
          0.47584677,
          0.48197502,
          0.48806801,
          0.4941932,
          0.5003143,
          0.50642729,
          0.51253653,
          0.51866168,
          0.52477062,
          0.53088009,
          0.53698069,
          0.54312634,
          0.54924285,
          0.55533624,
          0.56146973,
          0.56759083,
          0.57371151,
          0.5798322,
          0.58593273,
          0.5920431,
          0.59817934,
          0.60430062,
          0.61041951,
          0.6165396,
          0.6226384,
          0.62874633,
          0.63488621,
          0.64099365,
          0.64710206,
          0.65322793,
          0.6593402,
          0.66544956,
          0.67156881,
          0.67769837,
          0.68381101,
          0.68992138,
          0.69604057,
          0.70214486,
          0.70826179,
          0.71436733,
          0.72048825,
          0.7266323,
          0.73272341,
          0.73886108,
          0.74496824,
          0.75108546,
          0.75720853,
          0.76331574,
          0.76943499,
          0.77554238,
          0.78166318,
          0.78777462,
          0.79389751,
          0.80000687,
          0.80611783,
          0.81224096,
          0.81836677,
          0.82446921,
          0.83060211,
          0.83670944,
          0.84280604,
          0.84894788,
          0.85504645,
          0.86115581,
          0.86729449,
          0.87339419,
          0.87952411,
          0.88563937,
          0.89176315,
          0.89775789,
          0.90348101,
          0.90886462,
          0.91380835,
          0.91846073,
          0.92277151,
          0.92689425,
          0.93070984,
          0.93440497,
          0.93785363,
          0.94113046,
          0.94421524,
          0.94723952,
          0.95008993,
          0.95280129,
          0.95542789,
          0.95788324,
          0.96029252,
          0.96257257,
          0.9647699,
          0.96685356,
          0.96883947,
          0.97076482,
          0.97262537,
          0.97445077,
          0.97616005,
          0.97778618,
          0.97938299,
          0.98088694,
          0.98234338,
          0.98375452,
          0.98508543,
          0.98635948,
          0.98761636,
          0.98879015,
          0.98995966,
          0.99105954,
          0.99211657,
          0.99316305,
          0.99507862,
          0.9959653,
          0.99684328,
          0.99847043,
          0.99924982,
          1.0006893,
          1.0020589,
          1.0033096,
          1.0045378,
          1.0056612,
          1.0067244,
          1.0082905,
          1.0092833,
          1.0103116,
          1.0118606,
          1.012893,
          1.0138985,
          1.0153582,
          1.0166724,
          1.0178223,
          1.0188326,
          1.0202786
         ],
         "y": [
          0.9779725,
          0.9523150625000001,
          0.9396139375000001,
          0.9270051875000002,
          0.9143463125000001,
          0.9017405624999999,
          0.8954284375000001,
          0.8891293750000001,
          0.88286375,
          0.8765480625,
          0.87022875,
          0.8639303749999999,
          0.8576218125000001,
          0.8513680625,
          0.8451179375000001,
          0.838817125,
          0.8325389375,
          0.8262721250000001,
          0.81999275,
          0.8138934375000001,
          0.80932475,
          0.8059356249999999,
          0.8032563750000001,
          0.8010921249999999,
          0.7994047500000001,
          0.7979771874999999,
          0.7965395625000001,
          0.7954446249999999,
          0.794417,
          0.7933888124999999,
          0.7925370625,
          0.7917085625,
          0.79089975,
          0.7901135625,
          0.7894441874999999,
          0.7886729375000001,
          0.7879606250000001,
          0.7872698124999999,
          0.78665175,
          0.7859436250000001,
          0.78537025,
          0.7846889375000001,
          0.7840577500000001,
          0.783462875,
          0.7828060625,
          0.7821950625000001,
          0.7815418125000001,
          0.7809099999999999,
          0.780293125,
          0.7797632500000001,
          0.7791397499999999,
          0.7785574375000001,
          0.7779094999999999,
          0.7773152499999999,
          0.7766429375,
          0.7761505625,
          0.7753786875000002,
          0.7747951875,
          0.774180625,
          0.7736233750000001,
          0.7729152499999999,
          0.7722726874999999,
          0.7715663750000001,
          0.770886875,
          0.7702747500000001,
          0.76961375,
          0.7689735624999999,
          0.7682220000000001,
          0.7675448749999999,
          0.7668826875000001,
          0.7662359375,
          0.7655368125,
          0.7647201875,
          0.7640490625000002,
          0.7632819375,
          0.76263525,
          0.7618627499999999,
          0.7610450000000002,
          0.7603595000000002,
          0.7596055000000002,
          0.7587615,
          0.7580313750000001,
          0.7572404374999999,
          0.7563803125000002,
          0.7556054375000001,
          0.7548252499999999,
          0.7539746875,
          0.7532725625,
          0.7524046875000001,
          0.7515863125,
          0.7506761250000001,
          0.749915625,
          0.7490256875000001,
          0.7482269999999999,
          0.74739375,
          0.7465425625,
          0.7455471874999999,
          0.7447538125,
          0.743869875,
          0.7429585625000001,
          0.7420239375000001,
          0.741235375,
          0.7403603750000001,
          0.7393417500000001,
          0.7384637499999999,
          0.737476125,
          0.7365564375,
          0.7355711249999999,
          0.7347009374999999,
          0.7336834375000001,
          0.7326338125,
          0.7317123124999999,
          0.730702625,
          0.7296911250000001,
          0.7285729375,
          0.7275453749999999,
          0.7264510625,
          0.725353125,
          0.7242295625,
          0.7230619374999999,
          0.72192225,
          0.7207146875,
          0.71953275,
          0.7182416875,
          0.7169423125000002,
          0.7156703750000001,
          0.7142904999999999,
          0.7129577500000001,
          0.7115820624999999,
          0.7100651250000001,
          0.7085893125,
          0.7071015625000001,
          0.7055030000000001,
          0.7038549374999999,
          0.7022372500000001,
          0.7006106249999999,
          0.6988290625000001,
          0.6969378125,
          0.69506325,
          0.69300625,
          0.6910298125,
          0.6889430000000002,
          0.6867889374999999,
          0.6843176875000001,
          0.6819269375,
          0.679399125,
          0.6767515000000002,
          0.6738701874999999,
          0.6708839999999999,
          0.6677488125,
          0.6644604375000002,
          0.6609610625000001,
          0.657135,
          0.6531724999999999,
          0.648815375,
          0.6443265625,
          0.6393424375000001,
          0.6340483125000002,
          0.6283996250000001,
          0.622145875,
          0.6158516250000001,
          0.6095413125000001,
          0.6032720625000001,
          0.5969963125,
          0.5907437500000001,
          0.5844739374999999,
          0.5782143125,
          0.5719349375000001,
          0.56564725,
          0.5593821875000001,
          0.5531081875000001,
          0.5468348125,
          0.540531625,
          0.5342791250000001,
          0.527977125,
          0.5216876249999999,
          0.5153755000000001,
          0.5090770625000002,
          0.5028245625,
          0.4965708125000001,
          0.4903105625000001,
          0.48398468750000007,
          0.4777345625000001,
          0.47142718750000007,
          0.4651133125000001,
          0.4588136875000001,
          0.45251581250000006,
          0.4462621250000001,
          0.43996131250000015,
          0.43368193750000006,
          0.42740737500000014,
          0.4211506875000001,
          0.4148141250000001,
          0.408560375,
          0.40222562500000003,
          0.39595281250000003,
          0.38957275000000013,
          0.38329162500000014,
          0.37073768750000013,
          0.3644720625,
          0.358220125,
          0.3456000000000001,
          0.33928724999999993,
          0.3267482500000002,
          0.31405243750000006,
          0.3014383125,
          0.2887330000000002,
          0.2760991875000002,
          0.26358462500000013,
          0.24454631249999997,
          0.2318034375,
          0.2190521875000001,
          0.20007825000000007,
          0.18748137500000012,
          0.17480350000000006,
          0.1556698125,
          0.13655581249999993,
          0.11769568750000015,
          0.09865200000000018,
          0.06680581250000012
         ]
        },
        {
         "mode": "markers+lines",
         "name": "Interpolated",
         "showlegend": true,
         "type": "scatter",
         "x": [
          0,
          0.0125,
          0.025,
          0.075,
          0.1,
          0.2,
          0.3,
          0.4,
          0.5,
          0.6,
          0.8,
          0.85,
          0.9,
          0.95,
          0.975,
          0.98,
          0.99,
          1,
          1.005,
          1.01,
          1.015,
          1.02
         ],
         "y": [
          0.9998889889260005,
          0.8758361306284119,
          0.8367631717053139,
          0.7987490434520126,
          0.7938495715297544,
          0.7822623829486246,
          0.772105327574451,
          0.7606294771580059,
          0.7474365084879915,
          0.7323522792136339,
          0.6843204398999374,
          0.6603232650100841,
          0.6197160432791089,
          0.5407351789655297,
          0.46944310735988615,
          0.4499892038377077,
          0.40200205320708093,
          0.3328727982360685,
          0.2836478542351154,
          0.2228853860449967,
          0.16052775213012313,
          0.07336609478139784
         ]
        }
       ],
       "layout": {
        "template": {
         "data": {
          "bar": [
           {
            "error_x": {
             "color": "#2a3f5f"
            },
            "error_y": {
             "color": "#2a3f5f"
            },
            "marker": {
             "line": {
              "color": "#E5ECF6",
              "width": 0.5
             },
             "pattern": {
              "fillmode": "overlay",
              "size": 10,
              "solidity": 0.2
             }
            },
            "type": "bar"
           }
          ],
          "barpolar": [
           {
            "marker": {
             "line": {
              "color": "#E5ECF6",
              "width": 0.5
             },
             "pattern": {
              "fillmode": "overlay",
              "size": 10,
              "solidity": 0.2
             }
            },
            "type": "barpolar"
           }
          ],
          "carpet": [
           {
            "aaxis": {
             "endlinecolor": "#2a3f5f",
             "gridcolor": "white",
             "linecolor": "white",
             "minorgridcolor": "white",
             "startlinecolor": "#2a3f5f"
            },
            "baxis": {
             "endlinecolor": "#2a3f5f",
             "gridcolor": "white",
             "linecolor": "white",
             "minorgridcolor": "white",
             "startlinecolor": "#2a3f5f"
            },
            "type": "carpet"
           }
          ],
          "choropleth": [
           {
            "colorbar": {
             "outlinewidth": 0,
             "ticks": ""
            },
            "type": "choropleth"
           }
          ],
          "contour": [
           {
            "colorbar": {
             "outlinewidth": 0,
             "ticks": ""
            },
            "colorscale": [
             [
              0,
              "#0d0887"
             ],
             [
              0.1111111111111111,
              "#46039f"
             ],
             [
              0.2222222222222222,
              "#7201a8"
             ],
             [
              0.3333333333333333,
              "#9c179e"
             ],
             [
              0.4444444444444444,
              "#bd3786"
             ],
             [
              0.5555555555555556,
              "#d8576b"
             ],
             [
              0.6666666666666666,
              "#ed7953"
             ],
             [
              0.7777777777777778,
              "#fb9f3a"
             ],
             [
              0.8888888888888888,
              "#fdca26"
             ],
             [
              1,
              "#f0f921"
             ]
            ],
            "type": "contour"
           }
          ],
          "contourcarpet": [
           {
            "colorbar": {
             "outlinewidth": 0,
             "ticks": ""
            },
            "type": "contourcarpet"
           }
          ],
          "heatmap": [
           {
            "colorbar": {
             "outlinewidth": 0,
             "ticks": ""
            },
            "colorscale": [
             [
              0,
              "#0d0887"
             ],
             [
              0.1111111111111111,
              "#46039f"
             ],
             [
              0.2222222222222222,
              "#7201a8"
             ],
             [
              0.3333333333333333,
              "#9c179e"
             ],
             [
              0.4444444444444444,
              "#bd3786"
             ],
             [
              0.5555555555555556,
              "#d8576b"
             ],
             [
              0.6666666666666666,
              "#ed7953"
             ],
             [
              0.7777777777777778,
              "#fb9f3a"
             ],
             [
              0.8888888888888888,
              "#fdca26"
             ],
             [
              1,
              "#f0f921"
             ]
            ],
            "type": "heatmap"
           }
          ],
          "heatmapgl": [
           {
            "colorbar": {
             "outlinewidth": 0,
             "ticks": ""
            },
            "colorscale": [
             [
              0,
              "#0d0887"
             ],
             [
              0.1111111111111111,
              "#46039f"
             ],
             [
              0.2222222222222222,
              "#7201a8"
             ],
             [
              0.3333333333333333,
              "#9c179e"
             ],
             [
              0.4444444444444444,
              "#bd3786"
             ],
             [
              0.5555555555555556,
              "#d8576b"
             ],
             [
              0.6666666666666666,
              "#ed7953"
             ],
             [
              0.7777777777777778,
              "#fb9f3a"
             ],
             [
              0.8888888888888888,
              "#fdca26"
             ],
             [
              1,
              "#f0f921"
             ]
            ],
            "type": "heatmapgl"
           }
          ],
          "histogram": [
           {
            "marker": {
             "pattern": {
              "fillmode": "overlay",
              "size": 10,
              "solidity": 0.2
             }
            },
            "type": "histogram"
           }
          ],
          "histogram2d": [
           {
            "colorbar": {
             "outlinewidth": 0,
             "ticks": ""
            },
            "colorscale": [
             [
              0,
              "#0d0887"
             ],
             [
              0.1111111111111111,
              "#46039f"
             ],
             [
              0.2222222222222222,
              "#7201a8"
             ],
             [
              0.3333333333333333,
              "#9c179e"
             ],
             [
              0.4444444444444444,
              "#bd3786"
             ],
             [
              0.5555555555555556,
              "#d8576b"
             ],
             [
              0.6666666666666666,
              "#ed7953"
             ],
             [
              0.7777777777777778,
              "#fb9f3a"
             ],
             [
              0.8888888888888888,
              "#fdca26"
             ],
             [
              1,
              "#f0f921"
             ]
            ],
            "type": "histogram2d"
           }
          ],
          "histogram2dcontour": [
           {
            "colorbar": {
             "outlinewidth": 0,
             "ticks": ""
            },
            "colorscale": [
             [
              0,
              "#0d0887"
             ],
             [
              0.1111111111111111,
              "#46039f"
             ],
             [
              0.2222222222222222,
              "#7201a8"
             ],
             [
              0.3333333333333333,
              "#9c179e"
             ],
             [
              0.4444444444444444,
              "#bd3786"
             ],
             [
              0.5555555555555556,
              "#d8576b"
             ],
             [
              0.6666666666666666,
              "#ed7953"
             ],
             [
              0.7777777777777778,
              "#fb9f3a"
             ],
             [
              0.8888888888888888,
              "#fdca26"
             ],
             [
              1,
              "#f0f921"
             ]
            ],
            "type": "histogram2dcontour"
           }
          ],
          "mesh3d": [
           {
            "colorbar": {
             "outlinewidth": 0,
             "ticks": ""
            },
            "type": "mesh3d"
           }
          ],
          "parcoords": [
           {
            "line": {
             "colorbar": {
              "outlinewidth": 0,
              "ticks": ""
             }
            },
            "type": "parcoords"
           }
          ],
          "pie": [
           {
            "automargin": true,
            "type": "pie"
           }
          ],
          "scatter": [
           {
            "fillpattern": {
             "fillmode": "overlay",
             "size": 10,
             "solidity": 0.2
            },
            "type": "scatter"
           }
          ],
          "scatter3d": [
           {
            "line": {
             "colorbar": {
              "outlinewidth": 0,
              "ticks": ""
             }
            },
            "marker": {
             "colorbar": {
              "outlinewidth": 0,
              "ticks": ""
             }
            },
            "type": "scatter3d"
           }
          ],
          "scattercarpet": [
           {
            "marker": {
             "colorbar": {
              "outlinewidth": 0,
              "ticks": ""
             }
            },
            "type": "scattercarpet"
           }
          ],
          "scattergeo": [
           {
            "marker": {
             "colorbar": {
              "outlinewidth": 0,
              "ticks": ""
             }
            },
            "type": "scattergeo"
           }
          ],
          "scattergl": [
           {
            "marker": {
             "colorbar": {
              "outlinewidth": 0,
              "ticks": ""
             }
            },
            "type": "scattergl"
           }
          ],
          "scattermapbox": [
           {
            "marker": {
             "colorbar": {
              "outlinewidth": 0,
              "ticks": ""
             }
            },
            "type": "scattermapbox"
           }
          ],
          "scatterpolar": [
           {
            "marker": {
             "colorbar": {
              "outlinewidth": 0,
              "ticks": ""
             }
            },
            "type": "scatterpolar"
           }
          ],
          "scatterpolargl": [
           {
            "marker": {
             "colorbar": {
              "outlinewidth": 0,
              "ticks": ""
             }
            },
            "type": "scatterpolargl"
           }
          ],
          "scatterternary": [
           {
            "marker": {
             "colorbar": {
              "outlinewidth": 0,
              "ticks": ""
             }
            },
            "type": "scatterternary"
           }
          ],
          "surface": [
           {
            "colorbar": {
             "outlinewidth": 0,
             "ticks": ""
            },
            "colorscale": [
             [
              0,
              "#0d0887"
             ],
             [
              0.1111111111111111,
              "#46039f"
             ],
             [
              0.2222222222222222,
              "#7201a8"
             ],
             [
              0.3333333333333333,
              "#9c179e"
             ],
             [
              0.4444444444444444,
              "#bd3786"
             ],
             [
              0.5555555555555556,
              "#d8576b"
             ],
             [
              0.6666666666666666,
              "#ed7953"
             ],
             [
              0.7777777777777778,
              "#fb9f3a"
             ],
             [
              0.8888888888888888,
              "#fdca26"
             ],
             [
              1,
              "#f0f921"
             ]
            ],
            "type": "surface"
           }
          ],
          "table": [
           {
            "cells": {
             "fill": {
              "color": "#EBF0F8"
             },
             "line": {
              "color": "white"
             }
            },
            "header": {
             "fill": {
              "color": "#C8D4E3"
             },
             "line": {
              "color": "white"
             }
            },
            "type": "table"
           }
          ]
         },
         "layout": {
          "annotationdefaults": {
           "arrowcolor": "#2a3f5f",
           "arrowhead": 0,
           "arrowwidth": 1
          },
          "autotypenumbers": "strict",
          "coloraxis": {
           "colorbar": {
            "outlinewidth": 0,
            "ticks": ""
           }
          },
          "colorscale": {
           "diverging": [
            [
             0,
             "#8e0152"
            ],
            [
             0.1,
             "#c51b7d"
            ],
            [
             0.2,
             "#de77ae"
            ],
            [
             0.3,
             "#f1b6da"
            ],
            [
             0.4,
             "#fde0ef"
            ],
            [
             0.5,
             "#f7f7f7"
            ],
            [
             0.6,
             "#e6f5d0"
            ],
            [
             0.7,
             "#b8e186"
            ],
            [
             0.8,
             "#7fbc41"
            ],
            [
             0.9,
             "#4d9221"
            ],
            [
             1,
             "#276419"
            ]
           ],
           "sequential": [
            [
             0,
             "#0d0887"
            ],
            [
             0.1111111111111111,
             "#46039f"
            ],
            [
             0.2222222222222222,
             "#7201a8"
            ],
            [
             0.3333333333333333,
             "#9c179e"
            ],
            [
             0.4444444444444444,
             "#bd3786"
            ],
            [
             0.5555555555555556,
             "#d8576b"
            ],
            [
             0.6666666666666666,
             "#ed7953"
            ],
            [
             0.7777777777777778,
             "#fb9f3a"
            ],
            [
             0.8888888888888888,
             "#fdca26"
            ],
            [
             1,
             "#f0f921"
            ]
           ],
           "sequentialminus": [
            [
             0,
             "#0d0887"
            ],
            [
             0.1111111111111111,
             "#46039f"
            ],
            [
             0.2222222222222222,
             "#7201a8"
            ],
            [
             0.3333333333333333,
             "#9c179e"
            ],
            [
             0.4444444444444444,
             "#bd3786"
            ],
            [
             0.5555555555555556,
             "#d8576b"
            ],
            [
             0.6666666666666666,
             "#ed7953"
            ],
            [
             0.7777777777777778,
             "#fb9f3a"
            ],
            [
             0.8888888888888888,
             "#fdca26"
            ],
            [
             1,
             "#f0f921"
            ]
           ]
          },
          "colorway": [
           "#636efa",
           "#EF553B",
           "#00cc96",
           "#ab63fa",
           "#FFA15A",
           "#19d3f3",
           "#FF6692",
           "#B6E880",
           "#FF97FF",
           "#FECB52"
          ],
          "font": {
           "color": "#2a3f5f"
          },
          "geo": {
           "bgcolor": "white",
           "lakecolor": "white",
           "landcolor": "#E5ECF6",
           "showlakes": true,
           "showland": true,
           "subunitcolor": "white"
          },
          "hoverlabel": {
           "align": "left"
          },
          "hovermode": "closest",
          "mapbox": {
           "style": "light"
          },
          "paper_bgcolor": "white",
          "plot_bgcolor": "#E5ECF6",
          "polar": {
           "angularaxis": {
            "gridcolor": "white",
            "linecolor": "white",
            "ticks": ""
           },
           "bgcolor": "#E5ECF6",
           "radialaxis": {
            "gridcolor": "white",
            "linecolor": "white",
            "ticks": ""
           }
          },
          "scene": {
           "xaxis": {
            "backgroundcolor": "#E5ECF6",
            "gridcolor": "white",
            "gridwidth": 2,
            "linecolor": "white",
            "showbackground": true,
            "ticks": "",
            "zerolinecolor": "white"
           },
           "yaxis": {
            "backgroundcolor": "#E5ECF6",
            "gridcolor": "white",
            "gridwidth": 2,
            "linecolor": "white",
            "showbackground": true,
            "ticks": "",
            "zerolinecolor": "white"
           },
           "zaxis": {
            "backgroundcolor": "#E5ECF6",
            "gridcolor": "white",
            "gridwidth": 2,
            "linecolor": "white",
            "showbackground": true,
            "ticks": "",
            "zerolinecolor": "white"
           }
          },
          "shapedefaults": {
           "line": {
            "color": "#2a3f5f"
           }
          },
          "ternary": {
           "aaxis": {
            "gridcolor": "white",
            "linecolor": "white",
            "ticks": ""
           },
           "baxis": {
            "gridcolor": "white",
            "linecolor": "white",
            "ticks": ""
           },
           "bgcolor": "#E5ECF6",
           "caxis": {
            "gridcolor": "white",
            "linecolor": "white",
            "ticks": ""
           }
          },
          "title": {
           "x": 0.05
          },
          "xaxis": {
           "automargin": true,
           "gridcolor": "white",
           "linecolor": "white",
           "ticks": "",
           "title": {
            "standoff": 15
           },
           "zerolinecolor": "white",
           "zerolinewidth": 2
          },
          "yaxis": {
           "automargin": true,
           "gridcolor": "white",
           "linecolor": "white",
           "ticks": "",
           "title": {
            "standoff": 15
           },
           "zerolinecolor": "white",
           "zerolinewidth": 2
          }
         }
        }
       }
      }
     },
     "metadata": {},
     "output_type": "display_data"
    }
   ],
   "source": [
    "fig = go.Figure()\n",
    "fig.add_trace(go.Scatter(x = df.Qd, y = df.V_norm, showlegend=True, mode=\"markers\", name=\"Raw\"))\n",
    "fig.add_trace(go.Scatter(x = interp_df.Q_eval, y = interp_df.V_norm, showlegend=True, mode=\"markers+lines\" , name=\"Interpolated\"))"
   ]
  },
  {
   "cell_type": "code",
   "execution_count": 7,
   "id": "cdbbbd83",
   "metadata": {},
   "outputs": [],
   "source": [
    "# multivariate data preparation\n",
    "# TODO: multi output (temperature + voltage) (Hancheng)\n",
    "# TODO: multiple time steps in the future \n",
    "X_list, y_list = [], []\n",
    "\n",
    "# split a multivariate sequence into samples\n",
    "def split_sequences(sequences, n_steps):\n",
    "    X, y = list(), list()\n",
    "    for i in range(len(sequences)):\n",
    "        # find the end of this pattern\n",
    "        end_ix = i + n_steps\n",
    "        # check if we are beyond the dataset\n",
    "        if end_ix > len(sequences):\n",
    "            break\n",
    "            # gather input and output parts of the pattern\n",
    "        seq_x, seq_y = sequences[i:end_ix-1, :-1], sequences[end_ix-1, -1]\n",
    "        X.append(seq_x)\n",
    "        y.append(seq_y)\n",
    "    return np.array(X), np.array(y)\n",
    "\n",
    "for df in df_list:\n",
    "    # define input sequence\n",
    "    in_seq1 = df['T_norm'].values\n",
    "    in_seq2 = df['Q_eval'].values\n",
    "    in_seq3 = df['V_norm'].values\n",
    "    in_seq4 = df['Cycle'].values\n",
    "    out_seq = df['V_norm'].values\n",
    "    \n",
    "    # convert to [rows, columns] structure\n",
    "    in_seq1 = in_seq1.reshape((len(in_seq1), 1))\n",
    "    in_seq2 = in_seq2.reshape((len(in_seq2), 1))\n",
    "    in_seq3 = in_seq3.reshape((len(in_seq3), 1))\n",
    "    in_seq4 = in_seq4.reshape((len(in_seq4), 1))#cycle\n",
    "    out_seq = out_seq.reshape((len(out_seq), 1))\n",
    "    \n",
    "    # horizontally stack columns\n",
    "    dataset = np.hstack((in_seq1, in_seq2, in_seq3, in_seq4, out_seq))\n",
    "    \n",
    "    # choose a number of time steps (for input window)\n",
    "    n_steps = 4\n",
    "    \n",
    "    # convert into input/output\n",
    "    X_cycle, y_cycle = split_sequences(dataset, n_steps)\n",
    "    X_list.append(X_cycle)\n",
    "    y_list.append(y_cycle)"
   ]
  },
  {
   "cell_type": "code",
   "execution_count": 8,
   "id": "06da13c5",
   "metadata": {},
   "outputs": [
    {
     "name": "stdout",
     "output_type": "stream",
     "text": [
      "19 3 4\n"
     ]
    }
   ],
   "source": [
    "batch_size = X_cycle.shape[0] \n",
    "# batch_size must be equal to the length of 1 input curve\n",
    "# since for a stateful LSTM the cell state is cleared after a batch\n",
    "# (look at the keras docs)\n",
    "# we could write over own custom callback if we need batch_size != sequence_length\n",
    "# (for the use t prediction as t+1 input case)\n",
    "# but I'm not sure if that's acceptable practice\n",
    "\n",
    "window_length = X_cycle.shape[1]\n",
    "n_features = X_cycle.shape[2]\n",
    "print(batch_size, window_length, n_features)"
   ]
  },
  {
   "cell_type": "code",
   "execution_count": 9,
   "id": "2ae46c85",
   "metadata": {},
   "outputs": [],
   "source": [
    "X_train = np.array([item for index, item in enumerate(X_list) if index % 100 != 0])\n",
    "X_test = np.array([item for index, item in enumerate(X_list) if index % 100 == 0])\n",
    "\n",
    "y_train = np.array([item for index, item in enumerate(y_list) if index % 100 != 0])\n",
    "y_test = np.array([item for index, item in enumerate(y_list) if index % 100 == 0])\n",
    "\n",
    "y_test = y_test.flatten()\n",
    "y_train = y_train.flatten()\n",
    "\n",
    "X_train = X_train.reshape(X_train.shape[0]*batch_size, X_train[0].shape[1] , X_train.shape[-1])\n",
    "X_test = X_test.reshape(X_test.shape[0]*batch_size,X_test[0].shape[1], X_test.shape[-1])"
   ]
  },
  {
   "cell_type": "code",
   "execution_count": 10,
   "id": "8c19b540",
   "metadata": {},
   "outputs": [],
   "source": [
    "sample_weight = np.ones(y_train.shape)\n",
    "\n",
    "# TODO: experiment with different sample weights and thersholds\n",
    "# (this is a arbitary guess)\n",
    "sample_weight[y_train<0.6]=2\n",
    "sample_weight[y_train<0.5]=3"
   ]
  },
  {
   "cell_type": "code",
   "execution_count": 11,
   "id": "8b682e1e",
   "metadata": {},
   "outputs": [
    {
     "name": "stderr",
     "output_type": "stream",
     "text": [
      "2022-10-19 19:41:39.793275: I tensorflow/core/platform/cpu_feature_guard.cc:193] This TensorFlow binary is optimized with oneAPI Deep Neural Network Library (oneDNN) to use the following CPU instructions in performance-critical operations:  AVX2 FMA\n",
      "To enable them in other operations, rebuild TensorFlow with the appropriate compiler flags.\n"
     ]
    }
   ],
   "source": [
    "# define model\n",
    "# TODO: hyperparameter tuning (Anoushka)\n",
    "model = Sequential()\n",
    "model.add(LSTM(32, return_sequences=True, stateful=True, batch_input_shape=(batch_size, window_length, n_features)))\n",
    "model.add(LSTM(16, return_sequences=False))\n",
    "model.add(Dense(32, activation=\"sigmoid\"))\n",
    "model.add(Dense(8))\n",
    "# need to change here (maybe) if n steps into the future\n",
    "model.add(Dense(1))\n",
    "\n",
    "model.compile(optimizer='adam', loss='mse')"
   ]
  },
  {
   "cell_type": "code",
   "execution_count": 12,
   "id": "cacd6530",
   "metadata": {},
   "outputs": [],
   "source": [
    "# TODO: add validation set or validation split + early stopping\n",
    "history = model.fit(X_train, y_train, \n",
    "                    epochs=50, \n",
    "                    batch_size=batch_size, \n",
    "                    shuffle=False, \n",
    "                    verbose=0, \n",
    "                    sample_weight=sample_weight)"
   ]
  },
  {
   "cell_type": "code",
   "execution_count": 13,
   "id": "ad3d04e5",
   "metadata": {},
   "outputs": [
    {
     "data": {
      "application/vnd.plotly.v1+json": {
       "config": {
        "plotlyServerURL": "https://plot.ly"
       },
       "data": [
        {
         "mode": "markers+lines",
         "showlegend": false,
         "type": "scatter",
         "x": [
          1,
          2,
          3,
          4,
          5,
          6,
          7,
          8,
          9,
          10,
          11,
          12,
          13,
          14,
          15,
          16,
          17,
          18,
          19,
          20,
          21,
          22,
          23,
          24,
          25,
          26,
          27,
          28,
          29,
          30,
          31,
          32,
          33,
          34,
          35,
          36,
          37,
          38,
          39,
          40,
          41,
          42,
          43,
          44,
          45,
          46,
          47,
          48,
          49,
          50
         ],
         "y": [
          0.021473394706845284,
          0.0019113742746412754,
          0.001116426195949316,
          0.0011104184668511152,
          0.0009025392355397344,
          0.0007973032188601792,
          0.0006399702979251742,
          0.0004994787741452456,
          0.00040798893314786255,
          0.00038743254845030606,
          0.00035681307781487703,
          0.0003119053435511887,
          0.00029632894438691437,
          0.00030551510280929506,
          0.0002958188415504992,
          0.0004988572327420115,
          0.0003464448091108352,
          0.0003470597439445555,
          0.00033832021290436387,
          0.00033472664654254913,
          0.0002977389085572213,
          0.00034513467107899487,
          0.00029266689671203494,
          0.00027093919925391674,
          0.0002514742373023182,
          0.00019711065397132188,
          0.00018040140275843441,
          0.00016902745119296014,
          0.00014391257718671113,
          0.0001425551890861243,
          0.00012912615784443915,
          0.000106077641248703,
          0.00009468465577811003,
          0.00008883996633812785,
          0.00007532013114541769,
          0.0000709085215930827,
          0.00007502274820581079,
          0.00007765698683215305,
          0.00008472435729345307,
          0.00005901870463276282,
          0.000050124828703701496,
          0.0000532152880623471,
          0.000051832372264470905,
          0.00004974555486114696,
          0.0000455047374998685,
          0.00004647420792025514,
          0.00005389552461565472,
          0.000056516306358389556,
          0.00006221204967005178,
          0.00005148325362824835
         ]
        }
       ],
       "layout": {
        "template": {
         "data": {
          "bar": [
           {
            "error_x": {
             "color": "#2a3f5f"
            },
            "error_y": {
             "color": "#2a3f5f"
            },
            "marker": {
             "line": {
              "color": "#E5ECF6",
              "width": 0.5
             },
             "pattern": {
              "fillmode": "overlay",
              "size": 10,
              "solidity": 0.2
             }
            },
            "type": "bar"
           }
          ],
          "barpolar": [
           {
            "marker": {
             "line": {
              "color": "#E5ECF6",
              "width": 0.5
             },
             "pattern": {
              "fillmode": "overlay",
              "size": 10,
              "solidity": 0.2
             }
            },
            "type": "barpolar"
           }
          ],
          "carpet": [
           {
            "aaxis": {
             "endlinecolor": "#2a3f5f",
             "gridcolor": "white",
             "linecolor": "white",
             "minorgridcolor": "white",
             "startlinecolor": "#2a3f5f"
            },
            "baxis": {
             "endlinecolor": "#2a3f5f",
             "gridcolor": "white",
             "linecolor": "white",
             "minorgridcolor": "white",
             "startlinecolor": "#2a3f5f"
            },
            "type": "carpet"
           }
          ],
          "choropleth": [
           {
            "colorbar": {
             "outlinewidth": 0,
             "ticks": ""
            },
            "type": "choropleth"
           }
          ],
          "contour": [
           {
            "colorbar": {
             "outlinewidth": 0,
             "ticks": ""
            },
            "colorscale": [
             [
              0,
              "#0d0887"
             ],
             [
              0.1111111111111111,
              "#46039f"
             ],
             [
              0.2222222222222222,
              "#7201a8"
             ],
             [
              0.3333333333333333,
              "#9c179e"
             ],
             [
              0.4444444444444444,
              "#bd3786"
             ],
             [
              0.5555555555555556,
              "#d8576b"
             ],
             [
              0.6666666666666666,
              "#ed7953"
             ],
             [
              0.7777777777777778,
              "#fb9f3a"
             ],
             [
              0.8888888888888888,
              "#fdca26"
             ],
             [
              1,
              "#f0f921"
             ]
            ],
            "type": "contour"
           }
          ],
          "contourcarpet": [
           {
            "colorbar": {
             "outlinewidth": 0,
             "ticks": ""
            },
            "type": "contourcarpet"
           }
          ],
          "heatmap": [
           {
            "colorbar": {
             "outlinewidth": 0,
             "ticks": ""
            },
            "colorscale": [
             [
              0,
              "#0d0887"
             ],
             [
              0.1111111111111111,
              "#46039f"
             ],
             [
              0.2222222222222222,
              "#7201a8"
             ],
             [
              0.3333333333333333,
              "#9c179e"
             ],
             [
              0.4444444444444444,
              "#bd3786"
             ],
             [
              0.5555555555555556,
              "#d8576b"
             ],
             [
              0.6666666666666666,
              "#ed7953"
             ],
             [
              0.7777777777777778,
              "#fb9f3a"
             ],
             [
              0.8888888888888888,
              "#fdca26"
             ],
             [
              1,
              "#f0f921"
             ]
            ],
            "type": "heatmap"
           }
          ],
          "heatmapgl": [
           {
            "colorbar": {
             "outlinewidth": 0,
             "ticks": ""
            },
            "colorscale": [
             [
              0,
              "#0d0887"
             ],
             [
              0.1111111111111111,
              "#46039f"
             ],
             [
              0.2222222222222222,
              "#7201a8"
             ],
             [
              0.3333333333333333,
              "#9c179e"
             ],
             [
              0.4444444444444444,
              "#bd3786"
             ],
             [
              0.5555555555555556,
              "#d8576b"
             ],
             [
              0.6666666666666666,
              "#ed7953"
             ],
             [
              0.7777777777777778,
              "#fb9f3a"
             ],
             [
              0.8888888888888888,
              "#fdca26"
             ],
             [
              1,
              "#f0f921"
             ]
            ],
            "type": "heatmapgl"
           }
          ],
          "histogram": [
           {
            "marker": {
             "pattern": {
              "fillmode": "overlay",
              "size": 10,
              "solidity": 0.2
             }
            },
            "type": "histogram"
           }
          ],
          "histogram2d": [
           {
            "colorbar": {
             "outlinewidth": 0,
             "ticks": ""
            },
            "colorscale": [
             [
              0,
              "#0d0887"
             ],
             [
              0.1111111111111111,
              "#46039f"
             ],
             [
              0.2222222222222222,
              "#7201a8"
             ],
             [
              0.3333333333333333,
              "#9c179e"
             ],
             [
              0.4444444444444444,
              "#bd3786"
             ],
             [
              0.5555555555555556,
              "#d8576b"
             ],
             [
              0.6666666666666666,
              "#ed7953"
             ],
             [
              0.7777777777777778,
              "#fb9f3a"
             ],
             [
              0.8888888888888888,
              "#fdca26"
             ],
             [
              1,
              "#f0f921"
             ]
            ],
            "type": "histogram2d"
           }
          ],
          "histogram2dcontour": [
           {
            "colorbar": {
             "outlinewidth": 0,
             "ticks": ""
            },
            "colorscale": [
             [
              0,
              "#0d0887"
             ],
             [
              0.1111111111111111,
              "#46039f"
             ],
             [
              0.2222222222222222,
              "#7201a8"
             ],
             [
              0.3333333333333333,
              "#9c179e"
             ],
             [
              0.4444444444444444,
              "#bd3786"
             ],
             [
              0.5555555555555556,
              "#d8576b"
             ],
             [
              0.6666666666666666,
              "#ed7953"
             ],
             [
              0.7777777777777778,
              "#fb9f3a"
             ],
             [
              0.8888888888888888,
              "#fdca26"
             ],
             [
              1,
              "#f0f921"
             ]
            ],
            "type": "histogram2dcontour"
           }
          ],
          "mesh3d": [
           {
            "colorbar": {
             "outlinewidth": 0,
             "ticks": ""
            },
            "type": "mesh3d"
           }
          ],
          "parcoords": [
           {
            "line": {
             "colorbar": {
              "outlinewidth": 0,
              "ticks": ""
             }
            },
            "type": "parcoords"
           }
          ],
          "pie": [
           {
            "automargin": true,
            "type": "pie"
           }
          ],
          "scatter": [
           {
            "fillpattern": {
             "fillmode": "overlay",
             "size": 10,
             "solidity": 0.2
            },
            "type": "scatter"
           }
          ],
          "scatter3d": [
           {
            "line": {
             "colorbar": {
              "outlinewidth": 0,
              "ticks": ""
             }
            },
            "marker": {
             "colorbar": {
              "outlinewidth": 0,
              "ticks": ""
             }
            },
            "type": "scatter3d"
           }
          ],
          "scattercarpet": [
           {
            "marker": {
             "colorbar": {
              "outlinewidth": 0,
              "ticks": ""
             }
            },
            "type": "scattercarpet"
           }
          ],
          "scattergeo": [
           {
            "marker": {
             "colorbar": {
              "outlinewidth": 0,
              "ticks": ""
             }
            },
            "type": "scattergeo"
           }
          ],
          "scattergl": [
           {
            "marker": {
             "colorbar": {
              "outlinewidth": 0,
              "ticks": ""
             }
            },
            "type": "scattergl"
           }
          ],
          "scattermapbox": [
           {
            "marker": {
             "colorbar": {
              "outlinewidth": 0,
              "ticks": ""
             }
            },
            "type": "scattermapbox"
           }
          ],
          "scatterpolar": [
           {
            "marker": {
             "colorbar": {
              "outlinewidth": 0,
              "ticks": ""
             }
            },
            "type": "scatterpolar"
           }
          ],
          "scatterpolargl": [
           {
            "marker": {
             "colorbar": {
              "outlinewidth": 0,
              "ticks": ""
             }
            },
            "type": "scatterpolargl"
           }
          ],
          "scatterternary": [
           {
            "marker": {
             "colorbar": {
              "outlinewidth": 0,
              "ticks": ""
             }
            },
            "type": "scatterternary"
           }
          ],
          "surface": [
           {
            "colorbar": {
             "outlinewidth": 0,
             "ticks": ""
            },
            "colorscale": [
             [
              0,
              "#0d0887"
             ],
             [
              0.1111111111111111,
              "#46039f"
             ],
             [
              0.2222222222222222,
              "#7201a8"
             ],
             [
              0.3333333333333333,
              "#9c179e"
             ],
             [
              0.4444444444444444,
              "#bd3786"
             ],
             [
              0.5555555555555556,
              "#d8576b"
             ],
             [
              0.6666666666666666,
              "#ed7953"
             ],
             [
              0.7777777777777778,
              "#fb9f3a"
             ],
             [
              0.8888888888888888,
              "#fdca26"
             ],
             [
              1,
              "#f0f921"
             ]
            ],
            "type": "surface"
           }
          ],
          "table": [
           {
            "cells": {
             "fill": {
              "color": "#EBF0F8"
             },
             "line": {
              "color": "white"
             }
            },
            "header": {
             "fill": {
              "color": "#C8D4E3"
             },
             "line": {
              "color": "white"
             }
            },
            "type": "table"
           }
          ]
         },
         "layout": {
          "annotationdefaults": {
           "arrowcolor": "#2a3f5f",
           "arrowhead": 0,
           "arrowwidth": 1
          },
          "autotypenumbers": "strict",
          "coloraxis": {
           "colorbar": {
            "outlinewidth": 0,
            "ticks": ""
           }
          },
          "colorscale": {
           "diverging": [
            [
             0,
             "#8e0152"
            ],
            [
             0.1,
             "#c51b7d"
            ],
            [
             0.2,
             "#de77ae"
            ],
            [
             0.3,
             "#f1b6da"
            ],
            [
             0.4,
             "#fde0ef"
            ],
            [
             0.5,
             "#f7f7f7"
            ],
            [
             0.6,
             "#e6f5d0"
            ],
            [
             0.7,
             "#b8e186"
            ],
            [
             0.8,
             "#7fbc41"
            ],
            [
             0.9,
             "#4d9221"
            ],
            [
             1,
             "#276419"
            ]
           ],
           "sequential": [
            [
             0,
             "#0d0887"
            ],
            [
             0.1111111111111111,
             "#46039f"
            ],
            [
             0.2222222222222222,
             "#7201a8"
            ],
            [
             0.3333333333333333,
             "#9c179e"
            ],
            [
             0.4444444444444444,
             "#bd3786"
            ],
            [
             0.5555555555555556,
             "#d8576b"
            ],
            [
             0.6666666666666666,
             "#ed7953"
            ],
            [
             0.7777777777777778,
             "#fb9f3a"
            ],
            [
             0.8888888888888888,
             "#fdca26"
            ],
            [
             1,
             "#f0f921"
            ]
           ],
           "sequentialminus": [
            [
             0,
             "#0d0887"
            ],
            [
             0.1111111111111111,
             "#46039f"
            ],
            [
             0.2222222222222222,
             "#7201a8"
            ],
            [
             0.3333333333333333,
             "#9c179e"
            ],
            [
             0.4444444444444444,
             "#bd3786"
            ],
            [
             0.5555555555555556,
             "#d8576b"
            ],
            [
             0.6666666666666666,
             "#ed7953"
            ],
            [
             0.7777777777777778,
             "#fb9f3a"
            ],
            [
             0.8888888888888888,
             "#fdca26"
            ],
            [
             1,
             "#f0f921"
            ]
           ]
          },
          "colorway": [
           "#636efa",
           "#EF553B",
           "#00cc96",
           "#ab63fa",
           "#FFA15A",
           "#19d3f3",
           "#FF6692",
           "#B6E880",
           "#FF97FF",
           "#FECB52"
          ],
          "font": {
           "color": "#2a3f5f"
          },
          "geo": {
           "bgcolor": "white",
           "lakecolor": "white",
           "landcolor": "#E5ECF6",
           "showlakes": true,
           "showland": true,
           "subunitcolor": "white"
          },
          "hoverlabel": {
           "align": "left"
          },
          "hovermode": "closest",
          "mapbox": {
           "style": "light"
          },
          "paper_bgcolor": "white",
          "plot_bgcolor": "#E5ECF6",
          "polar": {
           "angularaxis": {
            "gridcolor": "white",
            "linecolor": "white",
            "ticks": ""
           },
           "bgcolor": "#E5ECF6",
           "radialaxis": {
            "gridcolor": "white",
            "linecolor": "white",
            "ticks": ""
           }
          },
          "scene": {
           "xaxis": {
            "backgroundcolor": "#E5ECF6",
            "gridcolor": "white",
            "gridwidth": 2,
            "linecolor": "white",
            "showbackground": true,
            "ticks": "",
            "zerolinecolor": "white"
           },
           "yaxis": {
            "backgroundcolor": "#E5ECF6",
            "gridcolor": "white",
            "gridwidth": 2,
            "linecolor": "white",
            "showbackground": true,
            "ticks": "",
            "zerolinecolor": "white"
           },
           "zaxis": {
            "backgroundcolor": "#E5ECF6",
            "gridcolor": "white",
            "gridwidth": 2,
            "linecolor": "white",
            "showbackground": true,
            "ticks": "",
            "zerolinecolor": "white"
           }
          },
          "shapedefaults": {
           "line": {
            "color": "#2a3f5f"
           }
          },
          "ternary": {
           "aaxis": {
            "gridcolor": "white",
            "linecolor": "white",
            "ticks": ""
           },
           "baxis": {
            "gridcolor": "white",
            "linecolor": "white",
            "ticks": ""
           },
           "bgcolor": "#E5ECF6",
           "caxis": {
            "gridcolor": "white",
            "linecolor": "white",
            "ticks": ""
           }
          },
          "title": {
           "x": 0.05
          },
          "xaxis": {
           "automargin": true,
           "gridcolor": "white",
           "linecolor": "white",
           "ticks": "",
           "title": {
            "standoff": 15
           },
           "zerolinecolor": "white",
           "zerolinewidth": 2
          },
          "yaxis": {
           "automargin": true,
           "gridcolor": "white",
           "linecolor": "white",
           "ticks": "",
           "title": {
            "standoff": 15
           },
           "zerolinecolor": "white",
           "zerolinewidth": 2
          }
         }
        },
        "xaxis": {
         "title": {
          "text": "Epochs"
         }
        },
        "yaxis": {
         "title": {
          "text": "Loss (MSE)"
         }
        }
       }
      }
     },
     "metadata": {},
     "output_type": "display_data"
    }
   ],
   "source": [
    "fig = go.Figure()\n",
    "fig.add_trace(go.Scatter(x = np.linspace(1,50), y = history.history['loss'],\n",
    "                         showlegend=False, mode=\"markers+lines\"))\n",
    "fig.update_xaxes(title='Epochs')\n",
    "fig.update_yaxes(title='Loss (MSE)')"
   ]
  },
  {
   "cell_type": "markdown",
   "id": "e5b4a058",
   "metadata": {},
   "source": [
    "## Parity Plot of Training Error"
   ]
  },
  {
   "cell_type": "code",
   "execution_count": 14,
   "id": "b99a145c",
   "metadata": {},
   "outputs": [
    {
     "data": {
      "application/vnd.plotly.v1+json": {
       "config": {
        "plotlyServerURL": "https://plot.ly"
       },
       "data": [
        {
         "mode": "markers+lines",
         "showlegend": false,
         "type": "scatter",
         "x": [
          0,
          1
         ],
         "y": [
          0,
          1
         ]
        },
        {
         "mode": "markers",
         "showlegend": false,
         "type": "scatter",
         "x": [
          0.8024078011512756,
          0.7974573969841003,
          0.790778398513794,
          0.7769465446472168,
          0.7590022087097168,
          0.7404418587684631,
          0.7306398749351501,
          0.71812504529953,
          0.6800405979156494,
          0.6539818048477173,
          0.6205004453659058,
          0.5996949672698975,
          0.59112548828125,
          0.5819851756095886,
          0.5633090138435364,
          0.5532423257827759,
          0.5475654006004333,
          0.5450209379196167,
          0.5441925525665283
         ],
         "y": [
          0.8016100309299861,
          0.7969949399615203,
          0.7857868377361868,
          0.7763309580653218,
          0.765848624244683,
          0.7534930845599199,
          0.7397368459842333,
          0.7008476120253453,
          0.6855396168404566,
          0.66500454592551,
          0.6339332800212197,
          0.610581213788824,
          0.6048220308808765,
          0.5917359995523725,
          0.5755717742174109,
          0.5661303929912626,
          0.5555132958995218,
          0.5434992456471187,
          0.5299587676127288
         ]
        },
        {
         "mode": "markers",
         "showlegend": false,
         "type": "scatter",
         "x": [
          0.8012736439704895,
          0.7964751720428467,
          0.7899420261383057,
          0.7754375338554382,
          0.7560675740242004,
          0.7365662455558777,
          0.7315776944160461,
          0.7170323729515076,
          0.6755831837654114,
          0.6494061946868896,
          0.6168201565742493,
          0.5994483232498169,
          0.5866214036941528,
          0.5756193995475769,
          0.5566481351852417,
          0.5466209650039673,
          0.5391878485679626,
          0.5361868143081665,
          0.539448082447052
         ],
         "y": [
          0.8022140046307998,
          0.7977864000314511,
          0.7867447367837623,
          0.7774111182306931,
          0.766877605283352,
          0.7543827612711491,
          0.7403932893514558,
          0.7012825361222509,
          0.6862613381416492,
          0.6667456881149669,
          0.6370918396674959,
          0.6141446198587568,
          0.608497340739486,
          0.5955381544893388,
          0.5798960599661158,
          0.5708397531518384,
          0.5605750083487193,
          0.5491590412143141,
          0.5363464446108186
         ]
        },
        {
         "mode": "markers",
         "showlegend": false,
         "type": "scatter",
         "x": [
          0.800203800201416,
          0.7955451011657715,
          0.7890263199806213,
          0.7739346623420715,
          0.7534915804862976,
          0.7337003350257874,
          0.7306419610977173,
          0.7126291990280151,
          0.669649064540863,
          0.6424957513809204,
          0.6103793978691101,
          0.5916231870651245,
          0.5744704008102417,
          0.5629147887229919,
          0.5445785522460938,
          0.5318732261657715,
          0.5215195417404175,
          0.51591557264328,
          0.5155726671218872
         ],
         "y": [
          0.8028675392110807,
          0.7983380603296815,
          0.7872023437606668,
          0.7775382279813847,
          0.7668357704491533,
          0.7540901875314833,
          0.7398838438957709,
          0.7001872169829029,
          0.685021903077725,
          0.6651292079824294,
          0.6350432509469439,
          0.6116793075254063,
          0.6057928297727838,
          0.5924791386487732,
          0.5763627665246799,
          0.5670891848611418,
          0.5567242045261043,
          0.545129645091011,
          0.5319927965902876
         ]
        },
        {
         "mode": "markers",
         "showlegend": false,
         "type": "scatter",
         "x": [
          0.7994542717933655,
          0.7948989868164062,
          0.7883993983268738,
          0.7727020978927612,
          0.751390278339386,
          0.7318052053451538,
          0.7288122177124023,
          0.7023040652275085,
          0.6653541922569275,
          0.6386065483093262,
          0.6092116832733154,
          0.5897862315177917,
          0.5718832612037659,
          0.5596094727516174,
          0.5416131615638733,
          0.5291498303413391,
          0.5181782841682434,
          0.5103077292442322,
          0.5063401460647583
         ],
         "y": [
          0.8020662539252088,
          0.7975499267931522,
          0.7864943459772962,
          0.7768719979710501,
          0.7662091244211988,
          0.7535724849817943,
          0.7394390914625448,
          0.6998880444299707,
          0.6847230587114466,
          0.6647347546386765,
          0.6341902643943402,
          0.6103037478978065,
          0.6043399993237305,
          0.590770967742129,
          0.5743059201306571,
          0.5647525083431587,
          0.554222223367062,
          0.5423624876350162,
          0.5291539045542016
         ]
        },
        {
         "mode": "markers",
         "showlegend": false,
         "type": "scatter",
         "x": [
          0.7989359498023987,
          0.7944376468658447,
          0.7879243493080139,
          0.771712601184845,
          0.7498379349708557,
          0.7308618426322937,
          0.726517379283905,
          0.6863864660263062,
          0.6616670489311218,
          0.6352645754814148,
          0.6059954762458801,
          0.5851793885231018,
          0.5664266347885132,
          0.5532759428024292,
          0.5350678563117981,
          0.5232727527618408,
          0.5116308331489563,
          0.5027487277984619,
          0.49668943881988525
         ],
         "y": [
          0.8014777991006704,
          0.7969117377599118,
          0.7857678245187375,
          0.7761316509778601,
          0.7653883292547025,
          0.7527461362432751,
          0.7387565457979884,
          0.6993186897943969,
          0.6840373157630361,
          0.6637107285937238,
          0.6323570895515462,
          0.6077055027660722,
          0.6015925997127479,
          0.5875292222789946,
          0.5705723126939546,
          0.5607180071673351,
          0.5498138779408296,
          0.5375499550262033,
          0.5239581423367775
         ]
        },
        {
         "mode": "markers",
         "showlegend": false,
         "type": "scatter",
         "x": [
          0.7983253002166748,
          0.7938498854637146,
          0.7872543334960938,
          0.7703655958175659,
          0.7481672763824463,
          0.7300969362258911,
          0.7240334749221802,
          0.6794540882110596,
          0.6583914160728455,
          0.6316348910331726,
          0.6007680296897888,
          0.5791913866996765,
          0.5611013770103455,
          0.5475999116897583,
          0.528905987739563,
          0.5171512961387634,
          0.5054422616958618,
          0.4957709312438965,
          0.48843640089035034
         ],
         "y": [
          0.8020134325075622,
          0.7974375553666506,
          0.7862776568925789,
          0.7765974641262181,
          0.7656497749760792,
          0.75281896834297,
          0.7385268970361689,
          0.6980527996965109,
          0.6823899276881653,
          0.6613182437594028,
          0.6287268948578726,
          0.6029080897103778,
          0.5964670234757133,
          0.5817338320196753,
          0.5640053778222128,
          0.5537554867447626,
          0.5424307385147906,
          0.5297699644173159,
          0.5155995518961436
         ]
        },
        {
         "mode": "markers",
         "showlegend": false,
         "type": "scatter",
         "x": [
          0.7979139685630798,
          0.7934504151344299,
          0.7867555022239685,
          0.7692313194274902,
          0.7469097971916199,
          0.7297857999801636,
          0.7213950753211975,
          0.6762718558311462,
          0.6560567617416382,
          0.629205584526062,
          0.5970563292503357,
          0.5753862261772156,
          0.5584791898727417,
          0.5442445278167725,
          0.52469402551651,
          0.5123468041419983,
          0.5004026293754578,
          0.49051153659820557,
          0.48283910751342773
         ],
         "y": [
          0.8015159006414324,
          0.7968989781167711,
          0.7857042606322755,
          0.7759943898481755,
          0.7650069253412976,
          0.7520958182209854,
          0.7377418953976553,
          0.6968187777531589,
          0.6807970045087839,
          0.6592874105713887,
          0.6254710213046794,
          0.5987614886232476,
          0.5919725694184718,
          0.5766663018365232,
          0.5582186667689467,
          0.5475491907794109,
          0.5357996675615537,
          0.5226457854070451,
          0.5080443231515854
         ]
        },
        {
         "mode": "markers",
         "showlegend": false,
         "type": "scatter",
         "x": [
          0.7976529002189636,
          0.7931606769561768,
          0.7863432168960571,
          0.7682404518127441,
          0.7460605502128601,
          0.7298921346664429,
          0.7187800407409668,
          0.6743724942207336,
          0.6543285250663757,
          0.6270796060562134,
          0.5932633876800537,
          0.5717920660972595,
          0.5555197596549988,
          0.5404062867164612,
          0.5200818181037903,
          0.5077508687973022,
          0.49538934230804443,
          0.48491907119750977,
          0.47670137882232666
         ],
         "y": [
          0.8009894857640159,
          0.7963452493621241,
          0.7852562361907885,
          0.775501322076073,
          0.7645662339447745,
          0.7515756837966937,
          0.7371678559948677,
          0.695904041595959,
          0.6797081002255791,
          0.6577586284199474,
          0.622785771597195,
          0.5949096370384449,
          0.587892745234363,
          0.5719311843502541,
          0.5527327219801232,
          0.5415872048279448,
          0.5292966605793867,
          0.5157870024851562,
          0.5006023034277586
         ]
        },
        {
         "mode": "markers",
         "showlegend": false,
         "type": "scatter",
         "x": [
          0.7974012494087219,
          0.7929123044013977,
          0.7859243154525757,
          0.7672523856163025,
          0.7454394698143005,
          0.7301049828529358,
          0.7163289785385132,
          0.6731734275817871,
          0.6531468033790588,
          0.6258584856987,
          0.5911134481430054,
          0.5700082778930664,
          0.5546331405639648,
          0.5391395092010498,
          0.5187947750091553,
          0.5065339207649231,
          0.494207501411438,
          0.48363012075424194,
          0.4750043749809265
         ],
         "y": [
          0.8008837443101097,
          0.7962837486889113,
          0.7850681532117878,
          0.7754010809749645,
          0.7644438968783702,
          0.7515011528735417,
          0.7371975150144983,
          0.6959914931652337,
          0.6798812959893501,
          0.6576211307127899,
          0.6221619328205048,
          0.5935298921204191,
          0.5863318070596311,
          0.5699539892958025,
          0.5502906356408455,
          0.5389430819390874,
          0.5264444495508102,
          0.5124320350797122,
          0.4969737032390615
         ]
        },
        {
         "mode": "markers",
         "showlegend": false,
         "type": "scatter",
         "x": [
          0.7970675230026245,
          0.7925323843955994,
          0.7853146195411682,
          0.7660183310508728,
          0.7446137070655823,
          0.7300044298171997,
          0.7141546010971069,
          0.6729153394699097,
          0.6527572870254517,
          0.6251998543739319,
          0.589218258857727,
          0.5684912204742432,
          0.5540921688079834,
          0.5380964279174805,
          0.5174945592880249,
          0.5050222277641296,
          0.49272847175598145,
          0.48225611448287964,
          0.4736141562461853
         ],
         "y": [
          0.80190145056646,
          0.7972107688155697,
          0.7861262185782434,
          0.7762750972775153,
          0.765310086372688,
          0.75243141348022,
          0.7381250852880408,
          0.6973213975697286,
          0.6811148699519014,
          0.6589543084623721,
          0.6230873672781064,
          0.5941044262487102,
          0.5867548506872106,
          0.5702413319658266,
          0.5503074413831098,
          0.5388599746376799,
          0.5261415718558415,
          0.512028493516351,
          0.4964151533295701
         ]
        },
        {
         "mode": "markers",
         "showlegend": false,
         "type": "scatter",
         "x": [
          0.7968518733978271,
          0.7922664284706116,
          0.7848290801048279,
          0.7649679183959961,
          0.7441802620887756,
          0.7301178574562073,
          0.7116484045982361,
          0.6723148226737976,
          0.6519377827644348,
          0.6237932443618774,
          0.5866206288337708,
          0.5664922595024109,
          0.5525155067443848,
          0.5355718731880188,
          0.5144692659378052,
          0.5017946362495422,
          0.4892235994338989,
          0.4783976674079895,
          0.4692627787590027
         ],
         "y": [
          0.8015557752215197,
          0.796931822941633,
          0.7858666285007941,
          0.776086078939987,
          0.7650958276722432,
          0.7521245444478353,
          0.7378825653084226,
          0.696918349700053,
          0.6806758048046055,
          0.658115920875012,
          0.6214292279934563,
          0.5915068563288723,
          0.583993195711974,
          0.5668668627967199,
          0.5463113714352571,
          0.5345185088937217,
          0.5214614760350472,
          0.5069090184828002,
          0.49073226244073914
         ]
        },
        {
         "mode": "markers",
         "showlegend": false,
         "type": "scatter",
         "x": [
          0.7966089248657227,
          0.7919446229934692,
          0.7842267155647278,
          0.7638786435127258,
          0.7437902092933655,
          0.7301793098449707,
          0.7079163193702698,
          0.6720700263977051,
          0.6516128182411194,
          0.6230736970901489,
          0.5849615335464478,
          0.5650501251220703,
          0.5513641834259033,
          0.533746600151062,
          0.5125177502632141,
          0.49966102838516235,
          0.4868864417076111,
          0.4757521152496338,
          0.46649301052093506
         ],
         "y": [
          0.8018420217998582,
          0.7972500911271246,
          0.7861322057721764,
          0.776354652872554,
          0.7653345454545271,
          0.7524074578276275,
          0.7380832134957559,
          0.6972815034498362,
          0.6809095719387205,
          0.6580401636726029,
          0.6207111915430588,
          0.5902496681615765,
          0.582543886062886,
          0.5650037915248916,
          0.5440239730320489,
          0.5318952899901376,
          0.5186437642481077,
          0.5038190629533672,
          0.48720895413736043
         ]
        },
        {
         "mode": "markers",
         "showlegend": false,
         "type": "scatter",
         "x": [
          0.7967028617858887,
          0.7920377254486084,
          0.7841129899024963,
          0.763587236404419,
          0.7443665266036987,
          0.731223464012146,
          0.6994084715843201,
          0.6707596182823181,
          0.6494319438934326,
          0.618853747844696,
          0.5774635076522827,
          0.5569635629653931,
          0.543154776096344,
          0.5240224003791809,
          0.5016736388206482,
          0.48820793628692627,
          0.47448867559432983,
          0.4625651240348816,
          0.45206648111343384
         ],
         "y": [
          0.8002621585140549,
          0.7955365306586756,
          0.7843279629028036,
          0.7744838515838204,
          0.763309656797198,
          0.7502556473170412,
          0.7358255433128531,
          0.6936066382907202,
          0.6766580156352355,
          0.6526183984755592,
          0.6129591215564505,
          0.580460078589364,
          0.5722588307698127,
          0.5535307344687003,
          0.531229779975303,
          0.5183790087894865,
          0.5040862826069619,
          0.4883148680435999,
          0.4705794682479147
         ]
        },
        {
         "mode": "markers",
         "showlegend": false,
         "type": "scatter",
         "x": [
          0.796630859375,
          0.7918912768363953,
          0.78372722864151,
          0.7629973292350769,
          0.744560956954956,
          0.7317282557487488,
          0.6924600005149841,
          0.671288013458252,
          0.6498866081237793,
          0.6187531352043152,
          0.5763997435569763,
          0.5562581419944763,
          0.5430035591125488,
          0.5240440368652344,
          0.5018386244773865,
          0.4880070090293884,
          0.4739838242530823,
          0.4618239998817444,
          0.45147132873535156
         ],
         "y": [
          0.8010114101665952,
          0.7963451659997394,
          0.785199548695867,
          0.7752721773054422,
          0.7641066249646853,
          0.7510654501234083,
          0.7365651675614818,
          0.6945007468159395,
          0.6775984511659441,
          0.6534476053161011,
          0.6134605356487408,
          0.5806411018336971,
          0.5722452093103378,
          0.5534043322007847,
          0.5307662044132555,
          0.5178203924492913,
          0.5034198356422667,
          0.4873353982394486,
          0.46942884620864445
         ]
        },
        {
         "mode": "markers",
         "showlegend": false,
         "type": "scatter",
         "x": [
          0.796581506729126,
          0.7917959690093994,
          0.783384382724762,
          0.7625149488449097,
          0.7447766065597534,
          0.7321205139160156,
          0.6883519887924194,
          0.6717352271080017,
          0.6504166126251221,
          0.6187910437583923,
          0.57525634765625,
          0.5557244420051575,
          0.5428854823112488,
          0.523102343082428,
          0.5005010366439819,
          0.4869292974472046,
          0.47295767068862915,
          0.4604030251502991,
          0.44946181774139404
         ],
         "y": [
          0.8007656754680286,
          0.7960533039818566,
          0.7849631201718333,
          0.7750532489083537,
          0.7640115680611113,
          0.7508333846331843,
          0.7364029352786038,
          0.6943789466290197,
          0.6772842572818893,
          0.65303908229126,
          0.6122614643620838,
          0.578748697737439,
          0.5701837294724066,
          0.5508391467572091,
          0.5277411454297494,
          0.5143723244017714,
          0.4996153445008935,
          0.4832474315550332,
          0.46475462982321936
         ]
        },
        {
         "mode": "markers",
         "showlegend": false,
         "type": "scatter",
         "x": [
          0.796605110168457,
          0.7917585372924805,
          0.783107340335846,
          0.7621758580207825,
          0.7450276017189026,
          0.732421875,
          0.6864801645278931,
          0.6721128821372986,
          0.6506742238998413,
          0.6184490919113159,
          0.5734595656394958,
          0.5535374283790588,
          0.5405475497245789,
          0.5203348994255066,
          0.49785637855529785,
          0.483806848526001,
          0.4694253206253052,
          0.4566907286643982,
          0.44544100761413574
         ],
         "y": [
          0.8004782794691243,
          0.7958987359108702,
          0.7847742565006584,
          0.7750955395841331,
          0.7641227012738203,
          0.7513194674756586,
          0.7369786773536069,
          0.6950220143409679,
          0.6778319961085322,
          0.6531526685217804,
          0.6116079211576083,
          0.5771798439813378,
          0.568423181288664,
          0.5485668945291665,
          0.5248034575102852,
          0.5111302179737777,
          0.49604586550564816,
          0.4789939447228083,
          0.45997386941776286
         ]
        },
        {
         "mode": "markers",
         "showlegend": false,
         "type": "scatter",
         "x": [
          0.7966305613517761,
          0.7917369604110718,
          0.7828640341758728,
          0.7620375752449036,
          0.7455611228942871,
          0.7331575751304626,
          0.6849114894866943,
          0.6715729236602783,
          0.6495478749275208,
          0.6159282326698303,
          0.5688586831092834,
          0.549238383769989,
          0.5367237329483032,
          0.5157840251922607,
          0.49217718839645386,
          0.4772377014160156,
          0.46200859546661377,
          0.44849157333374023,
          0.43654149770736694
         ],
         "y": [
          0.8006505360247838,
          0.7958632040044037,
          0.7846073119944452,
          0.7746525897234818,
          0.7634531994327447,
          0.7502832734661044,
          0.7356849094941889,
          0.6928302995752504,
          0.6753449474103909,
          0.6500075533863435,
          0.607007333753519,
          0.571278292328698,
          0.5622381087679598,
          0.5416559771333473,
          0.517008723464585,
          0.5027890689026951,
          0.48705506252370007,
          0.46940552325504425,
          0.4495586676619142
         ]
        },
        {
         "mode": "markers",
         "showlegend": false,
         "type": "scatter",
         "x": [
          0.7958635091781616,
          0.7907741665840149,
          0.7813063263893127,
          0.7599672079086304,
          0.743708074092865,
          0.7312345504760742,
          0.6879851222038269,
          0.6750645041465759,
          0.6549575924873352,
          0.6248103976249695,
          0.5824296474456787,
          0.5650454163551331,
          0.5540162920951843,
          0.5348172783851624,
          0.5135952234268188,
          0.500780463218689,
          0.4877539277076721,
          0.4763082265853882,
          0.466469407081604
         ],
         "y": [
          0.8053902535884014,
          0.8007876202673581,
          0.7896987504018891,
          0.7799043761113624,
          0.7688034739381212,
          0.7560602747331107,
          0.7418807040403192,
          0.7027265361491343,
          0.6866186831496932,
          0.6636431847124384,
          0.6247170204704283,
          0.5922534510668963,
          0.584023471724105,
          0.5652448687323396,
          0.543036742905995,
          0.5301033293353096,
          0.5158178652088299,
          0.49995395871902537,
          0.4821091202681242
         ]
        },
        {
         "mode": "markers",
         "showlegend": false,
         "type": "scatter",
         "x": [
          0.7953290343284607,
          0.7900267839431763,
          0.7799763679504395,
          0.7583087682723999,
          0.7423229813575745,
          0.729873538017273,
          0.6869009733200073,
          0.6751325130462646,
          0.6552912592887878,
          0.6252037882804871,
          0.582465410232544,
          0.5655097365379333,
          0.5543362498283386,
          0.5342265367507935,
          0.5130778551101685,
          0.5003353357315063,
          0.48722267150878906,
          0.4755922555923462,
          0.4654005169868469
         ],
         "y": [
          0.806019372378624,
          0.8014712735792945,
          0.7903310374311157,
          0.7805667746840419,
          0.7694706627794256,
          0.7568490859445602,
          0.7428328516702336,
          0.7042152735451371,
          0.6884466315822177,
          0.6655656273943886,
          0.6267933548145759,
          0.5944049362753883,
          0.5861762113731228,
          0.5675640547409946,
          0.5452506718100799,
          0.5323907785183505,
          0.5181025220027831,
          0.5023168440271848,
          0.4845344198135204
         ]
        },
        {
         "mode": "markers",
         "showlegend": false,
         "type": "scatter",
         "x": [
          0.7952467203140259,
          0.7897551655769348,
          0.7792760729789734,
          0.757789671421051,
          0.7424703240394592,
          0.73031085729599,
          0.6842629313468933,
          0.6734457612037659,
          0.6525462865829468,
          0.6202497482299805,
          0.5736225247383118,
          0.5557137727737427,
          0.5434091091156006,
          0.5212704539299011,
          0.4990009069442749,
          0.4849463105201721,
          0.4701462388038635,
          0.45668256282806396,
          0.445106565952301
         ],
         "y": [
          0.8044225792269073,
          0.7997994947392971,
          0.7886220316271577,
          0.7787661494969531,
          0.7676169213381773,
          0.7548024592756478,
          0.7405496896477137,
          0.7005705105679713,
          0.6841261049842748,
          0.6598870689760706,
          0.6186362938208446,
          0.5842009362137759,
          0.5754098407848477,
          0.5556305203185591,
          0.5318574492883666,
          0.5180822758666161,
          0.5029060634966416,
          0.4859299891138475,
          0.4667912974976426
         ]
        },
        {
         "mode": "markers",
         "showlegend": false,
         "type": "scatter",
         "x": [
          0.7951579689979553,
          0.7894948720932007,
          0.7786011099815369,
          0.7575077414512634,
          0.7428123354911804,
          0.730957567691803,
          0.6836742758750916,
          0.6731380224227905,
          0.6521255373954773,
          0.6191312670707703,
          0.570759654045105,
          0.5526580214500427,
          0.5406669974327087,
          0.5181654095649719,
          0.4950609803199768,
          0.4802860617637634,
          0.4650003910064697,
          0.45134902000427246,
          0.4387592077255249
         ],
         "y": [
          0.8038537542047087,
          0.79922342897269,
          0.7880643608562318,
          0.7782290350152979,
          0.7670791334742426,
          0.7543020913155517,
          0.7401049477460196,
          0.6997201856722142,
          0.6829582168194156,
          0.6581948178307035,
          0.6158116498930478,
          0.5803814022565996,
          0.5712531120853259,
          0.5508542912094245,
          0.5264080088803816,
          0.5121461291454632,
          0.4964762512402127,
          0.47890875069699046,
          0.45894244112421184
         ]
        },
        {
         "mode": "markers",
         "showlegend": false,
         "type": "scatter",
         "x": [
          0.7951080203056335,
          0.7892680764198303,
          0.7780070304870605,
          0.7574083209037781,
          0.7433055639266968,
          0.7316557765007019,
          0.6838555932044983,
          0.6733556389808655,
          0.6522789597511292,
          0.6180950999259949,
          0.5668957829475403,
          0.5483273267745972,
          0.5362465381622314,
          0.5129444599151611,
          0.4897758364677429,
          0.47464436292648315,
          0.4588220715522766,
          0.4440910816192627,
          0.43135660886764526
         ],
         "y": [
          0.8037046605827964,
          0.7990909722546424,
          0.7878696120666918,
          0.7780389900246601,
          0.7669588165042549,
          0.7540653629306222,
          0.7398099187321697,
          0.6991041561271055,
          0.681995551078762,
          0.6568229392589151,
          0.6133161595303049,
          0.5768899343452961,
          0.5676027651429584,
          0.546583434104621,
          0.5213552833040267,
          0.5067956453467564,
          0.49057788168110683,
          0.472416713695316,
          0.45171325568867643
         ]
        },
        {
         "mode": "markers",
         "showlegend": false,
         "type": "scatter",
         "x": [
          0.7946631908416748,
          0.7885244488716125,
          0.7766874432563782,
          0.7563400864601135,
          0.7425801157951355,
          0.7310147285461426,
          0.6855886578559875,
          0.6751877665519714,
          0.6551448702812195,
          0.623048722743988,
          0.5745880603790283,
          0.5575169324874878,
          0.5462673306465149,
          0.523621141910553,
          0.501257061958313,
          0.48704779148101807,
          0.47200125455856323,
          0.4587673544883728,
          0.4468182325363159
         ],
         "y": [
          0.8058662698239634,
          0.8013660127569231,
          0.790150322516344,
          0.7804186309819622,
          0.769249009952994,
          0.7565313141182799,
          0.7424458063368636,
          0.703355868479866,
          0.6869582136867811,
          0.6626310674021231,
          0.6207487050283791,
          0.5854280075299209,
          0.5764119375023419,
          0.5561050762692156,
          0.531707557605142,
          0.5175755262389692,
          0.5019275324823866,
          0.48440499855366126,
          0.4645065168082177
         ]
        },
        {
         "mode": "markers",
         "showlegend": false,
         "type": "scatter",
         "x": [
          0.7949395179748535,
          0.7886834740638733,
          0.7766537666320801,
          0.7570807337760925,
          0.7438874840736389,
          0.7325064539909363,
          0.683891236782074,
          0.6733304262161255,
          0.6520569324493408,
          0.6163560152053833,
          0.5606221556663513,
          0.5413714051246643,
          0.5286683440208435,
          0.5030792951583862,
          0.478460431098938,
          0.46211498975753784,
          0.44480037689208984,
          0.4289701581001282,
          0.414950966835022
         ],
         "y": [
          0.8029008462417347,
          0.7982552061349659,
          0.7870306533574841,
          0.7771470585842394,
          0.7659828780240154,
          0.7530377942665603,
          0.7387231649901809,
          0.6975098328340574,
          0.6798638410284681,
          0.6535882493882799,
          0.6079076439168235,
          0.5693862277003081,
          0.5595902392767309,
          0.5373694861112095,
          0.5106318735938052,
          0.4952582746450576,
          0.47790786887834824,
          0.4583838750070281,
          0.43598922570032805
         ]
        },
        {
         "mode": "markers",
         "showlegend": false,
         "type": "scatter",
         "x": [
          0.795753002166748,
          0.7895441651344299,
          0.7777416706085205,
          0.7592904567718506,
          0.7465502023696899,
          0.7350208163261414,
          0.6833082437515259,
          0.6717695593833923,
          0.6499057412147522,
          0.6108246445655823,
          0.5482804775238037,
          0.5258611440658569,
          0.5114881992340088,
          0.483501672744751,
          0.4567294716835022,
          0.43884825706481934,
          0.4195188879966736,
          0.4020461440086365,
          0.38581037521362305
         ],
         "y": [
          0.7983863212712519,
          0.793491535849451,
          0.7817990129883686,
          0.7718390835792204,
          0.7611058483274785,
          0.7487236729393786,
          0.7342196893072891,
          0.6907261587450868,
          0.6720655601015227,
          0.6433681204364108,
          0.592992587932597,
          0.5505681893137805,
          0.5398586528790474,
          0.5153460621572488,
          0.4861073461312428,
          0.4688732216669247,
          0.44952183499169407,
          0.4277002416144563,
          0.40237531690232964
         ]
        },
        {
         "mode": "markers",
         "showlegend": false,
         "type": "scatter",
         "x": [
          0.7960035800933838,
          0.7897542119026184,
          0.7779805064201355,
          0.7603359818458557,
          0.7480431795120239,
          0.7367245554924011,
          0.6847622394561768,
          0.6728600263595581,
          0.6504636406898499,
          0.6106155514717102,
          0.5445656180381775,
          0.5241621136665344,
          0.5114033222198486,
          0.483267605304718,
          0.45573556423187256,
          0.4363468289375305,
          0.415447473526001,
          0.3957643508911133,
          0.377785325050354
         ],
         "y": [
          0.7991827951251113,
          0.7944005839720993,
          0.7830404187924035,
          0.7730921869841381,
          0.7617552974920945,
          0.7485337514488964,
          0.7338110404228798,
          0.689288010585219,
          0.6699235132269843,
          0.6406386373397669,
          0.5888855643950917,
          0.5450726119742588,
          0.5340202030472959,
          0.5086698062622257,
          0.47787698668160083,
          0.459862423452976,
          0.4394739497524436,
          0.41613406968040834,
          0.38886984175682215
         ]
        },
        {
         "mode": "markers",
         "showlegend": false,
         "type": "scatter",
         "x": [
          0.7960461974143982,
          0.7897040843963623,
          0.7778574228286743,
          0.7606853246688843,
          0.7484747767448425,
          0.7370994687080383,
          0.6889640092849731,
          0.6753646731376648,
          0.6539264917373657,
          0.615857720375061,
          0.5516468286514282,
          0.5313965082168579,
          0.519035816192627,
          0.4912784695625305,
          0.4643775224685669,
          0.4464094638824463,
          0.4267657995223999,
          0.408947229385376,
          0.3921853303909302
         ],
         "y": [
          0.8008751603171479,
          0.7961219669011119,
          0.7847710834590315,
          0.7748538476567403,
          0.7635535543441856,
          0.7504240296781788,
          0.7358305326629102,
          0.6925670898693823,
          0.6738069049209005,
          0.6452107030165564,
          0.5946495788173929,
          0.5518535980012746,
          0.5409275660644577,
          0.5160963162763115,
          0.4860413411601985,
          0.4684337810034867,
          0.4486635642592131,
          0.425796673754576,
          0.39923201268486946
         ]
        },
        {
         "mode": "markers",
         "showlegend": false,
         "type": "scatter",
         "x": [
          0.7963413000106812,
          0.7899985313415527,
          0.7782216668128967,
          0.7615698575973511,
          0.7494634389877319,
          0.7379869222640991,
          0.691411554813385,
          0.675383985042572,
          0.6535782814025879,
          0.6137178540229797,
          0.544740617275238,
          0.5236057639122009,
          0.5103638768196106,
          0.48033034801483154,
          0.45193082094192505,
          0.4323199987411499,
          0.41096317768096924,
          0.3907567262649536,
          0.37187260389328003
         ],
         "y": [
          0.7993476104152832,
          0.7946706442573274,
          0.7832013045445466,
          0.7731767802843199,
          0.7618007521675547,
          0.7485354813517977,
          0.7337569492873266,
          0.6890043699470545,
          0.669349674762284,
          0.6395190925511026,
          0.5863547512698195,
          0.5409646387270607,
          0.5295415260973421,
          0.5031782738101134,
          0.4712346897156014,
          0.45225270122587824,
          0.43084874976635523,
          0.4060273607955566,
          0.3769525853756837
         ]
        },
        {
         "mode": "markers",
         "showlegend": false,
         "type": "scatter",
         "x": [
          0.796606719493866,
          0.790260374546051,
          0.7785745859146118,
          0.7624144554138184,
          0.7503301501274109,
          0.7387505769729614,
          0.6956940293312073,
          0.6760439276695251,
          0.6541528105735779,
          0.6137275099754333,
          0.542707085609436,
          0.521396279335022,
          0.5082463026046753,
          0.4776831865310669,
          0.4488086700439453,
          0.42855870723724365,
          0.40639740228652954,
          0.38585370779037476,
          0.36603862047195435
         ],
         "y": [
          0.7991043656845545,
          0.7944464533671748,
          0.7831056008185742,
          0.7730458696985868,
          0.7615758766390809,
          0.748376278450956,
          0.7335816707363123,
          0.6887165699457048,
          0.6690446732582838,
          0.6388165458841184,
          0.5847163538511291,
          0.5387059012946868,
          0.5269785441793519,
          0.5001682896049294,
          0.46740121841982607,
          0.4480821242165817,
          0.4259734878151368,
          0.4004464426709964,
          0.37018472105240247
         ]
        },
        {
         "mode": "markers",
         "showlegend": false,
         "type": "scatter",
         "x": [
          0.7967095375061035,
          0.7903274893760681,
          0.7787147164344788,
          0.7629023194313049,
          0.7507834434509277,
          0.7390649318695068,
          0.7015831470489502,
          0.6770567297935486,
          0.6555598378181458,
          0.6159010529518127,
          0.543990433216095,
          0.5218586325645447,
          0.5087862610816956,
          0.47814589738845825,
          0.4493618607521057,
          0.42907726764678955,
          0.40706515312194824,
          0.385570764541626,
          0.36566996574401855
         ],
         "y": [
          0.8001990617945861,
          0.7955227175702981,
          0.7841533536135208,
          0.7741148048461114,
          0.7626413823938596,
          0.7494966714002946,
          0.7347216105142718,
          0.6901036589860895,
          0.6703518470438931,
          0.6402967214200546,
          0.5862321257416108,
          0.540101313318802,
          0.5283668275242521,
          0.5014906779864248,
          0.4686535481497343,
          0.44918617985950166,
          0.4269153271696658,
          0.40116040429820776,
          0.37075736603809434
         ]
        },
        {
         "mode": "markers",
         "showlegend": false,
         "type": "scatter",
         "x": [
          0.7969515919685364,
          0.7905635237693787,
          0.7790655493736267,
          0.7635710835456848,
          0.7513654232025146,
          0.7395301461219788,
          0.7061749696731567,
          0.6774697303771973,
          0.656100332736969,
          0.6162671446800232,
          0.5421473979949951,
          0.5193197727203369,
          0.5062693357467651,
          0.4752335548400879,
          0.4461182951927185,
          0.4253275394439697,
          0.4027951955795288,
          0.38138699531555176,
          0.36095112562179565
         ],
         "y": [
          0.7996235030995912,
          0.794881845554007,
          0.7836404391281132,
          0.7737751464560342,
          0.7624736195360897,
          0.7494891258706283,
          0.7346565346053143,
          0.6900980390967978,
          0.6703771174349165,
          0.6400374594442514,
          0.5853393110381739,
          0.5385601517549586,
          0.5265685420473385,
          0.499369141552061,
          0.46587725847421857,
          0.44620280498847964,
          0.4233704133353359,
          0.39699532786372643,
          0.3654284935060984
         ]
        },
        {
         "mode": "markers",
         "showlegend": false,
         "type": "scatter",
         "x": [
          0.7971480488777161,
          0.7907990217208862,
          0.7794281840324402,
          0.7643282413482666,
          0.7521253824234009,
          0.7401565313339233,
          0.7100825905799866,
          0.678048312664032,
          0.656860888004303,
          0.6171161532402039,
          0.5411447882652283,
          0.5174790620803833,
          0.5037321448326111,
          0.47088783979415894,
          0.44089317321777344,
          0.4198962450027466,
          0.3963053226470947,
          0.37334901094436646,
          0.35137027502059937
         ],
         "y": [
          0.7992154638613098,
          0.7945250623050382,
          0.783100422803951,
          0.7730038890175078,
          0.7617204589393762,
          0.7485556183768046,
          0.7337035294989742,
          0.6888703715851775,
          0.6688184784372567,
          0.637945905491944,
          0.5820039750913772,
          0.534119067852419,
          0.5218935415654604,
          0.49380728553814024,
          0.4593844038607892,
          0.43884121609622795,
          0.4151939725201784,
          0.38761004911749297,
          0.3539982680861977
         ]
        },
        {
         "mode": "markers",
         "showlegend": false,
         "type": "scatter",
         "x": [
          0.7973724007606506,
          0.7910224795341492,
          0.7798377871513367,
          0.7650372385978699,
          0.752825915813446,
          0.7407466769218445,
          0.7135602235794067,
          0.6785195469856262,
          0.657366931438446,
          0.6174073219299316,
          0.5394535064697266,
          0.5148862600326538,
          0.5006910562515259,
          0.4673371911048889,
          0.43686801195144653,
          0.4151882529258728,
          0.39091581106185913,
          0.3676132559776306,
          0.34488582611083984
         ],
         "y": [
          0.799178140691005,
          0.7942544463202202,
          0.7829829608525992,
          0.7730656382965457,
          0.761610475814665,
          0.7485055913673745,
          0.7337502254483239,
          0.6886474532694705,
          0.6685901681356443,
          0.6372834108922435,
          0.5807044718916208,
          0.5320508174980806,
          0.5197388265326208,
          0.49126917327839487,
          0.45621255681018213,
          0.43528983289774603,
          0.4110499920816971,
          0.3828716084687426,
          0.3485209873927556
         ]
        },
        {
         "mode": "markers",
         "showlegend": false,
         "type": "scatter",
         "x": [
          0.7974430918693542,
          0.7910929918289185,
          0.779955267906189,
          0.7653878927230835,
          0.7530465722084045,
          0.7407981753349304,
          0.7165706753730774,
          0.6797599792480469,
          0.6590037941932678,
          0.6201137900352478,
          0.5426126718521118,
          0.5172714591026306,
          0.5034163594245911,
          0.47060149908065796,
          0.44088107347488403,
          0.4194640517234802,
          0.39519202709198,
          0.37155401706695557,
          0.34879767894744873
         ],
         "y": [
          0.7998428808727805,
          0.795136690556262,
          0.783822563248556,
          0.7738299722921873,
          0.7625735239246321,
          0.7495971992527222,
          0.7350668393350754,
          0.6906266686631428,
          0.670659917526635,
          0.6397141806611427,
          0.5834086776068267,
          0.5351507096446605,
          0.5228575095098625,
          0.4944646891267557,
          0.45953812774844555,
          0.43866556164926546,
          0.4146185111068187,
          0.3865031111240074,
          0.35237987163054274
         ]
        },
        {
         "mode": "markers",
         "showlegend": false,
         "type": "scatter",
         "x": [
          0.7976135611534119,
          0.7912765145301819,
          0.7803276777267456,
          0.7660464644432068,
          0.7537302374839783,
          0.7414771318435669,
          0.717634916305542,
          0.6792835593223572,
          0.6583181023597717,
          0.6182715892791748,
          0.5365164279937744,
          0.5097267031669617,
          0.4951035976409912,
          0.4601002335548401,
          0.4285629987716675,
          0.4056910276412964,
          0.38005149364471436,
          0.3550994396209717,
          0.3303911089897156
         ],
         "y": [
          0.7993869474924491,
          0.7946381343268433,
          0.7831213013016397,
          0.7731545386637597,
          0.7616987486496475,
          0.7484870673632463,
          0.7336319912585287,
          0.6881951363004128,
          0.6677490192233411,
          0.6358590639279014,
          0.5776358735960303,
          0.5276642987884942,
          0.5148890027075282,
          0.48541756057372976,
          0.4489854564363507,
          0.42702826702982893,
          0.40148584816648464,
          0.3712176249412101,
          0.33445089234818426
         ]
        },
        {
         "mode": "markers",
         "showlegend": false,
         "type": "scatter",
         "x": [
          0.7969808578491211,
          0.7904648184776306,
          0.7792338132858276,
          0.7647797465324402,
          0.7521265745162964,
          0.7396042943000793,
          0.720108687877655,
          0.6830788254737854,
          0.664009690284729,
          0.6297581195831299,
          0.5609683394432068,
          0.5369956493377686,
          0.5253719687461853,
          0.4964766502380371,
          0.4696902632713318,
          0.4508044123649597,
          0.43027329444885254,
          0.4105149507522583,
          0.3912350535392761
         ],
         "y": [
          0.8045015111546939,
          0.7998390284460256,
          0.788458811573585,
          0.778686211741783,
          0.7674735193616551,
          0.7547001953294985,
          0.7404942983553855,
          0.6994719252363646,
          0.6810972816051206,
          0.6526976410312948,
          0.6011008524250863,
          0.5566965371020898,
          0.545417767029026,
          0.5194962798265886,
          0.48774204633760543,
          0.46907854229933305,
          0.44768336103883566,
          0.42272303614278334,
          0.3930767754661847
         ]
        },
        {
         "mode": "markers",
         "showlegend": false,
         "type": "scatter",
         "x": [
          0.7973761558532715,
          0.790910542011261,
          0.7799006104469299,
          0.7657496333122253,
          0.7531896233558655,
          0.740760087966919,
          0.7187756299972534,
          0.6798264384269714,
          0.6594098210334778,
          0.6197827458381653,
          0.5365085005760193,
          0.5081311464309692,
          0.4933788776397705,
          0.45743799209594727,
          0.4254162311553955,
          0.4020897150039673,
          0.375602126121521,
          0.3494061827659607,
          0.32411646842956543
         ],
         "y": [
          0.8000619768058098,
          0.795310320857359,
          0.7838192593176118,
          0.7738757776184483,
          0.7625482339338792,
          0.7494354606366245,
          0.7348101912281134,
          0.690029926752245,
          0.6697580166919883,
          0.638102348669332,
          0.5799029830583748,
          0.5298480758838473,
          0.5170687781795303,
          0.48756396604810087,
          0.45096929106507516,
          0.42893564753549673,
          0.4032351808223412,
          0.3727772453393941,
          0.33531346063497613
         ]
        },
        {
         "mode": "markers",
         "showlegend": false,
         "type": "scatter",
         "x": [
          0.7975972294807434,
          0.7911275029182434,
          0.7802801132202148,
          0.7664732336997986,
          0.7539849877357483,
          0.7416914701461792,
          0.719167947769165,
          0.6797932982444763,
          0.6594017744064331,
          0.6196505427360535,
          0.534968376159668,
          0.5048506855964661,
          0.49005037546157837,
          0.4544753432273865,
          0.4222124218940735,
          0.39813846349716187,
          0.37076205015182495,
          0.34377169609069824,
          0.3167722225189209
         ],
         "y": [
          0.7995990649841921,
          0.7948635429566562,
          0.7834938951687825,
          0.7734332718311886,
          0.7621018117314183,
          0.7489229947047384,
          0.7341082292159511,
          0.6890085965982373,
          0.668326383070005,
          0.6359700049586606,
          0.57645059911991,
          0.5252796528690166,
          0.5121582115690052,
          0.48177877415188314,
          0.44401825441732345,
          0.42105193185530676,
          0.3943084787727518,
          0.36240807319480517,
          0.32264923542038215
         ]
        },
        {
         "mode": "markers",
         "showlegend": false,
         "type": "scatter",
         "x": [
          0.7975093126296997,
          0.7909854650497437,
          0.7801367044448853,
          0.7664853930473328,
          0.7539756298065186,
          0.7416841387748718,
          0.7204651236534119,
          0.6814383268356323,
          0.6617642045021057,
          0.6245424151420593,
          0.5431115627288818,
          0.5126006603240967,
          0.49782711267471313,
          0.46220237016677856,
          0.43015217781066895,
          0.4065507650375366,
          0.37983620166778564,
          0.353019118309021,
          0.3266759216785431
         ],
         "y": [
          0.8013746593327629,
          0.7966280927153991,
          0.7852962233815328,
          0.7752501223385557,
          0.7639324261837969,
          0.7508198925709159,
          0.7362584306711301,
          0.692216801319832,
          0.6720758327606815,
          0.6404521038217359,
          0.5824671074256783,
          0.5325183561775316,
          0.5195903822213788,
          0.49002858780410297,
          0.45343248278041004,
          0.43124291394671993,
          0.405480327366541,
          0.37461980888325597,
          0.336698557701991
         ]
        },
        {
         "mode": "markers",
         "showlegend": false,
         "type": "scatter",
         "x": [
          0.7975588440895081,
          0.7909812331199646,
          0.7802065014839172,
          0.7666955590248108,
          0.754182755947113,
          0.7418627142906189,
          0.7210251688957214,
          0.6818462014198303,
          0.6621795296669006,
          0.6246205568313599,
          0.5404408574104309,
          0.508650541305542,
          0.4946410059928894,
          0.459075927734375,
          0.4266701936721802,
          0.4028870463371277,
          0.3758394122123718,
          0.349084734916687,
          0.3216363787651062
         ],
         "y": [
          0.8010195230542219,
          0.7962194623701432,
          0.7849010907808341,
          0.7748734477467882,
          0.7636444670270706,
          0.7505714239848786,
          0.7359723425266761,
          0.6918227741492882,
          0.6714988377542057,
          0.6395526293936921,
          0.5807004284026785,
          0.5297960463547531,
          0.5169327518678383,
          0.48677947199126714,
          0.4493544297650687,
          0.42650118275011,
          0.3998261717027327,
          0.36815234452800727,
          0.328187686480179
         ]
        },
        {
         "mode": "markers",
         "showlegend": false,
         "type": "scatter",
         "x": [
          0.7979326248168945,
          0.7914281487464905,
          0.7809270620346069,
          0.7677788138389587,
          0.7554423809051514,
          0.7432340979576111,
          0.7209324836730957,
          0.6803657412528992,
          0.6599694490432739,
          0.6192192435264587,
          0.5264459848403931,
          0.4913765788078308,
          0.47500449419021606,
          0.43311619758605957,
          0.397421658039093,
          0.37028539180755615,
          0.33869779109954834,
          0.30670684576034546,
          0.2754172086715698
         ],
         "y": [
          0.798313158304379,
          0.7934912454954219,
          0.7820234710108234,
          0.7719812916811882,
          0.7605851918756583,
          0.7473508611024797,
          0.7324095145016176,
          0.6857378053214508,
          0.6640104998936285,
          0.6297694796897072,
          0.5659101735440255,
          0.5107750332713801,
          0.49661815487199507,
          0.4636242310915113,
          0.4217120123553829,
          0.39582963439180674,
          0.36516249157164543,
          0.327380767170085,
          0.27994184773686975
         ]
        },
        {
         "mode": "markers",
         "showlegend": false,
         "type": "scatter",
         "x": [
          0.7981886863708496,
          0.7917208075523376,
          0.7814638614654541,
          0.7686411738395691,
          0.7564063668251038,
          0.7441654205322266,
          0.7219885587692261,
          0.6813924908638,
          0.6611083745956421,
          0.6211332082748413,
          0.5282928943634033,
          0.49142658710479736,
          0.47472983598709106,
          0.43102341890335083,
          0.3942219018936157,
          0.36629652976989746,
          0.33381325006484985,
          0.3006587028503418,
          0.26657652854919434
         ],
         "y": [
          0.7981899507394962,
          0.7933225378008759,
          0.7818496947746043,
          0.771750142035181,
          0.7604432321512801,
          0.7471341157096089,
          0.7321581382122493,
          0.6852688638639803,
          0.6633538442739594,
          0.6285660445037075,
          0.5638031270498096,
          0.5076575400161828,
          0.49327999820776514,
          0.45943683252143785,
          0.4162049251967309,
          0.3896823935898314,
          0.3577659372965431,
          0.3182439659948677,
          0.2685525840624887
         ]
        },
        {
         "mode": "markers",
         "showlegend": false,
         "type": "scatter",
         "x": [
          0.7984146475791931,
          0.792004406452179,
          0.7819454669952393,
          0.7694310545921326,
          0.7572364211082458,
          0.7449527978897095,
          0.7230079174041748,
          0.6824756860733032,
          0.6619853377342224,
          0.6223028302192688,
          0.5282019376754761,
          0.49023884534835815,
          0.4735131859779358,
          0.4283456802368164,
          0.39124834537506104,
          0.3627358675003052,
          0.3295166492462158,
          0.2948702573776245,
          0.25985997915267944
         ],
         "y": [
          0.7977631494414548,
          0.792990112111124,
          0.7815461720450578,
          0.7715987729445536,
          0.7601287444327256,
          0.7469324205858887,
          0.7319812116001481,
          0.685084295679883,
          0.6628688625725127,
          0.6281280568771672,
          0.5630269126560167,
          0.5064342970605792,
          0.4917220984769488,
          0.4573896059676258,
          0.4132583955056246,
          0.38575872635780495,
          0.35279761952873,
          0.3116208067542914,
          0.26017044625650076
         ]
        },
        {
         "mode": "markers",
         "showlegend": false,
         "type": "scatter",
         "x": [
          0.7983588576316833,
          0.7919255495071411,
          0.7819536924362183,
          0.7695465087890625,
          0.7573082447052002,
          0.7448297142982483,
          0.724347710609436,
          0.6848511099815369,
          0.6641299724578857,
          0.6258915662765503,
          0.5365122556686401,
          0.4992598295211792,
          0.48411619663238525,
          0.4406437277793884,
          0.40488022565841675,
          0.3782632350921631,
          0.34670406579971313,
          0.3141549229621887,
          0.28044456243515015
         ],
         "y": [
          0.8000555443259638,
          0.7954048447592764,
          0.7839666451310067,
          0.7738495719914336,
          0.7625362626567482,
          0.749394149076071,
          0.7345740382365917,
          0.6890944287780709,
          0.6677215570122429,
          0.6338284889304737,
          0.5703314362612768,
          0.5153290373965442,
          0.5011205409841022,
          0.4679822645440118,
          0.4256230577987454,
          0.39935138524225067,
          0.3679247850150825,
          0.32903338131896787,
          0.27892244819578077
         ]
        },
        {
         "mode": "markers",
         "showlegend": false,
         "type": "scatter",
         "x": [
          0.7983482480049133,
          0.7919217348098755,
          0.7819808721542358,
          0.7696410417556763,
          0.7572374939918518,
          0.7445868849754333,
          0.7250968217849731,
          0.6859661936759949,
          0.6653972864151001,
          0.6282069087028503,
          0.5414921045303345,
          0.5032280087471008,
          0.48791414499282837,
          0.4438260793685913,
          0.4075509309768677,
          0.3800395131111145,
          0.3478749990463257,
          0.31402939558029175,
          0.27950531244277954
         ],
         "y": [
          0.8003224209288374,
          0.7956067352771538,
          0.7841703066754673,
          0.774233665126075,
          0.7629220645614245,
          0.74983270200937,
          0.7351789127901648,
          0.6902916696389143,
          0.6691545068330683,
          0.6354576167307173,
          0.572035090641581,
          0.5167983133748101,
          0.502558335064774,
          0.46909544238906054,
          0.42649063950965405,
          0.39991536006818446,
          0.36768668009855976,
          0.3280165163939026,
          0.27616176807562054
         ]
        },
        {
         "mode": "markers",
         "showlegend": false,
         "type": "scatter",
         "x": [
          0.7983159422874451,
          0.7919908165931702,
          0.7822792530059814,
          0.7704852819442749,
          0.7586132884025574,
          0.7465696334838867,
          0.7244828343391418,
          0.6815217733383179,
          0.6609344482421875,
          0.6192137002944946,
          0.5194483995437622,
          0.4748644232749939,
          0.4539845585823059,
          0.39784514904022217,
          0.3557482361793518,
          0.32332026958465576,
          0.28433236479759216,
          0.24480345845222473,
          0.20663094520568848
         ],
         "y": [
          0.8021021245344392,
          0.7969341318727496,
          0.7837212398741293,
          0.7717863838798309,
          0.7585594760358905,
          0.7437482152159149,
          0.7275459362386703,
          0.6780968200738,
          0.655284101327477,
          0.6183600194654504,
          0.5479735909119701,
          0.48623661727470446,
          0.4701452805121844,
          0.4318172883966625,
          0.38151546704217876,
          0.34941751672566446,
          0.3093423167378211,
          0.26110124548198077,
          0.21169066017065974
         ]
        },
        {
         "mode": "markers",
         "showlegend": false,
         "type": "scatter",
         "x": [
          0.7992421984672546,
          0.7930911183357239,
          0.783896267414093,
          0.7726861834526062,
          0.7608555555343628,
          0.7487367391586304,
          0.7254387736320496,
          0.6824875473976135,
          0.6589455604553223,
          0.6120015382766724,
          0.49614769220352173,
          0.4477510452270508,
          0.4260779619216919,
          0.3591238260269165,
          0.3107720911502838,
          0.2704714834690094,
          0.22229281067848206,
          0.1768624186515808,
          0.14195692539215088
         ],
         "y": [
          0.7917257899452215,
          0.7866396240879734,
          0.7747575543637428,
          0.7647068620137432,
          0.7535912149992168,
          0.7396705419843685,
          0.7235368109362148,
          0.6706391514425183,
          0.6443599702722637,
          0.6019284819570182,
          0.5215042529554668,
          0.45029392360505616,
          0.4310995009554138,
          0.38473295145773057,
          0.3206544836588347,
          0.2789516903343855,
          0.235794647176265,
          0.1951337738116471,
          0.1416045534858596
         ]
        },
        {
         "mode": "markers",
         "showlegend": false,
         "type": "scatter",
         "x": [
          0.7997857928276062,
          0.7938141226768494,
          0.7849825024604797,
          0.7739944458007812,
          0.7624605298042297,
          0.7502629160881042,
          0.7275234460830688,
          0.6886484622955322,
          0.6618224382400513,
          0.6180288195610046,
          0.508950412273407,
          0.45762139558792114,
          0.43198853731155396,
          0.35907721519470215,
          0.310799241065979,
          0.2692485451698303,
          0.2188003957271576,
          0.17306233942508698,
          0.13733366131782532
         ],
         "y": [
          0.7917180467443438,
          0.7866811771093563,
          0.7754991927465306,
          0.7655369140385173,
          0.7534163004205027,
          0.7399326717426227,
          0.7242132501231708,
          0.6706247967056644,
          0.645051101282834,
          0.6033135643391374,
          0.523136307911616,
          0.45147824250829904,
          0.43233870464772023,
          0.3854418526501642,
          0.32031453746879784,
          0.27750326183880136,
          0.23268030585279126,
          0.19032077061286906,
          0.13474410812413923
         ]
        },
        {
         "mode": "markers",
         "showlegend": false,
         "type": "scatter",
         "x": [
          0.7995169162750244,
          0.7935845851898193,
          0.7848361730575562,
          0.773971676826477,
          0.7620197534561157,
          0.7493634819984436,
          0.7299729585647583,
          0.7032697796821594,
          0.6677023768424988,
          0.6296201348304749,
          0.5390864610671997,
          0.49730509519577026,
          0.4836658835411072,
          0.4249606132507324,
          0.3838472366333008,
          0.3495858907699585,
          0.3074973225593567,
          0.262262761592865,
          0.2140561044216156
         ],
         "y": [
          0.7976628106891637,
          0.7930050112839019,
          0.7811707482956656,
          0.7715551186565532,
          0.7601753464792014,
          0.7466330058055717,
          0.7317823619333135,
          0.6843135479372069,
          0.6614394104068799,
          0.6246230503041424,
          0.5543787008444488,
          0.4924184889136826,
          0.47611574438091653,
          0.4372183725641874,
          0.3855836784474507,
          0.35194306942833326,
          0.3097603064864518,
          0.25612914003179893,
          0.1980053501572687
         ]
        },
        {
         "mode": "markers",
         "showlegend": false,
         "type": "scatter",
         "x": [
          0.7995849251747131,
          0.7936674356460571,
          0.7849906086921692,
          0.7741089463233948,
          0.7620306015014648,
          0.7489410638809204,
          0.7307559847831726,
          0.705092191696167,
          0.6678199172019958,
          0.6281940340995789,
          0.5348582863807678,
          0.48932015895843506,
          0.47283297777175903,
          0.4109823703765869,
          0.37024664878845215,
          0.3382253646850586,
          0.2964075207710266,
          0.24983957409858704,
          0.19991254806518555
         ],
         "y": [
          0.7983416291629041,
          0.7934617554050458,
          0.7820528785737827,
          0.7719491241766325,
          0.7605772269116391,
          0.7472974585695462,
          0.7323938458101165,
          0.6850866286152428,
          0.6622125971317885,
          0.6249229502561697,
          0.5533133682357978,
          0.49003300050806314,
          0.47339344585455667,
          0.4335325086965191,
          0.38002347612349074,
          0.34486562468769755,
          0.2998826893457942,
          0.24378064813592265,
          0.1847195066812495
         ]
        },
        {
         "mode": "markers",
         "showlegend": false,
         "type": "scatter",
         "x": [
          0.7996170520782471,
          0.793752908706665,
          0.7851367592811584,
          0.7742643356323242,
          0.7619888782501221,
          0.7486026287078857,
          0.7311393022537231,
          0.7034978866577148,
          0.6678194999694824,
          0.628088116645813,
          0.5359434485435486,
          0.48639369010925293,
          0.4689576029777527,
          0.4082706570625305,
          0.36730945110321045,
          0.3337990641593933,
          0.2921687066555023,
          0.24549022316932678,
          0.19629783928394318
         ],
         "y": [
          0.798385934063518,
          0.7935935289636243,
          0.7821710705454723,
          0.7721839507789329,
          0.7610180828338263,
          0.7478096980021205,
          0.7330177711981015,
          0.6860348223649352,
          0.6633029536275312,
          0.6261137381880381,
          0.5545256763580183,
          0.4914472417007778,
          0.474791820559459,
          0.43489363091549116,
          0.3815055803271558,
          0.3463717700270636,
          0.3016008454233255,
          0.24523759893717817,
          0.184998398579377
         ]
        },
        {
         "mode": "markers",
         "showlegend": false,
         "type": "scatter",
         "x": [
          0.7997126579284668,
          0.7938634753227234,
          0.7853493094444275,
          0.7744707465171814,
          0.7620698809623718,
          0.7485079169273376,
          0.731169581413269,
          0.7001467943191528,
          0.6671819090843201,
          0.6267561316490173,
          0.5327110886573792,
          0.477433443069458,
          0.45763933658599854,
          0.3935891389846802,
          0.35019904375076294,
          0.3144072890281677,
          0.2695468068122864,
          0.22245915234088898,
          0.17386746406555176
         ],
         "y": [
          0.7983085467073792,
          0.7935105528884875,
          0.7821273423283156,
          0.7722915515612189,
          0.7610481688809845,
          0.7479076053417948,
          0.7329041220875117,
          0.6853445779424164,
          0.6622286158069022,
          0.6242935454783518,
          0.5511460499476425,
          0.48639063407495275,
          0.4692573024250771,
          0.4277781815872982,
          0.3717177376176157,
          0.3342354890244543,
          0.28589376729091426,
          0.22730104875064414,
          0.1668455680014775
         ]
        },
        {
         "mode": "markers",
         "showlegend": false,
         "type": "scatter",
         "x": [
          0.799811065196991,
          0.7940033674240112,
          0.785576343536377,
          0.7748091816902161,
          0.7624303102493286,
          0.748862087726593,
          0.7310820817947388,
          0.6969127058982849,
          0.6665449142456055,
          0.6254918575286865,
          0.5297707319259644,
          0.47097349166870117,
          0.44939929246902466,
          0.3827056884765625,
          0.33694350719451904,
          0.29772958159446716,
          0.2495194375514984,
          0.19918867945671082,
          0.15057575702667236
         ],
         "y": [
          0.7972057389158389,
          0.7924153076232907,
          0.7809226823961234,
          0.7709114390955087,
          0.7593673203497323,
          0.7460764756620286,
          0.730810207293231,
          0.6820357073644256,
          0.6582906903106844,
          0.6190292763151224,
          0.543200590410371,
          0.4758224606803768,
          0.4576742665813377,
          0.41400018296442903,
          0.35382719910946525,
          0.3126464720858825,
          0.26103264970854506,
          0.20491290831803627,
          0.14591802899326684
         ]
        },
        {
         "mode": "markers",
         "showlegend": false,
         "type": "scatter",
         "x": [
          0.799828290939331,
          0.7940245270729065,
          0.785676121711731,
          0.774890661239624,
          0.7625307440757751,
          0.7488887310028076,
          0.7313030362129211,
          0.6972618103027344,
          0.6672630310058594,
          0.6267346143722534,
          0.5326986312866211,
          0.4730951189994812,
          0.4520626664161682,
          0.3823031783103943,
          0.335369348526001,
          0.29524314403533936,
          0.24519546329975128,
          0.19311082363128662,
          0.14167484641075134
         ],
         "y": [
          0.7978807509854378,
          0.7930235619909616,
          0.7815530333505976,
          0.7714099903615825,
          0.7598973823975425,
          0.7465231092029396,
          0.7314092223979561,
          0.6826104614539275,
          0.6587327285630513,
          0.6192809707893145,
          0.5427733110426711,
          0.47447849761197425,
          0.4561816848252631,
          0.41155910851354294,
          0.3495713910497607,
          0.3069355742631438,
          0.25326672814483486,
          0.19586729953599968,
          0.13287248998276116
         ]
        },
        {
         "mode": "markers",
         "showlegend": false,
         "type": "scatter",
         "x": [
          0.7997739911079407,
          0.7939820289611816,
          0.7856404185295105,
          0.7748991847038269,
          0.76249760389328,
          0.7488307952880859,
          0.7314032316207886,
          0.6976507306098938,
          0.6677714586257935,
          0.6274522542953491,
          0.5340328812599182,
          0.4737291932106018,
          0.454226016998291,
          0.3853721022605896,
          0.33966249227523804,
          0.29978781938552856,
          0.24928522109985352,
          0.1954479068517685,
          0.14174441993236542
         ],
         "y": [
          0.7991221992068662,
          0.7943794563024591,
          0.7829043377597703,
          0.7727754127571801,
          0.7611592634617712,
          0.7477571146648614,
          0.7324670873159577,
          0.6841651831508347,
          0.660558414645825,
          0.6213837562482232,
          0.5456372313839465,
          0.47789463887904127,
          0.4596714405707651,
          0.41551073827490503,
          0.35424877915678316,
          0.3117566171757518,
          0.25764978897672497,
          0.19735754439319642,
          0.13223626004324718
         ]
        },
        {
         "mode": "markers",
         "showlegend": false,
         "type": "scatter",
         "x": [
          0.7999668717384338,
          0.7942215800285339,
          0.7859756350517273,
          0.7753408551216125,
          0.7630321979522705,
          0.7494178414344788,
          0.7312056422233582,
          0.695954442024231,
          0.6669278740882874,
          0.6250823140144348,
          0.5277477502822876,
          0.4632819890975952,
          0.4418299198150635,
          0.3654199242591858,
          0.3172001838684082,
          0.274788498878479,
          0.2211925983428955,
          0.16596630215644836,
          0.11392011493444443
         ],
         "y": [
          0.7971674140423785,
          0.7923944310970109,
          0.7807439862217369,
          0.7706128739692423,
          0.7590665710319795,
          0.7457450368107585,
          0.7304583650544922,
          0.6809649029194595,
          0.6564846994011168,
          0.6157211409037157,
          0.5363543574973277,
          0.465022567752598,
          0.4457584033338957,
          0.39827673565265787,
          0.33062080391722326,
          0.28329013014251025,
          0.2272521728918362,
          0.17159494035885603,
          0.09786277504708538
         ]
        },
        {
         "mode": "markers",
         "showlegend": false,
         "type": "scatter",
         "x": [
          0.7998930215835571,
          0.7941235303878784,
          0.7859002947807312,
          0.7752695083618164,
          0.762998104095459,
          0.7493360042572021,
          0.7315378189086914,
          0.6985521912574768,
          0.6684648394584656,
          0.6282250285148621,
          0.5361246466636658,
          0.472134530544281,
          0.45156407356262207,
          0.37639057636260986,
          0.3284384608268738,
          0.28583022952079773,
          0.2325749546289444,
          0.17517980933189392,
          0.11821053177118301
         ],
         "y": [
          0.7989445325145906,
          0.7942680994697845,
          0.7826371546434898,
          0.7725209190009658,
          0.761000341807177,
          0.7474324050900247,
          0.7322143512035972,
          0.6835171238377646,
          0.659519543361696,
          0.6195110882771238,
          0.5418150228619922,
          0.47179197213621504,
          0.4530713400299274,
          0.40683961739192964,
          0.34153360639382957,
          0.2953532015782828,
          0.2378865640255381,
          0.1778609459511971,
          0.10542359522299175
         ]
        },
        {
         "mode": "markers",
         "showlegend": false,
         "type": "scatter",
         "x": [
          0.7999770641326904,
          0.7942207455635071,
          0.7860466241836548,
          0.7754477262496948,
          0.7631699442863464,
          0.7494391798973083,
          0.7315329909324646,
          0.699023962020874,
          0.6687833666801453,
          0.6283557415008545,
          0.5354463458061218,
          0.4693892002105713,
          0.44757789373397827,
          0.3698054552078247,
          0.3214877247810364,
          0.2782578468322754,
          0.22215715050697327,
          0.16360212862491608,
          0.10653647035360336
         ],
         "y": [
          0.7983216010972524,
          0.7935870807869456,
          0.781917972538116,
          0.7718476304426849,
          0.7605487457139972,
          0.7473670534833492,
          0.7323209502226502,
          0.6841447600441035,
          0.6600727846509149,
          0.6197614843357755,
          0.541122155788381,
          0.4703798031893829,
          0.45118155247381164,
          0.40397975660179586,
          0.3364756976942901,
          0.2884333887074454,
          0.22946099809222287,
          0.16833166712815653,
          0.0886783731028924
         ]
        },
        {
         "mode": "markers",
         "showlegend": false,
         "type": "scatter",
         "x": [
          0.7999082207679749,
          0.7941496968269348,
          0.7859303951263428,
          0.775347888469696,
          0.763007640838623,
          0.7492488026618958,
          0.7314440608024597,
          0.6985923647880554,
          0.6688811182975769,
          0.6282671093940735,
          0.5358240604400635,
          0.4681664705276489,
          0.44677186012268066,
          0.3675764203071594,
          0.3187425136566162,
          0.2749990224838257,
          0.21867266297340393,
          0.15796366333961487,
          0.0981408953666687
         ],
         "y": [
          0.799058965730251,
          0.7942203260131596,
          0.782866237172865,
          0.7728365166075171,
          0.7615106577069142,
          0.7482518600065349,
          0.7330747146076949,
          0.6843672156058652,
          0.660156514299584,
          0.619547033833435,
          0.5404613640293346,
          0.4691543509181893,
          0.4496619390493805,
          0.40167787057131377,
          0.33311346386646123,
          0.2840464071225639,
          0.22412153379498745,
          0.16181511959175904,
          0.07817497767154045
         ]
        }
       ],
       "layout": {
        "template": {
         "data": {
          "bar": [
           {
            "error_x": {
             "color": "#2a3f5f"
            },
            "error_y": {
             "color": "#2a3f5f"
            },
            "marker": {
             "line": {
              "color": "#E5ECF6",
              "width": 0.5
             },
             "pattern": {
              "fillmode": "overlay",
              "size": 10,
              "solidity": 0.2
             }
            },
            "type": "bar"
           }
          ],
          "barpolar": [
           {
            "marker": {
             "line": {
              "color": "#E5ECF6",
              "width": 0.5
             },
             "pattern": {
              "fillmode": "overlay",
              "size": 10,
              "solidity": 0.2
             }
            },
            "type": "barpolar"
           }
          ],
          "carpet": [
           {
            "aaxis": {
             "endlinecolor": "#2a3f5f",
             "gridcolor": "white",
             "linecolor": "white",
             "minorgridcolor": "white",
             "startlinecolor": "#2a3f5f"
            },
            "baxis": {
             "endlinecolor": "#2a3f5f",
             "gridcolor": "white",
             "linecolor": "white",
             "minorgridcolor": "white",
             "startlinecolor": "#2a3f5f"
            },
            "type": "carpet"
           }
          ],
          "choropleth": [
           {
            "colorbar": {
             "outlinewidth": 0,
             "ticks": ""
            },
            "type": "choropleth"
           }
          ],
          "contour": [
           {
            "colorbar": {
             "outlinewidth": 0,
             "ticks": ""
            },
            "colorscale": [
             [
              0,
              "#0d0887"
             ],
             [
              0.1111111111111111,
              "#46039f"
             ],
             [
              0.2222222222222222,
              "#7201a8"
             ],
             [
              0.3333333333333333,
              "#9c179e"
             ],
             [
              0.4444444444444444,
              "#bd3786"
             ],
             [
              0.5555555555555556,
              "#d8576b"
             ],
             [
              0.6666666666666666,
              "#ed7953"
             ],
             [
              0.7777777777777778,
              "#fb9f3a"
             ],
             [
              0.8888888888888888,
              "#fdca26"
             ],
             [
              1,
              "#f0f921"
             ]
            ],
            "type": "contour"
           }
          ],
          "contourcarpet": [
           {
            "colorbar": {
             "outlinewidth": 0,
             "ticks": ""
            },
            "type": "contourcarpet"
           }
          ],
          "heatmap": [
           {
            "colorbar": {
             "outlinewidth": 0,
             "ticks": ""
            },
            "colorscale": [
             [
              0,
              "#0d0887"
             ],
             [
              0.1111111111111111,
              "#46039f"
             ],
             [
              0.2222222222222222,
              "#7201a8"
             ],
             [
              0.3333333333333333,
              "#9c179e"
             ],
             [
              0.4444444444444444,
              "#bd3786"
             ],
             [
              0.5555555555555556,
              "#d8576b"
             ],
             [
              0.6666666666666666,
              "#ed7953"
             ],
             [
              0.7777777777777778,
              "#fb9f3a"
             ],
             [
              0.8888888888888888,
              "#fdca26"
             ],
             [
              1,
              "#f0f921"
             ]
            ],
            "type": "heatmap"
           }
          ],
          "heatmapgl": [
           {
            "colorbar": {
             "outlinewidth": 0,
             "ticks": ""
            },
            "colorscale": [
             [
              0,
              "#0d0887"
             ],
             [
              0.1111111111111111,
              "#46039f"
             ],
             [
              0.2222222222222222,
              "#7201a8"
             ],
             [
              0.3333333333333333,
              "#9c179e"
             ],
             [
              0.4444444444444444,
              "#bd3786"
             ],
             [
              0.5555555555555556,
              "#d8576b"
             ],
             [
              0.6666666666666666,
              "#ed7953"
             ],
             [
              0.7777777777777778,
              "#fb9f3a"
             ],
             [
              0.8888888888888888,
              "#fdca26"
             ],
             [
              1,
              "#f0f921"
             ]
            ],
            "type": "heatmapgl"
           }
          ],
          "histogram": [
           {
            "marker": {
             "pattern": {
              "fillmode": "overlay",
              "size": 10,
              "solidity": 0.2
             }
            },
            "type": "histogram"
           }
          ],
          "histogram2d": [
           {
            "colorbar": {
             "outlinewidth": 0,
             "ticks": ""
            },
            "colorscale": [
             [
              0,
              "#0d0887"
             ],
             [
              0.1111111111111111,
              "#46039f"
             ],
             [
              0.2222222222222222,
              "#7201a8"
             ],
             [
              0.3333333333333333,
              "#9c179e"
             ],
             [
              0.4444444444444444,
              "#bd3786"
             ],
             [
              0.5555555555555556,
              "#d8576b"
             ],
             [
              0.6666666666666666,
              "#ed7953"
             ],
             [
              0.7777777777777778,
              "#fb9f3a"
             ],
             [
              0.8888888888888888,
              "#fdca26"
             ],
             [
              1,
              "#f0f921"
             ]
            ],
            "type": "histogram2d"
           }
          ],
          "histogram2dcontour": [
           {
            "colorbar": {
             "outlinewidth": 0,
             "ticks": ""
            },
            "colorscale": [
             [
              0,
              "#0d0887"
             ],
             [
              0.1111111111111111,
              "#46039f"
             ],
             [
              0.2222222222222222,
              "#7201a8"
             ],
             [
              0.3333333333333333,
              "#9c179e"
             ],
             [
              0.4444444444444444,
              "#bd3786"
             ],
             [
              0.5555555555555556,
              "#d8576b"
             ],
             [
              0.6666666666666666,
              "#ed7953"
             ],
             [
              0.7777777777777778,
              "#fb9f3a"
             ],
             [
              0.8888888888888888,
              "#fdca26"
             ],
             [
              1,
              "#f0f921"
             ]
            ],
            "type": "histogram2dcontour"
           }
          ],
          "mesh3d": [
           {
            "colorbar": {
             "outlinewidth": 0,
             "ticks": ""
            },
            "type": "mesh3d"
           }
          ],
          "parcoords": [
           {
            "line": {
             "colorbar": {
              "outlinewidth": 0,
              "ticks": ""
             }
            },
            "type": "parcoords"
           }
          ],
          "pie": [
           {
            "automargin": true,
            "type": "pie"
           }
          ],
          "scatter": [
           {
            "fillpattern": {
             "fillmode": "overlay",
             "size": 10,
             "solidity": 0.2
            },
            "type": "scatter"
           }
          ],
          "scatter3d": [
           {
            "line": {
             "colorbar": {
              "outlinewidth": 0,
              "ticks": ""
             }
            },
            "marker": {
             "colorbar": {
              "outlinewidth": 0,
              "ticks": ""
             }
            },
            "type": "scatter3d"
           }
          ],
          "scattercarpet": [
           {
            "marker": {
             "colorbar": {
              "outlinewidth": 0,
              "ticks": ""
             }
            },
            "type": "scattercarpet"
           }
          ],
          "scattergeo": [
           {
            "marker": {
             "colorbar": {
              "outlinewidth": 0,
              "ticks": ""
             }
            },
            "type": "scattergeo"
           }
          ],
          "scattergl": [
           {
            "marker": {
             "colorbar": {
              "outlinewidth": 0,
              "ticks": ""
             }
            },
            "type": "scattergl"
           }
          ],
          "scattermapbox": [
           {
            "marker": {
             "colorbar": {
              "outlinewidth": 0,
              "ticks": ""
             }
            },
            "type": "scattermapbox"
           }
          ],
          "scatterpolar": [
           {
            "marker": {
             "colorbar": {
              "outlinewidth": 0,
              "ticks": ""
             }
            },
            "type": "scatterpolar"
           }
          ],
          "scatterpolargl": [
           {
            "marker": {
             "colorbar": {
              "outlinewidth": 0,
              "ticks": ""
             }
            },
            "type": "scatterpolargl"
           }
          ],
          "scatterternary": [
           {
            "marker": {
             "colorbar": {
              "outlinewidth": 0,
              "ticks": ""
             }
            },
            "type": "scatterternary"
           }
          ],
          "surface": [
           {
            "colorbar": {
             "outlinewidth": 0,
             "ticks": ""
            },
            "colorscale": [
             [
              0,
              "#0d0887"
             ],
             [
              0.1111111111111111,
              "#46039f"
             ],
             [
              0.2222222222222222,
              "#7201a8"
             ],
             [
              0.3333333333333333,
              "#9c179e"
             ],
             [
              0.4444444444444444,
              "#bd3786"
             ],
             [
              0.5555555555555556,
              "#d8576b"
             ],
             [
              0.6666666666666666,
              "#ed7953"
             ],
             [
              0.7777777777777778,
              "#fb9f3a"
             ],
             [
              0.8888888888888888,
              "#fdca26"
             ],
             [
              1,
              "#f0f921"
             ]
            ],
            "type": "surface"
           }
          ],
          "table": [
           {
            "cells": {
             "fill": {
              "color": "#EBF0F8"
             },
             "line": {
              "color": "white"
             }
            },
            "header": {
             "fill": {
              "color": "#C8D4E3"
             },
             "line": {
              "color": "white"
             }
            },
            "type": "table"
           }
          ]
         },
         "layout": {
          "annotationdefaults": {
           "arrowcolor": "#2a3f5f",
           "arrowhead": 0,
           "arrowwidth": 1
          },
          "autotypenumbers": "strict",
          "coloraxis": {
           "colorbar": {
            "outlinewidth": 0,
            "ticks": ""
           }
          },
          "colorscale": {
           "diverging": [
            [
             0,
             "#8e0152"
            ],
            [
             0.1,
             "#c51b7d"
            ],
            [
             0.2,
             "#de77ae"
            ],
            [
             0.3,
             "#f1b6da"
            ],
            [
             0.4,
             "#fde0ef"
            ],
            [
             0.5,
             "#f7f7f7"
            ],
            [
             0.6,
             "#e6f5d0"
            ],
            [
             0.7,
             "#b8e186"
            ],
            [
             0.8,
             "#7fbc41"
            ],
            [
             0.9,
             "#4d9221"
            ],
            [
             1,
             "#276419"
            ]
           ],
           "sequential": [
            [
             0,
             "#0d0887"
            ],
            [
             0.1111111111111111,
             "#46039f"
            ],
            [
             0.2222222222222222,
             "#7201a8"
            ],
            [
             0.3333333333333333,
             "#9c179e"
            ],
            [
             0.4444444444444444,
             "#bd3786"
            ],
            [
             0.5555555555555556,
             "#d8576b"
            ],
            [
             0.6666666666666666,
             "#ed7953"
            ],
            [
             0.7777777777777778,
             "#fb9f3a"
            ],
            [
             0.8888888888888888,
             "#fdca26"
            ],
            [
             1,
             "#f0f921"
            ]
           ],
           "sequentialminus": [
            [
             0,
             "#0d0887"
            ],
            [
             0.1111111111111111,
             "#46039f"
            ],
            [
             0.2222222222222222,
             "#7201a8"
            ],
            [
             0.3333333333333333,
             "#9c179e"
            ],
            [
             0.4444444444444444,
             "#bd3786"
            ],
            [
             0.5555555555555556,
             "#d8576b"
            ],
            [
             0.6666666666666666,
             "#ed7953"
            ],
            [
             0.7777777777777778,
             "#fb9f3a"
            ],
            [
             0.8888888888888888,
             "#fdca26"
            ],
            [
             1,
             "#f0f921"
            ]
           ]
          },
          "colorway": [
           "#636efa",
           "#EF553B",
           "#00cc96",
           "#ab63fa",
           "#FFA15A",
           "#19d3f3",
           "#FF6692",
           "#B6E880",
           "#FF97FF",
           "#FECB52"
          ],
          "font": {
           "color": "#2a3f5f"
          },
          "geo": {
           "bgcolor": "white",
           "lakecolor": "white",
           "landcolor": "#E5ECF6",
           "showlakes": true,
           "showland": true,
           "subunitcolor": "white"
          },
          "hoverlabel": {
           "align": "left"
          },
          "hovermode": "closest",
          "mapbox": {
           "style": "light"
          },
          "paper_bgcolor": "white",
          "plot_bgcolor": "#E5ECF6",
          "polar": {
           "angularaxis": {
            "gridcolor": "white",
            "linecolor": "white",
            "ticks": ""
           },
           "bgcolor": "#E5ECF6",
           "radialaxis": {
            "gridcolor": "white",
            "linecolor": "white",
            "ticks": ""
           }
          },
          "scene": {
           "xaxis": {
            "backgroundcolor": "#E5ECF6",
            "gridcolor": "white",
            "gridwidth": 2,
            "linecolor": "white",
            "showbackground": true,
            "ticks": "",
            "zerolinecolor": "white"
           },
           "yaxis": {
            "backgroundcolor": "#E5ECF6",
            "gridcolor": "white",
            "gridwidth": 2,
            "linecolor": "white",
            "showbackground": true,
            "ticks": "",
            "zerolinecolor": "white"
           },
           "zaxis": {
            "backgroundcolor": "#E5ECF6",
            "gridcolor": "white",
            "gridwidth": 2,
            "linecolor": "white",
            "showbackground": true,
            "ticks": "",
            "zerolinecolor": "white"
           }
          },
          "shapedefaults": {
           "line": {
            "color": "#2a3f5f"
           }
          },
          "ternary": {
           "aaxis": {
            "gridcolor": "white",
            "linecolor": "white",
            "ticks": ""
           },
           "baxis": {
            "gridcolor": "white",
            "linecolor": "white",
            "ticks": ""
           },
           "bgcolor": "#E5ECF6",
           "caxis": {
            "gridcolor": "white",
            "linecolor": "white",
            "ticks": ""
           }
          },
          "title": {
           "x": 0.05
          },
          "xaxis": {
           "automargin": true,
           "gridcolor": "white",
           "linecolor": "white",
           "ticks": "",
           "title": {
            "standoff": 15
           },
           "zerolinecolor": "white",
           "zerolinewidth": 2
          },
          "yaxis": {
           "automargin": true,
           "gridcolor": "white",
           "linecolor": "white",
           "ticks": "",
           "title": {
            "standoff": 15
           },
           "zerolinecolor": "white",
           "zerolinewidth": 2
          }
         }
        },
        "xaxis": {
         "title": {
          "text": "Normalized Prediction"
         }
        },
        "yaxis": {
         "title": {
          "text": "Normalized Target"
         }
        }
       }
      }
     },
     "metadata": {},
     "output_type": "display_data"
    }
   ],
   "source": [
    "# random plotting traing error at some interval = skip to not make the plot rendering too slow\n",
    "skip = 20\n",
    "\n",
    "fig = go.Figure()\n",
    "fig.add_trace(go.Scatter(x = [0,1], y = [0,1], showlegend=False, mode=\"markers+lines\"))\n",
    "for i in range(0,len(X_train), batch_size*skip):\n",
    "    fig.add_trace(go.Scatter(x = model.predict(X_train[i:i+batch_size],verbose=0).flatten(), \n",
    "                             y = y_train[i:i+batch_size], \n",
    "                             showlegend=False, mode=\"markers\"))\n",
    "fig.update_yaxes(title='Normalized Target')\n",
    "fig.update_xaxes(title='Normalized Prediction')"
   ]
  },
  {
   "cell_type": "markdown",
   "id": "a26ace94",
   "metadata": {},
   "source": [
    "## Parity Plot of Test Error"
   ]
  },
  {
   "cell_type": "code",
   "execution_count": 15,
   "id": "c3bd3873",
   "metadata": {},
   "outputs": [
    {
     "data": {
      "application/vnd.plotly.v1+json": {
       "config": {
        "plotlyServerURL": "https://plot.ly"
       },
       "data": [
        {
         "mode": "markers+lines",
         "showlegend": false,
         "type": "scatter",
         "x": [
          0,
          1
         ],
         "y": [
          0,
          1
         ]
        },
        {
         "line": {
          "color": "#2E91E5"
         },
         "mode": "markers+lines",
         "name": "batch",
         "showlegend": false,
         "type": "scatter",
         "x": [
          0.7993567585945129,
          0.7935460805892944,
          0.7846024632453918,
          0.7719990611076355,
          0.7568099498748779,
          0.7400490641593933,
          0.7351934909820557,
          0.7190973162651062,
          0.6819078326225281,
          0.6548416018486023,
          0.6175189018249512,
          0.5961482524871826,
          0.5893711447715759,
          0.5684645175933838,
          0.5565651655197144,
          0.5501980781555176,
          0.5457769632339478,
          0.5422112345695496,
          0.5392299890518188
         ],
         "y": [
          0.8012846600702722,
          0.7965745544571075,
          0.7855744354316629,
          0.7762296493015381,
          0.7658417498174189,
          0.7533857149074488,
          0.739758625389513,
          0.7003371068840425,
          0.6848679225921975,
          0.6637608535475261,
          0.6320618140627422,
          0.6081937876422313,
          0.6023247983847567,
          0.5888015601616349,
          0.5722482607018117,
          0.5625166279669344,
          0.5515043945902027,
          0.5392495586434386,
          0.5251785927547221
         ]
        },
        {
         "line": {
          "color": "#1616A7"
         },
         "mode": "markers+lines",
         "name": "batch",
         "showlegend": false,
         "type": "scatter",
         "x": [
          0.7986940145492554,
          0.7931181788444519,
          0.784428596496582,
          0.7713070511817932,
          0.7551037669181824,
          0.7376480102539062,
          0.7351660132408142,
          0.7174133062362671,
          0.6761002540588379,
          0.6484991908073425,
          0.6105154752731323,
          0.5902447700500488,
          0.5801296830177307,
          0.5599700212478638,
          0.5438050627708435,
          0.534084677696228,
          0.5264245271682739,
          0.5226365923881531,
          0.5228307843208313
         ],
         "y": [
          0.801771630953918,
          0.7971430132760708,
          0.786027213528088,
          0.7763537881515707,
          0.7654471019912137,
          0.7527328853930773,
          0.7384322880624186,
          0.6979820286673085,
          0.6823355422286506,
          0.6613271731288535,
          0.6287556656265371,
          0.6030939966863549,
          0.5966809828267801,
          0.581936630088189,
          0.5642832701538233,
          0.5540101166964485,
          0.5426820674051366,
          0.5300745096239057,
          0.5159929479283865
         ]
        },
        {
         "line": {
          "color": "#6C7C32"
         },
         "mode": "markers+lines",
         "name": "batch",
         "showlegend": false,
         "type": "scatter",
         "x": [
          0.798240602016449,
          0.7928157448768616,
          0.7842631340026855,
          0.7707936763763428,
          0.7539185285568237,
          0.7363731861114502,
          0.7338966727256775,
          0.7129740118980408,
          0.669725239276886,
          0.6398918032646179,
          0.6001492738723755,
          0.5758853554725647,
          0.561059832572937,
          0.5394600629806519,
          0.5201278924942017,
          0.5075116753578186,
          0.49480879306793213,
          0.48604077100753784,
          0.48136651515960693
         ],
         "y": [
          0.8007958783762446,
          0.7960504466663311,
          0.7848990387716737,
          0.7752135597399548,
          0.7640732817929747,
          0.7510285005275694,
          0.7366578149526942,
          0.6947654590537619,
          0.6782266808239499,
          0.6551022424287306,
          0.61749564682756,
          0.5869459399701017,
          0.5792801886662864,
          0.5617940245500803,
          0.5408171261470656,
          0.5288068412657101,
          0.5154473830665673,
          0.5006795344035225,
          0.48406299980881917
         ]
        },
        {
         "line": {
          "color": "#511CFB"
         },
         "mode": "markers+lines",
         "name": "batch",
         "showlegend": false,
         "type": "scatter",
         "x": [
          0.7980145215988159,
          0.7927013039588928,
          0.7843042612075806,
          0.7705752849578857,
          0.7533271908760071,
          0.7361525893211365,
          0.7320992946624756,
          0.7012808918952942,
          0.6650845408439636,
          0.6337419748306274,
          0.5925857424736023,
          0.5643466711044312,
          0.5468143224716187,
          0.5233266353607178,
          0.5016346573829651,
          0.48669862747192383,
          0.4709784984588623,
          0.4576531648635864,
          0.44766777753829956
         ],
         "y": [
          0.8000047266822845,
          0.7953018742052598,
          0.7840222379127901,
          0.7741968904884525,
          0.762914049600502,
          0.749836039207304,
          0.7351846290092229,
          0.692321324271819,
          0.6750204189932545,
          0.6497542690125064,
          0.6074506378130432,
          0.5723679958109212,
          0.5635297700305706,
          0.5434002180826687,
          0.5192781711028828,
          0.505353604315916,
          0.49002152473091193,
          0.47282229902573564,
          0.4534360111109155
         ]
        },
        {
         "line": {
          "color": "#DA16FF"
         },
         "mode": "markers+lines",
         "name": "batch",
         "showlegend": false,
         "type": "scatter",
         "x": [
          0.7973681688308716,
          0.7919714450836182,
          0.7833908796310425,
          0.7691093683242798,
          0.7515161037445068,
          0.734883725643158,
          0.7302792072296143,
          0.6881222128868103,
          0.6645286083221436,
          0.6346678733825684,
          0.5937593579292297,
          0.5641306638717651,
          0.5467537045478821,
          0.5248734951019287,
          0.5036298632621765,
          0.48879140615463257,
          0.4733102321624756,
          0.4595333933830261,
          0.4478633403778076
         ],
         "y": [
          0.8037097724571528,
          0.799109584863615,
          0.787765416504384,
          0.7779439629673409,
          0.7668559297855326,
          0.7540427785490487,
          0.7397436897650621,
          0.6992156541592065,
          0.6822321310333512,
          0.6574001948593172,
          0.61490652610115,
          0.5792619238381165,
          0.5703173454339371,
          0.5497714607160856,
          0.5251812778952473,
          0.5109963182441816,
          0.4952268758323761,
          0.47760482284708405,
          0.4576306877411749
         ]
        },
        {
         "line": {
          "color": "#AF0038"
         },
         "mode": "markers+lines",
         "name": "batch",
         "showlegend": false,
         "type": "scatter",
         "x": [
          0.7973171472549438,
          0.7919078469276428,
          0.7832953929901123,
          0.7687587738037109,
          0.7512847781181335,
          0.7355552315711975,
          0.7277657985687256,
          0.6806597113609314,
          0.6607940196990967,
          0.6280296444892883,
          0.57956862449646,
          0.5455723404884338,
          0.5269023180007935,
          0.5014740824699402,
          0.47730767726898193,
          0.4600464701652527,
          0.441192090511322,
          0.42332959175109863,
          0.40748125314712524
         ],
         "y": [
          0.8018805402296985,
          0.7972697401615209,
          0.7859955312057907,
          0.7760688372297976,
          0.7648583723357268,
          0.7518568757944727,
          0.7375217344083432,
          0.6952987531902265,
          0.6771488636587661,
          0.6497335125475103,
          0.6016874550284477,
          0.5610311466777033,
          0.5507374794839245,
          0.5272296522219803,
          0.49879868706252745,
          0.48228366961985725,
          0.4637567596766153,
          0.4427016564973233,
          0.4183427913227799
         ]
        },
        {
         "line": {
          "color": "#620042"
         },
         "mode": "markers+lines",
         "name": "batch",
         "showlegend": false,
         "type": "scatter",
         "x": [
          0.7976762056350708,
          0.792295515537262,
          0.783780038356781,
          0.7693713903427124,
          0.752524197101593,
          0.7378847002983093,
          0.7252634167671204,
          0.6767598986625671,
          0.6562299132347107,
          0.6192544102668762,
          0.5592738389968872,
          0.5195609331130981,
          0.49896734952926636,
          0.4690958857536316,
          0.4405342936515808,
          0.41877537965774536,
          0.3947569727897644,
          0.3719239830970764,
          0.3503416180610657
         ],
         "y": [
          0.7989511826000697,
          0.7942508437286608,
          0.782876831376537,
          0.7728156869684687,
          0.7615197546128478,
          0.7482272254620181,
          0.7333725476042294,
          0.6882802095768671,
          0.6682449293925267,
          0.637530815170518,
          0.582127917132847,
          0.5348292753781272,
          0.5228085560307786,
          0.49496388956882503,
          0.46120322673419856,
          0.4410545362568818,
          0.4179857800496126,
          0.39121541609015603,
          0.3590810004545334
         ]
        },
        {
         "line": {
          "color": "#B2828D"
         },
         "mode": "markers+lines",
         "name": "batch",
         "showlegend": false,
         "type": "scatter",
         "x": [
          0.7974885106086731,
          0.7920035123825073,
          0.7833144664764404,
          0.7687955498695374,
          0.7524645328521729,
          0.7386144995689392,
          0.7241537570953369,
          0.6780396103858948,
          0.6587968468666077,
          0.6236544847488403,
          0.5627595782279968,
          0.523406445980072,
          0.5053324103355408,
          0.47638368606567383,
          0.448372483253479,
          0.42680203914642334,
          0.40271687507629395,
          0.37931036949157715,
          0.35740572214126587
         ],
         "y": [
          0.8018981186334282,
          0.7973005111847782,
          0.7859205996234859,
          0.7758664669705536,
          0.7646202268292628,
          0.7515917704526074,
          0.7371090084673005,
          0.6939745629238563,
          0.6746510628134161,
          0.6446663923803575,
          0.5897154051298709,
          0.5426258283822044,
          0.5306293953288339,
          0.5031276617335859,
          0.4692313302842245,
          0.4488451956685445,
          0.4256752542816528,
          0.39861680051834447,
          0.3657740256607941
         ]
        },
        {
         "line": {
          "color": "#EB663B"
         },
         "mode": "markers+lines",
         "name": "batch",
         "showlegend": false,
         "type": "scatter",
         "x": [
          0.7979515194892883,
          0.7924502491950989,
          0.7838236689567566,
          0.7696200013160706,
          0.7541487216949463,
          0.7410711646080017,
          0.7222238779067993,
          0.6759495735168457,
          0.6555227041244507,
          0.6149322986602783,
          0.5384036898612976,
          0.49287426471710205,
          0.47249627113342285,
          0.43443650007247925,
          0.40032970905303955,
          0.37301933765411377,
          0.342053085565567,
          0.31178390979766846,
          0.28204119205474854
         ],
         "y": [
          0.7986112088199768,
          0.7937984877674856,
          0.7823903395580123,
          0.7723284278161393,
          0.7609971186145007,
          0.7478155761184643,
          0.7327755263093718,
          0.6865252218234354,
          0.6650307006707286,
          0.6312753760888252,
          0.5682096999034618,
          0.5139051374849349,
          0.4998255851288804,
          0.4674113015573039,
          0.4263451325966948,
          0.4010490410287305,
          0.3710305444152524,
          0.3346725589418349,
          0.28857594257046015
         ]
        },
        {
         "line": {
          "color": "#FB0D0D"
         },
         "mode": "markers+lines",
         "name": "batch",
         "showlegend": false,
         "type": "scatter",
         "x": [
          0.7981861233711243,
          0.7926893830299377,
          0.7840915322303772,
          0.7702333927154541,
          0.7555705308914185,
          0.7430466413497925,
          0.7215790748596191,
          0.6765247583389282,
          0.6560372114181519,
          0.6140502095222473,
          0.5299078822135925,
          0.48199009895324707,
          0.4617992043495178,
          0.4181286692619324,
          0.380448579788208,
          0.3498324751853943,
          0.3131767511367798,
          0.2758612632751465,
          0.2388300746679306
         ],
         "y": [
          0.7984248175630706,
          0.7936797010779199,
          0.7822171553947576,
          0.7721343877749824,
          0.7607188808984837,
          0.7475035353532777,
          0.7325065122696912,
          0.6854462179611998,
          0.6632040698905619,
          0.6274500993757447,
          0.5600235154212656,
          0.501003061681781,
          0.48567896426522517,
          0.4494863126107569,
          0.40254066606009464,
          0.37277755778887367,
          0.3364851459862175,
          0.2903439035592611,
          0.23458435842481862
         ]
        },
        {
         "line": {
          "color": "#0D2A63"
         },
         "mode": "markers+lines",
         "name": "batch",
         "showlegend": false,
         "type": "scatter",
         "x": [
          0.7984644770622253,
          0.7929731011390686,
          0.7844095826148987,
          0.7709652185440063,
          0.7570279240608215,
          0.744857907295227,
          0.7212582230567932,
          0.6771237850189209,
          0.656560480594635,
          0.6133123636245728,
          0.5207526087760925,
          0.4694599509239197,
          0.4469190239906311,
          0.3918416500091553,
          0.34887439012527466,
          0.31264257431030273,
          0.268749475479126,
          0.22298592329025269,
          0.17724734544754028
         ],
         "y": [
          0.797809264913636,
          0.7929765978107982,
          0.7815339569373825,
          0.771442817318418,
          0.7599643827069432,
          0.7466476022473804,
          0.7314421543329862,
          0.6835370489825766,
          0.6602878023936316,
          0.6223995698007169,
          0.5494341437823241,
          0.48490565332803376,
          0.46793876995759753,
          0.42696871577537276,
          0.3717373818612624,
          0.3353159208557454,
          0.2886144353425736,
          0.23242273851511844,
          0.17546433938312425
         ]
        },
        {
         "line": {
          "color": "#A777F1"
         },
         "mode": "markers+lines",
         "name": "batch",
         "showlegend": false,
         "type": "scatter",
         "x": [
          0.7986858487129211,
          0.79317307472229,
          0.7846473455429077,
          0.7715935111045837,
          0.7582459449768066,
          0.7462514638900757,
          0.7213892936706543,
          0.6782989501953125,
          0.657638430595398,
          0.6128333210945129,
          0.5120369791984558,
          0.45802152156829834,
          0.4356793761253357,
          0.37217801809310913,
          0.3245466351509094,
          0.2827005386352539,
          0.23075707256793976,
          0.17601272463798523,
          0.1253160983324051
         ],
         "y": [
          0.7980747601833771,
          0.7932847525362764,
          0.7817671666384525,
          0.7716807938307219,
          0.7602985830225906,
          0.7470104829436096,
          0.7317576032726947,
          0.683108451455064,
          0.6591006933476155,
          0.6192061714537357,
          0.5417358175090595,
          0.4721692769547645,
          0.45344199361990145,
          0.40756831092207396,
          0.3431087935100654,
          0.2979689152760472,
          0.24166035810499117,
          0.1829932910361309,
          0.1137129292319171
         ]
        }
       ],
       "layout": {
        "template": {
         "data": {
          "bar": [
           {
            "error_x": {
             "color": "#2a3f5f"
            },
            "error_y": {
             "color": "#2a3f5f"
            },
            "marker": {
             "line": {
              "color": "#E5ECF6",
              "width": 0.5
             },
             "pattern": {
              "fillmode": "overlay",
              "size": 10,
              "solidity": 0.2
             }
            },
            "type": "bar"
           }
          ],
          "barpolar": [
           {
            "marker": {
             "line": {
              "color": "#E5ECF6",
              "width": 0.5
             },
             "pattern": {
              "fillmode": "overlay",
              "size": 10,
              "solidity": 0.2
             }
            },
            "type": "barpolar"
           }
          ],
          "carpet": [
           {
            "aaxis": {
             "endlinecolor": "#2a3f5f",
             "gridcolor": "white",
             "linecolor": "white",
             "minorgridcolor": "white",
             "startlinecolor": "#2a3f5f"
            },
            "baxis": {
             "endlinecolor": "#2a3f5f",
             "gridcolor": "white",
             "linecolor": "white",
             "minorgridcolor": "white",
             "startlinecolor": "#2a3f5f"
            },
            "type": "carpet"
           }
          ],
          "choropleth": [
           {
            "colorbar": {
             "outlinewidth": 0,
             "ticks": ""
            },
            "type": "choropleth"
           }
          ],
          "contour": [
           {
            "colorbar": {
             "outlinewidth": 0,
             "ticks": ""
            },
            "colorscale": [
             [
              0,
              "#0d0887"
             ],
             [
              0.1111111111111111,
              "#46039f"
             ],
             [
              0.2222222222222222,
              "#7201a8"
             ],
             [
              0.3333333333333333,
              "#9c179e"
             ],
             [
              0.4444444444444444,
              "#bd3786"
             ],
             [
              0.5555555555555556,
              "#d8576b"
             ],
             [
              0.6666666666666666,
              "#ed7953"
             ],
             [
              0.7777777777777778,
              "#fb9f3a"
             ],
             [
              0.8888888888888888,
              "#fdca26"
             ],
             [
              1,
              "#f0f921"
             ]
            ],
            "type": "contour"
           }
          ],
          "contourcarpet": [
           {
            "colorbar": {
             "outlinewidth": 0,
             "ticks": ""
            },
            "type": "contourcarpet"
           }
          ],
          "heatmap": [
           {
            "colorbar": {
             "outlinewidth": 0,
             "ticks": ""
            },
            "colorscale": [
             [
              0,
              "#0d0887"
             ],
             [
              0.1111111111111111,
              "#46039f"
             ],
             [
              0.2222222222222222,
              "#7201a8"
             ],
             [
              0.3333333333333333,
              "#9c179e"
             ],
             [
              0.4444444444444444,
              "#bd3786"
             ],
             [
              0.5555555555555556,
              "#d8576b"
             ],
             [
              0.6666666666666666,
              "#ed7953"
             ],
             [
              0.7777777777777778,
              "#fb9f3a"
             ],
             [
              0.8888888888888888,
              "#fdca26"
             ],
             [
              1,
              "#f0f921"
             ]
            ],
            "type": "heatmap"
           }
          ],
          "heatmapgl": [
           {
            "colorbar": {
             "outlinewidth": 0,
             "ticks": ""
            },
            "colorscale": [
             [
              0,
              "#0d0887"
             ],
             [
              0.1111111111111111,
              "#46039f"
             ],
             [
              0.2222222222222222,
              "#7201a8"
             ],
             [
              0.3333333333333333,
              "#9c179e"
             ],
             [
              0.4444444444444444,
              "#bd3786"
             ],
             [
              0.5555555555555556,
              "#d8576b"
             ],
             [
              0.6666666666666666,
              "#ed7953"
             ],
             [
              0.7777777777777778,
              "#fb9f3a"
             ],
             [
              0.8888888888888888,
              "#fdca26"
             ],
             [
              1,
              "#f0f921"
             ]
            ],
            "type": "heatmapgl"
           }
          ],
          "histogram": [
           {
            "marker": {
             "pattern": {
              "fillmode": "overlay",
              "size": 10,
              "solidity": 0.2
             }
            },
            "type": "histogram"
           }
          ],
          "histogram2d": [
           {
            "colorbar": {
             "outlinewidth": 0,
             "ticks": ""
            },
            "colorscale": [
             [
              0,
              "#0d0887"
             ],
             [
              0.1111111111111111,
              "#46039f"
             ],
             [
              0.2222222222222222,
              "#7201a8"
             ],
             [
              0.3333333333333333,
              "#9c179e"
             ],
             [
              0.4444444444444444,
              "#bd3786"
             ],
             [
              0.5555555555555556,
              "#d8576b"
             ],
             [
              0.6666666666666666,
              "#ed7953"
             ],
             [
              0.7777777777777778,
              "#fb9f3a"
             ],
             [
              0.8888888888888888,
              "#fdca26"
             ],
             [
              1,
              "#f0f921"
             ]
            ],
            "type": "histogram2d"
           }
          ],
          "histogram2dcontour": [
           {
            "colorbar": {
             "outlinewidth": 0,
             "ticks": ""
            },
            "colorscale": [
             [
              0,
              "#0d0887"
             ],
             [
              0.1111111111111111,
              "#46039f"
             ],
             [
              0.2222222222222222,
              "#7201a8"
             ],
             [
              0.3333333333333333,
              "#9c179e"
             ],
             [
              0.4444444444444444,
              "#bd3786"
             ],
             [
              0.5555555555555556,
              "#d8576b"
             ],
             [
              0.6666666666666666,
              "#ed7953"
             ],
             [
              0.7777777777777778,
              "#fb9f3a"
             ],
             [
              0.8888888888888888,
              "#fdca26"
             ],
             [
              1,
              "#f0f921"
             ]
            ],
            "type": "histogram2dcontour"
           }
          ],
          "mesh3d": [
           {
            "colorbar": {
             "outlinewidth": 0,
             "ticks": ""
            },
            "type": "mesh3d"
           }
          ],
          "parcoords": [
           {
            "line": {
             "colorbar": {
              "outlinewidth": 0,
              "ticks": ""
             }
            },
            "type": "parcoords"
           }
          ],
          "pie": [
           {
            "automargin": true,
            "type": "pie"
           }
          ],
          "scatter": [
           {
            "fillpattern": {
             "fillmode": "overlay",
             "size": 10,
             "solidity": 0.2
            },
            "type": "scatter"
           }
          ],
          "scatter3d": [
           {
            "line": {
             "colorbar": {
              "outlinewidth": 0,
              "ticks": ""
             }
            },
            "marker": {
             "colorbar": {
              "outlinewidth": 0,
              "ticks": ""
             }
            },
            "type": "scatter3d"
           }
          ],
          "scattercarpet": [
           {
            "marker": {
             "colorbar": {
              "outlinewidth": 0,
              "ticks": ""
             }
            },
            "type": "scattercarpet"
           }
          ],
          "scattergeo": [
           {
            "marker": {
             "colorbar": {
              "outlinewidth": 0,
              "ticks": ""
             }
            },
            "type": "scattergeo"
           }
          ],
          "scattergl": [
           {
            "marker": {
             "colorbar": {
              "outlinewidth": 0,
              "ticks": ""
             }
            },
            "type": "scattergl"
           }
          ],
          "scattermapbox": [
           {
            "marker": {
             "colorbar": {
              "outlinewidth": 0,
              "ticks": ""
             }
            },
            "type": "scattermapbox"
           }
          ],
          "scatterpolar": [
           {
            "marker": {
             "colorbar": {
              "outlinewidth": 0,
              "ticks": ""
             }
            },
            "type": "scatterpolar"
           }
          ],
          "scatterpolargl": [
           {
            "marker": {
             "colorbar": {
              "outlinewidth": 0,
              "ticks": ""
             }
            },
            "type": "scatterpolargl"
           }
          ],
          "scatterternary": [
           {
            "marker": {
             "colorbar": {
              "outlinewidth": 0,
              "ticks": ""
             }
            },
            "type": "scatterternary"
           }
          ],
          "surface": [
           {
            "colorbar": {
             "outlinewidth": 0,
             "ticks": ""
            },
            "colorscale": [
             [
              0,
              "#0d0887"
             ],
             [
              0.1111111111111111,
              "#46039f"
             ],
             [
              0.2222222222222222,
              "#7201a8"
             ],
             [
              0.3333333333333333,
              "#9c179e"
             ],
             [
              0.4444444444444444,
              "#bd3786"
             ],
             [
              0.5555555555555556,
              "#d8576b"
             ],
             [
              0.6666666666666666,
              "#ed7953"
             ],
             [
              0.7777777777777778,
              "#fb9f3a"
             ],
             [
              0.8888888888888888,
              "#fdca26"
             ],
             [
              1,
              "#f0f921"
             ]
            ],
            "type": "surface"
           }
          ],
          "table": [
           {
            "cells": {
             "fill": {
              "color": "#EBF0F8"
             },
             "line": {
              "color": "white"
             }
            },
            "header": {
             "fill": {
              "color": "#C8D4E3"
             },
             "line": {
              "color": "white"
             }
            },
            "type": "table"
           }
          ]
         },
         "layout": {
          "annotationdefaults": {
           "arrowcolor": "#2a3f5f",
           "arrowhead": 0,
           "arrowwidth": 1
          },
          "autotypenumbers": "strict",
          "coloraxis": {
           "colorbar": {
            "outlinewidth": 0,
            "ticks": ""
           }
          },
          "colorscale": {
           "diverging": [
            [
             0,
             "#8e0152"
            ],
            [
             0.1,
             "#c51b7d"
            ],
            [
             0.2,
             "#de77ae"
            ],
            [
             0.3,
             "#f1b6da"
            ],
            [
             0.4,
             "#fde0ef"
            ],
            [
             0.5,
             "#f7f7f7"
            ],
            [
             0.6,
             "#e6f5d0"
            ],
            [
             0.7,
             "#b8e186"
            ],
            [
             0.8,
             "#7fbc41"
            ],
            [
             0.9,
             "#4d9221"
            ],
            [
             1,
             "#276419"
            ]
           ],
           "sequential": [
            [
             0,
             "#0d0887"
            ],
            [
             0.1111111111111111,
             "#46039f"
            ],
            [
             0.2222222222222222,
             "#7201a8"
            ],
            [
             0.3333333333333333,
             "#9c179e"
            ],
            [
             0.4444444444444444,
             "#bd3786"
            ],
            [
             0.5555555555555556,
             "#d8576b"
            ],
            [
             0.6666666666666666,
             "#ed7953"
            ],
            [
             0.7777777777777778,
             "#fb9f3a"
            ],
            [
             0.8888888888888888,
             "#fdca26"
            ],
            [
             1,
             "#f0f921"
            ]
           ],
           "sequentialminus": [
            [
             0,
             "#0d0887"
            ],
            [
             0.1111111111111111,
             "#46039f"
            ],
            [
             0.2222222222222222,
             "#7201a8"
            ],
            [
             0.3333333333333333,
             "#9c179e"
            ],
            [
             0.4444444444444444,
             "#bd3786"
            ],
            [
             0.5555555555555556,
             "#d8576b"
            ],
            [
             0.6666666666666666,
             "#ed7953"
            ],
            [
             0.7777777777777778,
             "#fb9f3a"
            ],
            [
             0.8888888888888888,
             "#fdca26"
            ],
            [
             1,
             "#f0f921"
            ]
           ]
          },
          "colorway": [
           "#636efa",
           "#EF553B",
           "#00cc96",
           "#ab63fa",
           "#FFA15A",
           "#19d3f3",
           "#FF6692",
           "#B6E880",
           "#FF97FF",
           "#FECB52"
          ],
          "font": {
           "color": "#2a3f5f"
          },
          "geo": {
           "bgcolor": "white",
           "lakecolor": "white",
           "landcolor": "#E5ECF6",
           "showlakes": true,
           "showland": true,
           "subunitcolor": "white"
          },
          "hoverlabel": {
           "align": "left"
          },
          "hovermode": "closest",
          "mapbox": {
           "style": "light"
          },
          "paper_bgcolor": "white",
          "plot_bgcolor": "#E5ECF6",
          "polar": {
           "angularaxis": {
            "gridcolor": "white",
            "linecolor": "white",
            "ticks": ""
           },
           "bgcolor": "#E5ECF6",
           "radialaxis": {
            "gridcolor": "white",
            "linecolor": "white",
            "ticks": ""
           }
          },
          "scene": {
           "xaxis": {
            "backgroundcolor": "#E5ECF6",
            "gridcolor": "white",
            "gridwidth": 2,
            "linecolor": "white",
            "showbackground": true,
            "ticks": "",
            "zerolinecolor": "white"
           },
           "yaxis": {
            "backgroundcolor": "#E5ECF6",
            "gridcolor": "white",
            "gridwidth": 2,
            "linecolor": "white",
            "showbackground": true,
            "ticks": "",
            "zerolinecolor": "white"
           },
           "zaxis": {
            "backgroundcolor": "#E5ECF6",
            "gridcolor": "white",
            "gridwidth": 2,
            "linecolor": "white",
            "showbackground": true,
            "ticks": "",
            "zerolinecolor": "white"
           }
          },
          "shapedefaults": {
           "line": {
            "color": "#2a3f5f"
           }
          },
          "ternary": {
           "aaxis": {
            "gridcolor": "white",
            "linecolor": "white",
            "ticks": ""
           },
           "baxis": {
            "gridcolor": "white",
            "linecolor": "white",
            "ticks": ""
           },
           "bgcolor": "#E5ECF6",
           "caxis": {
            "gridcolor": "white",
            "linecolor": "white",
            "ticks": ""
           }
          },
          "title": {
           "x": 0.05
          },
          "xaxis": {
           "automargin": true,
           "gridcolor": "white",
           "linecolor": "white",
           "ticks": "",
           "title": {
            "standoff": 15
           },
           "zerolinecolor": "white",
           "zerolinewidth": 2
          },
          "yaxis": {
           "automargin": true,
           "gridcolor": "white",
           "linecolor": "white",
           "ticks": "",
           "title": {
            "standoff": 15
           },
           "zerolinecolor": "white",
           "zerolinewidth": 2
          }
         }
        },
        "xaxis": {
         "title": {
          "text": "Normalized Prediction"
         }
        },
        "yaxis": {
         "title": {
          "text": "Normalized Target"
         }
        }
       }
      }
     },
     "metadata": {},
     "output_type": "display_data"
    }
   ],
   "source": [
    "pallete = plotly.colors.qualitative.Dark24*10\n",
    "\n",
    "fig = go.Figure()\n",
    "fig.add_trace(go.Scatter(x = [0,1], y = [0,1], showlegend=False, mode=\"markers+lines\"))\n",
    "\n",
    "for i in range(0, len(X_test), batch_size):\n",
    "    fig.add_trace(go.Scatter(x = model.predict(X_test[i:i+batch_size],verbose=0).flatten(), \n",
    "                             y = y_test[i:i+batch_size], \n",
    "                             showlegend=False, mode=\"markers+lines\", name='batch',\n",
    "                             line_color = pallete[i]))\n",
    "fig.update_yaxes(title='Normalized Target')\n",
    "fig.update_xaxes(title='Normalized Prediction')"
   ]
  },
  {
   "cell_type": "code",
   "execution_count": 16,
   "id": "5a02331f",
   "metadata": {},
   "outputs": [
    {
     "data": {
      "application/vnd.plotly.v1+json": {
       "config": {
        "plotlyServerURL": "https://plot.ly"
       },
       "data": [
        {
         "line": {
          "color": "#2E91E5"
         },
         "mode": "lines",
         "name": "data",
         "type": "scatter",
         "x": [
          0,
          0.0125,
          0.025,
          0.075,
          0.1,
          0.2,
          0.3,
          0.4,
          0.5,
          0.6,
          0.8,
          0.85,
          0.9,
          0.95,
          0.975,
          0.98,
          0.99,
          1,
          1.005,
          1.01,
          1.015,
          1.02
         ],
         "y": [
          3.1820554561124355,
          3.174519287131372,
          3.1569190966906606,
          3.141967438882461,
          3.12534679970787,
          3.105417143851918,
          3.0836138006232208,
          3.020539371014468,
          2.995788676147516,
          2.962017365676042,
          2.9112989025003877,
          2.87311006022757,
          2.863719677415611,
          2.842082496258616,
          2.8155972171228987,
          2.800026604747095,
          2.7824070313443245,
          2.762799293829502,
          2.7402857484075556
         ]
        },
        {
         "line": {
          "color": "#2E91E5"
         },
         "mode": "markers",
         "name": "prediction",
         "type": "scatter",
         "x": [
          0,
          0.0125,
          0.025,
          0.075,
          0.1,
          0.2,
          0.3,
          0.4,
          0.5,
          0.6,
          0.8,
          0.85,
          0.9,
          0.95,
          0.975,
          0.98,
          0.99,
          1,
          1.005,
          1.01,
          1.015,
          1.02
         ],
         "y": [
          3.1768572330474854,
          3.167867660522461,
          3.15287446975708,
          3.1285057067871094,
          3.103067398071289,
          3.079801559448242,
          3.0624654293060303,
          3.029273748397827,
          2.97802734375,
          2.937366008758545,
          2.875749349594116,
          2.8460676670074463,
          2.836541175842285,
          2.8037519454956055,
          2.7841861248016357,
          2.7729289531707764,
          2.7668333053588867,
          2.7631430625915527,
          2.7603001594543457
         ]
        },
        {
         "line": {
          "color": "#1616A7"
         },
         "mode": "lines",
         "name": "data",
         "type": "scatter",
         "x": [
          0,
          0.0125,
          0.025,
          0.075,
          0.1,
          0.2,
          0.3,
          0.4,
          0.5,
          0.6,
          0.8,
          0.85,
          0.9,
          0.95,
          0.975,
          0.98,
          0.99,
          1,
          1.005,
          1.01,
          1.015,
          1.02
         ],
         "y": [
          3.1828346095262687,
          3.1754288212417134,
          3.1576435416449407,
          3.1421660610425133,
          3.124715363185942,
          3.1043726166289236,
          3.0814916608998697,
          3.0167712458676936,
          2.991736867565841,
          2.9581234770061657,
          2.9060090650024595,
          2.864950394698168,
          2.8546895725228483,
          2.8310986081411023,
          2.8028532322461173,
          2.786416186714318,
          2.7682913078482185,
          2.748119215398249,
          2.7255887166854182
         ]
        },
        {
         "line": {
          "color": "#1616A7"
         },
         "mode": "markers",
         "name": "prediction",
         "type": "scatter",
         "x": [
          0,
          0.0125,
          0.025,
          0.075,
          0.1,
          0.2,
          0.3,
          0.4,
          0.5,
          0.6,
          0.8,
          0.85,
          0.9,
          0.95,
          0.975,
          0.98,
          0.99,
          1,
          1.005,
          1.01,
          1.015,
          1.02
         ],
         "y": [
          3.1760311126708984,
          3.167306423187256,
          3.152552366256714,
          3.1274220943450928,
          3.1009345054626465,
          3.0766098499298096,
          3.0620028972625732,
          3.0251524448394775,
          2.9705262184143066,
          2.9271271228790283,
          2.8656392097473145,
          2.8361423015594482,
          2.823392391204834,
          2.790285110473633,
          2.76670503616333,
          2.7546682357788086,
          2.7445483207702637,
          2.737942695617676,
          2.7356512546539307
         ]
        },
        {
         "line": {
          "color": "#6C7C32"
         },
         "mode": "lines",
         "name": "data",
         "type": "scatter",
         "x": [
          0,
          0.0125,
          0.025,
          0.075,
          0.1,
          0.2,
          0.3,
          0.4,
          0.5,
          0.6,
          0.8,
          0.85,
          0.9,
          0.95,
          0.975,
          0.98,
          0.99,
          1,
          1.005,
          1.01,
          1.015,
          1.02
         ],
         "y": [
          3.181273405401991,
          3.17368071466613,
          3.1558384620346778,
          3.1403416955839276,
          3.1225172508687598,
          3.101645600844111,
          3.0786525039243107,
          3.011624734486019,
          2.9851626893183196,
          2.948163587885969,
          2.887993034924096,
          2.839113503952163,
          2.8268483018660584,
          2.7988704392801287,
          2.765307401835305,
          2.746090946025136,
          2.7247158129065077,
          2.701087255045636,
          2.6745007996941106
         ]
        },
        {
         "line": {
          "color": "#6C7C32"
         },
         "mode": "markers",
         "name": "prediction",
         "type": "scatter",
         "x": [
          0,
          0.0125,
          0.025,
          0.075,
          0.1,
          0.2,
          0.3,
          0.4,
          0.5,
          0.6,
          0.8,
          0.85,
          0.9,
          0.95,
          0.975,
          0.98,
          0.99,
          1,
          1.005,
          1.01,
          1.015,
          1.02
         ],
         "y": [
          3.175525665283203,
          3.1669464111328125,
          3.1522679328918457,
          3.1267497539520264,
          3.0997519493103027,
          3.0752859115600586,
          3.0590531826019287,
          3.002126455307007,
          2.9612274169921875,
          2.913518190383911,
          2.8493077754974365,
          2.8129589557647705,
          2.7942333221435547,
          2.7590255737304688,
          2.7298102378845215,
          2.7113454341888428,
          2.6935713291168213,
          2.680304765701294,
          2.6709084510803223
         ]
        },
        {
         "line": {
          "color": "#511CFB"
         },
         "mode": "lines",
         "name": "data",
         "type": "scatter",
         "x": [
          0,
          0.0125,
          0.025,
          0.075,
          0.1,
          0.2,
          0.3,
          0.4,
          0.5,
          0.6,
          0.8,
          0.85,
          0.9,
          0.95,
          0.975,
          0.98,
          0.99,
          1,
          1.005,
          1.01,
          1.015,
          1.02
         ],
         "y": [
          3.1800075626916553,
          3.1724829987284155,
          3.154435580660464,
          3.138715024781524,
          3.1206624793608033,
          3.0997376627316866,
          3.0762954064147565,
          3.0077141188349104,
          2.980032670389207,
          2.9396068304200105,
          2.871921020500869,
          2.815788793297474,
          2.8016476320489128,
          2.76944034893227,
          2.7308450737646126,
          2.7085657669054655,
          2.684034439569459,
          2.6565156784411768,
          2.625497617777465
         ]
        },
        {
         "line": {
          "color": "#511CFB"
         },
         "mode": "markers",
         "name": "prediction",
         "type": "scatter",
         "x": [
          0,
          0.0125,
          0.025,
          0.075,
          0.1,
          0.2,
          0.3,
          0.4,
          0.5,
          0.6,
          0.8,
          0.85,
          0.9,
          0.95,
          0.975,
          0.98,
          0.99,
          1,
          1.005,
          1.01,
          1.015,
          1.02
         ],
         "y": [
          3.1753592491149902,
          3.166877508163452,
          3.152330160140991,
          3.126655101776123,
          3.099600315093994,
          3.075620174407959,
          3.055314540863037,
          2.988882064819336,
          2.954603672027588,
          2.904740333557129,
          2.8367998600006104,
          2.7951741218566895,
          2.7724595069885254,
          2.733858585357666,
          2.7006983757019043,
          2.6776740550994873,
          2.6539244651794434,
          2.6335060596466064,
          2.6167099475860596
         ]
        },
        {
         "line": {
          "color": "#DA16FF"
         },
         "mode": "lines",
         "name": "data",
         "type": "scatter",
         "x": [
          0,
          0.0125,
          0.025,
          0.075,
          0.1,
          0.2,
          0.3,
          0.4,
          0.5,
          0.6,
          0.8,
          0.85,
          0.9,
          0.95,
          0.975,
          0.98,
          0.99,
          1,
          1.005,
          1.01,
          1.015,
          1.02
         ],
         "y": [
          3.1859356359314446,
          3.178575335781784,
          3.1604246664070144,
          3.1447103407477455,
          3.126969487656852,
          3.1064684456784777,
          3.083589903624099,
          3.0187450466547303,
          2.991571409653362,
          2.9518403117749075,
          2.8838504417618402,
          2.8268190781409865,
          2.8125077526942994,
          2.779634337145737,
          2.7402900446323954,
          2.7175941091906903,
          2.6923630013318016,
          2.6641677165553346,
          2.6322091003858796
         ]
        },
        {
         "line": {
          "color": "#DA16FF"
         },
         "mode": "markers",
         "name": "prediction",
         "type": "scatter",
         "x": [
          0,
          0.0125,
          0.025,
          0.075,
          0.1,
          0.2,
          0.3,
          0.4,
          0.5,
          0.6,
          0.8,
          0.85,
          0.9,
          0.95,
          0.975,
          0.98,
          0.99,
          1,
          1.005,
          1.01,
          1.015,
          1.02
         ],
         "y": [
          3.174471616744995,
          3.165785074234009,
          3.150825023651123,
          3.1245408058166504,
          3.097447633743286,
          3.074131965637207,
          3.0525145530700684,
          2.98708176612854,
          2.955392360687256,
          2.9077744483947754,
          2.838677406311035,
          2.795361042022705,
          2.7727887630462646,
          2.736987590789795,
          2.704267978668213,
          2.680616855621338,
          2.656035900115967,
          2.634791135787964,
          2.6163430213928223
         ]
        },
        {
         "line": {
          "color": "#AF0038"
         },
         "mode": "lines",
         "name": "data",
         "type": "scatter",
         "x": [
          0,
          0.0125,
          0.025,
          0.075,
          0.1,
          0.2,
          0.3,
          0.4,
          0.5,
          0.6,
          0.8,
          0.85,
          0.9,
          0.95,
          0.975,
          0.98,
          0.99,
          1,
          1.005,
          1.01,
          1.015,
          1.02
         ],
         "y": [
          3.1830088643675176,
          3.1756315842584333,
          3.157592849929265,
          3.1417101395676763,
          3.123773395737163,
          3.102971001271156,
          3.080034775053349,
          3.012478005104362,
          2.9834381818540257,
          2.9395736200760165,
          2.862699928045516,
          2.797649834684325,
          2.781179967174279,
          2.7435674435551682,
          2.698077899300044,
          2.6716538713917717,
          2.6420108154825845,
          2.608322650395717,
          2.569348466116448
         ]
        },
        {
         "line": {
          "color": "#AF0038"
         },
         "mode": "markers",
         "name": "prediction",
         "type": "scatter",
         "x": [
          0,
          0.0125,
          0.025,
          0.075,
          0.1,
          0.2,
          0.3,
          0.4,
          0.5,
          0.6,
          0.8,
          0.85,
          0.9,
          0.95,
          0.975,
          0.98,
          0.99,
          1,
          1.005,
          1.01,
          1.015,
          1.02
         ],
         "y": [
          3.1745285987854004,
          3.165759801864624,
          3.1506690979003906,
          3.1243488788604736,
          3.0978755950927734,
          3.075636148452759,
          3.0484578609466553,
          2.9825997352600098,
          2.9500880241394043,
          2.897057294845581,
          2.814710855484009,
          2.7660341262817383,
          2.7413923740386963,
          2.699971914291382,
          2.6623916625976562,
          2.6347594261169434,
          2.6046133041381836,
          2.5768227577209473,
          2.5520384311676025
         ]
        },
        {
         "line": {
          "color": "#620042"
         },
         "mode": "lines",
         "name": "data",
         "type": "scatter",
         "x": [
          0,
          0.0125,
          0.025,
          0.075,
          0.1,
          0.2,
          0.3,
          0.4,
          0.5,
          0.6,
          0.8,
          0.85,
          0.9,
          0.95,
          0.975,
          0.98,
          0.99,
          1,
          1.005,
          1.01,
          1.015,
          1.02
         ],
         "y": [
          3.1783218921601115,
          3.170801349965857,
          3.152602930202459,
          3.13650509914955,
          3.1184316073805567,
          3.097163560739229,
          3.073396076166767,
          3.0012483353229875,
          2.9691918870280425,
          2.920049304272829,
          2.831404667412555,
          2.7557268406050035,
          2.7364936896492456,
          2.69194222331012,
          2.637925162774718,
          2.605687258011011,
          2.56877724807938,
          2.5259446657442495,
          2.4745296007272533
         ]
        },
        {
         "line": {
          "color": "#620042"
         },
         "mode": "markers",
         "name": "prediction",
         "type": "scatter",
         "x": [
          0,
          0.0125,
          0.025,
          0.075,
          0.1,
          0.2,
          0.3,
          0.4,
          0.5,
          0.6,
          0.8,
          0.85,
          0.9,
          0.95,
          0.975,
          0.98,
          0.99,
          1,
          1.005,
          1.01,
          1.015,
          1.02
         ],
         "y": [
          3.1752381324768066,
          3.166471242904663,
          3.1515135765075684,
          3.1258506774902344,
          3.100660562515259,
          3.0797128677368164,
          3.044412851333618,
          2.97835111618042,
          2.9432618618011475,
          2.8825700283050537,
          2.78063702583313,
          2.7249948978424072,
          2.6970736980438232,
          2.6487061977386475,
          2.6037397384643555,
          2.5689103603363037,
          2.5306830406188965,
          2.494913101196289,
          2.461024761199951
         ]
        },
        {
         "line": {
          "color": "#B2828D"
         },
         "mode": "lines",
         "name": "data",
         "type": "scatter",
         "x": [
          0,
          0.0125,
          0.025,
          0.075,
          0.1,
          0.2,
          0.3,
          0.4,
          0.5,
          0.6,
          0.8,
          0.85,
          0.9,
          0.95,
          0.975,
          0.98,
          0.99,
          1,
          1.005,
          1.01,
          1.015,
          1.02
         ],
         "y": [
          3.183036989813485,
          3.1756808178956453,
          3.1574729593975777,
          3.141386347152886,
          3.1233923629268205,
          3.1025468327241716,
          3.079374413547681,
          3.0103593006781697,
          2.9794417005014657,
          2.931466227808572,
          2.8435446482077933,
          2.768201325411527,
          2.7490070325261344,
          2.7050042587737373,
          2.6507701284547593,
          2.6181523130696713,
          2.5810804068506443,
          2.5377868808293513,
          2.4852384410572705
         ]
        },
        {
         "line": {
          "color": "#B2828D"
         },
         "mode": "markers",
         "name": "prediction",
         "type": "scatter",
         "x": [
          0,
          0.0125,
          0.025,
          0.075,
          0.1,
          0.2,
          0.3,
          0.4,
          0.5,
          0.6,
          0.8,
          0.85,
          0.9,
          0.95,
          0.975,
          0.98,
          0.99,
          1,
          1.005,
          1.01,
          1.015,
          1.02
         ],
         "y": [
          3.1750409603118896,
          3.166074514389038,
          3.1508240699768066,
          3.1254122257232666,
          3.1012001037597656,
          3.0811195373535156,
          3.0436055660247803,
          2.981677293777466,
          2.9488110542297363,
          2.8908443450927734,
          2.786977529525757,
          2.7324116230010986,
          2.7076704502105713,
          2.660693407058716,
          2.6163527965545654,
          2.5818405151367188,
          2.543633460998535,
          2.506892204284668,
          2.4724059104919434
         ]
        },
        {
         "line": {
          "color": "#EB663B"
         },
         "mode": "lines",
         "name": "data",
         "type": "scatter",
         "x": [
          0,
          0.0125,
          0.025,
          0.075,
          0.1,
          0.2,
          0.3,
          0.4,
          0.5,
          0.6,
          0.8,
          0.85,
          0.9,
          0.95,
          0.975,
          0.98,
          0.99,
          1,
          1.005,
          1.01,
          1.015,
          1.02
         ],
         "y": [
          3.1777779341119627,
          3.170077580427977,
          3.1518245432928196,
          3.135725484505823,
          3.117595389783201,
          3.096504921789543,
          3.072440842094995,
          2.9984403549174967,
          2.964049121073166,
          2.9100406017421205,
          2.809135519845539,
          2.7222482199758957,
          2.6997209362062087,
          2.647858082491686,
          2.582152212154712,
          2.541678465645969,
          2.493648871064404,
          2.435476094306936,
          2.361721508112736
         ]
        },
        {
         "line": {
          "color": "#EB663B"
         },
         "mode": "markers",
         "name": "prediction",
         "type": "scatter",
         "x": [
          0,
          0.0125,
          0.025,
          0.075,
          0.1,
          0.2,
          0.3,
          0.4,
          0.5,
          0.6,
          0.8,
          0.85,
          0.9,
          0.95,
          0.975,
          0.98,
          0.99,
          1,
          1.005,
          1.01,
          1.015,
          1.02
         ],
         "y": [
          3.175889492034912,
          3.1668784618377686,
          3.1517629623413086,
          3.1272804737091064,
          3.104447841644287,
          3.085216999053955,
          3.0383520126342773,
          2.979018449783325,
          2.9440088272094727,
          2.8764915466308594,
          2.7464706897735596,
          2.6843924522399902,
          2.655454158782959,
          2.5937585830688477,
          2.539515972137451,
          2.4958457946777344,
          2.446779251098633,
          2.3991081714630127,
          2.3521556854248047
         ]
        },
        {
         "line": {
          "color": "#FB0D0D"
         },
         "mode": "lines",
         "name": "data",
         "type": "scatter",
         "x": [
          0,
          0.0125,
          0.025,
          0.075,
          0.1,
          0.2,
          0.3,
          0.4,
          0.5,
          0.6,
          0.8,
          0.85,
          0.9,
          0.95,
          0.975,
          0.98,
          0.99,
          1,
          1.005,
          1.01,
          1.015,
          1.02
         ],
         "y": [
          3.177479708100913,
          3.1698875217246716,
          3.151547448631612,
          3.135415020439972,
          3.117150209437574,
          3.0960056565652443,
          3.072010419631506,
          2.9967139487379195,
          2.961126511824899,
          2.903920159001191,
          2.796037624674025,
          2.7016048986908494,
          2.67708634282436,
          2.619178100177211,
          2.5440650656961514,
          2.496444092462198,
          2.438376233577948,
          2.3645502456948178,
          2.2753349734797097
         ]
        },
        {
         "line": {
          "color": "#FB0D0D"
         },
         "mode": "markers",
         "name": "prediction",
         "type": "scatter",
         "x": [
          0,
          0.0125,
          0.025,
          0.075,
          0.1,
          0.2,
          0.3,
          0.4,
          0.5,
          0.6,
          0.8,
          0.85,
          0.9,
          0.95,
          0.975,
          0.98,
          0.99,
          1,
          1.005,
          1.01,
          1.015,
          1.02
         ],
         "y": [
          3.1763601303100586,
          3.1673495769500732,
          3.1523325443267822,
          3.1287858486175537,
          3.10715651512146,
          3.088498592376709,
          3.0366272926330566,
          2.980502128601074,
          2.9456186294555664,
          2.8757357597351074,
          2.7329113483428955,
          2.6680421829223633,
          2.6386687755584717,
          2.5678486824035645,
          2.5076324939727783,
          2.4586539268493652,
          2.400578260421753,
          2.341604709625244,
          2.2829766273498535
         ]
        },
        {
         "line": {
          "color": "#0D2A63"
         },
         "mode": "lines",
         "name": "data",
         "type": "scatter",
         "x": [
          0,
          0.0125,
          0.025,
          0.075,
          0.1,
          0.2,
          0.3,
          0.4,
          0.5,
          0.6,
          0.8,
          0.85,
          0.9,
          0.95,
          0.975,
          0.98,
          0.99,
          1,
          1.005,
          1.01,
          1.015,
          1.02
         ],
         "y": [
          3.176494823861818,
          3.1687625564972772,
          3.150454331099812,
          3.134308507709469,
          3.115943012331109,
          3.0946361635958084,
          3.0703074469327776,
          2.9936592783721228,
          2.9564604838298107,
          2.895839311681147,
          2.7790946300517185,
          2.675849045324854,
          2.648702031932156,
          2.5831499452405966,
          2.4947798109780197,
          2.4365054733691927,
          2.361783096548118,
          2.2718763816241894,
          2.1807429430129988
         ]
        },
        {
         "line": {
          "color": "#0D2A63"
         },
         "mode": "markers",
         "name": "prediction",
         "type": "scatter",
         "x": [
          0,
          0.0125,
          0.025,
          0.075,
          0.1,
          0.2,
          0.3,
          0.4,
          0.5,
          0.6,
          0.8,
          0.85,
          0.9,
          0.95,
          0.975,
          0.98,
          0.99,
          1,
          1.005,
          1.01,
          1.015,
          1.02
         ],
         "y": [
          3.1768932342529297,
          3.1678900718688965,
          3.152991533279419,
          3.130432605743408,
          3.109818935394287,
          3.091478109359741,
          3.037874698638916,
          2.981856346130371,
          2.9471170902252197,
          2.875230550765991,
          2.718289613723755,
          2.6490349769592285,
          2.6151065826416016,
          2.5257959365844727,
          2.4571259021759033,
          2.3992583751678467,
          2.32962703704834,
          2.2569754123687744,
          2.1842949390411377
         ]
        },
        {
         "line": {
          "color": "#A777F1"
         },
         "mode": "lines",
         "name": "data",
         "type": "scatter",
         "x": [
          0,
          0.0125,
          0.025,
          0.075,
          0.1,
          0.2,
          0.3,
          0.4,
          0.5,
          0.6,
          0.8,
          0.85,
          0.9,
          0.95,
          0.975,
          0.98,
          0.99,
          1,
          1.005,
          1.01,
          1.015,
          1.02
         ],
         "y": [
          3.1769196162934032,
          3.1692556040580424,
          3.150827466621524,
          3.134689270129155,
          3.116477732836145,
          3.095216772709775,
          3.0708121652363114,
          2.9929735223281027,
          2.9545611093561845,
          2.8907298743259773,
          2.766777308014495,
          2.655470843127623,
          2.6255071897918425,
          2.5521092974753183,
          2.4489740696161046,
          2.3767502644416756,
          2.2866565729679857,
          2.1927892656578094,
          2.0819406867710675
         ]
        },
        {
         "line": {
          "color": "#A777F1"
         },
         "mode": "markers",
         "name": "prediction",
         "type": "scatter",
         "x": [
          0,
          0.0125,
          0.025,
          0.075,
          0.1,
          0.2,
          0.3,
          0.4,
          0.5,
          0.6,
          0.8,
          0.85,
          0.9,
          0.95,
          0.975,
          0.98,
          0.99,
          1,
          1.005,
          1.01,
          1.015,
          1.02
         ],
         "y": [
          3.177326202392578,
          3.1682870388031006,
          3.153512954711914,
          3.1318535804748535,
          3.1120166778564453,
          3.0937631130218506,
          3.041832447052002,
          2.984020233154297,
          2.9494144916534424,
          2.8751330375671387,
          2.7046399116516113,
          2.6316285133361816,
          2.5973353385925293,
          2.494317054748535,
          2.418154239654541,
          2.351381301879883,
          2.2687740325927734,
          2.181333065032959,
          2.1005115509033203
         ]
        }
       ],
       "layout": {
        "template": {
         "data": {
          "bar": [
           {
            "error_x": {
             "color": "#2a3f5f"
            },
            "error_y": {
             "color": "#2a3f5f"
            },
            "marker": {
             "line": {
              "color": "#E5ECF6",
              "width": 0.5
             },
             "pattern": {
              "fillmode": "overlay",
              "size": 10,
              "solidity": 0.2
             }
            },
            "type": "bar"
           }
          ],
          "barpolar": [
           {
            "marker": {
             "line": {
              "color": "#E5ECF6",
              "width": 0.5
             },
             "pattern": {
              "fillmode": "overlay",
              "size": 10,
              "solidity": 0.2
             }
            },
            "type": "barpolar"
           }
          ],
          "carpet": [
           {
            "aaxis": {
             "endlinecolor": "#2a3f5f",
             "gridcolor": "white",
             "linecolor": "white",
             "minorgridcolor": "white",
             "startlinecolor": "#2a3f5f"
            },
            "baxis": {
             "endlinecolor": "#2a3f5f",
             "gridcolor": "white",
             "linecolor": "white",
             "minorgridcolor": "white",
             "startlinecolor": "#2a3f5f"
            },
            "type": "carpet"
           }
          ],
          "choropleth": [
           {
            "colorbar": {
             "outlinewidth": 0,
             "ticks": ""
            },
            "type": "choropleth"
           }
          ],
          "contour": [
           {
            "colorbar": {
             "outlinewidth": 0,
             "ticks": ""
            },
            "colorscale": [
             [
              0,
              "#0d0887"
             ],
             [
              0.1111111111111111,
              "#46039f"
             ],
             [
              0.2222222222222222,
              "#7201a8"
             ],
             [
              0.3333333333333333,
              "#9c179e"
             ],
             [
              0.4444444444444444,
              "#bd3786"
             ],
             [
              0.5555555555555556,
              "#d8576b"
             ],
             [
              0.6666666666666666,
              "#ed7953"
             ],
             [
              0.7777777777777778,
              "#fb9f3a"
             ],
             [
              0.8888888888888888,
              "#fdca26"
             ],
             [
              1,
              "#f0f921"
             ]
            ],
            "type": "contour"
           }
          ],
          "contourcarpet": [
           {
            "colorbar": {
             "outlinewidth": 0,
             "ticks": ""
            },
            "type": "contourcarpet"
           }
          ],
          "heatmap": [
           {
            "colorbar": {
             "outlinewidth": 0,
             "ticks": ""
            },
            "colorscale": [
             [
              0,
              "#0d0887"
             ],
             [
              0.1111111111111111,
              "#46039f"
             ],
             [
              0.2222222222222222,
              "#7201a8"
             ],
             [
              0.3333333333333333,
              "#9c179e"
             ],
             [
              0.4444444444444444,
              "#bd3786"
             ],
             [
              0.5555555555555556,
              "#d8576b"
             ],
             [
              0.6666666666666666,
              "#ed7953"
             ],
             [
              0.7777777777777778,
              "#fb9f3a"
             ],
             [
              0.8888888888888888,
              "#fdca26"
             ],
             [
              1,
              "#f0f921"
             ]
            ],
            "type": "heatmap"
           }
          ],
          "heatmapgl": [
           {
            "colorbar": {
             "outlinewidth": 0,
             "ticks": ""
            },
            "colorscale": [
             [
              0,
              "#0d0887"
             ],
             [
              0.1111111111111111,
              "#46039f"
             ],
             [
              0.2222222222222222,
              "#7201a8"
             ],
             [
              0.3333333333333333,
              "#9c179e"
             ],
             [
              0.4444444444444444,
              "#bd3786"
             ],
             [
              0.5555555555555556,
              "#d8576b"
             ],
             [
              0.6666666666666666,
              "#ed7953"
             ],
             [
              0.7777777777777778,
              "#fb9f3a"
             ],
             [
              0.8888888888888888,
              "#fdca26"
             ],
             [
              1,
              "#f0f921"
             ]
            ],
            "type": "heatmapgl"
           }
          ],
          "histogram": [
           {
            "marker": {
             "pattern": {
              "fillmode": "overlay",
              "size": 10,
              "solidity": 0.2
             }
            },
            "type": "histogram"
           }
          ],
          "histogram2d": [
           {
            "colorbar": {
             "outlinewidth": 0,
             "ticks": ""
            },
            "colorscale": [
             [
              0,
              "#0d0887"
             ],
             [
              0.1111111111111111,
              "#46039f"
             ],
             [
              0.2222222222222222,
              "#7201a8"
             ],
             [
              0.3333333333333333,
              "#9c179e"
             ],
             [
              0.4444444444444444,
              "#bd3786"
             ],
             [
              0.5555555555555556,
              "#d8576b"
             ],
             [
              0.6666666666666666,
              "#ed7953"
             ],
             [
              0.7777777777777778,
              "#fb9f3a"
             ],
             [
              0.8888888888888888,
              "#fdca26"
             ],
             [
              1,
              "#f0f921"
             ]
            ],
            "type": "histogram2d"
           }
          ],
          "histogram2dcontour": [
           {
            "colorbar": {
             "outlinewidth": 0,
             "ticks": ""
            },
            "colorscale": [
             [
              0,
              "#0d0887"
             ],
             [
              0.1111111111111111,
              "#46039f"
             ],
             [
              0.2222222222222222,
              "#7201a8"
             ],
             [
              0.3333333333333333,
              "#9c179e"
             ],
             [
              0.4444444444444444,
              "#bd3786"
             ],
             [
              0.5555555555555556,
              "#d8576b"
             ],
             [
              0.6666666666666666,
              "#ed7953"
             ],
             [
              0.7777777777777778,
              "#fb9f3a"
             ],
             [
              0.8888888888888888,
              "#fdca26"
             ],
             [
              1,
              "#f0f921"
             ]
            ],
            "type": "histogram2dcontour"
           }
          ],
          "mesh3d": [
           {
            "colorbar": {
             "outlinewidth": 0,
             "ticks": ""
            },
            "type": "mesh3d"
           }
          ],
          "parcoords": [
           {
            "line": {
             "colorbar": {
              "outlinewidth": 0,
              "ticks": ""
             }
            },
            "type": "parcoords"
           }
          ],
          "pie": [
           {
            "automargin": true,
            "type": "pie"
           }
          ],
          "scatter": [
           {
            "fillpattern": {
             "fillmode": "overlay",
             "size": 10,
             "solidity": 0.2
            },
            "type": "scatter"
           }
          ],
          "scatter3d": [
           {
            "line": {
             "colorbar": {
              "outlinewidth": 0,
              "ticks": ""
             }
            },
            "marker": {
             "colorbar": {
              "outlinewidth": 0,
              "ticks": ""
             }
            },
            "type": "scatter3d"
           }
          ],
          "scattercarpet": [
           {
            "marker": {
             "colorbar": {
              "outlinewidth": 0,
              "ticks": ""
             }
            },
            "type": "scattercarpet"
           }
          ],
          "scattergeo": [
           {
            "marker": {
             "colorbar": {
              "outlinewidth": 0,
              "ticks": ""
             }
            },
            "type": "scattergeo"
           }
          ],
          "scattergl": [
           {
            "marker": {
             "colorbar": {
              "outlinewidth": 0,
              "ticks": ""
             }
            },
            "type": "scattergl"
           }
          ],
          "scattermapbox": [
           {
            "marker": {
             "colorbar": {
              "outlinewidth": 0,
              "ticks": ""
             }
            },
            "type": "scattermapbox"
           }
          ],
          "scatterpolar": [
           {
            "marker": {
             "colorbar": {
              "outlinewidth": 0,
              "ticks": ""
             }
            },
            "type": "scatterpolar"
           }
          ],
          "scatterpolargl": [
           {
            "marker": {
             "colorbar": {
              "outlinewidth": 0,
              "ticks": ""
             }
            },
            "type": "scatterpolargl"
           }
          ],
          "scatterternary": [
           {
            "marker": {
             "colorbar": {
              "outlinewidth": 0,
              "ticks": ""
             }
            },
            "type": "scatterternary"
           }
          ],
          "surface": [
           {
            "colorbar": {
             "outlinewidth": 0,
             "ticks": ""
            },
            "colorscale": [
             [
              0,
              "#0d0887"
             ],
             [
              0.1111111111111111,
              "#46039f"
             ],
             [
              0.2222222222222222,
              "#7201a8"
             ],
             [
              0.3333333333333333,
              "#9c179e"
             ],
             [
              0.4444444444444444,
              "#bd3786"
             ],
             [
              0.5555555555555556,
              "#d8576b"
             ],
             [
              0.6666666666666666,
              "#ed7953"
             ],
             [
              0.7777777777777778,
              "#fb9f3a"
             ],
             [
              0.8888888888888888,
              "#fdca26"
             ],
             [
              1,
              "#f0f921"
             ]
            ],
            "type": "surface"
           }
          ],
          "table": [
           {
            "cells": {
             "fill": {
              "color": "#EBF0F8"
             },
             "line": {
              "color": "white"
             }
            },
            "header": {
             "fill": {
              "color": "#C8D4E3"
             },
             "line": {
              "color": "white"
             }
            },
            "type": "table"
           }
          ]
         },
         "layout": {
          "annotationdefaults": {
           "arrowcolor": "#2a3f5f",
           "arrowhead": 0,
           "arrowwidth": 1
          },
          "autotypenumbers": "strict",
          "coloraxis": {
           "colorbar": {
            "outlinewidth": 0,
            "ticks": ""
           }
          },
          "colorscale": {
           "diverging": [
            [
             0,
             "#8e0152"
            ],
            [
             0.1,
             "#c51b7d"
            ],
            [
             0.2,
             "#de77ae"
            ],
            [
             0.3,
             "#f1b6da"
            ],
            [
             0.4,
             "#fde0ef"
            ],
            [
             0.5,
             "#f7f7f7"
            ],
            [
             0.6,
             "#e6f5d0"
            ],
            [
             0.7,
             "#b8e186"
            ],
            [
             0.8,
             "#7fbc41"
            ],
            [
             0.9,
             "#4d9221"
            ],
            [
             1,
             "#276419"
            ]
           ],
           "sequential": [
            [
             0,
             "#0d0887"
            ],
            [
             0.1111111111111111,
             "#46039f"
            ],
            [
             0.2222222222222222,
             "#7201a8"
            ],
            [
             0.3333333333333333,
             "#9c179e"
            ],
            [
             0.4444444444444444,
             "#bd3786"
            ],
            [
             0.5555555555555556,
             "#d8576b"
            ],
            [
             0.6666666666666666,
             "#ed7953"
            ],
            [
             0.7777777777777778,
             "#fb9f3a"
            ],
            [
             0.8888888888888888,
             "#fdca26"
            ],
            [
             1,
             "#f0f921"
            ]
           ],
           "sequentialminus": [
            [
             0,
             "#0d0887"
            ],
            [
             0.1111111111111111,
             "#46039f"
            ],
            [
             0.2222222222222222,
             "#7201a8"
            ],
            [
             0.3333333333333333,
             "#9c179e"
            ],
            [
             0.4444444444444444,
             "#bd3786"
            ],
            [
             0.5555555555555556,
             "#d8576b"
            ],
            [
             0.6666666666666666,
             "#ed7953"
            ],
            [
             0.7777777777777778,
             "#fb9f3a"
            ],
            [
             0.8888888888888888,
             "#fdca26"
            ],
            [
             1,
             "#f0f921"
            ]
           ]
          },
          "colorway": [
           "#636efa",
           "#EF553B",
           "#00cc96",
           "#ab63fa",
           "#FFA15A",
           "#19d3f3",
           "#FF6692",
           "#B6E880",
           "#FF97FF",
           "#FECB52"
          ],
          "font": {
           "color": "#2a3f5f"
          },
          "geo": {
           "bgcolor": "white",
           "lakecolor": "white",
           "landcolor": "#E5ECF6",
           "showlakes": true,
           "showland": true,
           "subunitcolor": "white"
          },
          "hoverlabel": {
           "align": "left"
          },
          "hovermode": "closest",
          "mapbox": {
           "style": "light"
          },
          "paper_bgcolor": "white",
          "plot_bgcolor": "#E5ECF6",
          "polar": {
           "angularaxis": {
            "gridcolor": "white",
            "linecolor": "white",
            "ticks": ""
           },
           "bgcolor": "#E5ECF6",
           "radialaxis": {
            "gridcolor": "white",
            "linecolor": "white",
            "ticks": ""
           }
          },
          "scene": {
           "xaxis": {
            "backgroundcolor": "#E5ECF6",
            "gridcolor": "white",
            "gridwidth": 2,
            "linecolor": "white",
            "showbackground": true,
            "ticks": "",
            "zerolinecolor": "white"
           },
           "yaxis": {
            "backgroundcolor": "#E5ECF6",
            "gridcolor": "white",
            "gridwidth": 2,
            "linecolor": "white",
            "showbackground": true,
            "ticks": "",
            "zerolinecolor": "white"
           },
           "zaxis": {
            "backgroundcolor": "#E5ECF6",
            "gridcolor": "white",
            "gridwidth": 2,
            "linecolor": "white",
            "showbackground": true,
            "ticks": "",
            "zerolinecolor": "white"
           }
          },
          "shapedefaults": {
           "line": {
            "color": "#2a3f5f"
           }
          },
          "ternary": {
           "aaxis": {
            "gridcolor": "white",
            "linecolor": "white",
            "ticks": ""
           },
           "baxis": {
            "gridcolor": "white",
            "linecolor": "white",
            "ticks": ""
           },
           "bgcolor": "#E5ECF6",
           "caxis": {
            "gridcolor": "white",
            "linecolor": "white",
            "ticks": ""
           }
          },
          "title": {
           "x": 0.05
          },
          "xaxis": {
           "automargin": true,
           "gridcolor": "white",
           "linecolor": "white",
           "ticks": "",
           "title": {
            "standoff": 15
           },
           "zerolinecolor": "white",
           "zerolinewidth": 2
          },
          "yaxis": {
           "automargin": true,
           "gridcolor": "white",
           "linecolor": "white",
           "ticks": "",
           "title": {
            "standoff": 15
           },
           "zerolinecolor": "white",
           "zerolinewidth": 2
          }
         }
        },
        "xaxis": {
         "title": {
          "text": "Capacity [Ah]"
         }
        },
        "yaxis": {
         "title": {
          "text": "Voltage [V]"
         }
        }
       }
      }
     },
     "metadata": {},
     "output_type": "display_data"
    }
   ],
   "source": [
    "fig = go.Figure()\n",
    "for i in range(0, len(X_test), batch_size):\n",
    "    V_actual = y_test[i:i+batch_size]\n",
    "    V_pred = model.predict(X_test[i:i+batch_size],verbose=0).flatten()\n",
    "    fig.add_trace(go.Scatter(x = Q_eval, y = V_actual*(3.5-1.9)+1.9, \n",
    "                             mode='lines', name = 'data', \n",
    "                             line_color = pallete[i]))\n",
    "    fig.add_trace(go.Scatter(x = Q_eval, y = V_pred*(3.5-1.9)+1.9,\n",
    "                             mode='markers', name = 'prediction', \n",
    "                             line_color = pallete[i]))\n",
    "fig.update_yaxes(title=\"Voltage [V]\")\n",
    "fig.update_xaxes(title=\"Capacity [Ah]\")"
   ]
  },
  {
   "cell_type": "code",
   "execution_count": null,
   "id": "0079d655",
   "metadata": {},
   "outputs": [],
   "source": []
  },
  {
   "cell_type": "code",
   "execution_count": null,
   "id": "50dc69b6",
   "metadata": {},
   "outputs": [],
   "source": []
  },
  {
   "cell_type": "code",
   "execution_count": null,
   "id": "b3bcc9cf",
   "metadata": {},
   "outputs": [],
   "source": []
  }
 ],
 "metadata": {
  "kernelspec": {
   "display_name": "Python 3.10.6 ('10701')",
   "language": "python",
   "name": "python3"
  },
  "language_info": {
   "codemirror_mode": {
    "name": "ipython",
    "version": 3
   },
   "file_extension": ".py",
   "mimetype": "text/x-python",
   "name": "python",
   "nbconvert_exporter": "python",
   "pygments_lexer": "ipython3",
   "version": "3.10.6"
  },
  "vscode": {
   "interpreter": {
    "hash": "63dcb1742ad588d72fa93718ba23fdbf2e75f9bb2496cf77f8dc8d00f14cc3b8"
   }
  }
 },
 "nbformat": 4,
 "nbformat_minor": 5
}
